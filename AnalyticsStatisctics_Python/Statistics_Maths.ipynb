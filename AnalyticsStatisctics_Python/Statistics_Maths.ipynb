{
 "cells": [
  {
   "cell_type": "markdown",
   "metadata": {},
   "source": [
    "# Bayes Theorm"
   ]
  },
  {
   "cell_type": "code",
   "execution_count": 1,
   "metadata": {},
   "outputs": [
    {
     "name": "stdout",
     "output_type": "stream",
     "text": [
      "0.9777777777777777\n"
     ]
    }
   ],
   "source": [
    "from sklearn.datasets import load_iris\n",
    "from sklearn.model_selection import train_test_split\n",
    "from sklearn.naive_bayes import GaussianNB\n",
    "from sklearn.metrics import accuracy_score\n",
    "iris=load_iris()\n",
    "X=iris.data\n",
    "y=iris.target\n",
    "X_train,x_test,Y_train,y_test=train_test_split(X,y,test_size=0.3,random_state=42)\n",
    "classifier_nb=GaussianNB()\n",
    "classifier_nb.fit(X_train,Y_train)\n",
    "y_pred=classifier_nb.predict(x_test)\n",
    "accuracy=accuracy_score(y_test,y_pred)\n",
    "print(accuracy)"
   ]
  },
  {
   "cell_type": "markdown",
   "metadata": {},
   "source": [
    "# Covariance and Corelation"
   ]
  },
  {
   "cell_type": "code",
   "execution_count": 5,
   "metadata": {},
   "outputs": [
    {
     "name": "stdout",
     "output_type": "stream",
     "text": [
      "          c1        c2\n",
      "0   0.912059  0.631864\n",
      "1  -1.570184 -1.228034\n",
      "2  -0.345871 -0.589624\n",
      "3  -0.916646 -0.000422\n",
      "4   1.161469  1.157742\n",
      "..       ...       ...\n",
      "95 -1.019006 -0.407390\n",
      "96 -0.629806  1.673169\n",
      "97  0.473041  0.530839\n",
      "98  1.308292 -0.160049\n",
      "99  0.044846  1.222095\n",
      "\n",
      "[100 rows x 2 columns]\n",
      "Covariance :\n",
      " [[0.91979747 0.21790554]\n",
      " [0.21790554 0.98928814]]\n",
      "Correlation :\n",
      " [[1.         0.22843401]\n",
      " [0.22843401 1.        ]]\n"
     ]
    },
    {
     "data": {
      "text/plain": [
       "[]"
      ]
     },
     "execution_count": 5,
     "metadata": {},
     "output_type": "execute_result"
    },
    {
     "data": {
      "image/png": "[encoded data removed]",
      "text/plain": [
       "<Figure size 640x480 with 1 Axes>"
      ]
     },
     "metadata": {},
     "output_type": "display_data"
    }
   ],
   "source": [
    "import pandas as pd\n",
    "import numpy as np\n",
    "import matplotlib.pyplot as plt\n",
    "data=pd.DataFrame(np.random.randn(100,2),columns=[\"c1\",\"c2\"])\n",
    "print(data)\n",
    "cov_matrix=np.cov(data[\"c1\"],data[\"c2\"])\n",
    "print(\"Covariance :\\n\",cov_matrix)\n",
    "cor_matrix=np.corrcoef(data[\"c1\"],data[\"c2\"])\n",
    "print(\"Correlation :\\n\",cor_matrix)\n",
    "plt.bar(range(len(data[\"c1\"])),data[\"c1\"])\n",
    "plt.bar(range(len(data[\"c2\"])),data[\"c2\"])\n",
    "plt.legend([\"c1\",\"c2\"])\n",
    "plt.grid(axis='both')\n",
    "plt.plot()"
   ]
  }
 ],
 "metadata": {
  "kernelspec": {
   "display_name": "base",
   "language": "python",
   "name": "python3"
  },
  "language_info": {
   "codemirror_mode": {
    "name": "ipython",
    "version": 3
   },
   "file_extension": ".py",
   "mimetype": "text/x-python",
   "name": "python",
   "nbconvert_exporter": "python",
   "pygments_lexer": "ipython3",
   "version": "3.11.4"
  }
 },
 "nbformat": 4,
 "nbformat_minor": 2
}
