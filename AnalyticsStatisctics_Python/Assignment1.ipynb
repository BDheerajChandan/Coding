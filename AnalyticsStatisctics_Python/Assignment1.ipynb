{
  "cells": [
    {
      "cell_type": "markdown",
      "metadata": {
        "id": "O_jKprtLGk-h"
      },
      "source": [
        "# Name : B.Dheeraj Chandan ; PRN : ..25017 ; Statistics Assignment-1"
      ]
    },
    {
      "cell_type": "markdown",
      "metadata": {
        "id": "wYJThqOBGlly"
      },
      "source": [
        "Assignment1: Perform ETL operation on the given data\n",
        "\n"
      ]
    },
    {
      "cell_type": "code",
      "execution_count": 60,
      "metadata": {
        "colab": {
          "base_uri": "https://localhost:8080/"
        },
        "id": "aK5qVBzFHjmQ",
        "outputId": "83cc07fb-d6c9-4008-9cdc-bf6240896ce2"
      },
      "outputs": [
        {
          "data": {
            "text/plain": [
              "<pandas._config.config.option_context at 0x1dd6ef8ff90>"
            ]
          },
          "execution_count": 60,
          "metadata": {},
          "output_type": "execute_result"
        }
      ],
      "source": [
        "import warnings\n",
        "warnings.filterwarnings('ignore')\n",
        "# Setting precision level to 4 to show only upto 4 decimal points\n",
        "import pandas as pd\n",
        "pd.option_context('display.precision', 4) "
      ]
    },
    {
      "cell_type": "markdown",
      "metadata": {
        "id": "wj7tXayPHo99"
      },
      "source": [
        "Task1:Load both stocks data1 from the given healthdrink file"
      ]
    },
    {
      "cell_type": "code",
      "execution_count": 61,
      "metadata": {
        "id": "r8tPeYhEH7Bc"
      },
      "outputs": [
        {
          "name": "stdout",
          "output_type": "stream",
          "text": [
            "HealthDrink No :\n",
            "     height_increase\n",
            "0               5.3\n",
            "1               9.0\n",
            "2               5.7\n",
            "3               5.5\n",
            "4               5.4\n",
            "..              ...\n",
            "75              4.4\n",
            "76              5.3\n",
            "77              6.2\n",
            "78              7.4\n",
            "79              4.2\n",
            "\n",
            "[80 rows x 1 columns]\n",
            "**************************************************\n",
            "HealthDrink Yes :\n",
            "     height_increase\n",
            "0               8.6\n",
            "1               5.8\n",
            "2              10.2\n",
            "3               8.5\n",
            "4               6.8\n",
            "..              ...\n",
            "74              6.5\n",
            "75              8.1\n",
            "76              7.2\n",
            "77              8.8\n",
            "78              9.8\n",
            "\n",
            "[79 rows x 1 columns]\n"
          ]
        }
      ],
      "source": [
        "#Write here code\n",
        "import pandas as pd\n",
        "data=pd.read_excel(\"healthdrink.xlsx\",sheet_name=[\"healthdrink_yes\",\"healthdrink_no\"])\n",
        "hd_yes=data[\"healthdrink_yes\"]\n",
        "hd_no=data[\"healthdrink_no\"]\n",
        "print(\"HealthDrink No :\\n\",hd_no)\n",
        "print(\"*\"*50)\n",
        "print(\"HealthDrink Yes :\\n\",hd_yes)"
      ]
    },
    {
      "cell_type": "markdown",
      "metadata": {
        "id": "IQAFfyGNH77k"
      },
      "source": [
        "Task2:Identify the feature vector from the given file, and write the python code to keep that only in the data frame\n"
      ]
    },
    {
      "cell_type": "code",
      "execution_count": 1,
      "metadata": {
        "id": "RAlekrE3Ibpt"
      },
      "outputs": [
        {
          "name": "stdout",
          "output_type": "stream",
          "text": [
            "<class 'pandas.core.frame.DataFrame'> \n",
            " <class 'pandas.core.frame.DataFrame'>\n"
          ]
        }
      ],
      "source": [
        "#write code\n",
        "import pandas as pd\n",
        "glaxo_data=pd.read_csv(\"GLAXO.csv\")\n",
        "beml_data=pd.read_csv(\"BEML.csv\")\n",
        "glaxo_featureVector=glaxo_data[[\"Date\",\"Close\"]]\n",
        "beml_featureVector=beml_data[[\"Date\",\"Close\"]]\n",
        "glaxo_featureVector_df=pd.DataFrame(glaxo_featureVector)\n",
        "beml_featureVector_df=pd.DataFrame(beml_featureVector)\n",
        "print(type(beml_featureVector_df),'\\n',type(beml_featureVector_df))"
      ]
    },
    {
      "cell_type": "markdown",
      "metadata": {
        "id": "oNj4eGNaIdwk"
      },
      "source": [
        "Task3: Perform data transformation operation on time variable"
      ]
    },
    {
      "cell_type": "code",
      "execution_count": 63,
      "metadata": {
        "id": "QWl7oknhIphr"
      },
      "outputs": [
        {
          "name": "stdout",
          "output_type": "stream",
          "text": [
            "                  Date     Open     High      Low     Last    Close  \\\n",
            "Date                                                                  \n",
            "2010-01-04  2010-01-04  1121.00  1151.00  1121.00  1134.00  1135.60   \n",
            "2010-01-05  2010-01-05  1146.80  1149.00  1128.75  1135.00  1134.60   \n",
            "2010-01-06  2010-01-06  1140.00  1164.25  1130.05  1137.00  1139.60   \n",
            "2010-01-07  2010-01-07  1142.00  1159.40  1119.20  1141.00  1144.15   \n",
            "2010-01-08  2010-01-08  1156.00  1172.00  1140.00  1141.20  1144.05   \n",
            "...                ...      ...      ...      ...      ...      ...   \n",
            "2016-12-26  2016-12-26   965.00   965.05   935.00   950.10   950.25   \n",
            "2016-12-27  2016-12-27   960.70   989.00   952.35   974.00   975.70   \n",
            "2016-12-28  2016-12-28   980.75   985.00   970.15   977.00   974.40   \n",
            "2016-12-29  2016-12-29   977.10   997.95   974.55   985.15   986.05   \n",
            "2016-12-30  2016-12-30   986.00  1006.95   985.90  1004.00  1000.60   \n",
            "\n",
            "            Total Trade Quantity  Turnover (Lacs)  \n",
            "Date                                               \n",
            "2010-01-04              101651.0          1157.18  \n",
            "2010-01-05               59504.0           676.47  \n",
            "2010-01-06              128908.0          1482.84  \n",
            "2010-01-07              117871.0          1352.98  \n",
            "2010-01-08              170063.0          1971.42  \n",
            "...                          ...              ...  \n",
            "2016-12-26              398696.0          3783.63  \n",
            "2016-12-27              808561.0          7885.14  \n",
            "2016-12-28              367041.0          3592.49  \n",
            "2016-12-29              555233.0          5489.14  \n",
            "2016-12-30              460675.0          4606.48  \n",
            "\n",
            "[1739 rows x 8 columns]\n",
            "**************************************************\n",
            "                  Date     Open     High      Low     Last    Close  \\\n",
            "Date                                                                  \n",
            "2010-01-04  2010-01-04  1121.00  1151.00  1121.00  1134.00  1135.60   \n",
            "2010-01-05  2010-01-05  1146.80  1149.00  1128.75  1135.00  1134.60   \n",
            "2010-01-06  2010-01-06  1140.00  1164.25  1130.05  1137.00  1139.60   \n",
            "2010-01-07  2010-01-07  1142.00  1159.40  1119.20  1141.00  1144.15   \n",
            "2010-01-08  2010-01-08  1156.00  1172.00  1140.00  1141.20  1144.05   \n",
            "...                ...      ...      ...      ...      ...      ...   \n",
            "2016-12-26  2016-12-26   965.00   965.05   935.00   950.10   950.25   \n",
            "2016-12-27  2016-12-27   960.70   989.00   952.35   974.00   975.70   \n",
            "2016-12-28  2016-12-28   980.75   985.00   970.15   977.00   974.40   \n",
            "2016-12-29  2016-12-29   977.10   997.95   974.55   985.15   986.05   \n",
            "2016-12-30  2016-12-30   986.00  1006.95   985.90  1004.00  1000.60   \n",
            "\n",
            "            Total Trade Quantity  Turnover (Lacs)  \n",
            "Date                                               \n",
            "2010-01-04              101651.0          1157.18  \n",
            "2010-01-05               59504.0           676.47  \n",
            "2010-01-06              128908.0          1482.84  \n",
            "2010-01-07              117871.0          1352.98  \n",
            "2010-01-08              170063.0          1971.42  \n",
            "...                          ...              ...  \n",
            "2016-12-26              398696.0          3783.63  \n",
            "2016-12-27              808561.0          7885.14  \n",
            "2016-12-28              367041.0          3592.49  \n",
            "2016-12-29              555233.0          5489.14  \n",
            "2016-12-30              460675.0          4606.48  \n",
            "\n",
            "[1739 rows x 8 columns]\n"
          ]
        }
      ],
      "source": [
        "#write code here\n",
        "import pandas as pd\n",
        "glaxo_data=pd.read_csv(\"GLAXO.csv\")\n",
        "beml_data=pd.read_csv(\"BEML.csv\")\n",
        "glaxo_data=glaxo_data.set_index(pd.DatetimeIndex(glaxo_data[\"Date\"]))\n",
        "beml_data=beml_data.set_index(pd.DatetimeIndex(beml_data[\"Date\"]))\n",
        "print(beml_data)\n",
        "print(\"*\"*50)\n",
        "print(beml_data)"
      ]
    },
    {
      "cell_type": "markdown",
      "metadata": {
        "id": "Our4ycFrIr_j"
      },
      "source": [
        "Tasks4:Calculate gain of Close price of both stock"
      ]
    },
    {
      "cell_type": "code",
      "execution_count": 64,
      "metadata": {
        "id": "SMoz-hmSI3Tz"
      },
      "outputs": [
        {
          "name": "stdout",
          "output_type": "stream",
          "text": [
            "0            NaN\n",
            "1      -0.005444\n",
            "2       0.013422\n",
            "3       0.006225\n",
            "4      -0.005398\n",
            "          ...   \n",
            "1734   -0.001283\n",
            "1735   -0.007986\n",
            "1736    0.000148\n",
            "1737    0.009529\n",
            "1738    0.000697\n",
            "Name: Gain, Length: 1739, dtype: float64\n",
            "**************************************************\n",
            "0            NaN\n",
            "1      -0.000881\n",
            "2       0.004407\n",
            "3       0.003993\n",
            "4      -0.000087\n",
            "          ...   \n",
            "1734   -0.021924\n",
            "1735    0.026782\n",
            "1736   -0.001332\n",
            "1737    0.011956\n",
            "1738    0.014756\n",
            "Name: Gain, Length: 1739, dtype: float64\n"
          ]
        }
      ],
      "source": [
        "#Write code here\n",
        "import pandas as pd\n",
        "glaxo_data=pd.read_csv(\"GLAXO.csv\")\n",
        "beml_data=pd.read_csv(\"BEML.csv\")\n",
        "#print(glaxo_data[\"Close\"])\n",
        "#print(\"*\"*50)\n",
        "#print(beml_data[\"Close\"])\n",
        "glaxo_data[\"Gain\"]=glaxo_data[\"Close\"].pct_change(periods=1)\n",
        "beml_data[\"Gain\"]=beml_data[\"Close\"].pct_change(periods=1)\n",
        "print(glaxo_data[\"Gain\"])\n",
        "print(\"*\"*50)\n",
        "print(beml_data[\"Gain\"])"
      ]
    },
    {
      "cell_type": "markdown",
      "metadata": {
        "id": "LunDFAJII5fU"
      },
      "source": [
        "Task5: identify Null in the gain of close variable and remove null"
      ]
    },
    {
      "cell_type": "code",
      "execution_count": 65,
      "metadata": {
        "id": "ubLzX952JGcK"
      },
      "outputs": [
        {
          "name": "stdout",
          "output_type": "stream",
          "text": [
            "            Date     Open     High      Low    Last    Close  \\\n",
            "1     2010-01-05  1639.95  1639.95  1611.05  1620.0  1616.80   \n",
            "2     2010-01-06  1618.00  1644.00  1617.00  1639.0  1638.50   \n",
            "3     2010-01-07  1645.00  1654.00  1636.00  1648.0  1648.70   \n",
            "4     2010-01-08  1650.00  1650.00  1626.55  1640.0  1639.80   \n",
            "5     2010-01-11  1659.00  1694.95  1601.05  1630.0  1629.45   \n",
            "...          ...      ...      ...      ...     ...      ...   \n",
            "1734  2016-12-26  2703.00  2740.00  2677.00  2715.0  2723.50   \n",
            "1735  2016-12-27  2722.95  2725.00  2683.00  2692.0  2701.75   \n",
            "1736  2016-12-28  2701.75  2718.00  2690.00  2698.0  2702.15   \n",
            "1737  2016-12-29  2702.05  2739.00  2691.95  2710.0  2727.90   \n",
            "1738  2016-12-30  2730.00  2740.45  2705.00  2730.0  2729.80   \n",
            "\n",
            "      Total Trade Quantity  Turnover (Lacs)      Gain  \n",
            "1                  38148.0           622.58 -0.005444  \n",
            "2                  36519.0           595.09  0.013422  \n",
            "3                  12809.0           211.00  0.006225  \n",
            "4                  28035.0           459.11 -0.005398  \n",
            "5                  10566.0           173.40 -0.006312  \n",
            "...                    ...              ...       ...  \n",
            "1734                3953.0           107.15 -0.001283  \n",
            "1735               10600.0           286.10 -0.007986  \n",
            "1736                6050.0           163.44  0.000148  \n",
            "1737                7649.0           207.87  0.009529  \n",
            "1738                6513.0           177.65  0.000697  \n",
            "\n",
            "[1738 rows x 9 columns]\n",
            "**************************************************\n",
            "            Date     Open     High      Low     Last    Close  \\\n",
            "1     2010-01-05  1146.80  1149.00  1128.75  1135.00  1134.60   \n",
            "2     2010-01-06  1140.00  1164.25  1130.05  1137.00  1139.60   \n",
            "3     2010-01-07  1142.00  1159.40  1119.20  1141.00  1144.15   \n",
            "4     2010-01-08  1156.00  1172.00  1140.00  1141.20  1144.05   \n",
            "5     2010-01-11  1154.00  1159.45  1134.10  1140.10  1137.00   \n",
            "...          ...      ...      ...      ...      ...      ...   \n",
            "1734  2016-12-26   965.00   965.05   935.00   950.10   950.25   \n",
            "1735  2016-12-27   960.70   989.00   952.35   974.00   975.70   \n",
            "1736  2016-12-28   980.75   985.00   970.15   977.00   974.40   \n",
            "1737  2016-12-29   977.10   997.95   974.55   985.15   986.05   \n",
            "1738  2016-12-30   986.00  1006.95   985.90  1004.00  1000.60   \n",
            "\n",
            "      Total Trade Quantity  Turnover (Lacs)      Gain  \n",
            "1                  59504.0           676.47 -0.000881  \n",
            "2                 128908.0          1482.84  0.004407  \n",
            "3                 117871.0          1352.98  0.003993  \n",
            "4                 170063.0          1971.42 -0.000087  \n",
            "5                  58910.0           674.55 -0.006162  \n",
            "...                    ...              ...       ...  \n",
            "1734              398696.0          3783.63 -0.021924  \n",
            "1735              808561.0          7885.14  0.026782  \n",
            "1736              367041.0          3592.49 -0.001332  \n",
            "1737              555233.0          5489.14  0.011956  \n",
            "1738              460675.0          4606.48  0.014756  \n",
            "\n",
            "[1738 rows x 9 columns]\n"
          ]
        }
      ],
      "source": [
        "#Write code here\n",
        "import pandas as pd\n",
        "glaxo_data=pd.read_csv(\"GLAXO.csv\")\n",
        "beml_data=pd.read_csv(\"BEML.csv\")\n",
        "#print(glaxo_data[\"Close\"])\n",
        "#print(\"*\"*50)\n",
        "#print(beml_data[\"Close\"])\n",
        "glaxo_data[\"Gain\"]=glaxo_data[\"Close\"].pct_change(periods=1)\n",
        "beml_data[\"Gain\"]=beml_data[\"Close\"].pct_change(periods=1)\n",
        "\n",
        "glaxo_data.dropna(inplace=True)\n",
        "beml_data.dropna(inplace=True)\n",
        "print(glaxo_data)\n",
        "print(\"*\"*50)\n",
        "print(beml_data)"
      ]
    },
    {
      "cell_type": "markdown",
      "metadata": {
        "id": "j8SPZ_XaJWFK"
      },
      "source": [
        "Task6: Make a new detination file(NewGlaxo.csv) and load the created data frame"
      ]
    },
    {
      "cell_type": "code",
      "execution_count": 66,
      "metadata": {
        "id": "8itGyu3oJXfw"
      },
      "outputs": [
        {
          "data": {
            "text/html": [
              "<div>\n",
              "<style scoped>\n",
              "    .dataframe tbody tr th:only-of-type {\n",
              "        vertical-align: middle;\n",
              "    }\n",
              "\n",
              "    .dataframe tbody tr th {\n",
              "        vertical-align: top;\n",
              "    }\n",
              "\n",
              "    .dataframe thead th {\n",
              "        text-align: right;\n",
              "    }\n",
              "</style>\n",
              "<table border=\"1\" class=\"dataframe\">\n",
              "  <thead>\n",
              "    <tr style=\"text-align: right;\">\n",
              "      <th></th>\n",
              "      <th>Unnamed: 0</th>\n",
              "      <th>Date</th>\n",
              "      <th>Open</th>\n",
              "      <th>High</th>\n",
              "      <th>Low</th>\n",
              "      <th>Last</th>\n",
              "      <th>Close</th>\n",
              "      <th>Total Trade Quantity</th>\n",
              "      <th>Turnover (Lacs)</th>\n",
              "      <th>Gain</th>\n",
              "    </tr>\n",
              "  </thead>\n",
              "  <tbody>\n",
              "    <tr>\n",
              "      <th>0</th>\n",
              "      <td>1</td>\n",
              "      <td>2010-01-05</td>\n",
              "      <td>1639.95</td>\n",
              "      <td>1639.95</td>\n",
              "      <td>1611.05</td>\n",
              "      <td>1620.0</td>\n",
              "      <td>1616.80</td>\n",
              "      <td>38148.0</td>\n",
              "      <td>622.58</td>\n",
              "      <td>-0.005444</td>\n",
              "    </tr>\n",
              "    <tr>\n",
              "      <th>1</th>\n",
              "      <td>2</td>\n",
              "      <td>2010-01-06</td>\n",
              "      <td>1618.00</td>\n",
              "      <td>1644.00</td>\n",
              "      <td>1617.00</td>\n",
              "      <td>1639.0</td>\n",
              "      <td>1638.50</td>\n",
              "      <td>36519.0</td>\n",
              "      <td>595.09</td>\n",
              "      <td>0.013422</td>\n",
              "    </tr>\n",
              "    <tr>\n",
              "      <th>2</th>\n",
              "      <td>3</td>\n",
              "      <td>2010-01-07</td>\n",
              "      <td>1645.00</td>\n",
              "      <td>1654.00</td>\n",
              "      <td>1636.00</td>\n",
              "      <td>1648.0</td>\n",
              "      <td>1648.70</td>\n",
              "      <td>12809.0</td>\n",
              "      <td>211.00</td>\n",
              "      <td>0.006225</td>\n",
              "    </tr>\n",
              "    <tr>\n",
              "      <th>3</th>\n",
              "      <td>4</td>\n",
              "      <td>2010-01-08</td>\n",
              "      <td>1650.00</td>\n",
              "      <td>1650.00</td>\n",
              "      <td>1626.55</td>\n",
              "      <td>1640.0</td>\n",
              "      <td>1639.80</td>\n",
              "      <td>28035.0</td>\n",
              "      <td>459.11</td>\n",
              "      <td>-0.005398</td>\n",
              "    </tr>\n",
              "    <tr>\n",
              "      <th>4</th>\n",
              "      <td>5</td>\n",
              "      <td>2010-01-11</td>\n",
              "      <td>1659.00</td>\n",
              "      <td>1694.95</td>\n",
              "      <td>1601.05</td>\n",
              "      <td>1630.0</td>\n",
              "      <td>1629.45</td>\n",
              "      <td>10566.0</td>\n",
              "      <td>173.40</td>\n",
              "      <td>-0.006312</td>\n",
              "    </tr>\n",
              "    <tr>\n",
              "      <th>...</th>\n",
              "      <td>...</td>\n",
              "      <td>...</td>\n",
              "      <td>...</td>\n",
              "      <td>...</td>\n",
              "      <td>...</td>\n",
              "      <td>...</td>\n",
              "      <td>...</td>\n",
              "      <td>...</td>\n",
              "      <td>...</td>\n",
              "      <td>...</td>\n",
              "    </tr>\n",
              "    <tr>\n",
              "      <th>1733</th>\n",
              "      <td>1734</td>\n",
              "      <td>2016-12-26</td>\n",
              "      <td>2703.00</td>\n",
              "      <td>2740.00</td>\n",
              "      <td>2677.00</td>\n",
              "      <td>2715.0</td>\n",
              "      <td>2723.50</td>\n",
              "      <td>3953.0</td>\n",
              "      <td>107.15</td>\n",
              "      <td>-0.001283</td>\n",
              "    </tr>\n",
              "    <tr>\n",
              "      <th>1734</th>\n",
              "      <td>1735</td>\n",
              "      <td>2016-12-27</td>\n",
              "      <td>2722.95</td>\n",
              "      <td>2725.00</td>\n",
              "      <td>2683.00</td>\n",
              "      <td>2692.0</td>\n",
              "      <td>2701.75</td>\n",
              "      <td>10600.0</td>\n",
              "      <td>286.10</td>\n",
              "      <td>-0.007986</td>\n",
              "    </tr>\n",
              "    <tr>\n",
              "      <th>1735</th>\n",
              "      <td>1736</td>\n",
              "      <td>2016-12-28</td>\n",
              "      <td>2701.75</td>\n",
              "      <td>2718.00</td>\n",
              "      <td>2690.00</td>\n",
              "      <td>2698.0</td>\n",
              "      <td>2702.15</td>\n",
              "      <td>6050.0</td>\n",
              "      <td>163.44</td>\n",
              "      <td>0.000148</td>\n",
              "    </tr>\n",
              "    <tr>\n",
              "      <th>1736</th>\n",
              "      <td>1737</td>\n",
              "      <td>2016-12-29</td>\n",
              "      <td>2702.05</td>\n",
              "      <td>2739.00</td>\n",
              "      <td>2691.95</td>\n",
              "      <td>2710.0</td>\n",
              "      <td>2727.90</td>\n",
              "      <td>7649.0</td>\n",
              "      <td>207.87</td>\n",
              "      <td>0.009529</td>\n",
              "    </tr>\n",
              "    <tr>\n",
              "      <th>1737</th>\n",
              "      <td>1738</td>\n",
              "      <td>2016-12-30</td>\n",
              "      <td>2730.00</td>\n",
              "      <td>2740.45</td>\n",
              "      <td>2705.00</td>\n",
              "      <td>2730.0</td>\n",
              "      <td>2729.80</td>\n",
              "      <td>6513.0</td>\n",
              "      <td>177.65</td>\n",
              "      <td>0.000697</td>\n",
              "    </tr>\n",
              "  </tbody>\n",
              "</table>\n",
              "<p>1738 rows × 10 columns</p>\n",
              "</div>"
            ],
            "text/plain": [
              "      Unnamed: 0        Date     Open     High      Low    Last    Close  \\\n",
              "0              1  2010-01-05  1639.95  1639.95  1611.05  1620.0  1616.80   \n",
              "1              2  2010-01-06  1618.00  1644.00  1617.00  1639.0  1638.50   \n",
              "2              3  2010-01-07  1645.00  1654.00  1636.00  1648.0  1648.70   \n",
              "3              4  2010-01-08  1650.00  1650.00  1626.55  1640.0  1639.80   \n",
              "4              5  2010-01-11  1659.00  1694.95  1601.05  1630.0  1629.45   \n",
              "...          ...         ...      ...      ...      ...     ...      ...   \n",
              "1733        1734  2016-12-26  2703.00  2740.00  2677.00  2715.0  2723.50   \n",
              "1734        1735  2016-12-27  2722.95  2725.00  2683.00  2692.0  2701.75   \n",
              "1735        1736  2016-12-28  2701.75  2718.00  2690.00  2698.0  2702.15   \n",
              "1736        1737  2016-12-29  2702.05  2739.00  2691.95  2710.0  2727.90   \n",
              "1737        1738  2016-12-30  2730.00  2740.45  2705.00  2730.0  2729.80   \n",
              "\n",
              "      Total Trade Quantity  Turnover (Lacs)      Gain  \n",
              "0                  38148.0           622.58 -0.005444  \n",
              "1                  36519.0           595.09  0.013422  \n",
              "2                  12809.0           211.00  0.006225  \n",
              "3                  28035.0           459.11 -0.005398  \n",
              "4                  10566.0           173.40 -0.006312  \n",
              "...                    ...              ...       ...  \n",
              "1733                3953.0           107.15 -0.001283  \n",
              "1734               10600.0           286.10 -0.007986  \n",
              "1735                6050.0           163.44  0.000148  \n",
              "1736                7649.0           207.87  0.009529  \n",
              "1737                6513.0           177.65  0.000697  \n",
              "\n",
              "[1738 rows x 10 columns]"
            ]
          },
          "execution_count": 66,
          "metadata": {},
          "output_type": "execute_result"
        }
      ],
      "source": [
        "#write code here\n",
        "import pandas as pd\n",
        "glaxo_data=pd.read_csv(\"GLAXO.csv\")\n",
        "beml_data=pd.read_csv(\"BEML.csv\")\n",
        "#print(glaxo_data[\"Close\"])\n",
        "#print(\"*\"*50)\n",
        "#print(beml_data[\"Close\"])\n",
        "glaxo_data[\"Gain\"]=glaxo_data[\"Close\"].pct_change(periods=1)\n",
        "\n",
        "glaxo_data.dropna(inplace=True)\n",
        "#print(glaxo_data)\n",
        "#print(\"*\"*50)\n",
        "#print(beml_data)\n",
        "\n",
        "New_glaxo_dataframe=pd.DataFrame(glaxo_data)\n",
        "New_glaxo_dataframe.to_csv(\"NewGlaxo.csv\")\n",
        "New_glaxo_data=pd.read_csv(\"NewGlaxo.csv\")\n",
        "New_glaxo_data"
      ]
    },
    {
      "cell_type": "code",
      "execution_count": null,
      "metadata": {},
      "outputs": [],
      "source": []
    }
  ],
  "metadata": {
    "colab": {
      "provenance": []
    },
    "kernelspec": {
      "display_name": "Python 3",
      "name": "python3"
    },
    "language_info": {
      "codemirror_mode": {
        "name": "ipython",
        "version": 3
      },
      "file_extension": ".py",
      "mimetype": "text/x-python",
      "name": "python",
      "nbconvert_exporter": "python",
      "pygments_lexer": "ipython3",
      "version": "3.11.4"
    }
  },
  "nbformat": 4,
  "nbformat_minor": 0
}
