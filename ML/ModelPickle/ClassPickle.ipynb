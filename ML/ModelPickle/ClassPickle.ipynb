{
 "cells": [
  {
   "cell_type": "markdown",
   "metadata": {},
   "source": [
    "# Create class"
   ]
  },
  {
   "cell_type": "code",
   "execution_count": 5,
   "metadata": {},
   "outputs": [
    {
     "name": "stdout",
     "output_type": "stream",
     "text": [
      "Name : Ram , Age : 24 , Loc : USA\n",
      "RAM\n",
      "25\n",
      "Name : RAM , Age : 25 , Loc : USA\n",
      "\n",
      "Name : Sam , Age : 26 , Loc : IND\n",
      "SAM\n",
      "27\n",
      "Name : SAM , Age : 27 , Loc : IND\n"
     ]
    }
   ],
   "source": [
    "class Person:\n",
    "    def __init__(self,name,age,loc):\n",
    "        self.name=name\n",
    "        self.age=age\n",
    "        self.loc=loc\n",
    "    def convert(self):\n",
    "        self.name=self.name.upper()\n",
    "        return self.name\n",
    "    def incr(self):\n",
    "        self.age+=1\n",
    "        return self.age\n",
    "    def show(self):\n",
    "        return f\"Name : {self.name} , Age : {self.age} , Loc : {self.loc}\"\n",
    "Dheeraj1=Person(\"Ram\",24,\"USA\")\n",
    "Dheeraj2=Person(\"Sam\",26,\"IND\")\n",
    "print(Dheeraj1.show())\n",
    "print(Dheeraj1.convert())\n",
    "print(Dheeraj1.incr())\n",
    "print(Dheeraj1.show())\n",
    "print()\n",
    "print(Dheeraj2.show())\n",
    "print(Dheeraj2.convert())\n",
    "print(Dheeraj2.incr())\n",
    "print(Dheeraj2.show())"
   ]
  },
  {
   "cell_type": "markdown",
   "metadata": {},
   "source": [
    "# Save as pickle file"
   ]
  },
  {
   "cell_type": "code",
   "execution_count": 6,
   "metadata": {},
   "outputs": [],
   "source": [
    "import pickle\n",
    "f1=open(\"Person.txt\",\"wb\")\n",
    "pickle.dump(Dheeraj1,f1)\n",
    "pickle.dump(Dheeraj2,f1)\n",
    "f1.close()"
   ]
  },
  {
   "cell_type": "markdown",
   "metadata": {},
   "source": [
    "# Read from pickle file"
   ]
  },
  {
   "cell_type": "code",
   "execution_count": 9,
   "metadata": {},
   "outputs": [
    {
     "name": "stdout",
     "output_type": "stream",
     "text": [
      "Name : RAM , Age : 25 , Loc : USA\n",
      "Name : SAM , Age : 27 , Loc : IND\n"
     ]
    }
   ],
   "source": [
    "f2=open(\"Person.txt\",\"rb\")\n",
    "p1=pickle.load(f2)\n",
    "print(p1.show())\n",
    "p2=pickle.load(f2)\n",
    "print(p2.show())\n",
    "f2.close()"
   ]
  },
  {
   "cell_type": "markdown",
   "metadata": {},
   "source": []
  }
 ],
 "metadata": {
  "kernelspec": {
   "display_name": "base",
   "language": "python",
   "name": "python3"
  },
  "language_info": {
   "codemirror_mode": {
    "name": "ipython",
    "version": 3
   },
   "file_extension": ".py",
   "mimetype": "text/x-python",
   "name": "python",
   "nbconvert_exporter": "python",
   "pygments_lexer": "ipython3",
   "version": "3.11.4"
  }
 },
 "nbformat": 4,
 "nbformat_minor": 2
}
