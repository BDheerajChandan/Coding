{
 "cells": [
  {
   "cell_type": "code",
   "execution_count": 16,
   "metadata": {},
   "outputs": [
    {
     "data": {
      "text/plain": [
       "'\\nMachine Learning \\n- It uses previous data to predict future.\\n- It requires trainig and test data.\\n- It deals with existing data.\\n- It is a study of computer algorithm that improves automatically through experience.\\n\\n- ML Operation is done when data and algo is combinedly used which give a model and test data to get result.\\n  If result is good then algo is good else not good.\\n- Two types of Machine Learning: Supervised Learning(Labelled) []\\n                                        - Classification, Regression, Recommender(Recommendation systems\\n                                 Unsupervised Learning(Un Labelled)\\n                                        - Clustering ,Dimensionality, Reduction, Topic Modelling\\n                                 Semi Supervised Learning(Labelled and UnLabelled)\\n                                 ReEnforcement Learning \\n                                 Other Types\\n                                        - Time Series forecasting , Outlier Detector\\n                                        - \\n- Types of ML data\\n                    Unlabelled data : \\n                    Labelled data :\\n'"
      ]
     },
     "execution_count": 16,
     "metadata": {},
     "output_type": "execute_result"
    }
   ],
   "source": [
    "'''\n",
    "Machine Learning \n",
    "- It uses previous data to predict future.\n",
    "- It requires trainig and test data.\n",
    "- It deals with existing data.\n",
    "- It is a study of computer algorithm that improves automatically through experience.\n",
    "\n",
    "- ML Operation is done when data and algo is combinedly used which give a model and test data to get result.\n",
    "  If result is good then algo is good else not good.\n",
    "- Two types of Machine Learning: Supervised Learning(Labelled) []\n",
    "                                        - Classification, Regression, Recommender(Recommendation systems\n",
    "                                 Unsupervised Learning(Un Labelled)\n",
    "                                        - Clustering ,Dimensionality, Reduction, Topic Modelling\n",
    "                                 Semi Supervised Learning(Labelled and UnLabelled)\n",
    "                                 ReEnforcement Learning \n",
    "                                 Other Types\n",
    "                                        - Time Series forecasting , Outlier Detector\n",
    "                                        - \n",
    "- Types of ML data\n",
    "                    Unlabelled data : \n",
    "                    Labelled data :\n",
    "'''"
   ]
  },
  {
   "cell_type": "markdown",
   "metadata": {},
   "source": [
    "### Test Accuracy"
   ]
  },
  {
   "cell_type": "code",
   "execution_count": 1,
   "metadata": {},
   "outputs": [
    {
     "name": "stdout",
     "output_type": "stream",
     "text": [
      "x train :  7\n",
      "y train :  7\n",
      "x test :  3\n",
      "y test :  3\n",
      "Score :  0.9623255813953489\n"
     ]
    }
   ],
   "source": [
    "import pandas as pd\n",
    "from sklearn.model_selection import train_test_split\n",
    "from sklearn.linear_model import LinearRegression\n",
    "import numpy as np\n",
    "\n",
    "data1={\"Sal\":[100,200,300,400,500,600,700,800,900,1000],\n",
    "     \"Exp\":[80,300,280,380,480,580,680,780,880,980]}\n",
    "df1=pd.DataFrame(data1)\n",
    "\n",
    "x=df1[\"Sal\"]\n",
    "y=df1[\"Exp\"]\n",
    "x_train,x_test,y_train,y_test=train_test_split(x,y,test_size=0.3)\n",
    "print(\"x train : \",len(np.array(x_train).reshape(-1,1)))\n",
    "print(\"y train : \",len(np.array(y_train).reshape(-1,1)))\n",
    "print(\"x test : \",len(np.array(x_test).reshape(-1,1)))\n",
    "print(\"y test : \",len(np.array(y_test).reshape(-1,1)))\n",
    "\n",
    "lr=LinearRegression()\n",
    "lr.fit(np.array(x_train).reshape(-1,1),np.array(y_train).reshape(-1,1))\n",
    "y_pred=lr.predict(np.array(x_test).reshape(-1,1))\n",
    "score=lr.score(np.array(y_test).reshape(-1,1),y_pred)\n",
    "print(\"Score : \",score)"
   ]
  },
  {
   "cell_type": "markdown",
   "metadata": {},
   "source": [
    "#                                                           1. Linear Regression"
   ]
  },
  {
   "cell_type": "markdown",
   "metadata": {},
   "source": [
    "### 1.1 Linear Regression "
   ]
  },
  {
   "cell_type": "code",
   "execution_count": 17,
   "metadata": {},
   "outputs": [
    {
     "name": "stdout",
     "output_type": "stream",
     "text": [
      "x train :  7\n",
      "y train :  7\n",
      "x test :  3\n",
      "y test :  3\n",
      "Score :  0.9995249334529798\n"
     ]
    }
   ],
   "source": [
    "import pandas as pd\n",
    "from sklearn.linear_model import LinearRegression as lr\n",
    "from sklearn.model_selection import train_test_split\n",
    "import numpy as np\n",
    "\n",
    "#data1={\"Sal\":[100,200,300,400,500,600,700,800,900,1000],\"Exp\":[80,180,280,380,480,580,680,780,880,980]}\n",
    "data1={\"Sal\":[101,202,303,404,505,606,707,808,909,1000],\n",
    "     \"Exp\":[100,200,30,400,500,600,700,800,900,1000]}\n",
    "df1=pd.DataFrame(data1)                                                         # 1. Load Dataset\n",
    "\n",
    "x=df1[\"Sal\"]\n",
    "y=df1[\"Exp\"]\n",
    "x_train,x_test,y_train,y_test=train_test_split(x,y,test_size=0.3)               # 2. Split the data for training and splitting\n",
    "print(\"x train : \",len(np.array(x_train).reshape(-1,1)))                        \n",
    "print(\"y train : \",len(np.array(y_train).reshape(-1,1)))\n",
    "print(\"x test : \",len(np.array(x_test).reshape(-1,1)))\n",
    "print(\"y test : \",len(np.array(y_test).reshape(-1,1)))\n",
    "\n",
    "\n",
    "model=lr()\n",
    "model.fit(np.array(x_train).reshape(-1,1),np.array(y_train).reshape(-1,1))     # Train the data with raw data      [x_train , y_train] \n",
    "y_pred=model.predict(np.array(x_test).reshape(-1,1))                           # Predict the data with inputs      [x_test -> y_pred]\n",
    "score=model.score(np.array(y_test).reshape(-1,1),y_pred)                       # Check the relation/score between  [y_test , y_pred]\n",
    "print(\"Score : \",score)                                                        # Accuracy value of y_train and y_pred"
   ]
  },
  {
   "cell_type": "markdown",
   "metadata": {},
   "source": [
    "### 1.2 Linear Regression (Linear Line)"
   ]
  },
  {
   "cell_type": "code",
   "execution_count": 18,
   "metadata": {},
   "outputs": [
    {
     "data": {
      "image/png": "[encoded data removed]",
      "text/plain": [
       "<Figure size 400x400 with 1 Axes>"
      ]
     },
     "metadata": {},
     "output_type": "display_data"
    }
   ],
   "source": [
    "'''\n",
    "1. Load the data\n",
    "2. Train the model\n",
    "3. Predict the model\n",
    "4. Plot the dataset\n",
    "'''\n",
    "import matplotlib.pyplot as plt\n",
    "from sklearn.linear_model import LinearRegression as lr\n",
    "import pandas as pd\n",
    "#x=[[30],[38],[57],[34]]                                                     # 1. Load the dataset\n",
    "#y=[40,22,28,34]\n",
    "\n",
    "df = pd.read_csv('C:\\\\Users\\\\KIIT\\\\Desktop\\\\ML\\\\Pearson.txt', sep='\\t')       # Load the data\n",
    "x=df[[\"Father\"]]\n",
    "y=df[[\"Son\"]]\n",
    "\n",
    "model=lr()\n",
    "model.fit(x,y)                                                              # 2. Trainig the dataset\n",
    "plt.figure(figsize=[4,4])\n",
    "plt.xlabel(\"X\")\n",
    "plt.ylabel(\"Y\")\n",
    "plt.title(\"XY Graph- Linear Regression\")\n",
    "plt.scatter(x,y)\n",
    "y_pred=model.predict(x)\n",
    "plt.plot(x,y_pred,color='r')                                      # 3. To draw a straight line for Linear Regression model\n",
    "plt.show()"
   ]
  },
  {
   "cell_type": "markdown",
   "metadata": {},
   "source": [
    "### 1.2 LinearRegression and predict from dataset"
   ]
  },
  {
   "cell_type": "code",
   "execution_count": 19,
   "metadata": {},
   "outputs": [
    {
     "name": "stdout",
     "output_type": "stream",
     "text": [
      "Model score :  1.0\n"
     ]
    }
   ],
   "source": [
    "'''\n",
    "1. Load the data\n",
    "2. Train the model\n",
    "3. Predict the model\n",
    "4. Check the score\n",
    "'''\n",
    "from sklearn.linear_model import LinearRegression as lr\n",
    "import pandas as pd\n",
    "df = pd.read_csv('C:\\\\Users\\\\KIIT\\\\Desktop\\\\ML\\\\Pearson.txt', sep='\\t') # 1. Load the data\n",
    "x=df[[\"Father\"]]\n",
    "y=df[[\"Son\"]]\n",
    "\n",
    "model=lr()\n",
    "model.fit(x,y)                                                          # 2. Train the model\n",
    "y_pred=model.predict(x)                                                 # 3. Predict the model\n",
    "print(\"Model score : \",model.score(x,y_pred))                                            # 4. Check the score"
   ]
  },
  {
   "cell_type": "markdown",
   "metadata": {},
   "source": [
    "### 1.3 LinearRegression and mean_squared_error"
   ]
  },
  {
   "cell_type": "code",
   "execution_count": 20,
   "metadata": {},
   "outputs": [
    {
     "name": "stdout",
     "output_type": "stream",
     "text": [
      "mean_squared_error :  2.773932101191542\n"
     ]
    }
   ],
   "source": [
    "'''\n",
    "1. Load the data\n",
    "2. Train the model\n",
    "3. Predict the model\n",
    "4. Check the mean_squared_error\n",
    "'''\n",
    "import matplotlib.pyplot as plt\n",
    "from sklearn.metrics import mean_squared_error\n",
    "import pandas as pd\n",
    "df = pd.read_csv('C:\\\\Users\\\\KIIT\\\\Desktop\\\\ML\\\\Pearson.txt', sep='\\t')       # Load the data\n",
    "x=df[[\"Father\"]]\n",
    "y=df[[\"Son\"]]\n",
    "#x=df[[\"Before_Breakup\"]]\n",
    "#y=df[[\"After_Breakup\"]]\n",
    "model=lr()\n",
    "model.fit(x,y)                                      # Train the model\n",
    "y_pred=model.predict(x)                             # Predict the model\n",
    "print(\"mean_squared_error : \",mean_squared_error(x,y_pred))                 # Check the mean_squared_error"
   ]
  },
  {
   "cell_type": "markdown",
   "metadata": {},
   "source": [
    "### 2. SVM(Support Vector Machine)"
   ]
  },
  {
   "cell_type": "code",
   "execution_count": 21,
   "metadata": {},
   "outputs": [
    {
     "name": "stderr",
     "output_type": "stream",
     "text": [
      "c:\\Users\\KIIT\\anaconda3\\Lib\\site-packages\\sklearn\\utils\\validation.py:1184: DataConversionWarning: A column-vector y was passed when a 1d array was expected. Please change the shape of y to (n_samples, ), for example using ravel().\n",
      "  y = column_or_1d(y, warn=True)\n"
     ]
    },
    {
     "data": {
      "image/png": "[encoded data removed]",
      "text/plain": [
       "<Figure size 400x400 with 1 Axes>"
      ]
     },
     "metadata": {},
     "output_type": "display_data"
    }
   ],
   "source": [
    "                                                # 2. SVM(Support Vector Machine)\n",
    "'''     \n",
    "Steps:\n",
    "1. Load/Create the data\n",
    "2. Train the data\n",
    "3. Plot the data\n",
    "'''\n",
    "import matplotlib.pyplot as plt\n",
    "from sklearn.svm import SVR as sr\n",
    "import pandas as pd\n",
    "df = pd.read_csv('C:\\\\Users\\\\KIIT\\\\Desktop\\\\ML\\\\Pearson.txt', sep='\\t')       # 1. Load the data\n",
    "x=df[[\"Father\"]]\n",
    "y=df[[\"Son\"]]\n",
    "model=sr()\n",
    "model.fit(x,y)  # FItting the model by considering data points                # 2. Train the data \n",
    "plt.figure(figsize=[4,4])\n",
    "plt.xlabel(\"X\")\n",
    "plt.ylabel(\"Y\")\n",
    "plt.title(\"XY Graph - Support Vector Machine\")\n",
    "plt.scatter(x,y)\n",
    "plt.plot(x,model.predict(x),color='r')                                        # 3. Plot the data. To draw a straight line for Linear Regression model\n",
    "plt.show()"
   ]
  },
  {
   "cell_type": "markdown",
   "metadata": {},
   "source": [
    "# 3. Slope and intercept and prediction"
   ]
  },
  {
   "cell_type": "code",
   "execution_count": 22,
   "metadata": {},
   "outputs": [
    {
     "name": "stdout",
     "output_type": "stream",
     "text": [
      "Predicted value :  [17.0438  67.79197 44.10949 88.09124 10.27737 33.95985 40.72628]\n",
      "Y when X is 0 :  [152.37226277]\n",
      "Y when X is 10 :  [118.54014599]\n",
      "Coefficient values [m=(y2-y1)/(x2-x1)] :  [-3.38321168]\n",
      "Intercept value(c) :  152.37226277372267\n",
      "[152.37226277]\n",
      "[118.54014599]\n"
     ]
    },
    {
     "data": {
      "image/png": "[encoded data removed]",
      "text/plain": [
       "<Figure size 640x480 with 1 Axes>"
      ]
     },
     "metadata": {},
     "output_type": "display_data"
    }
   ],
   "source": [
    "from sklearn.linear_model import LinearRegression as lr\n",
    "import matplotlib.pyplot as plt\n",
    "import numpy as np\n",
    "x=[[40],[25],[32],[19],[42],[35],[33]]\n",
    "y=[25,61,65,98,20,15,18]\n",
    "\n",
    "model=lr()\n",
    "model.fit(x,y)\n",
    "y_pred=model.predict(x)                         # Predicted values of y based on the fitted model using the x\n",
    "print(\"Predicted value : \",np.round(y_pred,5))\n",
    "print(\"Y when X is 0 : \",model.predict([[0]]))                     # Predicts the value of y when x is 0.\n",
    "print(\"Y when X is 10 : \",model.predict([[10]])) \n",
    "print(\"Coefficient values [m=(y2-y1)/(x2-x1)] : \",model.coef_)      # Slope(m) of the fitted line.\n",
    "print(\"Intercept value(c) : \",model.intercept_)    # Intercept(c) of the fitted line.\n",
    "print((model.coef_*0)+model.intercept_)         # Tracing back the value of y for given x=0 and calculate slope and intercept.\n",
    "print((model.coef_*10)+model.intercept_)        # Tracing back the value of y for given x=10 and calculate slope and intercept.\n",
    "\n",
    "plt.scatter(x,y)\n",
    "plt.plot(x,y_pred,color='r')\n",
    "plt.show()"
   ]
  },
  {
   "cell_type": "markdown",
   "metadata": {},
   "source": [
    "# 4. Slope of the best-fit line in a simple linear regression. "
   ]
  },
  {
   "cell_type": "code",
   "execution_count": 23,
   "metadata": {},
   "outputs": [
    {
     "name": "stdout",
     "output_type": "stream",
     "text": [
      "x :  [10, 20, 35, 70, 92, 58, 47, 82]\n",
      "y :  [40, 30, 52, 47, 93, 75, 12, 38]\n",
      "Mean of x :  51.75\n",
      "Mean of y :  48.375\n",
      "Mean of x*y :  2837\n",
      "Mean of x*x :  3423.25\n",
      "Numerator[[Mean of x*y]-[Mean of x*Mean of y] ] :  333.59375\n",
      "Denominator[[Mean of x*Mean of x]-[Mean of (x*x)] ] :  745.1875\n",
      "Numerator/Denominator :  0.4476641784785708\n",
      "Slope (weight): 0.4476641784785708\n",
      "Predicted value :  [29.68502 34.16166 40.87663 56.54487 66.39348 51.1729  46.2486  61.91684]\n"
     ]
    }
   ],
   "source": [
    "from statistics import mean\n",
    "from sklearn.linear_model import LinearRegression as lr\n",
    "x=[10,20,35,70,92,58,47,82]\n",
    "y=[40,30,52,47,93,75,12,38]\n",
    "print(\"x : \",x)\n",
    "print(\"y : \",y)\n",
    "\n",
    "mean_x = mean(x)                            # Mean of x\n",
    "mean_y = mean(y)                            # Mean of y\n",
    "print(\"Mean of x : \",mean_x)\n",
    "print(\"Mean of y : \",mean_y)\n",
    "\n",
    "xy = [x[i] * y[i] for i in range(len(x))]   # x*y\n",
    "xx = [x[i] ** 2 for i in range(len(x))]     # x**2\n",
    "xy_mean = mean(xy)                          # mean of x*y\n",
    "xx_mean = mean(xx)                          # mean of x*x\n",
    "print(\"Mean of x*y : \",xy_mean)\n",
    "print(\"Mean of x*x : \",xx_mean)\n",
    "\n",
    "numerator = xy_mean - (mean_x*mean_y)       # [mean of x*y]-[[Mean of x]*[Mean of y]]\n",
    "denominator = xx_mean - (mean_x ** 2)       # [mean of x*y]-[[Mean of x]*[Mean of x]]\n",
    "slope = numerator / denominator \n",
    "print(\"Numerator[[Mean of x*y]-[Mean of x*Mean of y] ] : \",numerator)\n",
    "print(\"Denominator[[Mean of x*Mean of x]-[Mean of (x*x)] ] : \",denominator)\n",
    "print(\"Numerator/Denominator : \",slope)\n",
    "print(f\"Slope (weight): {slope}\")\n",
    "\n",
    "x_reshaped = np.array(x).reshape(-1, 1)  # Reshaping x for sklearn\n",
    "y = np.array(y)\n",
    "model = lr()\n",
    "model.fit(x_reshaped, y)\n",
    "\n",
    "y_pred=model.predict(x_reshaped)  \n",
    "print(\"Predicted value : \",np.round(y_pred,5))"
   ]
  },
  {
   "cell_type": "code",
   "execution_count": 24,
   "metadata": {},
   "outputs": [
    {
     "name": "stdout",
     "output_type": "stream",
     "text": [
      "x :  [10, 20, 35, 70, 92, 58, 47, 82]\n",
      "y :  [40, 30, 52, 47, 93, 75, 12, 38]\n",
      "x_sklearn :  [[40], [30], [52], [47], [93], [75], [12], [38]]\n",
      "Mean of x: 51.75\n",
      "Mean of y: 48.375\n",
      "\n",
      "x*y: [400, 600, 1820, 3290, 8556, 4350, 564, 3116]\n",
      "x**2: [100, 400, 1225, 4900, 8464, 3364, 2209, 6724]\n",
      "Mean of x*y: 2837\n",
      "Mean of x**2: 3423.25\n",
      "\n",
      "Numerator [mean(xy) - mean(x) * mean(y)]: 333.59375\n",
      "Denominator [mean(xx) - mean(x)^2]: 745.1875\n",
      "Slope (weight): 0.4476641784785708\n",
      "\n",
      "Coefficient (slope) from sklearn: 0.9999999999999993\n",
      "Intercept from sklearn: 3.552713678800501e-14\n",
      "Model prediction for x=25: [25.]\n",
      "Bias 25.20837876373396\n"
     ]
    }
   ],
   "source": [
    "from statistics import mean\n",
    "from sklearn.linear_model import LinearRegression as lr\n",
    "\n",
    "# Given data\n",
    "x = [10, 20, 35, 70, 92, 58, 47, 82]\n",
    "y = [40, 30, 52, 47, 93, 75, 12, 38]\n",
    "x_sklearn = [[40], [30], [52], [47], [93], [75], [12], [38]]\n",
    "print(\"x : \",x)\n",
    "print(\"y : \",y)\n",
    "print(\"x_sklearn : \",x_sklearn)\n",
    "# Mean of x and y\n",
    "x_mean = mean(x)\n",
    "y_mean = mean(y)\n",
    "\n",
    "# Calculating x*y and x**2\n",
    "xy = [x[i] * y[i] for i in range(len(x))]\n",
    "xx = [x[i] ** 2 for i in range(len(x))]\n",
    "\n",
    "# Mean of x*y and x**2\n",
    "xy_mean = mean(xy)\n",
    "xx_mean = mean(xx)\n",
    "print(\"Mean of x:\", x_mean)\n",
    "print(\"Mean of y:\", y_mean)\n",
    "print()\n",
    "print(\"x*y:\", xy)\n",
    "print(\"x**2:\", xx)\n",
    "print(\"Mean of x*y:\", xy_mean)\n",
    "print(\"Mean of x**2:\", xx_mean)\n",
    "print()\n",
    "# Correct formula for slope\n",
    "numerator = xy_mean - (x_mean * y_mean)\n",
    "denominator = xx_mean - (x_mean ** 2)\n",
    "slope = numerator / denominator\n",
    "print(\"Numerator [mean(xy) - mean(x) * mean(y)]:\", numerator)\n",
    "print(\"Denominator [mean(xx) - mean(x)^2]:\", denominator)\n",
    "print(\"Slope (weight):\", slope)\n",
    "print()\n",
    "# Using sklearn's LinearRegression\n",
    "model = lr()\n",
    "model.fit(x_sklearn, y)\n",
    "\n",
    "print(\"Coefficient (slope) from sklearn:\", model.coef_[0])\n",
    "print(\"Intercept from sklearn:\", model.intercept_)\n",
    "print(\"Model prediction for x=25:\", model.predict([[25]]))\n",
    "\n",
    "bias=((y_mean)-slope*x_mean)\n",
    "print(\"Bias\",bias)\n"
   ]
  },
  {
   "cell_type": "markdown",
   "metadata": {},
   "source": [
    "# Linear regression, Ridge, Lasso"
   ]
  },
  {
   "cell_type": "code",
   "execution_count": 25,
   "metadata": {},
   "outputs": [
    {
     "name": "stdout",
     "output_type": "stream",
     "text": [
      "\t\tLinearRegression\n",
      "[305.]\n",
      "[3.]\n",
      "5.0000000000000036\n",
      "\n",
      "\t\tRidge\n",
      "[303.16326531]\n",
      "[2.97959184]\n",
      "5.2040816326530575\n",
      "\n",
      "\t\tLasso\n",
      "[302.53424658]\n",
      "[2.97260274]\n",
      "5.273972602739725\n"
     ]
    }
   ],
   "source": [
    "from sklearn.linear_model import LinearRegression as lr\n",
    "from sklearn.linear_model import Ridge as rdg\n",
    "from sklearn.linear_model import Lasso as lso\n",
    "x=[[4],[7],[9],[20]]\n",
    "y=[17,26,32,65]                         #  Load the data\n",
    "\n",
    "print(\"\\t\\tLinearRegression\")\n",
    "model_lr=lr()\n",
    "model_lr.fit(x,y)                          # Train the data\n",
    "print(model_lr.predict([[100]]))            # Predict y for x=25\n",
    "print(model_lr.coef_)                      # Get coefficient value\n",
    "print(model_lr.intercept_)                 # Det intecept value\n",
    "print()\n",
    "print(\"\\t\\tRidge\")\n",
    "model_rdg=rdg()\n",
    "model_rdg.fit(x,y)                          # Train the data\n",
    "print(model_rdg.predict([[100]]))            # Predict y for x=25\n",
    "print(model_rdg.coef_)                      # Get coefficient value\n",
    "print(model_rdg.intercept_)                 # Det intecept value\n",
    "print()\n",
    "print(\"\\t\\tLasso\")\n",
    "model_lso=lso()\n",
    "model_lso.fit(x,y)                          # Train the data\n",
    "print(model_lso.predict([[100]]))            # Predict y for x=25\n",
    "print(model_lso.coef_)                      # Get coefficient value\n",
    "print(model_lso.intercept_)                 # Det intecept value"
   ]
  },
  {
   "cell_type": "markdown",
   "metadata": {},
   "source": [
    "# Save model"
   ]
  },
  {
   "cell_type": "code",
   "execution_count": 26,
   "metadata": {},
   "outputs": [],
   "source": [
    "import pickle\n",
    "with open('model_lr.pickle','wb') as m_file:\n",
    "    pickle.dump(model_lr,m_file)"
   ]
  },
  {
   "cell_type": "markdown",
   "metadata": {},
   "source": [
    "# Read Model"
   ]
  },
  {
   "cell_type": "code",
   "execution_count": 27,
   "metadata": {},
   "outputs": [
    {
     "name": "stdout",
     "output_type": "stream",
     "text": [
      "[3.]\n",
      "5.0000000000000036\n",
      "\n"
     ]
    }
   ],
   "source": [
    "import pickle\n",
    "with open('model_lr.pickle','rb') as tf:\n",
    "    trained_model=pickle.load(tf)\n",
    "print(trained_model.coef_)\n",
    "print(trained_model.intercept_)\n",
    "print()"
   ]
  },
  {
   "cell_type": "code",
   "execution_count": null,
   "metadata": {},
   "outputs": [],
   "source": []
  }
 ],
 "metadata": {
  "kernelspec": {
   "display_name": "base",
   "language": "python",
   "name": "python3"
  },
  "language_info": {
   "codemirror_mode": {
    "name": "ipython",
    "version": 3
   },
   "file_extension": ".py",
   "mimetype": "text/x-python",
   "name": "python",
   "nbconvert_exporter": "python",
   "pygments_lexer": "ipython3",
   "version": "3.11.4"
  }
 },
 "nbformat": 4,
 "nbformat_minor": 2
}
