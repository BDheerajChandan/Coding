{
 "cells": [
  {
   "cell_type": "markdown",
   "metadata": {},
   "source": [
    "# 1. Read or Extact Data"
   ]
  },
  {
   "cell_type": "code",
   "execution_count": 16,
   "metadata": {},
   "outputs": [
    {
     "data": {
      "text/plain": [
       "['.gitkeep',\n",
       " '50_Startups.csv',\n",
       " 'Churn_Modelling.csv',\n",
       " 'Employee_attrition.csv',\n",
       " 'Housing.csv',\n",
       " 'Mall_Customers.csv',\n",
       " 'movie_review_test.csv',\n",
       " 'movie_review_train.csv',\n",
       " 'Passenger_test.csv',\n",
       " 'Passenger_train.csv',\n",
       " 'Pearson.txt',\n",
       " 'Position_Salaries.csv',\n",
       " 'Result_Datasets',\n",
       " 'Salary_Data.csv',\n",
       " 'Social_Network_Ads.csv',\n",
       " 'Stud_part1.csv',\n",
       " 'Stud_part2.csv',\n",
       " 'winequality-red.csv',\n",
       " 'winequality-white.csv']"
      ]
     },
     "execution_count": 16,
     "metadata": {},
     "output_type": "execute_result"
    }
   ],
   "source": [
    "import os\n",
    "os.listdir(path=\"Dataset_Files\")"
   ]
  },
  {
   "cell_type": "code",
   "execution_count": 17,
   "metadata": {},
   "outputs": [
    {
     "data": {
      "text/html": [
       "<div>\n",
       "<style scoped>\n",
       "    .dataframe tbody tr th:only-of-type {\n",
       "        vertical-align: middle;\n",
       "    }\n",
       "\n",
       "    .dataframe tbody tr th {\n",
       "        vertical-align: top;\n",
       "    }\n",
       "\n",
       "    .dataframe thead th {\n",
       "        text-align: right;\n",
       "    }\n",
       "</style>\n",
       "<table border=\"1\" class=\"dataframe\">\n",
       "  <thead>\n",
       "    <tr style=\"text-align: right;\">\n",
       "      <th></th>\n",
       "      <th>Father</th>\n",
       "      <th>Son</th>\n",
       "    </tr>\n",
       "  </thead>\n",
       "  <tbody>\n",
       "    <tr>\n",
       "      <th>0</th>\n",
       "      <td>65.0</td>\n",
       "      <td>59.8</td>\n",
       "    </tr>\n",
       "    <tr>\n",
       "      <th>1</th>\n",
       "      <td>63.3</td>\n",
       "      <td>63.2</td>\n",
       "    </tr>\n",
       "    <tr>\n",
       "      <th>2</th>\n",
       "      <td>65.0</td>\n",
       "      <td>63.3</td>\n",
       "    </tr>\n",
       "    <tr>\n",
       "      <th>3</th>\n",
       "      <td>65.8</td>\n",
       "      <td>62.8</td>\n",
       "    </tr>\n",
       "    <tr>\n",
       "      <th>4</th>\n",
       "      <td>61.1</td>\n",
       "      <td>64.3</td>\n",
       "    </tr>\n",
       "    <tr>\n",
       "      <th>...</th>\n",
       "      <td>...</td>\n",
       "      <td>...</td>\n",
       "    </tr>\n",
       "    <tr>\n",
       "      <th>1073</th>\n",
       "      <td>67.0</td>\n",
       "      <td>70.8</td>\n",
       "    </tr>\n",
       "    <tr>\n",
       "      <th>1074</th>\n",
       "      <td>71.3</td>\n",
       "      <td>68.3</td>\n",
       "    </tr>\n",
       "    <tr>\n",
       "      <th>1075</th>\n",
       "      <td>71.8</td>\n",
       "      <td>69.3</td>\n",
       "    </tr>\n",
       "    <tr>\n",
       "      <th>1076</th>\n",
       "      <td>70.7</td>\n",
       "      <td>69.3</td>\n",
       "    </tr>\n",
       "    <tr>\n",
       "      <th>1077</th>\n",
       "      <td>70.3</td>\n",
       "      <td>67.0</td>\n",
       "    </tr>\n",
       "  </tbody>\n",
       "</table>\n",
       "<p>1078 rows × 2 columns</p>\n",
       "</div>"
      ],
      "text/plain": [
       "      Father   Son\n",
       "0       65.0  59.8\n",
       "1       63.3  63.2\n",
       "2       65.0  63.3\n",
       "3       65.8  62.8\n",
       "4       61.1  64.3\n",
       "...      ...   ...\n",
       "1073    67.0  70.8\n",
       "1074    71.3  68.3\n",
       "1075    71.8  69.3\n",
       "1076    70.7  69.3\n",
       "1077    70.3  67.0\n",
       "\n",
       "[1078 rows x 2 columns]"
      ]
     },
     "execution_count": 17,
     "metadata": {},
     "output_type": "execute_result"
    }
   ],
   "source": [
    "import pandas as pd\n",
    "data=pd.read_csv(\"Dataset_Files\\\\Pearson.txt\",sep=\"\\t\")\n",
    "data"
   ]
  },
  {
   "cell_type": "markdown",
   "metadata": {},
   "source": [
    "# 2. EDA"
   ]
  },
  {
   "cell_type": "code",
   "execution_count": 18,
   "metadata": {},
   "outputs": [
    {
     "name": "stdout",
     "output_type": "stream",
     "text": [
      "<class 'pandas.core.frame.DataFrame'>\n",
      "RangeIndex: 1078 entries, 0 to 1077\n",
      "Data columns (total 2 columns):\n",
      " #   Column  Non-Null Count  Dtype  \n",
      "---  ------  --------------  -----  \n",
      " 0   Father  1078 non-null   float64\n",
      " 1   Son     1078 non-null   float64\n",
      "dtypes: float64(2)\n",
      "memory usage: 17.0 KB\n"
     ]
    }
   ],
   "source": [
    "data.info()"
   ]
  },
  {
   "cell_type": "code",
   "execution_count": 19,
   "metadata": {},
   "outputs": [
    {
     "data": {
      "text/html": [
       "<div>\n",
       "<style scoped>\n",
       "    .dataframe tbody tr th:only-of-type {\n",
       "        vertical-align: middle;\n",
       "    }\n",
       "\n",
       "    .dataframe tbody tr th {\n",
       "        vertical-align: top;\n",
       "    }\n",
       "\n",
       "    .dataframe thead th {\n",
       "        text-align: right;\n",
       "    }\n",
       "</style>\n",
       "<table border=\"1\" class=\"dataframe\">\n",
       "  <thead>\n",
       "    <tr style=\"text-align: right;\">\n",
       "      <th></th>\n",
       "      <th>Father</th>\n",
       "      <th>Son</th>\n",
       "    </tr>\n",
       "  </thead>\n",
       "  <tbody>\n",
       "    <tr>\n",
       "      <th>count</th>\n",
       "      <td>1078.000000</td>\n",
       "      <td>1078.000000</td>\n",
       "    </tr>\n",
       "    <tr>\n",
       "      <th>mean</th>\n",
       "      <td>67.686827</td>\n",
       "      <td>68.684230</td>\n",
       "    </tr>\n",
       "    <tr>\n",
       "      <th>std</th>\n",
       "      <td>2.745827</td>\n",
       "      <td>2.816194</td>\n",
       "    </tr>\n",
       "    <tr>\n",
       "      <th>min</th>\n",
       "      <td>59.000000</td>\n",
       "      <td>58.500000</td>\n",
       "    </tr>\n",
       "    <tr>\n",
       "      <th>25%</th>\n",
       "      <td>65.800000</td>\n",
       "      <td>66.900000</td>\n",
       "    </tr>\n",
       "    <tr>\n",
       "      <th>50%</th>\n",
       "      <td>67.800000</td>\n",
       "      <td>68.600000</td>\n",
       "    </tr>\n",
       "    <tr>\n",
       "      <th>75%</th>\n",
       "      <td>69.600000</td>\n",
       "      <td>70.500000</td>\n",
       "    </tr>\n",
       "    <tr>\n",
       "      <th>max</th>\n",
       "      <td>75.400000</td>\n",
       "      <td>78.400000</td>\n",
       "    </tr>\n",
       "  </tbody>\n",
       "</table>\n",
       "</div>"
      ],
      "text/plain": [
       "            Father          Son\n",
       "count  1078.000000  1078.000000\n",
       "mean     67.686827    68.684230\n",
       "std       2.745827     2.816194\n",
       "min      59.000000    58.500000\n",
       "25%      65.800000    66.900000\n",
       "50%      67.800000    68.600000\n",
       "75%      69.600000    70.500000\n",
       "max      75.400000    78.400000"
      ]
     },
     "execution_count": 19,
     "metadata": {},
     "output_type": "execute_result"
    }
   ],
   "source": [
    "data.describe()"
   ]
  },
  {
   "cell_type": "code",
   "execution_count": 20,
   "metadata": {},
   "outputs": [
    {
     "data": {
      "text/plain": [
       "Father    0\n",
       "Son       0\n",
       "dtype: int64"
      ]
     },
     "execution_count": 20,
     "metadata": {},
     "output_type": "execute_result"
    }
   ],
   "source": [
    "data.isnull().sum()"
   ]
  },
  {
   "cell_type": "markdown",
   "metadata": {},
   "source": [
    "# 3. Feature Extraction"
   ]
  },
  {
   "cell_type": "code",
   "execution_count": 21,
   "metadata": {},
   "outputs": [
    {
     "data": {
      "text/plain": [
       "0       65.0\n",
       "1       63.3\n",
       "2       65.0\n",
       "3       65.8\n",
       "4       61.1\n",
       "        ... \n",
       "1073    67.0\n",
       "1074    71.3\n",
       "1075    71.8\n",
       "1076    70.7\n",
       "1077    70.3\n",
       "Name: Father, Length: 1078, dtype: float64"
      ]
     },
     "execution_count": 21,
     "metadata": {},
     "output_type": "execute_result"
    }
   ],
   "source": [
    "x=data[\"Father\"]\n",
    "y=data[\"Son\"]\n",
    "x"
   ]
  },
  {
   "cell_type": "code",
   "execution_count": 22,
   "metadata": {},
   "outputs": [
    {
     "data": {
      "text/plain": [
       "0       59.8\n",
       "1       63.2\n",
       "2       63.3\n",
       "3       62.8\n",
       "4       64.3\n",
       "        ... \n",
       "1073    70.8\n",
       "1074    68.3\n",
       "1075    69.3\n",
       "1076    69.3\n",
       "1077    67.0\n",
       "Name: Son, Length: 1078, dtype: float64"
      ]
     },
     "execution_count": 22,
     "metadata": {},
     "output_type": "execute_result"
    }
   ],
   "source": [
    "y"
   ]
  },
  {
   "cell_type": "markdown",
   "metadata": {},
   "source": [
    "# 4. Model Building"
   ]
  },
  {
   "cell_type": "code",
   "execution_count": 23,
   "metadata": {},
   "outputs": [],
   "source": [
    "from sklearn.model_selection import train_test_split\n",
    "x_train,x_test,y_train,y_test=train_test_split(x,y,test_size=0.1,random_state=42)"
   ]
  },
  {
   "cell_type": "code",
   "execution_count": 24,
   "metadata": {},
   "outputs": [
    {
     "data": {
      "text/html": [
       "<style>#sk-container-id-2 {color: black;}#sk-container-id-2 pre{padding: 0;}#sk-container-id-2 div.sk-toggleable {background-color: white;}#sk-container-id-2 label.sk-toggleable__label {cursor: pointer;display: block;width: 100%;margin-bottom: 0;padding: 0.3em;box-sizing: border-box;text-align: center;}#sk-container-id-2 label.sk-toggleable__label-arrow:before {content: \"▸\";float: left;margin-right: 0.25em;color: #696969;}#sk-container-id-2 label.sk-toggleable__label-arrow:hover:before {color: black;}#sk-container-id-2 div.sk-estimator:hover label.sk-toggleable__label-arrow:before {color: black;}#sk-container-id-2 div.sk-toggleable__content {max-height: 0;max-width: 0;overflow: hidden;text-align: left;background-color: #f0f8ff;}#sk-container-id-2 div.sk-toggleable__content pre {margin: 0.2em;color: black;border-radius: 0.25em;background-color: #f0f8ff;}#sk-container-id-2 input.sk-toggleable__control:checked~div.sk-toggleable__content {max-height: 200px;max-width: 100%;overflow: auto;}#sk-container-id-2 input.sk-toggleable__control:checked~label.sk-toggleable__label-arrow:before {content: \"▾\";}#sk-container-id-2 div.sk-estimator input.sk-toggleable__control:checked~label.sk-toggleable__label {background-color: #d4ebff;}#sk-container-id-2 div.sk-label input.sk-toggleable__control:checked~label.sk-toggleable__label {background-color: #d4ebff;}#sk-container-id-2 input.sk-hidden--visually {border: 0;clip: rect(1px 1px 1px 1px);clip: rect(1px, 1px, 1px, 1px);height: 1px;margin: -1px;overflow: hidden;padding: 0;position: absolute;width: 1px;}#sk-container-id-2 div.sk-estimator {font-family: monospace;background-color: #f0f8ff;border: 1px dotted black;border-radius: 0.25em;box-sizing: border-box;margin-bottom: 0.5em;}#sk-container-id-2 div.sk-estimator:hover {background-color: #d4ebff;}#sk-container-id-2 div.sk-parallel-item::after {content: \"\";width: 100%;border-bottom: 1px solid gray;flex-grow: 1;}#sk-container-id-2 div.sk-label:hover label.sk-toggleable__label {background-color: #d4ebff;}#sk-container-id-2 div.sk-serial::before {content: \"\";position: absolute;border-left: 1px solid gray;box-sizing: border-box;top: 0;bottom: 0;left: 50%;z-index: 0;}#sk-container-id-2 div.sk-serial {display: flex;flex-direction: column;align-items: center;background-color: white;padding-right: 0.2em;padding-left: 0.2em;position: relative;}#sk-container-id-2 div.sk-item {position: relative;z-index: 1;}#sk-container-id-2 div.sk-parallel {display: flex;align-items: stretch;justify-content: center;background-color: white;position: relative;}#sk-container-id-2 div.sk-item::before, #sk-container-id-2 div.sk-parallel-item::before {content: \"\";position: absolute;border-left: 1px solid gray;box-sizing: border-box;top: 0;bottom: 0;left: 50%;z-index: -1;}#sk-container-id-2 div.sk-parallel-item {display: flex;flex-direction: column;z-index: 1;position: relative;background-color: white;}#sk-container-id-2 div.sk-parallel-item:first-child::after {align-self: flex-end;width: 50%;}#sk-container-id-2 div.sk-parallel-item:last-child::after {align-self: flex-start;width: 50%;}#sk-container-id-2 div.sk-parallel-item:only-child::after {width: 0;}#sk-container-id-2 div.sk-dashed-wrapped {border: 1px dashed gray;margin: 0 0.4em 0.5em 0.4em;box-sizing: border-box;padding-bottom: 0.4em;background-color: white;}#sk-container-id-2 div.sk-label label {font-family: monospace;font-weight: bold;display: inline-block;line-height: 1.2em;}#sk-container-id-2 div.sk-label-container {text-align: center;}#sk-container-id-2 div.sk-container {/* jupyter's `normalize.less` sets `[hidden] { display: none; }` but bootstrap.min.css set `[hidden] { display: none !important; }` so we also need the `!important` here to be able to override the default hidden behavior on the sphinx rendered scikit-learn.org. See: https://github.com/scikit-learn/scikit-learn/issues/21755 */display: inline-block !important;position: relative;}#sk-container-id-2 div.sk-text-repr-fallback {display: none;}</style><div id=\"sk-container-id-2\" class=\"sk-top-container\"><div class=\"sk-text-repr-fallback\"><pre>LinearRegression()</pre><b>In a Jupyter environment, please rerun this cell to show the HTML representation or trust the notebook. <br />On GitHub, the HTML representation is unable to render, please try loading this page with nbviewer.org.</b></div><div class=\"sk-container\" hidden><div class=\"sk-item\"><div class=\"sk-estimator sk-toggleable\"><input class=\"sk-toggleable__control sk-hidden--visually\" id=\"sk-estimator-id-2\" type=\"checkbox\" checked><label for=\"sk-estimator-id-2\" class=\"sk-toggleable__label sk-toggleable__label-arrow\">LinearRegression</label><div class=\"sk-toggleable__content\"><pre>LinearRegression()</pre></div></div></div></div></div>"
      ],
      "text/plain": [
       "LinearRegression()"
      ]
     },
     "execution_count": 24,
     "metadata": {},
     "output_type": "execute_result"
    }
   ],
   "source": [
    "from sklearn.linear_model import LinearRegression\n",
    "model_lr=LinearRegression()\n",
    "model_lr.fit(x_train.values.reshape(-1,1),y_train.values.reshape(-1,1))"
   ]
  },
  {
   "cell_type": "code",
   "execution_count": 25,
   "metadata": {},
   "outputs": [],
   "source": [
    "import joblib\n",
    "joblib.dump(model_lr,\"New_Model_SLR.pickle\")\n",
    "load_model_lr=joblib.load(\"New_Model_SLR.pickle\")"
   ]
  },
  {
   "cell_type": "markdown",
   "metadata": {},
   "source": [
    "# 5. Model Prediction"
   ]
  },
  {
   "cell_type": "code",
   "execution_count": 26,
   "metadata": {},
   "outputs": [
    {
     "data": {
      "text/plain": [
       "array([[71.89782795],\n",
       "       [68.80737031],\n",
       "       [68.75586269],\n",
       "       [71.33124405],\n",
       "       [67.31364912],\n",
       "       [69.94053811],\n",
       "       [69.27093896],\n",
       "       [70.14656862],\n",
       "       [70.55862964],\n",
       "       [68.18927878],\n",
       "       [70.04355337],\n",
       "       [69.94053811],\n",
       "       [71.69179744],\n",
       "       [67.05611098],\n",
       "       [69.68299998],\n",
       "       [67.93174065],\n",
       "       [69.06490845],\n",
       "       [68.65284743],\n",
       "       [70.24958388],\n",
       "       [67.67420251],\n",
       "       [67.72571014],\n",
       "       [69.88903049],\n",
       "       [67.82872539],\n",
       "       [70.35259913],\n",
       "       [69.11641608],\n",
       "       [69.42546184],\n",
       "       [70.81616778],\n",
       "       [70.71315252],\n",
       "       [67.77721777],\n",
       "       [67.62269488],\n",
       "       [68.0347559 ],\n",
       "       [68.54983218],\n",
       "       [67.468172  ],\n",
       "       [68.80737031],\n",
       "       [70.50712201],\n",
       "       [70.40410676],\n",
       "       [67.72571014],\n",
       "       [68.24078641],\n",
       "       [69.52847709],\n",
       "       [70.55862964],\n",
       "       [70.19807625],\n",
       "       [68.54983218],\n",
       "       [68.85887794],\n",
       "       [68.85887794],\n",
       "       [69.83752286],\n",
       "       [68.0347559 ],\n",
       "       [68.70435506],\n",
       "       [68.13777116],\n",
       "       [67.88023302],\n",
       "       [68.54983218],\n",
       "       [69.83752286],\n",
       "       [69.01340082],\n",
       "       [69.06490845],\n",
       "       [70.3010915 ],\n",
       "       [69.63149235],\n",
       "       [67.15912624],\n",
       "       [69.47696947],\n",
       "       [69.01340082],\n",
       "       [66.38651183],\n",
       "       [67.88023302],\n",
       "       [68.65284743],\n",
       "       [69.68299998],\n",
       "       [64.48072962],\n",
       "       [66.54103471],\n",
       "       [67.36515675],\n",
       "       [69.83752286],\n",
       "       [67.82872539],\n",
       "       [67.10761861],\n",
       "       [69.83752286],\n",
       "       [71.4342593 ],\n",
       "       [69.94053811],\n",
       "       [70.14656862],\n",
       "       [69.11641608],\n",
       "       [68.18927878],\n",
       "       [68.08626353],\n",
       "       [67.31364912],\n",
       "       [68.70435506],\n",
       "       [68.24078641],\n",
       "       [68.08626353],\n",
       "       [69.47696947],\n",
       "       [66.85008047],\n",
       "       [69.47696947],\n",
       "       [67.51967963],\n",
       "       [68.54983218],\n",
       "       [66.85008047],\n",
       "       [67.98324828],\n",
       "       [69.7345076 ],\n",
       "       [68.39530929],\n",
       "       [71.53727456],\n",
       "       [66.69555759],\n",
       "       [65.61389742],\n",
       "       [68.65284743],\n",
       "       [69.63149235],\n",
       "       [67.93174065],\n",
       "       [68.13777116],\n",
       "       [68.13777116],\n",
       "       [66.38651183],\n",
       "       [69.06490845],\n",
       "       [70.50712201],\n",
       "       [68.54983218],\n",
       "       [70.45561439],\n",
       "       [68.18927878],\n",
       "       [66.74706522],\n",
       "       [67.468172  ],\n",
       "       [69.1679237 ],\n",
       "       [70.3010915 ],\n",
       "       [69.42546184],\n",
       "       [69.68299998]])"
      ]
     },
     "execution_count": 26,
     "metadata": {},
     "output_type": "execute_result"
    }
   ],
   "source": [
    "y_pred=load_model_lr.predict(x_test.values.reshape(-1,1))\n",
    "y_pred"
   ]
  },
  {
   "cell_type": "markdown",
   "metadata": {},
   "source": [
    "# 6. Model Testing"
   ]
  },
  {
   "cell_type": "code",
   "execution_count": 27,
   "metadata": {},
   "outputs": [
    {
     "name": "stdout",
     "output_type": "stream",
     "text": [
      "0.2662459085467348\n",
      "0.24976537221748907\n"
     ]
    }
   ],
   "source": [
    "print(load_model_lr.score(x_test.values.reshape(-1,1),y_test.values.reshape(-1,1)))\n",
    "print(load_model_lr.score(x_train.values.reshape(-1,1),y_train.values.reshape(-1,1)))"
   ]
  },
  {
   "cell_type": "markdown",
   "metadata": {},
   "source": [
    "# 7. Model Evaluation"
   ]
  },
  {
   "cell_type": "code",
   "execution_count": 28,
   "metadata": {},
   "outputs": [
    {
     "name": "stdout",
     "output_type": "stream",
     "text": [
      "7.073611111111114\n",
      "2.115740740740741\n",
      "2.6596261224298265\n",
      "0.2662459085467348\n",
      "0.24976537221748907\n"
     ]
    }
   ],
   "source": [
    "from sklearn.metrics import mean_absolute_error,mean_squared_error\n",
    "import numpy as np\n",
    "print(mean_squared_error(x_test.values.reshape(-1,1),y_test.values.reshape(-1,1)))\n",
    "print(mean_absolute_error(x_test.values.reshape(-1,1),y_test.values.reshape(-1,1)))\n",
    "print(np.sqrt(mean_squared_error(x_test.values.reshape(-1,1),y_test.values.reshape(-1,1))))\n",
    "\n",
    "print(load_model_lr.score(x_test.values.reshape(-1,1),y_test.values.reshape(-1,1)))\n",
    "print(load_model_lr.score(x_train.values.reshape(-1,1),y_train.values.reshape(-1,1)))"
   ]
  },
  {
   "cell_type": "markdown",
   "metadata": {},
   "source": [
    "# 8. Result Visualization"
   ]
  },
  {
   "cell_type": "code",
   "execution_count": 29,
   "metadata": {},
   "outputs": [
    {
     "data": {
      "image/png": "[encoded data removed]",
      "text/plain": [
       "<Figure size 640x480 with 1 Axes>"
      ]
     },
     "metadata": {},
     "output_type": "display_data"
    }
   ],
   "source": [
    "import matplotlib.pyplot as plt\n",
    "plt.plot(x_test,y_test,\"x\",label=\"y test\")\n",
    "plt.plot(x_test,y_pred,label=\"y pred\")\n",
    "plt.legend()\n",
    "plt.show()"
   ]
  },
  {
   "cell_type": "code",
   "execution_count": null,
   "metadata": {},
   "outputs": [],
   "source": []
  }
 ],
 "metadata": {
  "kernelspec": {
   "display_name": "base",
   "language": "python",
   "name": "python3"
  },
  "language_info": {
   "codemirror_mode": {
    "name": "ipython",
    "version": 3
   },
   "file_extension": ".py",
   "mimetype": "text/x-python",
   "name": "python",
   "nbconvert_exporter": "python",
   "pygments_lexer": "ipython3",
   "version": "3.11.4"
  }
 },
 "nbformat": 4,
 "nbformat_minor": 2
}
