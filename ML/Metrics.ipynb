{
 "cells": [
  {
   "cell_type": "code",
   "execution_count": 10,
   "metadata": {},
   "outputs": [
    {
     "data": {
      "text/plain": [
       "'\\nLoss Function : Mean Squared Error (MSE)\\n                Mean Absolute Error (MAE)\\nEvaluation Metrics :    RMSE (Root Mean Squared Error)\\n                        MAE (Mean Absolute Error)\\n                        (R²) R-squared \\n\\nNote : Mean Absolute Error (MAE) serves both as a loss function during model training and as an evaluation metric to assess model performance.\\n'"
      ]
     },
     "execution_count": 10,
     "metadata": {},
     "output_type": "execute_result"
    }
   ],
   "source": [
    "'''\n",
    "Loss Function : Mean Squared Error (MSE)\n",
    "                Mean Absolute Error (MAE)\n",
    "Evaluation Metrics :    RMSE (Root Mean Squared Error)\n",
    "                        MAE (Mean Absolute Error)\n",
    "                        (R²) R-squared \n",
    "\n",
    "Note : Mean Absolute Error (MAE) serves both as a loss function during model training and as an evaluation metric to assess model performance.\n",
    "'''"
   ]
  },
  {
   "cell_type": "markdown",
   "metadata": {},
   "source": [
    "# Test Accuracy"
   ]
  },
  {
   "cell_type": "code",
   "execution_count": 11,
   "metadata": {},
   "outputs": [
    {
     "name": "stdout",
     "output_type": "stream",
     "text": [
      "x train :  7\n",
      "y train :  7\n",
      "x test :  3\n",
      "y test :  3\n",
      "Score :  0.9914285714285714\n"
     ]
    }
   ],
   "source": [
    "import pandas as pd\n",
    "from sklearn.model_selection import train_test_split\n",
    "from sklearn.linear_model import LinearRegression\n",
    "import numpy as np\n",
    "\n",
    "data1={\"Sal\":[100,200,300,400,500,600,700,800,900,1000],\n",
    "     \"Exp\":[80,300,280,380,480,580,680,780,880,980]}\n",
    "df1=pd.DataFrame(data1)\n",
    "\n",
    "x=df1[\"Sal\"]\n",
    "y=df1[\"Exp\"]\n",
    "x_train,x_test,y_train,y_test=train_test_split(x,y,test_size=0.3)\n",
    "print(\"x train : \",len(np.array(x_train).reshape(-1,1)))\n",
    "print(\"y train : \",len(np.array(y_train).reshape(-1,1)))\n",
    "print(\"x test : \",len(np.array(x_test).reshape(-1,1)))\n",
    "print(\"y test : \",len(np.array(y_test).reshape(-1,1)))\n",
    "\n",
    "lr=LinearRegression()\n",
    "lr.fit(np.array(x_train).reshape(-1,1),np.array(y_train).reshape(-1,1))\n",
    "y_pred=lr.predict(np.array(x_test).reshape(-1,1))\n",
    "score=lr.score(np.array(y_test).reshape(-1,1),y_pred)\n",
    "print(\"Score : \",score)"
   ]
  },
  {
   "cell_type": "markdown",
   "metadata": {},
   "source": [
    "# MSE(Mean Sqaured error)"
   ]
  },
  {
   "cell_type": "code",
   "execution_count": 12,
   "metadata": {},
   "outputs": [
    {
     "name": "stdout",
     "output_type": "stream",
     "text": [
      "MSE(Mean Squared Error): 327.6860097673068\n"
     ]
    }
   ],
   "source": [
    "from sklearn.metrics import mean_squared_error\n",
    "import numpy as np\n",
    "mse = mean_squared_error(y_test, y_pred)\n",
    "print(f\"MSE(Mean Squared Error): {mse}\")"
   ]
  },
  {
   "cell_type": "markdown",
   "metadata": {},
   "source": [
    "# RMSE(Root Mean Squared Error)"
   ]
  },
  {
   "cell_type": "code",
   "execution_count": 13,
   "metadata": {},
   "outputs": [
    {
     "name": "stdout",
     "output_type": "stream",
     "text": [
      "RMSE(Root Mean Squared Error): 18.102099595552634\n"
     ]
    }
   ],
   "source": [
    "from sklearn.metrics import mean_squared_error\n",
    "import numpy as np\n",
    "rmse = np.sqrt(mean_squared_error(y_test, y_pred))\n",
    "print(f\"RMSE(Root Mean Squared Error): {rmse}\")"
   ]
  },
  {
   "cell_type": "markdown",
   "metadata": {},
   "source": [
    "### MAE(Mean Absolute Error)"
   ]
  },
  {
   "cell_type": "code",
   "execution_count": 14,
   "metadata": {},
   "outputs": [
    {
     "name": "stdout",
     "output_type": "stream",
     "text": [
      "MAE(Mean Absolute Error): 4.002118083283195\n"
     ]
    }
   ],
   "source": [
    "from sklearn.metrics import mean_absolute_error\n",
    "import numpy as np\n",
    "mae = np.sqrt(mean_absolute_error(y_test, y_pred))\n",
    "print(f\"MAE(Mean Absolute Error): {mae}\")"
   ]
  },
  {
   "cell_type": "markdown",
   "metadata": {},
   "source": [
    "### R square"
   ]
  },
  {
   "cell_type": "code",
   "execution_count": 15,
   "metadata": {},
   "outputs": [
    {
     "name": "stdout",
     "output_type": "stream",
     "text": [
      "R-Squared: 0.9929781569335577\n"
     ]
    }
   ],
   "source": [
    "from sklearn.metrics import r2_score\n",
    "r2 = r2_score(y_test, y_pred)\n",
    "print(f\"R-Squared: {r2}\")"
   ]
  },
  {
   "cell_type": "code",
   "execution_count": null,
   "metadata": {},
   "outputs": [],
   "source": []
  }
 ],
 "metadata": {
  "kernelspec": {
   "display_name": "base",
   "language": "python",
   "name": "python3"
  },
  "language_info": {
   "codemirror_mode": {
    "name": "ipython",
    "version": 3
   },
   "file_extension": ".py",
   "mimetype": "text/x-python",
   "name": "python",
   "nbconvert_exporter": "python",
   "pygments_lexer": "ipython3",
   "version": "3.11.4"
  }
 },
 "nbformat": 4,
 "nbformat_minor": 2
}
