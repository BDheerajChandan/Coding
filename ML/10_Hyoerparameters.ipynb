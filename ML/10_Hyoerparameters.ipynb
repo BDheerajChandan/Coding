{
 "cells": [
  {
   "cell_type": "code",
   "execution_count": 1,
   "metadata": {},
   "outputs": [
    {
     "data": {
      "text/plain": [
       "\"\\nwhile True:\\n    Collect the data\\n    Structured the data\\n    Load the data into Python\\n    Understand it \\n    clean - preprocess - stage\\n    split - Feature and labels (Train and tests)\\n    ====================================================\\n    Choose the model & import\\n    Instantiate the model and choose hyperparameters\\n    ====================================================\\n    Training ------ training validation\\n    Testing----------testing validation\\n    if validation=='Pass':\\n        save the model into permanrnt memory\\n        pickle dumping\\n        break\\n    else:\\n        change step 6,7,8,9\\n        continue\\n\\nInfrence\\nLoading the model - pickle load\\nprediction - real \\n\""
      ]
     },
     "execution_count": 1,
     "metadata": {},
     "output_type": "execute_result"
    }
   ],
   "source": [
    "'''\n",
    "while True:\n",
    "    Collect the data\n",
    "    Structured the data\n",
    "    Load the data into Python\n",
    "    Understand it \n",
    "    clean - preprocess - stage\n",
    "    split - Feature and labels (Train and tests)\n",
    "    ====================================================\n",
    "    Choose the model & import\n",
    "    Instantiate the model and choose hyperparameters\n",
    "    ====================================================\n",
    "    Training ------ training validation\n",
    "    Testing----------testing validation\n",
    "    if validation=='Pass':\n",
    "        save the model into permanrnt memory\n",
    "        pickle dumping\n",
    "        break\n",
    "    else:\n",
    "        change step 6,7,8,9\n",
    "        continue\n",
    "\n",
    "Infrence\n",
    "Loading the model - pickle load\n",
    "prediction - real \n",
    "'''"
   ]
  },
  {
   "cell_type": "code",
   "execution_count": 2,
   "metadata": {},
   "outputs": [
    {
     "name": "stdout",
     "output_type": "stream",
     "text": [
      "0\n",
      "False    1599\n",
      "Name: quality, dtype: int64\n",
      "count    1599.000000\n",
      "mean        5.636023\n",
      "std         0.807569\n",
      "min         3.000000\n",
      "25%         5.000000\n",
      "50%         6.000000\n",
      "75%         6.000000\n",
      "max         8.000000\n",
      "Name: quality, dtype: float64\n",
      "(1119, 11)\n",
      "(1119,)\n"
     ]
    }
   ],
   "source": [
    "import pandas as pd\n",
    "df=pd.read_csv(\"winequality-red.csv\",sep=';')\n",
    "print(df[\"quality\"].isnull().sum())\n",
    "print(df[\"quality\"].isnull().value_counts())\n",
    "print(df[\"quality\"].describe())\n",
    "\n",
    "x=df.drop([\"quality\"],axis=1)\n",
    "y=df[\"quality\"]\n",
    "\n",
    "from sklearn.model_selection import train_test_split\n",
    "x_train,x_test,y_train,y_test=train_test_split(x,y,test_size=0.3)\n",
    "print(x_train.shape)\n",
    "print(y_train.shape)"
   ]
  },
  {
   "cell_type": "code",
   "execution_count": 3,
   "metadata": {},
   "outputs": [
    {
     "name": "stdout",
     "output_type": "stream",
     "text": [
      "Train score :  0.9946380697050938\n",
      "Test Score :  0.675\n"
     ]
    }
   ],
   "source": [
    "from sklearn.ensemble import RandomForestClassifier\n",
    "model=RandomForestClassifier(n_estimators=20)\n",
    "model.fit(x_train,y_train)\n",
    "\n",
    "print(\"Train score : \",model.score(x_train,y_train))\n",
    "print(\"Test Score : \",model.score(x_test,y_test))"
   ]
  },
  {
   "cell_type": "code",
   "execution_count": 4,
   "metadata": {},
   "outputs": [
    {
     "name": "stdout",
     "output_type": "stream",
     "text": [
      "Train score :  0.516532618409294\n",
      "Test Score :  0.48333333333333334\n"
     ]
    }
   ],
   "source": [
    "from sklearn.svm import SVC\n",
    "model=SVC()\n",
    "model.fit(x_train,y_train)\n",
    "\n",
    "print(\"Train score : \",model.score(x_train,y_train))\n",
    "print(\"Test Score : \",model.score(x_test,y_test))"
   ]
  },
  {
   "cell_type": "code",
   "execution_count": 5,
   "metadata": {},
   "outputs": [
    {
     "name": "stdout",
     "output_type": "stream",
     "text": [
      "Train score :  0.516532618409294\n",
      "Test Score :  0.48333333333333334\n"
     ]
    }
   ],
   "source": [
    "from sklearn.svm import SVC\n",
    "\n",
    "model=SVC()\n",
    "model.fit(x_train,y_train)\n",
    "print(\"Train score : \",model.score(x_train,y_train))\n",
    "print(\"Test Score : \",model.score(x_test,y_test))"
   ]
  },
  {
   "cell_type": "code",
   "execution_count": 6,
   "metadata": {},
   "outputs": [],
   "source": [
    "from sklearn.svm import SVC\n",
    "from sklearn.model_selection import GridSearchCV\n",
    "import warnings\n",
    "warnings.filterwarnings(\"ignore\")\n",
    "\n",
    "# Define the model\n",
    "model = SVC()\n",
    "\n",
    "# Define the parameter grid\n",
    "param_grid = {\n",
    "    \"kernel\": [\"rbf\", \"poly\", \"sigmoid\"],\n",
    "    \"gamma\": [\"scale\", \"auto\"]\n",
    "}\n",
    "\n",
    "# Create the GridSearchCV object\n",
    "grid_model = GridSearchCV(model, param_grid=param_grid, cv=None)\n",
    "\n",
    "# Fit the grid model to the training data\n",
    "grid_model.fit(x_train, y_train)\n",
    "\n",
    "# Print the best score and best parameters\n",
    "print(\"Best possible score: \", grid_model.best_score_)\n",
    "print(\"Best possible configuration: \", grid_model.best_params_)\n",
    "\n",
    "# Optionally, you can also print the train and test scores of the best model\n",
    "print(\"Train score: \", grid_model.best_estimator_.score(x_train, y_train))\n",
    "print(\"Test score: \", grid_model.best_estimator_.score(x_test, y_test))\n"
   ]
  },
  {
   "cell_type": "code",
   "execution_count": null,
   "metadata": {},
   "outputs": [
    {
     "name": "stdout",
     "output_type": "stream",
     "text": [
      "Best possible score:  0.5344057193923146\n",
      "Best possible configuration:  {'weights': 'distance', 'n_neighbors': 7, 'algorithm': 'brute'}\n",
      "Train score:  1.0\n",
      "Test score:  0.5854166666666667\n"
     ]
    }
   ],
   "source": [
    "from sklearn.neighbors import KNeighborsClassifier\n",
    "from sklearn.model_selection import GridSearchCV, RandomizedSearchCV\n",
    "import warnings\n",
    "warnings.filterwarnings(\"ignore\")\n",
    "\n",
    "# Define the model\n",
    "model = KNeighborsClassifier()\n",
    "\n",
    "# Define the parameter grid\n",
    "param_distributions = {\n",
    "    \"n_neighbors\": [3, 5, 7],  # Correct parameter name is 'n_neighbors'\n",
    "    \"weights\": [\"uniform\", \"distance\"],\n",
    "    \"algorithm\": [\"auto\", \"ball_tree\", \"kd_tree\", \"brute\"]\n",
    "}\n",
    "\n",
    "# Create the RandomizedSearchCV object\n",
    "random_search_model = RandomizedSearchCV(model, param_distributions=param_distributions, cv=1, n_iter=1)\n",
    "\n",
    "# Fit the random search model to the training data\n",
    "random_search_model.fit(x_train, y_train)\n",
    "\n",
    "# Print the best score and best parameters\n",
    "print(\"Best possible score: \", random_search_model.best_score_)\n",
    "print(\"Best possible configuration: \", random_search_model.best_params_)\n",
    "\n",
    "# Optionally, you can also print the train and test scores of the best model\n",
    "print(\"Train score: \", random_search_model.best_estimator_.score(x_train, y_train))\n",
    "print(\"Test score: \", random_search_model.best_estimator_.score(x_test, y_test))\n"
   ]
  },
  {
   "cell_type": "code",
   "execution_count": null,
   "metadata": {},
   "outputs": [],
   "source": [
    "from sklearn.preprocessing import StandardScaler\n",
    "x_train=[5,4,2,9,0]\n",
    "x_test[2,0]\n",
    "\n",
    "ss=StandardScaler()\n",
    "ss.fit_transform(x_train)\n",
    "ss.transform(x_test)"
   ]
  },
  {
   "cell_type": "code",
   "execution_count": 2,
   "metadata": {},
   "outputs": [
    {
     "name": "stdout",
     "output_type": "stream",
     "text": [
      "0\n",
      "False    1599\n",
      "Name: quality, dtype: int64\n",
      "count    1599.000000\n",
      "mean        5.636023\n",
      "std         0.807569\n",
      "min         3.000000\n",
      "25%         5.000000\n",
      "50%         6.000000\n",
      "75%         6.000000\n",
      "max         8.000000\n",
      "Name: quality, dtype: float64\n",
      "(1279, 11)\n",
      "(1279,)\n",
      "(1279, 11)\n",
      "\n",
      "(1279, 8)\n"
     ]
    }
   ],
   "source": [
    "import pandas as pd\n",
    "df=pd.read_csv(\"winequality-red.csv\",sep=';')\n",
    "print(df[\"quality\"].isnull().sum())\n",
    "print(df[\"quality\"].isnull().value_counts())\n",
    "print(df[\"quality\"].describe())\n",
    "\n",
    "x=df.drop([\"quality\"],axis=1)\n",
    "y=df[\"quality\"]\n",
    "\n",
    "from sklearn.model_selection import train_test_split\n",
    "x_train,x_test,y_train,y_test=train_test_split(x,y,test_size=0.2,random_state=44)\n",
    "print(x_train.shape)\n",
    "print(y_train.shape)\n",
    "\n",
    "from sklearn.preprocessing import StandardScaler\n",
    "ss=StandardScaler()\n",
    "x_train=ss.fit_transform(x_train)\n",
    "x_test=ss.transform(x_test)\n",
    "print(x_train.shape)\n",
    "print()\n",
    "\n",
    "from sklearn.decomposition import PCA\n",
    "pca=PCA(n_components=8)\n",
    "x_train=pca.fit_transform(x_train)\n",
    "x_test=pca.transform(x_test)\n",
    "print(x_train.shape)\n"
   ]
  },
  {
   "cell_type": "code",
   "execution_count": null,
   "metadata": {},
   "outputs": [],
   "source": []
  }
 ],
 "metadata": {
  "kernelspec": {
   "display_name": "base",
   "language": "python",
   "name": "python3"
  },
  "language_info": {
   "codemirror_mode": {
    "name": "ipython",
    "version": 3
   },
   "file_extension": ".py",
   "mimetype": "text/x-python",
   "name": "python",
   "nbconvert_exporter": "python",
   "pygments_lexer": "ipython3",
   "version": "3.11.4"
  }
 },
 "nbformat": 4,
 "nbformat_minor": 2
}
