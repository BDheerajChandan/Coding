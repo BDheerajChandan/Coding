{
 "cells": [
  {
   "cell_type": "markdown",
   "metadata": {},
   "source": [
    "# Decision Trees"
   ]
  },
  {
   "cell_type": "code",
   "execution_count": null,
   "metadata": {},
   "outputs": [],
   "source": [
    "'''\n",
    "'''"
   ]
  },
  {
   "cell_type": "code",
   "execution_count": 15,
   "metadata": {},
   "outputs": [
    {
     "name": "stdout",
     "output_type": "stream",
     "text": [
      "0.5169642857142858\n"
     ]
    }
   ],
   "source": [
    "import pandas as pd\n",
    "from sklearn.model_selection import train_test_split\n",
    "from sklearn.tree import DecisionTreeClassifier\n",
    "df=pd.read_csv(\"winequality-red.csv\",sep=\";\")\n",
    "#print(df.head())\n",
    "y=df[\"quality\"]\n",
    "x=df.drop([\"quality\"],axis=1)\n",
    "\n",
    "x_train,x_test,y_train,y_test=train_test_split(x,y,test_size=0.7)\n",
    "model=DecisionTreeClassifier()\n",
    "model.fit(x_train,y_train)\n",
    "print(model.score(x_test,y_test))"
   ]
  },
  {
   "cell_type": "markdown",
   "metadata": {},
   "source": [
    "# Random Forest"
   ]
  },
  {
   "cell_type": "code",
   "execution_count": 16,
   "metadata": {},
   "outputs": [
    {
     "data": {
      "text/plain": [
       "'\\n- It is a bagging technique\\n- It is a Collection of Decision tree.\\n- It can be used for both regression and Classification\\n- Regression (predicting a continuous output)\\n- Classification (predicting a categorical output) tasks\\n- Implemnentation of multliple decision trees over the different bags of data\\n  uses a technique called bootstrap aggregating, or bagging, where multiple subsets of the dataset (bags) are created by random sampling with replacement. \\n  Each subset is used to train a different decision tree.\\n- Trained individulally paralalleyy on interupted to each othr  or parallelly to each other\\n'"
      ]
     },
     "execution_count": 16,
     "metadata": {},
     "output_type": "execute_result"
    }
   ],
   "source": [
    "'''\n",
    "- It is a bagging technique\n",
    "- It is a Collection of Decision tree.\n",
    "- It can be used for both regression and Classification\n",
    "- Regression (predicting a continuous output)\n",
    "- Classification (predicting a categorical output) tasks\n",
    "- Implemnentation of multliple decision trees over the different bags of data\n",
    "  uses a technique called bootstrap aggregating, or bagging, where multiple subsets of the dataset (bags) are created by random sampling with replacement. \n",
    "  Each subset is used to train a different decision tree.\n",
    "- Trained individulally paralalleyy on interupted to each othr  or parallelly to each other\n",
    "'''\n",
    "# Bagging training process is independent and parallell. Example : Random Forest\n",
    "# Boosting is Sequential, each model corrects previous errors. Example : AdaBoost, Gradient Boosting, XGBoost\n"
   ]
  },
  {
   "cell_type": "code",
   "execution_count": 17,
   "metadata": {},
   "outputs": [
    {
     "name": "stdout",
     "output_type": "stream",
     "text": [
      "0.6285714285714286\n"
     ]
    }
   ],
   "source": [
    "import pandas as pd\n",
    "from sklearn.model_selection import train_test_split\n",
    "from sklearn.ensemble import RandomForestClassifier\n",
    "df=pd.read_csv(\"winequality-red.csv\",sep=\";\")\n",
    "#print(df.head())\n",
    "y=df[\"quality\"]\n",
    "x=df.drop([\"quality\"],axis=1)\n",
    "\n",
    "x_train,x_test,y_train,y_test=train_test_split(x,y,test_size=0.7)\n",
    "model=RandomForestClassifier()\n",
    "model.fit(x_train,y_train)\n",
    "print(model.score(x_test,y_test))"
   ]
  }
 ],
 "metadata": {
  "kernelspec": {
   "display_name": "base",
   "language": "python",
   "name": "python3"
  },
  "language_info": {
   "codemirror_mode": {
    "name": "ipython",
    "version": 3
   },
   "file_extension": ".py",
   "mimetype": "text/x-python",
   "name": "python",
   "nbconvert_exporter": "python",
   "pygments_lexer": "ipython3",
   "version": "3.11.4"
  }
 },
 "nbformat": 4,
 "nbformat_minor": 2
}
