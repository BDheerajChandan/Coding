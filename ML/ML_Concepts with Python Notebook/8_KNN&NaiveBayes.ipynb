{
 "cells": [
  {
   "cell_type": "markdown",
   "metadata": {},
   "source": [
    "# KNN (K neareset Neighbour)"
   ]
  },
  {
   "cell_type": "code",
   "execution_count": 3,
   "metadata": {},
   "outputs": [
    {
     "data": {
      "text/plain": [
       "\"\\nKNN can handle continuous numerical features directly and doesn't require binning or discretization.\\nSteps : \\n    1. Train a KNN model on your training data.\\n    2. Predict the labels for the test data.\\n    3. Calculate the accuracy if you have the true labels for the test data.\\n\""
      ]
     },
     "execution_count": 3,
     "metadata": {},
     "output_type": "execute_result"
    }
   ],
   "source": [
    "'''\n",
    "KNN can handle continuous numerical features directly and doesn't require binning or discretization.\n",
    "Steps : \n",
    "    1. Train a KNN model on your training data.\n",
    "    2. Predict the labels for the test data.\n",
    "    3. Calculate the accuracy if you have the true labels for the test data.\n",
    "'''"
   ]
  },
  {
   "cell_type": "code",
   "execution_count": 4,
   "metadata": {},
   "outputs": [
    {
     "name": "stdout",
     "output_type": "stream",
     "text": [
      "[1 2 3]\n"
     ]
    }
   ],
   "source": [
    "from sklearn.linear_model import LogisticRegression as lgr\n",
    "x=[[200],[120],[650],[586],[700],[10200],[20302],[68494]]\n",
    "y=[1,1,2,2,2,3,3,3]\n",
    "x_pred=[[100],[755],[35000]]\n",
    "model=lgr()\n",
    "model.fit(x,y)\n",
    "y_pred=model.predict(x_pred)\n",
    "print(y_pred)"
   ]
  },
  {
   "cell_type": "code",
   "execution_count": 5,
   "metadata": {},
   "outputs": [
    {
     "name": "stdout",
     "output_type": "stream",
     "text": [
      "(KNN) y predicted value :  [1 2 3]\n"
     ]
    },
    {
     "data": {
      "image/png": "[encoded data removed]",
      "text/plain": [
       "<Figure size 640x480 with 1 Axes>"
      ]
     },
     "metadata": {},
     "output_type": "display_data"
    }
   ],
   "source": [
    "from sklearn.neighbors import KNeighborsClassifier as kns\n",
    "import matplotlib.pyplot as plt\n",
    "#x=[[200],[120],[650],[586],[700],[10200],[20302],[68494]]\n",
    "#x=[[200],[120],[650],[586],[700],[1020],[2030],[1044]]\n",
    "#y=[1,1,2,2,2,3,3,3]\n",
    "x=[[200],[340],[120],[700],[300],[8000],[1000]]\n",
    "y=[1,2,1,3,2,3,3]\n",
    "x_pred=[[70],[620],[1230]]\n",
    "x_pred=[[100],[755],[35000]]\n",
    "model=kns(n_neighbors=5)\n",
    "model.fit(x,y)\n",
    "y_pred=model.predict(x_pred)\n",
    "print(\"(KNN) y predicted value : \",y_pred)\n",
    "\n",
    "plt.scatter(x[:2],y[:2],color=\"r\")\n",
    "plt.scatter(x[2:5],y[2:5],color=\"g\")\n",
    "plt.scatter(x[5:],y[5:],color=\"b\")\n",
    "plt.scatter(x_pred,y_pred,marker=\"*\",color=\"y\")\n",
    "plt.show()"
   ]
  },
  {
   "cell_type": "markdown",
   "metadata": {},
   "source": [
    "# Naive Bayes"
   ]
  },
  {
   "cell_type": "code",
   "execution_count": 6,
   "metadata": {},
   "outputs": [
    {
     "data": {
      "text/plain": [
       "'\\n\\n'"
      ]
     },
     "execution_count": 6,
     "metadata": {},
     "output_type": "execute_result"
    }
   ],
   "source": [
    "'''\n",
    "\n",
    "'''"
   ]
  },
  {
   "cell_type": "code",
   "execution_count": 7,
   "metadata": {},
   "outputs": [
    {
     "name": "stdout",
     "output_type": "stream",
     "text": [
      "(Naive Bayes) y predicted value :  [3 3 3]\n"
     ]
    },
    {
     "data": {
      "image/png": "[encoded data removed]",
      "text/plain": [
       "<Figure size 640x480 with 1 Axes>"
      ]
     },
     "metadata": {},
     "output_type": "display_data"
    }
   ],
   "source": [
    "from sklearn.naive_bayes import CategoricalNB\n",
    "import matplotlib.pyplot as plt\n",
    "import numpy as np\n",
    "#x=[[200],[120],[650],[586],[700],[10200],[20302],[68494]]\n",
    "x=[[200],[340],[120],[700],[300],[8000],[1000]]\n",
    "y=[1,2,1,3,2,3,3]\n",
    "x_pred=[[70],[620],[1230]]\n",
    "model=CategoricalNB()\n",
    "model.fit(x,y)\n",
    "y_pred=model.predict(x_pred)\n",
    "print(\"(Naive Bayes) y predicted value : \",y_pred)\n",
    "\n",
    "\n",
    "plt.scatter(x[:2],y[:2],color=\"r\")\n",
    "plt.scatter(x[2:5],y[2:5],color=\"g\")\n",
    "plt.scatter(x[5:],y[5:],color=\"b\")\n",
    "plt.scatter(x_pred,y_pred,marker=\"*\",color=\"y\")\n",
    "plt.show()"
   ]
  },
  {
   "cell_type": "code",
   "execution_count": 8,
   "metadata": {},
   "outputs": [
    {
     "name": "stdout",
     "output_type": "stream",
     "text": [
      "Accuracy: 0.7142857142857143\n"
     ]
    }
   ],
   "source": [
    "from sklearn.naive_bayes import CategoricalNB\n",
    "from sklearn.metrics import accuracy_score\n",
    "\n",
    "nb_classifier = CategoricalNB()\n",
    "x=[[200],[340],[120],[700],[300],[8000],[1000]]\n",
    "y=[1,2,1,3,2,3,3]\n",
    "x_pred=[[200],[340],[121],[705],[301],[8000],[1000]]\n",
    "\n",
    "nb_classifier.fit(x, y)\n",
    "y_pred = nb_classifier.predict(x_pred)\n",
    "accuracy = accuracy_score(y, y_pred)\n",
    "print(\"Accuracy:\", accuracy)"
   ]
  },
  {
   "cell_type": "code",
   "execution_count": 9,
   "metadata": {},
   "outputs": [
    {
     "name": "stdout",
     "output_type": "stream",
     "text": [
      "Accuracy: 0.9777777777777777\n"
     ]
    }
   ],
   "source": [
    "#Bayes classifier\n",
    "from sklearn.datasets import load_iris\n",
    "from sklearn.model_selection import train_test_split\n",
    "from sklearn.naive_bayes import GaussianNB\n",
    "from sklearn.metrics import accuracy_score\n",
    "\n",
    "# Load the Iris dataset\n",
    "iris = load_iris()\n",
    "X = iris.data\n",
    "y = iris.target\n",
    "\n",
    "# Split the dataset into training and testing sets\n",
    "X_train, X_test, y_train, y_test = train_test_split(X, y, test_size=0.3, random_state=42)\n",
    "\n",
    "# Initialize the Gaussian Naive Bayes classifier\n",
    "nb_classifier = GaussianNB()\n",
    "\n",
    "# Train the classifier on the training data\n",
    "nb_classifier.fit(X_train, y_train)\n",
    "\n",
    "# Make predictions on the testing data\n",
    "y_pred = nb_classifier.predict(X_test)\n",
    "\n",
    "# Evaluate the accuracy of the classifier\n",
    "accuracy = accuracy_score(y_test, y_pred)\n",
    "print(\"Accuracy:\", accuracy)\n"
   ]
  },
  {
   "cell_type": "code",
   "execution_count": null,
   "metadata": {},
   "outputs": [],
   "source": []
  }
 ],
 "metadata": {
  "kernelspec": {
   "display_name": "base",
   "language": "python",
   "name": "python3"
  },
  "language_info": {
   "codemirror_mode": {
    "name": "ipython",
    "version": 3
   },
   "file_extension": ".py",
   "mimetype": "text/x-python",
   "name": "python",
   "nbconvert_exporter": "python",
   "pygments_lexer": "ipython3",
   "version": "3.11.4"
  }
 },
 "nbformat": 4,
 "nbformat_minor": 2
}
