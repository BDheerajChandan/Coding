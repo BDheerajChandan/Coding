{
 "cells": [
  {
   "cell_type": "markdown",
   "metadata": {},
   "source": [
    "### Data Preparation\n",
    "'''\n",
    "Load the data\n",
    "'''"
   ]
  },
  {
   "cell_type": "code",
   "execution_count": 2,
   "metadata": {},
   "outputs": [
    {
     "name": "stdout",
     "output_type": "stream",
     "text": [
      "DataFrame Column names :  Index(['fixed acidity;\"volatile acidity\";\"citric acid\";\"residual sugar\";\"chlorides\";\"free sulfur dioxide\";\"total sulfur dioxide\";\"density\";\"pH\";\"sulphates\";\"alcohol\";\"quality\"'], dtype='object')\n",
      "  fixed acidity;\"volatile acidity\";\"citric acid\";\"residual sugar\";\"chlorides\";\"free sulfur dioxide\";\"total sulfur dioxide\";\"density\";\"pH\";\"sulphates\";\"alcohol\";\"quality\"\n",
      "0   7.4;0.7;0;1.9;0.076;11;34;0.9978;3.51;0.56;9.4;5                                                                                                                     \n",
      "1   7.8;0.88;0;2.6;0.098;25;67;0.9968;3.2;0.68;9.8;5                                                                                                                     \n",
      "2  7.8;0.76;0.04;2.3;0.092;15;54;0.997;3.26;0.65;...                                                                                                                     \n",
      "3  11.2;0.28;0.56;1.9;0.075;17;60;0.998;3.16;0.58...                                                                                                                     \n",
      "4   7.4;0.7;0;1.9;0.076;11;34;0.9978;3.51;0.56;9.4;5                                                                                                                     \n",
      "     fixed acidity;\"volatile acidity\";\"citric acid\";\"residual sugar\";\"chlorides\";\"free sulfur dioxide\";\"total sulfur dioxide\";\"density\";\"pH\";\"sulphates\";\"alcohol\";\"quality\"\n",
      "1594  6.2;0.6;0.08;2;0.09;32;44;0.9949;3.45;0.58;10.5;5                                                                                                                     \n",
      "1595  5.9;0.55;0.1;2.2;0.062;39;51;0.99512;3.52;0.76...                                                                                                                     \n",
      "1596  6.3;0.51;0.13;2.3;0.076;29;40;0.99574;3.42;0.7...                                                                                                                     \n",
      "1597  5.9;0.645;0.12;2;0.075;32;44;0.99547;3.57;0.71...                                                                                                                     \n",
      "1598  6;0.31;0.47;3.6;0.067;18;42;0.99549;3.39;0.66;...                                                                                                                     \n"
     ]
    }
   ],
   "source": [
    "import pandas as pd\n",
    "# 1. Loading the data\n",
    "df1=pd.read_csv(\"winequality-red.csv\")\n",
    "print(\"DataFrame Column names : \",df1.columns)\n",
    "print(df1.head())\n",
    "print(df1.tail())\n",
    "\n",
    "\n"
   ]
  },
  {
   "cell_type": "code",
   "execution_count": 3,
   "metadata": {},
   "outputs": [
    {
     "name": "stdout",
     "output_type": "stream",
     "text": [
      "(1599, 2)\n"
     ]
    }
   ],
   "source": [
    "# 2. Label and dataspilt for rearranging in order\n",
    "import numpy as np\n",
    "df2=pd.read_csv(\"winequality-red.csv\",sep=';')\n",
    "#print(df2.head())\n",
    "#x=df2.drop([\"quality\"],axis=1) # feature\n",
    "#y=df2[\"quality\"] # label\n",
    "y=np.array(df2[\"quality\"])\n",
    "x=df2.drop([\"quality\",\"residual sugar\",\"free sulfur dioxide\",\"pH\"],axis=1)\n",
    "x=np.array(df2[[\"alcohol\",\"volatile acidity\"]])\n",
    "print(np.array(x).shape)\n",
    "#print(x.head()) #df2[\"quality\"]\n",
    "#print(y.head())"
   ]
  },
  {
   "cell_type": "markdown",
   "metadata": {},
   "source": [
    "# Data Cleaning and correlationa and covariance"
   ]
  },
  {
   "cell_type": "code",
   "execution_count": 4,
   "metadata": {},
   "outputs": [
    {
     "name": "stdout",
     "output_type": "stream",
     "text": [
      "fixed acidity           0\n",
      "volatile acidity        0\n",
      "citric acid             0\n",
      "residual sugar          0\n",
      "chlorides               0\n",
      "free sulfur dioxide     0\n",
      "total sulfur dioxide    0\n",
      "density                 0\n",
      "pH                      0\n",
      "sulphates               0\n",
      "alcohol                 0\n",
      "quality                 0\n",
      "dtype: int64\n",
      "[5, 5, 5, 6, 5, 5, 5, 7, 7, 5, 5, 5, 5, 5, 5, 5, 7, 5, 4, 6, 6, 5, 5, 5, 6, 5, 5, 5, 5, 6, 5, 6, 5, 6, 5, 6, 6, 7, 4, 5, 5, 4, 6, 5, 5, 4, 5, 5, 5, 5, 5, 6, 6, 5, 6, 5, 5, 5, 5, 6, 5, 5, 7, 5, 5, 5, 5, 5, 5, 6, 6, 5, 5, 4, 5, 5, 5, 6, 5, 4, 5, 5, 5, 5, 6, 5, 6, 5, 5, 5, 5, 6, 5, 5, 4, 6, 5, 5, 5, 6, 6, 6, 6, 5, 5, 5, 5, 5, 6, 5, 5, 5, 5, 6, 5, 6, 6, 6, 6, 6, 5, 6, 5, 5, 5, 5, 5, 5, 7, 5, 5, 5, 5, 6, 6, 5, 5, 5, 5, 5, 5, 5, 6, 5, 6, 5, 5, 5, 6, 6, 6, 4, 5, 5, 5, 5, 5, 5, 5, 6, 5, 4, 6, 5, 5, 5, 5, 4, 6, 5, 4, 6, 6, 6, 5, 5, 5, 6, 5, 5, 5, 5, 5, 5, 6, 5, 5, 5, 5, 5, 5, 6, 5, 5, 5, 5, 5, 6, 7, 4, 7, 5, 5, 5, 6, 7, 7, 5, 5, 7, 6, 6, 6, 5, 6, 5, 5, 5, 5, 5, 6, 5, 5, 6, 4, 6, 6, 5, 6, 5, 7, 6, 6, 5, 6, 6, 6, 6, 6, 6, 5, 6, 6, 7, 7, 6, 5, 5, 6, 6, 6, 6, 5, 5, 6, 5, 5, 5, 5, 7, 5, 4, 5, 5, 5, 7, 4, 8, 6, 6, 6, 6, 5, 5, 5, 6, 6, 6, 8, 7, 6, 7, 5, 7, 5, 5, 6, 6, 7, 5, 7, 5, 6, 6, 6, 5, 5, 5, 5, 5, 6, 6, 5, 5, 5, 6, 5, 6, 6, 6, 6, 6, 6, 5, 5, 6, 5, 6, 7, 6, 7, 5, 5, 6, 6, 6, 7, 5, 6, 5, 6, 6, 6, 5, 7, 7, 6, 5, 6, 7, 6, 6, 6, 6, 6, 5, 7, 6, 6, 6, 6, 6, 5, 5, 6, 6, 5, 7, 7, 6, 5, 6, 5, 5, 7, 6, 7, 5, 5, 7, 5, 6, 6, 5, 6, 7, 6, 7, 6, 6, 6, 6, 6, 6, 5, 6, 6, 6, 6, 7, 8, 6, 5, 5, 5, 7, 5, 6, 6, 5, 5, 6, 6, 6, 5, 6, 6, 7, 6, 4, 6, 5, 5, 7, 5, 5, 6, 5, 6, 5, 7, 7, 5, 7, 5, 7, 6, 6, 5, 6, 7, 5, 6, 5, 6, 5, 6, 6, 6, 5, 8, 6, 7, 7, 7, 6, 5, 5, 6, 6, 6, 6, 6, 7, 5, 8, 5, 5, 7, 3, 6, 5, 5, 5, 6, 5, 6, 6, 6, 5, 5, 6, 6, 5, 6, 5, 5, 6, 5, 6, 5, 8, 5, 5, 6, 5, 5, 6, 7, 6, 6, 7, 7, 6, 6, 8, 6, 5, 8, 6, 6, 7, 7, 7, 7, 7, 7, 6, 6, 7, 5, 6, 6, 7, 7, 5, 6, 3, 6, 5, 6, 5, 5, 5, 5, 5, 5, 6, 6, 5, 6, 5, 5, 6, 6, 6, 5, 6, 7, 5, 5, 6, 5, 6, 6, 5, 6, 6, 6, 6, 6, 6, 6, 5, 5, 5, 6, 5, 6, 6, 5, 5, 5, 6, 6, 5, 6, 6, 6, 6, 6, 6, 5, 4, 6, 6, 4, 5, 5, 6, 5, 5, 5, 7, 7, 6, 7, 5, 8, 7, 5, 6, 5, 5, 5, 5, 6, 6, 6, 6, 4, 6, 5, 6, 6, 6, 7, 6, 6, 6, 5, 5, 6, 5, 6, 5, 5, 6, 5, 5, 5, 5, 5, 6, 5, 5, 5, 5, 6, 5, 6, 5, 6, 4, 5, 5, 5, 5, 7, 6, 5, 5, 5, 5, 5, 7, 5, 4, 7, 6, 5, 5, 5, 6, 5, 5, 5, 7, 6, 4, 6, 5, 6, 6, 5, 5, 6, 6, 5, 6, 5, 5, 5, 5, 6, 5, 6, 5, 5, 5, 5, 6, 5, 5, 5, 5, 5, 5, 5, 5, 3, 5, 5, 5, 5, 6, 6, 6, 5, 6, 6, 6, 6, 4, 4, 5, 5, 5, 6, 6, 5, 5, 5, 5, 5, 6, 5, 5, 5, 5, 5, 5, 5, 5, 4, 5, 6, 5, 5, 6, 5, 5, 5, 5, 5, 5, 5, 6, 5, 5, 6, 5, 5, 5, 5, 6, 6, 5, 6, 6, 5, 5, 5, 5, 6, 6, 6, 5, 5, 5, 5, 5, 6, 5, 6, 6, 5, 5, 6, 5, 6, 5, 5, 6, 6, 5, 6, 6, 5, 5, 6, 5, 5, 5, 5, 5, 5, 6, 6, 5, 6, 5, 6, 5, 6, 5, 5, 7, 6, 6, 5, 5, 7, 6, 6, 7, 7, 7, 5, 6, 5, 6, 5, 4, 6, 5, 6, 6, 5, 5, 5, 7, 5, 5, 5, 5, 7, 5, 8, 6, 4, 6, 3, 4, 5, 5, 7, 7, 7, 5, 7, 5, 6, 5, 6, 5, 5, 6, 5, 5, 5, 5, 5, 6, 6, 7, 6, 7, 7, 6, 5, 6, 5, 5, 5, 5, 6, 6, 6, 6, 6, 5, 4, 7, 7, 7, 4, 6, 6, 5, 5, 6, 6, 5, 6, 5, 6, 7, 6, 5, 5, 5, 6, 5, 6, 6, 7, 6, 7, 3, 5, 7, 7, 7, 7, 5, 5, 6, 6, 6, 6, 6, 6, 7, 6, 6, 5, 6, 6, 6, 5, 6, 6, 6, 5, 7, 6, 4, 5, 7, 5, 5, 6, 5, 5, 6, 6, 4, 7, 5, 7, 7, 7, 7, 7, 7, 7, 7, 7, 7, 7, 7, 7, 7, 6, 5, 6, 6, 7, 5, 6, 5, 5, 6, 6, 6, 7, 5, 6, 5, 6, 6, 7, 5, 7, 5, 5, 5, 7, 5, 6, 5, 6, 6, 5, 6, 7, 5, 5, 6, 5, 5, 6, 5, 5, 6, 7, 7, 6, 6, 7, 7, 7, 7, 5, 7, 7, 7, 7, 5, 7, 6, 5, 6, 6, 6, 7, 6, 6, 5, 6, 6, 5, 6, 7, 6, 6, 5, 6, 7, 7, 7, 5, 6, 6, 7, 7, 5, 7, 6, 5, 6, 6, 7, 6, 6, 6, 5, 6, 6, 5, 5, 5, 7, 6, 6, 7, 5, 7, 7, 6, 8, 6, 6, 6, 6, 7, 7, 7, 5, 7, 5, 6, 6, 5, 7, 6, 5, 5, 7, 6, 7, 6, 6, 6, 5, 7, 6, 7, 7, 8, 6, 6, 7, 6, 5, 6, 5, 7, 5, 6, 6, 6, 6, 6, 5, 6, 7, 5, 6, 6, 7, 6, 6, 6, 6, 6, 6, 6, 5, 8, 6, 6, 6, 4, 7, 6, 6, 5, 6, 6, 5, 7, 7, 7, 6, 6, 6, 5, 6, 6, 6, 6, 6, 5, 6, 6, 7, 6, 6, 7, 6, 5, 6, 6, 5, 7, 7, 6, 5, 7, 6, 7, 5, 5, 5, 5, 7, 6, 6, 6, 6, 6, 6, 6, 6, 4, 7, 5, 6, 6, 5, 6, 5, 5, 6, 5, 6, 5, 4, 6, 5, 7, 5, 6, 6, 6, 6, 6, 6, 6, 7, 8, 5, 7, 7, 7, 5, 7, 7, 6, 5, 6, 6, 6, 6, 6, 6, 6, 6, 6, 6, 6, 6, 6, 5, 5, 5, 7, 5, 6, 5, 5, 4, 6, 4, 6, 6, 4, 4, 5, 5, 6, 5, 6, 5, 5, 5, 6, 6, 6, 5, 5, 5, 5, 5, 5, 6, 6, 6, 5, 4, 5, 4, 6, 6, 6, 6, 6, 8, 6, 6, 5, 5, 6, 6, 4, 6, 6, 7, 6, 6, 6, 6, 5, 5, 6, 5, 5, 5, 5, 6, 6, 4, 6, 5, 5, 6, 6, 3, 6, 6, 6, 5, 5, 5, 5, 4, 5, 5, 5, 6, 5, 6, 6, 6, 6, 6, 6, 6, 5, 6, 5, 7, 6, 6, 6, 6, 5, 6, 6, 5, 6, 5, 5, 6, 5, 5, 5, 6, 6, 6, 6, 6, 5, 6, 5, 5, 5, 5, 5, 6, 5, 5, 5, 5, 5, 6, 5, 6, 5, 5, 6, 4, 6, 5, 5, 6, 6, 4, 5, 6, 5, 5, 3, 5, 5, 6, 6, 6, 6, 5, 5, 5, 5, 5, 5, 5, 5, 5, 6, 5, 5, 5, 5, 6, 5, 5, 7, 6, 5, 5, 6, 8, 6, 7, 6, 6, 7, 6, 6, 6, 6, 5, 5, 5, 5, 7, 5, 5, 5, 5, 6, 4, 6, 6, 6, 5, 5, 5, 5, 6, 6, 7, 6, 6, 5, 5, 5, 6, 7, 6, 5, 5, 6, 6, 5, 5, 5, 8, 7, 7, 7, 5, 6, 6, 6, 5, 5, 7, 6, 4, 6, 6, 5, 5, 7, 4, 7, 3, 5, 5, 6, 5, 5, 7, 5, 7, 3, 5, 4, 5, 4, 5, 4, 5, 5, 5, 5, 6, 6, 5, 5, 5, 7, 6, 5, 6, 6, 6, 5, 5, 5, 6, 6, 3, 6, 6, 6, 5, 6, 5, 6, 6, 6, 6, 5, 6, 5, 5, 6, 4, 5, 5, 6, 5, 6, 6, 6, 6, 6, 5, 6, 5, 7, 6, 6, 6, 5, 5, 6, 7, 6, 6, 7, 6, 5, 5, 5, 8, 5, 5, 6, 5, 6, 7, 5, 6, 5, 5, 5, 5, 5, 5, 5, 6, 6, 5, 5, 6, 6, 6, 5, 6, 6, 6, 6, 6, 6, 5, 6, 5, 5, 5, 7, 6, 6, 6, 6, 5, 6, 6, 6, 6, 5, 6, 6, 5, 6]\n",
      "(array([3, 4, 5, 6, 7, 8], dtype=int64), array([ 10,  53, 681, 638, 199,  18], dtype=int64))\n",
      "3 10\n",
      "4 53\n",
      "5 681\n",
      "6 638\n",
      "7 199\n",
      "8 18\n",
      "Corelation : \n",
      "                       fixed acidity  volatile acidity  citric acid  \\\n",
      "fixed acidity              1.000000         -0.256131     0.671703   \n",
      "volatile acidity          -0.256131          1.000000    -0.552496   \n",
      "citric acid                0.671703         -0.552496     1.000000   \n",
      "residual sugar             0.114777          0.001918     0.143577   \n",
      "chlorides                  0.093705          0.061298     0.203823   \n",
      "free sulfur dioxide       -0.153794         -0.010504    -0.060978   \n",
      "total sulfur dioxide      -0.113181          0.076470     0.035533   \n",
      "density                    0.668047          0.022026     0.364947   \n",
      "pH                        -0.682978          0.234937    -0.541904   \n",
      "sulphates                  0.183006         -0.260987     0.312770   \n",
      "alcohol                   -0.061668         -0.202288     0.109903   \n",
      "quality                    0.124052         -0.390558     0.226373   \n",
      "\n",
      "                      residual sugar  chlorides  free sulfur dioxide  \\\n",
      "fixed acidity               0.114777   0.093705            -0.153794   \n",
      "volatile acidity            0.001918   0.061298            -0.010504   \n",
      "citric acid                 0.143577   0.203823            -0.060978   \n",
      "residual sugar              1.000000   0.055610             0.187049   \n",
      "chlorides                   0.055610   1.000000             0.005562   \n",
      "free sulfur dioxide         0.187049   0.005562             1.000000   \n",
      "total sulfur dioxide        0.203028   0.047400             0.667666   \n",
      "density                     0.355283   0.200632            -0.021946   \n",
      "pH                         -0.085652  -0.265026             0.070377   \n",
      "sulphates                   0.005527   0.371260             0.051658   \n",
      "alcohol                     0.042075  -0.221141            -0.069408   \n",
      "quality                     0.013732  -0.128907            -0.050656   \n",
      "\n",
      "                      total sulfur dioxide   density        pH  sulphates  \\\n",
      "fixed acidity                    -0.113181  0.668047 -0.682978   0.183006   \n",
      "volatile acidity                  0.076470  0.022026  0.234937  -0.260987   \n",
      "citric acid                       0.035533  0.364947 -0.541904   0.312770   \n",
      "residual sugar                    0.203028  0.355283 -0.085652   0.005527   \n",
      "chlorides                         0.047400  0.200632 -0.265026   0.371260   \n",
      "free sulfur dioxide               0.667666 -0.021946  0.070377   0.051658   \n",
      "total sulfur dioxide              1.000000  0.071269 -0.066495   0.042947   \n",
      "density                           0.071269  1.000000 -0.341699   0.148506   \n",
      "pH                               -0.066495 -0.341699  1.000000  -0.196648   \n",
      "sulphates                         0.042947  0.148506 -0.196648   1.000000   \n",
      "alcohol                          -0.205654 -0.496180  0.205633   0.093595   \n",
      "quality                          -0.185100 -0.174919 -0.057731   0.251397   \n",
      "\n",
      "                       alcohol   quality  \n",
      "fixed acidity        -0.061668  0.124052  \n",
      "volatile acidity     -0.202288 -0.390558  \n",
      "citric acid           0.109903  0.226373  \n",
      "residual sugar        0.042075  0.013732  \n",
      "chlorides            -0.221141 -0.128907  \n",
      "free sulfur dioxide  -0.069408 -0.050656  \n",
      "total sulfur dioxide -0.205654 -0.185100  \n",
      "density              -0.496180 -0.174919  \n",
      "pH                    0.205633 -0.057731  \n",
      "sulphates             0.093595  0.251397  \n",
      "alcohol               1.000000  0.476166  \n",
      "quality               0.476166  1.000000  \n",
      "Covariance : \n",
      "                       fixed acidity  volatile acidity  citric acid  \\\n",
      "fixed acidity              3.031416         -0.079851     0.227820   \n",
      "volatile acidity          -0.079851          0.032062    -0.019272   \n",
      "citric acid                0.227820         -0.019272     0.037947   \n",
      "residual sugar             0.281756          0.000484     0.039434   \n",
      "chlorides                  0.007679          0.000517     0.001869   \n",
      "free sulfur dioxide       -2.800921         -0.019674    -0.124252   \n",
      "total sulfur dioxide      -6.482346          0.450426     0.227697   \n",
      "density                    0.002195          0.000007     0.000134   \n",
      "pH                        -0.183586          0.006495    -0.016298   \n",
      "sulphates                  0.054010         -0.007921     0.010328   \n",
      "alcohol                   -0.114421         -0.038600     0.022815   \n",
      "quality                    0.174424         -0.056476     0.035612   \n",
      "\n",
      "                      residual sugar  chlorides  free sulfur dioxide  \\\n",
      "fixed acidity               0.281756   0.007679            -2.800921   \n",
      "volatile acidity            0.000484   0.000517            -0.019674   \n",
      "citric acid                 0.039434   0.001869            -0.124252   \n",
      "residual sugar              1.987897   0.003690             2.758611   \n",
      "chlorides                   0.003690   0.002215             0.002738   \n",
      "free sulfur dioxide         2.758611   0.002738           109.414884   \n",
      "total sulfur dioxide        9.416441   0.073387           229.737521   \n",
      "density                     0.000945   0.000018            -0.000433   \n",
      "pH                         -0.018644  -0.001926             0.113653   \n",
      "sulphates                   0.001321   0.002962             0.091592   \n",
      "alcohol                     0.063219  -0.011092            -0.773698   \n",
      "quality                     0.015635  -0.004900            -0.427907   \n",
      "\n",
      "                      total sulfur dioxide   density        pH  sulphates  \\\n",
      "fixed acidity                    -6.482346  0.002195 -0.183586   0.054010   \n",
      "volatile acidity                  0.450426  0.000007  0.006495  -0.007921   \n",
      "citric acid                       0.227697  0.000134 -0.016298   0.010328   \n",
      "residual sugar                    9.416441  0.000945 -0.018644   0.001321   \n",
      "chlorides                         0.073387  0.000018 -0.001926   0.002962   \n",
      "free sulfur dioxide             229.737521 -0.000433  0.113653   0.091592   \n",
      "total sulfur dioxide           1082.102373  0.004425 -0.337699   0.239471   \n",
      "density                           0.004425  0.000004 -0.000100   0.000048   \n",
      "pH                               -0.337699 -0.000100  0.023835  -0.005146   \n",
      "sulphates                         0.239471  0.000048 -0.005146   0.028733   \n",
      "alcohol                          -7.209298 -0.000998  0.033832   0.016907   \n",
      "quality                          -4.917237 -0.000267 -0.007198   0.034413   \n",
      "\n",
      "                       alcohol   quality  \n",
      "fixed acidity        -0.114421  0.174424  \n",
      "volatile acidity     -0.038600 -0.056476  \n",
      "citric acid           0.022815  0.035612  \n",
      "residual sugar        0.063219  0.015635  \n",
      "chlorides            -0.011092 -0.004900  \n",
      "free sulfur dioxide  -0.773698 -0.427907  \n",
      "total sulfur dioxide -7.209298 -4.917237  \n",
      "density              -0.000998 -0.000267  \n",
      "pH                    0.033832 -0.007198  \n",
      "sulphates             0.016907  0.034413  \n",
      "alcohol               1.135647  0.409789  \n",
      "quality               0.409789  0.652168  \n"
     ]
    }
   ],
   "source": [
    "import numpy as np\n",
    "print(df2.isnull().sum())\n",
    "print(list(y))\n",
    "unique_data=np.unique(y,return_counts=True)\n",
    "print(unique_data)\n",
    "val,count=np.unique(y,return_counts=True)\n",
    "for i in range(len(val)):\n",
    "    print(val[i],count[i])\n",
    "print(\"Corelation : \\n\",df2.corr())\n",
    "print(\"Covariance : \\n\",df2.cov())"
   ]
  },
  {
   "cell_type": "markdown",
   "metadata": {},
   "source": [
    "# Train Test Split"
   ]
  },
  {
   "cell_type": "code",
   "execution_count": 5,
   "metadata": {},
   "outputs": [
    {
     "name": "stdout",
     "output_type": "stream",
     "text": [
      "Shape of x       :  (1599, 2)\n",
      "Shape of y       :  (1599,)\n",
      "Shape of x_train :  (1279, 2)\n",
      "Shape of y_train :  (1279,)\n",
      "Shape of x_test  :  (320, 2)\n",
      "Shape of y_test  :  (320,)\n"
     ]
    }
   ],
   "source": [
    "from sklearn.model_selection import train_test_split\n",
    "import numpy as np\n",
    "x_train,x_test,y_train,y_test = train_test_split(x,y,test_size=0.2)\n",
    "print(\"Shape of x       : \",np.array(x).shape)\n",
    "print(\"Shape of y       : \",np.array(y).shape)\n",
    "print(\"Shape of x_train : \",np.array(x_train).shape)\n",
    "print(\"Shape of y_train : \",np.array(y_train).shape)\n",
    "print(\"Shape of x_test  : \",np.array(x_test).shape)\n",
    "print(\"Shape of y_test  : \",np.array(y_test).shape)"
   ]
  },
  {
   "cell_type": "markdown",
   "metadata": {},
   "source": [
    "# Model Creation + selection"
   ]
  },
  {
   "cell_type": "code",
   "execution_count": 6,
   "metadata": {},
   "outputs": [],
   "source": [
    "from sklearn.linear_model import LogisticRegression\n",
    "from sklearn.svm import SVC\n",
    "#model=LogisticRegression()\n",
    "model=SVC()"
   ]
  },
  {
   "cell_type": "markdown",
   "metadata": {},
   "source": [
    "# Model Training"
   ]
  },
  {
   "cell_type": "code",
   "execution_count": 7,
   "metadata": {},
   "outputs": [
    {
     "data": {
      "text/html": [
       "<style>#sk-container-id-1 {color: black;}#sk-container-id-1 pre{padding: 0;}#sk-container-id-1 div.sk-toggleable {background-color: white;}#sk-container-id-1 label.sk-toggleable__label {cursor: pointer;display: block;width: 100%;margin-bottom: 0;padding: 0.3em;box-sizing: border-box;text-align: center;}#sk-container-id-1 label.sk-toggleable__label-arrow:before {content: \"▸\";float: left;margin-right: 0.25em;color: #696969;}#sk-container-id-1 label.sk-toggleable__label-arrow:hover:before {color: black;}#sk-container-id-1 div.sk-estimator:hover label.sk-toggleable__label-arrow:before {color: black;}#sk-container-id-1 div.sk-toggleable__content {max-height: 0;max-width: 0;overflow: hidden;text-align: left;background-color: #f0f8ff;}#sk-container-id-1 div.sk-toggleable__content pre {margin: 0.2em;color: black;border-radius: 0.25em;background-color: #f0f8ff;}#sk-container-id-1 input.sk-toggleable__control:checked~div.sk-toggleable__content {max-height: 200px;max-width: 100%;overflow: auto;}#sk-container-id-1 input.sk-toggleable__control:checked~label.sk-toggleable__label-arrow:before {content: \"▾\";}#sk-container-id-1 div.sk-estimator input.sk-toggleable__control:checked~label.sk-toggleable__label {background-color: #d4ebff;}#sk-container-id-1 div.sk-label input.sk-toggleable__control:checked~label.sk-toggleable__label {background-color: #d4ebff;}#sk-container-id-1 input.sk-hidden--visually {border: 0;clip: rect(1px 1px 1px 1px);clip: rect(1px, 1px, 1px, 1px);height: 1px;margin: -1px;overflow: hidden;padding: 0;position: absolute;width: 1px;}#sk-container-id-1 div.sk-estimator {font-family: monospace;background-color: #f0f8ff;border: 1px dotted black;border-radius: 0.25em;box-sizing: border-box;margin-bottom: 0.5em;}#sk-container-id-1 div.sk-estimator:hover {background-color: #d4ebff;}#sk-container-id-1 div.sk-parallel-item::after {content: \"\";width: 100%;border-bottom: 1px solid gray;flex-grow: 1;}#sk-container-id-1 div.sk-label:hover label.sk-toggleable__label {background-color: #d4ebff;}#sk-container-id-1 div.sk-serial::before {content: \"\";position: absolute;border-left: 1px solid gray;box-sizing: border-box;top: 0;bottom: 0;left: 50%;z-index: 0;}#sk-container-id-1 div.sk-serial {display: flex;flex-direction: column;align-items: center;background-color: white;padding-right: 0.2em;padding-left: 0.2em;position: relative;}#sk-container-id-1 div.sk-item {position: relative;z-index: 1;}#sk-container-id-1 div.sk-parallel {display: flex;align-items: stretch;justify-content: center;background-color: white;position: relative;}#sk-container-id-1 div.sk-item::before, #sk-container-id-1 div.sk-parallel-item::before {content: \"\";position: absolute;border-left: 1px solid gray;box-sizing: border-box;top: 0;bottom: 0;left: 50%;z-index: -1;}#sk-container-id-1 div.sk-parallel-item {display: flex;flex-direction: column;z-index: 1;position: relative;background-color: white;}#sk-container-id-1 div.sk-parallel-item:first-child::after {align-self: flex-end;width: 50%;}#sk-container-id-1 div.sk-parallel-item:last-child::after {align-self: flex-start;width: 50%;}#sk-container-id-1 div.sk-parallel-item:only-child::after {width: 0;}#sk-container-id-1 div.sk-dashed-wrapped {border: 1px dashed gray;margin: 0 0.4em 0.5em 0.4em;box-sizing: border-box;padding-bottom: 0.4em;background-color: white;}#sk-container-id-1 div.sk-label label {font-family: monospace;font-weight: bold;display: inline-block;line-height: 1.2em;}#sk-container-id-1 div.sk-label-container {text-align: center;}#sk-container-id-1 div.sk-container {/* jupyter's `normalize.less` sets `[hidden] { display: none; }` but bootstrap.min.css set `[hidden] { display: none !important; }` so we also need the `!important` here to be able to override the default hidden behavior on the sphinx rendered scikit-learn.org. See: https://github.com/scikit-learn/scikit-learn/issues/21755 */display: inline-block !important;position: relative;}#sk-container-id-1 div.sk-text-repr-fallback {display: none;}</style><div id=\"sk-container-id-1\" class=\"sk-top-container\"><div class=\"sk-text-repr-fallback\"><pre>SVC()</pre><b>In a Jupyter environment, please rerun this cell to show the HTML representation or trust the notebook. <br />On GitHub, the HTML representation is unable to render, please try loading this page with nbviewer.org.</b></div><div class=\"sk-container\" hidden><div class=\"sk-item\"><div class=\"sk-estimator sk-toggleable\"><input class=\"sk-toggleable__control sk-hidden--visually\" id=\"sk-estimator-id-1\" type=\"checkbox\" checked><label for=\"sk-estimator-id-1\" class=\"sk-toggleable__label sk-toggleable__label-arrow\">SVC</label><div class=\"sk-toggleable__content\"><pre>SVC()</pre></div></div></div></div></div>"
      ],
      "text/plain": [
       "SVC()"
      ]
     },
     "execution_count": 7,
     "metadata": {},
     "output_type": "execute_result"
    }
   ],
   "source": [
    "model.fit(x_train,y_train)"
   ]
  },
  {
   "cell_type": "markdown",
   "metadata": {},
   "source": [
    "# Model Evaluation"
   ]
  },
  {
   "cell_type": "code",
   "execution_count": 8,
   "metadata": {},
   "outputs": [
    {
     "name": "stdout",
     "output_type": "stream",
     "text": [
      "Model score :  0.534375\n"
     ]
    }
   ],
   "source": [
    "print(\"Model score : \",model.score(x_test,y_test))"
   ]
  },
  {
   "cell_type": "markdown",
   "metadata": {},
   "source": [
    "# Model Saving"
   ]
  },
  {
   "cell_type": "code",
   "execution_count": 9,
   "metadata": {},
   "outputs": [],
   "source": [
    "import pickle\n",
    "with open(\"model_file2.pickle\",\"wb\") as f:\n",
    "    pickle.dump(model,f)"
   ]
  },
  {
   "cell_type": "markdown",
   "metadata": {},
   "source": [
    "# Model loading"
   ]
  },
  {
   "cell_type": "code",
   "execution_count": 10,
   "metadata": {},
   "outputs": [],
   "source": [
    "import pickle\n",
    "with open(\"model_file2.pickle\",\"rb\") as f:\n",
    "    model=pickle.load(f)"
   ]
  },
  {
   "cell_type": "markdown",
   "metadata": {},
   "source": [
    "# Model Prediction"
   ]
  },
  {
   "cell_type": "code",
   "execution_count": 11,
   "metadata": {},
   "outputs": [
    {
     "name": "stdout",
     "output_type": "stream",
     "text": [
      "[5 5 6 5 4 5 6 5 5 6 7 7 5 5 6 6 7 6 6 5 5 4 6 4 6 6 4 7 6 6 6 5 5 5 5 7 7\n",
      " 5 6 6 6 6 4 5 7 6 6 6 7 5 6 5 5 6 5 5 5 5 6 5 5 5 6 3 5 5 5 5 6 6 6 5 6 7\n",
      " 5 6 6 7 5 4 5 7 5 5 7 6 6 6 6 5 4 6 5 6 5 6 6 3 5 5 5 6 6 5 6 7 5 5 6 6 6\n",
      " 6 5 5 5 6 5 6 7 5 7 5 6 6 6 5 4 5 6 8 5 6 4 5 7 6 5 6 6 6 6 7 6 5 5 7 6 5\n",
      " 7 5 7 5 6 6 5 6 7 5 6 5 6 6 6 6 6 7 6 5 5 5 6 6 5 7 6 5 6 5 5 6 6 6 6 6 5\n",
      " 6 6 5 5 5 6 6 7 5 5 5 6 4 7 5 5 4 6 6 5 4 5 6 6 6 6 6 5 6 6 6 6 8 5 5 6 5\n",
      " 6 6 5 5 5 7 6 5 5 4 5 6 6 7 6 5 7 6 6 6 5 7 6 6 5 7 5 5 7 5 5 5 6 6 7 5 5\n",
      " 6 6 5 6 6 7 6 5 6 8 6 6 6 5 6 5 6 6 6 5 5 5 5 6 6 5 6 4 6 6 5 5 6 6 6 6 7\n",
      " 6 7 5 7 5 6 5 6 5 5 5 6 5 5 8 7 4 5 5 6 6 5 6 8]\n",
      "\n",
      "[5 5 6 5 5 5 6 5 5 6 6 6 6 6 6 5 6 6 5 5 5 5 5 6 6 6 6 6 5 5 6 5 5 5 5 6 6\n",
      " 5 5 5 5 5 5 5 6 6 5 5 5 5 6 6 5 5 6 6 5 5 6 5 6 5 5 5 6 5 5 5 5 6 5 5 6 6\n",
      " 5 6 5 6 5 5 5 6 5 5 5 6 5 6 6 5 6 6 5 5 5 5 6 5 5 5 5 6 5 5 5 6 5 5 5 5 6\n",
      " 6 5 6 5 6 6 5 6 6 6 5 5 5 5 5 6 5 5 6 5 6 5 5 6 5 5 5 6 6 5 6 6 5 6 6 6 6\n",
      " 5 5 6 5 5 6 6 6 6 5 6 5 6 6 6 6 6 6 5 5 5 5 6 5 6 6 6 5 5 5 6 5 6 6 5 6 5\n",
      " 6 5 6 6 5 5 6 6 5 5 5 5 5 6 5 5 5 6 6 5 5 5 6 5 5 6 6 6 6 5 6 6 6 5 6 6 5\n",
      " 6 6 5 6 5 5 6 5 5 6 6 6 5 6 6 5 6 5 5 6 5 6 5 6 6 6 5 6 6 5 5 5 5 6 6 5 5\n",
      " 5 5 6 6 6 5 5 5 5 6 5 6 6 5 6 5 5 6 6 5 5 5 5 6 5 5 5 6 6 6 5 6 6 6 6 6 6\n",
      " 5 6 6 6 5 6 5 5 5 5 6 5 5 5 5 6 6 6 6 5 6 6 6 6]\n"
     ]
    }
   ],
   "source": [
    "print(y_test)\n",
    "print()\n",
    "y_pred=model.predict(x_test)\n",
    "print(y_pred)"
   ]
  },
  {
   "cell_type": "code",
   "execution_count": 12,
   "metadata": {},
   "outputs": [
    {
     "name": "stdout",
     "output_type": "stream",
     "text": [
      "(array([3, 4, 5, 6, 7, 8], dtype=int64), array([  8,  38, 557, 501, 162,  13], dtype=int64))\n",
      "3  :  8\n",
      "4  :  38\n",
      "5  :  557\n",
      "6  :  501\n",
      "7  :  162\n",
      "8  :  13\n",
      "\n",
      "(array([5, 6], dtype=int64), array([170, 150], dtype=int64))\n",
      "5  :  170\n",
      "6  :  150\n"
     ]
    }
   ],
   "source": [
    "import numpy as np\n",
    "unique_data1=np.unique(y_train,return_counts=True)\n",
    "print(unique_data1)\n",
    "val,count=np.unique(y_train,return_counts=True)\n",
    "for i in range(len(val)):\n",
    "    print(val[i],' : ',count[i])\n",
    "print()\n",
    "\n",
    "unique_data2=np.unique(y_pred,return_counts=True)\n",
    "print(unique_data2)\n",
    "val,count=np.unique(y_pred,return_counts=True)\n",
    "for i in range(len(val)):\n",
    "    print(val[i],' : ',count[i])"
   ]
  },
  {
   "cell_type": "markdown",
   "metadata": {},
   "source": [
    "# K-Fold"
   ]
  },
  {
   "cell_type": "code",
   "execution_count": 13,
   "metadata": {},
   "outputs": [
    {
     "name": "stdout",
     "output_type": "stream",
     "text": [
      "3 10\n",
      "4 53\n",
      "5 680\n",
      "6 638\n",
      "7 199\n",
      "8 18\n",
      "(1598,)\n",
      "5 1\n",
      "(1,)\n",
      "--------------------\n",
      "3 10\n",
      "4 53\n",
      "5 681\n",
      "6 638\n",
      "7 199\n",
      "8 18\n",
      "(1599,)\n",
      "(0,)\n",
      "--------------------\n",
      "3 10\n",
      "4 53\n",
      "5 681\n",
      "6 638\n",
      "7 199\n",
      "8 18\n",
      "(1599,)\n",
      "(0,)\n",
      "--------------------\n",
      "3 10\n",
      "4 53\n",
      "5 681\n",
      "6 638\n",
      "7 199\n",
      "8 18\n",
      "(1599,)\n",
      "(0,)\n",
      "--------------------\n",
      "3 10\n",
      "4 53\n",
      "5 681\n",
      "6 638\n",
      "7 199\n",
      "8 18\n",
      "(1599,)\n",
      "(0,)\n",
      "--------------------\n"
     ]
    }
   ],
   "source": [
    "from sklearn.model_selection import StratifiedGroupKFold\n",
    "from sklearn.model_selection import train_test_split\n",
    "import numpy as np\n",
    "kf=StratifiedGroupKFold(n_splits=5)\n",
    "\n",
    "y=np.array(df2[\"quality\"])\n",
    "x=np.array(df2[[\"alcohol\",\"volatile acidity\"]])\n",
    "x_train,x_test,y_train,y_test = train_test_split(x,y,test_size=0.2)\n",
    "\n",
    "for train_index,test_index in kf.split(x,y):\n",
    "    x_train=x[train_index]\n",
    "    x_test=x[test_index]\n",
    "    y_train=y[train_index]\n",
    "    y_test=y[test_index]\n",
    "\n",
    "    val,count=np.unique(list(y_train),return_counts=True)\n",
    "    for i in range(len(val)):\n",
    "        print(val[i],count[i])\n",
    "    print(np.array(y_train).shape)\n",
    "\n",
    "    val,count=np.unique(list(y_test),return_counts=True)\n",
    "    for i in range(len(val)):\n",
    "        print(val[i],count[i])\n",
    "    print(np.array(y_test).shape)\n",
    "    print(\"-\"*20)\n",
    "\n",
    "#print(np.array(y_train).shape)\n",
    "#print(np.array(y_test).shape)"
   ]
  },
  {
   "cell_type": "code",
   "execution_count": 14,
   "metadata": {},
   "outputs": [
    {
     "name": "stdout",
     "output_type": "stream",
     "text": [
      "3 10\n",
      "4 38\n",
      "5 501\n",
      "6 537\n",
      "7 177\n",
      "8 16\n",
      "(1279,)\n",
      "4 15\n",
      "5 180\n",
      "6 101\n",
      "7 22\n",
      "8 2\n",
      "(320,)\n",
      "--------------------\n",
      "3 8\n",
      "4 48\n",
      "5 564\n",
      "6 495\n",
      "7 153\n",
      "8 11\n",
      "(1279,)\n",
      "3 2\n",
      "4 5\n",
      "5 117\n",
      "6 143\n",
      "7 46\n",
      "8 7\n",
      "(320,)\n",
      "--------------------\n",
      "3 7\n",
      "4 41\n",
      "5 527\n",
      "6 534\n",
      "7 153\n",
      "8 17\n",
      "(1279,)\n",
      "3 3\n",
      "4 12\n",
      "5 154\n",
      "6 104\n",
      "7 46\n",
      "8 1\n",
      "(320,)\n",
      "--------------------\n",
      "3 10\n",
      "4 43\n",
      "5 594\n",
      "6 484\n",
      "7 135\n",
      "8 13\n",
      "(1279,)\n",
      "4 10\n",
      "5 87\n",
      "6 154\n",
      "7 64\n",
      "8 5\n",
      "(320,)\n",
      "--------------------\n",
      "3 5\n",
      "4 42\n",
      "5 538\n",
      "6 502\n",
      "7 178\n",
      "8 15\n",
      "(1280,)\n",
      "3 5\n",
      "4 11\n",
      "5 143\n",
      "6 136\n",
      "7 21\n",
      "8 3\n",
      "(319,)\n",
      "--------------------\n"
     ]
    }
   ],
   "source": [
    "from sklearn.model_selection import StratifiedGroupKFold\n",
    "from sklearn.model_selection import KFold\n",
    "import numpy as np\n",
    "\n",
    "#kf = StratifiedGroupKFold(n_splits=5)\n",
    "kf = KFold(n_splits=5)\n",
    "\n",
    "y = np.array(df2[\"quality\"])\n",
    "x = np.array(df2[[\"alcohol\", \"volatile acidity\"]])\n",
    "#groups = np.array(df2[\"group\"])  # Assuming you have a 'group' column in your dataframe\n",
    "\n",
    "for train_index, test_index in kf.split(x, y):\n",
    "    x_train = x[train_index]\n",
    "    x_test = x[test_index]\n",
    "    y_train = y[train_index]\n",
    "    y_test = y[test_index]\n",
    "\n",
    "    val, count = np.unique(y_train, return_counts=True)\n",
    "    for i in range(len(val)):\n",
    "        print(val[i], count[i])\n",
    "    print(np.array(y_train).shape)\n",
    "\n",
    "    val, count = np.unique(y_test, return_counts=True)\n",
    "    for i in range(len(val)):\n",
    "        print(val[i], count[i])\n",
    "    print(np.array(y_test).shape)\n",
    "    print(\"-\" * 20)\n"
   ]
  },
  {
   "cell_type": "markdown",
   "metadata": {},
   "source": [
    "# With train.csv"
   ]
  },
  {
   "cell_type": "code",
   "execution_count": 15,
   "metadata": {},
   "outputs": [],
   "source": [
    "import pandas as pd\n",
    "from sklearn.model_selection import train_test_split\n",
    "df3=pd.read_csv(\"train.csv\")\n",
    "#print(df3.head())\n",
    "\n",
    "x=df3.drop([\"Survived\"],axis=1)\n",
    "y=df3[\"Survived\"]\n",
    "x_train,x_test,y_train,y_test=train_test_split(x,y,test_size=0.1)"
   ]
  },
  {
   "cell_type": "markdown",
   "metadata": {},
   "source": [
    "# Get Dummies"
   ]
  },
  {
   "cell_type": "code",
   "execution_count": 16,
   "metadata": {},
   "outputs": [
    {
     "name": "stdout",
     "output_type": "stream",
     "text": [
      "   NAME   DEPT\n",
      "0  ravi  sales\n",
      "1  manu  purch\n",
      "2  hari  accts\n",
      "\n",
      "      accts  purch  sales\n",
      "NAME                     \n",
      "ravi      0      0      1\n",
      "manu      0      1      0\n",
      "hari      1      0      0\n",
      "\n",
      "   NAME   DEPT  Dept\n",
      "0  ravi  sales     1\n",
      "1  manu  purch     2\n",
      "2  hari  accts     3\n",
      "\n",
      "   NAME   DEPT  Dept\n",
      "0  ravi  sales   0.1\n",
      "1  manu  purch   0.2\n",
      "2  hari  accts   0.3\n"
     ]
    }
   ],
   "source": [
    "import pandas as pd\n",
    "data={\"NAME\":[\"ravi\",\"manu\",\"hari\"],\n",
    "      \"DEPT\":[\"sales\",\"purch\",\"accts\"]}\n",
    "df1=pd.DataFrame(data)\n",
    "print(df1)\n",
    "print()\n",
    "# 1 \n",
    "df2=pd.get_dummies(df1[\"DEPT\"]).set_index(df1[\"NAME\"])\n",
    "print(df2)\n",
    "print()\n",
    "\n",
    "# 2\n",
    "df3 = df1.copy()\n",
    "df3['Dept'] = range(1, len(df3) + 1)\n",
    "print(df3)\n",
    "print()\n",
    "\n",
    "# 3\n",
    "df4 = df3.copy()\n",
    "df4['Dept'] = df4['Dept'] / 10\n",
    "print(df4)"
   ]
  },
  {
   "cell_type": "code",
   "execution_count": 17,
   "metadata": {},
   "outputs": [
    {
     "name": "stdout",
     "output_type": "stream",
     "text": [
      "   A  B  C  D  E\n",
      "0  1  0  0  0  0\n",
      "1  0  0  0  0  1\n",
      "2  0  1  0  0  0\n",
      "3  0  0  0  1  0\n",
      "4  0  0  1  0  0\n",
      "5  1  0  0  0  0\n",
      "[0 4 1 3 2 0]\n"
     ]
    }
   ],
   "source": [
    "import pandas as pd\n",
    "from sklearn.preprocessing import LabelEncoder\n",
    "d=[\"A\",\"E\",\"B\",\"D\",\"C\",\"A\"]\n",
    "data=pd.get_dummies(d)\n",
    "print(data)\n",
    "le=LabelEncoder()\n",
    "print(le.fit_transform(d))"
   ]
  },
  {
   "cell_type": "code",
   "execution_count": null,
   "metadata": {},
   "outputs": [],
   "source": []
  }
 ],
 "metadata": {
  "kernelspec": {
   "display_name": "base",
   "language": "python",
   "name": "python3"
  },
  "language_info": {
   "codemirror_mode": {
    "name": "ipython",
    "version": 3
   },
   "file_extension": ".py",
   "mimetype": "text/x-python",
   "name": "python",
   "nbconvert_exporter": "python",
   "pygments_lexer": "ipython3",
   "version": "3.11.4"
  }
 },
 "nbformat": 4,
 "nbformat_minor": 2
}
