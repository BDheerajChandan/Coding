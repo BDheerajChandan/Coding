{
 "cells": [
  {
   "cell_type": "markdown",
   "metadata": {},
   "source": [
    "# Logistic Regression and Confusion Matrix"
   ]
  },
  {
   "cell_type": "code",
   "execution_count": 78,
   "metadata": {},
   "outputs": [
    {
     "data": {
      "text/plain": [
       "'\\nIt is a statistical method used for binary classification that models the probability of a binary outcome based on one or more predictor variables.\\n'"
      ]
     },
     "execution_count": 78,
     "metadata": {},
     "output_type": "execute_result"
    }
   ],
   "source": [
    "# Logistic regression\n",
    "'''\n",
    "It is a statistical method used for binary classification that models the probability of a binary outcome based on one or more predictor variables.\n",
    "'''"
   ]
  },
  {
   "cell_type": "markdown",
   "metadata": {},
   "source": [
    "# LinearRegression"
   ]
  },
  {
   "cell_type": "code",
   "execution_count": 79,
   "metadata": {},
   "outputs": [
    {
     "name": "stdout",
     "output_type": "stream",
     "text": [
      "[1.13340957]\n"
     ]
    }
   ],
   "source": [
    "from sklearn.linear_model import LinearRegression\n",
    "x=[[20],[50],[100],[10],[30],[47]]\n",
    "y=[0,1,1,0,0,1]\n",
    "\n",
    "model=LinearRegression()\n",
    "model.fit(x,y)\n",
    "\n",
    "print(model.predict([[90]]))"
   ]
  },
  {
   "cell_type": "markdown",
   "metadata": {},
   "source": [
    "# Confusion marix"
   ]
  },
  {
   "cell_type": "markdown",
   "metadata": {},
   "source": [
    "### Day 2"
   ]
  },
  {
   "cell_type": "code",
   "execution_count": 80,
   "metadata": {},
   "outputs": [
    {
     "data": {
      "text/plain": [
       "'\\nIn machine learning(ML), different types of data are handled in specific ways.\\n\\nNominal data    - It is also known as categorical data. It represents categories with no intrinsic order.\\n                - Categorical data without any intrinsic order.\\n                - Example: Gender (male, female), color (red, green, blue), type of animal (dog, cat, bird)\\n                - ML algorithms require numerical input.\\n                - Encoding: It is a nominal data is usually converted into numerical form using techniques like:\\n                        1. One-Hot Encoding\\n                        2. Label Encoding\\n                - Algorithm: Decision trees and Random forests handles categorical data\\n\\nOrdinal data    - It represents categories with a meaningful order but no fixed interval between them.\\n                - Categorical data with a meaningful order but no fixed intervals between categories.\\n                - Example: ranking, education level, satisfaction ratings\\n                - Encoding: \\n                - Algorithm:\\n\\nInterval Data   - It represents a numerical data where the intervals between values are meaningful,\\n                  but there is no true zero point.\\n                - Numerical data where the intervals between values are meaningful and consistent, but there is no true zero point.\\n                - Example : Monlthly salary, temperature in kelvin [0c = 273 kelvin; no 0 kelvin]\\n                - Zero has no special meaning. Data can be zero.\\n\\nRatio data      - It represents a numerical data with a true zero points, allowing for meaningful comparisons of absolute magnitudes. \\n                - Numerical data with both meaningful intervals and a true zero point, allowing for all arithmetic operations.\\n                - Example: height, weight, age, and income. temperature in degree [0c = 273 kelvin; yes 0 degree]\\n                - Zero has special meaning. Data can be zero.\\n\\n                \\nSummary of Handling Techniques:\\n    Nominal Data    : One-Hot Encoding, Label Encoding.\\n    Ordinal Data    : Integer Encoding.\\n    Interval Data   : Normalization, Standardization.\\n    Ratio Data      : Normalization, Standardization.\\n            \\n'"
      ]
     },
     "execution_count": 80,
     "metadata": {},
     "output_type": "execute_result"
    }
   ],
   "source": [
    "'''\n",
    "In machine learning(ML), different types of data are handled in specific ways.\n",
    "\n",
    "Nominal data    - It is also known as categorical data. It represents categories with no intrinsic order.\n",
    "                - Categorical data without any intrinsic order.\n",
    "                - Example: Gender (male, female), color (red, green, blue), type of animal (dog, cat, bird)\n",
    "                - ML algorithms require numerical input.\n",
    "                - Encoding: It is a nominal data is usually converted into numerical form using techniques like:\n",
    "                        1. One-Hot Encoding\n",
    "                        2. Label Encoding\n",
    "                - Algorithm: Decision trees and Random forests handles categorical data\n",
    "\n",
    "Ordinal data    - It represents categories with a meaningful order but no fixed interval between them.\n",
    "                - Categorical data with a meaningful order but no fixed intervals between categories.\n",
    "                - Example: ranking, education level, satisfaction ratings\n",
    "                - Encoding: \n",
    "                - Algorithm:\n",
    "\n",
    "Interval Data   - It represents a numerical data where the intervals between values are meaningful,\n",
    "                  but there is no true zero point.\n",
    "                - Numerical data where the intervals between values are meaningful and consistent, but there is no true zero point.\n",
    "                - Example : Monlthly salary, temperature in kelvin [0c = 273 kelvin; no 0 kelvin]\n",
    "                - Zero has no special meaning. Data can be zero.\n",
    "\n",
    "Ratio data      - It represents a numerical data with a true zero points, allowing for meaningful comparisons of absolute magnitudes. \n",
    "                - Numerical data with both meaningful intervals and a true zero point, allowing for all arithmetic operations.\n",
    "                - Example: height, weight, age, and income. temperature in degree [0c = 273 kelvin; yes 0 degree]\n",
    "                - Zero has special meaning. Data can be zero.\n",
    "\n",
    "                \n",
    "Summary of Handling Techniques:\n",
    "    Nominal Data    : One-Hot Encoding, Label Encoding.\n",
    "    Ordinal Data    : Integer Encoding.\n",
    "    Interval Data   : Normalization, Standardization.\n",
    "    Ratio Data      : Normalization, Standardization.\n",
    "            \n",
    "'''"
   ]
  },
  {
   "cell_type": "code",
   "execution_count": 81,
   "metadata": {},
   "outputs": [],
   "source": [
    "# Correlation\n",
    "# Covariance\n",
    "# Linear Regression\n",
    "# Logistic regression - Classification of classes"
   ]
  },
  {
   "cell_type": "code",
   "execution_count": 82,
   "metadata": {},
   "outputs": [
    {
     "name": "stdout",
     "output_type": "stream",
     "text": [
      "[[20], [50], [100], [10], [30], [47]]\n",
      "[0, 1, 1, 0, 0, 1]\n",
      "\n",
      "Regrssion (LinearRegression) :\n",
      "Prediction for value x :  [0.1933671  0.59624244 1.26770136 0.05907531 0.32765888 0.55595491]\n",
      "Prediction for value x=90 :  [1.13340957]\n",
      "\n",
      "Classification (LogisticRegression) : \n",
      "Prediction for value x :  [0 1 1 0 0 1]\n",
      "Prediction for value x=90 :  [1]\n",
      "Prediction for value x=90 :  [0]\n",
      "\n",
      "Classification and Regression (SVM) : \n",
      "Prediction for value x :  [0 1 1 0 0 1]\n",
      "Prediction for value x=90 :  [1]\n",
      "Prediction for value x=90 :  [0]\n",
      "\n"
     ]
    }
   ],
   "source": [
    "# Regression(LinearRegression) to Classification(LogisticRegression) and vice versa\n",
    "'''\n",
    "Regression(LinearRegression) to Classification(LogisticRegression) and vice versa can be done by from sklearn.linear_model import LinearRegression,LogisticRegression\n",
    "'''\n",
    "x=[[20],[50],[100],[10],[30],[47]]\n",
    "y=[0,1,1,0,0,1]\n",
    "print(x)\n",
    "print(y)\n",
    "print()\n",
    "\n",
    "# For Regression [LinearRegression]\n",
    "print(\"Regrssion (LinearRegression) :\")\n",
    "from sklearn.linear_model import LinearRegression\n",
    "model=LinearRegression()\n",
    "model.fit(x,y)\n",
    "y_pred=model.predict(x)\n",
    "print(\"Prediction for value x : \",y_pred)\n",
    "print(\"Prediction for value x=90 : \",model.predict([[90]]))\n",
    "print()\n",
    "\n",
    "# For Classification [LogisticRegression] \n",
    "'''   For ordinal data type we are using logistic Regression technique in ML.\n",
    "#   Ordinal data type which comes under classification we are using logistic Regression technique in ML.\n",
    "'''\n",
    "print(\"Classification (LogisticRegression) : \")\n",
    "from sklearn.linear_model import LogisticRegression\n",
    "model=LogisticRegression()\n",
    "model.fit(x,y)\n",
    "y_pred=model.predict(x)\n",
    "print(\"Prediction for value x : \",y_pred)\n",
    "print(\"Prediction for value x=90 : \",model.predict([[90]]))\n",
    "print(\"Prediction for value x=90 : \",model.predict([[25]]))\n",
    "print()\n",
    "\n",
    "# For both Regression and Classification [SVM- Support Vector Machine]\n",
    "'''\n",
    "Support Vector Machines (SVM) can be used for both classification and regression tasks\n",
    "'''\n",
    "print(\"Classification and Regression (SVM) : \")\n",
    "from sklearn.svm import SVC\n",
    "model=SVC()\n",
    "model.fit(x,y)\n",
    "y_pred=model.predict(x)\n",
    "print(\"Prediction for value x : \",y_pred)\n",
    "print(\"Prediction for value x=90 : \",model.predict([[115]]))\n",
    "print(\"Prediction for value x=90 : \",model.predict([[25]]))\n",
    "print()\n"
   ]
  },
  {
   "cell_type": "code",
   "execution_count": 1,
   "metadata": {},
   "outputs": [
    {
     "name": "stdout",
     "output_type": "stream",
     "text": [
      "Score :  0.6666666666666666\n",
      "Own score :  0.6666666666666666\n",
      "Test set accuracy: 0.6666666666666666\n"
     ]
    },
    {
     "data": {
      "image/png": "[encoded data removed]",
      "text/plain": [
       "<Figure size 640x480 with 1 Axes>"
      ]
     },
     "metadata": {},
     "output_type": "display_data"
    }
   ],
   "source": [
    "import matplotlib.pyplot as plt\n",
    "from sklearn.linear_model import LogisticRegression\n",
    "x_new=[[10],[20],[30],[47],[50],[100]]\n",
    "y_new=[0,1,0,1,1,1]\n",
    "model=LogisticRegression()\n",
    "model.fit(x_new,y_new)\n",
    "print(\"Score : \",model.score(x_new,y_new))    # Finding the accuracy\n",
    "\n",
    "# Creating own score function\n",
    "y_pred=model.predict(x_new)\n",
    "s=0\n",
    "c=0\n",
    "for i in range(len(y_new)):\n",
    "    if(y_new[i]==y_pred[i]):\n",
    "        s=s+1\n",
    "    c=c+1\n",
    "print(\"Own score : \",s/c)\n",
    "\n",
    "from sklearn.metrics import accuracy_score\n",
    "accuracy = accuracy_score(y_new, y_pred)\n",
    "print(f'Test set accuracy: {accuracy}')\n",
    "\n",
    "plt.scatter(x_new,y_new)\n",
    "plt.xlabel(\"X\")\n",
    "plt.ylabel(\"Y\")\n",
    "plt.title(\"XY Graph\")\n",
    "plt.plot(x_new,model.predict(x_new),color='r')\n",
    "plt.show()"
   ]
  },
  {
   "cell_type": "markdown",
   "metadata": {},
   "source": [
    "# Confusion Matrix"
   ]
  },
  {
   "cell_type": "code",
   "execution_count": 84,
   "metadata": {},
   "outputs": [
    {
     "name": "stdout",
     "output_type": "stream",
     "text": [
      "Actual y    : [0 1 0 1 1 1]\n",
      "Predicted y : [0 0 0 1 1 1]\n",
      "Confusion Matrix : \n",
      "[[2 0]\n",
      " [1 3]]\n",
      "\n",
      "Accuracy  :  0.8333333333333334\n",
      "Precision :  1.0\n",
      "Recall    :  0.75\n",
      "F1 Score  :  0.8571428571428571\n"
     ]
    }
   ],
   "source": [
    "'''\n",
    "cm=[[TP,FN],\n",
    "    [FP,TN]]\n",
    "\n",
    "         Actuals   Predicted\n",
    "    TP:  1-True    1-True\n",
    "    TN:  0-False   0-False\n",
    "    FP:  0-False   1-True\n",
    "    FN:  1-True    0-False\n",
    "'''\n",
    "\n",
    "import numpy as np\n",
    "from sklearn.linear_model import LogisticRegression\n",
    "from sklearn.metrics import confusion_matrix, accuracy_score, precision_score, recall_score, f1_score\n",
    "\n",
    "# Mock training data\n",
    "X_train = np.array([[5], [15], [25], [35], [45], [55]])\n",
    "y_train = np.array([0, 0, 1, 1, 0, 1])\n",
    "\n",
    "# Train a logistic regression classifier\n",
    "model = LogisticRegression()\n",
    "model.fit(X_train, y_train)\n",
    "\n",
    "X_new = np.array([[10],[20],[30],[47],[50],[100]]) # New data points\n",
    "y_new = np.array([0, 1, 0, 1, 1, 1])                    # Actual labels\n",
    "\n",
    "# Predict the labels for the new data points\n",
    "y_pred = model.predict(X_new)\n",
    "print(\"Actual y    :\",y_new)\n",
    "print(\"Predicted y :\",y_pred)\n",
    "\n",
    "# Compute the confusion matrix\n",
    "cm = confusion_matrix(y_new, y_pred)\n",
    "print(\"Confusion Matrix : \")\n",
    "print(cm)\n",
    "print()\n",
    "\n",
    "# Calculate accuracy\n",
    "accuracy = accuracy_score(y_new, y_pred)\n",
    "print(\"Accuracy  : \", accuracy)\n",
    "\n",
    "# Calculate precision\n",
    "precision = precision_score(y_new, y_pred)\n",
    "print(\"Precision : \", precision)\n",
    "\n",
    "# Calculate recall\n",
    "recall = recall_score(y_new, y_pred)\n",
    "print(\"Recall    : \", recall)\n",
    "\n",
    "# Calculate F1 score\n",
    "f1 = f1_score(y_new, y_pred)\n",
    "print(\"F1 Score  : \", f1)\n"
   ]
  },
  {
   "cell_type": "markdown",
   "metadata": {},
   "source": []
  },
  {
   "cell_type": "code",
   "execution_count": null,
   "metadata": {},
   "outputs": [],
   "source": []
  }
 ],
 "metadata": {
  "kernelspec": {
   "display_name": "base",
   "language": "python",
   "name": "python3"
  },
  "language_info": {
   "codemirror_mode": {
    "name": "ipython",
    "version": 3
   },
   "file_extension": ".py",
   "mimetype": "text/x-python",
   "name": "python",
   "nbconvert_exporter": "python",
   "pygments_lexer": "ipython3",
   "version": "3.11.4"
  }
 },
 "nbformat": 4,
 "nbformat_minor": 2
}
