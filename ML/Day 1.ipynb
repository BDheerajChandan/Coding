{
 "cells": [
  {
   "cell_type": "markdown",
   "metadata": {},
   "source": [
    "# Day 1 Tasks"
   ]
  },
  {
   "cell_type": "markdown",
   "metadata": {},
   "source": [
    "# Task1:-"
   ]
  },
  {
   "cell_type": "code",
   "execution_count": 3,
   "metadata": {},
   "outputs": [
    {
     "data": {
      "text/plain": [
       "'\\nNAME | DEPT  \\n----------\\nravi | sales\\nmanu | purch\\nhari | accts\\n\\nExpected:-\\n\\nNAME |sales purch accts\\n-------------------------\\nravi |1       0      0\\nmanu |0       1      0\\nhari |0       0      1\\n\\nNAME | DEPT  \\n------------\\nravi | 1\\nmanu | 2\\nhari | 3\\n\\n\\nNAME | DEPT  \\n------------\\nravi | 0.1\\nmanu | 0.2\\nhari | 0.3\\n'"
      ]
     },
     "execution_count": 3,
     "metadata": {},
     "output_type": "execute_result"
    }
   ],
   "source": [
    "'''\n",
    "NAME | DEPT  \n",
    "----------\n",
    "ravi | sales\n",
    "manu | purch\n",
    "hari | accts\n",
    "\n",
    "Expected:-\n",
    "\n",
    "NAME |sales purch accts\n",
    "-------------------------\n",
    "ravi |1       0      0\n",
    "manu |0       1      0\n",
    "hari |0       0      1\n",
    "\n",
    "NAME | DEPT  \n",
    "------------\n",
    "ravi | 1\n",
    "manu | 2\n",
    "hari | 3\n",
    "\n",
    "\n",
    "NAME | DEPT  \n",
    "------------\n",
    "ravi | 0.1\n",
    "manu | 0.2\n",
    "hari | 0.3\n",
    "'''"
   ]
  },
  {
   "cell_type": "code",
   "execution_count": 8,
   "metadata": {},
   "outputs": [
    {
     "name": "stdout",
     "output_type": "stream",
     "text": [
      "   NAME   DEPT\n",
      "0  ravi  sales\n",
      "1  manu  purch\n",
      "2  hari  accts\n",
      "\n",
      "     sales purch accts\n",
      "ravi  None  None  None\n",
      "manu  None  None  None\n",
      "hari  None  None  None\n",
      "\n",
      " ********** EXPECTED OUTPUT :  **********\n",
      "\n",
      "     sales purch accts\n",
      "ravi     1     0     0\n",
      "manu     0     1     0\n",
      "hari     0     0     1\n",
      "\n",
      "\n",
      "   NAME  Dept\n",
      "0  ravi     1\n",
      "1  manu     2\n",
      "2  hari     3\n",
      "\n",
      "   NAME  Dept\n",
      "0  ravi   0.1\n",
      "1  manu   0.2\n",
      "2  hari   0.3\n"
     ]
    }
   ],
   "source": [
    "# Without Dataframe inbuilt method\n",
    "#-------------------------------------\n",
    "\n",
    "import pandas as pd\n",
    "data={\"NAME\":[\"ravi\",\"manu\",\"hari\"],\n",
    "      \"DEPT\":[\"sales\",\"purch\",\"accts\"]}\n",
    "df1=pd.DataFrame(data)\n",
    "print(df1)\n",
    "print()\n",
    "\n",
    "ed=dict()\n",
    "n=[]\n",
    "for i in data[\"NAME\"]:\n",
    "    n.append(i)\n",
    "    ed[i]=[j for j in range(len(data[\"NAME\"]))]\n",
    "    c=0\n",
    "    for j in range(len(data[\"NAME\"])):\n",
    "        ed[i][j]=None\n",
    "df2=pd.DataFrame(ed).T\n",
    "df2.columns=[i for i in df1[\"DEPT\"]]\n",
    "print(df2)\n",
    "\n",
    "print(\"\\n\",\"*\"*10,\"Expected Output : \".upper(),\"*\"*10)\n",
    "print()\n",
    "c=0\n",
    "for j in df1[\"NAME\"]:    \n",
    "    cnt=0\n",
    "    for i in df1[\"DEPT\"]:\n",
    "        l=[]\n",
    "        if(i==df1[\"DEPT\"][c]):\n",
    "            df2[df1[\"DEPT\"][c]][cnt]=1\n",
    "        else:\n",
    "            df2[df1[\"DEPT\"][c]][cnt]=0\n",
    "        cnt=cnt+1\n",
    "    c=c+1\n",
    "print(df2)\n",
    "print()\n",
    "l1=[]\n",
    "df3=pd.DataFrame(df1[\"NAME\"])\n",
    "for i in range(0,len(df1[\"DEPT\"])):\n",
    "    l1.append(i+1)  \n",
    "df3[\"Dept\"]=l1\n",
    "#print(df1)\n",
    "print()\n",
    "print(df3)\n",
    "\n",
    "print()\n",
    "l2=[]\n",
    "for i in df3[\"Dept\"]:\n",
    "    l2.append(i/10)\n",
    "df4=pd.DataFrame(df3[\"NAME\"])\n",
    "df4[\"Dept\"]=l2\n",
    "print(df4)"
   ]
  },
  {
   "cell_type": "code",
   "execution_count": 13,
   "metadata": {},
   "outputs": [
    {
     "name": "stdout",
     "output_type": "stream",
     "text": [
      "   NAME   DEPT\n",
      "0  ravi  sales\n",
      "1  manu  purch\n",
      "2  hari  accts\n",
      "\n",
      "      accts  purch  sales\n",
      "NAME                     \n",
      "ravi      0      0      1\n",
      "manu      0      1      0\n",
      "hari      1      0      0\n",
      "\n",
      "   NAME   DEPT  Dept\n",
      "0  ravi  sales     1\n",
      "1  manu  purch     2\n",
      "2  hari  accts     3\n",
      "\n",
      "   NAME   DEPT  Dept\n",
      "0  ravi  sales   0.1\n",
      "1  manu  purch   0.2\n",
      "2  hari  accts   0.3\n"
     ]
    }
   ],
   "source": [
    "# With pandas inbuilt method :\n",
    "#-----------------------------\n",
    "import pandas as pd\n",
    "data={\"NAME\":[\"ravi\",\"manu\",\"hari\"],\n",
    "      \"DEPT\":[\"sales\",\"purch\",\"accts\"]}\n",
    "df1=pd.DataFrame(data)\n",
    "print(df1)\n",
    "print()\n",
    "# 1 \n",
    "df2=pd.get_dummies(df1[\"DEPT\"]).set_index(df1[\"NAME\"])\n",
    "print(df2)\n",
    "print()\n",
    "\n",
    "# 2\n",
    "df3 = df1.copy()\n",
    "df3['Dept'] = range(1, len(df3) + 1)\n",
    "print(df3)\n",
    "print()\n",
    "\n",
    "# 3\n",
    "df4 = df3.copy()\n",
    "df4['Dept'] = df4['Dept'] / 10\n",
    "print(df4)"
   ]
  },
  {
   "cell_type": "markdown",
   "metadata": {},
   "source": [
    "# Task2:-"
   ]
  },
  {
   "cell_type": "code",
   "execution_count": 4,
   "metadata": {},
   "outputs": [
    {
     "data": {
      "text/plain": [
       "'\\nconvert \"name\" column to upper case\\n\\nNAME   | DEPT  \\n------------------\\nravi   | sales\\nmanu   | purch\\nhari   | accts\\nranjan | finance\\n\\nExpected:-\\nNAME   | DEPT  \\n------------------\\nRavI   | sales\\nManU   | purch\\nHarI   | accts\\nRanjaN | finance\\n'"
      ]
     },
     "execution_count": 4,
     "metadata": {},
     "output_type": "execute_result"
    }
   ],
   "source": [
    "'''\n",
    "convert \"name\" column to upper case\n",
    "\n",
    "NAME   | DEPT  \n",
    "------------------\n",
    "ravi   | sales\n",
    "manu   | purch\n",
    "hari   | accts\n",
    "ranjan | finance\n",
    "\n",
    "Expected:-\n",
    "NAME   | DEPT  \n",
    "------------------\n",
    "RavI   | sales\n",
    "ManU   | purch\n",
    "HarI   | accts\n",
    "RanjaN | finance\n",
    "'''"
   ]
  },
  {
   "cell_type": "code",
   "execution_count": 89,
   "metadata": {},
   "outputs": [
    {
     "data": {
      "text/html": [
       "<div>\n",
       "<style scoped>\n",
       "    .dataframe tbody tr th:only-of-type {\n",
       "        vertical-align: middle;\n",
       "    }\n",
       "\n",
       "    .dataframe tbody tr th {\n",
       "        vertical-align: top;\n",
       "    }\n",
       "\n",
       "    .dataframe thead th {\n",
       "        text-align: right;\n",
       "    }\n",
       "</style>\n",
       "<table border=\"1\" class=\"dataframe\">\n",
       "  <thead>\n",
       "    <tr style=\"text-align: right;\">\n",
       "      <th></th>\n",
       "      <th>NAME</th>\n",
       "      <th>DEPT</th>\n",
       "    </tr>\n",
       "  </thead>\n",
       "  <tbody>\n",
       "    <tr>\n",
       "      <th>0</th>\n",
       "      <td>RavI</td>\n",
       "      <td>sales</td>\n",
       "    </tr>\n",
       "    <tr>\n",
       "      <th>1</th>\n",
       "      <td>ManU</td>\n",
       "      <td>purch</td>\n",
       "    </tr>\n",
       "    <tr>\n",
       "      <th>2</th>\n",
       "      <td>HarI</td>\n",
       "      <td>accts</td>\n",
       "    </tr>\n",
       "    <tr>\n",
       "      <th>3</th>\n",
       "      <td>RanjaN</td>\n",
       "      <td>finanace</td>\n",
       "    </tr>\n",
       "  </tbody>\n",
       "</table>\n",
       "</div>"
      ],
      "text/plain": [
       "     NAME      DEPT\n",
       "0    RavI     sales\n",
       "1    ManU     purch\n",
       "2    HarI     accts\n",
       "3  RanjaN  finanace"
      ]
     },
     "execution_count": 89,
     "metadata": {},
     "output_type": "execute_result"
    }
   ],
   "source": [
    "# Using .loc :\n",
    "#--------------\n",
    "import pandas as pd\n",
    "d2={\n",
    "    \"NAME\":[\"ravi\",\"manu\",\"hari\",\"ranjan\"],\n",
    "    \"DEPT\":[\"sales\",\"purch\",\"accts\",\"finanace\"]\n",
    "}\n",
    "df=pd.DataFrame(d2)\n",
    "df.loc[df['NAME'] == 'ravi', 'NAME'] = 'RavI'\n",
    "df.loc[df['NAME'] == 'manu', 'NAME'] = 'ManU'\n",
    "df.loc[df['NAME'] == 'hari', 'NAME'] = 'HarI'\n",
    "df.loc[df['NAME'] == 'ranjan', 'NAME'] = 'RanjaN'\n",
    "df"
   ]
  },
  {
   "cell_type": "code",
   "execution_count": 1,
   "metadata": {},
   "outputs": [
    {
     "name": "stdout",
     "output_type": "stream",
     "text": [
      "     NAME      DEPT\n",
      "0    ravi     sales\n",
      "1    manu     purch\n",
      "2    hari     accts\n",
      "3  ranjan  finanace\n",
      "\n",
      "     NAME      DEPT\n",
      "0    RavI     sales\n",
      "1    ManU     purch\n",
      "2    HarI     accts\n",
      "3  RanjaN  finanace\n",
      "\n"
     ]
    }
   ],
   "source": [
    "# Using list comprehesion and .upper() :\n",
    "#----------------------------------------\n",
    "import pandas as pd\n",
    "data={\n",
    "    \"NAME\":[\"ravi\",\"manu\",\"hari\",\"ranjan\"],\n",
    "    \"DEPT\":[\"sales\",\"purch\",\"accts\",\"finanace\"]\n",
    "}\n",
    "df1=pd.DataFrame(data)\n",
    "print(df1)\n",
    "print()\n",
    "df1[\"NAME\"]=[i[0].upper()+i[1:len(i)-1]+i[len(i)-1].upper() for i in df1[\"NAME\"]]\n",
    "print(df1)\n",
    "print()"
   ]
  },
  {
   "cell_type": "markdown",
   "metadata": {},
   "source": [
    "# Task3:-"
   ]
  },
  {
   "cell_type": "code",
   "execution_count": 5,
   "metadata": {},
   "outputs": [
    {
     "data": {
      "text/plain": [
       "'\\nFULLNAME\\n---------\\na-b-c \\nx-y-z\\np-q-r\\n\\nExpected:-\\nFULLNAME | first mid last\\n------------------------------\\na-b-c    |   a    b    c\\nx-y-z    |   x    y    z\\np-q-r    |   p    q    r\\n'"
      ]
     },
     "execution_count": 5,
     "metadata": {},
     "output_type": "execute_result"
    }
   ],
   "source": [
    "'''\n",
    "FULLNAME\n",
    "---------\n",
    "a-b-c \n",
    "x-y-z\n",
    "p-q-r\n",
    "\n",
    "Expected:-\n",
    "FULLNAME | first mid last\n",
    "------------------------------\n",
    "a-b-c    |   a    b    c\n",
    "x-y-z    |   x    y    z\n",
    "p-q-r    |   p    q    r\n",
    "'''"
   ]
  },
  {
   "cell_type": "code",
   "execution_count": 26,
   "metadata": {},
   "outputs": [
    {
     "name": "stdout",
     "output_type": "stream",
     "text": [
      "['a', 'b', 'c']\n",
      "['x', 'y', 'z']\n",
      "['p', 'q', 'r']\n"
     ]
    }
   ],
   "source": [
    "d1={\"FULLNAME\":[\"a-b-c\",\"x-y-z\",\"p-q-r\"]}\n",
    "d2=dict()\n",
    "for i in d1[\"FULLNAME\"]:\n",
    "    s=i.split('-')\n",
    "    print(s)\n",
    "    d2.update({\"FirstName\":s})\n"
   ]
  },
  {
   "cell_type": "markdown",
   "metadata": {},
   "source": [
    "# Task 4:-"
   ]
  },
  {
   "cell_type": "code",
   "execution_count": 6,
   "metadata": {},
   "outputs": [
    {
     "data": {
      "text/plain": [
       "'\\ndata.csv:- data.csv to data.par .data.fea ,data.json\\nConvert the CSV file into a \\tparquet format file \\n\\t\\t              \\tfeather format file\\n\\t\\t                json format file\\n\\n'"
      ]
     },
     "execution_count": 6,
     "metadata": {},
     "output_type": "execute_result"
    }
   ],
   "source": [
    "'''\n",
    "data.csv:- data.csv to data.par .data.fea ,data.json\n",
    "Convert the CSV file into a \tparquet format file \n",
    "\t\t              \tfeather format file\n",
    "\t\t                json format file\n",
    "\n",
    "'''"
   ]
  },
  {
   "cell_type": "markdown",
   "metadata": {},
   "source": [
    "# Task5:-"
   ]
  },
  {
   "cell_type": "code",
   "execution_count": 7,
   "metadata": {},
   "outputs": [
    {
     "data": {
      "text/plain": [
       "'\\nBenchmark this & df.read_Csv()/read_feather()/read_parquet()\\nalst = list(range(1,999999))\\nnewlst = []\\n\\n# code-1\\nfor elem in alst:\\n\\tnewlst.append(elem*elem)\\n\\n#code-2\\nnewlst = list(map(lambda x : x*x, alst))\\n\\n#code-3\\nnewlst = [e*e for e in alst]\\n'"
      ]
     },
     "execution_count": 7,
     "metadata": {},
     "output_type": "execute_result"
    }
   ],
   "source": [
    "'''\n",
    "Benchmark this & df.read_Csv()/read_feather()/read_parquet()\n",
    "alst = list(range(1,999999))\n",
    "newlst = []\n",
    "\n",
    "# code-1\n",
    "for elem in alst:\n",
    "\tnewlst.append(elem*elem)\n",
    "\n",
    "#code-2\n",
    "newlst = list(map(lambda x : x*x, alst))\n",
    "\n",
    "#code-3\n",
    "newlst = [e*e for e in alst]\n",
    "'''"
   ]
  },
  {
   "cell_type": "markdown",
   "metadata": {},
   "source": [
    "# Task6:-"
   ]
  },
  {
   "cell_type": "code",
   "execution_count": 8,
   "metadata": {},
   "outputs": [
    {
     "data": {
      "text/plain": [
       "'\\n\\nNAME | GOT | EXP\\n-----------------\\nt1  |  10  |  20\\nt2  |  10  |  10\\nt3  |  15  |  20\\nt4  |  12  |  12\\nt5  |  30  |  30\\nt6  |  32  |  32\\nt7  |  20  |  20\\nt8  |  *   |  Null\\nt9  |  10  |  Null\\nt10 |  11  |  11\\nt11 |  hai |  20\\nt12 |  ?   |  30\\nt13 |  0   |  0\\nt14 |  25  |  20\\nt15 |  0   |  ?\\n\\nPrepare the data frame for the above data & clean the data \\n>>match the data types\\n\\n'"
      ]
     },
     "execution_count": 8,
     "metadata": {},
     "output_type": "execute_result"
    }
   ],
   "source": [
    "'''\n",
    "\n",
    "NAME | GOT | EXP\n",
    "-----------------\n",
    "t1  |  10  |  20\n",
    "t2  |  10  |  10\n",
    "t3  |  15  |  20\n",
    "t4  |  12  |  12\n",
    "t5  |  30  |  30\n",
    "t6  |  32  |  32\n",
    "t7  |  20  |  20\n",
    "t8  |  *   |  Null\n",
    "t9  |  10  |  Null\n",
    "t10 |  11  |  11\n",
    "t11 |  hai |  20\n",
    "t12 |  ?   |  30\n",
    "t13 |  0   |  0\n",
    "t14 |  25  |  20\n",
    "t15 |  0   |  ?\n",
    "\n",
    "Prepare the data frame for the above data & clean the data \n",
    ">>match the data types\n",
    "\n",
    "'''"
   ]
  },
  {
   "cell_type": "code",
   "execution_count": 21,
   "metadata": {},
   "outputs": [
    {
     "name": "stdout",
     "output_type": "stream",
     "text": [
      "<class 'pandas.core.frame.DataFrame'>\n",
      "RangeIndex: 15 entries, 0 to 14\n",
      "Data columns (total 3 columns):\n",
      " #   Column  Non-Null Count  Dtype \n",
      "---  ------  --------------  ----- \n",
      " 0   NAME    15 non-null     object\n",
      " 1   GOT     15 non-null     object\n",
      " 2   EXP     13 non-null     object\n",
      "dtypes: object(3)\n",
      "memory usage: 492.0+ bytes\n"
     ]
    }
   ],
   "source": [
    "import numpy as np\n",
    "import pandas as pd\n",
    "data = {\n",
    "    'NAME': ['t1', 't2', 't3', 't4', 't5', 't6', 't7', 't8', 't9', 't10', 't11', 't12', 't13', 't14', 't15'],\n",
    "    'GOT': [10, 10, 15, 12, 30, 32, 20, '*', 10, 11, 'hai', '?', 0, 25, 0],\n",
    "    'EXP': [20, 10, 20, 12, 30, 32, 20, np.nan, np.nan, 11, 20, 30, 0, 20, '?']\n",
    "}\n",
    "d=pd.DataFrame(data)\n",
    "d.info()"
   ]
  },
  {
   "cell_type": "markdown",
   "metadata": {},
   "source": [
    "# Task7:-"
   ]
  },
  {
   "cell_type": "code",
   "execution_count": 3,
   "metadata": {},
   "outputs": [],
   "source": [
    "'''\n",
    "=======\n",
    "data.txt:-\n",
    "\\'\\'\\'\n",
    "how is this name = ravi and then later marks [10 20 30]\n",
    "name = manu hello world of marks=[40 50 60] then also data\n",
    "data is find name = hari marks= [70 80 90] from then that\n",
    "this is how data name = guru of then this marks = [25 35 45]\n",
    "\\'\\'\\'\n",
    "\n",
    "Expected1:-\n",
    "\n",
    "NAME  |  MARKS\n",
    "-----------------\n",
    "ravi  | [10,20,30]\n",
    "manu  | [40,50,60]\n",
    "hari  | [70,80,90]\n",
    "guru  | [25,35,45]\n",
    "\n",
    "NAME  |   MARKS    |  TOTAL  |  AVG\n",
    "-----------------------------------\n",
    "ravi  | [10,20,30] |   ?     |  ?\n",
    "manu  | [40,50,60] |   ?     |  ?\n",
    "hari  | [70,80,90] |   ?     |  ?\n",
    "guru  | [25,35,45] |   ?     |  ?\n",
    "\n",
    "\n",
    "'''\n",
    "'''d2={\n",
    "    \"NAME\":[\"ravi\",\"manu\",\"hari\",\"guru\"],\n",
    "    \"MARKS\":[[10,20,30],[40,50,60],[70,80,90],[25,35,45]]\n",
    "}\n",
    "t=[]\n",
    "a=[]\n",
    "for i in d2[\"MARKS\"]:\n",
    "    t.append(sum(i))\n",
    "    a.append(sum(i)/len(i))\n",
    "d2[\"Total\"]=t\n",
    "d2[\"Average\"]=a\n",
    "data=pd.DataFrame(d2)\n",
    "data'''\n",
    "s='''how is this name=ravi and then later marks [10 20 30]\n",
    "name = manu hello world of marks=[40 50 60] then also data\n",
    "data is find name= hari marks= [70 80 90] from then that\n",
    "this is how data name = guru of then this marks = [25 35 45]'''\n",
    "#if '=' in s.split(' '):"
   ]
  },
  {
   "cell_type": "markdown",
   "metadata": {},
   "source": [
    "# Task8:-"
   ]
  },
  {
   "cell_type": "code",
   "execution_count": 10,
   "metadata": {},
   "outputs": [
    {
     "data": {
      "text/plain": [
       "'\\nalst = [\\n    \"hari-blr-math-50,sci-56,soc-84\",\\n    \"john-chn-math-60,sci-64,soc-54\",\\n    \"ramu-hyd-math-80,sci-56,soc-75\",\\n    \"elan-mum-math-30,sci-43,soc-54\",    \\n    ]\\n\\nExpected1:-\\n\\thari total ? best subject soc\\n\\tjohn total ? best subject sci\\n\\tramu total ? best subject math\\n\\telan total ? best subject soc\\n\\n\\tBest student in math dept = ?\\n\\tBest student in sci dept = ?\\n\\tBest student in soc dept = ?\\n'"
      ]
     },
     "execution_count": 10,
     "metadata": {},
     "output_type": "execute_result"
    }
   ],
   "source": [
    "'''\n",
    "alst = [\n",
    "    \"hari-blr-math-50,sci-56,soc-84\",\n",
    "    \"john-chn-math-60,sci-64,soc-54\",\n",
    "    \"ramu-hyd-math-80,sci-56,soc-75\",\n",
    "    \"elan-mum-math-30,sci-43,soc-54\",    \n",
    "    ]\n",
    "\n",
    "Expected1:-\n",
    "\thari total ? best subject soc\n",
    "\tjohn total ? best subject sci\n",
    "\tramu total ? best subject math\n",
    "\telan total ? best subject soc\n",
    "\n",
    "\tBest student in math dept = ?\n",
    "\tBest student in sci dept = ?\n",
    "\tBest student in soc dept = ?\n",
    "'''"
   ]
  },
  {
   "cell_type": "code",
   "execution_count": 18,
   "metadata": {},
   "outputs": [],
   "source": [
    "alst = [\n",
    "    \"hari-blr-math-50,sci-56,soc-84\",\n",
    "    \"john-chn-math-60 ,sci-64,soc-54\",\n",
    "    \"ramu-hyd-math-80 ,sci-56,soc-75\",\n",
    "    \"elan-mum-math-30 ,sci-43,soc-54\",    \n",
    "    ]"
   ]
  },
  {
   "cell_type": "code",
   "execution_count": null,
   "metadata": {},
   "outputs": [],
   "source": []
  }
 ],
 "metadata": {
  "kernelspec": {
   "display_name": "base",
   "language": "python",
   "name": "python3"
  },
  "language_info": {
   "codemirror_mode": {
    "name": "ipython",
    "version": 3
   },
   "file_extension": ".py",
   "mimetype": "text/x-python",
   "name": "python",
   "nbconvert_exporter": "python",
   "pygments_lexer": "ipython3",
   "version": "3.11.4"
  }
 },
 "nbformat": 4,
 "nbformat_minor": 2
}
