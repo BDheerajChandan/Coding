{
 "cells": [
  {
   "cell_type": "code",
   "execution_count": 1,
   "metadata": {},
   "outputs": [
    {
     "name": "stdout",
     "output_type": "stream",
     "text": [
      "['Atlanta Airline Data.xlsx', 'Bicycle Inventory.xlsx', 'Cell Phone Survey.xlsx', 'Census Education Data.xlsx', 'Cities.xlsx', 'Closing Stock Prices.xlsx', 'Colleges and Universities.xlsx', 'Computer Repair Times.xlsx', 'Credit Risk Data.xlsx', 'Monthly Product Sales.xlsx', 'Pricing.xlsx', 'Purchase Orders.xlsx', 'S&P 500.xlsx', 'Sales Transactions.xlsx', 'Science and Engineering Jobs.xlsx', 'Stock Comparisons.xlsx', 'Student Grades.xlsx']\n"
     ]
    },
    {
     "name": "stderr",
     "output_type": "stream",
     "text": [
      "c:\\Users\\KIIT\\anaconda3\\Lib\\site-packages\\openpyxl\\worksheet\\_read_only.py:79: UserWarning: Unknown extension is not supported and will be removed\n",
      "  for idx, row in parser.parse():\n",
      "c:\\Users\\KIIT\\anaconda3\\Lib\\site-packages\\openpyxl\\worksheet\\_read_only.py:79: UserWarning: Unknown extension is not supported and will be removed\n",
      "  for idx, row in parser.parse():\n",
      "c:\\Users\\KIIT\\anaconda3\\Lib\\site-packages\\openpyxl\\worksheet\\_read_only.py:79: UserWarning: Unknown extension is not supported and will be removed\n",
      "  for idx, row in parser.parse():\n",
      "c:\\Users\\KIIT\\anaconda3\\Lib\\site-packages\\openpyxl\\worksheet\\_read_only.py:79: UserWarning: Unknown extension is not supported and will be removed\n",
      "  for idx, row in parser.parse():\n",
      "c:\\Users\\KIIT\\anaconda3\\Lib\\site-packages\\openpyxl\\worksheet\\_read_only.py:79: UserWarning: Unknown extension is not supported and will be removed\n",
      "  for idx, row in parser.parse():\n",
      "c:\\Users\\KIIT\\anaconda3\\Lib\\site-packages\\openpyxl\\worksheet\\_read_only.py:79: UserWarning: Unknown extension is not supported and will be removed\n",
      "  for idx, row in parser.parse():\n",
      "c:\\Users\\KIIT\\anaconda3\\Lib\\site-packages\\openpyxl\\worksheet\\_read_only.py:79: UserWarning: Unknown extension is not supported and will be removed\n",
      "  for idx, row in parser.parse():\n",
      "c:\\Users\\KIIT\\anaconda3\\Lib\\site-packages\\openpyxl\\worksheet\\_read_only.py:79: UserWarning: Unknown extension is not supported and will be removed\n",
      "  for idx, row in parser.parse():\n",
      "c:\\Users\\KIIT\\anaconda3\\Lib\\site-packages\\openpyxl\\worksheet\\_read_only.py:79: UserWarning: Unknown extension is not supported and will be removed\n",
      "  for idx, row in parser.parse():\n",
      "c:\\Users\\KIIT\\anaconda3\\Lib\\site-packages\\openpyxl\\worksheet\\_read_only.py:79: UserWarning: Unknown extension is not supported and will be removed\n",
      "  for idx, row in parser.parse():\n",
      "c:\\Users\\KIIT\\anaconda3\\Lib\\site-packages\\openpyxl\\worksheet\\_read_only.py:79: UserWarning: Unknown extension is not supported and will be removed\n",
      "  for idx, row in parser.parse():\n",
      "c:\\Users\\KIIT\\anaconda3\\Lib\\site-packages\\openpyxl\\worksheet\\_read_only.py:79: UserWarning: Unknown extension is not supported and will be removed\n",
      "  for idx, row in parser.parse():\n",
      "c:\\Users\\KIIT\\anaconda3\\Lib\\site-packages\\openpyxl\\worksheet\\_read_only.py:79: UserWarning: Unknown extension is not supported and will be removed\n",
      "  for idx, row in parser.parse():\n",
      "c:\\Users\\KIIT\\anaconda3\\Lib\\site-packages\\openpyxl\\workbook\\child.py:99: UserWarning: Title is more than 31 characters. Some applications may not be able to read the file\n",
      "  warnings.warn(\"Title is more than 31 characters. Some applications may not be able to read the file\")\n",
      "c:\\Users\\KIIT\\anaconda3\\Lib\\site-packages\\openpyxl\\worksheet\\_read_only.py:79: UserWarning: Unknown extension is not supported and will be removed\n",
      "  for idx, row in parser.parse():\n",
      "c:\\Users\\KIIT\\anaconda3\\Lib\\site-packages\\openpyxl\\worksheet\\_read_only.py:79: UserWarning: Unknown extension is not supported and will be removed\n",
      "  for idx, row in parser.parse():\n"
     ]
    },
    {
     "data": {
      "text/plain": [
       "17"
      ]
     },
     "execution_count": 1,
     "metadata": {},
     "output_type": "execute_result"
    }
   ],
   "source": [
    "import os\n",
    "import pandas as pd\n",
    "foldername=\"\\\\DataFiles\"\n",
    "currFolder=os.getcwd()\n",
    "DataFolderPath=currFolder+foldername\n",
    "dirfiles=[i for i in os.listdir(DataFolderPath) if i.endswith(\".xlsx\")]\n",
    "print(dirfiles)\n",
    "dataframe=pd.DataFrame()\n",
    "with pd.ExcelWriter(\"ForDV.xlsx\") as writer:\n",
    "    for i in dirfiles:\n",
    "        datadata=pd.read_excel(DataFolderPath+f\"\\\\{i}\")\n",
    "        #print(datadata)\n",
    "        datadata.to_excel(writer,sheet_name=i,index=False)\n",
    "len(dirfiles)"
   ]
  },
  {
   "cell_type": "code",
   "execution_count": 41,
   "metadata": {},
   "outputs": [
    {
     "name": "stdout",
     "output_type": "stream",
     "text": [
      "{'Patient History': ['Name', 'Phone', 'age', 'gender', 'occupation', 'exercise', 'smoking', 'alcohol'], 'Symptoms Description': ['onset', 'duration', 'intensity', 'fever', 'nausea', 'pain'], 'Diagnostic Algo & AI Tool': {'Details': {'Patient History', 'Symptoms Description'}, 'Predicted': {'treatment', 'disease', 'risk'}}}\n"
     ]
    }
   ],
   "source": [
    "import pandas as pd\n",
    "col={\n",
    "    \"Patient History\":[\"Name\",\"Phone\",\"age\", \"gender\", \"occupation\",\"exercise\", \"smoking\", \"alcohol\"],\n",
    "    \"Symptoms Description\":[\"onset\", \"duration\", \"intensity\",\"fever\", \"nausea\", \"pain\"],\n",
    "    \"Diagnostic Algo & AI Tool\":{\"Details\":{\"Patient History\",\"Symptoms Description\"},\n",
    "                                 \"Predicted\":{\"disease\",\"risk\",\"treatment\"}}\n",
    "}\n",
    "print(col)"
   ]
  },
  {
   "cell_type": "code",
   "execution_count": null,
   "metadata": {},
   "outputs": [],
   "source": []
  }
 ],
 "metadata": {
  "kernelspec": {
   "display_name": "base",
   "language": "python",
   "name": "python3"
  },
  "language_info": {
   "codemirror_mode": {
    "name": "ipython",
    "version": 3
   },
   "file_extension": ".py",
   "mimetype": "text/x-python",
   "name": "python",
   "nbconvert_exporter": "python",
   "pygments_lexer": "ipython3",
   "version": "3.11.4"
  }
 },
 "nbformat": 4,
 "nbformat_minor": 2
}
