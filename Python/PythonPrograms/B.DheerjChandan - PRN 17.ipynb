{
 "cells": [
  {
   "cell_type": "markdown",
   "id": "69c6857b-a9b4-469a-909a-8cec3cb2479a",
   "metadata": {},
   "source": [
    "## Create a vehicle class with attributes number of wheels, number of airbags, max speed etc. Create a constructor and method that displays vehicles' information"
   ]
  },
  {
   "cell_type": "code",
   "execution_count": 28,
   "id": "47992496-0a4f-4795-86d7-5fcbb47d92e4",
   "metadata": {},
   "outputs": [
    {
     "name": "stdout",
     "output_type": "stream",
     "text": [
      "wheels :  4\n",
      "Airbag :  6\n",
      "Max Speed :  8\n"
     ]
    }
   ],
   "source": [
    "# Name : B.Dheeraj Chandan, PRN :\n",
    "class vehicle:\n",
    "    def __init__(self,NumOfWheels,NumOfAirbag,MaxSpeed):\n",
    "        self.NumOfWheels=NumOfWheels\n",
    "        self.NumOfAirbag=NumOfAirbag\n",
    "        self.MaxSpeed=MaxSpeed\n",
    "    def vehicleInfo(self):\n",
    "        print(\"wheels : \",self.NumOfWheels)\n",
    "        print(\"Airbag : \",self.NumOfAirbag)\n",
    "        print(\"Max Speed : \",self.MaxSpeed)\n",
    "v=vehicle(4,6,8)\n",
    "v.vehicleInfo()"
   ]
  },
  {
   "cell_type": "markdown",
   "id": "64a36155-9d63-4f0c-b069-accf414bedf1",
   "metadata": {},
   "source": [
    "\"\"\" ## Create a child class Bus from Vehicle vlass that inherit all \n",
    "the of the variables and methods from vehicle class. The \n",
    "bus class has its own attributes: number of doors, fare per \n",
    "kilometer, number of seats along with inherited attributes.\n",
    "Write a method to calculate bus fare by accepting distance \n",
    "in kilometer as parameter.\"\"\""
   ]
  },
  {
   "cell_type": "code",
   "execution_count": 30,
   "id": "351267e6-8d24-4c74-bf4f-be56beb3bb42",
   "metadata": {},
   "outputs": [
    {
     "name": "stdout",
     "output_type": "stream",
     "text": [
      "Vehicle runs on Battery ? : False\n",
      "3\n",
      "6\n",
      "7.8\n"
     ]
    }
   ],
   "source": [
    "# Name : B.Dheeraj Chandan, PRN :\n",
    "class Vehicle:\n",
    "    def __init__(self,BatteryVehicle):\n",
    "        self.BatteryVehicle=BatteryVehicle\n",
    "    def vehicleType(self):\n",
    "        return f\"Vehicle runs on Battery ? : {self.BatteryVehicle}\"\n",
    "class Bus(Vehicle):\n",
    "    def __init__(self,NumOfDoors,NumOfSeats,FareKMPH):\n",
    "        super().__init__(False)\n",
    "        self.NumOfDoors=NumOfDoors\n",
    "        self.FareKMPH=FareKMPH\n",
    "        self.NumOfSeats=NumOfSeats\n",
    "    def Vehicledisplay(self):\n",
    "        s=Vehicle.vehicleType(self)\n",
    "        print(s)\n",
    "        print(self.NumOfDoors)\n",
    "        print(self.NumOfSeats)\n",
    "        print(self.FareKMPH)\n",
    "b=Bus(3,6,7.8)\n",
    "b.Vehicledisplay()"
   ]
  },
  {
   "cell_type": "markdown",
   "id": "ec931f96-3c27-4a8f-bd26-354d6f7b2fc0",
   "metadata": {},
   "source": [
    "## Use keywords for handling exceptions in python"
   ]
  }
 ],
 "metadata": {
  "kernelspec": {
   "display_name": "Python 3 (ipykernel)",
   "language": "python",
   "name": "python3"
  },
  "language_info": {
   "codemirror_mode": {
    "name": "ipython",
    "version": 3
   },
   "file_extension": ".py",
   "mimetype": "text/x-python",
   "name": "python",
   "nbconvert_exporter": "python",
   "pygments_lexer": "ipython3",
   "version": "3.11.4"
  }
 },
 "nbformat": 4,
 "nbformat_minor": 5
}
