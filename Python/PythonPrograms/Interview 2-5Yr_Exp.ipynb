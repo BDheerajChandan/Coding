{
 "cells": [
  {
   "cell_type": "markdown",
   "metadata": {},
   "source": [
    "# 1. Revese a string"
   ]
  },
  {
   "cell_type": "code",
   "execution_count": 1,
   "metadata": {},
   "outputs": [
    {
     "name": "stdout",
     "output_type": "stream",
     "text": [
      "jareehD\n"
     ]
    }
   ],
   "source": [
    "s1=\"Dheeraj\"\n",
    "s2=s1[::-1]\n",
    "print(s2)"
   ]
  },
  {
   "cell_type": "code",
   "execution_count": 3,
   "metadata": {},
   "outputs": [
    {
     "name": "stdout",
     "output_type": "stream",
     "text": [
      "jareehD\n"
     ]
    }
   ],
   "source": [
    "s1=\"Dheeraj\"\n",
    "s2=\"\"\n",
    "for i in s1:\n",
    "    s2=i+s2\n",
    "print(s2)"
   ]
  },
  {
   "cell_type": "markdown",
   "metadata": {},
   "source": [
    "# 2. Frequency of chracters"
   ]
  },
  {
   "cell_type": "code",
   "execution_count": 6,
   "metadata": {},
   "outputs": [
    {
     "name": "stdout",
     "output_type": "stream",
     "text": [
      "{'D': 1, 'h': 1, 'e': 2, 'r': 1, 'a': 1, 'j': 1}\n"
     ]
    }
   ],
   "source": [
    "s1=\"Dheeraj\"\n",
    "s2=\"\"\n",
    "for i in s1:\n",
    "    if i not in s2:\n",
    "        s2=s2+i\n",
    "f=dict()\n",
    "for i in s2:\n",
    "    f.update({i:s1.count(i)})\n",
    "print(f)"
   ]
  },
  {
   "cell_type": "markdown",
   "metadata": {},
   "source": [
    "# 3. Maximum frequency of a character"
   ]
  },
  {
   "cell_type": "code",
   "execution_count": null,
   "metadata": {},
   "outputs": [
    {
     "name": "stdout",
     "output_type": "stream",
     "text": [
      "[1, 2, 2, 1, 3, 1, 1, 1, 2, 1]\n",
      "3\n"
     ]
    }
   ],
   "source": [
    "s1=\"Dheeraj\"\n",
    "s2=\"\"\n",
    "for i in s1:\n",
    "    if i not in s2:\n",
    "        s2=s2+i\n",
    "l1=list()\n",
    "for i in s2:\n",
    "    l1.append(s1.count(i))\n",
    "print(l1)\n",
    "print(max(l1))"
   ]
  },
  {
   "cell_type": "code",
   "execution_count": 19,
   "metadata": {},
   "outputs": [
    {
     "name": "stdout",
     "output_type": "stream",
     "text": [
      "{'D': 1, 'h': 1, 'e': 2, 'r': 1, 'a': 1, 'j': 1}\n",
      "e : 2\n"
     ]
    }
   ],
   "source": [
    "s1=\"Dheeraj\"\n",
    "s2=\"\"\n",
    "for i in s1:\n",
    "    if i not in s2:\n",
    "        s2=s2+i\n",
    "d1=dict()\n",
    "for i in s2:\n",
    "    d1.update({i:s1.count(i)})\n",
    "print(d1)\n",
    "print(max(d1,key=d1.get),\":\",max(d1.values()))"
   ]
  },
  {
   "cell_type": "markdown",
   "metadata": {},
   "source": [
    "# 4. Sort the list"
   ]
  },
  {
   "cell_type": "code",
   "execution_count": 20,
   "metadata": {},
   "outputs": [
    {
     "name": "stdout",
     "output_type": "stream",
     "text": [
      "[1, 2, 3, 4, 5, 6, 7]\n"
     ]
    }
   ],
   "source": [
    "l1=[1,7,2,6,4,5,3]\n",
    "l1.sort()\n",
    "print(l1)"
   ]
  },
  {
   "cell_type": "code",
   "execution_count": 31,
   "metadata": {},
   "outputs": [
    {
     "name": "stdout",
     "output_type": "stream",
     "text": [
      "[1, 1, 4, 2, 6, 6, 3, 5, 7]\n"
     ]
    }
   ],
   "source": [
    "l1=[1,1,7,2,6,4,6,5,3]\n",
    "for i in range(len(l1)):\n",
    "    for j in range(len(l1)-i-1):\n",
    "        if l1[j]>l1[j-1]:\n",
    "            l1[j],l1[j+1]=l1[j+1],l1[j]\n",
    "print(l1)"
   ]
  },
  {
   "cell_type": "markdown",
   "metadata": {},
   "source": [
    "# 5. Merge sorted list"
   ]
  },
  {
   "cell_type": "code",
   "execution_count": 35,
   "metadata": {},
   "outputs": [
    {
     "name": "stdout",
     "output_type": "stream",
     "text": [
      "[1, 7, 2, 6, 4, 5, 3, 2]\n",
      "[1, 2, 2, 3, 4, 5, 6, 7]\n"
     ]
    }
   ],
   "source": [
    "l1=[1,7,2,6]\n",
    "l2=[4,5,3,2]\n",
    "l1.extend(l2)\n",
    "print(l1)\n",
    "l1.sort()\n",
    "print(l1)"
   ]
  },
  {
   "cell_type": "code",
   "execution_count": 36,
   "metadata": {},
   "outputs": [
    {
     "name": "stdout",
     "output_type": "stream",
     "text": [
      "[1, 2, 2, 3, 4, 5, 6, 7]\n"
     ]
    }
   ],
   "source": [
    "l1=[1,7,2,6]\n",
    "l2=[4,5,3,2]\n",
    "l1.extend(l2)\n",
    "for i in range(len(l1)):\n",
    "    for j in range(len(l1)-i-1):\n",
    "        if l1[j]>l1[j+1]:\n",
    "            l1[j],l1[j+1]=l1[j+1],l1[j]\n",
    "print(l1)"
   ]
  },
  {
   "cell_type": "code",
   "execution_count": 47,
   "metadata": {},
   "outputs": [
    {
     "name": "stdout",
     "output_type": "stream",
     "text": [
      "[1 2 2 3 4 5 6 7]\n"
     ]
    }
   ],
   "source": [
    "import numpy as np\n",
    "l1=[1,7,2,6]\n",
    "l2=[4,5,3,2]\n",
    "l1=np.concatenate((l1,l2))\n",
    "l1.sort()\n",
    "print(l1)"
   ]
  },
  {
   "cell_type": "code",
   "execution_count": 51,
   "metadata": {},
   "outputs": [
    {
     "name": "stdout",
     "output_type": "stream",
     "text": [
      "[1 2 2 3 4 5 6 7]\n"
     ]
    }
   ],
   "source": [
    "import numpy as np\n",
    "l1=[1,7,2,6]\n",
    "l2=[4,5,3,2]\n",
    "l1=np.concatenate((l1,l2))\n",
    "for i in range(len(l1)):\n",
    "    for j in range(len(l1)-i-1):\n",
    "        if l1[j]>l1[j+1]:\n",
    "            l1[j],l1[j+1]=l1[j+1],l1[j]\n",
    "print(l1)"
   ]
  },
  {
   "cell_type": "markdown",
   "metadata": {},
   "source": [
    "# 6. Find and add Missing number in an array"
   ]
  },
  {
   "cell_type": "code",
   "execution_count": 57,
   "metadata": {},
   "outputs": [
    {
     "name": "stdout",
     "output_type": "stream",
     "text": [
      "3 4 5 \n",
      "[1, 7, 2, 6, 3, 4, 5]\n"
     ]
    }
   ],
   "source": [
    "l1=[1,7,2,6]\n",
    "l2=list()\n",
    "for i in range(min(l1),max(l1)):\n",
    "    if i not in l1:\n",
    "        print(i,end=' ')\n",
    "        l2.append(i)\n",
    "print()\n",
    "l1.extend(l2)\n",
    "print(l1)"
   ]
  },
  {
   "cell_type": "markdown",
   "metadata": {},
   "source": [
    "# 7. Rotate a matrix in an Array, 90 degree"
   ]
  },
  {
   "cell_type": "markdown",
   "metadata": {},
   "source": [
    "# 8. String palindrome"
   ]
  },
  {
   "cell_type": "code",
   "execution_count": 60,
   "metadata": {},
   "outputs": [
    {
     "name": "stdout",
     "output_type": "stream",
     "text": [
      "True\n"
     ]
    }
   ],
   "source": [
    "s1=\"madam\"\n",
    "s2=s1[::-1]\n",
    "p= s1==s2\n",
    "print(p)"
   ]
  },
  {
   "cell_type": "markdown",
   "metadata": {},
   "source": [
    "# 9. n-th largest element"
   ]
  },
  {
   "cell_type": "code",
   "execution_count": 71,
   "metadata": {},
   "outputs": [
    {
     "name": "stdout",
     "output_type": "stream",
     "text": [
      "[1, 2, 3, 4, 5, 6, 7]\n",
      "At index: 2 , Element: 3\n"
     ]
    }
   ],
   "source": [
    "l1=[1, 7, 2, 6, 3, 4, 5]\n",
    "l1.sort()\n",
    "n=2#int(input())\n",
    "print(l1)\n",
    "ele=l1[n]\n",
    "print(f'At index: {n} , Element: {ele}')"
   ]
  },
  {
   "cell_type": "markdown",
   "metadata": {},
   "source": [
    "# 10. Binary search"
   ]
  },
  {
   "cell_type": "markdown",
   "metadata": {},
   "source": [
    "# 11. Fibonacci Series"
   ]
  },
  {
   "cell_type": "code",
   "execution_count": 74,
   "metadata": {},
   "outputs": [
    {
     "name": "stdout",
     "output_type": "stream",
     "text": [
      "[0, 1, 1, 2, 3, 5, 8, 13, 21, 34]\n"
     ]
    }
   ],
   "source": [
    "a=0\n",
    "b=1\n",
    "l1=list()\n",
    "l1.extend([a,b])\n",
    "for i in range(2,10):\n",
    "    l1.append(a+b)\n",
    "    a,b=b,a+b\n",
    "print(l1)"
   ]
  },
  {
   "cell_type": "code",
   "execution_count": 92,
   "metadata": {},
   "outputs": [
    {
     "name": "stdout",
     "output_type": "stream",
     "text": [
      "0 1 1 2 3 5 8 13 21 34 "
     ]
    }
   ],
   "source": [
    "def f1(n):\n",
    "    if n==0:\n",
    "        return 0\n",
    "    elif n==1:\n",
    "        return 1\n",
    "    else:\n",
    "        return f1(n-1)+f1(n-2)\n",
    "    \n",
    "def f2():\n",
    "    for i in range(10):\n",
    "        res=f1(i)\n",
    "        print(res,end=' ')\n",
    "\n",
    "f=f2()\n",
    "f"
   ]
  },
  {
   "cell_type": "markdown",
   "metadata": {},
   "source": [
    "# 12. Anagrams in a Striing"
   ]
  },
  {
   "cell_type": "markdown",
   "metadata": {},
   "source": [
    "# 13. Count Inversions i<j and a[i]>a[j]"
   ]
  },
  {
   "cell_type": "markdown",
   "metadata": {
    "vscode": {
     "languageId": "plaintext"
    }
   },
   "source": [
    "# 14. Longest Substring without repeating chracters"
   ]
  },
  {
   "cell_type": "markdown",
   "metadata": {
    "vscode": {
     "languageId": "plaintext"
    }
   },
   "source": [
    "# 15. Find the First Non-Repeating Character"
   ]
  },
  {
   "cell_type": "markdown",
   "metadata": {},
   "source": [
    "# 16. Find Duplicate in an Array"
   ]
  },
  {
   "cell_type": "code",
   "execution_count": 99,
   "metadata": {},
   "outputs": [
    {
     "name": "stdout",
     "output_type": "stream",
     "text": [
      "('h', 2) ('e', 2) ('a', 3) ('n', 2) "
     ]
    }
   ],
   "source": [
    "s1=\"Dheeraj Chandan\"\n",
    "s2=\"\"\n",
    "for i in s1:\n",
    "    if s1.count(i)>1 and i not in s2:\n",
    "        s2=s2+i\n",
    "        print((i,s1.count(i)),end=' ')"
   ]
  },
  {
   "cell_type": "markdown",
   "metadata": {},
   "source": [
    "# 17. Decorator"
   ]
  },
  {
   "cell_type": "markdown",
   "metadata": {},
   "source": [
    "# 18. Generator"
   ]
  },
  {
   "cell_type": "markdown",
   "metadata": {},
   "source": [
    "# 19. Lambda"
   ]
  },
  {
   "cell_type": "markdown",
   "metadata": {},
   "source": [
    "# 20. Yield"
   ]
  },
  {
   "cell_type": "markdown",
   "metadata": {},
   "source": [
    "# 21. OOPs"
   ]
  },
  {
   "cell_type": "markdown",
   "metadata": {},
   "source": [
    "# 22. MySQL connector"
   ]
  },
  {
   "cell_type": "markdown",
   "metadata": {},
   "source": [
    "# 23. Intersection of two lists"
   ]
  },
  {
   "cell_type": "markdown",
   "metadata": {},
   "source": [
    "# 24. Remove duplicate elements from a list"
   ]
  },
  {
   "cell_type": "markdown",
   "metadata": {},
   "source": [
    "# 25. Largest number without using function"
   ]
  },
  {
   "cell_type": "markdown",
   "metadata": {},
   "source": [
    "# 26. ip - aBcdE , op - AbCDe"
   ]
  },
  {
   "cell_type": "code",
   "execution_count": 101,
   "metadata": {},
   "outputs": [
    {
     "name": "stdout",
     "output_type": "stream",
     "text": [
      "aBcdE  :  AbCDe\n"
     ]
    }
   ],
   "source": [
    "s1=\"aBcdE\"\n",
    "s2=\"\"\n",
    "for i in s1:\n",
    "    if 'a'<=i<='z':\n",
    "        s2=s2+i.upper()\n",
    "    elif 'A'<=i<='Z':\n",
    "        s2=s2+i.lower()\n",
    "    else:\n",
    "        pass\n",
    "print(s1,\" : \",s2)"
   ]
  },
  {
   "cell_type": "code",
   "execution_count": null,
   "metadata": {},
   "outputs": [],
   "source": []
  }
 ],
 "metadata": {
  "kernelspec": {
   "display_name": "base",
   "language": "python",
   "name": "python3"
  },
  "language_info": {
   "codemirror_mode": {
    "name": "ipython",
    "version": 3
   },
   "file_extension": ".py",
   "mimetype": "text/x-python",
   "name": "python",
   "nbconvert_exporter": "python",
   "pygments_lexer": "ipython3",
   "version": "3.11.4"
  }
 },
 "nbformat": 4,
 "nbformat_minor": 2
}
