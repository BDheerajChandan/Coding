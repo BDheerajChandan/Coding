{
 "cells": [
  {
   "cell_type": "markdown",
   "metadata": {},
   "source": [
    "# 1. Revese a string"
   ]
  },
  {
   "cell_type": "code",
   "execution_count": 4,
   "metadata": {},
   "outputs": [
    {
     "name": "stdout",
     "output_type": "stream",
     "text": [
      "jareehD\n"
     ]
    }
   ],
   "source": [
    "s1=\"Dheeraj\"\n",
    "s2=s1[::-1]\n",
    "print(s2)"
   ]
  },
  {
   "cell_type": "code",
   "execution_count": 5,
   "metadata": {},
   "outputs": [
    {
     "name": "stdout",
     "output_type": "stream",
     "text": [
      "jareehD\n"
     ]
    }
   ],
   "source": [
    "s1=\"Dheeraj\"\n",
    "s2=\"\"\n",
    "for i in s1:\n",
    "    s2=i+s2\n",
    "print(s2)"
   ]
  },
  {
   "cell_type": "markdown",
   "metadata": {},
   "source": [
    "# 2. Frequency of chracters"
   ]
  },
  {
   "cell_type": "code",
   "execution_count": 6,
   "metadata": {},
   "outputs": [
    {
     "name": "stdout",
     "output_type": "stream",
     "text": [
      "{'D': 1, 'h': 1, 'e': 2, 'r': 1, 'a': 1, 'j': 1}\n"
     ]
    }
   ],
   "source": [
    "s1=\"Dheeraj\"\n",
    "s2=\"\"\n",
    "for i in s1:\n",
    "    if i not in s2:\n",
    "        s2=s2+i\n",
    "f=dict()\n",
    "for i in s2:\n",
    "    f.update({i:s1.count(i)})\n",
    "print(f)"
   ]
  },
  {
   "cell_type": "code",
   "execution_count": 7,
   "metadata": {},
   "outputs": [
    {
     "data": {
      "text/plain": [
       "'\\n2. Find Frequency of chracters in a string\\n    i/p : Dheeraj\\n    o/p : D:1, h:1 ,e:2, r:1, a:1, j:1\\n\\n    i/p: Ashwini Patil\\n    o/p : A:1,s:1, h:1, w:1, i:3, n:1, P:1, a:1, t:1 l:1\\n'"
      ]
     },
     "execution_count": 7,
     "metadata": {},
     "output_type": "execute_result"
    }
   ],
   "source": [
    "\"\"\"\n",
    "2. Find Frequency of chracters in a string\n",
    "    i/p : Dheeraj\n",
    "    o/p : D:1, h:1 ,e:2, r:1, a:1, j:1\n",
    "\n",
    "    i/p: Ashwini Patil\n",
    "    o/p : A:1,s:1, h:1, w:1, i:3, n:1, P:1, a:1, t:1 l:1\n",
    "\"\"\""
   ]
  },
  {
   "cell_type": "code",
   "execution_count": 8,
   "metadata": {},
   "outputs": [
    {
     "name": "stdout",
     "output_type": "stream",
     "text": [
      "Before removing duplicate characters :  Dheeraj\n",
      "After removing duplicate characters :  Dheraj\n",
      "{'D': 1, 'h': 1, 'e': 2, 'r': 1, 'a': 1, 'j': 1}\n"
     ]
    }
   ],
   "source": [
    "s1=\"Dheeraj\"\n",
    "freq=dict()\n",
    "print(\"Before removing duplicate characters : \",s1)\n",
    "s2=\"\"\n",
    "for i in s1:\n",
    "    if i not in s2:\n",
    "        s2=s2+i\n",
    "    else:\n",
    "        pass\n",
    "print(\"After removing duplicate characters : \",s2)\n",
    "\n",
    "for i in s2:\n",
    "    cnt=s1.count(i)\n",
    "    freq.update({i:cnt})\n",
    "print(freq)\n"
   ]
  },
  {
   "cell_type": "code",
   "execution_count": 9,
   "metadata": {},
   "outputs": [
    {
     "name": "stdout",
     "output_type": "stream",
     "text": [
      "Aswin Patl  :  {'A': 1, 's': 1, 'w': 1, 'i': 3, 'n': 1, 'P': 1, 'a': 1, 't': 1, 'l': 1}\n"
     ]
    }
   ],
   "source": [
    "s1=\"Aswini Patil\"\n",
    "freq=dict()\n",
    "s2=\"\"\n",
    "\n",
    "for i in s1:\n",
    "    if i not in s2 :\n",
    "        s2=s2+i\n",
    "    else:\n",
    "        pass\n",
    "\n",
    "for i in s2:\n",
    "    if i !=\" \":\n",
    "         freq.update({i:s1.count(i)})\n",
    "print(s2,\" : \",freq)"
   ]
  },
  {
   "cell_type": "markdown",
   "metadata": {},
   "source": [
    "# 3. Maximum frequency of a character"
   ]
  },
  {
   "cell_type": "code",
   "execution_count": 10,
   "metadata": {},
   "outputs": [
    {
     "name": "stdout",
     "output_type": "stream",
     "text": [
      "[1, 1, 2, 1, 1, 1]\n",
      "2\n"
     ]
    }
   ],
   "source": [
    "s1=\"Dheeraj\"\n",
    "s2=\"\"\n",
    "for i in s1:\n",
    "    if i not in s2:\n",
    "        s2=s2+i\n",
    "l1=list()\n",
    "for i in s2:\n",
    "    l1.append(s1.count(i))\n",
    "print(l1)\n",
    "print(max(l1))"
   ]
  },
  {
   "cell_type": "code",
   "execution_count": 11,
   "metadata": {},
   "outputs": [
    {
     "name": "stdout",
     "output_type": "stream",
     "text": [
      "{'D': 1, 'h': 1, 'e': 2, 'r': 1, 'a': 1, 'j': 1}\n",
      "e : 2\n"
     ]
    }
   ],
   "source": [
    "s1=\"Dheeraj\"\n",
    "s2=\"\"\n",
    "for i in s1:\n",
    "    if i not in s2:\n",
    "        s2=s2+i\n",
    "d1=dict()\n",
    "for i in s2:\n",
    "    d1.update({i:s1.count(i)})\n",
    "print(d1)\n",
    "print(max(d1,key=d1.get),\":\",max(d1.values()))"
   ]
  },
  {
   "cell_type": "markdown",
   "metadata": {},
   "source": [
    "# 4. Sort the list"
   ]
  },
  {
   "cell_type": "code",
   "execution_count": 12,
   "metadata": {},
   "outputs": [
    {
     "name": "stdout",
     "output_type": "stream",
     "text": [
      "[1, 2, 3, 4, 5, 6, 7]\n"
     ]
    }
   ],
   "source": [
    "l1=[1,7,2,6,4,5,3]\n",
    "l1.sort()\n",
    "print(l1)"
   ]
  },
  {
   "cell_type": "code",
   "execution_count": 13,
   "metadata": {},
   "outputs": [
    {
     "name": "stdout",
     "output_type": "stream",
     "text": [
      "[1, 1, 4, 2, 6, 6, 3, 5, 7]\n"
     ]
    }
   ],
   "source": [
    "l1=[1,1,7,2,6,4,6,5,3]\n",
    "for i in range(len(l1)):\n",
    "    for j in range(len(l1)-i-1):\n",
    "        if l1[j]>l1[j-1]:\n",
    "            l1[j],l1[j+1]=l1[j+1],l1[j]\n",
    "print(l1)"
   ]
  },
  {
   "cell_type": "markdown",
   "metadata": {},
   "source": [
    "# 5. Merge sorted list"
   ]
  },
  {
   "cell_type": "code",
   "execution_count": 14,
   "metadata": {},
   "outputs": [
    {
     "name": "stdout",
     "output_type": "stream",
     "text": [
      "[1, 7, 2, 6, 4, 5, 3, 2]\n",
      "[1, 2, 2, 3, 4, 5, 6, 7]\n"
     ]
    }
   ],
   "source": [
    "l1=[1,7,2,6]\n",
    "l2=[4,5,3,2]\n",
    "l1.extend(l2)\n",
    "print(l1)\n",
    "l1.sort()\n",
    "print(l1)"
   ]
  },
  {
   "cell_type": "code",
   "execution_count": 15,
   "metadata": {},
   "outputs": [
    {
     "name": "stdout",
     "output_type": "stream",
     "text": [
      "[1, 2, 2, 3, 4, 5, 6, 7]\n"
     ]
    }
   ],
   "source": [
    "l1=[1,7,2,6]\n",
    "l2=[4,5,3,2]\n",
    "l1.extend(l2)\n",
    "for i in range(len(l1)):\n",
    "    for j in range(len(l1)-i-1):\n",
    "        if l1[j]>l1[j+1]:\n",
    "            l1[j],l1[j+1]=l1[j+1],l1[j]\n",
    "print(l1)"
   ]
  },
  {
   "cell_type": "code",
   "execution_count": 16,
   "metadata": {},
   "outputs": [
    {
     "name": "stdout",
     "output_type": "stream",
     "text": [
      "[1 2 2 3 4 5 6 7]\n"
     ]
    }
   ],
   "source": [
    "import numpy as np\n",
    "l1=[1,7,2,6]\n",
    "l2=[4,5,3,2]\n",
    "l1=np.concatenate((l1,l2))\n",
    "l1.sort()\n",
    "print(l1)"
   ]
  },
  {
   "cell_type": "code",
   "execution_count": 17,
   "metadata": {},
   "outputs": [
    {
     "name": "stdout",
     "output_type": "stream",
     "text": [
      "[1 2 2 3 4 5 6 7]\n"
     ]
    }
   ],
   "source": [
    "import numpy as np\n",
    "l1=[1,7,2,6]\n",
    "l2=[4,5,3,2]\n",
    "l1=np.concatenate((l1,l2))\n",
    "for i in range(len(l1)):\n",
    "    for j in range(len(l1)-i-1):\n",
    "        if l1[j]>l1[j+1]:\n",
    "            l1[j],l1[j+1]=l1[j+1],l1[j]\n",
    "print(l1)"
   ]
  },
  {
   "cell_type": "markdown",
   "metadata": {},
   "source": [
    "# 6. Find and add Missing number in an array"
   ]
  },
  {
   "cell_type": "code",
   "execution_count": 18,
   "metadata": {},
   "outputs": [
    {
     "name": "stdout",
     "output_type": "stream",
     "text": [
      "3 4 5 \n",
      "[1, 7, 2, 6, 3, 4, 5]\n"
     ]
    }
   ],
   "source": [
    "l1=[1,7,2,6]\n",
    "l2=list()\n",
    "for i in range(min(l1),max(l1)):\n",
    "    if i not in l1:\n",
    "        print(i,end=' ')\n",
    "        l2.append(i)\n",
    "print()\n",
    "l1.extend(l2)\n",
    "print(l1)"
   ]
  },
  {
   "cell_type": "markdown",
   "metadata": {},
   "source": [
    "# 7. Rotate a matrix in an Array, 90 degree"
   ]
  },
  {
   "cell_type": "code",
   "execution_count": 19,
   "metadata": {},
   "outputs": [
    {
     "data": {
      "text/plain": [
       "array([[1, 2],\n",
       "       [3, 4]])"
      ]
     },
     "execution_count": 19,
     "metadata": {},
     "output_type": "execute_result"
    }
   ],
   "source": [
    "import numpy as np\n",
    "arr2d_1=[[1,2],[3,4]]\n",
    "arr2d_2=[[3,1],[4,2]]\n",
    "np.array(arr2d_1)"
   ]
  },
  {
   "cell_type": "code",
   "execution_count": 20,
   "metadata": {},
   "outputs": [
    {
     "name": "stdout",
     "output_type": "stream",
     "text": [
      "[[3 1]\n",
      " [4 2]]\n"
     ]
    }
   ],
   "source": [
    "import numpy as np\n",
    "arr2d_1 = [[1, 2], [3, 4]]\n",
    "arr2d_1 = np.array(arr2d_1)\n",
    "transposed = arr2d_1[::-1]\n",
    "rotated = transposed.T\n",
    "print(rotated)"
   ]
  },
  {
   "cell_type": "code",
   "execution_count": 21,
   "metadata": {},
   "outputs": [
    {
     "name": "stdout",
     "output_type": "stream",
     "text": [
      "[[2 4]\n",
      " [1 3]]\n"
     ]
    }
   ],
   "source": [
    "import numpy as np\n",
    "arr2d_1 = [[1, 2], [3, 4]]\n",
    "arr2d_1 = np.array(arr2d_1)\n",
    "transposed = arr2d_1.T\n",
    "rotated = transposed[::-1]\n",
    "print(rotated)\n"
   ]
  },
  {
   "cell_type": "code",
   "execution_count": 22,
   "metadata": {},
   "outputs": [
    {
     "name": "stdout",
     "output_type": "stream",
     "text": [
      "[[1 2]\n",
      " [3 4]] \n",
      "\n",
      "[[2 4]\n",
      " [1 3]]\n"
     ]
    }
   ],
   "source": [
    "import numpy as np\n",
    "arr=[[1,2],[3,4]]\n",
    "arr=np.array(arr)\n",
    "print(arr,'\\n')\n",
    "arr=arr.T\n",
    "arr=arr[::-1]\n",
    "print(arr)"
   ]
  },
  {
   "cell_type": "code",
   "execution_count": 23,
   "metadata": {},
   "outputs": [
    {
     "name": "stdout",
     "output_type": "stream",
     "text": [
      "[[1 2]\n",
      " [3 4]] \n",
      "\n",
      "[[3 1]\n",
      " [4 2]]\n"
     ]
    }
   ],
   "source": [
    "import numpy as np\n",
    "arr=[[1,2],[3,4]]\n",
    "arr=np.array(arr)\n",
    "print(arr,'\\n')\n",
    "arr=arr[::-1]\n",
    "arr=arr.T\n",
    "print(arr)"
   ]
  },
  {
   "cell_type": "markdown",
   "metadata": {},
   "source": [
    "# 8. String palindrome"
   ]
  },
  {
   "cell_type": "code",
   "execution_count": 24,
   "metadata": {},
   "outputs": [
    {
     "name": "stdout",
     "output_type": "stream",
     "text": [
      "True\n"
     ]
    }
   ],
   "source": [
    "s1=\"madam\"\n",
    "s2=s1[::-1]\n",
    "p= s1==s2\n",
    "print(p)"
   ]
  },
  {
   "cell_type": "markdown",
   "metadata": {},
   "source": [
    "# 9. n-th largest element"
   ]
  },
  {
   "cell_type": "code",
   "execution_count": 25,
   "metadata": {},
   "outputs": [
    {
     "name": "stdout",
     "output_type": "stream",
     "text": [
      "[1, 2, 3, 4, 5, 6, 7]\n",
      "At index: 2 , Element: 3\n"
     ]
    }
   ],
   "source": [
    "l1=[1, 7, 2, 6, 3, 4, 5]\n",
    "l1.sort()\n",
    "n=2#int(input())\n",
    "print(l1)\n",
    "ele=l1[n]\n",
    "print(f'At index: {n} , Element: {ele}')"
   ]
  },
  {
   "cell_type": "markdown",
   "metadata": {},
   "source": [
    "# 10. Binary search"
   ]
  },
  {
   "cell_type": "code",
   "execution_count": 26,
   "metadata": {},
   "outputs": [
    {
     "name": "stdout",
     "output_type": "stream",
     "text": [
      "Target 7 found at index: 3\n"
     ]
    }
   ],
   "source": [
    "def binary_search(arr, target):\n",
    "    low, high = 0, len(arr) - 1\n",
    "    while low <= high:\n",
    "        mid = low + (high - low) // 2\n",
    "        if arr[mid] == target:\n",
    "            return mid\n",
    "        elif arr[mid] > target:\n",
    "            high = mid - 1\n",
    "        else:\n",
    "            low = mid + 1\n",
    "    return -1\n",
    "\n",
    "# Example usage\n",
    "arr = [1, 3, 5, 7, 9, 11, 13, 15]\n",
    "target = 7\n",
    "result = binary_search(arr, target)\n",
    "print(f\"Target {target} found at index: {result}\")\n"
   ]
  },
  {
   "cell_type": "code",
   "execution_count": 27,
   "metadata": {},
   "outputs": [
    {
     "name": "stdout",
     "output_type": "stream",
     "text": [
      "7 at position 3\n"
     ]
    }
   ],
   "source": [
    "arr = [1, 3, 5, 7, 9, 11, 13, 15]\n",
    "target = 7\n",
    "indexpos=-1\n",
    "low=0\n",
    "high=len(arr)-1\n",
    "\n",
    "while(low<=high):\n",
    "    mid=low+(high-low)//2\n",
    "    if(target==arr[mid]):\n",
    "        indexpos=mid\n",
    "        break\n",
    "    elif(target<arr[mid]):\n",
    "        high=mid-1\n",
    "    else:\n",
    "        low=mid+1\n",
    "        \n",
    "if(indexpos!=-1):\n",
    "    print(f\"{target} at position {indexpos}\")\n",
    "else:\n",
    "    print(\"element not found\")"
   ]
  },
  {
   "cell_type": "code",
   "execution_count": 28,
   "metadata": {},
   "outputs": [
    {
     "name": "stdout",
     "output_type": "stream",
     "text": [
      "7 is at position 3\n"
     ]
    }
   ],
   "source": [
    "arr = [1, 3, 5, 7, 9, 11, 13, 15]\n",
    "target = 7\n",
    "indexpos=-1\n",
    "low=0\n",
    "high=len(arr)-1\n",
    "\n",
    "while(low<=high):\n",
    "    mid=low+(high-low)//2\n",
    "    if(target==arr[mid]):\n",
    "        indexpos=mid\n",
    "        break\n",
    "    elif(target<arr[mid]):\n",
    "        high=mid-1\n",
    "    else:\n",
    "        low=low+1\n",
    "if(indexpos!=-1):\n",
    "    print(f\"{target} is at position {indexpos}\")\n",
    "else:\n",
    "    print(\"element not found\")"
   ]
  },
  {
   "cell_type": "markdown",
   "metadata": {},
   "source": [
    "# 11. Fibonacci Series"
   ]
  },
  {
   "cell_type": "code",
   "execution_count": 29,
   "metadata": {},
   "outputs": [
    {
     "name": "stdout",
     "output_type": "stream",
     "text": [
      "[0, 1, 1, 2, 3, 5, 8, 13, 21, 34]\n"
     ]
    }
   ],
   "source": [
    "a=0\n",
    "b=1\n",
    "l1=list()\n",
    "l1.extend([a,b])\n",
    "for i in range(2,10):\n",
    "    l1.append(a+b)\n",
    "    a,b=b,a+b\n",
    "print(l1)"
   ]
  },
  {
   "cell_type": "code",
   "execution_count": 30,
   "metadata": {},
   "outputs": [
    {
     "name": "stdout",
     "output_type": "stream",
     "text": [
      "0 1 1 2 3 5 8 13 21 34 "
     ]
    }
   ],
   "source": [
    "def f1(n):\n",
    "    if n==0:\n",
    "        return 0\n",
    "    elif n==1:\n",
    "        return 1\n",
    "    else:\n",
    "        return f1(n-1)+f1(n-2)\n",
    "    \n",
    "def f2():\n",
    "    for i in range(10):\n",
    "        res=f1(i)\n",
    "        print(res,end=' ')\n",
    "\n",
    "f=f2()\n",
    "f"
   ]
  },
  {
   "cell_type": "markdown",
   "metadata": {},
   "source": [
    "# 12. Anagrams in a Striing"
   ]
  },
  {
   "cell_type": "markdown",
   "metadata": {},
   "source": [
    "# 13. Count Inversions i<j and a[i]>a[j]"
   ]
  },
  {
   "cell_type": "markdown",
   "metadata": {
    "vscode": {
     "languageId": "plaintext"
    }
   },
   "source": [
    "# 14. Longest Substring without repeating chracters"
   ]
  },
  {
   "cell_type": "markdown",
   "metadata": {
    "vscode": {
     "languageId": "plaintext"
    }
   },
   "source": [
    "# 15. Find the First Non-Repeating Character"
   ]
  },
  {
   "cell_type": "code",
   "execution_count": 31,
   "metadata": {},
   "outputs": [
    {
     "name": "stdout",
     "output_type": "stream",
     "text": [
      "a\n",
      "j\n",
      " \n"
     ]
    }
   ],
   "source": [
    "s=\"Dheeraj Dreh\"\n",
    "for i in s:\n",
    "    if s.count(i)==1:\n",
    "        print(i)"
   ]
  },
  {
   "cell_type": "markdown",
   "metadata": {},
   "source": [
    "# 16. Find Duplicate in an String"
   ]
  },
  {
   "cell_type": "code",
   "execution_count": 32,
   "metadata": {},
   "outputs": [
    {
     "name": "stdout",
     "output_type": "stream",
     "text": [
      "('h', 2) ('e', 2) ('a', 3) ('n', 2) "
     ]
    }
   ],
   "source": [
    "s1=\"Dheeraj Chandan\"\n",
    "s2=\"\"\n",
    "for i in s1:\n",
    "    if s1.count(i)>1 and i not in s2:\n",
    "        s2=s2+i\n",
    "        print((i,s1.count(i)),end=' ')"
   ]
  },
  {
   "cell_type": "markdown",
   "metadata": {},
   "source": [
    "# 17. Decorator"
   ]
  },
  {
   "cell_type": "code",
   "execution_count": 33,
   "metadata": {},
   "outputs": [
    {
     "name": "stdout",
     "output_type": "stream",
     "text": [
      "Dheeraj\n"
     ]
    }
   ],
   "source": [
    "def func1(f1):\n",
    "    def wrapper():\n",
    "        print(f1())\n",
    "    return wrapper\n",
    "\n",
    "@func1\n",
    "def func2():\n",
    "    return \"Dheeraj\"\n",
    "\n",
    "res=func2()\n",
    "res\n"
   ]
  },
  {
   "cell_type": "markdown",
   "metadata": {},
   "source": [
    "# 18. Generator  and Yield"
   ]
  },
  {
   "cell_type": "code",
   "execution_count": 34,
   "metadata": {},
   "outputs": [
    {
     "name": "stdout",
     "output_type": "stream",
     "text": [
      "Hi\n",
      "My name is\n",
      "Dheeraj\n"
     ]
    },
    {
     "data": {
      "text/plain": [
       "['Hi', 'My name is', 'Dheeraj']"
      ]
     },
     "execution_count": 34,
     "metadata": {},
     "output_type": "execute_result"
    }
   ],
   "source": [
    "def f():\n",
    "    yield \"Hi\"\n",
    "    yield \"My name is\"\n",
    "    yield \"Dheeraj\"\n",
    "\n",
    "res1=f()\n",
    "for i in res1:\n",
    "    print(i)\n",
    "\n",
    "res2=f()\n",
    "res2=[i for i in res2]\n",
    "res2\n"
   ]
  },
  {
   "cell_type": "code",
   "execution_count": 35,
   "metadata": {},
   "outputs": [
    {
     "name": "stdout",
     "output_type": "stream",
     "text": [
      "1 1 2 3 5 8 "
     ]
    }
   ],
   "source": [
    "def fib(limit):\n",
    "    a, b = 0, 1\n",
    "    while b < limit:\n",
    "        yield b\n",
    "        a, b = b, a + b\n",
    "\n",
    "x = fib(10)\n",
    "\n",
    "for i in x:\n",
    "    print(i,end=' ')"
   ]
  },
  {
   "cell_type": "markdown",
   "metadata": {},
   "source": [
    "# 19. Lambda"
   ]
  },
  {
   "cell_type": "code",
   "execution_count": 36,
   "metadata": {},
   "outputs": [
    {
     "name": "stdout",
     "output_type": "stream",
     "text": [
      "8\n"
     ]
    }
   ],
   "source": [
    "def func(a,b):\n",
    "    return a*b\n",
    "res=func(2,4)\n",
    "print(res)\n"
   ]
  },
  {
   "cell_type": "code",
   "execution_count": 37,
   "metadata": {},
   "outputs": [
    {
     "data": {
      "text/plain": [
       "8"
      ]
     },
     "execution_count": 37,
     "metadata": {},
     "output_type": "execute_result"
    }
   ],
   "source": [
    "res= lambda a,b : a*b\n",
    "res(2,4)"
   ]
  },
  {
   "cell_type": "code",
   "execution_count": 38,
   "metadata": {},
   "outputs": [
    {
     "name": "stdout",
     "output_type": "stream",
     "text": [
      "120\n"
     ]
    }
   ],
   "source": [
    "def f(n):\n",
    "    f=1\n",
    "    for i in range(n):\n",
    "       f=f*(i+1) \n",
    "    return f\n",
    "res=f(5)\n",
    "print(res)"
   ]
  },
  {
   "cell_type": "code",
   "execution_count": 39,
   "metadata": {},
   "outputs": [
    {
     "data": {
      "text/plain": [
       "[0, 1, 2, 3, 4]"
      ]
     },
     "execution_count": 39,
     "metadata": {},
     "output_type": "execute_result"
    }
   ],
   "source": [
    "res=lambda n: [i for i in range(n)]\n",
    "res(5)"
   ]
  },
  {
   "cell_type": "markdown",
   "metadata": {},
   "source": [
    "# 20. Yield"
   ]
  },
  {
   "cell_type": "code",
   "execution_count": 40,
   "metadata": {},
   "outputs": [
    {
     "name": "stdout",
     "output_type": "stream",
     "text": [
      "0 1 2 3 4 "
     ]
    }
   ],
   "source": [
    "def func(n):\n",
    "    for i in range(n):\n",
    "        print(i,end=' ')\n",
    "res=func(5)\n",
    "res"
   ]
  },
  {
   "cell_type": "code",
   "execution_count": 41,
   "metadata": {},
   "outputs": [
    {
     "name": "stdout",
     "output_type": "stream",
     "text": [
      "0 1 2 3 4 "
     ]
    }
   ],
   "source": [
    "def func(n):\n",
    "    for i in range(n):\n",
    "        yield i\n",
    "res=func(5)\n",
    "for i in res:\n",
    "    print(i,end=' ')"
   ]
  },
  {
   "cell_type": "code",
   "execution_count": 42,
   "metadata": {},
   "outputs": [
    {
     "name": "stdout",
     "output_type": "stream",
     "text": [
      "Hello\n",
      "51\n",
      "Good Bye\n"
     ]
    }
   ],
   "source": [
    "def myFunc():\n",
    "  yield \"Hello\"\n",
    "  yield 51\n",
    "  yield \"Good Bye\"\n",
    "\n",
    "x = myFunc()\n",
    "\n",
    "for z in x:\n",
    "  print(z)"
   ]
  },
  {
   "cell_type": "markdown",
   "metadata": {},
   "source": [
    "# 21. OOPs"
   ]
  },
  {
   "cell_type": "code",
   "execution_count": 43,
   "metadata": {},
   "outputs": [
    {
     "name": "stdout",
     "output_type": "stream",
     "text": [
      "Bhoww\n",
      "Mewoo\n"
     ]
    }
   ],
   "source": [
    "# Overriding\n",
    "class Animal():\n",
    "    def sound(self):\n",
    "        print(\"Make Sound\")\n",
    "\n",
    "class Dog(Animal):\n",
    "    def sound(self):\n",
    "        print(\"Bhoww\")\n",
    "class Cat(Animal):\n",
    "    def sound(self):\n",
    "        print(\"Mewoo\")\n",
    "\n",
    "d=Dog()\n",
    "c=Cat()\n",
    "d.sound()\n",
    "c.sound()"
   ]
  },
  {
   "cell_type": "code",
   "execution_count": 44,
   "metadata": {},
   "outputs": [
    {
     "name": "stdout",
     "output_type": "stream",
     "text": [
      "6\n",
      "15\n"
     ]
    }
   ],
   "source": [
    "# Overloading\n",
    "class Add():\n",
    "    def calc(self,*args):\n",
    "        print(sum(args))\n",
    "\n",
    "c=Add()\n",
    "c.calc(1,2,3)\n",
    "c.calc(4,5,6)"
   ]
  },
  {
   "cell_type": "code",
   "execution_count": 45,
   "metadata": {},
   "outputs": [
    {
     "name": "stdout",
     "output_type": "stream",
     "text": [
      "Bhoww\n",
      "Meww\n"
     ]
    }
   ],
   "source": [
    "# Inheritance\n",
    "class Animal():\n",
    "    def __init__(self,s):\n",
    "        self.s=s\n",
    "    def sound(self):\n",
    "        print(self.s)\n",
    "\n",
    "class Dog(Animal):\n",
    "    def __init__(self,s):\n",
    "        super().__init__(self)\n",
    "        self.s=s\n",
    "    def sound(self):\n",
    "        print(self.s)\n",
    "class Cat(Animal):\n",
    "    def __init__(self,s):\n",
    "        super().__init__(self)\n",
    "        self.s=s\n",
    "    def sound(self):\n",
    "        print(self.s)    \n",
    "\n",
    "d=Dog(\"Bhoww\")\n",
    "c=Cat(\"Meww\")\n",
    "d.sound()\n",
    "c.sound()"
   ]
  },
  {
   "cell_type": "code",
   "execution_count": 46,
   "metadata": {},
   "outputs": [
    {
     "data": {
      "text/plain": [
       "'\\nCode in file 1,\\ndef a():\\n    print(\"Hi\")\\n\\ncode in file 2,\\nimport file1\\ndef b():\\n    file1.a()\\nb()\\n'"
      ]
     },
     "execution_count": 46,
     "metadata": {},
     "output_type": "execute_result"
    }
   ],
   "source": [
    "# abstraction\n",
    "\"\"\"\n",
    "Code in file 1,\n",
    "def a():\n",
    "    print(\"Hi\")\n",
    "\n",
    "code in file 2,\n",
    "import file1\n",
    "def b():\n",
    "    file1.a()\n",
    "b()\n",
    "\"\"\""
   ]
  },
  {
   "cell_type": "markdown",
   "metadata": {},
   "source": [
    "# 22. MySQL connector"
   ]
  },
  {
   "cell_type": "code",
   "execution_count": 47,
   "metadata": {},
   "outputs": [
    {
     "name": "stdout",
     "output_type": "stream",
     "text": [
      "(5, 'Priya Sharma', 'Female', 45000.0, 'IT', 6)\n",
      "(6, 'Rahul Patel', 'Male', 65000.0, 'Sales', 5)\n",
      "(7, 'Nisha Gupta', 'Female', 55000.0, 'Marketing', 4)\n",
      "(8, 'Vikram Singh', 'Male', 75000.0, 'Finance', 7)\n",
      "(9, 'Aarti Desai', 'Female', 50000.0, 'IT', 4)\n"
     ]
    }
   ],
   "source": [
    "# Normal statement\n",
    "import mysql.connector\n",
    "con=mysql.connector.connect(host=\"localhost\",user=\"root\",password=\"kiit\",database=\"cdac\")\n",
    "cur=con.cursor()\n",
    "\n",
    "q1=\"select * from employee_1\"\n",
    "cur.execute(q1)\n",
    "res=cur.fetchall()\n",
    "for i in res:\n",
    "    print(i)"
   ]
  },
  {
   "cell_type": "code",
   "execution_count": 48,
   "metadata": {},
   "outputs": [
    {
     "name": "stdout",
     "output_type": "stream",
     "text": [
      "(9, 'Aarti Desai', 'Female', 50000.0, 'IT', 4)\n"
     ]
    }
   ],
   "source": [
    "# Prepared statement\n",
    "import mysql.connector \n",
    "con=mysql.connector.connect(host=\"localhost\",user=\"root\",password=\"kiit\",database=\"cdac\")\n",
    "cur=con.cursor()\n",
    "\n",
    "ch=\"A\"#input()\n",
    "q1=\"select * from employee_1 where Name like %s\"\n",
    "cur.execute(q1,(ch+\"%\",))\n",
    "res=cur.fetchall()\n",
    "for i in res:\n",
    "    print(i)"
   ]
  },
  {
   "cell_type": "code",
   "execution_count": 49,
   "metadata": {},
   "outputs": [
    {
     "name": "stdout",
     "output_type": "stream",
     "text": [
      "0\n",
      "(5, 'Priya Sharma', 'Female', 45000.0, 'IT', 6)\n",
      "(6, 'Rahul Patel', 'Male', 65000.0, 'Sales', 5)\n",
      "(7, 'Nisha Gupta', 'Female', 55000.0, 'Marketing', 4)\n",
      "(8, 'Vikram Singh', 'Male', 75000.0, 'Finance', 7)\n",
      "(9, 'Aarti Desai', 'Female', 50000.0, 'IT', 4)\n"
     ]
    }
   ],
   "source": [
    "# Prepared statement\n",
    "import mysql.connector\n",
    "con=mysql.connector.connect(host=\"localhost\",user=\"root\",password=\"kiit\",database=\"cdac\")\n",
    "cur=con.cursor()\n",
    "\n",
    "ch=\"A\"#input()\n",
    "st=\"Aarti Desai\"#input()\n",
    "q1=\"update employee_1 set Name=%s where Name like %s\"\n",
    "q2=\"select * from employee_1\"\n",
    "cur.execute(q1,(st,ch+\"%\"))\n",
    "changecnt=cur.rowcount\n",
    "print(changecnt)\n",
    "con.commit()\n",
    "\n",
    "cur.execute(q2)\n",
    "res=cur.fetchall()\n",
    "for i in res:\n",
    "    print(i)"
   ]
  },
  {
   "cell_type": "markdown",
   "metadata": {},
   "source": [
    "# 23. Intersection of two lists"
   ]
  },
  {
   "cell_type": "code",
   "execution_count": 50,
   "metadata": {},
   "outputs": [
    {
     "name": "stdout",
     "output_type": "stream",
     "text": [
      "[6, 4, 7, 3]\n"
     ]
    }
   ],
   "source": [
    "l1=[1,2,6,4,7,3]\n",
    "l2=[3,4,5,6,7,8]\n",
    "l3=list()\n",
    "for i in l1:\n",
    "    if i in l2:\n",
    "        l3.append(i)\n",
    "print(l3)"
   ]
  },
  {
   "cell_type": "code",
   "execution_count": 51,
   "metadata": {},
   "outputs": [
    {
     "name": "stdout",
     "output_type": "stream",
     "text": [
      "[3 4 6 7]\n"
     ]
    }
   ],
   "source": [
    "import numpy as np\n",
    "l3=np.intersect1d(l1,l2)\n",
    "print(l3)"
   ]
  },
  {
   "cell_type": "markdown",
   "metadata": {},
   "source": [
    "# 24. Remove duplicate elements from a list"
   ]
  },
  {
   "cell_type": "code",
   "execution_count": 52,
   "metadata": {},
   "outputs": [
    {
     "name": "stdout",
     "output_type": "stream",
     "text": [
      "[1, 4, 6, 2, 5]\n"
     ]
    }
   ],
   "source": [
    "l1=[1,4,2,6,7,2,4,5]\n",
    "for i in l1:\n",
    "    if l1.count(i)>1:\n",
    "        l1.pop(i)\n",
    "print(l1)"
   ]
  },
  {
   "cell_type": "markdown",
   "metadata": {},
   "source": [
    "# 25. Largest number without using function"
   ]
  },
  {
   "cell_type": "code",
   "execution_count": 53,
   "metadata": {},
   "outputs": [
    {
     "name": "stdout",
     "output_type": "stream",
     "text": [
      "7\n"
     ]
    }
   ],
   "source": [
    "l1=[1,4,2,6,7,2,4,5]\n",
    "maxnum=l1[0]\n",
    "for i in l1:\n",
    "    if i>maxnum:\n",
    "        maxnum=i\n",
    "print(maxnum)"
   ]
  },
  {
   "cell_type": "markdown",
   "metadata": {},
   "source": [
    "# 26. ip - aBcdE , op - AbCDe"
   ]
  },
  {
   "cell_type": "code",
   "execution_count": 54,
   "metadata": {},
   "outputs": [
    {
     "name": "stdout",
     "output_type": "stream",
     "text": [
      "aBcdE  :  AbCDe\n"
     ]
    }
   ],
   "source": [
    "s1=\"aBcdE\"\n",
    "s2=\"\"\n",
    "for i in s1:\n",
    "    if 'a'<=i<='z':\n",
    "        s2=s2+i.upper()\n",
    "    elif 'A'<=i<='Z':\n",
    "        s2=s2+i.lower()\n",
    "    else:\n",
    "        pass\n",
    "print(s1,\" : \",s2)"
   ]
  },
  {
   "cell_type": "markdown",
   "metadata": {},
   "source": [
    "# 27. Find Duplicate in an Array"
   ]
  },
  {
   "cell_type": "code",
   "execution_count": 55,
   "metadata": {},
   "outputs": [
    {
     "name": "stdout",
     "output_type": "stream",
     "text": [
      "h\n",
      "e\n",
      "a\n",
      "n\n"
     ]
    }
   ],
   "source": [
    "s1=\"Dheeraj Chandan\"\n",
    "s2=\"\"\n",
    "for i in s1:\n",
    "    if s1.count(i)>1 and i not in s2:\n",
    "        s2=s2+i\n",
    "        print(i)"
   ]
  },
  {
   "cell_type": "markdown",
   "metadata": {},
   "source": [
    "# 28. Intersection of 2 Lists"
   ]
  },
  {
   "cell_type": "markdown",
   "metadata": {},
   "source": [
    "# 29. ip - aBcdE , op - AbCDe"
   ]
  },
  {
   "cell_type": "code",
   "execution_count": 4,
   "metadata": {},
   "outputs": [
    {
     "data": {
      "text/plain": [
       "' 30. Reverse an array**.\\n    31. Find the missing number** in an array of size n with values from 1 to n+1.\\n    32. Find the \"K-th\" largest element** in an unsorted array.\\n    33. Find the longest subarray with a given sum**.\\n    34. Find all pairs in an array that sum up to a specific value**.\\n    35. Find the longest substring without repeating characters**.\\n    36. Rotate an array** by a given number of steps'"
      ]
     },
     "execution_count": 4,
     "metadata": {},
     "output_type": "execute_result"
    }
   ],
   "source": [
    "\"\"\" 30. Reverse an array**.\n",
    "    31. Find the missing number** in an array of size n with values from 1 to n+1.\n",
    "    32. Find the \"K-th\" largest element** in an unsorted array.\n",
    "    33. Find the longest subarray with a given sum**.\n",
    "    34. Find all pairs in an array that sum up to a specific value**.\n",
    "    35. Find the longest substring without repeating characters**.\n",
    "    36. Rotate an array** by a given number of steps\"\"\""
   ]
  },
  {
   "cell_type": "code",
   "execution_count": null,
   "metadata": {},
   "outputs": [],
   "source": []
  },
  {
   "cell_type": "code",
   "execution_count": 1,
   "metadata": {},
   "outputs": [
    {
     "name": "stdout",
     "output_type": "stream",
     "text": [
      "layers :  ['Lionel Messi', 'Roger Federer', 'Michael Jordan', 'Usain Bolt', 'Sachin Tendulkar', 'Serena Williams', 'Cristiano Ronaldo', 'Tiger Woods', 'Lewis Hamilton', 'Kobe Bryant']\n",
      "Sports :  ['Football', 'Tennis', 'Basketball', 'Athletics', 'Cricket', 'Tennis', 'Football', 'Golf', 'Formula 1', 'Basketball']\n",
      "Country :  ['Argentina', 'Switzerland', 'USA', 'Jamaica', 'India', 'USA', 'Portugal', 'USA', 'UK', 'USA']\n"
     ]
    }
   ],
   "source": [
    "# Player,Country,sports in a different list\n",
    "\n",
    "sports_stars_details = {\n",
    "    \"Lionel Messi\": \t{\"Sport\": \"Football\", \"Country\": \"Argentina\"},\n",
    "    \"Roger Federer\": \t{\"Sport\": \"Tennis\", \"Country\": \"Switzerland\"},\n",
    "    \"Michael Jordan\": \t{\"Sport\": \"Basketball\", \"Country\": \"USA\"},\n",
    "    \"Usain Bolt\": \t{\"Sport\": \"Athletics\", \"Country\": \"Jamaica\"},\n",
    "    \"Sachin Tendulkar\": {\"Sport\": \"Cricket\", \"Country\": \"India\"},\n",
    "    \"Serena Williams\": \t{\"Sport\": \"Tennis\", \"Country\": \"USA\"},\n",
    "    \"Cristiano Ronaldo\": {\"Sport\": \"Football\", \"Country\": \"Portugal\"},\n",
    "    \"Tiger Woods\": \t{\"Sport\": \"Golf\", \"Country\": \"USA\"},\n",
    "    \"Lewis Hamilton\": \t{\"Sport\": \"Formula 1\", \"Country\": \"UK\"},\n",
    "    \"Kobe Bryant\": \t{\"Sport\": \"Basketball\", \"Country\": \"USA\"}\n",
    "}\n",
    "\n",
    "c=0\n",
    "l1=list()\n",
    "l2=list()\n",
    "l3=list()\n",
    "for i,j in sports_stars_details.items():\n",
    "\tl1.append(i)\t\t\t        # Player\n",
    "\tl2.append(j[\"Sport\"])\t\t# Sport\t\t\t\n",
    "\tl3.append(j[\"Country\"])\t\t# Country\n",
    "\tc=c+1\n",
    "print(\"layers : \",l1)\n",
    "print(\"Sports : \",l2)\n",
    "print(\"Country : \",l3)"
   ]
  },
  {
   "cell_type": "code",
   "execution_count": 2,
   "metadata": {},
   "outputs": [
    {
     "name": "stdout",
     "output_type": "stream",
     "text": [
      "['Alice']\n",
      "[85, 92, 88]\n",
      "['Bob']\n",
      "[78, 85, 82]\n",
      "['Charlie']\n",
      "[90, 87, 91]\n",
      "{'Alice': 88.33333333333333, 'Bob': 81.66666666666667, 'Charlie': 89.33333333333333}\n"
     ]
    }
   ],
   "source": [
    "import pandas as pd\n",
    "students = [\n",
    "    {\"name\": \"Alice\", \"math\": 85, \"science\": 92, \"english\": 88},\n",
    "    {\"name\": \"Bob\", \"math\": 78, \"science\": 85, \"english\": 82},\n",
    "    {\"name\": \"Charlie\", \"math\": 90, \"science\": 87, \"english\": 91},\n",
    "]\n",
    "std_avg=dict()\n",
    "\n",
    "\n",
    "def f(data):\n",
    "    for i in data:                                                  # Get each student data\n",
    "        stud_name=list()\n",
    "        marks=list()\n",
    "        stud_name.append(i[\"name\"])                                 # Get each student name\n",
    "        marks.extend([i[\"math\"],i[\"science\"],i[\"english\"]])         # Get all \n",
    "        print(stud_name)\n",
    "        print(marks)\n",
    "        std_avg.update({stud_name[0]:sum(marks)/3})\n",
    "    print(std_avg)\n",
    "f(students)                                                         # Passing a Student data\n"
   ]
  },
  {
   "cell_type": "code",
   "execution_count": 4,
   "metadata": {},
   "outputs": [
    {
     "name": "stdout",
     "output_type": "stream",
     "text": [
      "{'Alice': 88.33333333333333, 'Bob': 81.66666666666667, 'Charlie': 89.33333333333333}\n"
     ]
    }
   ],
   "source": [
    "import pandas as pd\n",
    "students = [\n",
    "    {\"name\": \"Alice\", \"math\": 85, \"science\": 92, \"english\": 88},\n",
    "    {\"name\": \"Bob\", \"math\": 78, \"science\": 85, \"english\": 82},\n",
    "    {\"name\": \"Charlie\", \"math\": 90, \"science\": 87, \"english\": 91},\n",
    "]\n",
    "std_avg=dict()\n",
    "def f(data):\n",
    "    for i in data: \n",
    "        std_avg.update({i[\"name\"]:sum([i[\"math\"],i[\"science\"],i[\"english\"]])/3})\n",
    "    print(std_avg)\n",
    "f(students)                                                         # Passing a Student data\n"
   ]
  }
 ],
 "metadata": {
  "kernelspec": {
   "display_name": "base",
   "language": "python",
   "name": "python3"
  },
  "language_info": {
   "codemirror_mode": {
    "name": "ipython",
    "version": 3
   },
   "file_extension": ".py",
   "mimetype": "text/x-python",
   "name": "python",
   "nbconvert_exporter": "python",
   "pygments_lexer": "ipython3",
   "version": "3.11.4"
  }
 },
 "nbformat": 4,
 "nbformat_minor": 2
}
