{
 "cells": [
  {
   "cell_type": "markdown",
   "metadata": {},
   "source": [
    "# Interview Quetion 2"
   ]
  },
  {
   "cell_type": "code",
   "execution_count": null,
   "metadata": {},
   "outputs": [],
   "source": [
    "\"\"\"\n",
    "2. Find Frequency of chracters in a string , \n",
    "    2.1 String with a one word\n",
    "    i/p : Dheeraj\n",
    "    o/p :   D:1, \n",
    "            h:1 ,\n",
    "            e:2, \n",
    "            r:1, \n",
    "            a:1, \n",
    "            j:1\n",
    "\n",
    "    2.2 String with a more than one word and dont consider space\n",
    "    i/p: Ashwini Patil\n",
    "    o/p :   A:1,\n",
    "            s:1,\n",
    "            h:1, \n",
    "            w:1, \n",
    "            i:3, \n",
    "            n:1, \n",
    "            P:1, \n",
    "            a:1, \n",
    "            t:1 \n",
    "            l:1\n",
    "\"\"\""
   ]
  },
  {
   "cell_type": "code",
   "execution_count": null,
   "metadata": {},
   "outputs": [],
   "source": []
  }
 ],
 "metadata": {
  "kernelspec": {
   "display_name": "base",
   "language": "python",
   "name": "python3"
  },
  "language_info": {
   "codemirror_mode": {
    "name": "ipython",
    "version": 3
   },
   "file_extension": ".py",
   "mimetype": "text/x-python",
   "name": "python",
   "nbconvert_exporter": "python",
   "pygments_lexer": "ipython3",
   "version": "3.11.4"
  }
 },
 "nbformat": 4,
 "nbformat_minor": 2
}
