{
 "cells": [
  {
   "cell_type": "markdown",
   "metadata": {},
   "source": [
    "# Interview Quetion 1 "
   ]
  },
  {
   "cell_type": "code",
   "execution_count": null,
   "metadata": {},
   "outputs": [],
   "source": [
    "\"\"\"1.1 Reverse a String , i/p : Dheeraj \n",
    "                          o/p : jareehd\n",
    "\"\"\""
   ]
  },
  {
   "cell_type": "code",
   "execution_count": null,
   "metadata": {},
   "outputs": [],
   "source": [
    "# Way 1 : Slicing\n",
    "# Way 1 : for loop\n",
    "# Way 1 : reveresed method"
   ]
  },
  {
   "cell_type": "code",
   "execution_count": null,
   "metadata": {},
   "outputs": [
    {
     "name": "stdout",
     "output_type": "stream",
     "text": [
      "Dheeraj\n",
      "jareehD\n"
     ]
    }
   ],
   "source": [
    "# Slicing \n",
    "s= \"Dheeraj\"\n",
    "print(s)\n",
    "revs=s[::-1]  # String object[start: stop : step] -1\n",
    "print(revs)"
   ]
  },
  {
   "cell_type": "code",
   "execution_count": 28,
   "metadata": {},
   "outputs": [
    {
     "name": "stdout",
     "output_type": "stream",
     "text": [
      "Dheeraj\n",
      "jareehD\n"
     ]
    }
   ],
   "source": [
    "# for loop\n",
    "s=\"Dheeraj\"\n",
    "revs=\"\"\n",
    "print(s)\n",
    "for i in s:\n",
    "    revs=i+revs\n",
    "print(revs)"
   ]
  },
  {
   "cell_type": "code",
   "execution_count": 29,
   "metadata": {},
   "outputs": [
    {
     "name": "stdout",
     "output_type": "stream",
     "text": [
      "Dheeraj\n",
      "jareehD\n"
     ]
    }
   ],
   "source": [
    "# Reversed \n",
    "s=\"Dheeraj\"\n",
    "print(s)\n",
    "revs=\"\".join(reversed(s))\n",
    "print(revs)"
   ]
  },
  {
   "cell_type": "code",
   "execution_count": null,
   "metadata": {},
   "outputs": [],
   "source": [
    "\"\"\"1.2 Reverse a String , i/p : Dhe eraj \n",
    "                          o/p : ehD jare\n",
    "\"\"\""
   ]
  },
  {
   "cell_type": "code",
   "execution_count": null,
   "metadata": {},
   "outputs": [],
   "source": [
    "# Way 1:  for loop with join\n",
    "# Way 2 : for loop with reversed"
   ]
  },
  {
   "cell_type": "code",
   "execution_count": 32,
   "metadata": {},
   "outputs": [
    {
     "name": "stdout",
     "output_type": "stream",
     "text": [
      "Dhe eraj\n",
      "ehD jare\n"
     ]
    }
   ],
   "source": [
    "# for loop with join\n",
    "s=\"Dhe eraj\"\n",
    "print(s)\n",
    "s=s.split(\" \")\n",
    "revs=\"\"\n",
    "for i in s:\n",
    "    revs=revs+\" \"+\"\".join(i[::-1])\n",
    "print(revs.strip())"
   ]
  },
  {
   "cell_type": "code",
   "execution_count": 46,
   "metadata": {},
   "outputs": [
    {
     "name": "stdout",
     "output_type": "stream",
     "text": [
      "Dhe eraj\n",
      "ehD jare\n"
     ]
    }
   ],
   "source": [
    "# for loop with reversed\n",
    "s=\"Dhe eraj\"\n",
    "print(s)\n",
    "s=s.split(\" \")# [\"..\",\"..\"]\n",
    "revs=\"\"\n",
    "for i in s:\n",
    "    revs=revs+\" \"+\"\".join(reversed(i))\n",
    "print(revs.strip())"
   ]
  },
  {
   "cell_type": "code",
   "execution_count": null,
   "metadata": {},
   "outputs": [],
   "source": []
  }
 ],
 "metadata": {
  "kernelspec": {
   "display_name": "base",
   "language": "python",
   "name": "python3"
  },
  "language_info": {
   "codemirror_mode": {
    "name": "ipython",
    "version": 3
   },
   "file_extension": ".py",
   "mimetype": "text/x-python",
   "name": "python",
   "nbconvert_exporter": "python",
   "pygments_lexer": "ipython3",
   "version": "3.11.4"
  }
 },
 "nbformat": 4,
 "nbformat_minor": 2
}
