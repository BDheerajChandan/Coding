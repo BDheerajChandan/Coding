{
 "cells": [
  {
   "cell_type": "markdown",
   "id": "b2266e89-9f18-42c4-bb84-5ad50bd3ffe5",
   "metadata": {},
   "source": [
    "# Assignment (Day1, Day2, Day3)"
   ]
  },
  {
   "cell_type": "markdown",
   "id": "f7c630c1-3bde-4448-8533-da2c92336772",
   "metadata": {},
   "source": [
    "### 1. Using for loop, write and run a Python program for this algorithm.\n",
    "Here is an algorithm to print out n! (n factorial) from 0! to 10! :\n",
    "1. Set f = 1 \n",
    "2. Set n = 0\n",
    "3. Repeat the following 10 times: \n",
    "a. Output n, \"! = \", f\n",
    "b. Add 1 to n \n",
    "c. Multiply f by n"
   ]
  },
  {
   "cell_type": "code",
   "execution_count": 1,
   "id": "11a9c93d",
   "metadata": {},
   "outputs": [
    {
     "name": "stdout",
     "output_type": "stream",
     "text": [
      "1! = 1\n",
      "2! = 2\n",
      "3! = 6\n",
      "4! = 24\n",
      "5! = 120\n",
      "6! = 720\n",
      "7! = 5040\n",
      "8! = 40320\n",
      "9! = 362880\n",
      "10! = 3628800\n"
     ]
    }
   ],
   "source": [
    "n=10\n",
    "for i in range(1,n+1):\n",
    "    f=1\n",
    "    for j in range(1,i+1):\n",
    "        f=f*j\n",
    "    print(\"{}! = {}\".format(j,f))"
   ]
  },
  {
   "cell_type": "markdown",
   "id": "2da83aac-0e23-4233-b896-814068667d24",
   "metadata": {},
   "source": [
    "### 2. Write a program to display 3 line message"
   ]
  },
  {
   "cell_type": "code",
   "execution_count": 3,
   "id": "7fe4e17e-6733-4de3-8fc1-f073a325956a",
   "metadata": {},
   "outputs": [
    {
     "name": "stdout",
     "output_type": "stream",
     "text": [
      "\"\n",
      "Hi I am Dheeraj\n",
      "From Andhra\n",
      "Studying PG Diploma\n",
      "\n",
      "\"\n",
      "Hi I am Dheeraj\n",
      "From Andhra\n",
      "Studying PG Diploma\n",
      "\n"
     ]
    }
   ],
   "source": [
    "s=\"\"\"\"\n",
    "Hi I am Dheeraj\n",
    "From Andhra\n",
    "Studying PG Diploma\n",
    "\"\"\"\n",
    "print(s)\n",
    "for i in s.split('\\n'):\n",
    "    print(i)"
   ]
  },
  {
   "cell_type": "markdown",
   "id": "bb168a4a-b56d-4037-a8fa-ba1dfec6664f",
   "metadata": {},
   "source": [
    "### 3. Write a program that take Student_Number, Name, \n",
    "Branch and University from user. Print the read details."
   ]
  },
  {
   "cell_type": "code",
   "execution_count": 4,
   "id": "be835d07-e890-4ca5-913e-a52a6311ad5e",
   "metadata": {},
   "outputs": [
    {
     "name": "stdout",
     "output_type": "stream",
     "text": [
      "Entered Details :\n",
      "\n",
      "\tStudent number :  17\n",
      "\tStudent Name :  Dheeraj\n",
      "\tStudent Branch :  DBDA\n",
      "\tStudent University :  CDAC\n"
     ]
    }
   ],
   "source": [
    "# 3. Write a program that take Student_Number, Name, Branch and University from user. Print the read details.\n",
    "Student_Number=int(input(\"Please enter Student number : \"))  # 17\n",
    "Name=input(\"Please enter the Name : \")          # Dheeraj\n",
    "Branch=input(\"Please enter the Branch : \")      # DBDA\n",
    "University=input(\"Please enter the University : \") # CDAC\n",
    "print(\"Entered Details :\\n\")\n",
    "print(\"\\tStudent number : \",Student_Number)\n",
    "print(\"\\tStudent Name : \",Name)\n",
    "print(\"\\tStudent Branch : \",Branch)\n",
    "print(\"\\tStudent University : \",University)"
   ]
  },
  {
   "cell_type": "markdown",
   "id": "f91d3050-e196-42a9-bee8-d3724aa89a66",
   "metadata": {},
   "source": [
    "### 4. Create a module consisting of 2 functions \n",
    "\"area_Rectangle\", \"area_Square\". Import the module and \n",
    "perform the following operations:\n",
    "1. Calculate the area of Square only by importing only one method.\n",
    "2. Calculate the area of Rectangle only by importing only one method.\n",
    "3. Calculate the area of Square and Rectangle by importing complete module.\n"
   ]
  },
  {
   "cell_type": "code",
   "execution_count": 5,
   "id": "fd5fc3f3-fcb2-4c1e-bd54-07528d8e8564",
   "metadata": {},
   "outputs": [
    {
     "name": "stdout",
     "output_type": "stream",
     "text": [
      "Area of rectriangle :  2.0\n",
      "Area of Square :  16.0\n"
     ]
    }
   ],
   "source": [
    "# In AreaSqRect.py\n",
    "def area_Rectangle():\n",
    "    l=float(input(\"Please enter the length : \"))\n",
    "    b=float(input(\"Please enter the bredth : \"))\n",
    "    area=l*b\n",
    "    return area\n",
    "def area_Square():\n",
    "    s=float(input(\"Please enter the length of square side : \"))\n",
    "    area=s*s\n",
    "    return area\n",
    "\n",
    "\n",
    "# In AreaSqRectMain.py\n",
    "\"\"\"\n",
    "import AreaSqRect\n",
    "ch=int(input(\"Enter choice : \"))\n",
    "if(ch==1): \n",
    "    a1=AreaSqRect.area_Rectangle()\n",
    "    print(\"Area of rectriangle : \",a1)\n",
    "elif(ch==2):\n",
    "    a2=AreaSqRect.area_Square()\n",
    "    print(\"Area of Square : \",a2)\n",
    "elif(ch==3):\n",
    "    a1=AreaSqRect.area_Rectangle()\n",
    "    a2=AreaSqRect.area_Square()\n",
    "    print(\"Area of rectriangle : \",a1)\n",
    "    print(\"Area of Square : \",a2)\n",
    "\"\"\"\n",
    "def SqRectArea():\n",
    "    a1=area_Rectangle()\n",
    "    print(\"Area of rectriangle : \",a1)\n",
    "    a2=area_Square()\n",
    "    print(\"Area of Square : \",a2)\n",
    "SqRectArea()"
   ]
  },
  {
   "cell_type": "markdown",
   "id": "82f86f97-a6a0-4ab1-8d9f-948324ba58ce",
   "metadata": {},
   "source": [
    "### 5. Python program to demonstrate if, elif and else by \n",
    "checking larges of three numbers"
   ]
  },
  {
   "cell_type": "code",
   "execution_count": 6,
   "id": "e11d4e65-2388-491a-9979-09097b7e9f00",
   "metadata": {},
   "outputs": [
    {
     "name": "stdout",
     "output_type": "stream",
     "text": [
      "Finding largest of 3 number :3, 5, 7\n",
      "Using if and elif -\t\n",
      "7  : is Greater\n"
     ]
    }
   ],
   "source": [
    "### 5. Python program to demonstrate if, elif and else by checking larges of three numbers\n",
    "a=int(input(\"Please enter the 1st number : \"))\n",
    "b=int(input(\"Please enter the 1st number : \"))\n",
    "c=int(input(\"Please enter the 1st number : \"))\n",
    "print(\"Finding largest of 3 number :{0}, {1}, {2}\".format(a,b,c))\n",
    "print(\"Using if and elif -\\t\")\n",
    "if(a>=b and a>=c):\n",
    "    print(a,\" : is Greater\")\n",
    "elif(b>=c and  b>=c):\n",
    "    print(b,\" : is Greater\")\n",
    "else:\n",
    "    print(c,\" : is Greater\")"
   ]
  },
  {
   "cell_type": "markdown",
   "id": "b0337669-4dc4-4b3b-8156-bb4ca2ae02e8",
   "metadata": {},
   "source": [
    "### 6. Program to check whether a number is perfect or not"
   ]
  },
  {
   "cell_type": "code",
   "execution_count": 7,
   "id": "e8555a14-8b08-48e8-a7ef-4a8461848948",
   "metadata": {},
   "outputs": [
    {
     "name": "stdout",
     "output_type": "stream",
     "text": [
      "6  : is a perfect number\n"
     ]
    }
   ],
   "source": [
    "# 6. Program to check whether a number is perfect or not\n",
    "n=int(input(\"Please enter the number : \"))\n",
    "s=0\n",
    "for i in range(1,n+1):\n",
    "    if(n%i==0):\n",
    "        s=s+i\n",
    "if(s==(n*2)):\n",
    "    print(n,\" : is a perfect number\")\n",
    "else:\n",
    "    print(n,\" : is not a perfect number\")"
   ]
  },
  {
   "cell_type": "markdown",
   "id": "59de0583-fb25-4540-91fa-30733df3f713",
   "metadata": {},
   "source": [
    "### 7. Read a multiword string and print them in alphabetical order"
   ]
  },
  {
   "cell_type": "code",
   "execution_count": 8,
   "id": "81dc120d-d429-4aa3-bdc4-e6a92d63b765",
   "metadata": {},
   "outputs": [
    {
     "name": "stdout",
     "output_type": "stream",
     "text": [
      "Before sorting :  dheeraj chandan\n",
      "After sorting :   aaacddeehhjnnr\n"
     ]
    }
   ],
   "source": [
    "# 7. Read a multiword string and print them in alphabetical order\n",
    "s1=\"Dheeraj Chandan\"\n",
    "print(\"Before sorting : \",s1.lower())\n",
    "s2=[i for i in s1.lower()]\n",
    "s2.sort()\n",
    "s1=[i for i in s2]\n",
    "s=\"\"\n",
    "for i in s1:\n",
    "    s=s+i\n",
    "print(\"After sorting : \",s)"
   ]
  },
  {
   "cell_type": "markdown",
   "id": "a48de59e-944e-419f-9423-4fa9d55bf3d2",
   "metadata": {},
   "source": [
    "### 8. Consider the following dictionary:\n",
    "{ \"i10\":\"Blue\", \"Kushaq\": \"Red\", \"i20\": White\"}\n",
    "1. How many cars are there in the dictionary\n",
    "2. Remove the car i10 from the dictionary\n",
    "3. Change the value of Kushaq to Black"
   ]
  },
  {
   "cell_type": "code",
   "execution_count": 9,
   "id": "c345ae10-e56d-4d1e-b08e-9217d864c5bd",
   "metadata": {},
   "outputs": [
    {
     "name": "stdout",
     "output_type": "stream",
     "text": [
      "Dictionary items :  {'i10': 'Blue', 'Kushaq': 'Red', 'i20': 'White'}\n",
      "Length of dictinary items :  3\n",
      "After removing \"i10\" car :  {'Kushaq': 'Red', 'i20': 'White'}\n",
      "After updating color of \"Kushaq\" :  {'Kushaq': 'Black', 'i20': 'White'}\n"
     ]
    }
   ],
   "source": [
    "car={\"i10\":\"Blue\", \"Kushaq\": \"Red\", \"i20\": \"White\"}\n",
    "print(\"Dictionary items : \",car)\n",
    "print(\"Length of dictinary items : \",len(car))\n",
    "car.pop(\"i10\")\n",
    "print(\"After removing \\\"i10\\\" car : \",car)\n",
    "car[\"Kushaq\"]=\"Black\"\n",
    "print(\"After updating color of \\\"Kushaq\\\" : \",car)"
   ]
  },
  {
   "cell_type": "markdown",
   "id": "05a6be94-d495-4945-91f8-e0cd112ac739",
   "metadata": {},
   "source": [
    "### 9. Write a program to sort elements of a tuple"
   ]
  },
  {
   "cell_type": "code",
   "execution_count": 10,
   "id": "e22f5bc8-8ff1-4956-ab0c-1ded288e3b8d",
   "metadata": {},
   "outputs": [
    {
     "name": "stdout",
     "output_type": "stream",
     "text": [
      "(7, 6, 2, 5, 4, 1, 3)\n",
      "('Dheeraj', 'Ramesh', 'Chandan')\n",
      "(1, 2, 3, 4, 5, 6, 7)\n",
      "('Chandan', 'Dheeraj', 'Ramesh')\n"
     ]
    }
   ],
   "source": [
    "t1=(7,6,2,5,4,1,3)\n",
    "t2=(\"Dheeraj\",\"Ramesh\",\"Chandan\")\n",
    "print(t1)\n",
    "print(t2)\n",
    "l1=list(t1)\n",
    "l2=list(t2)\n",
    "l1.sort()\n",
    "l2.sort()\n",
    "t1=tuple(l1)\n",
    "t2=tuple(l2)\n",
    "print(t1)\n",
    "print(t2)"
   ]
  },
  {
   "cell_type": "markdown",
   "id": "daebaf5c-43db-4119-b45d-6dc2ff6b2bf1",
   "metadata": {},
   "source": [
    "### 10. Implement contact book using dictionaries name, address, \n",
    "number, locality and city by taking input from user"
   ]
  },
  {
   "cell_type": "code",
   "execution_count": 11,
   "id": "0d1e9cc6-74cb-411a-bd99-d2f0f9b02da7",
   "metadata": {},
   "outputs": [
    {
     "data": {
      "text/plain": [
       "{'name': 'Dheeraj',\n",
       " 'address': 'Ecity',\n",
       " 'number': '12345',\n",
       " 'locality': 'Blr',\n",
       " 'city': 'KABlrEc'}"
      ]
     },
     "execution_count": 11,
     "metadata": {},
     "output_type": "execute_result"
    }
   ],
   "source": [
    "# 10. Implement contact book using dictionaries name, address, number, locality and city by taking input from user\n",
    "book=dict({})\n",
    "book.update({\"name\":input(\"Please enter the name : \")})\n",
    "book.update({\"address\":input(\"Please enter the address : \")})\n",
    "book.update({\"number\":input(\"Please enter the number : \")})\n",
    "book.update({\"locality\":input(\"Please enter the locality : \")})\n",
    "book.update({\"city\":input(\"Please enter the city : \")})\n",
    "book"
   ]
  },
  {
   "cell_type": "markdown",
   "id": "2a13c73c-325f-46e2-a28f-2b7675877f27",
   "metadata": {},
   "source": [
    "###  11. Write a python program to create dictionary, list, tuple with the \n",
    "following details: [id, name, job role, joining date]\n",
    "Perform the following opeartions:\n",
    "1. Add 5 employee to each\n",
    "2. Check senior most employee\n",
    "3. Add new employee to the record\n",
    "4. Sort the employee by name\n",
    "5. Remove an employee from the record\n",
    "6. Use function that takes 3 parameter and display prefix, fname and lname of the employee\n",
    "7. Print the employee with salary above 80,000"
   ]
  },
  {
   "cell_type": "code",
   "execution_count": 4,
   "id": "187860d1-4051-4ffe-bdeb-e120d57e8a5a",
   "metadata": {},
   "outputs": [
    {
     "name": "stdout",
     "output_type": "stream",
     "text": [
      "Emp Employee 1: 1, Role 1, 2024-05-02\n",
      "Emp Employee 1: 1, Role 1, 2024-05-02\n",
      "[{'id': 1, 'name': 'Employee 1', 'job_role': 'Role 1', 'joining_date': '2024-05-02'}, {'id': 2, 'name': 'Employee 2', 'job_role': 'Role 2', 'joining_date': '2024-05-02'}, {'id': 4, 'name': 'Employee 4', 'job_role': 'Role 4', 'joining_date': '2024-05-02'}, {'id': 5, 'name': 'Employee 5', 'job_role': 'Role 5', 'joining_date': '2024-05-02'}, {'id': 6, 'name': 'New Employee', 'job_role': 'New Role', 'joining_date': '2024-05-02'}]\n"
     ]
    }
   ],
   "source": [
    "# Name : B.Dheeraj Chandan ; PRN - 17\n",
    "\n",
    "# Define a function to create an employee record\n",
    "def create_employee_record(id, name, job_role, joining_date):\n",
    "    return {'id': id, 'name': name, 'job_role': job_role, 'joining_date': joining_date}\n",
    "\n",
    "# Initialize empty dictionary, list, and tuple\n",
    "emp_dict = {}\n",
    "emp_list = []\n",
    "emp_tuple = ()\n",
    "\n",
    "# Function to add employee to dictionary, list, and tuple\n",
    "def add_employee(id, name, job_role, joining_date):\n",
    "    emp = create_employee_record(id, name, job_role, joining_date)\n",
    "    emp_dict[id] = emp\n",
    "    emp_list.append(emp)\n",
    "    global emp_tuple\n",
    "    emp_tuple += (emp,)\n",
    "\n",
    "# Add 5 employees to each\n",
    "for i in range(1, 6):\n",
    "    add_employee(i, f\"Employee {i}\", f\"Role {i}\", f\"2024-05-02\")\n",
    "\n",
    "# Function to get senior most employee\n",
    "def senior_employee():\n",
    "    return max(emp_list, key=lambda emp: emp['joining_date'])\n",
    "\n",
    "# Add new employee\n",
    "add_employee(6, \"New Employee\", \"New Role\", \"2024-05-02\")\n",
    "\n",
    "# Sort employees by name\n",
    "emp_list.sort(key=lambda emp: emp['name'])\n",
    "\n",
    "# Remove an employee\n",
    "del emp_dict[3]\n",
    "emp_list = [emp for emp in emp_list if emp['id'] != 3]\n",
    "emp_tuple = tuple(emp for emp in emp_tuple if emp['id'] != 3)\n",
    "\n",
    "# Function to display employee details\n",
    "def display_employee_details(prefix, fname, lname):\n",
    "    for emp in emp_list:\n",
    "        if emp['name'].startswith(prefix) and emp['name'].split()[0] == fname and emp['name'].split()[-1] == lname:\n",
    "            print(f\"{prefix} {fname} {lname}: {emp['id']}, {emp['job_role']}, {emp['joining_date']}\")\n",
    "            \n",
    "# Sample usage of display_employee_details function\n",
    "display_employee_details(\"Emp\", \"Employee\", \"1\")\n",
    "\n",
    "# Print the employee with salary above 80,000 (not provided, assuming salary attribute)\n",
    "\"\"\"\"for emp in emp_list:\n",
    "     if emp['salary'] > 80000:\n",
    "         print(emp['name'])\"\"\"\n",
    "\n",
    "# Sample usage of display_employee_details function\n",
    "display_employee_details(\"Emp\", \"Employee\", \"1\")\n",
    "print(emp_list)"
   ]
  },
  {
   "cell_type": "markdown",
   "id": "ce535706-cf63-473a-9bc2-43caa58f1c35",
   "metadata": {},
   "source": [
    "### 12. Program to demonstrate fibonacci series using recursion"
   ]
  },
  {
   "cell_type": "code",
   "execution_count": 12,
   "id": "5f7b19e9",
   "metadata": {},
   "outputs": [
    {
     "name": "stdout",
     "output_type": "stream",
     "text": [
      "0\n",
      "1\n",
      "1\n",
      "2\n",
      "3\n",
      "5\n",
      "8\n",
      "13\n",
      "21\n",
      "34\n"
     ]
    }
   ],
   "source": [
    "# Name : B.Dheeraj Chandan ; PRN - 17\n",
    "# 12. Program to demonstrate fibonacci series using recursion\n",
    "def f1(n2):\n",
    "    if n2<=1:\n",
    "        return n2\n",
    "    else:\n",
    "        return f1(n2-1)+f1(n2-2)\n",
    "def f2(n1):\n",
    "    for i in range(n1):\n",
    "        print(f1(i))\n",
    "\n",
    "r=10\n",
    "f2(r)\n"
   ]
  }
 ],
 "metadata": {
  "kernelspec": {
   "display_name": "Python 3 (ipykernel)",
   "language": "python",
   "name": "python3"
  },
  "language_info": {
   "codemirror_mode": {
    "name": "ipython",
    "version": 3
   },
   "file_extension": ".py",
   "mimetype": "text/x-python",
   "name": "python",
   "nbconvert_exporter": "python",
   "pygments_lexer": "ipython3",
   "version": "3.11.4"
  }
 },
 "nbformat": 4,
 "nbformat_minor": 5
}
