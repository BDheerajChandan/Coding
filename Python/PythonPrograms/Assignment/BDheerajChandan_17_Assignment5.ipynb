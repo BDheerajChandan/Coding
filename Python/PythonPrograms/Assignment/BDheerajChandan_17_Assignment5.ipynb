{
 "cells": [
  {
   "cell_type": "markdown",
   "id": "ba930378-002e-4928-b5bc-cb346baacf2c",
   "metadata": {},
   "source": [
    "# Assignment -5 "
   ]
  },
  {
   "cell_type": "markdown",
   "id": "bc5610cb-8847-48bf-a857-f3196f7700b4",
   "metadata": {},
   "source": [
    "## Create a dataset in csv format consisting of the following\n",
    "data(product_id, product_name, category, price, qty)\n",
    "Perform the following operation on data:\n",
    "1. Load csv file into pandas\n",
    "2. Check for and handle any missing values or inconsistency in datasets(data cleaning)\n",
    "3. Calculate sum of qty, average of price, total sales and top selling products [Sum & mean]"
   ]
  },
  {
   "cell_type": "code",
   "execution_count": 1,
   "id": "0bbbafae-dba4-416d-be1d-ae45118493e6",
   "metadata": {},
   "outputs": [
    {
     "name": "stdout",
     "output_type": "stream",
     "text": [
      "   product_id product_name     category   price  qty\n",
      "0           1          Fan  Electronics  2000.0  0.0\n",
      "1           2        Table   Stationary  2400.0  3.0\n",
      "2           3        Chair            0  1000.0  6.0\n",
      "3           4        Bench   Stationary     0.0  0.0\n",
      "4           5          Bed   Stationary  5000.0  4.0\n",
      "Total Quantity :  13.0\n",
      "Average price :  2080.0\n",
      "Total Price :  33200.0\n",
      "Total mean price :  6640.0\n",
      "Top selling product price :  20000.0\n",
      "Top selling product information : \n",
      "    Unnamed: 0  product_id product_name    category   price  qty\n",
      "4         4.0         5.0          Bed  Stationary  5000.0  4.0\n"
     ]
    }
   ],
   "source": [
    "'''## \n",
    "1. Create a dataset in csv format consisting of the following\n",
    "    data(product_id, product_name, category, price, qty)\n",
    "    Perform the following operation on data:\n",
    "        i. Load csv file into pandas\n",
    "        ii. Check for and handle any missing values or inconsistency in datasets(data cleaning)\n",
    "        iii. Calculate sum of qty, average of price, total sales and top selling products [Sum & mean]'''\n",
    "# Name: B.Dheeraj Chandan ; PRN: 17\n",
    "import pandas as pd\n",
    "import numpy as np\n",
    "data1={\n",
    "    'product_id':[1,2,3,4,5],\n",
    "    'product_name':[\"Fan\",\"Table\",\"Chair\",\"Bench\",\"Bed\"],\n",
    "    'category':[\"Electronics\",\"Stationary\",None,\"Stationary\",\"Stationary\"],\n",
    "    'price':[2000,2400,1000,None,5000],\n",
    "    'qty':[None,3,6,None,4]\n",
    "}\n",
    "df=pd.DataFrame(data1)\n",
    "df.fillna(0,inplace=True)\n",
    "print(df)\n",
    "df.to_csv('Dheeraj_Assignmet.csv')\n",
    "data2=pd.read_csv('Dheeraj_Assignmet.csv') # Create file in .csv \n",
    "data2.fillna(0,inplace=True)\n",
    "print(\"Total Quantity : \",np.sum(data2[\"qty\"]))\n",
    "print(\"Average price : \",np.sum(data2[\"price\"])//data2.shape[0])\n",
    "print(\"Total Price : \",np.sum(data2[\"price\"]*data2[\"qty\"]))\n",
    "print(\"Total mean price : \",np.mean(data2[\"price\"]*data2[\"qty\"]))\n",
    "print(\"Top selling product price : \",np.max(data2[\"price\"]*data2[\"qty\"]))\n",
    "print(\"Top selling product information : \\n\",data2.where(data2[\"price\"]*data2[\"qty\"]==np.max(data2[\"price\"]*data2[\"qty\"])).dropna())"
   ]
  }
 ],
 "metadata": {
  "kernelspec": {
   "display_name": "Python 3 (ipykernel)",
   "language": "python",
   "name": "python3"
  },
  "language_info": {
   "codemirror_mode": {
    "name": "ipython",
    "version": 3
   },
   "file_extension": ".py",
   "mimetype": "text/x-python",
   "name": "python",
   "nbconvert_exporter": "python",
   "pygments_lexer": "ipython3",
   "version": "3.11.4"
  }
 },
 "nbformat": 4,
 "nbformat_minor": 5
}
