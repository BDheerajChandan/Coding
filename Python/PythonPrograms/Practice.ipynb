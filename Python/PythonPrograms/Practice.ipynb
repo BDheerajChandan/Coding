{
 "cells": [
  {
   "cell_type": "markdown",
   "metadata": {},
   "source": [
    "# 1. Intersection of two lists"
   ]
  },
  {
   "cell_type": "code",
   "execution_count": 27,
   "metadata": {},
   "outputs": [
    {
     "name": "stdout",
     "output_type": "stream",
     "text": [
      "2\n",
      "4\n"
     ]
    }
   ],
   "source": [
    "l1=[1,2,3,4,5]\n",
    "l2=[6,2,4,7,8]\n",
    "for i in l1:\n",
    "    if i in l2:\n",
    "        print(i)"
   ]
  },
  {
   "cell_type": "code",
   "execution_count": 28,
   "metadata": {},
   "outputs": [
    {
     "data": {
      "text/plain": [
       "array([2, 4])"
      ]
     },
     "execution_count": 28,
     "metadata": {},
     "output_type": "execute_result"
    }
   ],
   "source": [
    "import numpy as np\n",
    "np.intersect1d(l1,l2)"
   ]
  },
  {
   "cell_type": "markdown",
   "metadata": {},
   "source": [
    "# 2. Remove duplicate elements from a list"
   ]
  },
  {
   "cell_type": "code",
   "execution_count": 29,
   "metadata": {},
   "outputs": [
    {
     "name": "stdout",
     "output_type": "stream",
     "text": [
      "[6, 2, 4, 7, 8, 1, 3, 5, 9, 0]\n"
     ]
    }
   ],
   "source": [
    "l1=[1,2,3,4,5,3,4,5,6,7,6,8,9,0]\n",
    "for i in l1:\n",
    "    if i not in l2:\n",
    "        l2.append(i)\n",
    "print(l2)"
   ]
  },
  {
   "cell_type": "markdown",
   "metadata": {},
   "source": [
    "# 3. Largest number without using function"
   ]
  },
  {
   "cell_type": "code",
   "execution_count": 33,
   "metadata": {},
   "outputs": [
    {
     "name": "stdout",
     "output_type": "stream",
     "text": [
      "253\n"
     ]
    }
   ],
   "source": [
    "l1=[12,4,3,253,55]\n",
    "num=l1[0]\n",
    "for i in l1:\n",
    "    if i>=num:\n",
    "        num=i\n",
    "print(num)"
   ]
  },
  {
   "cell_type": "markdown",
   "metadata": {},
   "source": [
    "\n",
    "# 4. Reversing a string without a function"
   ]
  },
  {
   "cell_type": "code",
   "execution_count": 34,
   "metadata": {},
   "outputs": [
    {
     "name": "stdout",
     "output_type": "stream",
     "text": [
      "jareehD\n"
     ]
    }
   ],
   "source": [
    "s1=\"Dheeraj\"\n",
    "s2=s1[::-1]\n",
    "print(s2)"
   ]
  },
  {
   "cell_type": "markdown",
   "metadata": {},
   "source": [
    "# 5. Sting Palindrome"
   ]
  },
  {
   "cell_type": "code",
   "execution_count": 36,
   "metadata": {},
   "outputs": [
    {
     "name": "stdout",
     "output_type": "stream",
     "text": [
      "False\n"
     ]
    }
   ],
   "source": [
    "s1=\"madm\"\n",
    "ps=(s1==s1[::-1])\n",
    "print(ps)"
   ]
  },
  {
   "cell_type": "markdown",
   "metadata": {},
   "source": [
    "# 6. ip - aBcdE , op - AbCDe"
   ]
  },
  {
   "cell_type": "code",
   "execution_count": 39,
   "metadata": {},
   "outputs": [
    {
     "name": "stdout",
     "output_type": "stream",
     "text": [
      "AbCDe\n"
     ]
    }
   ],
   "source": [
    "s1=\"aBcdE\"\n",
    "s2=\"\"\n",
    "for i in s1:\n",
    "    if 'a'<=i<='z':\n",
    "        s2=s2+i.upper()\n",
    "    elif 'A'<=i<='Z':\n",
    "        s2=s2+i.lower()\n",
    "    else:\n",
    "        pass\n",
    "print(s2)"
   ]
  },
  {
   "cell_type": "markdown",
   "metadata": {},
   "source": [
    "# 7. OOps"
   ]
  },
  {
   "cell_type": "code",
   "execution_count": 40,
   "metadata": {},
   "outputs": [
    {
     "name": "stdout",
     "output_type": "stream",
     "text": [
      "Bhoww\n",
      "Meww\n"
     ]
    }
   ],
   "source": [
    "# Method overriding\n",
    "class Animal():\n",
    "    def speak(self):\n",
    "        print(\"Animal Sound\")\n",
    "\n",
    "class Dog(Animal):\n",
    "    def speak(self):\n",
    "        print(\"Bhoww\")\n",
    "class Cat(Animal):\n",
    "    def speak(self):\n",
    "        print(\"Meww\")\n",
    "d=Dog()\n",
    "c=Cat()\n",
    "d.speak()\n",
    "c.speak()"
   ]
  },
  {
   "cell_type": "code",
   "execution_count": 52,
   "metadata": {},
   "outputs": [
    {
     "name": "stdout",
     "output_type": "stream",
     "text": [
      "6\n",
      "267\n"
     ]
    }
   ],
   "source": [
    "# Method Overloading\n",
    "class Calc():\n",
    "    def add(self,*args):\n",
    "        print(sum(args))\n",
    "\n",
    "c=Calc()\n",
    "c.add(1,2,3)\n",
    "c.add(12,34,56,77,88)\n"
   ]
  },
  {
   "cell_type": "markdown",
   "metadata": {},
   "source": [
    "# 8. Mysql operations"
   ]
  },
  {
   "cell_type": "code",
   "execution_count": 53,
   "metadata": {},
   "outputs": [
    {
     "name": "stdout",
     "output_type": "stream",
     "text": [
      "(5, 'Priya Sharma', 'Female', 45000.0, 'IT', 6)\n",
      "(6, 'Rahul Patel', 'Male', 65000.0, 'Sales', 5)\n",
      "(7, 'Nisha Gupta', 'Female', 55000.0, 'Marketing', 4)\n",
      "(8, 'Vikram Singh', 'Male', 75000.0, 'Finance', 7)\n",
      "(9, 'Aarti Desai', 'Female', 50000.0, 'IT', 4)\n"
     ]
    }
   ],
   "source": [
    "# Normal statement\n",
    "import mysql.connector\n",
    "con=mysql.connector.connect(host=\"localhost\",user=\"root\",password=\"kiit\",database=\"cdac\")\n",
    "cur=con.cursor()\n",
    "\n",
    "q1=\"select * from employee_1\"\n",
    "cur.execute(q1)\n",
    "res=cur.fetchall()\n",
    "for i in res:\n",
    "    print(i)"
   ]
  },
  {
   "cell_type": "code",
   "execution_count": 54,
   "metadata": {},
   "outputs": [
    {
     "name": "stdout",
     "output_type": "stream",
     "text": [
      "(9, 'Aarti Desai', 'Female', 50000.0, 'IT', 4)\n"
     ]
    }
   ],
   "source": [
    "# Prepared statement\n",
    "import mysql.connector\n",
    "con=mysql.connector.connect(host=\"localhost\",user=\"root\",password=\"kiit\",database=\"cdac\")\n",
    "cur=con.cursor()\n",
    "\n",
    "q1=\"select * from employee_1 where Name=%s and Name like %s\"\n",
    "cur.execute(q1,(\"Aarti Desai\",\"A%\"))\n",
    "res=cur.fetchall()\n",
    "for i in res:\n",
    "    print(i)"
   ]
  },
  {
   "cell_type": "code",
   "execution_count": 61,
   "metadata": {},
   "outputs": [
    {
     "name": "stdout",
     "output_type": "stream",
     "text": [
      "1\n",
      "(5, 'Priya Sharma', 'Female', 45000.0, 'IT', 6)\n",
      "(6, 'Rahul Patel', 'Male', 65000.0, 'Sales', 5)\n",
      "(7, 'Nisha Gupta', 'Female', 55000.0, 'Marketing', 4)\n",
      "(8, 'Vikram Singh', 'Male', 75000.0, 'Finance', 7)\n",
      "(9, 'Aarti Desai', 'Female', 50000.0, 'IT', 4)\n"
     ]
    }
   ],
   "source": [
    "# Update statement\n",
    "import mysql.connector\n",
    "con=mysql.connector.connect(host=\"localhost\",user=\"root\",password=\"kiit\",database=\"cdac\")\n",
    "cur=con.cursor()\n",
    "\n",
    "q1=\"update employee_1 set Name=%s where Name like %s\"\n",
    "cur.execute(q1,(\"Aarti Desai\",\"A%\"))\n",
    "print(cur.rowcount)\n",
    "con.commit()\n",
    "\n",
    "q2=\"select * from employee_1\"\n",
    "cur.execute(q2)\n",
    "res=cur.fetchall()\n",
    "for i in res:\n",
    "    print(i)"
   ]
  }
 ],
 "metadata": {
  "kernelspec": {
   "display_name": "base",
   "language": "python",
   "name": "python3"
  },
  "language_info": {
   "codemirror_mode": {
    "name": "ipython",
    "version": 3
   },
   "file_extension": ".py",
   "mimetype": "text/x-python",
   "name": "python",
   "nbconvert_exporter": "python",
   "pygments_lexer": "ipython3",
   "version": "3.11.4"
  }
 },
 "nbformat": 4,
 "nbformat_minor": 2
}
