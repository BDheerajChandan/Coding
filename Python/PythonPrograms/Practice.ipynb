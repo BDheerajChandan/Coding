{
 "cells": [
  {
   "cell_type": "code",
   "execution_count": 45,
   "metadata": {},
   "outputs": [
    {
     "name": "stdout",
     "output_type": "stream",
     "text": [
      "Original array :  [1 2 3 4 5]\n",
      "Reversed array :  [5 4 3 2 1]\n"
     ]
    }
   ],
   "source": [
    "# Reverse an array\n",
    "import numpy as np\n",
    "l1=[1,2,3,4,5]\n",
    "arr=np.array(l1)\n",
    "print(\"Original array : \",arr)\n",
    "arr=arr[::-1]\n",
    "print(\"Reversed array : \",arr)"
   ]
  },
  {
   "cell_type": "code",
   "execution_count": 46,
   "metadata": {},
   "outputs": [
    {
     "name": "stdout",
     "output_type": "stream",
     "text": [
      "Original array :  [1 2 3 4 5]\n",
      "Reversed array :  [5 4 3 2 1]\n"
     ]
    }
   ],
   "source": [
    "import numpy as np\n",
    "l1=[1,2,3,4,5]\n",
    "arr=np.array(l1)\n",
    "print(\"Original array : \",arr)\n",
    "l2=[i for i in range(len(arr))]\n",
    "c=0\n",
    "for i in arr:\n",
    "    l2[len(arr)-(c+1)]=i\n",
    "    c=c+1\n",
    "arr=np.array(l2)\n",
    "print(\"Reversed array : \",arr)"
   ]
  },
  {
   "cell_type": "code",
   "execution_count": 47,
   "metadata": {},
   "outputs": [
    {
     "name": "stdout",
     "output_type": "stream",
     "text": [
      "0\n",
      "3\n",
      "7\n",
      "10\n"
     ]
    }
   ],
   "source": [
    "#Find the missing number in an array of size n with values from 1 to n+1.\n",
    "import numpy as np\n",
    "n=10\n",
    "arr=np.array([1,2,4,5,6,8,9])                  #list()\n",
    "for i in range(n+1):\n",
    "    if i not in arr:\n",
    "        print(i)"
   ]
  },
  {
   "cell_type": "code",
   "execution_count": 48,
   "metadata": {},
   "outputs": [
    {
     "name": "stdout",
     "output_type": "stream",
     "text": [
      "2\n"
     ]
    }
   ],
   "source": [
    "#Find the \"K-th\" largest element** in an unsorted array.\n",
    "import numpy as np\n",
    "l1=[3,5,2,3,7,6]\n",
    "l1.sort()\n",
    "arr=np.array(l1)\n",
    "n=0\n",
    "num=arr[n]\n",
    "print(num)"
   ]
  },
  {
   "cell_type": "code",
   "execution_count": 49,
   "metadata": {},
   "outputs": [],
   "source": [
    "#Find the longest subarray with a given sum**.\n"
   ]
  },
  {
   "cell_type": "code",
   "execution_count": null,
   "metadata": {},
   "outputs": [
    {
     "data": {
      "text/plain": [
       "[]"
      ]
     },
     "execution_count": 50,
     "metadata": {},
     "output_type": "execute_result"
    }
   ],
   "source": [
    "#Find all pairs in an array that sum up to a specific value**.\n"
   ]
  },
  {
   "cell_type": "code",
   "execution_count": 51,
   "metadata": {},
   "outputs": [],
   "source": [
    "#Find the longest substring without repeating characters**.\n"
   ]
  },
  {
   "cell_type": "code",
   "execution_count": 52,
   "metadata": {},
   "outputs": [],
   "source": [
    "#Rotate an array** by a given number of steps"
   ]
  },
  {
   "cell_type": "code",
   "execution_count": 1,
   "metadata": {},
   "outputs": [
    {
     "data": {
      "text/plain": [
       "'\"\"When interviewing a Python developer, the questions should cover a range of topics to assess their technical skills, problem-solving ability, and understanding of best practices in Python development. Below are some interview questions categorized by topic:\\n\\n### **General Python Knowledge**\\n1. **What are the key differences between Python 2 and Python 3?**\\n2. **Explain the concept of mutable and immutable data types in Python. Can you give examples of each?**\\n3. **What are Python decorators, and how do they work?**\\n4. **What is the difference between `deepcopy` and `copy` in Python?**\\n5. **Explain how Python handles memory management.**\\n6. **What is the purpose of `self` in Python?**\\n7. **What are list comprehensions? Can you provide an example?**\\n8. **What are the advantages and disadvantages of using Python?**\\n\\n### **Data Structures & Algorithms**\\n1. **Explain the difference between lists, tuples, and sets in Python.**\\n2. **How does Python handle hash collisions in dictionaries?**\\n3. **What is a generator, and how does it differ from a regular function?**\\n4. **How would you implement a queue and stack in Python?**\\n5. **How do you reverse a string in Python without using the `reverse()` function?**\\n6. **What is the time complexity of searching for an element in a list and in a dictionary?**\\n7. **What are some ways to efficiently remove duplicates from a list?**\\n8. **Explain the difference between shallow copy and deep copy with respect to lists or dictionaries.**\\n\\n### **Object-Oriented Programming (OOP)**\\n1. **Explain the concept of inheritance in Python and provide an example.**\\n2. **What is polymorphism, and how is it used in Python?**\\n3. **What is the difference between class methods, instance methods, and static methods?**\\n4. **Can you explain what an abstract class is and how to define one in Python?**\\n5. **What is the purpose of the `__init__` method in Python?**\\n6. **What is the significance of the `__str__` and `__repr__` methods in Python classes?**\\n\\n### **Python Libraries & Frameworks**\\n1. **Have you worked with Python web frameworks like Flask or Django? What are their key differences?**\\n2. **What is Pandas, and how is it used for data manipulation?**\\n3. **Explain how you would use NumPy for array manipulations.**\\n4. **How do you manage Python dependencies in a project?**\\n5. **Can you explain the use of virtual environments in Python development?**\\n6. **How does Python\\'s `asyncio` module work?**\\n\\n### **Error Handling & Debugging**\\n1. **What is the difference between `try`, `except`, `else`, and `finally` in Python?**\\n2. **How do you raise custom exceptions in Python?**\\n3. **What is the use of logging in Python, and how do you implement it?**\\n4. **Explain what the `with` statement does, and provide an example where it’s useful.**\\n\\n### **Performance & Optimization**\\n1. **How would you optimize the performance of a Python program?**\\n2. **What is a Python profiler, and how do you use it?**\\n3. **What are some ways to improve memory usage in Python?**\\n4. **How does the Python Global Interpreter Lock (GIL) affect multi-threaded applications?**\\n\\n### **Testing & Best Practices**\\n1. **What is unit testing in Python, and which testing frameworks are you familiar with?**\\n2. **How do you write effective unit tests in Python?**\\n3. **Explain the concept of test-driven development (TDD) and how you’ve used it in Python.**\\n4. **What are some common Python coding style guides you follow (e.g., PEP 8)?**\\n\\n### **Advanced Concepts**\\n1. **What is metaprogramming in Python, and how can it be used?**\\n2. **How do you implement multi-threading and multi-processing in Python?**\\n3. **What is the difference between concurrency and parallelism?**\\n4. **How does Python\\'s Global Interpreter Lock (GIL) affect multi-threading?**\\n5. **Explain the concept of coroutines in Python.**\\n\\n### **Practical Coding Tasks**\\n1. **Write a Python function to check if a given string is a palindrome.**\\n2. **Given a list of numbers, write a Python function to find the second largest number.**\\n3. **Write a Python script that reads from a file and counts the frequency of each word.**\\n4. **Implement a Python function to merge two sorted lists into a single sorted list.**\\n\\n### **Soft Skills/Behavioral Questions**\\n1. **Describe a challenging Python project you\\'ve worked on and how you overcame difficulties.**\\n2. **How do you stay updated with new Python developments and libraries?**\\n3. **How do you handle tight deadlines and conflicting priorities in your development work?**\\n4. **Can you describe a time when you had to debug a complex issue in a Python application?**\\n\\nThese questions can help assess a candidate’s technical abilities and understanding of Python, as well as their problem-solving skills and experience. Would you like help crafting answers or diving deeper into any particular topic?'"
      ]
     },
     "execution_count": 1,
     "metadata": {},
     "output_type": "execute_result"
    }
   ],
   "source": [
    "\"\"\"\"\"When interviewing a Python developer, the questions should cover a range of topics to assess their technical skills, problem-solving ability, and understanding of best practices in Python development. Below are some interview questions categorized by topic:\n",
    "\n",
    "### **General Python Knowledge**\n",
    "1. **What are the key differences between Python 2 and Python 3?**\n",
    "2. **Explain the concept of mutable and immutable data types in Python. Can you give examples of each?**\n",
    "3. **What are Python decorators, and how do they work?**\n",
    "4. **What is the difference between `deepcopy` and `copy` in Python?**\n",
    "5. **Explain how Python handles memory management.**\n",
    "6. **What is the purpose of `self` in Python?**\n",
    "7. **What are list comprehensions? Can you provide an example?**\n",
    "8. **What are the advantages and disadvantages of using Python?**\n",
    "\n",
    "### **Data Structures & Algorithms**\n",
    "1. **Explain the difference between lists, tuples, and sets in Python.**\n",
    "2. **How does Python handle hash collisions in dictionaries?**\n",
    "3. **What is a generator, and how does it differ from a regular function?**\n",
    "4. **How would you implement a queue and stack in Python?**\n",
    "5. **How do you reverse a string in Python without using the `reverse()` function?**\n",
    "6. **What is the time complexity of searching for an element in a list and in a dictionary?**\n",
    "7. **What are some ways to efficiently remove duplicates from a list?**\n",
    "8. **Explain the difference between shallow copy and deep copy with respect to lists or dictionaries.**\n",
    "\n",
    "### **Object-Oriented Programming (OOP)**\n",
    "1. **Explain the concept of inheritance in Python and provide an example.**\n",
    "2. **What is polymorphism, and how is it used in Python?**\n",
    "3. **What is the difference between class methods, instance methods, and static methods?**\n",
    "4. **Can you explain what an abstract class is and how to define one in Python?**\n",
    "5. **What is the purpose of the `__init__` method in Python?**\n",
    "6. **What is the significance of the `__str__` and `__repr__` methods in Python classes?**\n",
    "\n",
    "### **Python Libraries & Frameworks**\n",
    "1. **Have you worked with Python web frameworks like Flask or Django? What are their key differences?**\n",
    "2. **What is Pandas, and how is it used for data manipulation?**\n",
    "3. **Explain how you would use NumPy for array manipulations.**\n",
    "4. **How do you manage Python dependencies in a project?**\n",
    "5. **Can you explain the use of virtual environments in Python development?**\n",
    "6. **How does Python's `asyncio` module work?**\n",
    "\n",
    "### **Error Handling & Debugging**\n",
    "1. **What is the difference between `try`, `except`, `else`, and `finally` in Python?**\n",
    "2. **How do you raise custom exceptions in Python?**\n",
    "3. **What is the use of logging in Python, and how do you implement it?**\n",
    "4. **Explain what the `with` statement does, and provide an example where it’s useful.**\n",
    "\n",
    "### **Performance & Optimization**\n",
    "1. **How would you optimize the performance of a Python program?**\n",
    "2. **What is a Python profiler, and how do you use it?**\n",
    "3. **What are some ways to improve memory usage in Python?**\n",
    "4. **How does the Python Global Interpreter Lock (GIL) affect multi-threaded applications?**\n",
    "\n",
    "### **Testing & Best Practices**\n",
    "1. **What is unit testing in Python, and which testing frameworks are you familiar with?**\n",
    "2. **How do you write effective unit tests in Python?**\n",
    "3. **Explain the concept of test-driven development (TDD) and how you’ve used it in Python.**\n",
    "4. **What are some common Python coding style guides you follow (e.g., PEP 8)?**\n",
    "\n",
    "### **Advanced Concepts**\n",
    "1. **What is metaprogramming in Python, and how can it be used?**\n",
    "2. **How do you implement multi-threading and multi-processing in Python?**\n",
    "3. **What is the difference between concurrency and parallelism?**\n",
    "4. **How does Python's Global Interpreter Lock (GIL) affect multi-threading?**\n",
    "5. **Explain the concept of coroutines in Python.**\n",
    "\n",
    "### **Practical Coding Tasks**\n",
    "1. **Write a Python function to check if a given string is a palindrome.**\n",
    "2. **Given a list of numbers, write a Python function to find the second largest number.**\n",
    "3. **Write a Python script that reads from a file and counts the frequency of each word.**\n",
    "4. **Implement a Python function to merge two sorted lists into a single sorted list.**\n",
    "\n",
    "### **Soft Skills/Behavioral Questions**\n",
    "1. **Describe a challenging Python project you've worked on and how you overcame difficulties.**\n",
    "2. **How do you stay updated with new Python developments and libraries?**\n",
    "3. **How do you handle tight deadlines and conflicting priorities in your development work?**\n",
    "4. **Can you describe a time when you had to debug a complex issue in a Python application?**\n",
    "\n",
    "These questions can help assess a candidate’s technical abilities and understanding of Python, as well as their problem-solving skills and experience. Would you like help crafting answers or diving deeper into any particular topic?\"\"\"\"\""
   ]
  },
  {
   "cell_type": "code",
   "execution_count": null,
   "metadata": {},
   "outputs": [],
   "source": []
  }
 ],
 "metadata": {
  "kernelspec": {
   "display_name": "base",
   "language": "python",
   "name": "python3"
  },
  "language_info": {
   "codemirror_mode": {
    "name": "ipython",
    "version": 3
   },
   "file_extension": ".py",
   "mimetype": "text/x-python",
   "name": "python",
   "nbconvert_exporter": "python",
   "pygments_lexer": "ipython3",
   "version": "3.11.4"
  }
 },
 "nbformat": 4,
 "nbformat_minor": 2
}
