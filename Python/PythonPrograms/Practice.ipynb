{
 "cells": [
  {
   "cell_type": "code",
   "execution_count": 45,
   "metadata": {},
   "outputs": [
    {
     "name": "stdout",
     "output_type": "stream",
     "text": [
      "Original array :  [1 2 3 4 5]\n",
      "Reversed array :  [5 4 3 2 1]\n"
     ]
    }
   ],
   "source": [
    "# Reverse an array\n",
    "import numpy as np\n",
    "l1=[1,2,3,4,5]\n",
    "arr=np.array(l1)\n",
    "print(\"Original array : \",arr)\n",
    "arr=arr[::-1]\n",
    "print(\"Reversed array : \",arr)"
   ]
  },
  {
   "cell_type": "code",
   "execution_count": 46,
   "metadata": {},
   "outputs": [
    {
     "name": "stdout",
     "output_type": "stream",
     "text": [
      "Original array :  [1 2 3 4 5]\n",
      "Reversed array :  [5 4 3 2 1]\n"
     ]
    }
   ],
   "source": [
    "import numpy as np\n",
    "l1=[1,2,3,4,5]\n",
    "arr=np.array(l1)\n",
    "print(\"Original array : \",arr)\n",
    "l2=[i for i in range(len(arr))]\n",
    "c=0\n",
    "for i in arr:\n",
    "    l2[len(arr)-(c+1)]=i\n",
    "    c=c+1\n",
    "arr=np.array(l2)\n",
    "print(\"Reversed array : \",arr)"
   ]
  },
  {
   "cell_type": "code",
   "execution_count": 47,
   "metadata": {},
   "outputs": [
    {
     "name": "stdout",
     "output_type": "stream",
     "text": [
      "0\n",
      "3\n",
      "7\n",
      "10\n"
     ]
    }
   ],
   "source": [
    "#Find the missing number in an array of size n with values from 1 to n+1.\n",
    "import numpy as np\n",
    "n=10\n",
    "arr=np.array([1,2,4,5,6,8,9])                  #list()\n",
    "for i in range(n+1):\n",
    "    if i not in arr:\n",
    "        print(i)"
   ]
  },
  {
   "cell_type": "code",
   "execution_count": 48,
   "metadata": {},
   "outputs": [
    {
     "name": "stdout",
     "output_type": "stream",
     "text": [
      "2\n"
     ]
    }
   ],
   "source": [
    "#Find the \"K-th\" largest element** in an unsorted array.\n",
    "import numpy as np\n",
    "l1=[3,5,2,3,7,6]\n",
    "l1.sort()\n",
    "arr=np.array(l1)\n",
    "n=0\n",
    "num=arr[n]\n",
    "print(num)"
   ]
  },
  {
   "cell_type": "code",
   "execution_count": 49,
   "metadata": {},
   "outputs": [],
   "source": [
    "#Find the longest subarray with a given sum**.\n"
   ]
  },
  {
   "cell_type": "code",
   "execution_count": null,
   "metadata": {},
   "outputs": [
    {
     "data": {
      "text/plain": [
       "[]"
      ]
     },
     "execution_count": 50,
     "metadata": {},
     "output_type": "execute_result"
    }
   ],
   "source": [
    "#Find all pairs in an array that sum up to a specific value**.\n"
   ]
  },
  {
   "cell_type": "code",
   "execution_count": 51,
   "metadata": {},
   "outputs": [],
   "source": [
    "#Find the longest substring without repeating characters**.\n"
   ]
  },
  {
   "cell_type": "code",
   "execution_count": 52,
   "metadata": {},
   "outputs": [],
   "source": [
    "#Rotate an array** by a given number of steps"
   ]
  }
 ],
 "metadata": {
  "kernelspec": {
   "display_name": "base",
   "language": "python",
   "name": "python3"
  },
  "language_info": {
   "codemirror_mode": {
    "name": "ipython",
    "version": 3
   },
   "file_extension": ".py",
   "mimetype": "text/x-python",
   "name": "python",
   "nbconvert_exporter": "python",
   "pygments_lexer": "ipython3",
   "version": "3.11.4"
  }
 },
 "nbformat": 4,
 "nbformat_minor": 2
}
