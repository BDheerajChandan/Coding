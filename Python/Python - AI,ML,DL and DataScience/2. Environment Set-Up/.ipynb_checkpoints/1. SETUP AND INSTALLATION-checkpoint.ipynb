{
 "cells": [
  {
   "cell_type": "markdown",
   "id": "49b7ddd0",
   "metadata": {},
   "source": [
    "# Anaconda and Installation"
   ]
  },
  {
   "cell_type": "code",
   "execution_count": 4,
   "id": "42ff0584",
   "metadata": {},
   "outputs": [
    {
     "data": {
      "text/plain": [
       "\"\\nIt is recommended to use Anaconda software for python coding.\\nIf you are new to Python course then you need to install/setup \\nAnaconda software in your system/PC.\\n\\nAs a Python user you are free to use any development environment \\nyou perfer/comfortable. Ex:PyCharm , Sublime Texteditor , Visual Studio code, Notebook++\\n\\nIn Jupyter notbook all the notes can be downloaded as .py files\\nthat are compatible with any Python IDE or Text editor. \\nex: Create new file in (Say)VS code and save as .py or .ipynb file then file will be downloded.\\n\\n- For this we will be using Python3 .\\n- For new user it is recommended to intall Anaconda.\\n- Anaconda installs Python, Jupyter Notebook and other used packages for scietific computing and data science.\\n- For installing Anaconda software go for 'www.jupyter.org' .\\n- Jupyter Notebook is a open surce interactive data science and scientific computing platform that can \\n    work actually works with over 40 programming languages that include Python. \\n- Its a really slick web application that actually allows you to create in documents that contain not just like code \\n    but also equation visualization and explanatory text thats why it is great tool for data science.\\n- 'https://jupyter.org/try'or'try.jupyter.org' is a hosted online version of Jupyter\\n\""
      ]
     },
     "execution_count": 4,
     "metadata": {},
     "output_type": "execute_result"
    }
   ],
   "source": [
    "# Anaconda\n",
    "'''\n",
    "- It is recommended to use Anaconda software for python coding.\n",
    "- If you are new to Python course then you need to install/setup Anaconda software in your system/PC.\n",
    "\n",
    "- As a Python user you are free to use any development environment you perfer/comfortable. \n",
    "    Ex:PyCharm , Sublime Texteditor , Visual Studio code, Notebook++\n",
    "\n",
    "- In Jupyter notbook all the notes can be downloaded as .py files that are compatible with any Python IDE or Text editor. \n",
    "    ex: Create new file in (Say)VS code and save as .py or .ipynb file then file will be downloded.\n",
    "\n",
    "- Anaconda is a Python distribution with many software tools in it. \n",
    "- Spyder is an IDE and Jupyter Notebook is a web-based program to code Python for scientific purposes in Anaconda. \n",
    "\n",
    "- For this we will be using Python3 .\n",
    "- For new user it is recommended to intall Anaconda.\n",
    "- Anaconda installs Python, Jupyter Notebook and other used packages for scietific computing and data science.\n",
    "- For installing Anaconda software go for 'www.jupyter.org' .\n",
    "- Jupyter Notebook is a open surce interactive data science and scientific computing platform that can \n",
    "    work actually works with over 40 programming languages that include Python. \n",
    "- Its a really slick web application that actually allows you to create in documents that contain not just like code \n",
    "    but also equation visualization and explanatory text thats why it is great tool for data science.\n",
    "- 'https://jupyter.org/try'or'try.jupyter.org' is a hosted online version of Jupyter\n",
    "'''\n",
    "\n"
   ]
  },
  {
   "cell_type": "code",
   "execution_count": 5,
   "id": "542c80d5",
   "metadata": {},
   "outputs": [
    {
     "data": {
      "text/plain": [
       "\"\\n- Steps for installing locally in PC :\\n    1. Open/Browse www.jupyter.org (Official documentation page for Jupyter Notebook appears)\\n    2. Scroll down and click 'Try it in your browser' then it will take you to 'https://jupyter.org/try'or'try.jupyter.org'. This is an online version of jupyter and we are not going to use it.\\n    3. Click on 'Install the Notebook' and go to Jupyrt documentation page.\\n    4. Follow the 3 installation steps under section named 'Installing Jupyter using Anacond and conda' .\\n    5. For Windows click on 64bit Installer for windows user.\\n    6. Install the downloaded application\\n    7. Open/Launch Anaconda and click on Jupyter and start coding.\\n\""
      ]
     },
     "execution_count": 5,
     "metadata": {},
     "output_type": "execute_result"
    }
   ],
   "source": [
    "#Installation\n",
    "'''\n",
    "- Steps for installing locally in PC :\n",
    "    1. Open/Browse www.jupyter.org (Official documentation page for Jupyter Notebook appears)\n",
    "    2. Scroll down and click 'Try it in your browser' then it will take you to 'https://jupyter.org/try'or'try.jupyter.org'. \n",
    "        This is an online version of jupyter and we are not going to use it.\n",
    "    3. Click on 'Install the Notebook' and go to Jupyrt documentation page.\n",
    "    4. Follow the 3 installation steps under section named 'Installing Jupyter using Anacond and conda' .\n",
    "    5. For Windows click on 64bit Installer for windows user.\n",
    "    6. Install the downloaded application\n",
    "    7. Open/Launch Anaconda and click on Jupyter and start coding.\n",
    "'''"
   ]
  },
  {
   "cell_type": "code",
   "execution_count": 2,
   "id": "c105e007",
   "metadata": {},
   "outputs": [
    {
     "name": "stdout",
     "output_type": "stream",
     "text": [
      "Hi\n"
     ]
    }
   ],
   "source": [
    "print(\"Hi\")"
   ]
  },
  {
   "cell_type": "code",
   "execution_count": 3,
   "id": "0d38f1be",
   "metadata": {},
   "outputs": [],
   "source": [
    "# Note: For this course you need to know Python. Please go throught Python notes."
   ]
  },
  {
   "cell_type": "code",
   "execution_count": null,
   "id": "0d9e0ecb",
   "metadata": {},
   "outputs": [],
   "source": []
  }
 ],
 "metadata": {
  "kernelspec": {
   "display_name": "Python 3 (ipykernel)",
   "language": "python",
   "name": "python3"
  },
  "language_info": {
   "codemirror_mode": {
    "name": "ipython",
    "version": 3
   },
   "file_extension": ".py",
   "mimetype": "text/x-python",
   "name": "python",
   "nbconvert_exporter": "python",
   "pygments_lexer": "ipython3",
   "version": "3.11.4"
  }
 },
 "nbformat": 4,
 "nbformat_minor": 5
}
