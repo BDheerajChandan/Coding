{
 "cells": [
  {
   "cell_type": "code",
   "execution_count": 1,
   "id": "9d9a0e5c",
   "metadata": {},
   "outputs": [
    {
     "data": {
      "text/plain": [
       "'\\nNumPy Opertion -\\n    Array with Array\\n    Array with scalars\\n    Universal array functions\\n'"
      ]
     },
     "execution_count": 1,
     "metadata": {},
     "output_type": "execute_result"
    }
   ],
   "source": [
    "'''\n",
    "NumPy Opertion -\n",
    "    Array with Array\n",
    "    Array with scalars\n",
    "    Universal array functions\n",
    "'''"
   ]
  },
  {
   "cell_type": "code",
   "execution_count": 14,
   "id": "c8c0a36e",
   "metadata": {},
   "outputs": [
    {
     "name": "stdout",
     "output_type": "stream",
     "text": [
      "[0 1 2 3 4 5]\n",
      "[ 0  2  4  6  8 10]\n",
      "[0 1 1 1 1 1]\n",
      "[ 0  1  4  9 16 25]\n",
      "[nan  1.  1.  1.  1.  1.]\n",
      "[100 101 102 103 104 105]\n",
      "[ 0 10 20 30 40 50]\n",
      "[  0   1   8  27  64 125]\n"
     ]
    },
    {
     "name": "stderr",
     "output_type": "stream",
     "text": [
      "C:\\Users\\KIIT\\AppData\\Local\\Temp\\ipykernel_17700\\3536504070.py:7: RuntimeWarning: divide by zero encountered in floor_divide\n",
      "  print(a1//a1)\n",
      "C:\\Users\\KIIT\\AppData\\Local\\Temp\\ipykernel_17700\\3536504070.py:11: RuntimeWarning: invalid value encountered in divide\n",
      "  print(a1/a1)\n"
     ]
    },
    {
     "data": {
      "text/plain": [
       "'\\nnp.sqrt()\\nnp.exp()\\nnp.max()\\nnp.min()\\nnp.sin()\\nnp.cos()\\nnp.log()\\n\\n'"
      ]
     },
     "execution_count": 14,
     "metadata": {},
     "output_type": "execute_result"
    }
   ],
   "source": [
    "import numpy as np\n",
    "a1=np.arange(0,6)\n",
    "\n",
    "# vector\n",
    "print(a1)\n",
    "print(a1+a1)\n",
    "print(a1//a1)\n",
    "print(a1*a1)\n",
    "'''Numpy will give an warning regarding invalid value encountered in true_divide.'''\n",
    "\"It will return Nan if number 0 dived by any num and inf any number divided by 0.\"\n",
    "print(a1/a1)\n",
    "\n",
    "# scalar \n",
    "print(a1+100)\n",
    "print(a1*10)\n",
    "print(a1**3)\n",
    "\n",
    "\n",
    "# Universal array functions: Mathematical array operations\n",
    "'''\n",
    "np.sqrt()\n",
    "np.exp()\n",
    "np.max()\n",
    "np.min()\n",
    "np.sin()\n",
    "np.cos()\n",
    "np.log()\n",
    "\n",
    "'''"
   ]
  },
  {
   "cell_type": "code",
   "execution_count": 15,
   "id": "1b8051c8",
   "metadata": {},
   "outputs": [
    {
     "data": {
      "text/plain": [
       "'\\n                #Trigonometric functions\\nsin, \\ncos, \\ntan\\narcsin,\\narccos,\\narctan\\narctan2\\nhypot\\nsinh,\\ncosh,\\ntanh\\narcsinh, \\narccosh, \\narctanh\\ndegree \\nradians\\ndeg2rad\\nrad2deg\\n\\n                #Bit-twiddling functions:\\nbitwise_and\\nbitwies_or\\nbitwise_xor\\ninvert\\nleft_shift\\nright_shift\\n\\n                #Comparison functions\\ngreater\\ngreater_equal\\nless\\nless_equal\\nnot_equal\\nequal\\nlogical_and\\nlogical_or\\nlogical_xor\\nlogical_not\\nmaximum\\nminimum\\nfmax\\nfmin\\n\\n\\n\\n                        #Floating functions\\nisfinite\\nisinf\\nisnan\\nisnat\\nfabs\\nsignbit\\ncopysign\\nnextafter\\nspacing\\nmodf\\nldexp\\nfrexp\\nfmod\\nfloor\\nceil\\ntrunc\\n\\n\\n#Statistical functions:\\namin, amax\\nptp\\npercentile(a, p, axis)\\nmedian\\nmean\\nstd\\nvar\\naverage\\n\\n\\n\\n\\n                    #Math operations:\\nadd\\nsubstract\\nmultiply\\nmatmul\\ndivide\\nlogaddexp\\nlogaddexp2\\ntrue_divide\\nfloor_divide\\nnegative\\npositive\\npower\\nfloat_power\\nremainder\\nmod\\nfmod\\ndivmod\\nabsolute\\nfabs\\nrint\\nsign\\nheaviside\\nconj\\nconjugate\\nexp\\nexp2\\nlog\\nlog2\\nlog10\\nexpm1\\nlog1p\\nsqrt\\nsquare\\ncbrt\\nreciprocal\\ngcd\\nlcm\\n\\n\\n\\n\\n\\n\\n\\n\\n\\n\\n\\n\\n'"
      ]
     },
     "execution_count": 15,
     "metadata": {},
     "output_type": "execute_result"
    }
   ],
   "source": [
    "'''\n",
    "                #Trigonometric functions\n",
    "sin, \n",
    "cos, \n",
    "tan\n",
    "arcsin,\n",
    "arccos,\n",
    "arctan\n",
    "arctan2\n",
    "hypot\n",
    "sinh,\n",
    "cosh,\n",
    "tanh\n",
    "arcsinh, \n",
    "arccosh, \n",
    "arctanh\n",
    "degree \n",
    "radians\n",
    "deg2rad\n",
    "rad2deg\n",
    "\n",
    "                #Bit-twiddling functions:\n",
    "bitwise_and\n",
    "bitwies_or\n",
    "bitwise_xor\n",
    "invert\n",
    "left_shift\n",
    "right_shift\n",
    "\n",
    "                #Comparison functions\n",
    "greater\n",
    "greater_equal\n",
    "less\n",
    "less_equal\n",
    "not_equal\n",
    "equal\n",
    "logical_and\n",
    "logical_or\n",
    "logical_xor\n",
    "logical_not\n",
    "maximum\n",
    "minimum\n",
    "fmax\n",
    "fmin\n",
    "\n",
    "\n",
    "\n",
    "                        #Floating functions\n",
    "isfinite\n",
    "isinf\n",
    "isnan\n",
    "isnat\n",
    "fabs\n",
    "signbit\n",
    "copysign\n",
    "nextafter\n",
    "spacing\n",
    "modf\n",
    "ldexp\n",
    "frexp\n",
    "fmod\n",
    "floor\n",
    "ceil\n",
    "trunc\n",
    "\n",
    "\n",
    "#Statistical functions:\n",
    "amin, amax\n",
    "ptp\n",
    "percentile(a, p, axis)\n",
    "median\n",
    "mean\n",
    "std\n",
    "var\n",
    "average\n",
    "\n",
    "\n",
    "\n",
    "\n",
    "                    #Math operations:\n",
    "add\n",
    "substract\n",
    "multiply\n",
    "matmul\n",
    "divide\n",
    "logaddexp\n",
    "logaddexp2\n",
    "true_divide\n",
    "floor_divide\n",
    "negative\n",
    "positive\n",
    "power\n",
    "float_power\n",
    "remainder\n",
    "mod\n",
    "fmod\n",
    "divmod\n",
    "absolute\n",
    "fabs\n",
    "rint\n",
    "sign\n",
    "heaviside\n",
    "conj\n",
    "conjugate\n",
    "exp\n",
    "exp2\n",
    "log\n",
    "log2\n",
    "log10\n",
    "expm1\n",
    "log1p\n",
    "sqrt\n",
    "square\n",
    "cbrt\n",
    "reciprocal\n",
    "gcd\n",
    "lcm\n",
    "\n",
    "\n",
    "\n",
    "\n",
    "\n",
    "\n",
    "\n",
    "\n",
    "\n",
    "\n",
    "\n",
    "\n",
    "'''"
   ]
  },
  {
   "cell_type": "code",
   "execution_count": null,
   "id": "00cb29c3",
   "metadata": {},
   "outputs": [],
   "source": []
  }
 ],
 "metadata": {
  "kernelspec": {
   "display_name": "Python 3 (ipykernel)",
   "language": "python",
   "name": "python3"
  },
  "language_info": {
   "codemirror_mode": {
    "name": "ipython",
    "version": 3
   },
   "file_extension": ".py",
   "mimetype": "text/x-python",
   "name": "python",
   "nbconvert_exporter": "python",
   "pygments_lexer": "ipython3",
   "version": "3.11.4"
  }
 },
 "nbformat": 4,
 "nbformat_minor": 5
}
