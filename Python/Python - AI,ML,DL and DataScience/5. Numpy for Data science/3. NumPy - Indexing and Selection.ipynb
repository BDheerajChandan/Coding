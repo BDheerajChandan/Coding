{
 "cells": [
  {
   "cell_type": "code",
   "execution_count": 2,
   "id": "4dbd579e",
   "metadata": {},
   "outputs": [
    {
     "name": "stdout",
     "output_type": "stream",
     "text": [
      "[ 0  1  2  3  4  5  6  7  8  9 10]\n",
      "7\n",
      "[1 2 3 4]\n",
      "[0 1 2 3]\n",
      "[0 1 2 3 4 5]\n",
      "[ 5  6  7  8  9 10]\n",
      "[ 0  1  2  3  4  5  6  7  8  9 10]\n",
      "[  0   1 100 100 100 100   6   7   8   9  10]\n",
      "[  0   1 100 100 100 100]\n",
      "[3 3 3 3 3 3]\n",
      "[ 3  3  3  3  3  3  6  7  8  9 10]\n",
      "[ 3  3  3  3  3  3  6  7  8  9 10]\n",
      "[ 3  3 10 10 10  3  6  7  8  9 10]\n"
     ]
    }
   ],
   "source": [
    "'''\n",
    ".copy() - Return an array copy of the given object.\n",
    "'''\n",
    "import numpy as np\n",
    "a1=np.arange(0,11)\n",
    "print(a1)\n",
    "print(a1[7])\n",
    "print(a1[1:5])\n",
    "print(a1[0:4])\n",
    "print(a1[0:6])\n",
    "print(a1[5:])\n",
    "a2=a1\n",
    "print(a2)\n",
    "a2[2:6]=100\n",
    "print(a2)\n",
    "a3=a1[0:6]\n",
    "print(a3)\n",
    "a3[:]=3\n",
    "print(a3)\n",
    "print(a1)\n",
    "a4=a1.copy()\n",
    "print(a4)\n",
    "a1[2:5]=10\n",
    "print(a1)"
   ]
  },
  {
   "cell_type": "code",
   "execution_count": 26,
   "id": "c98c0eb2",
   "metadata": {},
   "outputs": [
    {
     "name": "stdout",
     "output_type": "stream",
     "text": [
      "[[1 2 3]\n",
      " [4 5 6]\n",
      " [7 8 9]]\n",
      "Elements in 1st row  [1 2 3]\n",
      "Elements in 2nd row  [4 5 6]\n",
      "1\n",
      "2\n",
      "4   4\n",
      "5   5\n",
      "[[4 5 6]]\n",
      "[[4 5 6]\n",
      " [7 8 9]]\n",
      "[[5]]\n",
      "[[7 8 9]\n",
      " [4 5 6]\n",
      " [1 2 3]]\n"
     ]
    }
   ],
   "source": [
    "import numpy as np\n",
    "b=np.array([[1,2,3],[4,5,6],[7,8,9]])\n",
    "print(b)\n",
    "print(\"Elements in 1st row \",b[0])\n",
    "print(\"Elements in 2nd row \",b[1])\n",
    "print(b[0][0])\n",
    "print(b[0][1])\n",
    "# It is recommended that to use single coma notation to get n element. \n",
    "print(b[1][0],' ',b[1,0])\n",
    "print(b[1][1],' ',b[1,1])\n",
    "# To grab elements from an array or get sub array.\n",
    "print(b[1:2])\n",
    "print(b[1:3,0:3])\n",
    "print(b[1:2,1:2])\n",
    "print(b[::-1])\n"
   ]
  },
  {
   "cell_type": "code",
   "execution_count": 3,
   "id": "259852d2",
   "metadata": {},
   "outputs": [
    {
     "name": "stdout",
     "output_type": "stream",
     "text": [
      "[0 1 2 3 4 5 6 7 8 9]\n",
      "[ True  True  True  True  True False False False False False]\n",
      "[0 1 2 3 4]\n",
      "[6 7 8 9]\n",
      "[0 2 4 6 8]\n",
      "[ True  True  True  True  True False False False False False]\n",
      "[0 1 2 3 4]\n"
     ]
    }
   ],
   "source": [
    "# Conditionl selection - \n",
    "c=np.arange(10)\n",
    "print(c)\n",
    "c1=c<5\n",
    "print(c1)\n",
    "print(c[c1])\n",
    "print(c[c>5])\n",
    "print(c[c%2==0])\n",
    "c2=np.array(c1)\n",
    "print(c2)\n",
    "print(c[c2==True])"
   ]
  },
  {
   "cell_type": "code",
   "execution_count": 43,
   "id": "973aebc2",
   "metadata": {},
   "outputs": [
    {
     "name": "stdout",
     "output_type": "stream",
     "text": [
      "[[ 0  1  2  3  4  5  6  7  8  9]\n",
      " [10 11 12 13 14 15 16 17 18 19]\n",
      " [20 21 22 23 24 25 26 27 28 29]\n",
      " [30 31 32 33 34 35 36 37 38 39]\n",
      " [40 41 42 43 44 45 46 47 48 49]]\n",
      "[[13 14]\n",
      " [23 24]]\n"
     ]
    }
   ],
   "source": [
    "d=np.arange(50).reshape(5,10)\n",
    "print(d)\n",
    "print(d[1:3,3:5])"
   ]
  },
  {
   "cell_type": "code",
   "execution_count": null,
   "id": "c50e29d7",
   "metadata": {},
   "outputs": [],
   "source": []
  }
 ],
 "metadata": {
  "kernelspec": {
   "display_name": "Python 3 (ipykernel)",
   "language": "python",
   "name": "python3"
  },
  "language_info": {
   "codemirror_mode": {
    "name": "ipython",
    "version": 3
   },
   "file_extension": ".py",
   "mimetype": "text/x-python",
   "name": "python",
   "nbconvert_exporter": "python",
   "pygments_lexer": "ipython3",
   "version": "3.11.4"
  }
 },
 "nbformat": 4,
 "nbformat_minor": 5
}
