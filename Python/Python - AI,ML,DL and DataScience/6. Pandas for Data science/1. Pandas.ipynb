{
 "cells": [
  {
   "cell_type": "code",
   "execution_count": 3,
   "metadata": {},
   "outputs": [
    {
     "name": "stdout",
     "output_type": "stream",
     "text": [
      "Intro to Pandas for Data Science\n"
     ]
    }
   ],
   "source": [
    "print(\"Intro to Pandas for Data Science\")"
   ]
  },
  {
   "cell_type": "code",
   "execution_count": 1,
   "metadata": {},
   "outputs": [
    {
     "data": {
      "text/plain": [
       "'\\nFast and efficient for manipulating and analyzing data.\\nData from different file objects can be easily loaded.\\nFlexible reshaping and pivoting of data sets\\nProvides time-series functionality.\\n\\n'"
      ]
     },
     "execution_count": 1,
     "metadata": {},
     "output_type": "execute_result"
    }
   ],
   "source": [
    "# Pandas :\n",
    "'''\n",
    "pandas is a Python package providing fast, flexible, and expressive data structures designed to make working with “relational” or “labeled” \n",
    "data both easy and intuitive. It aims to be the fundamental high-level building block for doing practical, real-world data analysis in Python.\n",
    "\n",
    "It is a software library written for the Python programming language for data manipulation and analysis. In particular, it offers data \n",
    "structures and operations for manipulating numerical tables and time series. \n",
    "\n",
    "It is used for working with data sets. It has functions for analyzing, cleaning, exploring, and manipulating data. It is mainly popular \n",
    "for importing and analyzing data much easier. \n",
    "\n",
    "It is an open source library built on top of NumPy. It allows fast analysis and data cleaning and preparation. It excels in performance and \n",
    "productivity. It also has built in visualization features. It can work with data from a wide variety of sources.\n",
    "\n",
    "'''\n",
    "\n",
    "# Installing a Pandas library or packages :\n",
    "'''\n",
    "Open terminal in Anaconda or Python terminal and run the command - \n",
    "    pip install pandas          or \n",
    "    conda install pandas\n",
    "'''\n",
    "\n",
    "#Pandas Data structures\n",
    "'''\n",
    "Pandas generally provide two data structures for manipulating data, They are: Series and DataFrame\n",
    "    Pandas Series is a one-dimensional labeled array capable of holding data of any type (integer, string, float, python objects, etc.). \n",
    "    The axis labels are collectively called indexes.Pandas Series is nothing but a column in an Excel sheet.\n",
    "\n",
    "    Pandas DataFrame is a two-dimensional size-mutable, potentially heterogeneous tabular data structure with labeled axes (rows and columns). \n",
    "    A Data frame is a two-dimensional data structure, i.e., data is aligned in a tabular fashion in rows and columns. Pandas DataFrame consists\n",
    "    of three principal components, the data, rows, and columns.\n",
    "'''\n",
    "\n",
    "# Why Use Pandas?\n",
    "'''\n",
    "Fast and efficient for manipulating and analyzing data.\n",
    "Data from different file objects can be easily loaded.\n",
    "Flexible reshaping and pivoting of data sets\n",
    "Provides time-series functionality.\n",
    "\n",
    "'''\n",
    "\n",
    "#Topics\n",
    "'''\n",
    "Topics to be covered in Pandas topic be : \n",
    "    Series , \n",
    "    DataFrames , \n",
    "    Missing Data, \n",
    "    GroupBy, \n",
    "    Merging/Joining/Concatenating , \n",
    "    Operations , \n",
    "    Data Input and Output\n",
    "'''"
   ]
  }
 ],
 "metadata": {
  "kernelspec": {
   "display_name": "base",
   "language": "python",
   "name": "python3"
  },
  "language_info": {
   "codemirror_mode": {
    "name": "ipython",
    "version": 3
   },
   "file_extension": ".py",
   "mimetype": "text/x-python",
   "name": "python",
   "nbconvert_exporter": "python",
   "pygments_lexer": "ipython3",
   "version": "3.11.4"
  }
 },
 "nbformat": 4,
 "nbformat_minor": 2
}
