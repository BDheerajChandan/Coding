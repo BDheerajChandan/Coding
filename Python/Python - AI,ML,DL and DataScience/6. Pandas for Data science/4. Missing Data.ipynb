{
 "cells": [
  {
   "cell_type": "code",
   "execution_count": 59,
   "metadata": {},
   "outputs": [
    {
     "name": "stdout",
     "output_type": "stream",
     "text": [
      "     A    B   C\n",
      "0  1.0  5.0  10\n",
      "1  2.0  NaN  20\n",
      "2  NaN  NaN  30 \n",
      "\n",
      "     A    B   C\n",
      "0  1.0  5.0  10 \n",
      "\n",
      "     A    B   C\n",
      "0  1.0  5.0  10 \n",
      "\n",
      "    C\n",
      "0  10\n",
      "1  20\n",
      "2  30 \n",
      "\n",
      "     A    B   C\n",
      "0  1.0  5.0  10\n",
      "1  2.0  NaN  20\n",
      "2  NaN  NaN  30 \n",
      "\n",
      "     A    B   C\n",
      "0  1.0  5.0  10 \n",
      "\n",
      "    C\n",
      "0  10\n",
      "1  20\n",
      "2  30 \n",
      "\n"
     ]
    }
   ],
   "source": [
    "# Missing Data\n",
    "'''\n",
    "Missing Data can occur when no information is provided for one or more items or for a whole unit.\n",
    "Missing Data can also refer to as NA(Not Available) values in pandas. In DataFrame sometimes many datasets simply arrive with missing data, \n",
    "either because it exists and was not collected or it never existed.\n",
    "'''\n",
    "import numpy as np\n",
    "import pandas as pd\n",
    "d1={'A':[1,2,np.nan],'B':[5,np.nan,np.nan],'C':[10,20,30]}\n",
    "df1=pd.DataFrame(d1)\n",
    "df2=pd.DataFrame(d1)\n",
    "df3=pd.DataFrame(d1)\n",
    "print(df1,'\\n')\n",
    "# .dropna() - The dropna() method removes the rows that contains NULL values.It  is used to return a new Series with missing values removed. \n",
    "print(df1.dropna(),'\\n')\n",
    "print(df1.dropna(axis=0),'\\n')\n",
    "print(df1.dropna(axis=1),'\\n')\n",
    "print(df2,'\\n')\n",
    "print(df2.dropna(axis=0,inplace=False),'\\n')\n",
    "df2.dropna(axis=1,inplace=True)\n",
    "print(df2,'\\n')"
   ]
  },
  {
   "cell_type": "code",
   "execution_count": 63,
   "metadata": {},
   "outputs": [
    {
     "name": "stdout",
     "output_type": "stream",
     "text": [
      "     A    B   C\n",
      "0  1.0  5.0  10\n",
      "1  2.0  NaN  20\n",
      "2  NaN  NaN  30 \n",
      "\n",
      "     A    B   C\n",
      "0  1.0  5.0  10\n",
      "1  2.0  NaN  20\n",
      "2  NaN  NaN  30 \n",
      "\n",
      "     A    B   C\n",
      "0  1.0  5.0  10\n",
      "1  2.0  NaN  20\n",
      "2  NaN  NaN  30 \n",
      "\n",
      "     A    B   C\n",
      "0  1.0  5.0  10\n",
      "1  2.0  NaN  20 \n",
      "\n",
      "     A    B   C\n",
      "0  1.0  5.0  10 \n",
      "\n"
     ]
    }
   ],
   "source": [
    "# to specify the minimum number of non-NaN values that a row or column must have in order to be kept in the DataFrame.\n",
    "print(df3,'\\n')\n",
    "print(df3.dropna(thresh=0),'\\n')\n",
    "print(df3.dropna(thresh=1),'\\n')\n",
    "print(df3.dropna(thresh=2),'\\n')\n",
    "print(df3.dropna(thresh=3),'\\n')"
   ]
  },
  {
   "cell_type": "code",
   "execution_count": 69,
   "metadata": {},
   "outputs": [
    {
     "name": "stdout",
     "output_type": "stream",
     "text": [
      "     A    B   C\n",
      "0  1.0  5.0  10\n",
      "1  2.0  NaN  20\n",
      "2  NaN  NaN  30 \n",
      "\n",
      "     A    B   C\n",
      "0  1.0  5.0  10\n",
      "1  2.0  NaN  20\n",
      "2  NaN  NaN  30 \n",
      "\n",
      "0    5.0\n",
      "1    NaN\n",
      "2    NaN\n",
      "Name: B, dtype: float64 \n",
      "\n",
      "0    1.0\n",
      "1    2.0\n",
      "2    1.5\n",
      "Name: A, dtype: float64 \n",
      "\n"
     ]
    }
   ],
   "source": [
    "# .fillna() - It replaces the NULL values with a specified value. Fillna is a Pandas function to fill the NA/NaN values with the specified method. \n",
    "print(df3,'\\n')\n",
    "df3.fillna(value=\"None\")\n",
    "print(df3,'\\n')\n",
    "print(df3['B'],'\\n')\n",
    "# .mean() - To find a mean value\n",
    "print(df3['A'].fillna(value=df3['A'].mean()),'\\n')"
   ]
  }
 ],
 "metadata": {
  "kernelspec": {
   "display_name": "base",
   "language": "python",
   "name": "python3"
  },
  "language_info": {
   "codemirror_mode": {
    "name": "ipython",
    "version": 3
   },
   "file_extension": ".py",
   "mimetype": "text/x-python",
   "name": "python",
   "nbconvert_exporter": "python",
   "pygments_lexer": "ipython3",
   "version": "3.11.4"
  }
 },
 "nbformat": 4,
 "nbformat_minor": 2
}
