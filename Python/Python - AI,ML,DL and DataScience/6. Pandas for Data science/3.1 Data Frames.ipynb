{
 "cells": [
  {
   "cell_type": "markdown",
   "metadata": {},
   "source": [
    "# Data Frames"
   ]
  },
  {
   "cell_type": "code",
   "execution_count": 1,
   "metadata": {},
   "outputs": [
    {
     "data": {
      "text/plain": [
       "\"\\nA Pandas DataFrame is a 2 dimensional data structure, like a 2 dimensional array, or a table with rows and columns.\\n\\nIt is like a spreadsheet or SQL table, or a dict of Series objects.\\n\\nDataFrame.T Transpose index and columns. Reflect the DataFrame over its main diagonal by writing rows as columns and vice-versa.\\n\\nDataFrames are one of the most common data structures used in modern data analytics because they are a flexible and intuitive way of\\nstoring and working with data.\\n\\nDataFrames are similar to SQL tables or the spreadsheets that you work with in Excel or Calc. In many cases, DataFrames are faster, \\neasier to use, and more powerful than tables or spreadsheets because they're an integral part of the Python and NumPy ecosystems.\\n\\nIt can store data of different types (including characters, integers, floating point values, categorical data and more) in columns.\\n\\nWe can perform basic operations on rows/columns like selecting, deleting, adding, and renaming.\\n\\nColumn selection - we can either access the columns by calling them by their columns name.\\n\\nRow Selection - DataFrame.loc[] method is used to retrieve rows from Pandas DataFrame. \\nRows can also be selected by passing integer location to an iloc[] function.\\n\\nWe can read and write data to Excel/CSV files.\\n\\n\""
      ]
     },
     "execution_count": 1,
     "metadata": {},
     "output_type": "execute_result"
    }
   ],
   "source": [
    "# Data Frame\n",
    "'''\n",
    "A Pandas DataFrame is a 2 dimensional data structure, like a 2 dimensional array, or a table with rows and columns.\n",
    "\n",
    "It is like a spreadsheet or SQL table, or a dict of Series objects.\n",
    "\n",
    "DataFrame.T Transpose index and columns. Reflect the DataFrame over its main diagonal by writing rows as columns and vice-versa.\n",
    "\n",
    "DataFrames are one of the most common data structures used in modern data analytics because they are a flexible and intuitive way of\n",
    "storing and working with data.\n",
    "\n",
    "DataFrames are similar to SQL tables or the spreadsheets that you work with in Excel or Calc. In many cases, DataFrames are faster, \n",
    "easier to use, and more powerful than tables or spreadsheets because they're an integral part of the Python and NumPy ecosystems.\n",
    "\n",
    "It can store data of different types (including characters, integers, floating point values, categorical data and more) in columns.\n",
    "\n",
    "We can perform basic operations on rows/columns like selecting, deleting, adding, and renaming.\n",
    "\n",
    "Column selection - we can either access the columns by calling them by their columns name.\n",
    "\n",
    "Row Selection - DataFrame.loc[] method is used to retrieve rows from Pandas DataFrame. \n",
    "Rows can also be selected by passing integer location to an iloc[] function.\n",
    "\n",
    "We can read and write data to Excel/CSV files.\n",
    "\n",
    "'''"
   ]
  },
  {
   "cell_type": "code",
   "execution_count": 2,
   "metadata": {},
   "outputs": [
    {
     "name": "stdout",
     "output_type": "stream",
     "text": [
      "   0\n",
      "0  A\n",
      "1  B\n",
      "2  C\n",
      "3  D\n",
      "4  E \n",
      "\n",
      "      Name  Age Grade\n",
      "0  Dheeraj   20     A\n",
      "1  Chandan   21     B\n",
      "2    Mohit   14     C\n",
      "3   Ramesh   47     D \n",
      "\n",
      "0    Dheeraj\n",
      "1    Chandan\n",
      "2      Mohit\n",
      "3     Ramesh\n",
      "Name: Name, dtype: object \n",
      "\n",
      "0    20\n",
      "1    21\n",
      "2    14\n",
      "3    47\n",
      "Name: Age, dtype: int64 \n",
      "\n",
      "0    Dheeraj\n",
      "1    Chandan\n",
      "Name: Name, dtype: object \n",
      "\n",
      "0    20\n",
      "1    21\n",
      "2    14\n",
      "3    47\n",
      "Name: Age, dtype: int64 \n",
      "\n",
      "Name     Chandan\n",
      "Age           21\n",
      "Grade          B\n",
      "Name: 1, dtype: object \n",
      "\n"
     ]
    }
   ],
   "source": [
    "'''\n",
    "Pandas DataFrame will be created by loading the datasets from existing storage, storage can be SQL Database, CSV file, and Excel file. \n",
    "Pandas DataFrame can be created from the lists, dictionary, and from a list of dictionary etc.\n",
    "'''\n",
    "# DataFrame can be created using a single list or a list of lists.\n",
    "import pandas as pd\n",
    "l1 = ['A','B','C','D','E']\n",
    "df1 = pd.DataFrame(l1)\n",
    "print(df1,'\\n')\n",
    "\n",
    "# DataFrame from dict of narray/list, all the narray must be of same length. If index is passed then the length index should be equal to the \n",
    "# length of arrays. If no index is passed, then by default,index will be range(n) where n is the array length.\n",
    "import pandas as pd\n",
    "d1 = {'Name':['Dheeraj', 'Chandan', 'Mohit', 'Ramesh'],\n",
    "      'Age':[20, 21, 14, 47],\n",
    "      'Grade':['A','B','C','D']}\n",
    "df2 = pd.DataFrame(d1)\n",
    "print(df2,'\\n')\n",
    "\n",
    "# Column Selection by column name in dataframe and Row selection by .iloc\n",
    "import pandas as pd\n",
    "d1 = {'Name':['Dheeraj', 'Chandan', 'Mohit', 'Ramesh'],\n",
    "      'Age':[20, 21, 14, 47],\n",
    "      'Grade':['A','B','C','D']}\n",
    "Col_data1 = pd.DataFrame(d1)[\"Name\"]\n",
    "Col_data2 = pd.DataFrame(d1)[\"Age\"]\n",
    "print(Col_data1,'\\n')\n",
    "print(Col_data2,'\\n')\n",
    "Row_data1 = pd.DataFrame(d1)[\"Name\"].iloc[0:2:]\n",
    "Row_data2 = pd.DataFrame(d1)[\"Age\"].iloc[0:len(d1[\"Age\"]):]\n",
    "Row_data3 = pd.DataFrame(d1).iloc[1]\n",
    "print(Row_data1,'\\n')\n",
    "print(Row_data2,'\\n')\n",
    "print(Row_data3,'\\n')"
   ]
  },
  {
   "cell_type": "code",
   "execution_count": 3,
   "metadata": {},
   "outputs": [
    {
     "name": "stdout",
     "output_type": "stream",
     "text": [
      "<class 'pandas.core.frame.DataFrame'> \n",
      "          C1        C2        C3        C4        C5\n",
      "A  0.516399  0.570668  0.028474  0.171522  0.685277\n",
      "B  0.833897  0.306966  0.893613  0.721544  0.189939\n",
      "C  0.554228  0.352132  0.181892  0.785602  0.965483\n",
      "D  0.232354  0.083561  0.603548  0.728993  0.276239\n",
      "E  0.685306  0.517867  0.048485  0.137869  0.186967 \n",
      "\n",
      "<class 'pandas.core.series.Series'> \n",
      " A    0.516399\n",
      "B    0.833897\n",
      "C    0.554228\n",
      "D    0.232354\n",
      "E    0.685306\n",
      "Name: C1, dtype: float64 \n",
      "\n",
      "         C1        C3\n",
      "A  0.516399  0.028474\n",
      "B  0.833897  0.893613\n",
      "C  0.554228  0.181892\n",
      "D  0.232354  0.603548\n",
      "E  0.685306  0.048485 \n",
      "\n",
      "         C1        C2        C3        C4        C5\n",
      "A  0.516399  0.570668  0.028474  0.171522  0.685277\n",
      "B  0.833897  0.306966  0.893613  0.721544  0.189939\n",
      "C  0.554228  0.352132  0.181892  0.785602  0.965483\n",
      "D  0.232354  0.083561  0.603548  0.728993  0.276239\n",
      "E  0.685306  0.517867  0.048485  0.137869  0.186967 \n",
      "\n",
      "            A         B         C         D         E\n",
      "C1  0.516399  0.833897  0.554228  0.232354  0.685306\n",
      "C2  0.570668  0.306966  0.352132  0.083561  0.517867\n",
      "C3  0.028474  0.893613  0.181892  0.603548  0.048485\n",
      "C4  0.171522  0.721544  0.785602  0.728993  0.137869\n",
      "C5  0.685277  0.189939  0.965483  0.276239  0.186967\n",
      "         C1        C2        C3        C4        C5     C1+C2\n",
      "A  0.516399  0.570668  0.028474  0.171522  0.685277  1.087066\n",
      "B  0.833897  0.306966  0.893613  0.721544  0.189939  1.140863\n",
      "C  0.554228  0.352132  0.181892  0.785602  0.965483  0.906360\n",
      "D  0.232354  0.083561  0.603548  0.728993  0.276239  0.315915\n",
      "E  0.685306  0.517867  0.048485  0.137869  0.186967  1.203174 \n",
      "\n",
      "         C1        C2        C3        C4        C5       C1+C2\n",
      "0  0.516399  0.570668  0.028474  0.171522  0.685277    1.087066\n",
      "1  0.833897  0.306966  0.893613  0.721544  0.189939    1.140863\n",
      "2  0.554228  0.352132  0.181892  0.785602  0.965483    0.906360\n",
      "3  0.232354  0.083561  0.603548  0.728993  0.276239    0.315915\n",
      "4  0.685306  0.517867  0.048485  0.137869  0.186967    1.203174\n",
      "5  1.000000  2.000000  3.000000  4.000000  5.000000  100.000000 \n",
      "\n",
      "         C1        C2        C3        C4        C5\n",
      "0  0.516399  0.570668  0.028474  0.171522  0.685277\n",
      "1  0.833897  0.306966  0.893613  0.721544  0.189939\n",
      "2  0.554228  0.352132  0.181892  0.785602  0.965483\n",
      "3  0.232354  0.083561  0.603548  0.728993  0.276239\n",
      "4  0.685306  0.517867  0.048485  0.137869  0.186967\n",
      "5  1.000000  2.000000  3.000000  4.000000  5.000000\n",
      "         C1        C2        C3        C4        C5\n",
      "0  0.516399  0.570668  0.028474  0.171522  0.685277\n",
      "1  0.833897  0.306966  0.893613  0.721544  0.189939\n",
      "2  0.554228  0.352132  0.181892  0.785602  0.965483\n",
      "4  0.685306  0.517867  0.048485  0.137869  0.186967\n",
      "5  1.000000  2.000000  3.000000  4.000000  5.000000 \n",
      "\n"
     ]
    },
    {
     "name": "stderr",
     "output_type": "stream",
     "text": [
      "C:\\Users\\KIIT\\AppData\\Local\\Temp\\ipykernel_7428\\335781685.py:18: FutureWarning: The frame.append method is deprecated and will be removed from pandas in a future version. Use pandas.concat instead.\n",
      "  df3=df3.append(newRow,ignore_index = True)\n"
     ]
    }
   ],
   "source": [
    "import numpy as np\n",
    "import pandas as pd\n",
    "from numpy.random import rand\n",
    "np.random.seed(101) # To generate random numbers. function provides an input for the pseudo-random number generator in Python. \n",
    "                    # The value inside the seed function is the input value that we will use to seed the pseudo random generator.\n",
    "df3=pd.DataFrame(rand(5,5),['A','B','C','D','E'],['C1','C2','C3','C4','C5'])\n",
    "print(type(df3),'\\n',df3,'\\n')\n",
    "print(type(df3['C1']),'\\n',df3['C1'],'\\n')\n",
    "print(df3[['C1','C3']],'\\n') # To get data from multiple columns and show as data frame.\n",
    "print(df3,'\\n\\n',df3.T)\n",
    "\n",
    "# To add new column to a DataFrame then\n",
    "df3['C1+C2']=df3['C1']+df3['C2']\n",
    "print(df3,'\\n')\n",
    "\n",
    "# To add new row to a DataFrame then\n",
    "newRow = {'C1':1,'C2':2,'C3':3,'C4':4,'C5':5,'C1+C2':100}\n",
    "df3=df3.append(newRow,ignore_index = True)\n",
    "print(df3,'\\n')\n",
    "\n",
    "# Again to Drop a newly added column\n",
    "df3.drop('C1+C2',axis=1,inplace=True) # Inplace is to temporary remaval of column\n",
    "print(df3)\n",
    "\n",
    "# To Drop a row\n",
    "df3.drop(index=3,axis=0,inplace=True)\n",
    "print(df3,'\\n')"
   ]
  },
  {
   "cell_type": "code",
   "execution_count": 7,
   "metadata": {},
   "outputs": [
    {
     "name": "stdout",
     "output_type": "stream",
     "text": [
      "         C1        C2        C3        C4        C5\n",
      "A  0.705818  0.039727  0.164970  0.087630  0.860533\n",
      "B  0.845060  0.775996  0.784676  0.635910  0.291824\n",
      "C  0.493769  0.692839  0.775924  0.461856  0.453055\n",
      "D  0.815702  0.886015  0.078115  0.076679  0.664657\n",
      "E  0.395280  0.361584  0.894768  0.040199  0.764183 \n",
      "\n",
      "         C2        C3        C4\n",
      "C  0.692839  0.775924  0.461856\n",
      "D  0.886015  0.078115  0.076679\n",
      "E  0.361584  0.894768  0.040199\n"
     ]
    }
   ],
   "source": [
    "import numpy as np\n",
    "import pandas as pd\n",
    "from numpy.random import rand\n",
    "df3=pd.DataFrame(rand(5,5),['A','B','C','D','E'],['C1','C2','C3','C4','C5'])\n",
    "print(df3,'\\n')\n",
    "df3.drop('E',axis=0,inplace=True)\n",
    "print(df3,'\\n')\n",
    "print(df3.shape,'\\n')\n",
    "df3.drop('C5',axis=1,inplace=True)\n",
    "print(df3,'\\n')\n",
    "print(df3.shape,'\\n')\n",
    "print(df3)\n",
    "print(df3.loc['B'])\n",
    "print(df3.loc[['B','C'],['C2','C3']])\n",
    "print(df3.loc['B','C1'])\n",
    "print(df3.iloc[1:2:])\n",
    "print(df3.iloc[1])\n",
    "print(df3.iloc[2:len(df3),1:4])"
   ]
  },
  {
   "cell_type": "code",
   "execution_count": null,
   "metadata": {},
   "outputs": [],
   "source": []
  },
  {
   "cell_type": "code",
   "execution_count": 5,
   "metadata": {},
   "outputs": [],
   "source": [
    "#df3.T.'A'\n",
    "#df3.'2'"
   ]
  }
 ],
 "metadata": {
  "kernelspec": {
   "display_name": "base",
   "language": "python",
   "name": "python3"
  },
  "language_info": {
   "codemirror_mode": {
    "name": "ipython",
    "version": 3
   },
   "file_extension": ".py",
   "mimetype": "text/x-python",
   "name": "python",
   "nbconvert_exporter": "python",
   "pygments_lexer": "ipython3",
   "version": "3.11.4"
  }
 },
 "nbformat": 4,
 "nbformat_minor": 2
}
