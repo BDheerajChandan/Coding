{
 "cells": [
  {
   "cell_type": "markdown",
   "metadata": {},
   "source": [
    "# Pandas Series"
   ]
  },
  {
   "cell_type": "code",
   "execution_count": 1,
   "metadata": {},
   "outputs": [
    {
     "name": "stdout",
     "output_type": "stream",
     "text": [
      "0    1\n",
      "1    7\n",
      "2    2\n",
      "dtype: int64\n",
      "x    1\n",
      "y    7\n",
      "z    2\n",
      "dtype: int64\n",
      "7\n",
      "7\n"
     ]
    }
   ],
   "source": [
    "# Pandas Series\n",
    "'''\n",
    "A Pandas Series is like a column in a table. It is a one-dimensional array holding data of any type.\n",
    "Pandas Series is a one-dimensional labeled array capable of holding data of any type (integer, string, float, python objects, etc.).\n",
    "If nothing else is specified, the values are labeled with their index number.\n",
    "This label can be used to access a specified value.\n",
    "With the index argument, you can name your own labels.When you have created labels, you can access an item by referring to the label.\n",
    "'''\n",
    "import pandas as pd\n",
    "a = [1, 7, 2]\n",
    "val1 = pd.Series(a)\n",
    "print(val1)\n",
    "val2 = pd.Series(a, index = [\"x\", \"y\", \"z\"])\n",
    "print(val2)\n",
    "print(val2[1])\n",
    "print(val2[\"y\"])"
   ]
  },
  {
   "cell_type": "code",
   "execution_count": 2,
   "metadata": {},
   "outputs": [
    {
     "name": "stdout",
     "output_type": "stream",
     "text": [
      "a    10\n",
      "b    20\n",
      "c    30\n",
      "dtype: int64\n",
      "20\n",
      "x    100\n",
      "y    200\n",
      "dtype: int64\n",
      "200\n",
      "100\n"
     ]
    }
   ],
   "source": [
    "'''\n",
    "You can also use a key/value object, like a dictionary, when creating a Series.\n",
    "'''\n",
    "import pandas as pd\n",
    "d1 = {\"a\": 10, \"b\": 20, \"c\": 30}\n",
    "val3 = pd.Series(d1)\n",
    "print(val3)\n",
    "print(val3[1])\n",
    "d2 = {\"x\": 100, \"y\": 200, \"z\": 300}\n",
    "val4 = pd.Series(d2, index = [\"x\", \"y\"])\n",
    "print(val4)\n",
    "print(val4[1])\n",
    "print(val4[\"x\"])"
   ]
  },
  {
   "cell_type": "code",
   "execution_count": 3,
   "metadata": {},
   "outputs": [
    {
     "name": "stdout",
     "output_type": "stream",
     "text": [
      "0    10\n",
      "1    20\n",
      "2    30\n",
      "dtype: int64 \n",
      "\n",
      "a    10\n",
      "b    20\n",
      "c    30\n",
      "dtype: int64 \n",
      "\n",
      "a    10\n",
      "b    20\n",
      "c    30\n",
      "dtype: int64 \n",
      "\n",
      "a    10\n",
      "b    20\n",
      "c    30\n",
      "dtype: int32 \n",
      "\n",
      "{'a': 10, 'b': 20, 'c': 30} \n",
      "\n",
      "a    10\n",
      "b    20\n",
      "c    30\n",
      "dtype: int64 \n",
      "\n",
      "0    10\n",
      "1    20\n",
      "2    30\n",
      "dtype: int32 \n",
      "\n",
      "0    10\n",
      "1    20\n",
      "2    30\n",
      "dtype: int64 \n",
      "\n",
      "0      <built-in function sum>\n",
      "1    <built-in function print>\n",
      "2      <built-in function len>\n",
      "dtype: object \n",
      "\n",
      "['a', 'b', 'c']\n",
      "0    a\n",
      "1    b\n",
      "2    c\n",
      "dtype: object \n",
      "\n",
      "0    a\n",
      "1    b\n",
      "2    c\n",
      "dtype: object \n",
      "\n",
      "a\n"
     ]
    }
   ],
   "source": [
    "import numpy as np\n",
    "import pandas as pd\n",
    "l1=['a','b','c']\n",
    "l2=[10,20,30]\n",
    "arr1=np.array(l2)\n",
    "d1={'a':10,'b':20,'c':30}\n",
    "print(pd.Series(data=l2),'\\n')\n",
    "print(pd.Series(data=l2,index=l1),'\\n')\n",
    "print(pd.Series(l2,l1),'\\n')\n",
    "print(pd.Series(arr1,l1),'\\n')\n",
    "print(d1,'\\n')\n",
    "print(pd.Series(d1),'\\n')\n",
    "print(pd.Series(arr1),'\\n')\n",
    "print(pd.Series(data=l2),'\\n')\n",
    "print(pd.Series(data=[sum,print,len]),'\\n')\n",
    "print(l1)\n",
    "print(pd.Series(data=l1),'\\n')\n",
    "print(pd.Series(l1),'\\n')\n",
    "print(pd.Series(data=l1)[0])"
   ]
  },
  {
   "cell_type": "code",
   "execution_count": 4,
   "metadata": {},
   "outputs": [
    {
     "name": "stdout",
     "output_type": "stream",
     "text": [
      "a    1\n",
      "b    2\n",
      "c    3\n",
      "s    4\n",
      "dtype: int64 \n",
      "\n",
      "p    1\n",
      "b    2\n",
      "c    5\n",
      "s    4\n",
      "dtype: int64 \n",
      "\n",
      "2\n",
      "3\n",
      "a    NaN\n",
      "b    4.0\n",
      "c    8.0\n",
      "p    NaN\n",
      "s    8.0\n",
      "dtype: float64\n",
      "1\n",
      "a\n",
      "1\n",
      "2\n",
      "1\n",
      "2\n",
      "a    1\n",
      "b    2\n",
      "dtype: int64\n",
      "1\n",
      "2\n",
      "1\n",
      "2\n"
     ]
    }
   ],
   "source": [
    "import pandas as pd\n",
    "s1=pd.Series([1,2,3,4],['a','b','c','s'])\n",
    "print(s1,'\\n')\n",
    "s2=pd.Series([1,2,5,4],['p','b','c','s'])\n",
    "print(s2,'\\n')\n",
    "print(s1['b'])\n",
    "print(s1[2])\n",
    "print(s1+s2)\n",
    "s3=pd.Series([1,2,'a','b'])\n",
    "print(s3[0])\n",
    "print(s3[2])\n",
    "s4=pd.Series([1,2],['a','b'])\n",
    "print(s4[0])\n",
    "print(s4[1])\n",
    "print(s4['a'])\n",
    "print(s4['b'])\n",
    "s5=pd.Series(data=[1,2],index=['a','b'])\n",
    "print(s5)\n",
    "print(s5[0])\n",
    "print(s5[1])\n",
    "print(s5['a'])\n",
    "print(s5['b'])"
   ]
  },
  {
   "cell_type": "code",
   "execution_count": 5,
   "metadata": {},
   "outputs": [
    {
     "name": "stdout",
     "output_type": "stream",
     "text": [
      "a     2.0\n",
      "b     NaN\n",
      "c     6.0\n",
      "d     NaN\n",
      "e    10.0\n",
      "x     NaN\n",
      "y     NaN\n",
      "dtype: float64\n"
     ]
    }
   ],
   "source": [
    "import pandas as pd\n",
    "data1=pd.Series([1,2,3,4,5],['a','b','c','d','e'])\n",
    "data2=pd.Series(data=[1,20,3,40,5],index=['a','x','c','y','e'])\n",
    "print(data1+data2)"
   ]
  }
 ],
 "metadata": {
  "kernelspec": {
   "display_name": "base",
   "language": "python",
   "name": "python3"
  },
  "language_info": {
   "codemirror_mode": {
    "name": "ipython",
    "version": 3
   },
   "file_extension": ".py",
   "mimetype": "text/x-python",
   "name": "python",
   "nbconvert_exporter": "python",
   "pygments_lexer": "ipython3",
   "version": "3.11.4"
  }
 },
 "nbformat": 4,
 "nbformat_minor": 2
}
