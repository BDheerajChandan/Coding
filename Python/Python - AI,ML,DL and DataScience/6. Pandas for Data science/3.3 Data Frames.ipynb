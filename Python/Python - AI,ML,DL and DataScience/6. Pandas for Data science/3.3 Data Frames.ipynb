{
 "cells": [
  {
   "cell_type": "code",
   "execution_count": 43,
   "metadata": {},
   "outputs": [
    {
     "data": {
      "text/plain": [
       "'\\nMulti-index allows you to select more than one row and column in your index. It is a multi-level or hierarchical object for pandas object. \\nRows and columns both have indexes, rows indices are called index and for columns\\nHierarchical Indexes are also known as multi-indexing is setting more than one column name as the index.\\nHierarchical indexing is a method of creating structured group relationships in data. These hierarchical indexes, or MultiIndexes, are highly flexible and offer a range of options when performing complex data queries.\\n'"
      ]
     },
     "execution_count": 43,
     "metadata": {},
     "output_type": "execute_result"
    }
   ],
   "source": [
    "# Multi index and index hierarchy\n",
    "'''\n",
    "Multi-index allows you to select more than one row and column in your index. It is a multi-level or hierarchical object for pandas object. \n",
    "Rows and columns both have indexes, rows indices are called index and for columns\n",
    "Hierarchical Indexes are also known as multi-indexing is setting more than one column name as the index.\n",
    "Hierarchical indexing is a method of creating structured group relationships in data. These hierarchical indexes, or MultiIndexes, are \n",
    "highly flexible and offer a range of options when performing complex data queries.\n",
    "'''"
   ]
  },
  {
   "cell_type": "code",
   "execution_count": 44,
   "metadata": {},
   "outputs": [
    {
     "name": "stdout",
     "output_type": "stream",
     "text": [
      "['G1', 'G1', 'G1', 'G2', 'G2', 'G2'] \n",
      "\n",
      "[1, 2, 3, 1, 2, 3] \n",
      "\n",
      "[('G1', 1), ('G1', 2), ('G1', 3), ('G2', 1), ('G2', 2), ('G2', 3)] \n",
      "\n",
      "MultiIndex([('G1', 1),\n",
      "            ('G1', 2),\n",
      "            ('G1', 3),\n",
      "            ('G2', 1),\n",
      "            ('G2', 2),\n",
      "            ('G2', 3)],\n",
      "           ) \n",
      "\n"
     ]
    }
   ],
   "source": [
    "import numpy as np\n",
    "import pandas as pd\n",
    "outside=['G1','G1','G1','G2','G2','G2']\n",
    "print(outside,'\\n')\n",
    "inside=[1,2,3,1,2,3]\n",
    "print(inside,'\\n')\n",
    "hier_index=list(zip(outside,inside))\n",
    "print(hier_index,'\\n')\n",
    "'''\n",
    "Multi-index allows you to select more than one row and column in your index. It is a multi-level or hierarchical object for pandas object. \n",
    "Pandas MultiIndex.from_tuples() function is used to convert list of tuples to MultiIndex.\n",
    "'''\n",
    "hier_index=pd.MultiIndex.from_tuples(hier_index)\n",
    "print(hier_index,'\\n')"
   ]
  },
  {
   "cell_type": "code",
   "execution_count": 45,
   "metadata": {},
   "outputs": [
    {
     "name": "stdout",
     "output_type": "stream",
     "text": [
      "             A         B\n",
      "G1 1  0.393869  0.039203\n",
      "   2  0.214221  0.336235\n",
      "   3  0.020603  0.223982\n",
      "G2 1  0.460929  0.270436\n",
      "   2  0.674114  0.369469\n",
      "   3  0.999631  0.150760 \n",
      "\n",
      "          A         B\n",
      "1  0.393869  0.039203\n",
      "2  0.214221  0.336235\n",
      "3  0.020603  0.223982 \n",
      "\n",
      "A    0.214221\n",
      "B    0.336235\n",
      "Name: 2, dtype: float64 \n",
      "\n",
      "0.3362348027236436 \n",
      "\n",
      "A    0.214221\n",
      "B    0.336235\n",
      "Name: (G1, 2), dtype: float64 \n",
      "\n",
      "0.3362348027236436 \n",
      "\n"
     ]
    }
   ],
   "source": [
    "from numpy.random import rand\n",
    "import pandas as pd\n",
    "df1=pd.DataFrame(rand(6,2),hier_index,['A','B']) # Multi level of index\n",
    "print(df1,'\\n')\n",
    "print(df1.loc['G1'],'\\n')\n",
    "print(df1.loc['G1'].loc[2],'\\n')\n",
    "print(df1.loc['G1'].loc[2].loc['B'],'\\n')\n",
    "print(df1.iloc[1],'\\n')\n",
    "print(df1.iloc[1].iloc[1],'\\n')"
   ]
  },
  {
   "cell_type": "code",
   "execution_count": 46,
   "metadata": {},
   "outputs": [
    {
     "name": "stdout",
     "output_type": "stream",
     "text": [
      "             A         B\n",
      "G1 1  0.393869  0.039203\n",
      "   2  0.214221  0.336235\n",
      "   3  0.020603  0.223982\n",
      "G2 1  0.460929  0.270436\n",
      "   2  0.674114  0.369469\n",
      "   3  0.999631  0.150760 \n",
      "\n",
      "[None, None] \n",
      "\n",
      "['Groups', 'Num'] \n",
      "\n",
      "                   A         B\n",
      "Groups Num                    \n",
      "G1     1    0.393869  0.039203\n",
      "       2    0.214221  0.336235\n",
      "       3    0.020603  0.223982\n",
      "G2     1    0.460929  0.270436\n",
      "       2    0.674114  0.369469\n",
      "       3    0.999631  0.150760 \n",
      "\n",
      "            A         B\n",
      "Num                    \n",
      "1    0.460929  0.270436\n",
      "2    0.674114  0.369469\n",
      "3    0.999631  0.150760 \n",
      "\n",
      "A    0.674114\n",
      "B    0.369469\n",
      "Name: 2, dtype: float64 \n",
      "\n",
      "0.36946854246056005 \n",
      "\n"
     ]
    }
   ],
   "source": [
    "print(df1,'\\n')\n",
    "print(df1.index.names,'\\n')\n",
    "df1.index.names=['Groups','Num']\n",
    "print(df1.index.names,'\\n')\n",
    "print(df1,'\\n')\n",
    "print(df1.loc['G2'],'\\n')\n",
    "print(df1.loc['G2'].loc[2],'\\n')\n",
    "print(df1.loc['G2'].loc[2]['B'],'\\n')"
   ]
  },
  {
   "cell_type": "code",
   "execution_count": 47,
   "metadata": {},
   "outputs": [
    {
     "name": "stdout",
     "output_type": "stream",
     "text": [
      "                   A         B\n",
      "Groups Num                    \n",
      "G1     1    0.393869  0.039203\n",
      "       2    0.214221  0.336235\n",
      "       3    0.020603  0.223982\n",
      "G2     1    0.460929  0.270436\n",
      "       2    0.674114  0.369469\n",
      "       3    0.999631  0.150760 \n",
      "\n",
      "<bound method NDFrame.xs of                    A         B\n",
      "Groups Num                    \n",
      "G1     1    0.393869  0.039203\n",
      "       2    0.214221  0.336235\n",
      "       3    0.020603  0.223982\n",
      "G2     1    0.460929  0.270436\n",
      "       2    0.674114  0.369469\n",
      "       3    0.999631  0.150760> \n",
      "\n",
      "            A         B\n",
      "Num                    \n",
      "1    0.393869  0.039203\n",
      "2    0.214221  0.336235\n",
      "3    0.020603  0.223982 \n",
      "\n",
      "            A         B\n",
      "Num                    \n",
      "1    0.393869  0.039203\n",
      "2    0.214221  0.336235\n",
      "3    0.020603  0.223982 \n",
      "\n",
      "               A         B\n",
      "Groups                    \n",
      "G1      0.393869  0.039203\n",
      "G2      0.460929  0.270436 \n",
      "\n",
      "            A         B\n",
      "Num                    \n",
      "1    0.393869  0.039203\n",
      "2    0.214221  0.336235\n",
      "3    0.020603  0.223982 \n",
      "\n"
     ]
    }
   ],
   "source": [
    "# cross section \n",
    "# The xs() method returns a specified section of the DataFrame.Returns a cross-section (row(s) or column(s)) from the Series/DataFrame. \n",
    "print(df1,'\\n')\n",
    "print(df1.xs,'\\n')\n",
    "print(df1.loc['G1'],'\\n')\n",
    "print(df1.xs('G1'),'\\n')\n",
    "print(df1.xs(1,level='Num'),'\\n')\n",
    "print(df1.xs('G1',level='Groups'),'\\n')"
   ]
  }
 ],
 "metadata": {
  "kernelspec": {
   "display_name": "base",
   "language": "python",
   "name": "python3"
  },
  "language_info": {
   "codemirror_mode": {
    "name": "ipython",
    "version": 3
   },
   "file_extension": ".py",
   "mimetype": "text/x-python",
   "name": "python",
   "nbconvert_exporter": "python",
   "pygments_lexer": "ipython3",
   "version": "3.11.4"
  }
 },
 "nbformat": 4,
 "nbformat_minor": 2
}
