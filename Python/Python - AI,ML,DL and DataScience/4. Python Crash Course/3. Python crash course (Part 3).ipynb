{
 "cells": [
  {
   "cell_type": "code",
   "execution_count": 1,
   "id": "0026382b",
   "metadata": {},
   "outputs": [
    {
     "name": "stdout",
     "output_type": "stream",
     "text": [
      "D,h,e,e,r,a,j,\n",
      " ****************************************************************************************************\n",
      "1,2,3,\n",
      " ****************************************************************************************************\n",
      "0,1,2,3,4,5,6,7,8,9,\n",
      " ****************************************************************************************************\n"
     ]
    }
   ],
   "source": [
    "for i in \"Dheeraj\":\n",
    "    print(i,end=',')\n",
    "print(\"\\n\",\"*\"*100)\n",
    "l=[1,2,3]\n",
    "for i in l:\n",
    "    print(i,end=',')\n",
    "print(\"\\n\",\"*\"*100)\n",
    "for i in range(10):\n",
    "    print(i,end=',')\n",
    "print(\"\\n\",\"*\"*100)"
   ]
  },
  {
   "cell_type": "code",
   "execution_count": 2,
   "id": "5917b951",
   "metadata": {},
   "outputs": [
    {
     "name": "stdout",
     "output_type": "stream",
     "text": [
      "[0, 1, 2, 3, 4, 5, 6, 7, 8, 9]\n"
     ]
    }
   ],
   "source": [
    "l2=[i for i in range(10)]\n",
    "print(l2)"
   ]
  },
  {
   "cell_type": "code",
   "execution_count": 1,
   "id": "a26093ee",
   "metadata": {},
   "outputs": [
    {
     "name": "stdout",
     "output_type": "stream",
     "text": [
      "[True, False, True, False, True]\n"
     ]
    }
   ],
   "source": [
    "l2=[i%2==0 for i in range(5)]\n",
    "print(l2)"
   ]
  },
  {
   "cell_type": "code",
   "execution_count": 2,
   "id": "cce8e551",
   "metadata": {},
   "outputs": [
    {
     "name": "stdout",
     "output_type": "stream",
     "text": [
      "0 1 2 3 4 5 6 7 8 9 10 "
     ]
    }
   ],
   "source": [
    "i=0\n",
    "while(i<=10):\n",
    "    print(i,end=' ')\n",
    "    i=i+1"
   ]
  },
  {
   "cell_type": "code",
   "execution_count": 7,
   "id": "1e9e096b",
   "metadata": {},
   "outputs": [
    {
     "name": "stdout",
     "output_type": "stream",
     "text": [
      "0 2 4 6 8 "
     ]
    }
   ],
   "source": [
    "for i in range(10):\n",
    "    if i%2==0:\n",
    "        print(i,end=' ')\n",
    "    else:\n",
    "        pass"
   ]
  },
  {
   "cell_type": "code",
   "execution_count": 13,
   "id": "f22c44c6",
   "metadata": {},
   "outputs": [
    {
     "name": "stdout",
     "output_type": "stream",
     "text": [
      "[0, 1, 2, 3, 4]\n",
      "[0, 1, 2, 3, 4]\n"
     ]
    }
   ],
   "source": [
    "# without List comprehension\n",
    "a1=[]\n",
    "for i in range(5):\n",
    "    a1.append(i)\n",
    "print(a1)\n",
    "\n",
    "# with List comprehension\n",
    "a2=[i for i in range(5)]\n",
    "print(a2)"
   ]
  },
  {
   "cell_type": "code",
   "execution_count": 15,
   "id": "85f8f5d1",
   "metadata": {},
   "outputs": [
    {
     "name": "stdout",
     "output_type": "stream",
     "text": [
      "hi\n"
     ]
    }
   ],
   "source": [
    "def f1():\n",
    "    return \"hi\"\n",
    "print(f1())"
   ]
  },
  {
   "cell_type": "code",
   "execution_count": 18,
   "id": "36c8e16e",
   "metadata": {},
   "outputs": [
    {
     "name": "stdout",
     "output_type": "stream",
     "text": [
      "100\n"
     ]
    }
   ],
   "source": [
    "def f2():\n",
    "    print(100)\n",
    "f2()"
   ]
  },
  {
   "cell_type": "code",
   "execution_count": 29,
   "id": "ea4749b1",
   "metadata": {},
   "outputs": [
    {
     "name": "stdout",
     "output_type": "stream",
     "text": [
      "20\n"
     ]
    }
   ],
   "source": [
    "def f3(n1):\n",
    "    return n1*2\n",
    "res=f3(10)\n",
    "print(res)"
   ]
  },
  {
   "cell_type": "code",
   "execution_count": 30,
   "id": "8a8c341b",
   "metadata": {},
   "outputs": [
    {
     "name": "stdout",
     "output_type": "stream",
     "text": [
      "2 to the power of 10 : 1024\n"
     ]
    }
   ],
   "source": [
    "def f4(b):\n",
    "    return f\"{b} to the power of 10 : {b**10}\"\n",
    "print(f4(2))"
   ]
  },
  {
   "cell_type": "code",
   "execution_count": 31,
   "id": "18b9f5b8",
   "metadata": {},
   "outputs": [
    {
     "name": "stdout",
     "output_type": "stream",
     "text": [
      "Dheeraj\n"
     ]
    }
   ],
   "source": [
    "def f5(name=\"\"):\n",
    "    return name\n",
    "print(f5(\"Dheeraj\"))\n",
    "#f5()"
   ]
  },
  {
   "cell_type": "code",
   "execution_count": 32,
   "id": "3633f662",
   "metadata": {},
   "outputs": [
    {
     "data": {
      "text/plain": [
       "'  '"
      ]
     },
     "execution_count": 32,
     "metadata": {},
     "output_type": "execute_result"
    }
   ],
   "source": [
    "# - >Used for Single line comment\n",
    "'''  ''' # It is used for multiline comment"
   ]
  },
  {
   "cell_type": "code",
   "execution_count": 34,
   "id": "a2808f2d",
   "metadata": {},
   "outputs": [],
   "source": [
    "# Shift + tab on cell we will get signature of the function and can get documentaion."
   ]
  },
  {
   "cell_type": "code",
   "execution_count": null,
   "id": "8898bbdf",
   "metadata": {},
   "outputs": [],
   "source": []
  }
 ],
 "metadata": {
  "kernelspec": {
   "display_name": "Python 3 (ipykernel)",
   "language": "python",
   "name": "python3"
  },
  "language_info": {
   "codemirror_mode": {
    "name": "ipython",
    "version": 3
   },
   "file_extension": ".py",
   "mimetype": "text/x-python",
   "name": "python",
   "nbconvert_exporter": "python",
   "pygments_lexer": "ipython3",
   "version": "3.11.4"
  }
 },
 "nbformat": 4,
 "nbformat_minor": 5
}
