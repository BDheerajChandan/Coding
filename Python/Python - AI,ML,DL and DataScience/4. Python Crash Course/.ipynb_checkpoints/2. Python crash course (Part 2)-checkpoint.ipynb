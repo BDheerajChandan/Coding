{
 "cells": [
  {
   "cell_type": "code",
   "execution_count": 1,
   "id": "509cb055",
   "metadata": {},
   "outputs": [
    {
     "name": "stdout",
     "output_type": "stream",
     "text": [
      "{'a': 1, 'b': 'Hi', 'c': [10, 20, 30]}\n"
     ]
    }
   ],
   "source": [
    "d={'a':1,'b':\"Hi\",'c':[10,20,30]}\n",
    "print(d)"
   ]
  },
  {
   "cell_type": "code",
   "execution_count": 11,
   "id": "6621fbfd",
   "metadata": {},
   "outputs": [
    {
     "name": "stdout",
     "output_type": "stream",
     "text": [
      "1 20\n"
     ]
    }
   ],
   "source": [
    "print(d['a'],d['c'][1])"
   ]
  },
  {
   "cell_type": "code",
   "execution_count": 8,
   "id": "d41be1db",
   "metadata": {},
   "outputs": [
    {
     "name": "stdout",
     "output_type": "stream",
     "text": [
      "dict_items([('a', 1), ('b', 'Hi'), ('c', [10, 20, 30])])\n",
      "dict_keys(['a', 'b', 'c'])\n",
      "dict_values([1, 'Hi', [10, 20, 30]])\n"
     ]
    }
   ],
   "source": [
    "print(d.items())\n",
    "print(d.keys())\n",
    "print(d.values())"
   ]
  },
  {
   "cell_type": "code",
   "execution_count": 12,
   "id": "989c6f55",
   "metadata": {},
   "outputs": [
    {
     "name": "stdout",
     "output_type": "stream",
     "text": [
      "{'a': 1, 'b': 'Hi', 'c': [10, 20, 30], 'd': 4, 'e': {'e1': 10, 'e2': 20}}\n"
     ]
    }
   ],
   "source": [
    "d.update({\"d\":4,\"e\":{'e1':10,\"e2\":20}})\n",
    "print(d)"
   ]
  },
  {
   "cell_type": "code",
   "execution_count": 13,
   "id": "d78edfc7",
   "metadata": {},
   "outputs": [
    {
     "data": {
      "text/plain": [
       "True"
      ]
     },
     "execution_count": 13,
     "metadata": {},
     "output_type": "execute_result"
    }
   ],
   "source": [
    "True"
   ]
  },
  {
   "cell_type": "code",
   "execution_count": 14,
   "id": "c7c7bdb3",
   "metadata": {},
   "outputs": [
    {
     "data": {
      "text/plain": [
       "False"
      ]
     },
     "execution_count": 14,
     "metadata": {},
     "output_type": "execute_result"
    }
   ],
   "source": [
    "False"
   ]
  },
  {
   "cell_type": "code",
   "execution_count": 20,
   "id": "1e04f776",
   "metadata": {},
   "outputs": [
    {
     "name": "stdout",
     "output_type": "stream",
     "text": [
      "<class 'list'> \n",
      " 2\n"
     ]
    }
   ],
   "source": [
    "l1=[1,2,3]  \n",
    "print(type(l1),'\\n',l1[1])"
   ]
  },
  {
   "cell_type": "code",
   "execution_count": 21,
   "id": "b32a724e",
   "metadata": {},
   "outputs": [
    {
     "name": "stdout",
     "output_type": "stream",
     "text": [
      "<class 'tuple'> \n",
      " 2\n"
     ]
    }
   ],
   "source": [
    "t1=(1,2,3) \n",
    "print(type(t1),'\\n',t1[1])"
   ]
  },
  {
   "cell_type": "code",
   "execution_count": 24,
   "id": "15ff29b6",
   "metadata": {},
   "outputs": [
    {
     "name": "stdout",
     "output_type": "stream",
     "text": [
      "[1, 20, 3]\n",
      "(1, 2, 3)\n"
     ]
    }
   ],
   "source": [
    "# Tuples are immutable whereas Lists are mutable\n",
    "l1[1]=20\n",
    "print(l1)\n",
    "#t1[1]=20\n",
    "print(t1)"
   ]
  },
  {
   "cell_type": "code",
   "execution_count": 39,
   "id": "4a6d0ddb",
   "metadata": {},
   "outputs": [
    {
     "name": "stdout",
     "output_type": "stream",
     "text": [
      "<class 'set'> \n",
      " {1, 2, 3, 4, 5}\n",
      "{1, 2, 3, 4, 5, 6}\n"
     ]
    }
   ],
   "source": [
    "#Sets are collection of unique elements\n",
    "s1={1,2,3,3,2,5,2,3,5,1,2,5,4}\n",
    "print(type(s1),'\\n',s1)\n",
    "s1.add(6)\n",
    "print(s1)"
   ]
  },
  {
   "cell_type": "code",
   "execution_count": 53,
   "id": "eed1308a",
   "metadata": {},
   "outputs": [
    {
     "data": {
      "text/plain": [
       "False"
      ]
     },
     "execution_count": 53,
     "metadata": {},
     "output_type": "execute_result"
    }
   ],
   "source": [
    "1>2"
   ]
  },
  {
   "cell_type": "code",
   "execution_count": 54,
   "id": "905b6010",
   "metadata": {},
   "outputs": [
    {
     "data": {
      "text/plain": [
       "True"
      ]
     },
     "execution_count": 54,
     "metadata": {},
     "output_type": "execute_result"
    }
   ],
   "source": [
    "1<2"
   ]
  },
  {
   "cell_type": "code",
   "execution_count": 55,
   "id": "487c5f54",
   "metadata": {},
   "outputs": [
    {
     "data": {
      "text/plain": [
       "True"
      ]
     },
     "execution_count": 55,
     "metadata": {},
     "output_type": "execute_result"
    }
   ],
   "source": [
    "(1>2) or (1<2)"
   ]
  },
  {
   "cell_type": "code",
   "execution_count": 56,
   "id": "bb85111e",
   "metadata": {},
   "outputs": [
    {
     "data": {
      "text/plain": [
       "False"
      ]
     },
     "execution_count": 56,
     "metadata": {},
     "output_type": "execute_result"
    }
   ],
   "source": [
    "(1>2) and (1<2)"
   ]
  },
  {
   "cell_type": "code",
   "execution_count": 57,
   "id": "4391dde9",
   "metadata": {},
   "outputs": [
    {
     "data": {
      "text/plain": [
       "True"
      ]
     },
     "execution_count": 57,
     "metadata": {},
     "output_type": "execute_result"
    }
   ],
   "source": [
    "0!=(1<2)"
   ]
  },
  {
   "cell_type": "code",
   "execution_count": 58,
   "id": "4d1d053a",
   "metadata": {},
   "outputs": [
    {
     "data": {
      "text/plain": [
       "True"
      ]
     },
     "execution_count": 58,
     "metadata": {},
     "output_type": "execute_result"
    }
   ],
   "source": [
    "False!=1<2"
   ]
  },
  {
   "cell_type": "code",
   "execution_count": 59,
   "id": "4735befa",
   "metadata": {},
   "outputs": [
    {
     "data": {
      "text/plain": [
       "False"
      ]
     },
     "execution_count": 59,
     "metadata": {},
     "output_type": "execute_result"
    }
   ],
   "source": [
    "\"Hi\"==\"hi\""
   ]
  },
  {
   "cell_type": "code",
   "execution_count": 60,
   "id": "17ba7867",
   "metadata": {},
   "outputs": [
    {
     "name": "stdout",
     "output_type": "stream",
     "text": [
      "True\n"
     ]
    }
   ],
   "source": [
    "if(1<2):\n",
    "    print(\"True\")"
   ]
  },
  {
   "cell_type": "code",
   "execution_count": 61,
   "id": "a744c491",
   "metadata": {},
   "outputs": [
    {
     "name": "stdout",
     "output_type": "stream",
     "text": [
      "True\n"
     ]
    }
   ],
   "source": [
    "if(1<2):\n",
    "    print(\"True\")\n",
    "else:\n",
    "    print(\"False\")"
   ]
  },
  {
   "cell_type": "code",
   "execution_count": 1,
   "id": "baf039c0",
   "metadata": {},
   "outputs": [
    {
     "name": "stdout",
     "output_type": "stream",
     "text": [
      "Enter new number : 2\n",
      "2\n"
     ]
    }
   ],
   "source": [
    "n=int(input(\"Enter new number : \"))\n",
    "if(n==1):\n",
    "    print(\"1\")\n",
    "elif(n==2):\n",
    "    print(\"2\")\n",
    "elif(n==3):\n",
    "    print(\"3\")\n",
    "else:\n",
    "    print(\"None of 1,2,3\")"
   ]
  },
  {
   "cell_type": "code",
   "execution_count": null,
   "id": "7d356c2f",
   "metadata": {},
   "outputs": [],
   "source": []
  }
 ],
 "metadata": {
  "kernelspec": {
   "display_name": "Python 3 (ipykernel)",
   "language": "python",
   "name": "python3"
  },
  "language_info": {
   "codemirror_mode": {
    "name": "ipython",
    "version": 3
   },
   "file_extension": ".py",
   "mimetype": "text/x-python",
   "name": "python",
   "nbconvert_exporter": "python",
   "pygments_lexer": "ipython3",
   "version": "3.11.4"
  }
 },
 "nbformat": 4,
 "nbformat_minor": 5
}
