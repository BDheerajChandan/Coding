{
 "cells": [
  {
   "cell_type": "code",
   "execution_count": 2,
   "id": "eda02a57",
   "metadata": {},
   "outputs": [
    {
     "name": "stdout",
     "output_type": "stream",
     "text": [
      "25\n"
     ]
    }
   ],
   "source": [
    "def f1(a):\n",
    "    return a**2\n",
    "print(f1(5))"
   ]
  },
  {
   "cell_type": "code",
   "execution_count": 7,
   "id": "cf86fd35",
   "metadata": {},
   "outputs": [
    {
     "name": "stdout",
     "output_type": "stream",
     "text": [
      "[0, 1, 2, 3, 4]\n",
      "[0, 1, 4, 9, 16]\n"
     ]
    }
   ],
   "source": [
    "l=[i for i in range(5)]\n",
    "res=list(map(f1,l))\n",
    "print(l)\n",
    "print(res)"
   ]
  },
  {
   "cell_type": "code",
   "execution_count": 13,
   "id": "f6d584b6",
   "metadata": {},
   "outputs": [
    {
     "name": "stdout",
     "output_type": "stream",
     "text": [
      "[0, 1, 2, 3, 4]\n",
      "0 2 4 6 8 "
     ]
    }
   ],
   "source": [
    "res=lambda a:a*2\n",
    "l=[i for i in range(5)]\n",
    "print(l,end='\\n')\n",
    "for i in l:\n",
    "    print(res(i),end=' ')"
   ]
  },
  {
   "cell_type": "code",
   "execution_count": 15,
   "id": "6dd7ba4e",
   "metadata": {},
   "outputs": [
    {
     "name": "stdout",
     "output_type": "stream",
     "text": [
      "[0, 2, 4, 6, 8]\n"
     ]
    }
   ],
   "source": [
    "l=[i for i in range(5)]\n",
    "res=list(map(lambda a:a*2,l))\n",
    "print(res)"
   ]
  },
  {
   "cell_type": "code",
   "execution_count": 18,
   "id": "c836a1b4",
   "metadata": {},
   "outputs": [
    {
     "name": "stdout",
     "output_type": "stream",
     "text": [
      "[0, 2, 4]\n"
     ]
    }
   ],
   "source": [
    "l=[i for i in range(5)]\n",
    "res=list(filter(lambda a:a%2==0,l))\n",
    "print(res)"
   ]
  },
  {
   "cell_type": "code",
   "execution_count": 26,
   "id": "36c6efd1",
   "metadata": {},
   "outputs": [
    {
     "name": "stdout",
     "output_type": "stream",
     "text": [
      "b dheeraj chandan\n",
      "B DHEERAJ CHANDAN\n",
      "['B', 'Dheeraj', 'Chandan']\n",
      "['B Dheer', 'j Ch', 'nd', 'n']\n"
     ]
    }
   ],
   "source": [
    "s=\"B Dheeraj Chandan\"\n",
    "print(s.lower())\n",
    "print(s.upper())\n",
    "print(s.split())\n",
    "print(s.split('a'))"
   ]
  },
  {
   "cell_type": "code",
   "execution_count": 4,
   "id": "d10c61c1",
   "metadata": {},
   "outputs": [
    {
     "name": "stdout",
     "output_type": "stream",
     "text": [
      "[1, 2, 3, 4]\n"
     ]
    }
   ],
   "source": [
    "l=[1,2,3,4,5]\n",
    "l.pop()\n",
    "print(l)"
   ]
  },
  {
   "cell_type": "code",
   "execution_count": 5,
   "id": "fea40c90",
   "metadata": {},
   "outputs": [
    {
     "name": "stdout",
     "output_type": "stream",
     "text": [
      "[1, 2, 3, 4]\n",
      "[1, 2, 4]\n"
     ]
    }
   ],
   "source": [
    "print(l)\n",
    "l.pop(2)\n",
    "print(l)"
   ]
  },
  {
   "cell_type": "code",
   "execution_count": 30,
   "id": "b369cf93",
   "metadata": {},
   "outputs": [
    {
     "name": "stdout",
     "output_type": "stream",
     "text": [
      "True\n"
     ]
    }
   ],
   "source": [
    "l=[1,2,3,4,5]\n",
    "res=3 in l\n",
    "print(res)"
   ]
  },
  {
   "cell_type": "code",
   "execution_count": 31,
   "id": "16a77d15",
   "metadata": {},
   "outputs": [
    {
     "name": "stdout",
     "output_type": "stream",
     "text": [
      "3\n",
      "30\n",
      "300\n"
     ]
    }
   ],
   "source": [
    "l=[(1,2),(10,20),(100,200)]\n",
    "for i,j in l:\n",
    "    print(i+j)"
   ]
  },
  {
   "cell_type": "code",
   "execution_count": null,
   "id": "bde7962c",
   "metadata": {},
   "outputs": [],
   "source": []
  }
 ],
 "metadata": {
  "kernelspec": {
   "display_name": "Python 3 (ipykernel)",
   "language": "python",
   "name": "python3"
  },
  "language_info": {
   "codemirror_mode": {
    "name": "ipython",
    "version": 3
   },
   "file_extension": ".py",
   "mimetype": "text/x-python",
   "name": "python",
   "nbconvert_exporter": "python",
   "pygments_lexer": "ipython3",
   "version": "3.11.4"
  }
 },
 "nbformat": 4,
 "nbformat_minor": 5
}
