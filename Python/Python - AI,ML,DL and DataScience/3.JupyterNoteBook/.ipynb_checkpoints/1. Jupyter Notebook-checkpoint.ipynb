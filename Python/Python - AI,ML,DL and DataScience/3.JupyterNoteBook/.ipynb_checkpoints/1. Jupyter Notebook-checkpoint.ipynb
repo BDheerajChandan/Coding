{
 "cells": [
  {
   "cell_type": "code",
   "execution_count": 1,
   "id": "2e36c611",
   "metadata": {},
   "outputs": [
    {
     "data": {
      "text/plain": [
       "'\\nThe Jupyter Notebook is an open-source web application that allows you to create and share documents that \\ncontain live code, equations, visualizations, and narrative text. Uses include data cleaning and transformation, \\nnumerical simulation, statistical modeling, data visualization, machine learning, and much more.\\n\\nTo open Jupyter notebook there are 2 ways : \\n1. Anaconda application\\n2. Anaconda cmd command promt\\n\\n1: Launch Anaconda application and then launch Jupyter Notebook.\\n2: Open Anaconda command promt \\n        run command : cd <folder name> , To access/go insde the specified folder or directory\\n        run command : cd .. , To go back to folder/directory 1 step back\\n        run command : dir , To get/see all directories , file or folder detil from a specified foldercommand prompt path.\\n        run command : jupyter notebook , To open jupyter notebook in a specified path of command prompt in browser\\n        run command : cls , To clear all commands from the prompt window\\n    After running the command jupyter notebook we cam see that jupyter notbook open in browser for specified path. Now, we can \\n    start with programming.\\n\\n'"
      ]
     },
     "execution_count": 1,
     "metadata": {},
     "output_type": "execute_result"
    }
   ],
   "source": [
    "# Jupyter Notebook\n",
    "'''\n",
    "The Jupyter Notebook is an open-source web application that allows you to create and share documents that \n",
    "contain live code, equations, visualizations, and narrative text. Uses include data cleaning and transformation, \n",
    "numerical simulation, statistical modeling, data visualization, machine learning, and much more.\n",
    "\n",
    "To open Jupyter notebook there are 2 ways : \n",
    "1. Anaconda application\n",
    "2. Anaconda cmd command promt\n",
    "\n",
    "1: Launch Anaconda application and then launch Jupyter Notebook.\n",
    "2: Open Anaconda command promt \n",
    "        run command : cd <folder name> , To access/go insde the specified folder or directory\n",
    "        run command : cd .. , To go back to folder/directory 1 step back\n",
    "        run command : dir , To get/see all directories , file or folder detil from a specified foldercommand prompt path.\n",
    "        run command : jupyter notebook , To open jupyter notebook in a specified path in browser\n",
    "        run command : cls , To clear all commands from the prompt window\n",
    "    After running the command jupyter notebook we cam see that jupyter notbook open in browser for specified path. \n",
    "    Now, we can start with programming.\n",
    "\n",
    "'''"
   ]
  },
  {
   "cell_type": "code",
   "execution_count": 2,
   "id": "a148291e",
   "metadata": {},
   "outputs": [
    {
     "data": {
      "text/plain": [
       "\"\\nAfter open jupyter notbook open in browser click on new and select python 'new'->'Python' and we can rename untitle section \\n                                                                                          and then start coding in cell.\\nTo open terminal i.e. Anaconda command prompt then click on new and select terminal 'new'->'Terminal' and then we \\n                                                                                            can run windows commands\\nTo create a folder then click on new and select folder 'new'->'Folder'\\nTo create a text file then click on new and select text file 'new'->'Text File'\\n\""
      ]
     },
     "execution_count": 2,
     "metadata": {},
     "output_type": "execute_result"
    }
   ],
   "source": [
    "# Create files\n",
    "'''\n",
    "After open jupyter notbook open in browser click on new and select python 'new'->'Python' and we can rename untitle section \n",
    "                                                                                          and then start coding in cell.\n",
    "To open terminal i.e. Anaconda command prompt then click on new and select terminal 'new'->'Terminal' and then we \n",
    "                                                                                            can run windows commands\n",
    "To create a folder then click on new and select folder 'new'->'Folder'\n",
    "To create a text file then click on new and select text file 'new'->'Text File'\n",
    "'''"
   ]
  },
  {
   "cell_type": "code",
   "execution_count": 3,
   "id": "bbbb18ca",
   "metadata": {},
   "outputs": [
    {
     "data": {
      "text/plain": [
       "\"\\ncode cells are the cells where we write the code. A code cell allows you to edit and write new code, \\n            with full syntax highlighting and tab completion. \\n        we use # to give comments\\nmarkdown cells are the cells where we give headlines.It displays text which can be formatted using markdown language. \\n        we use # before comments to get comments in bold letters.\\n\\n        \\nShift + Enter to run a cell\\nAlt + Enter to insert a cell\\n\\nAfter completing the work on Jupyter notebook we can save(ctrl + s) or File->Save and Checkpoint for autosave everytime.\\nwe can download our work which was done in Jupyter notebook in different format.\\n\\nA kernel is a runtime environment that provides programming language support for the Jupyter Notebook application.\\nWhen you open a Notebook in edit mode one interactive session connects to a Jupyter kernel for the Notebook language.\\nA 'kernel' is a program that runs and introspects the user's code.\\nKernel -> restart , To reset your jupyter notebook and remove all defined variables or methods.\\nKernel -> Interupt , To sends a signal to the kernel to stop the execution of the current cell. \\n\\nIn Jupyter Notebook we can click on 'Help' to get\\n    Reference of packages that we are using.\\n    To know about libraries that we are using as IPy notebooks.\\n    We can get to known about all keyboard shortcuts.\\n\""
      ]
     },
     "execution_count": 3,
     "metadata": {},
     "output_type": "execute_result"
    }
   ],
   "source": [
    "#cells\n",
    "'''\n",
    "code cells are the cells where we write the code. A code cell allows you to edit and write new code, \n",
    "            with full syntax highlighting and tab completion. \n",
    "        we use # to give comments\n",
    "markdown cells are the cells where we give headlines.It displays text which can be formatted using markdown language. \n",
    "        we use # before comments to get comments in bold letters.\n",
    "\n",
    "        \n",
    "Shift + Enter to run a cell\n",
    "Alt + Enter to insert a cell below a cell\n",
    "\n",
    "After completing the work on Jupyter notebook we can save(ctrl + s) or File->Save and Checkpoint for autosave everytime.\n",
    "we can download our work which was done in Jupyter notebook in different format.\n",
    "\n",
    "A kernel is a runtime environment that provides programming language support for the Jupyter Notebook application.\n",
    "When you open a Notebook in edit mode one interactive session connects to a Jupyter kernel for the Notebook language.\n",
    "A 'kernel' is a program that runs and introspects the user's code.\n",
    "Kernel -> restart , To reset your jupyter notebook and remove all defined variables or methods.\n",
    "Kernel -> Interupt , To sends a signal to the kernel to stop the execution of the current cell. \n",
    "\n",
    "In Jupyter Notebook we can click on 'Help' to get\n",
    "    Reference of packages that we are using.\n",
    "    To know about libraries that we are using as IPy notebooks.\n",
    "    We can get to known about all keyboard shortcuts.\n",
    "'''"
   ]
  },
  {
   "cell_type": "markdown",
   "id": "57d1a28a",
   "metadata": {},
   "source": [
    "# Welcome to Data science course"
   ]
  },
  {
   "cell_type": "markdown",
   "id": "f8b35694",
   "metadata": {},
   "source": [
    "Simple print"
   ]
  },
  {
   "cell_type": "code",
   "execution_count": 4,
   "id": "2d10985f",
   "metadata": {},
   "outputs": [
    {
     "name": "stdout",
     "output_type": "stream",
     "text": [
      "Hi\n"
     ]
    }
   ],
   "source": [
    "print(\"Hi\")"
   ]
  },
  {
   "cell_type": "code",
   "execution_count": 5,
   "id": "83de192e",
   "metadata": {},
   "outputs": [
    {
     "data": {
      "text/plain": [
       "2"
      ]
     },
     "execution_count": 5,
     "metadata": {},
     "output_type": "execute_result"
    }
   ],
   "source": [
    "1+1"
   ]
  },
  {
   "cell_type": "code",
   "execution_count": 6,
   "id": "fbfabd26",
   "metadata": {
    "scrolled": true
   },
   "outputs": [
    {
     "name": "stdout",
     "output_type": "stream",
     "text": [
      "2\n"
     ]
    }
   ],
   "source": [
    "print(1+1)"
   ]
  },
  {
   "cell_type": "code",
   "execution_count": 7,
   "id": "88707b2a",
   "metadata": {},
   "outputs": [
    {
     "data": {
      "text/plain": [
       "'while 1:\\n    print(\"HI\")'"
      ]
     },
     "execution_count": 7,
     "metadata": {},
     "output_type": "execute_result"
    }
   ],
   "source": [
    "'''while 1:\n",
    "    print(\"HI\")'''"
   ]
  },
  {
   "cell_type": "code",
   "execution_count": null,
   "id": "6f4f17a7",
   "metadata": {},
   "outputs": [],
   "source": []
  }
 ],
 "metadata": {
  "kernelspec": {
   "display_name": "Python 3 (ipykernel)",
   "language": "python",
   "name": "python3"
  },
  "language_info": {
   "codemirror_mode": {
    "name": "ipython",
    "version": 3
   },
   "file_extension": ".py",
   "mimetype": "text/x-python",
   "name": "python",
   "nbconvert_exporter": "python",
   "pygments_lexer": "ipython3",
   "version": "3.11.4"
  }
 },
 "nbformat": 4,
 "nbformat_minor": 5
}
