{
 "cells": [
  {
   "cell_type": "markdown",
   "id": "006e37d1",
   "metadata": {},
   "source": [
    "# Anaconda Virtual Environment"
   ]
  },
  {
   "cell_type": "code",
   "execution_count": 2,
   "id": "201f7c81",
   "metadata": {
    "scrolled": true
   },
   "outputs": [
    {
     "data": {
      "text/plain": [
       "'\\nThe application needs to run on a specific version of the language because it requires a certain dependency that \\nis present in older versions but changes in newer versions. Virtual environments makes it easy to ideally separate \\ndifferent applications and avoid problems with different dependencies. \\n\\nA virtual environment is a tool that helps to keep dependencies required by different projects separate by creating \\nisolated spaces for them that contain per-project dependencies for them.\\n\\nIt allows you to set up virtual installations of Python and libraries on your computer.\\nYou can have multiple version of Python or libraries and cn esily activate or deactivate these environments.\\n\\nvirtuallenv library - virtualenv is a tool to create isolated Python environments.\\n\\nResourse link for documentation (using environment)- \\nhttps://conda.pydata.org/docs/using/envs.html \\n'"
      ]
     },
     "execution_count": 2,
     "metadata": {},
     "output_type": "execute_result"
    }
   ],
   "source": [
    "# Anaconda Virtual Environment\n",
    "'''\n",
    "The application needs to run on a specific version of the language because it requires a certain dependency that \n",
    "is present in older versions but changes in newer versions. Virtual environments makes it easy to ideally separate \n",
    "different applications and avoid problems with different dependencies. \n",
    "\n",
    "A virtual environment is a tool that helps to keep dependencies required by different projects separate by creating \n",
    "isolated spaces for them that contain per-project dependencies for them.\n",
    "\n",
    "It allows you to set up virtual installations of Python and libraries on your computer.\n",
    "You can have multiple version of Python or libraries and can esily activate or deactivate these environments.\n",
    "\n",
    "virtuallenv library - virtualenv is a tool to create isolated Python environments.\n",
    "\n",
    "Resourse link for documentation (using environment)- \n",
    "https://conda.pydata.org/docs/using/envs.html \n",
    "'''"
   ]
  },
  {
   "cell_type": "markdown",
   "id": "75c434d2",
   "metadata": {},
   "source": [
    "# Creating Virtual environment"
   ]
  },
  {
   "cell_type": "code",
   "execution_count": 3,
   "id": "0bc38408",
   "metadata": {},
   "outputs": [
    {
     "data": {
      "text/plain": [
       "'\\nOpen Anaconda cmd command prompt\\nusing cd command go to specified directory\\nnow run the command,\\n-> cd \"..\\\\..\"\\n-> python\\n    >> import pandas as pd\\n    >> import numpy as np\\n    >> quit()\\n.........................................................   \\n-> conda create --name env1 numpy\\nproceed y/n\\n-> y\\n-> python\\n    >> import numpy as np     # Module found\\n    >> import pandas as pd    # Module found\\n    >> quit()\\n.........................................................\\nTo activate this env1 environment, \\n-> activate env1\\n-> python\\n    >> import numpy as np     # Module found\\n    >> import pandas as pd    # No module found\\n    >> quit()\\nTo deactivate this env1 environment, \\n-> deactivate\\n\\n-> python\\n    >> import numpy as np     # Module found\\n    >> import pandas as pd    # Module found\\n    >> quit()\\n.........................................................    \\n-> conda create --name env2 python=3.5 numpy # For numpy distribution\\nor\\n-> conda create --name env2 python=3.7 anaconda  # For entire anaconda distribution\\nproceed y\\n-> python\\n    >> quit()\\n.........................................................\\n-> conda info --envs\\n\\n-> activate env1\\n-> python\\n    >> quit()\\n-> deactivate\\n\\n-> conda info --envs\\n-> activate env2\\n-> python\\n    >> quit()\\n-> deactivate\\n'"
      ]
     },
     "execution_count": 3,
     "metadata": {},
     "output_type": "execute_result"
    }
   ],
   "source": [
    "#Creating Anaconda virtual environment\n",
    "'''\n",
    "Open Anaconda cmd command prompt\n",
    "using cd command go to specified directory\n",
    "now run the command,\n",
    "-> cd \"..\\\\..\"\n",
    "-> python\n",
    "    >> import pandas as pd\n",
    "    >> import numpy as np\n",
    "    >> quit()\n",
    ".........................................................   \n",
    "To create environment\n",
    "-> conda create --name env1 numpy\n",
    "proceed y/n\n",
    "-> y\n",
    "-> python\n",
    "    >> import numpy as np     # Module found\n",
    "    >> import pandas as pd    # Module found\n",
    "    >> quit()\n",
    ".........................................................\n",
    "To activate this env1 environment, \n",
    "-> activate env1\n",
    "-> python\n",
    "    >> import numpy as np     # Module found\n",
    "    >> import pandas as pd    # No module found\n",
    "    >> quit()\n",
    "To deactivate this env1 environment, \n",
    "-> deactivate\n",
    "\n",
    "-> python\n",
    "    >> import numpy as np     # Module found\n",
    "    >> import pandas as pd    # Module found\n",
    "    >> quit()\n",
    ".........................................................    \n",
    "-> conda create --name env2 python=3.5 numpy # For numpy distribution\n",
    "or\n",
    "-> conda create --name env2 python=3.5 anaconda  # For entire anaconda distribution\n",
    "proceed y\n",
    "-> python\n",
    "    >> quit()\n",
    ".........................................................\n",
    "-> conda info --envs\n",
    "\n",
    "-> activate env1\n",
    "-> python\n",
    "    >> quit()\n",
    "-> deactivate\n",
    "\n",
    "-> conda info --envs\n",
    "-> activate env2\n",
    "-> python\n",
    "    >> quit()\n",
    "-> deactivate\n",
    "'''"
   ]
  },
  {
   "cell_type": "code",
   "execution_count": null,
   "id": "5bb172a3",
   "metadata": {},
   "outputs": [],
   "source": []
  }
 ],
 "metadata": {
  "kernelspec": {
   "display_name": "Python 3 (ipykernel)",
   "language": "python",
   "name": "python3"
  },
  "language_info": {
   "codemirror_mode": {
    "name": "ipython",
    "version": 3
   },
   "file_extension": ".py",
   "mimetype": "text/x-python",
   "name": "python",
   "nbconvert_exporter": "python",
   "pygments_lexer": "ipython3",
   "version": "3.11.4"
  }
 },
 "nbformat": 4,
 "nbformat_minor": 5
}
