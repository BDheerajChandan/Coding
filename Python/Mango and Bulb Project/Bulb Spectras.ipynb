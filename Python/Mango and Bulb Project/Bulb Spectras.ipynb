{
 "cells": [
  {
   "cell_type": "markdown",
   "metadata": {},
   "source": [
    "# 1. Get File Names and Dechostar files only"
   ]
  },
  {
   "cell_type": "code",
   "execution_count": 208,
   "metadata": {},
   "outputs": [],
   "source": [
    "Decho_path=\"C:\\\\Users\\\\KIIT\\\\Desktop\\\\GitHUB\\\\Coding\\\\Python\\\\Mango and Bulb Project\\\\DataSet\\\\\""
   ]
  },
  {
   "cell_type": "code",
   "execution_count": 209,
   "metadata": {},
   "outputs": [
    {
     "name": "stdout",
     "output_type": "stream",
     "text": [
      "C:\\Users\\KIIT\\Desktop\\GitHUB\\Coding\\Python\\Mango and Bulb Project\\DataSet\n"
     ]
    }
   ],
   "source": [
    "import os\n",
    "path=Decho_path\n",
    "path=str(os.path.normpath(path))\n",
    "file_name=os.listdir(path)\n",
    "Dechostar_files=list()\n",
    "DechostarFoil_files=list()\n",
    "DechostarALCoat_files=list()\n",
    "DechostarALCoat_files_path=list()\n",
    "DechostarFoil_files_path=list()\n",
    "for i in file_name:\n",
    "    if i.startswith(\"Dechostar\") and \"Foil\" in i:\n",
    "        DechostarFoil_files_path.append(str(path+'\\\\'+i))\n",
    "        DechostarFoil_files.append(i)\n",
    "        Dechostar_files.append(i)\n",
    "    elif i.startswith(\"Dechostar\"):\n",
    "        DechostarALCoat_files_path.append(str(path+'\\\\'+i))\n",
    "        DechostarALCoat_files.append(i)\n",
    "        Dechostar_files.append(i)\n",
    "    else:\n",
    "        pass\n",
    "print(str(path))"
   ]
  },
  {
   "cell_type": "code",
   "execution_count": 210,
   "metadata": {},
   "outputs": [
    {
     "name": "stdout",
     "output_type": "stream",
     "text": [
      "Dechostar.csv\n",
      "Dechostar_PB_1_ALCoating_NoWhiteRef-20231215-141633-650745-WP-00974.csv\n",
      "Dechostar_PB_1_ALCoating_NoWhiteRef-20231215-141633-700721-WP-00973.csv\n",
      "Dechostar_PB_1_Foil_NoWhiteRef-20231215-121533-783580-WP-00974.csv\n",
      "Dechostar_PB_1_Foil_NoWhiteRef-20231215-121533-853243-WP-00973.csv\n",
      "Dechostar_PB_2_ALCoating_NoWhiteRef-20231215-142205-387877-WP-00974.csv\n",
      "Dechostar_PB_2_ALCoating_NoWhiteRef-20231215-142205-443867-WP-00973.csv\n",
      "Dechostar_PB_2_Foil_NoWhiteRef-20231215-122302-972344-WP-00974.csv\n",
      "Dechostar_PB_2_Foil_NoWhiteRef-20231215-122303-030296-WP-00973.csv\n",
      "Dechostar_PB_3_ALCoating_NoWhiteRef-20231215-143026-135179-WP-00974.csv\n",
      "Dechostar_PB_3_ALCoating_NoWhiteRef-20231215-143026-186911-WP-00973.csv\n",
      "Dechostar_PB_3_Foil_NoWhiteRef-20231215-123130-447284-WP-00974.csv\n",
      "Dechostar_PB_3_Foil_NoWhiteRef-20231215-123130-511270-WP-00973.csv\n",
      "Dechostar_PB_4_ALCoating_NoWhiteRef-20231215-144120-816317-WP-00974.csv\n",
      "Dechostar_PB_4_ALCoating_NoWhiteRef-20231215-144120-868288-WP-00973.csv\n",
      "Dechostar_PB_4_Foil_NoWhiteRef-20231215-125412-011453-WP-00974.csv\n",
      "Dechostar_PB_4_Foil_NoWhiteRef-20231215-125412-107399-WP-00973.csv\n",
      "Dechostar_PB_5_ALCoating_NoWhiteRef-20231215-145137-278427-WP-00974.csv\n",
      "Dechostar_PB_5_ALCoating_NoWhiteRef-20231215-145137-337394-WP-00973.csv\n",
      "********************\n"
     ]
    }
   ],
   "source": [
    "# All file names\n",
    "for i in Dechostar_files:\n",
    "    print(i)\n",
    "print(\"*\"*20)\n"
   ]
  },
  {
   "cell_type": "code",
   "execution_count": 211,
   "metadata": {},
   "outputs": [
    {
     "name": "stdout",
     "output_type": "stream",
     "text": [
      "Dechostar_PB_1_Foil_NoWhiteRef-20231215-121533-783580-WP-00974.csv\n",
      "Dechostar_PB_1_Foil_NoWhiteRef-20231215-121533-853243-WP-00973.csv\n",
      "Dechostar_PB_2_Foil_NoWhiteRef-20231215-122302-972344-WP-00974.csv\n",
      "Dechostar_PB_2_Foil_NoWhiteRef-20231215-122303-030296-WP-00973.csv\n",
      "Dechostar_PB_3_Foil_NoWhiteRef-20231215-123130-447284-WP-00974.csv\n",
      "Dechostar_PB_3_Foil_NoWhiteRef-20231215-123130-511270-WP-00973.csv\n",
      "Dechostar_PB_4_Foil_NoWhiteRef-20231215-125412-011453-WP-00974.csv\n",
      "Dechostar_PB_4_Foil_NoWhiteRef-20231215-125412-107399-WP-00973.csv\n",
      "********************\n"
     ]
    }
   ],
   "source": [
    "# AL Foil files names\n",
    "for i in DechostarFoil_files:\n",
    "    print(i)\n",
    "print(\"*\"*20)"
   ]
  },
  {
   "cell_type": "code",
   "execution_count": 212,
   "metadata": {},
   "outputs": [
    {
     "name": "stdout",
     "output_type": "stream",
     "text": [
      "Dechostar.csv\n",
      "Dechostar_PB_1_ALCoating_NoWhiteRef-20231215-141633-650745-WP-00974.csv\n",
      "Dechostar_PB_1_ALCoating_NoWhiteRef-20231215-141633-700721-WP-00973.csv\n",
      "Dechostar_PB_2_ALCoating_NoWhiteRef-20231215-142205-387877-WP-00974.csv\n",
      "Dechostar_PB_2_ALCoating_NoWhiteRef-20231215-142205-443867-WP-00973.csv\n",
      "Dechostar_PB_3_ALCoating_NoWhiteRef-20231215-143026-135179-WP-00974.csv\n",
      "Dechostar_PB_3_ALCoating_NoWhiteRef-20231215-143026-186911-WP-00973.csv\n",
      "Dechostar_PB_4_ALCoating_NoWhiteRef-20231215-144120-816317-WP-00974.csv\n",
      "Dechostar_PB_4_ALCoating_NoWhiteRef-20231215-144120-868288-WP-00973.csv\n",
      "Dechostar_PB_5_ALCoating_NoWhiteRef-20231215-145137-278427-WP-00974.csv\n",
      "Dechostar_PB_5_ALCoating_NoWhiteRef-20231215-145137-337394-WP-00973.csv\n",
      "********************\n"
     ]
    }
   ],
   "source": [
    "# AL Coating File Names\n",
    "for i in DechostarALCoat_files:\n",
    "    print(i)\n",
    "print(\"*\"*20)"
   ]
  },
  {
   "cell_type": "code",
   "execution_count": 213,
   "metadata": {},
   "outputs": [
    {
     "data": {
      "text/plain": [
       "['Dechostar_PB_1_Foil_NoWhiteRef-20231215-121533-783580-WP-00974.csv',\n",
       " 'Dechostar_PB_2_Foil_NoWhiteRef-20231215-122302-972344-WP-00974.csv',\n",
       " 'Dechostar_PB_3_Foil_NoWhiteRef-20231215-123130-447284-WP-00974.csv',\n",
       " 'Dechostar_PB_4_Foil_NoWhiteRef-20231215-125412-011453-WP-00974.csv']"
      ]
     },
     "execution_count": 213,
     "metadata": {},
     "output_type": "execute_result"
    }
   ],
   "source": [
    "DechostarFoil_files_VIS=[i for i in DechostarFoil_files if str(i).endswith(\"74.csv\")]\n",
    "DechostarFoil_files_VIS"
   ]
  },
  {
   "cell_type": "code",
   "execution_count": 214,
   "metadata": {},
   "outputs": [
    {
     "data": {
      "text/plain": [
       "['Dechostar_PB_1_Foil_NoWhiteRef-20231215-121533-853243-WP-00973.csv',\n",
       " 'Dechostar_PB_2_Foil_NoWhiteRef-20231215-122303-030296-WP-00973.csv',\n",
       " 'Dechostar_PB_3_Foil_NoWhiteRef-20231215-123130-511270-WP-00973.csv',\n",
       " 'Dechostar_PB_4_Foil_NoWhiteRef-20231215-125412-107399-WP-00973.csv']"
      ]
     },
     "execution_count": 214,
     "metadata": {},
     "output_type": "execute_result"
    }
   ],
   "source": [
    "DechostarFoil_files_NIR=[i for i in DechostarFoil_files if str(i).endswith(\"73.csv\")]\n",
    "DechostarFoil_files_NIR"
   ]
  },
  {
   "cell_type": "code",
   "execution_count": 215,
   "metadata": {},
   "outputs": [
    {
     "data": {
      "text/plain": [
       "['Dechostar_PB_1_ALCoating_NoWhiteRef-20231215-141633-650745-WP-00974.csv',\n",
       " 'Dechostar_PB_2_ALCoating_NoWhiteRef-20231215-142205-387877-WP-00974.csv',\n",
       " 'Dechostar_PB_3_ALCoating_NoWhiteRef-20231215-143026-135179-WP-00974.csv',\n",
       " 'Dechostar_PB_4_ALCoating_NoWhiteRef-20231215-144120-816317-WP-00974.csv',\n",
       " 'Dechostar_PB_5_ALCoating_NoWhiteRef-20231215-145137-278427-WP-00974.csv']"
      ]
     },
     "execution_count": 215,
     "metadata": {},
     "output_type": "execute_result"
    }
   ],
   "source": [
    "DechostarALCoat_files_VIS=[i for i in DechostarALCoat_files if str(i).endswith(\"74.csv\")]\n",
    "DechostarALCoat_files_VIS"
   ]
  },
  {
   "cell_type": "code",
   "execution_count": 216,
   "metadata": {},
   "outputs": [
    {
     "data": {
      "text/plain": [
       "['Dechostar_PB_1_ALCoating_NoWhiteRef-20231215-141633-700721-WP-00973.csv',\n",
       " 'Dechostar_PB_2_ALCoating_NoWhiteRef-20231215-142205-443867-WP-00973.csv',\n",
       " 'Dechostar_PB_3_ALCoating_NoWhiteRef-20231215-143026-186911-WP-00973.csv',\n",
       " 'Dechostar_PB_4_ALCoating_NoWhiteRef-20231215-144120-868288-WP-00973.csv',\n",
       " 'Dechostar_PB_5_ALCoating_NoWhiteRef-20231215-145137-337394-WP-00973.csv']"
      ]
     },
     "execution_count": 216,
     "metadata": {},
     "output_type": "execute_result"
    }
   ],
   "source": [
    "DechostarALCoat_files_NIR=[i for i in DechostarALCoat_files if str(i).endswith(\"73.csv\")]\n",
    "DechostarALCoat_files_NIR"
   ]
  },
  {
   "cell_type": "code",
   "execution_count": 217,
   "metadata": {},
   "outputs": [
    {
     "data": {
      "text/html": [
       "<div>\n",
       "<style scoped>\n",
       "    .dataframe tbody tr th:only-of-type {\n",
       "        vertical-align: middle;\n",
       "    }\n",
       "\n",
       "    .dataframe tbody tr th {\n",
       "        vertical-align: top;\n",
       "    }\n",
       "\n",
       "    .dataframe thead th {\n",
       "        text-align: right;\n",
       "    }\n",
       "</style>\n",
       "<table border=\"1\" class=\"dataframe\">\n",
       "  <thead>\n",
       "    <tr style=\"text-align: right;\">\n",
       "      <th></th>\n",
       "      <th>Pixel</th>\n",
       "      <th>Wavelength</th>\n",
       "      <th>Processed</th>\n",
       "      <th>Raw</th>\n",
       "      <th>Dark</th>\n",
       "      <th>Reference</th>\n",
       "    </tr>\n",
       "  </thead>\n",
       "  <tbody>\n",
       "    <tr>\n",
       "      <th>0</th>\n",
       "      <td>0</td>\n",
       "      <td>341.78</td>\n",
       "      <td>-8.00</td>\n",
       "      <td>882</td>\n",
       "      <td>890</td>\n",
       "      <td>NaN</td>\n",
       "    </tr>\n",
       "    <tr>\n",
       "      <th>1</th>\n",
       "      <td>1</td>\n",
       "      <td>342.11</td>\n",
       "      <td>17.33</td>\n",
       "      <td>897</td>\n",
       "      <td>856</td>\n",
       "      <td>NaN</td>\n",
       "    </tr>\n",
       "    <tr>\n",
       "      <th>2</th>\n",
       "      <td>2</td>\n",
       "      <td>342.44</td>\n",
       "      <td>28.33</td>\n",
       "      <td>880</td>\n",
       "      <td>861</td>\n",
       "      <td>NaN</td>\n",
       "    </tr>\n",
       "    <tr>\n",
       "      <th>3</th>\n",
       "      <td>3</td>\n",
       "      <td>342.77</td>\n",
       "      <td>21.67</td>\n",
       "      <td>892</td>\n",
       "      <td>867</td>\n",
       "      <td>NaN</td>\n",
       "    </tr>\n",
       "    <tr>\n",
       "      <th>4</th>\n",
       "      <td>4</td>\n",
       "      <td>343.10</td>\n",
       "      <td>23.00</td>\n",
       "      <td>890</td>\n",
       "      <td>869</td>\n",
       "      <td>NaN</td>\n",
       "    </tr>\n",
       "    <tr>\n",
       "      <th>...</th>\n",
       "      <td>...</td>\n",
       "      <td>...</td>\n",
       "      <td>...</td>\n",
       "      <td>...</td>\n",
       "      <td>...</td>\n",
       "      <td>...</td>\n",
       "    </tr>\n",
       "    <tr>\n",
       "      <th>2043</th>\n",
       "      <td>2043</td>\n",
       "      <td>998.42</td>\n",
       "      <td>906.67</td>\n",
       "      <td>1763</td>\n",
       "      <td>878</td>\n",
       "      <td>NaN</td>\n",
       "    </tr>\n",
       "    <tr>\n",
       "      <th>2044</th>\n",
       "      <td>2044</td>\n",
       "      <td>998.71</td>\n",
       "      <td>891.67</td>\n",
       "      <td>1782</td>\n",
       "      <td>873</td>\n",
       "      <td>NaN</td>\n",
       "    </tr>\n",
       "    <tr>\n",
       "      <th>2045</th>\n",
       "      <td>2045</td>\n",
       "      <td>999.00</td>\n",
       "      <td>885.33</td>\n",
       "      <td>1742</td>\n",
       "      <td>861</td>\n",
       "      <td>NaN</td>\n",
       "    </tr>\n",
       "    <tr>\n",
       "      <th>2046</th>\n",
       "      <td>2046</td>\n",
       "      <td>999.29</td>\n",
       "      <td>875.33</td>\n",
       "      <td>1733</td>\n",
       "      <td>867</td>\n",
       "      <td>NaN</td>\n",
       "    </tr>\n",
       "    <tr>\n",
       "      <th>2047</th>\n",
       "      <td>2047</td>\n",
       "      <td>999.58</td>\n",
       "      <td>879.00</td>\n",
       "      <td>1750</td>\n",
       "      <td>871</td>\n",
       "      <td>NaN</td>\n",
       "    </tr>\n",
       "  </tbody>\n",
       "</table>\n",
       "<p>2048 rows × 6 columns</p>\n",
       "</div>"
      ],
      "text/plain": [
       "      Pixel  Wavelength  Processed   Raw  Dark  Reference\n",
       "0         0      341.78      -8.00   882   890        NaN\n",
       "1         1      342.11      17.33   897   856        NaN\n",
       "2         2      342.44      28.33   880   861        NaN\n",
       "3         3      342.77      21.67   892   867        NaN\n",
       "4         4      343.10      23.00   890   869        NaN\n",
       "...     ...         ...        ...   ...   ...        ...\n",
       "2043   2043      998.42     906.67  1763   878        NaN\n",
       "2044   2044      998.71     891.67  1782   873        NaN\n",
       "2045   2045      999.00     885.33  1742   861        NaN\n",
       "2046   2046      999.29     875.33  1733   867        NaN\n",
       "2047   2047      999.58     879.00  1750   871        NaN\n",
       "\n",
       "[2048 rows x 6 columns]"
      ]
     },
     "execution_count": 217,
     "metadata": {},
     "output_type": "execute_result"
    }
   ],
   "source": [
    "import pandas as pd\n",
    "pd.read_csv(Decho_path+\"Dechostar_PB_1_ALCoating_NoWhiteRef-20231215-141633-650745-WP-00974.csv\")"
   ]
  },
  {
   "cell_type": "markdown",
   "metadata": {},
   "source": [
    "# 2. Read csv data"
   ]
  },
  {
   "cell_type": "code",
   "execution_count": 218,
   "metadata": {},
   "outputs": [
    {
     "name": "stdout",
     "output_type": "stream",
     "text": [
      "   Pixel  Wavelength  Processed  Raw  Dark  Reference\n",
      "0      0      341.78      44.00  934   890        NaN\n",
      "1      1      342.11      51.33  920   856        NaN\n",
      "2      2      342.44      51.33  907   861        NaN\n",
      "3      3      342.77      49.67  911   867        NaN\n",
      "4      4      343.10      52.67  928   869        NaN \n",
      "\n",
      "   Pixel  Wavelength  Processed   Raw  Dark  Reference\n",
      "0      0      948.59     379.00  9121  8742        NaN\n",
      "1      1      950.17     382.67  9030  8634        NaN\n",
      "2      2      951.76     384.67  9134  8761        NaN\n",
      "3      3      953.34     389.33  9021  8636        NaN\n",
      "4      4      954.92     409.67  9138  8728        NaN \n",
      "\n",
      "0       341.78\n",
      "1       342.11\n",
      "2       342.44\n",
      "3       342.77\n",
      "4       343.10\n",
      "         ...  \n",
      "2043    998.42\n",
      "2044    998.71\n",
      "2045    999.00\n",
      "2046    999.29\n",
      "2047    999.58\n",
      "Name: Wavelength, Length: 2048, dtype: float64 \n",
      "\n"
     ]
    }
   ],
   "source": [
    "import pandas as pd\n",
    "Foildata=pd.read_csv(DechostarFoil_files_path[2])           # Foil Data\n",
    "print(Foildata.head(),'\\n')\n",
    "ALCoatdata=pd.read_csv(DechostarALCoat_files_path[2])       # Dechostar Data\n",
    "print(ALCoatdata.head(),'\\n') \n",
    "Vis_WaveL=Foildata.iloc[:,1]                                # Wavelenth range\n",
    "print(Vis_WaveL,'\\n')"
   ]
  },
  {
   "cell_type": "markdown",
   "metadata": {},
   "source": [
    "# 3. Read csv file having Raw Spectra data for VIS and NIR ranges."
   ]
  },
  {
   "cell_type": "code",
   "execution_count": 219,
   "metadata": {},
   "outputs": [
    {
     "data": {
      "text/html": [
       "<div>\n",
       "<style scoped>\n",
       "    .dataframe tbody tr th:only-of-type {\n",
       "        vertical-align: middle;\n",
       "    }\n",
       "\n",
       "    .dataframe tbody tr th {\n",
       "        vertical-align: top;\n",
       "    }\n",
       "\n",
       "    .dataframe thead th {\n",
       "        text-align: right;\n",
       "    }\n",
       "</style>\n",
       "<table border=\"1\" class=\"dataframe\">\n",
       "  <thead>\n",
       "    <tr style=\"text-align: right;\">\n",
       "      <th></th>\n",
       "      <th>Wavelength</th>\n",
       "      <th>AL_Coat_1</th>\n",
       "      <th>AL_Coat_2</th>\n",
       "      <th>AL_Coat_3</th>\n",
       "      <th>AL_Coat_4</th>\n",
       "      <th>AL_Coat_5</th>\n",
       "      <th>AL_Foil_1</th>\n",
       "      <th>AL_Foil_2</th>\n",
       "      <th>AL_Foil_3</th>\n",
       "      <th>AL_Foil_4</th>\n",
       "    </tr>\n",
       "  </thead>\n",
       "  <tbody>\n",
       "    <tr>\n",
       "      <th>0</th>\n",
       "      <td>341.78</td>\n",
       "      <td>-8.00</td>\n",
       "      <td>-13.00</td>\n",
       "      <td>6.00</td>\n",
       "      <td>0.00</td>\n",
       "      <td>-10.00</td>\n",
       "      <td>49.00</td>\n",
       "      <td>44.00</td>\n",
       "      <td>34.00</td>\n",
       "      <td>34.00</td>\n",
       "    </tr>\n",
       "    <tr>\n",
       "      <th>1</th>\n",
       "      <td>342.11</td>\n",
       "      <td>17.33</td>\n",
       "      <td>15.33</td>\n",
       "      <td>19.00</td>\n",
       "      <td>28.33</td>\n",
       "      <td>15.00</td>\n",
       "      <td>42.33</td>\n",
       "      <td>51.33</td>\n",
       "      <td>45.00</td>\n",
       "      <td>42.00</td>\n",
       "    </tr>\n",
       "    <tr>\n",
       "      <th>2</th>\n",
       "      <td>342.44</td>\n",
       "      <td>28.33</td>\n",
       "      <td>23.00</td>\n",
       "      <td>22.00</td>\n",
       "      <td>32.67</td>\n",
       "      <td>26.67</td>\n",
       "      <td>45.00</td>\n",
       "      <td>51.33</td>\n",
       "      <td>50.67</td>\n",
       "      <td>47.00</td>\n",
       "    </tr>\n",
       "    <tr>\n",
       "      <th>3</th>\n",
       "      <td>342.77</td>\n",
       "      <td>21.67</td>\n",
       "      <td>17.33</td>\n",
       "      <td>20.67</td>\n",
       "      <td>15.00</td>\n",
       "      <td>16.00</td>\n",
       "      <td>43.67</td>\n",
       "      <td>49.67</td>\n",
       "      <td>50.33</td>\n",
       "      <td>38.00</td>\n",
       "    </tr>\n",
       "    <tr>\n",
       "      <th>4</th>\n",
       "      <td>343.10</td>\n",
       "      <td>23.00</td>\n",
       "      <td>14.00</td>\n",
       "      <td>21.33</td>\n",
       "      <td>22.67</td>\n",
       "      <td>18.00</td>\n",
       "      <td>50.67</td>\n",
       "      <td>52.67</td>\n",
       "      <td>48.33</td>\n",
       "      <td>50.67</td>\n",
       "    </tr>\n",
       "    <tr>\n",
       "      <th>...</th>\n",
       "      <td>...</td>\n",
       "      <td>...</td>\n",
       "      <td>...</td>\n",
       "      <td>...</td>\n",
       "      <td>...</td>\n",
       "      <td>...</td>\n",
       "      <td>...</td>\n",
       "      <td>...</td>\n",
       "      <td>...</td>\n",
       "      <td>...</td>\n",
       "    </tr>\n",
       "    <tr>\n",
       "      <th>2555</th>\n",
       "      <td>1722.26</td>\n",
       "      <td>32.33</td>\n",
       "      <td>31.00</td>\n",
       "      <td>43.67</td>\n",
       "      <td>47.00</td>\n",
       "      <td>52.33</td>\n",
       "      <td>86.00</td>\n",
       "      <td>76.67</td>\n",
       "      <td>76.67</td>\n",
       "      <td>101.33</td>\n",
       "    </tr>\n",
       "    <tr>\n",
       "      <th>2556</th>\n",
       "      <td>1723.67</td>\n",
       "      <td>35.67</td>\n",
       "      <td>39.67</td>\n",
       "      <td>40.33</td>\n",
       "      <td>52.33</td>\n",
       "      <td>62.33</td>\n",
       "      <td>83.00</td>\n",
       "      <td>90.33</td>\n",
       "      <td>79.67</td>\n",
       "      <td>102.00</td>\n",
       "    </tr>\n",
       "    <tr>\n",
       "      <th>2557</th>\n",
       "      <td>1725.07</td>\n",
       "      <td>34.00</td>\n",
       "      <td>41.33</td>\n",
       "      <td>35.33</td>\n",
       "      <td>46.33</td>\n",
       "      <td>56.67</td>\n",
       "      <td>77.33</td>\n",
       "      <td>86.67</td>\n",
       "      <td>74.67</td>\n",
       "      <td>94.67</td>\n",
       "    </tr>\n",
       "    <tr>\n",
       "      <th>2558</th>\n",
       "      <td>1726.47</td>\n",
       "      <td>28.00</td>\n",
       "      <td>30.67</td>\n",
       "      <td>33.33</td>\n",
       "      <td>32.00</td>\n",
       "      <td>41.00</td>\n",
       "      <td>68.33</td>\n",
       "      <td>72.00</td>\n",
       "      <td>67.33</td>\n",
       "      <td>88.00</td>\n",
       "    </tr>\n",
       "    <tr>\n",
       "      <th>2559</th>\n",
       "      <td>1727.88</td>\n",
       "      <td>22.00</td>\n",
       "      <td>17.00</td>\n",
       "      <td>34.00</td>\n",
       "      <td>16.00</td>\n",
       "      <td>26.00</td>\n",
       "      <td>60.00</td>\n",
       "      <td>61.00</td>\n",
       "      <td>62.00</td>\n",
       "      <td>79.00</td>\n",
       "    </tr>\n",
       "  </tbody>\n",
       "</table>\n",
       "<p>2560 rows × 10 columns</p>\n",
       "</div>"
      ],
      "text/plain": [
       "      Wavelength  AL_Coat_1  AL_Coat_2  AL_Coat_3  AL_Coat_4  AL_Coat_5  \\\n",
       "0         341.78      -8.00     -13.00       6.00       0.00     -10.00   \n",
       "1         342.11      17.33      15.33      19.00      28.33      15.00   \n",
       "2         342.44      28.33      23.00      22.00      32.67      26.67   \n",
       "3         342.77      21.67      17.33      20.67      15.00      16.00   \n",
       "4         343.10      23.00      14.00      21.33      22.67      18.00   \n",
       "...          ...        ...        ...        ...        ...        ...   \n",
       "2555     1722.26      32.33      31.00      43.67      47.00      52.33   \n",
       "2556     1723.67      35.67      39.67      40.33      52.33      62.33   \n",
       "2557     1725.07      34.00      41.33      35.33      46.33      56.67   \n",
       "2558     1726.47      28.00      30.67      33.33      32.00      41.00   \n",
       "2559     1727.88      22.00      17.00      34.00      16.00      26.00   \n",
       "\n",
       "      AL_Foil_1  AL_Foil_2  AL_Foil_3  AL_Foil_4  \n",
       "0         49.00      44.00      34.00      34.00  \n",
       "1         42.33      51.33      45.00      42.00  \n",
       "2         45.00      51.33      50.67      47.00  \n",
       "3         43.67      49.67      50.33      38.00  \n",
       "4         50.67      52.67      48.33      50.67  \n",
       "...         ...        ...        ...        ...  \n",
       "2555      86.00      76.67      76.67     101.33  \n",
       "2556      83.00      90.33      79.67     102.00  \n",
       "2557      77.33      86.67      74.67      94.67  \n",
       "2558      68.33      72.00      67.33      88.00  \n",
       "2559      60.00      61.00      62.00      79.00  \n",
       "\n",
       "[2560 rows x 10 columns]"
      ]
     },
     "execution_count": 219,
     "metadata": {},
     "output_type": "execute_result"
    }
   ],
   "source": [
    "import pandas as pd\n",
    "filename=Decho_path+\"Dechostar.csv\"\n",
    "Decho_data=pd.read_csv(filename)\n",
    "Decho_data"
   ]
  },
  {
   "cell_type": "code",
   "execution_count": 220,
   "metadata": {},
   "outputs": [
    {
     "name": "stdout",
     "output_type": "stream",
     "text": [
      "(2048, 9)\n",
      "(512, 9)\n",
      "(2048, 5)\n",
      "(2048, 4)\n",
      "(512, 5)\n",
      "(512, 4)\n"
     ]
    }
   ],
   "source": [
    "Decho_Wavelength=Decho_data.iloc[:,0]\n",
    "Decho_Wavelength_VIS=Decho_Wavelength.iloc[:2048]\n",
    "Decho_Wavelength_NIR=Decho_Wavelength.iloc[2048:]\n",
    "Decho_VIS=Decho_data.iloc[:2048,1:]\n",
    "Decho_NIR=Decho_data.iloc[2048:,1:]\n",
    "Decho_VIS_ALCoat=Decho_VIS.iloc[:,:5]\n",
    "Decho_VIS_ALFoil=Decho_VIS.iloc[:,5:]\n",
    "Decho_NIR_ALCoat=Decho_NIR.iloc[:,:5]\n",
    "Decho_NIR_ALFoil=Decho_NIR.iloc[:,5:]\n",
    "\n",
    "print(Decho_VIS.shape)\n",
    "print(Decho_NIR.shape)\n",
    "\n",
    "print(Decho_VIS_ALCoat.shape)\n",
    "print(Decho_VIS_ALFoil.shape)\n",
    "\n",
    "print(Decho_NIR_ALCoat.shape)\n",
    "print(Decho_NIR_ALFoil.shape)"
   ]
  },
  {
   "cell_type": "code",
   "execution_count": 221,
   "metadata": {},
   "outputs": [
    {
     "data": {
      "text/html": [
       "<div>\n",
       "<style scoped>\n",
       "    .dataframe tbody tr th:only-of-type {\n",
       "        vertical-align: middle;\n",
       "    }\n",
       "\n",
       "    .dataframe tbody tr th {\n",
       "        vertical-align: top;\n",
       "    }\n",
       "\n",
       "    .dataframe thead th {\n",
       "        text-align: right;\n",
       "    }\n",
       "</style>\n",
       "<table border=\"1\" class=\"dataframe\">\n",
       "  <thead>\n",
       "    <tr style=\"text-align: right;\">\n",
       "      <th></th>\n",
       "      <th>Wavelength</th>\n",
       "      <th>AL_Coat_1</th>\n",
       "      <th>AL_Coat_2</th>\n",
       "      <th>AL_Coat_3</th>\n",
       "      <th>AL_Coat_4</th>\n",
       "      <th>AL_Coat_5</th>\n",
       "      <th>AL_Foil_1</th>\n",
       "      <th>AL_Foil_2</th>\n",
       "      <th>AL_Foil_3</th>\n",
       "      <th>AL_Foil_4</th>\n",
       "    </tr>\n",
       "  </thead>\n",
       "  <tbody>\n",
       "    <tr>\n",
       "      <th>0</th>\n",
       "      <td>341.78</td>\n",
       "      <td>-8.0</td>\n",
       "      <td>-13.0</td>\n",
       "      <td>6.0</td>\n",
       "      <td>0.0</td>\n",
       "      <td>-10.0</td>\n",
       "      <td>49.0</td>\n",
       "      <td>44.0</td>\n",
       "      <td>34.0</td>\n",
       "      <td>34.0</td>\n",
       "    </tr>\n",
       "  </tbody>\n",
       "</table>\n",
       "</div>"
      ],
      "text/plain": [
       "   Wavelength  AL_Coat_1  AL_Coat_2  AL_Coat_3  AL_Coat_4  AL_Coat_5  \\\n",
       "0      341.78       -8.0      -13.0        6.0        0.0      -10.0   \n",
       "\n",
       "   AL_Foil_1  AL_Foil_2  AL_Foil_3  AL_Foil_4  \n",
       "0       49.0       44.0       34.0       34.0  "
      ]
     },
     "execution_count": 221,
     "metadata": {},
     "output_type": "execute_result"
    }
   ],
   "source": [
    "Decho_data.head(1)"
   ]
  },
  {
   "cell_type": "code",
   "execution_count": 222,
   "metadata": {},
   "outputs": [
    {
     "data": {
      "text/html": [
       "<div>\n",
       "<style scoped>\n",
       "    .dataframe tbody tr th:only-of-type {\n",
       "        vertical-align: middle;\n",
       "    }\n",
       "\n",
       "    .dataframe tbody tr th {\n",
       "        vertical-align: top;\n",
       "    }\n",
       "\n",
       "    .dataframe thead th {\n",
       "        text-align: right;\n",
       "    }\n",
       "</style>\n",
       "<table border=\"1\" class=\"dataframe\">\n",
       "  <thead>\n",
       "    <tr style=\"text-align: right;\">\n",
       "      <th></th>\n",
       "      <th>Wavelength</th>\n",
       "      <th>AL_Coat_1</th>\n",
       "      <th>AL_Coat_2</th>\n",
       "      <th>AL_Coat_3</th>\n",
       "      <th>AL_Coat_4</th>\n",
       "      <th>AL_Coat_5</th>\n",
       "      <th>AL_Foil_1</th>\n",
       "      <th>AL_Foil_2</th>\n",
       "      <th>AL_Foil_3</th>\n",
       "      <th>AL_Foil_4</th>\n",
       "    </tr>\n",
       "  </thead>\n",
       "  <tbody>\n",
       "    <tr>\n",
       "      <th>2559</th>\n",
       "      <td>1727.88</td>\n",
       "      <td>22.0</td>\n",
       "      <td>17.0</td>\n",
       "      <td>34.0</td>\n",
       "      <td>16.0</td>\n",
       "      <td>26.0</td>\n",
       "      <td>60.0</td>\n",
       "      <td>61.0</td>\n",
       "      <td>62.0</td>\n",
       "      <td>79.0</td>\n",
       "    </tr>\n",
       "  </tbody>\n",
       "</table>\n",
       "</div>"
      ],
      "text/plain": [
       "      Wavelength  AL_Coat_1  AL_Coat_2  AL_Coat_3  AL_Coat_4  AL_Coat_5  \\\n",
       "2559     1727.88       22.0       17.0       34.0       16.0       26.0   \n",
       "\n",
       "      AL_Foil_1  AL_Foil_2  AL_Foil_3  AL_Foil_4  \n",
       "2559       60.0       61.0       62.0       79.0  "
      ]
     },
     "execution_count": 222,
     "metadata": {},
     "output_type": "execute_result"
    }
   ],
   "source": [
    "Decho_data.tail(1)"
   ]
  },
  {
   "cell_type": "code",
   "execution_count": 223,
   "metadata": {},
   "outputs": [
    {
     "data": {
      "text/html": [
       "<div>\n",
       "<style scoped>\n",
       "    .dataframe tbody tr th:only-of-type {\n",
       "        vertical-align: middle;\n",
       "    }\n",
       "\n",
       "    .dataframe tbody tr th {\n",
       "        vertical-align: top;\n",
       "    }\n",
       "\n",
       "    .dataframe thead th {\n",
       "        text-align: right;\n",
       "    }\n",
       "</style>\n",
       "<table border=\"1\" class=\"dataframe\">\n",
       "  <thead>\n",
       "    <tr style=\"text-align: right;\">\n",
       "      <th></th>\n",
       "      <th>AL_Coat_1</th>\n",
       "      <th>AL_Coat_2</th>\n",
       "      <th>AL_Coat_3</th>\n",
       "      <th>AL_Coat_4</th>\n",
       "      <th>AL_Coat_5</th>\n",
       "      <th>AL_Foil_1</th>\n",
       "      <th>AL_Foil_2</th>\n",
       "      <th>AL_Foil_3</th>\n",
       "      <th>AL_Foil_4</th>\n",
       "    </tr>\n",
       "  </thead>\n",
       "  <tbody>\n",
       "    <tr>\n",
       "      <th>0</th>\n",
       "      <td>-8.0</td>\n",
       "      <td>-13.0</td>\n",
       "      <td>6.0</td>\n",
       "      <td>0.0</td>\n",
       "      <td>-10.0</td>\n",
       "      <td>49.0</td>\n",
       "      <td>44.0</td>\n",
       "      <td>34.0</td>\n",
       "      <td>34.0</td>\n",
       "    </tr>\n",
       "  </tbody>\n",
       "</table>\n",
       "</div>"
      ],
      "text/plain": [
       "   AL_Coat_1  AL_Coat_2  AL_Coat_3  AL_Coat_4  AL_Coat_5  AL_Foil_1  \\\n",
       "0       -8.0      -13.0        6.0        0.0      -10.0       49.0   \n",
       "\n",
       "   AL_Foil_2  AL_Foil_3  AL_Foil_4  \n",
       "0       44.0       34.0       34.0  "
      ]
     },
     "execution_count": 223,
     "metadata": {},
     "output_type": "execute_result"
    }
   ],
   "source": [
    "Decho_VIS.head(1)"
   ]
  },
  {
   "cell_type": "code",
   "execution_count": 224,
   "metadata": {},
   "outputs": [
    {
     "data": {
      "text/html": [
       "<div>\n",
       "<style scoped>\n",
       "    .dataframe tbody tr th:only-of-type {\n",
       "        vertical-align: middle;\n",
       "    }\n",
       "\n",
       "    .dataframe tbody tr th {\n",
       "        vertical-align: top;\n",
       "    }\n",
       "\n",
       "    .dataframe thead th {\n",
       "        text-align: right;\n",
       "    }\n",
       "</style>\n",
       "<table border=\"1\" class=\"dataframe\">\n",
       "  <thead>\n",
       "    <tr style=\"text-align: right;\">\n",
       "      <th></th>\n",
       "      <th>AL_Coat_1</th>\n",
       "      <th>AL_Coat_2</th>\n",
       "      <th>AL_Coat_3</th>\n",
       "      <th>AL_Coat_4</th>\n",
       "      <th>AL_Coat_5</th>\n",
       "      <th>AL_Foil_1</th>\n",
       "      <th>AL_Foil_2</th>\n",
       "      <th>AL_Foil_3</th>\n",
       "      <th>AL_Foil_4</th>\n",
       "    </tr>\n",
       "  </thead>\n",
       "  <tbody>\n",
       "    <tr>\n",
       "      <th>2047</th>\n",
       "      <td>879.0</td>\n",
       "      <td>885.0</td>\n",
       "      <td>879.0</td>\n",
       "      <td>905.0</td>\n",
       "      <td>885.0</td>\n",
       "      <td>1824.0</td>\n",
       "      <td>1876.0</td>\n",
       "      <td>1883.0</td>\n",
       "      <td>1931.0</td>\n",
       "    </tr>\n",
       "  </tbody>\n",
       "</table>\n",
       "</div>"
      ],
      "text/plain": [
       "      AL_Coat_1  AL_Coat_2  AL_Coat_3  AL_Coat_4  AL_Coat_5  AL_Foil_1  \\\n",
       "2047      879.0      885.0      879.0      905.0      885.0     1824.0   \n",
       "\n",
       "      AL_Foil_2  AL_Foil_3  AL_Foil_4  \n",
       "2047     1876.0     1883.0     1931.0  "
      ]
     },
     "execution_count": 224,
     "metadata": {},
     "output_type": "execute_result"
    }
   ],
   "source": [
    "Decho_VIS.tail(1)"
   ]
  },
  {
   "cell_type": "code",
   "execution_count": 225,
   "metadata": {},
   "outputs": [
    {
     "data": {
      "text/html": [
       "<div>\n",
       "<style scoped>\n",
       "    .dataframe tbody tr th:only-of-type {\n",
       "        vertical-align: middle;\n",
       "    }\n",
       "\n",
       "    .dataframe tbody tr th {\n",
       "        vertical-align: top;\n",
       "    }\n",
       "\n",
       "    .dataframe thead th {\n",
       "        text-align: right;\n",
       "    }\n",
       "</style>\n",
       "<table border=\"1\" class=\"dataframe\">\n",
       "  <thead>\n",
       "    <tr style=\"text-align: right;\">\n",
       "      <th></th>\n",
       "      <th>AL_Coat_1</th>\n",
       "      <th>AL_Coat_2</th>\n",
       "      <th>AL_Coat_3</th>\n",
       "      <th>AL_Coat_4</th>\n",
       "      <th>AL_Coat_5</th>\n",
       "      <th>AL_Foil_1</th>\n",
       "      <th>AL_Foil_2</th>\n",
       "      <th>AL_Foil_3</th>\n",
       "      <th>AL_Foil_4</th>\n",
       "    </tr>\n",
       "  </thead>\n",
       "  <tbody>\n",
       "    <tr>\n",
       "      <th>2048</th>\n",
       "      <td>379.0</td>\n",
       "      <td>367.0</td>\n",
       "      <td>383.0</td>\n",
       "      <td>399.0</td>\n",
       "      <td>397.0</td>\n",
       "      <td>786.0</td>\n",
       "      <td>817.0</td>\n",
       "      <td>805.0</td>\n",
       "      <td>827.0</td>\n",
       "    </tr>\n",
       "  </tbody>\n",
       "</table>\n",
       "</div>"
      ],
      "text/plain": [
       "      AL_Coat_1  AL_Coat_2  AL_Coat_3  AL_Coat_4  AL_Coat_5  AL_Foil_1  \\\n",
       "2048      379.0      367.0      383.0      399.0      397.0      786.0   \n",
       "\n",
       "      AL_Foil_2  AL_Foil_3  AL_Foil_4  \n",
       "2048      817.0      805.0      827.0  "
      ]
     },
     "execution_count": 225,
     "metadata": {},
     "output_type": "execute_result"
    }
   ],
   "source": [
    "Decho_NIR.head(1)"
   ]
  },
  {
   "cell_type": "code",
   "execution_count": 226,
   "metadata": {},
   "outputs": [
    {
     "data": {
      "text/html": [
       "<div>\n",
       "<style scoped>\n",
       "    .dataframe tbody tr th:only-of-type {\n",
       "        vertical-align: middle;\n",
       "    }\n",
       "\n",
       "    .dataframe tbody tr th {\n",
       "        vertical-align: top;\n",
       "    }\n",
       "\n",
       "    .dataframe thead th {\n",
       "        text-align: right;\n",
       "    }\n",
       "</style>\n",
       "<table border=\"1\" class=\"dataframe\">\n",
       "  <thead>\n",
       "    <tr style=\"text-align: right;\">\n",
       "      <th></th>\n",
       "      <th>AL_Coat_1</th>\n",
       "      <th>AL_Coat_2</th>\n",
       "      <th>AL_Coat_3</th>\n",
       "      <th>AL_Coat_4</th>\n",
       "      <th>AL_Coat_5</th>\n",
       "      <th>AL_Foil_1</th>\n",
       "      <th>AL_Foil_2</th>\n",
       "      <th>AL_Foil_3</th>\n",
       "      <th>AL_Foil_4</th>\n",
       "    </tr>\n",
       "  </thead>\n",
       "  <tbody>\n",
       "    <tr>\n",
       "      <th>2559</th>\n",
       "      <td>22.0</td>\n",
       "      <td>17.0</td>\n",
       "      <td>34.0</td>\n",
       "      <td>16.0</td>\n",
       "      <td>26.0</td>\n",
       "      <td>60.0</td>\n",
       "      <td>61.0</td>\n",
       "      <td>62.0</td>\n",
       "      <td>79.0</td>\n",
       "    </tr>\n",
       "  </tbody>\n",
       "</table>\n",
       "</div>"
      ],
      "text/plain": [
       "      AL_Coat_1  AL_Coat_2  AL_Coat_3  AL_Coat_4  AL_Coat_5  AL_Foil_1  \\\n",
       "2559       22.0       17.0       34.0       16.0       26.0       60.0   \n",
       "\n",
       "      AL_Foil_2  AL_Foil_3  AL_Foil_4  \n",
       "2559       61.0       62.0       79.0  "
      ]
     },
     "execution_count": 226,
     "metadata": {},
     "output_type": "execute_result"
    }
   ],
   "source": [
    "Decho_NIR.tail(1)"
   ]
  },
  {
   "cell_type": "code",
   "execution_count": 227,
   "metadata": {},
   "outputs": [
    {
     "data": {
      "text/html": [
       "<div>\n",
       "<style scoped>\n",
       "    .dataframe tbody tr th:only-of-type {\n",
       "        vertical-align: middle;\n",
       "    }\n",
       "\n",
       "    .dataframe tbody tr th {\n",
       "        vertical-align: top;\n",
       "    }\n",
       "\n",
       "    .dataframe thead th {\n",
       "        text-align: right;\n",
       "    }\n",
       "</style>\n",
       "<table border=\"1\" class=\"dataframe\">\n",
       "  <thead>\n",
       "    <tr style=\"text-align: right;\">\n",
       "      <th></th>\n",
       "      <th>AL_Coat_1</th>\n",
       "      <th>AL_Coat_2</th>\n",
       "      <th>AL_Coat_3</th>\n",
       "      <th>AL_Coat_4</th>\n",
       "      <th>AL_Coat_5</th>\n",
       "    </tr>\n",
       "  </thead>\n",
       "  <tbody>\n",
       "    <tr>\n",
       "      <th>0</th>\n",
       "      <td>-8.0</td>\n",
       "      <td>-13.0</td>\n",
       "      <td>6.0</td>\n",
       "      <td>0.0</td>\n",
       "      <td>-10.0</td>\n",
       "    </tr>\n",
       "  </tbody>\n",
       "</table>\n",
       "</div>"
      ],
      "text/plain": [
       "   AL_Coat_1  AL_Coat_2  AL_Coat_3  AL_Coat_4  AL_Coat_5\n",
       "0       -8.0      -13.0        6.0        0.0      -10.0"
      ]
     },
     "execution_count": 227,
     "metadata": {},
     "output_type": "execute_result"
    }
   ],
   "source": [
    "Decho_VIS_ALCoat.head(1)"
   ]
  },
  {
   "cell_type": "code",
   "execution_count": 228,
   "metadata": {},
   "outputs": [
    {
     "data": {
      "text/html": [
       "<div>\n",
       "<style scoped>\n",
       "    .dataframe tbody tr th:only-of-type {\n",
       "        vertical-align: middle;\n",
       "    }\n",
       "\n",
       "    .dataframe tbody tr th {\n",
       "        vertical-align: top;\n",
       "    }\n",
       "\n",
       "    .dataframe thead th {\n",
       "        text-align: right;\n",
       "    }\n",
       "</style>\n",
       "<table border=\"1\" class=\"dataframe\">\n",
       "  <thead>\n",
       "    <tr style=\"text-align: right;\">\n",
       "      <th></th>\n",
       "      <th>AL_Coat_1</th>\n",
       "      <th>AL_Coat_2</th>\n",
       "      <th>AL_Coat_3</th>\n",
       "      <th>AL_Coat_4</th>\n",
       "      <th>AL_Coat_5</th>\n",
       "    </tr>\n",
       "  </thead>\n",
       "  <tbody>\n",
       "    <tr>\n",
       "      <th>2047</th>\n",
       "      <td>879.0</td>\n",
       "      <td>885.0</td>\n",
       "      <td>879.0</td>\n",
       "      <td>905.0</td>\n",
       "      <td>885.0</td>\n",
       "    </tr>\n",
       "  </tbody>\n",
       "</table>\n",
       "</div>"
      ],
      "text/plain": [
       "      AL_Coat_1  AL_Coat_2  AL_Coat_3  AL_Coat_4  AL_Coat_5\n",
       "2047      879.0      885.0      879.0      905.0      885.0"
      ]
     },
     "execution_count": 228,
     "metadata": {},
     "output_type": "execute_result"
    }
   ],
   "source": [
    "Decho_VIS_ALCoat.tail(1)"
   ]
  },
  {
   "cell_type": "code",
   "execution_count": 229,
   "metadata": {},
   "outputs": [
    {
     "data": {
      "text/html": [
       "<div>\n",
       "<style scoped>\n",
       "    .dataframe tbody tr th:only-of-type {\n",
       "        vertical-align: middle;\n",
       "    }\n",
       "\n",
       "    .dataframe tbody tr th {\n",
       "        vertical-align: top;\n",
       "    }\n",
       "\n",
       "    .dataframe thead th {\n",
       "        text-align: right;\n",
       "    }\n",
       "</style>\n",
       "<table border=\"1\" class=\"dataframe\">\n",
       "  <thead>\n",
       "    <tr style=\"text-align: right;\">\n",
       "      <th></th>\n",
       "      <th>AL_Foil_1</th>\n",
       "      <th>AL_Foil_2</th>\n",
       "      <th>AL_Foil_3</th>\n",
       "      <th>AL_Foil_4</th>\n",
       "    </tr>\n",
       "  </thead>\n",
       "  <tbody>\n",
       "    <tr>\n",
       "      <th>0</th>\n",
       "      <td>49.0</td>\n",
       "      <td>44.0</td>\n",
       "      <td>34.0</td>\n",
       "      <td>34.0</td>\n",
       "    </tr>\n",
       "  </tbody>\n",
       "</table>\n",
       "</div>"
      ],
      "text/plain": [
       "   AL_Foil_1  AL_Foil_2  AL_Foil_3  AL_Foil_4\n",
       "0       49.0       44.0       34.0       34.0"
      ]
     },
     "execution_count": 229,
     "metadata": {},
     "output_type": "execute_result"
    }
   ],
   "source": [
    "Decho_VIS_ALFoil.head(1)"
   ]
  },
  {
   "cell_type": "code",
   "execution_count": 230,
   "metadata": {},
   "outputs": [
    {
     "data": {
      "text/html": [
       "<div>\n",
       "<style scoped>\n",
       "    .dataframe tbody tr th:only-of-type {\n",
       "        vertical-align: middle;\n",
       "    }\n",
       "\n",
       "    .dataframe tbody tr th {\n",
       "        vertical-align: top;\n",
       "    }\n",
       "\n",
       "    .dataframe thead th {\n",
       "        text-align: right;\n",
       "    }\n",
       "</style>\n",
       "<table border=\"1\" class=\"dataframe\">\n",
       "  <thead>\n",
       "    <tr style=\"text-align: right;\">\n",
       "      <th></th>\n",
       "      <th>AL_Foil_1</th>\n",
       "      <th>AL_Foil_2</th>\n",
       "      <th>AL_Foil_3</th>\n",
       "      <th>AL_Foil_4</th>\n",
       "    </tr>\n",
       "  </thead>\n",
       "  <tbody>\n",
       "    <tr>\n",
       "      <th>2047</th>\n",
       "      <td>1824.0</td>\n",
       "      <td>1876.0</td>\n",
       "      <td>1883.0</td>\n",
       "      <td>1931.0</td>\n",
       "    </tr>\n",
       "  </tbody>\n",
       "</table>\n",
       "</div>"
      ],
      "text/plain": [
       "      AL_Foil_1  AL_Foil_2  AL_Foil_3  AL_Foil_4\n",
       "2047     1824.0     1876.0     1883.0     1931.0"
      ]
     },
     "execution_count": 230,
     "metadata": {},
     "output_type": "execute_result"
    }
   ],
   "source": [
    "Decho_VIS_ALFoil.tail(1)"
   ]
  },
  {
   "cell_type": "code",
   "execution_count": 231,
   "metadata": {},
   "outputs": [
    {
     "data": {
      "text/html": [
       "<div>\n",
       "<style scoped>\n",
       "    .dataframe tbody tr th:only-of-type {\n",
       "        vertical-align: middle;\n",
       "    }\n",
       "\n",
       "    .dataframe tbody tr th {\n",
       "        vertical-align: top;\n",
       "    }\n",
       "\n",
       "    .dataframe thead th {\n",
       "        text-align: right;\n",
       "    }\n",
       "</style>\n",
       "<table border=\"1\" class=\"dataframe\">\n",
       "  <thead>\n",
       "    <tr style=\"text-align: right;\">\n",
       "      <th></th>\n",
       "      <th>AL_Coat_1</th>\n",
       "      <th>AL_Coat_2</th>\n",
       "      <th>AL_Coat_3</th>\n",
       "      <th>AL_Coat_4</th>\n",
       "      <th>AL_Coat_5</th>\n",
       "    </tr>\n",
       "  </thead>\n",
       "  <tbody>\n",
       "    <tr>\n",
       "      <th>2048</th>\n",
       "      <td>379.0</td>\n",
       "      <td>367.0</td>\n",
       "      <td>383.0</td>\n",
       "      <td>399.0</td>\n",
       "      <td>397.0</td>\n",
       "    </tr>\n",
       "  </tbody>\n",
       "</table>\n",
       "</div>"
      ],
      "text/plain": [
       "      AL_Coat_1  AL_Coat_2  AL_Coat_3  AL_Coat_4  AL_Coat_5\n",
       "2048      379.0      367.0      383.0      399.0      397.0"
      ]
     },
     "execution_count": 231,
     "metadata": {},
     "output_type": "execute_result"
    }
   ],
   "source": [
    "Decho_NIR_ALCoat.head(1)"
   ]
  },
  {
   "cell_type": "code",
   "execution_count": 232,
   "metadata": {},
   "outputs": [
    {
     "data": {
      "text/html": [
       "<div>\n",
       "<style scoped>\n",
       "    .dataframe tbody tr th:only-of-type {\n",
       "        vertical-align: middle;\n",
       "    }\n",
       "\n",
       "    .dataframe tbody tr th {\n",
       "        vertical-align: top;\n",
       "    }\n",
       "\n",
       "    .dataframe thead th {\n",
       "        text-align: right;\n",
       "    }\n",
       "</style>\n",
       "<table border=\"1\" class=\"dataframe\">\n",
       "  <thead>\n",
       "    <tr style=\"text-align: right;\">\n",
       "      <th></th>\n",
       "      <th>AL_Coat_1</th>\n",
       "      <th>AL_Coat_2</th>\n",
       "      <th>AL_Coat_3</th>\n",
       "      <th>AL_Coat_4</th>\n",
       "      <th>AL_Coat_5</th>\n",
       "    </tr>\n",
       "  </thead>\n",
       "  <tbody>\n",
       "    <tr>\n",
       "      <th>2559</th>\n",
       "      <td>22.0</td>\n",
       "      <td>17.0</td>\n",
       "      <td>34.0</td>\n",
       "      <td>16.0</td>\n",
       "      <td>26.0</td>\n",
       "    </tr>\n",
       "  </tbody>\n",
       "</table>\n",
       "</div>"
      ],
      "text/plain": [
       "      AL_Coat_1  AL_Coat_2  AL_Coat_3  AL_Coat_4  AL_Coat_5\n",
       "2559       22.0       17.0       34.0       16.0       26.0"
      ]
     },
     "execution_count": 232,
     "metadata": {},
     "output_type": "execute_result"
    }
   ],
   "source": [
    "Decho_NIR_ALCoat.tail(1)"
   ]
  },
  {
   "cell_type": "code",
   "execution_count": 233,
   "metadata": {},
   "outputs": [
    {
     "data": {
      "text/html": [
       "<div>\n",
       "<style scoped>\n",
       "    .dataframe tbody tr th:only-of-type {\n",
       "        vertical-align: middle;\n",
       "    }\n",
       "\n",
       "    .dataframe tbody tr th {\n",
       "        vertical-align: top;\n",
       "    }\n",
       "\n",
       "    .dataframe thead th {\n",
       "        text-align: right;\n",
       "    }\n",
       "</style>\n",
       "<table border=\"1\" class=\"dataframe\">\n",
       "  <thead>\n",
       "    <tr style=\"text-align: right;\">\n",
       "      <th></th>\n",
       "      <th>AL_Foil_1</th>\n",
       "      <th>AL_Foil_2</th>\n",
       "      <th>AL_Foil_3</th>\n",
       "      <th>AL_Foil_4</th>\n",
       "    </tr>\n",
       "  </thead>\n",
       "  <tbody>\n",
       "    <tr>\n",
       "      <th>2048</th>\n",
       "      <td>786.0</td>\n",
       "      <td>817.0</td>\n",
       "      <td>805.0</td>\n",
       "      <td>827.0</td>\n",
       "    </tr>\n",
       "  </tbody>\n",
       "</table>\n",
       "</div>"
      ],
      "text/plain": [
       "      AL_Foil_1  AL_Foil_2  AL_Foil_3  AL_Foil_4\n",
       "2048      786.0      817.0      805.0      827.0"
      ]
     },
     "execution_count": 233,
     "metadata": {},
     "output_type": "execute_result"
    }
   ],
   "source": [
    "Decho_NIR_ALFoil.head(1)"
   ]
  },
  {
   "cell_type": "code",
   "execution_count": 234,
   "metadata": {},
   "outputs": [
    {
     "data": {
      "text/html": [
       "<div>\n",
       "<style scoped>\n",
       "    .dataframe tbody tr th:only-of-type {\n",
       "        vertical-align: middle;\n",
       "    }\n",
       "\n",
       "    .dataframe tbody tr th {\n",
       "        vertical-align: top;\n",
       "    }\n",
       "\n",
       "    .dataframe thead th {\n",
       "        text-align: right;\n",
       "    }\n",
       "</style>\n",
       "<table border=\"1\" class=\"dataframe\">\n",
       "  <thead>\n",
       "    <tr style=\"text-align: right;\">\n",
       "      <th></th>\n",
       "      <th>AL_Foil_1</th>\n",
       "      <th>AL_Foil_2</th>\n",
       "      <th>AL_Foil_3</th>\n",
       "      <th>AL_Foil_4</th>\n",
       "    </tr>\n",
       "  </thead>\n",
       "  <tbody>\n",
       "    <tr>\n",
       "      <th>2559</th>\n",
       "      <td>60.0</td>\n",
       "      <td>61.0</td>\n",
       "      <td>62.0</td>\n",
       "      <td>79.0</td>\n",
       "    </tr>\n",
       "  </tbody>\n",
       "</table>\n",
       "</div>"
      ],
      "text/plain": [
       "      AL_Foil_1  AL_Foil_2  AL_Foil_3  AL_Foil_4\n",
       "2559       60.0       61.0       62.0       79.0"
      ]
     },
     "execution_count": 234,
     "metadata": {},
     "output_type": "execute_result"
    }
   ],
   "source": [
    "Decho_NIR_ALFoil.tail(1)"
   ]
  },
  {
   "cell_type": "code",
   "execution_count": 235,
   "metadata": {},
   "outputs": [
    {
     "data": {
      "text/plain": [
       "0    341.78\n",
       "Name: Wavelength, dtype: float64"
      ]
     },
     "execution_count": 235,
     "metadata": {},
     "output_type": "execute_result"
    }
   ],
   "source": [
    "Decho_Wavelength_VIS.head(1)"
   ]
  },
  {
   "cell_type": "code",
   "execution_count": 236,
   "metadata": {},
   "outputs": [
    {
     "data": {
      "text/plain": [
       "2047    999.58\n",
       "Name: Wavelength, dtype: float64"
      ]
     },
     "execution_count": 236,
     "metadata": {},
     "output_type": "execute_result"
    }
   ],
   "source": [
    "Decho_Wavelength_VIS.tail(1)"
   ]
  },
  {
   "cell_type": "code",
   "execution_count": 237,
   "metadata": {},
   "outputs": [
    {
     "data": {
      "text/plain": [
       "2048    948.59\n",
       "Name: Wavelength, dtype: float64"
      ]
     },
     "execution_count": 237,
     "metadata": {},
     "output_type": "execute_result"
    }
   ],
   "source": [
    "Decho_Wavelength_NIR.head(1)"
   ]
  },
  {
   "cell_type": "code",
   "execution_count": 238,
   "metadata": {},
   "outputs": [
    {
     "data": {
      "text/plain": [
       "2559    1727.88\n",
       "Name: Wavelength, dtype: float64"
      ]
     },
     "execution_count": 238,
     "metadata": {},
     "output_type": "execute_result"
    }
   ],
   "source": [
    "Decho_Wavelength_NIR.tail(1)"
   ]
  },
  {
   "cell_type": "markdown",
   "metadata": {},
   "source": [
    "# 4. Data for AL Coat and AL Foil"
   ]
  },
  {
   "cell_type": "code",
   "execution_count": 239,
   "metadata": {},
   "outputs": [
    {
     "name": "stdout",
     "output_type": "stream",
     "text": [
      "(2560, 5)\n",
      "(2560, 4)\n"
     ]
    }
   ],
   "source": [
    "Decho_ALCoat=Decho_data.iloc[:,1:6]\n",
    "Decho_ALFoil=Decho_data.iloc[:,6:]\n",
    "print(Decho_ALCoat.shape)\n",
    "print(Decho_ALFoil.shape)"
   ]
  },
  {
   "cell_type": "code",
   "execution_count": 240,
   "metadata": {},
   "outputs": [
    {
     "data": {
      "text/html": [
       "<div>\n",
       "<style scoped>\n",
       "    .dataframe tbody tr th:only-of-type {\n",
       "        vertical-align: middle;\n",
       "    }\n",
       "\n",
       "    .dataframe tbody tr th {\n",
       "        vertical-align: top;\n",
       "    }\n",
       "\n",
       "    .dataframe thead th {\n",
       "        text-align: right;\n",
       "    }\n",
       "</style>\n",
       "<table border=\"1\" class=\"dataframe\">\n",
       "  <thead>\n",
       "    <tr style=\"text-align: right;\">\n",
       "      <th></th>\n",
       "      <th>AL_Coat_1</th>\n",
       "      <th>AL_Coat_2</th>\n",
       "      <th>AL_Coat_3</th>\n",
       "      <th>AL_Coat_4</th>\n",
       "      <th>AL_Coat_5</th>\n",
       "    </tr>\n",
       "  </thead>\n",
       "  <tbody>\n",
       "    <tr>\n",
       "      <th>0</th>\n",
       "      <td>-8.0</td>\n",
       "      <td>-13.0</td>\n",
       "      <td>6.0</td>\n",
       "      <td>0.0</td>\n",
       "      <td>-10.0</td>\n",
       "    </tr>\n",
       "  </tbody>\n",
       "</table>\n",
       "</div>"
      ],
      "text/plain": [
       "   AL_Coat_1  AL_Coat_2  AL_Coat_3  AL_Coat_4  AL_Coat_5\n",
       "0       -8.0      -13.0        6.0        0.0      -10.0"
      ]
     },
     "execution_count": 240,
     "metadata": {},
     "output_type": "execute_result"
    }
   ],
   "source": [
    "Decho_ALCoat.head(1)"
   ]
  },
  {
   "cell_type": "code",
   "execution_count": 241,
   "metadata": {},
   "outputs": [
    {
     "data": {
      "text/html": [
       "<div>\n",
       "<style scoped>\n",
       "    .dataframe tbody tr th:only-of-type {\n",
       "        vertical-align: middle;\n",
       "    }\n",
       "\n",
       "    .dataframe tbody tr th {\n",
       "        vertical-align: top;\n",
       "    }\n",
       "\n",
       "    .dataframe thead th {\n",
       "        text-align: right;\n",
       "    }\n",
       "</style>\n",
       "<table border=\"1\" class=\"dataframe\">\n",
       "  <thead>\n",
       "    <tr style=\"text-align: right;\">\n",
       "      <th></th>\n",
       "      <th>AL_Coat_1</th>\n",
       "      <th>AL_Coat_2</th>\n",
       "      <th>AL_Coat_3</th>\n",
       "      <th>AL_Coat_4</th>\n",
       "      <th>AL_Coat_5</th>\n",
       "    </tr>\n",
       "  </thead>\n",
       "  <tbody>\n",
       "    <tr>\n",
       "      <th>2559</th>\n",
       "      <td>22.0</td>\n",
       "      <td>17.0</td>\n",
       "      <td>34.0</td>\n",
       "      <td>16.0</td>\n",
       "      <td>26.0</td>\n",
       "    </tr>\n",
       "  </tbody>\n",
       "</table>\n",
       "</div>"
      ],
      "text/plain": [
       "      AL_Coat_1  AL_Coat_2  AL_Coat_3  AL_Coat_4  AL_Coat_5\n",
       "2559       22.0       17.0       34.0       16.0       26.0"
      ]
     },
     "execution_count": 241,
     "metadata": {},
     "output_type": "execute_result"
    }
   ],
   "source": [
    "Decho_ALCoat.tail(1)"
   ]
  },
  {
   "cell_type": "code",
   "execution_count": 242,
   "metadata": {},
   "outputs": [
    {
     "data": {
      "text/html": [
       "<div>\n",
       "<style scoped>\n",
       "    .dataframe tbody tr th:only-of-type {\n",
       "        vertical-align: middle;\n",
       "    }\n",
       "\n",
       "    .dataframe tbody tr th {\n",
       "        vertical-align: top;\n",
       "    }\n",
       "\n",
       "    .dataframe thead th {\n",
       "        text-align: right;\n",
       "    }\n",
       "</style>\n",
       "<table border=\"1\" class=\"dataframe\">\n",
       "  <thead>\n",
       "    <tr style=\"text-align: right;\">\n",
       "      <th></th>\n",
       "      <th>AL_Foil_1</th>\n",
       "      <th>AL_Foil_2</th>\n",
       "      <th>AL_Foil_3</th>\n",
       "      <th>AL_Foil_4</th>\n",
       "    </tr>\n",
       "  </thead>\n",
       "  <tbody>\n",
       "    <tr>\n",
       "      <th>0</th>\n",
       "      <td>49.0</td>\n",
       "      <td>44.0</td>\n",
       "      <td>34.0</td>\n",
       "      <td>34.0</td>\n",
       "    </tr>\n",
       "  </tbody>\n",
       "</table>\n",
       "</div>"
      ],
      "text/plain": [
       "   AL_Foil_1  AL_Foil_2  AL_Foil_3  AL_Foil_4\n",
       "0       49.0       44.0       34.0       34.0"
      ]
     },
     "execution_count": 242,
     "metadata": {},
     "output_type": "execute_result"
    }
   ],
   "source": [
    "Decho_ALFoil.head(1)"
   ]
  },
  {
   "cell_type": "code",
   "execution_count": 243,
   "metadata": {},
   "outputs": [
    {
     "data": {
      "text/html": [
       "<div>\n",
       "<style scoped>\n",
       "    .dataframe tbody tr th:only-of-type {\n",
       "        vertical-align: middle;\n",
       "    }\n",
       "\n",
       "    .dataframe tbody tr th {\n",
       "        vertical-align: top;\n",
       "    }\n",
       "\n",
       "    .dataframe thead th {\n",
       "        text-align: right;\n",
       "    }\n",
       "</style>\n",
       "<table border=\"1\" class=\"dataframe\">\n",
       "  <thead>\n",
       "    <tr style=\"text-align: right;\">\n",
       "      <th></th>\n",
       "      <th>AL_Foil_1</th>\n",
       "      <th>AL_Foil_2</th>\n",
       "      <th>AL_Foil_3</th>\n",
       "      <th>AL_Foil_4</th>\n",
       "    </tr>\n",
       "  </thead>\n",
       "  <tbody>\n",
       "    <tr>\n",
       "      <th>2559</th>\n",
       "      <td>60.0</td>\n",
       "      <td>61.0</td>\n",
       "      <td>62.0</td>\n",
       "      <td>79.0</td>\n",
       "    </tr>\n",
       "  </tbody>\n",
       "</table>\n",
       "</div>"
      ],
      "text/plain": [
       "      AL_Foil_1  AL_Foil_2  AL_Foil_3  AL_Foil_4\n",
       "2559       60.0       61.0       62.0       79.0"
      ]
     },
     "execution_count": 243,
     "metadata": {},
     "output_type": "execute_result"
    }
   ],
   "source": [
    "Decho_ALFoil.tail(1)"
   ]
  },
  {
   "cell_type": "markdown",
   "metadata": {},
   "source": [
    "# 5. Parameters - Max and Min for VIS and NIR of AL Coat and AL Foil"
   ]
  },
  {
   "cell_type": "code",
   "execution_count": 244,
   "metadata": {},
   "outputs": [
    {
     "name": "stdout",
     "output_type": "stream",
     "text": [
      "************************* MAX RANGE OF SPECTRA OF AL FOIL AND COATED  *************************\n",
      "[2296.0, 2332.33, 2341.67, 2337.33, 2328.67]\n",
      "[4619.67, 4736.67, 4773.67, 4868.33]\n",
      "************************* MIN RANGE OF SPECTRA OF AL FOIL AND COATED  *************************\n",
      "[-8.0, -13.0, 4.67, 0.0, -10.0]\n",
      "[23.33, 40.0, 34.0, 25.33]\n"
     ]
    }
   ],
   "source": [
    "max_ALCoat_spectra=list()\n",
    "max_ALFoil_spectra=list()\n",
    "min_ALCoat_spectra=list()\n",
    "min_ALFoil_spectra=list()\n",
    "\n",
    "print(\"*\"*25,\"max range of spectra of al foil and coated \".upper(),\"*\"*25)\n",
    "for i in Decho_ALCoat.columns:\n",
    "    #print(i)\n",
    "    max_ALCoat_spectra.append(max([i for i in Decho_ALCoat[f\"{i}\"]]))\n",
    "print(max_ALCoat_spectra)\n",
    "#print()\n",
    "\n",
    "for i in Decho_ALFoil.columns:\n",
    "    #print(i)\n",
    "    max_ALFoil_spectra.append(max([i for i in Decho_ALFoil[f\"{i}\"]]))\n",
    "print(max_ALFoil_spectra)\n",
    "#print()\n",
    "\n",
    "print(\"*\"*25,\"min range of spectra of al foil and coated \".upper(),\"*\"*25)\n",
    "for i in Decho_ALCoat.columns:\n",
    "    #print(i)\n",
    "    min_ALCoat_spectra.append(min([i for i in Decho_ALCoat[f\"{i}\"]]))\n",
    "print(min_ALCoat_spectra)\n",
    "#print()\n",
    "\n",
    "for i in Decho_ALFoil.columns:\n",
    "    #print(i)\n",
    "    min_ALFoil_spectra.append(min([i for i in Decho_ALFoil[f\"{i}\"]]))\n",
    "print(min_ALFoil_spectra)\n",
    "#print()"
   ]
  },
  {
   "cell_type": "code",
   "execution_count": 245,
   "metadata": {},
   "outputs": [
    {
     "name": "stdout",
     "output_type": "stream",
     "text": [
      "(2048, 5)\n",
      "(512, 5)\n",
      "************************* MAX AND MIN RANGE OF SPECTRA OF AL COATED FOR VIS *************************\n",
      "[2296.0, 2332.33, 2341.67, 2337.33, 2328.67]\n",
      "[-8.0, -13.0, 4.67, 0.0, -10.0]\n",
      "************************* MAX AND MIN RANGE OF SPECTRA OF AL COATED FOR NIR *************************\n",
      "[1183.0, 1212.67, 1212.33, 1208.0, 1223.33]\n",
      "[15.33, 17.0, 25.67, 16.0, 26.0]\n"
     ]
    }
   ],
   "source": [
    "print(Decho_VIS_ALCoat.shape)\n",
    "print(Decho_NIR_ALCoat.shape)\n",
    "\n",
    "max_VIS_ALCoat_spectra=list()\n",
    "min_VIS_ALCoat_spectra=list()\n",
    "max_NIR_ALCoat_spectra=list()\n",
    "min_NIR_ALCoat_spectra=list()\n",
    "\n",
    "print(\"*\"*25,\"max and min range of spectra of al coated for vis\".upper(),\"*\"*25)\n",
    "for i in Decho_VIS_ALCoat.columns:\n",
    "    #print(i)\n",
    "    max_VIS_ALCoat_spectra.append(max([i for i in Decho_VIS_ALCoat[f\"{i}\"]]))\n",
    "print(max_VIS_ALCoat_spectra)\n",
    "#print()\n",
    "\n",
    "for i in Decho_VIS_ALCoat.columns:\n",
    "    #print(i)\n",
    "    min_VIS_ALCoat_spectra.append(min([i for i in Decho_VIS_ALCoat[f\"{i}\"]]))\n",
    "print(min_VIS_ALCoat_spectra)\n",
    "#print()\n",
    "\n",
    "print(\"*\"*25,\"max and min range of spectra of al coated for nir\".upper(),\"*\"*25)\n",
    "for i in Decho_NIR_ALCoat.columns:\n",
    "    #print(i)\n",
    "    max_NIR_ALCoat_spectra.append(max([i for i in Decho_NIR_ALCoat[f\"{i}\"]]))\n",
    "print(max_NIR_ALCoat_spectra)\n",
    "#print()\n",
    "\n",
    "for i in Decho_NIR_ALCoat.columns:\n",
    "    #print(i)\n",
    "    min_NIR_ALCoat_spectra.append(min([i for i in Decho_NIR_ALCoat[f\"{i}\"]]))\n",
    "print(min_NIR_ALCoat_spectra)\n",
    "#print()"
   ]
  },
  {
   "cell_type": "code",
   "execution_count": 246,
   "metadata": {},
   "outputs": [
    {
     "name": "stdout",
     "output_type": "stream",
     "text": [
      "(2048, 4)\n",
      "(512, 4)\n",
      "************************* MAX AND MIN RANGE OF SPECTRA OF AL FOIL FOR VIS *************************\n",
      "[4619.67, 4736.67, 4773.67, 4868.33]\n",
      "[23.33, 40.0, 34.0, 25.33]\n",
      "************************* MAX AND MIN RANGE OF SPECTRA OF AL FOIL FOR NIR *************************\n",
      "[2530.67, 2611.0, 2621.67, 2689.67]\n",
      "[60.0, 61.0, 61.0, 79.0]\n"
     ]
    }
   ],
   "source": [
    "print(Decho_VIS_ALFoil.shape)\n",
    "print(Decho_NIR_ALFoil.shape)\n",
    "\n",
    "max_VIS_ALFoil_spectra=list()\n",
    "min_VIS_ALFoil_spectra=list()\n",
    "max_NIR_ALFoil_spectra=list()\n",
    "min_NIR_ALFoil_spectra=list()\n",
    "\n",
    "print(\"*\"*25,\"max and min range of spectra of al foil for vis\".upper(),\"*\"*25)\n",
    "for i in Decho_VIS_ALFoil:\n",
    "    max_VIS_ALFoil_spectra.append(max([i for i in Decho_VIS_ALFoil[f\"{i}\"]]))\n",
    "print(max_VIS_ALFoil_spectra)\n",
    "#print()\n",
    "for i in Decho_VIS_ALFoil:\n",
    "    min_VIS_ALFoil_spectra.append(min([i for i in Decho_VIS_ALFoil[f\"{i}\"]]))\n",
    "print(min_VIS_ALFoil_spectra)\n",
    "#print()\n",
    "\n",
    "print(\"*\"*25,\"max and min range of spectra of al foil for nir\".upper(),\"*\"*25)\n",
    "for i in Decho_NIR_ALFoil:\n",
    "    max_NIR_ALFoil_spectra.append(max([i for i in Decho_NIR_ALFoil[f\"{i}\"]]))\n",
    "print(max_NIR_ALFoil_spectra)\n",
    "#print()\n",
    "for i in Decho_NIR_ALFoil:\n",
    "    min_NIR_ALFoil_spectra.append(min([i for i in Decho_NIR_ALFoil[f\"{i}\"]]))\n",
    "print(min_NIR_ALFoil_spectra)\n",
    "#print()"
   ]
  },
  {
   "cell_type": "markdown",
   "metadata": {},
   "source": [
    "# 6. Plot for VIS Spectra"
   ]
  },
  {
   "cell_type": "code",
   "execution_count": 272,
   "metadata": {},
   "outputs": [
    {
     "name": "stdout",
     "output_type": "stream",
     "text": [
      "1100\n",
      "242\n",
      "4969\n",
      "-113\n"
     ]
    },
    {
     "data": {
      "image/png": "[encoded data removed]",
      "text/plain": [
       "<Figure size 1500x500 with 1 Axes>"
      ]
     },
     "metadata": {},
     "output_type": "display_data"
    }
   ],
   "source": [
    "import matplotlib.pyplot as plt\n",
    "import numpy as np\n",
    "import warnings\n",
    "warnings.filterwarnings(\"ignore\")\n",
    "plt.figure(figsize=[15,5])\n",
    "plt.plot(Decho_Wavelength_VIS.iloc[:],Decho_VIS.iloc[:,])\n",
    "\n",
    "xmax=int(np.ceil(max(Decho_Wavelength_VIS)))+100\n",
    "print(xmax)\n",
    "xmin=int(np.ceil(min(Decho_Wavelength_VIS)))-100\n",
    "print(xmin)\n",
    "\n",
    "Max_VIS_spectra=max_VIS_ALCoat_spectra\n",
    "Max_VIS_spectra.extend(max_VIS_ALFoil_spectra)\n",
    "ymax=int(np.ceil(max(Max_VIS_spectra)))+100\n",
    "print(ymax)\n",
    "Min_VIS_spectra=min_VIS_ALCoat_spectra\n",
    "Min_VIS_spectra.extend(min_VIS_ALFoil_spectra)\n",
    "ymin=int(np.ceil(min(Min_VIS_spectra)))-100\n",
    "print(ymin)\n",
    "\n",
    "plt.xlabel(\"Wavelength\")\n",
    "plt.ylabel(\"Spectra\")\n",
    "plt.title(\"VIS Wavelength vs Spectra\")\n",
    "\n",
    "plt.xlim(xmin,xmax,50)\n",
    "plt.yticks([i for i in range(xmin,xmax,50)])\n",
    "plt.grid(axis='x')\n",
    "\n",
    "plt.ylim(ymin,ymax,250)\n",
    "plt.yticks([i for i in range(ymin,ymax,250)])\n",
    "plt.grid(axis='y')\n",
    "\n",
    "plt.legend(Decho_data.columns[1:])\n",
    "plt.show()"
   ]
  },
  {
   "cell_type": "markdown",
   "metadata": {},
   "source": [
    "# 7. Plot for NIR - AL Foil"
   ]
  },
  {
   "cell_type": "code",
   "execution_count": null,
   "metadata": {},
   "outputs": [],
   "source": []
  },
  {
   "cell_type": "markdown",
   "metadata": {},
   "source": [
    "# 8. Plot for VIS - AL Coat"
   ]
  },
  {
   "cell_type": "markdown",
   "metadata": {},
   "source": [
    "# 9. Plot for NIR - AL Coat"
   ]
  },
  {
   "cell_type": "markdown",
   "metadata": {},
   "source": []
  },
  {
   "cell_type": "code",
   "execution_count": null,
   "metadata": {},
   "outputs": [],
   "source": []
  }
 ],
 "metadata": {
  "kernelspec": {
   "display_name": "base",
   "language": "python",
   "name": "python3"
  },
  "language_info": {
   "codemirror_mode": {
    "name": "ipython",
    "version": 3
   },
   "file_extension": ".py",
   "mimetype": "text/x-python",
   "name": "python",
   "nbconvert_exporter": "python",
   "pygments_lexer": "ipython3",
   "version": "3.11.4"
  }
 },
 "nbformat": 4,
 "nbformat_minor": 2
}
