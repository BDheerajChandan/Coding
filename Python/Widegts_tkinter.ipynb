{
 "cells": [
  {
   "cell_type": "markdown",
   "metadata": {},
   "source": [
    "# 1. Tkinter window\n",
    "To create a GUI window"
   ]
  },
  {
   "cell_type": "code",
   "execution_count": 32,
   "metadata": {},
   "outputs": [],
   "source": [
    "import tkinter as t\n",
    "m=t.Tk(screenName=None,baseName=None,className=\"Window_1\",useTk=1)\n",
    "m.geometry(\"300x200\") \n",
    "m.title(\"Code_1\")\n",
    "\"\"\"   Add widgets here   \"\"\"\n",
    "m.mainloop()"
   ]
  },
  {
   "cell_type": "markdown",
   "metadata": {},
   "source": [
    "# 2. Label\n",
    "To display a text or image"
   ]
  },
  {
   "cell_type": "code",
   "execution_count": null,
   "metadata": {},
   "outputs": [],
   "source": [
    "import tkinter as t\n",
    "m=t.Tk(screenName=None,baseName=None,className=\"Window_1\",useTk=1)\n",
    "m.geometry(\"300x200\") \n",
    "m.title(\"Code_1\")\n",
    "\n",
    "w=t.Label(m,text=\"Hello World !!\\nGood morning\",width=10,bd=1, relief=\"solid\") # \"flat\",\"solid\",\"raised\",\"sunken\",\"ridge\",\"groove\"\n",
    "w.pack()\n",
    "\n",
    "m.mainloop()"
   ]
  },
  {
   "cell_type": "markdown",
   "metadata": {},
   "source": [
    "# 3. Button\n",
    "Trigger thatcan take an action"
   ]
  },
  {
   "cell_type": "code",
   "execution_count": null,
   "metadata": {},
   "outputs": [],
   "source": [
    "import tkinter as t\n",
    "m=t.Tk(screenName=None,baseName=None,className=\"Window_1\",useTk=1)  # class name used by the OS/window manager.\n",
    "m.geometry(\"300x200\") \n",
    "m.title(\"Code_1\")           # title displayed in the title bar\n",
    "\n",
    "w=t.Button(m,text=\"Stop\",width=5,command=m.destroy)\n",
    "w.pack()\n",
    "\n",
    "m.mainloop()"
   ]
  },
  {
   "cell_type": "markdown",
   "metadata": {},
   "source": [
    "# 4. Entry \n",
    "To take user input as text label"
   ]
  },
  {
   "cell_type": "code",
   "execution_count": 44,
   "metadata": {},
   "outputs": [],
   "source": [
    "import tkinter as t\n",
    "m=t.Tk(screenName=None,baseName=None,className=\"window_1\",useTk=1)\n",
    "m.geometry(\"300x200\")\n",
    "m.title(\"code_1\")\n",
    "\n",
    "t.Label(m,text=\"First Name\").grid(row=0,column=0)\n",
    "e1=t.Entry(m)\n",
    "e1.grid(row=0,column=1)\n",
    "t.Label(m,text=\"Last Name\").grid(row=1,column=0)\n",
    "e2=t.Entry(m)\n",
    "e2.grid(row=1,column=1)\n",
    "\n",
    "m.mainloop()"
   ]
  },
  {
   "cell_type": "markdown",
   "metadata": {},
   "source": [
    "# 5. Check Button\n",
    "Add check button"
   ]
  },
  {
   "cell_type": "code",
   "execution_count": null,
   "metadata": {},
   "outputs": [],
   "source": [
    "import tkinter as t\n",
    "m=t.Tk(screenName=None,baseName=None,className=\"window_1\",useTk=1)\n",
    "m.geometry(\"300x200\")\n",
    "m.title(\"code_1\")\n",
    "\n",
    "c1=t.BooleanVar() #t.IntVar()\n",
    "t.Checkbutton(m,text=\"Check 1\",variable=c1).grid(row=0,column=0,padx=10, pady=5)\n",
    "c2=t.BooleanVar() #t.IntVar()\n",
    "t.Checkbutton(m,text=\"check 2\",variable=c2).grid(row=1,column=0,padx=10, pady=5)\n",
    "\n",
    "m.mainloop()"
   ]
  },
  {
   "cell_type": "markdown",
   "metadata": {},
   "source": [
    "# 6. Radio Button\n",
    "To add radio buttons"
   ]
  },
  {
   "cell_type": "code",
   "execution_count": null,
   "metadata": {},
   "outputs": [],
   "source": [
    "import tkinter as t\n",
    "m=t.Tk(screenName=None,baseName=None,className=\"Window_1\",useTk=1)\n",
    "m.geometry(\"300x200\")\n",
    "m.title(\"code_1\")\n",
    "\n",
    "r1=t.IntVar()\n",
    "t.Radiobutton(m,text=\"Radio 1\",variable=r1).grid(row=0,column=0,padx=10, pady=5)\n",
    "r2=t.IntVar()\n",
    "t.Radiobutton(m,text=\"Radio 2\",variable=r2).grid(row=1,column=0,padx=10, pady=5)\n",
    "\n",
    "m.mainloop()"
   ]
  },
  {
   "cell_type": "code",
   "execution_count": 57,
   "metadata": {},
   "outputs": [],
   "source": [
    "import tkinter as t\n",
    "m=t.Tk(screenName=None,baseName=None,className=\"Window 1\",useTk=1)\n",
    "m.geometry(\"300x200\")\n",
    "m.title(\"Code 1\")\n",
    "\n",
    "r=t.IntVar()\n",
    "t.Radiobutton(m,text=\"Radiobutton 1\",variable=r,value=1).grid(row=0,column=0)\n",
    "t.Radiobutton(m,text=\"Radiobutton 2\",variable=r,value=2).grid(row=1,column=0)\n",
    "\n",
    "m.mainloop()"
   ]
  },
  {
   "cell_type": "markdown",
   "metadata": {},
   "source": [
    "# 7. Listbox\n",
    "To create listof values"
   ]
  },
  {
   "cell_type": "code",
   "execution_count": 60,
   "metadata": {},
   "outputs": [],
   "source": [
    "import tkinter as t\n",
    "m=t.Tk(screenName=None,baseName=None,className=\"Window 1\",useTk=1)\n",
    "m.geometry(\"300x200\")\n",
    "m.title(\"code 1\")\n",
    "\n",
    "w=t.Listbox(m)\n",
    "w.insert(1,\"Java\")\n",
    "w.insert(2,\"Python\")\n",
    "w.insert(3,\"ML\")\n",
    "w.insert(4,\"DL\")\n",
    "w.insert(5,\"Data Science\")\n",
    "w.pack()\n",
    "\n",
    "m.mainloop()"
   ]
  },
  {
   "cell_type": "markdown",
   "metadata": {},
   "source": [
    "# 8. Scrollbar\n",
    "To add scroll bar element"
   ]
  },
  {
   "cell_type": "code",
   "execution_count": 66,
   "metadata": {},
   "outputs": [],
   "source": [
    "import tkinter as t\n",
    "m=t.Tk(screenName=None,baseName=None,className=\"Window_1\",useTk=1)\n",
    "m.geometry(\"300x200\")\n",
    "m.title(\"Code 1\")\n",
    "\n",
    "w=t.Listbox(m, height=5)\n",
    "w.grid(row=0, column=0)\n",
    "\n",
    "for i in range(50):\n",
    "    w.insert(t.END, f\"Item {i+1}\")\n",
    "scrollbar = t.Scrollbar(m, command=w.yview)\n",
    "scrollbar.grid(row=0, column=1, sticky=\"ns\")\n",
    "\n",
    "w.config(yscrollcommand=scrollbar.set)\n",
    "\n",
    "m.mainloop()"
   ]
  },
  {
   "cell_type": "code",
   "execution_count": 1,
   "metadata": {},
   "outputs": [],
   "source": [
    "import tkinter as t\n",
    "m=t.Tk(screenName=None,baseName=None,className=\"Window 1\",useTk=1)\n",
    "m.geometry(\"300x200\")\n",
    "m.title(\"code 1\")\n",
    "\n",
    "\n",
    "w=t.Listbox(m)\n",
    "w.grid(row=0, column=0)\n",
    "my_list=[\"Dheeraj\",\"Chandan\",\"Ramesh\",\"Suresh\"]\n",
    "for i in my_list:\n",
    "    w.insert(t.END,i)\n",
    "scroll_b=t.Scrollbar(m,command=w.yview)\n",
    "scroll_b.grid(row=0,column=1,sticky=\"ns\")\n",
    "w.config(yscrollcommand=scroll_b.set,height=2)\n",
    "\n",
    "m.mainloop()"
   ]
  },
  {
   "cell_type": "code",
   "execution_count": null,
   "metadata": {},
   "outputs": [],
   "source": [
    "import tkinter as t\n",
    "m=t.Tk(screenName=None,baseName=None,className=\"Window 1\")\n",
    "m.geometry(\"300x200\")\n",
    "m.title(\"code 1\")\n",
    "\n",
    "w=t.Listbox(m)\n",
    "w.grid(row=0,column=0)                      # Listbox on r-0,c-0\n",
    "for i in range(10):\n",
    "    w.insert(t.END,str(i+1))\n",
    "\n",
    "scroll_b=t.Scrollbar(m,command=w.yview)     # Attach List as yaxis\n",
    "scroll_b.grid(row=0,column=1,sticky=\"ns\")   # Scroll on r-0,c-1\n",
    "\n",
    "w.config(yscrollcommand=scroll_b.set,height=5)\n",
    "\n",
    "\n",
    "m.mainloop()"
   ]
  },
  {
   "cell_type": "markdown",
   "metadata": {},
   "source": [
    "# 9. Menu\n",
    "To show all items as menu"
   ]
  },
  {
   "cell_type": "code",
   "execution_count": 15,
   "metadata": {},
   "outputs": [],
   "source": [
    "import tkinter as t\n",
    "m=t.Tk(screenName=None,baseName=None,className=\"Window 1\",useTk=1)\n",
    "m.geometry(\"300x200\")\n",
    "m.title(\"code 1\")\n",
    "\n",
    "w=t.Menu(m)\n",
    "m.config(menu=w)\n",
    "\n",
    "filemenu = t.Menu(m)\n",
    "w.add_cascade(label='File', menu=filemenu)\n",
    "filemenu.add_command(label='New')\n",
    "filemenu.add_command(label='Open...')\n",
    "filemenu.add_separator()\n",
    "filemenu.add_command(label='Exit', command=m.quit)\n",
    "\n",
    "helpmenu = t.Menu(w)\n",
    "w.add_cascade(label='Help', menu=helpmenu)\n",
    "helpmenu.add_command(label='About')\n",
    "\n",
    "m.mainloop()"
   ]
  },
  {
   "cell_type": "markdown",
   "metadata": {},
   "source": [
    "# 10. Comobox\n",
    "To get dropdown combo box"
   ]
  },
  {
   "cell_type": "code",
   "execution_count": null,
   "metadata": {},
   "outputs": [],
   "source": [
    "import tkinter as t\n",
    "from tkinter import ttk\n",
    "m=t.Tk(screenName=None,baseName=None,className=\"Window 1\",useTk=1)\n",
    "m.geometry(\"300x200\")\n",
    "m.title(\"code 1\")\n",
    "\n",
    "label = t.Label(m, text=\"Selected Item: \")\n",
    "label.pack(pady=3)\n",
    "v=[\"Java\",\"Python\",\"C\",\"C++\",\"ML\",\"DL\"]\n",
    "combo_b=ttk.Combobox(m,values=v)\n",
    "combo_b.pack(pady=3)\n",
    "combo_b.set(\"option 1\")\n",
    "def f(event):\n",
    "    s=combo_b.get()\n",
    "    label.config(text=\"selected item : \"+s)\n",
    "combo_b.bind(\"<<ComboboxSelected>>\",f)\n",
    "\n",
    "m.mainloop()"
   ]
  },
  {
   "cell_type": "markdown",
   "metadata": {},
   "source": [
    "#  11. Scale\n",
    "To get scaling range"
   ]
  },
  {
   "cell_type": "code",
   "execution_count": 21,
   "metadata": {},
   "outputs": [],
   "source": [
    "import tkinter as t\n",
    "m=t.Tk(screenName=None,baseName=None,className=\"Window 1\",useTk=1)\n",
    "m.geometry(\"300x200\")\n",
    "m.title(\"code 1\")\n",
    "\n",
    "w=t.Scale(m,from_=0,to=100,orient=\"vertical\")\n",
    "#w.grid(row=0,column=0)\n",
    "w.pack()\n",
    "w=t.Scale(m,from_=0,to=100,orient=\"horizontal\")\n",
    "#w.grid(row=1,column=0)\n",
    "w.pack()\n",
    "\n",
    "m.mainloop()"
   ]
  },
  {
   "cell_type": "markdown",
   "metadata": {},
   "source": [
    "# 12. TopLevel\n",
    "To get directly controlled by the window manager"
   ]
  },
  {
   "cell_type": "code",
   "execution_count": 26,
   "metadata": {},
   "outputs": [],
   "source": [
    "import tkinter as t\n",
    "m=t.Tk()\n",
    "m.geometry(\"300x200\")\n",
    "m.title(\"code 1\")\n",
    "\n",
    "w1=t.Toplevel()\n",
    "w1.title(\"Python\")\n",
    "w2=t.Toplevel()\n",
    "w2.title(\"Java\")\n",
    "\n",
    "m.mainloop()"
   ]
  },
  {
   "cell_type": "markdown",
   "metadata": {},
   "source": [
    "# 13. Mesage\n",
    "To display a message"
   ]
  },
  {
   "cell_type": "code",
   "execution_count": 27,
   "metadata": {},
   "outputs": [],
   "source": [
    "import tkinter as t\n",
    "m=t.Tk(screenName=None,baseName=None,className=\"Window 1\",useTk=1)\n",
    "m.geometry(\"300x200\")\n",
    "m.title(\"code 1\")\n",
    "\n",
    "msg=\"Hi I am Dheeraj\"\n",
    "w=t.Message(m,text=msg)\n",
    "w.config(bg=\"lightgreen\")\n",
    "w.pack()\n",
    "\n",
    "m.mainloop()"
   ]
  },
  {
   "cell_type": "markdown",
   "metadata": {},
   "source": [
    "# 14. MenuButton"
   ]
  },
  {
   "cell_type": "code",
   "execution_count": 10,
   "metadata": {},
   "outputs": [],
   "source": [
    "import tkinter as t\n",
    "m=t.Tk(screenName=None,baseName=None,className=\"Window 1\",useTk=1)\n",
    "m.geometry(\"300x200\")\n",
    "m.title(\"Code 1\")\n",
    "\n",
    "menu_b=t.Menubutton(m,text=\"Menu Button\")\n",
    "menu_b.grid()\n",
    "menu_b.menu=t.Menu(menu_b)\n",
    "menu_b[\"menu\"]=menu_b.menu\n",
    "cVar=t.IntVar()\n",
    "aVar=t.IntVar()\n",
    "menu_b.menu.add_checkbutton(label=\"Contact\",variable=cVar)\n",
    "menu_b.menu.add_checkbutton(label=\"About\",variable=aVar)\n",
    "menu_b.pack()\n",
    "\n",
    "m.mainloop()"
   ]
  },
  {
   "cell_type": "markdown",
   "metadata": {},
   "source": [
    "# 15. Progressbar"
   ]
  },
  {
   "cell_type": "code",
   "execution_count": null,
   "metadata": {},
   "outputs": [],
   "source": [
    "import tkinter as t\n",
    "from tkinter import ttk\n",
    "m=t.Tk(screenName=None,baseName=None,className=\"Window 1\",useTk=1)\n",
    "m.geometry(\"300x200\")\n",
    "m.title(\"code 1\")\n",
    "\n",
    "\n",
    "# Label to Show Countdown\n",
    "label = t.Label(m, text=\"Countdown: 100\", font=(\"Arial\", 12))\n",
    "label.pack()\n",
    "w = ttk.Progressbar(m, orient=\"horizontal\", length=250, mode=\"determinate\", maximum=100)\n",
    "w.pack(pady=20)\n",
    "def countdown(value=100):#    \"\"\"Decrease progress bar value from 100 to 0 every second.\"\"\"\n",
    "    if value >= 0:\n",
    "        w[\"value\"] = value  # Update progress bar\n",
    "        label.config(text=f\"Countdown: {value}\")  # Update label\n",
    "        m.after(1000, countdown, value - 1)  # Call function after 1 sec\n",
    "start_b=t.Button(m,text=\"Start\",command=lambda: countdown(100))\n",
    "start_b.pack()\n",
    "\n",
    "\n",
    "m.mainloop()"
   ]
  },
  {
   "cell_type": "code",
   "execution_count": 15,
   "metadata": {},
   "outputs": [],
   "source": [
    "import tkinter as t\n",
    "from tkinter import ttk\n",
    "\n",
    "def countdown(value=100):\n",
    "    \"\"\"Decrease progress bar value from 100 to 0 every second.\"\"\"\n",
    "    if value >= 0:\n",
    "        w[\"value\"] = value  # Update progress bar\n",
    "        label.config(text=f\"Countdown: {value}\")  # Update label\n",
    "        m.after(1000, countdown, value - 1)  # Call function after 1 sec\n",
    "\n",
    "m = t.Tk()\n",
    "m.geometry(\"300x150\")\n",
    "m.title(\"Progress Bar Countdown\")\n",
    "\n",
    "# Progress Bar\n",
    "w = ttk.Progressbar(m, orient=\"horizontal\", length=250, mode=\"determinate\", maximum=100)\n",
    "w.pack(pady=10)\n",
    "\n",
    "# Label to show countdown\n",
    "label = t.Label(m, text=\"Countdown: 100\", font=(\"Arial\", 12))\n",
    "label.pack()\n",
    "\n",
    "# Start Button\n",
    "start_b = t.Button(m, text=\"Start Countdown\", command=lambda: countdown(100))\n",
    "start_b.pack(pady=10)\n",
    "\n",
    "m.mainloop()\n"
   ]
  },
  {
   "cell_type": "markdown",
   "metadata": {},
   "source": [
    "# 16. SpinBox\n",
    "value can be input by selecting a fixed value of numbers"
   ]
  },
  {
   "cell_type": "code",
   "execution_count": 30,
   "metadata": {},
   "outputs": [],
   "source": [
    "import tkinter as t\n",
    "m=t.Tk()\n",
    "m.geometry()\n",
    "m.title()\n",
    "\n",
    "w=t.Spinbox(m,from_=0,to=10)\n",
    "w.pack()\n",
    "\n",
    "m.mainloop()"
   ]
  },
  {
   "cell_type": "code",
   "execution_count": 32,
   "metadata": {},
   "outputs": [],
   "source": [
    "import tkinter as t\n",
    "import random\n",
    "\n",
    "m=t.Tk()\n",
    "m.geometry()\n",
    "m.title()\n",
    "\n",
    "rand_value = t.IntVar(value=random.randint(0, 10))\n",
    "w=t.Spinbox(m,from_=0,to=10,textvariable=rand_value)\n",
    "w.pack()\n",
    "\n",
    "m.mainloop()"
   ]
  },
  {
   "cell_type": "markdown",
   "metadata": {},
   "source": [
    "# 17. Text\n",
    "To display the text"
   ]
  },
  {
   "cell_type": "code",
   "execution_count": 34,
   "metadata": {},
   "outputs": [],
   "source": [
    "import tkinter as t\n",
    "m = t.Tk(screenName=None,baseName=None,className=\"Window 1\",useTk=1)\n",
    "m.geometry(\"300x200\")\n",
    "m.title(\"Code 1\")\n",
    "\n",
    "msg=\"Hi I am Dheeraj\\nChandan\"\n",
    "w = t.Text(m, height=2, width=30)\n",
    "w.pack()\n",
    "w.insert(t.END, msg)\n",
    "\n",
    "m.mainloop()\n"
   ]
  },
  {
   "cell_type": "markdown",
   "metadata": {},
   "source": [
    "# 18. Canvas\n",
    "To draw pictures and other complex layout like graphics, text and widgets."
   ]
  },
  {
   "cell_type": "code",
   "execution_count": 4,
   "metadata": {},
   "outputs": [],
   "source": [
    "import tkinter as t\n",
    "m=t.Tk(screenName=None,baseName=None,className=\"Window 1\",useTk=1)\n",
    "m.geometry(\"300x200\")\n",
    "m.title(\"code 1\")\n",
    "\n",
    "w=t.Canvas(m,width=10,height=10)\n",
    "w.pack()\n",
    "\n",
    "m.mainloop()"
   ]
  },
  {
   "cell_type": "code",
   "execution_count": null,
   "metadata": {},
   "outputs": [],
   "source": [
    "import tkinter as t\n",
    "\n",
    "def on_click(event):\n",
    "    \"\"\"Draw a small circle where the user clicks.\"\"\"\n",
    "    x, y = event.x, event.y\n",
    "    canvas.create_oval(x-5, y-5, x+5, y+5, fill=\"red\")  # Draw a small red dot\n",
    "\n",
    "m = t.Tk()\n",
    "m.geometry(\"400x300\")\n",
    "m.title(\"Click to Draw\")\n",
    "canvas = t.Canvas(m, width=400, height=300, bg=\"white\")\n",
    "canvas.pack(fill=t.BOTH, expand=True)\n",
    "canvas.bind(\"<Button-1>\", on_click)\n",
    "\n",
    "m.mainloop()\n"
   ]
  },
  {
   "cell_type": "code",
   "execution_count": null,
   "metadata": {},
   "outputs": [],
   "source": [
    "import tkinter as t\n",
    "m = t.Tk()\n",
    "m.geometry(\"500x400\")\n",
    "m.title(\"Draw Line on Drag\")\n",
    "\n",
    "def start_draw(event):#    \"\"\"Store the starting point of the line.\"\"\"\n",
    "    global start_x, start_y\n",
    "    start_x, start_y = event.x, event.y\n",
    "def draw_line(event):#    \"\"\"Draw a line from the last point to the current point while dragging.\"\"\"\n",
    "    global start_x, start_y\n",
    "    canvas.create_line(start_x, start_y, event.x, event.y, fill=\"black\", width=2)\n",
    "    start_x, start_y = event.x, event.y  # Update the start position\n",
    "canvas = t.Canvas(m, width=500, height=400, bg=\"white\")\n",
    "canvas.pack(fill=t.BOTH, expand=True)\n",
    "canvas.bind(\"<Button-1>\", start_draw)   # Capture the starting point\n",
    "canvas.bind(\"<B1-Motion>\", draw_line)   # Draw while dragging\n",
    "\n",
    "m.mainloop()\n"
   ]
  },
  {
   "cell_type": "markdown",
   "metadata": {},
   "source": [
    "# 19. PannedWindow"
   ]
  },
  {
   "cell_type": "code",
   "execution_count": 7,
   "metadata": {},
   "outputs": [
    {
     "data": {
      "text/plain": [
       "'\"# pack() grid() place() \\n# Events and Bindings - widget.bind(event, handler)\\n# Key and Mouse Events\\n# Event Object\\n'"
      ]
     },
     "execution_count": 7,
     "metadata": {},
     "output_type": "execute_result"
    }
   ],
   "source": [
    "\"\"\"\"# pack() grid() place() \n",
    "# Events and Bindings - widget.bind(event, handler)\n",
    "# Key and Mouse Events\n",
    "# Event Object\n",
    "\"\"\""
   ]
  },
  {
   "cell_type": "markdown",
   "metadata": {},
   "source": []
  }
 ],
 "metadata": {
  "kernelspec": {
   "display_name": "base",
   "language": "python",
   "name": "python3"
  },
  "language_info": {
   "codemirror_mode": {
    "name": "ipython",
    "version": 3
   },
   "file_extension": ".py",
   "mimetype": "text/x-python",
   "name": "python",
   "nbconvert_exporter": "python",
   "pygments_lexer": "ipython3",
   "version": "3.11.4"
  }
 },
 "nbformat": 4,
 "nbformat_minor": 2
}
