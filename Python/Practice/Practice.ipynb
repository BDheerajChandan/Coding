{
 "cells": [
  {
   "cell_type": "markdown",
   "metadata": {},
   "source": [
    "# 1. Reverse a String"
   ]
  },
  {
   "cell_type": "code",
   "execution_count": 2,
   "metadata": {},
   "outputs": [
    {
     "name": "stdout",
     "output_type": "stream",
     "text": [
      "Before :  Dheeraj\n",
      "After :  jareehD\n"
     ]
    }
   ],
   "source": [
    "# Without function\n",
    "s1=\"Dheeraj\"\n",
    "s2=s1[::-1]\n",
    "print(\"Before : \",s1)\n",
    "print(\"After : \",s2)"
   ]
  },
  {
   "cell_type": "code",
   "execution_count": 4,
   "metadata": {},
   "outputs": [
    {
     "name": "stdout",
     "output_type": "stream",
     "text": [
      "Before :  Dheeraj\n",
      "After :  jareehD\n"
     ]
    }
   ],
   "source": [
    "# With Function\n",
    "def rev_str(s):\n",
    "    s1=s[::-1]\n",
    "    return s1\n",
    "s1=\"Dheeraj\"\n",
    "print(\"Before : \",s1)\n",
    "s2=rev_str(s1)\n",
    "print(\"After : \",s2)"
   ]
  },
  {
   "cell_type": "code",
   "execution_count": 21,
   "metadata": {},
   "outputs": [
    {
     "name": "stdout",
     "output_type": "stream",
     "text": [
      "Before :  Dheeraj\n",
      "After :  jareehD\n"
     ]
    }
   ],
   "source": [
    "# Using Reversed\n",
    "s1=\"Dheeraj\"\n",
    "print(\"Before : \", s1)\n",
    "s2=''.join(reversed(s1))\n",
    "print(\"After : \",s2)"
   ]
  },
  {
   "cell_type": "code",
   "execution_count": 22,
   "metadata": {},
   "outputs": [
    {
     "name": "stdout",
     "output_type": "stream",
     "text": [
      "Before :  Dheeraj\n",
      "After :  jareehD\n"
     ]
    }
   ],
   "source": [
    "# Using loop\n",
    "s1=\"Dheeraj\"\n",
    "print(\"Before : \",s1)\n",
    "s2=str()\n",
    "for i in s1:\n",
    "    s2=i+s2+\"\"\n",
    "print(\"After : \",s2)"
   ]
  },
  {
   "cell_type": "markdown",
   "metadata": {},
   "source": [
    "# 2. Check if a String is a Palindrome"
   ]
  },
  {
   "cell_type": "code",
   "execution_count": 23,
   "metadata": {},
   "outputs": [
    {
     "name": "stdout",
     "output_type": "stream",
     "text": [
      "Not a Palindrome\n"
     ]
    }
   ],
   "source": [
    "s1=\"Dheeraj\"\n",
    "if s1==s1[::-1]:\n",
    "    print(\"Palindrome\")\n",
    "else:\n",
    "    print(\"Not a Palindrome\")"
   ]
  },
  {
   "cell_type": "code",
   "execution_count": 25,
   "metadata": {},
   "outputs": [
    {
     "name": "stdout",
     "output_type": "stream",
     "text": [
      "Palindrome\n"
     ]
    }
   ],
   "source": [
    "s1=\"madam\"\n",
    "s2=\"\".join(reversed(s1))\n",
    "if s1==s2:\n",
    "    print(\"Palindrome\")\n",
    "else:\n",
    "    print(\"Not a Palindrome\")"
   ]
  },
  {
   "cell_type": "markdown",
   "metadata": {},
   "source": [
    "# 3. Find the Largest Number in a List"
   ]
  },
  {
   "cell_type": "code",
   "execution_count": null,
   "metadata": {},
   "outputs": [
    {
     "name": "stdout",
     "output_type": "stream",
     "text": [
      "73\n"
     ]
    }
   ],
   "source": [
    "# Using inbuilt method\n",
    "l1=[19,27,73,14,25]\n",
    "num_max=max(l1)\n",
    "print(num_max)"
   ]
  },
  {
   "cell_type": "code",
   "execution_count": 28,
   "metadata": {},
   "outputs": [
    {
     "name": "stdout",
     "output_type": "stream",
     "text": [
      "73\n"
     ]
    }
   ],
   "source": [
    "import numpy as np\n",
    "l1=[19,27,73,14,25]\n",
    "num_max= np.max(l1)\n",
    "print(num_max)"
   ]
  },
  {
   "cell_type": "code",
   "execution_count": 36,
   "metadata": {},
   "outputs": [
    {
     "name": "stdout",
     "output_type": "stream",
     "text": [
      "73\n"
     ]
    }
   ],
   "source": [
    "# Without Using inbuilt method\n",
    "l1=[19,27,73,14,25]\n",
    "max_num=l1[0]\n",
    "for i in range(1,len(l1)):\n",
    "    if l1[i]>max_num:\n",
    "        max_num=l1[i]\n",
    "print(max_num)"
   ]
  },
  {
   "cell_type": "markdown",
   "metadata": {},
   "source": [
    "# 4. Fibonacci Sequence"
   ]
  },
  {
   "cell_type": "code",
   "execution_count": 43,
   "metadata": {},
   "outputs": [
    {
     "name": "stdout",
     "output_type": "stream",
     "text": [
      "[0, 1, 1, 2, 3, 5, 8, 13, 21, 34, 55]\n",
      "{1: 0, 2: 1, 3: 2, 4: 3, 5: 5, 6: 8, 7: 13, 8: 21, 9: 34, 10: 55}\n"
     ]
    }
   ],
   "source": [
    "# without recurssion \n",
    "a=0\n",
    "b=1\n",
    "d=dict()\n",
    "l=list()\n",
    "d.update({1:a,2:b})\n",
    "l.extend([a,b])\n",
    "for i in range(2,11):\n",
    "    c=a+b\n",
    "    d.update({i:c})\n",
    "    l.append(c)\n",
    "    a=b\n",
    "    b=c\n",
    "print(l)\n",
    "print(d)\n"
   ]
  },
  {
   "cell_type": "code",
   "execution_count": 44,
   "metadata": {},
   "outputs": [
    {
     "name": "stdout",
     "output_type": "stream",
     "text": [
      "[0, 1, 1, 2, 3, 5, 8, 13, 21, 34, 55]\n",
      "{1: 0, 2: 1, 3: 1, 4: 2, 5: 3, 6: 5, 7: 8, 8: 13, 9: 21, 10: 34, 11: 55}\n"
     ]
    }
   ],
   "source": [
    "# Using Recurrsion\n",
    "def f(n):\n",
    "    if n==0:\n",
    "        return 0\n",
    "    elif n==1:\n",
    "        return 1\n",
    "    elif n>=2:\n",
    "        return f(n-1)+f(n-2)\n",
    "    else:\n",
    "        pass\n",
    "\n",
    "d=dict()\n",
    "l=list()\n",
    "for i in range(11):\n",
    "    res=f(i)\n",
    "    d.update({i+1:res})\n",
    "    l.append(res)\n",
    "    #print(res)\n",
    "print(l)\n",
    "print(d)"
   ]
  },
  {
   "cell_type": "markdown",
   "metadata": {},
   "source": [
    "# 5. Find Prime Numbers in a Range"
   ]
  },
  {
   "cell_type": "code",
   "execution_count": 49,
   "metadata": {},
   "outputs": [
    {
     "name": "stdout",
     "output_type": "stream",
     "text": [
      "2  : is a Prime number\n",
      "3  : is a Prime number\n",
      "5  : is a Prime number\n",
      "7  : is a Prime number\n",
      "11  : is a Prime number\n",
      "13  : is a Prime number\n",
      "17  : is a Prime number\n",
      "19  : is a Prime number\n"
     ]
    }
   ],
   "source": [
    "# Without a function\n",
    "num_range=20\n",
    "for i in range(1,num_range+1):\n",
    "    c=0\n",
    "    for j in range(1,i+1):\n",
    "        if i%j==0:\n",
    "            c=c+1\n",
    "    if c==2:\n",
    "        print(i,\" : is a Prime number\")\n",
    "    else:\n",
    "        #print(i,\" : Not a prime number\")\n",
    "        pass\n",
    "    c=0"
   ]
  },
  {
   "cell_type": "code",
   "execution_count": 52,
   "metadata": {},
   "outputs": [
    {
     "name": "stdout",
     "output_type": "stream",
     "text": [
      "2  : is a palindrome\n",
      "3  : is a palindrome\n",
      "5  : is a palindrome\n",
      "7  : is a palindrome\n",
      "11  : is a palindrome\n",
      "13  : is a palindrome\n",
      "17  : is a palindrome\n",
      "19  : is a palindrome\n"
     ]
    }
   ],
   "source": [
    "# With Function\n",
    "num_range=20\n",
    "def f(num):\n",
    "    for i in range(1,num+1):\n",
    "        c=0\n",
    "        for j in range(1,i+1):\n",
    "            if i%j==0:\n",
    "                c=c+1\n",
    "        if c==2:\n",
    "            print(i,\" : is a palindrome\")\n",
    "        else:\n",
    "            #print(i,\" : is not a palindrome\")\n",
    "            pass\n",
    "        c=0\n",
    "res=f(num_range)\n",
    "res\n"
   ]
  },
  {
   "cell_type": "markdown",
   "metadata": {},
   "source": [
    "# 6. Sum of Digits in an Integer"
   ]
  },
  {
   "cell_type": "code",
   "execution_count": 2,
   "metadata": {},
   "outputs": [
    {
     "name": "stdout",
     "output_type": "stream",
     "text": [
      "15\n"
     ]
    }
   ],
   "source": [
    "# String Indexing\n",
    "n=12345\n",
    "sum_num=0\n",
    "for i in str(n):\n",
    "    sum_num=sum_num+int(i)\n",
    "print(sum_num)"
   ]
  },
  {
   "cell_type": "code",
   "execution_count": 3,
   "metadata": {},
   "outputs": [
    {
     "name": "stdout",
     "output_type": "stream",
     "text": [
      "1234 10\n"
     ]
    }
   ],
   "source": [
    "# Loop + integers last digit\n",
    "n=1234\n",
    "d=n\n",
    "sum_num=0\n",
    "while(n!=0):\n",
    "    c=n%10\n",
    "    sum_num=sum_num+c\n",
    "    n=n//10\n",
    "print(d,sum_num)"
   ]
  },
  {
   "cell_type": "code",
   "execution_count": 5,
   "metadata": {},
   "outputs": [
    {
     "name": "stdout",
     "output_type": "stream",
     "text": [
      "15\n"
     ]
    }
   ],
   "source": [
    "# Using function\n",
    "def f(n):\n",
    "    sum_num=0\n",
    "    for i in str(n):\n",
    "        sum_num=sum_num+int(i)\n",
    "    print(sum_num)\n",
    "n=12345\n",
    "f(n)"
   ]
  },
  {
   "cell_type": "markdown",
   "metadata": {},
   "source": [
    "# 7. Count Occurrences of a Character in a String"
   ]
  },
  {
   "cell_type": "code",
   "execution_count": 6,
   "metadata": {},
   "outputs": [
    {
     "name": "stdout",
     "output_type": "stream",
     "text": [
      "{'D': 1, 'h': 1, 'e': 2, 'r': 1, 'a': 1, 'j': 1}\n"
     ]
    }
   ],
   "source": [
    "# Using inbuilt\n",
    "s1=\"Dheeraj\"\n",
    "s2=str()\n",
    "for i in s1:\n",
    "    if i not in s2:\n",
    "        s2=s2+i\n",
    "d=dict()\n",
    "for i in s2:\n",
    "    d.update({i:s1.count(i)})\n",
    "print(d)"
   ]
  },
  {
   "cell_type": "code",
   "execution_count": 7,
   "metadata": {},
   "outputs": [
    {
     "name": "stdout",
     "output_type": "stream",
     "text": [
      "{'D': 1, 'h': 1, 'e': 2, 'r': 1, 'a': 1, 'j': 1}\n"
     ]
    }
   ],
   "source": [
    "# sing counter\n",
    "from collections import Counter\n",
    "s1=\"Dheeraj\"\n",
    "d=dict(Counter(s1))\n",
    "print(d)"
   ]
  },
  {
   "cell_type": "code",
   "execution_count": 8,
   "metadata": {},
   "outputs": [
    {
     "name": "stdout",
     "output_type": "stream",
     "text": [
      "D  :  1\n",
      "h  :  1\n",
      "e  :  2\n",
      "r  :  1\n",
      "a  :  1\n",
      "j  :  1\n"
     ]
    }
   ],
   "source": [
    "# Without inbuilt and counter\n",
    "s1=\"Dheeraj\"\n",
    "s2=str()\n",
    "for i in s1:\n",
    "   if i not in s2:\n",
    "      s2=s2+i\n",
    "\n",
    "for i in s2:\n",
    "   c=0\n",
    "   for j in s1:\n",
    "      if i==j:\n",
    "         c=c+1\n",
    "   print(i,\" : \",c)"
   ]
  },
  {
   "cell_type": "markdown",
   "metadata": {},
   "source": [
    "# 8. Merge Two Sorted Lists"
   ]
  },
  {
   "cell_type": "code",
   "execution_count": 72,
   "metadata": {},
   "outputs": [
    {
     "name": "stdout",
     "output_type": "stream",
     "text": [
      "[1, 2, 3, 4, 5, 6, 8]\n"
     ]
    }
   ],
   "source": [
    "l1=[4,2,1,3]\n",
    "l2=[5,8,2,6]\n",
    "l1.sort()\n",
    "l2.sort()\n",
    "l3=list()\n",
    "l3.extend(l1)\n",
    "l3.extend(l2)\n",
    "l4=list()\n",
    "for i in l3:\n",
    "    if i not in l4:\n",
    "        l4.append(i)\n",
    "print(l4)"
   ]
  },
  {
   "cell_type": "code",
   "execution_count": 10,
   "metadata": {},
   "outputs": [
    {
     "name": "stdout",
     "output_type": "stream",
     "text": [
      "[1, 2, 3, 4, 5, 6, 8]\n"
     ]
    }
   ],
   "source": [
    "l1=[4,2,1,3]\n",
    "l2=[5,8,2,6]\n",
    "l3=list()\n",
    "l3.extend(l1)\n",
    "l3.extend(l2)\n",
    "l4=list()\n",
    "for i in l3:\n",
    "    if i not in l4:\n",
    "        l4.append(i)\n",
    "l4.sort()\n",
    "print(l4)"
   ]
  },
  {
   "cell_type": "markdown",
   "metadata": {},
   "source": [
    "# 9. Find the Missing Number"
   ]
  },
  {
   "cell_type": "code",
   "execution_count": 11,
   "metadata": {},
   "outputs": [
    {
     "name": "stdout",
     "output_type": "stream",
     "text": [
      "3 Not in l2\n",
      "4 Not in l2\n",
      "7 Not in l2\n"
     ]
    }
   ],
   "source": [
    "l2=[5,8,2,6]\n",
    "for i in range(min(l2),max(l2)+1):\n",
    "    if i not in l2:\n",
    "        print(i,\"Not in l2\")"
   ]
  },
  {
   "cell_type": "markdown",
   "metadata": {},
   "source": [
    "# 10. Find the Common Elements in Two Lists"
   ]
  },
  {
   "cell_type": "code",
   "execution_count": 75,
   "metadata": {},
   "outputs": [
    {
     "name": "stdout",
     "output_type": "stream",
     "text": [
      "2\n",
      "5\n"
     ]
    }
   ],
   "source": [
    "l1=[4,2,1,3,5]\n",
    "l2=[5,8,2,6,7]\n",
    "for i in l1:\n",
    "    if i in l2:\n",
    "        print(i)"
   ]
  },
  {
   "cell_type": "code",
   "execution_count": 78,
   "metadata": {},
   "outputs": [
    {
     "name": "stdout",
     "output_type": "stream",
     "text": [
      "[2 5]\n"
     ]
    }
   ],
   "source": [
    "import numpy as np\n",
    "l1=[4,2,1,3,5]\n",
    "l2=[5,8,2,6,7]\n",
    "print(np.intersect1d(l1,l2))"
   ]
  },
  {
   "cell_type": "code",
   "execution_count": 17,
   "metadata": {},
   "outputs": [
    {
     "name": "stdout",
     "output_type": "stream",
     "text": [
      "[2, 5]\n"
     ]
    }
   ],
   "source": [
    "l1=[4,2,1,3,5]\n",
    "l2=[5,8,2,6,7]\n",
    "l=list(set(l1)&set(l2))\n",
    "print(l)"
   ]
  },
  {
   "cell_type": "markdown",
   "metadata": {},
   "source": [
    "# 11. Count Vowels and Consonants in a String"
   ]
  },
  {
   "cell_type": "code",
   "execution_count": 80,
   "metadata": {},
   "outputs": [
    {
     "name": "stdout",
     "output_type": "stream",
     "text": [
      "['e', 'e', 'a']\n",
      "['D', 'h', 'r', 'j']\n"
     ]
    }
   ],
   "source": [
    "s1=\"Dheer!##aj\"\n",
    "v=list()\n",
    "c=list()\n",
    "for i in s1:\n",
    "    if i in \"aeiou\":\n",
    "        v.append(i)\n",
    "    elif str(i).isalpha() and i not in \"!@#$%^&*()\":\n",
    "        c.append(i)\n",
    "\n",
    "print(v)\n",
    "print(c)"
   ]
  },
  {
   "cell_type": "code",
   "execution_count": 20,
   "metadata": {},
   "outputs": [
    {
     "name": "stdout",
     "output_type": "stream",
     "text": [
      "D  : Consonent\n",
      "h  : Consonent\n",
      "e  : Vowel\n",
      "e  : Vowel\n",
      "r  : Consonent\n",
      "!  : Special character\n",
      "#  : Special character\n",
      "#  : Special character\n",
      "a  : Vowel\n",
      "j  : Consonent\n"
     ]
    }
   ],
   "source": [
    "s1=\"Dheer!##aj\"\n",
    "for i in s1:\n",
    "    if ((i>='a' and i<='z') or (i>='A' and i<='Z')) and i in \"aeiouAEIOU\":\n",
    "        print(i,\" : Vowel\")\n",
    "    elif((i>='a' and i<='z') or (i>='A' and i<='Z')) and i not in \"aeiouAEIOU\":\n",
    "        print(i,\" : Consonent\")\n",
    "    else:\n",
    "        print(i,' : Special character')"
   ]
  },
  {
   "cell_type": "markdown",
   "metadata": {},
   "source": [
    "# 12 Find the Intersection of Two Arrays"
   ]
  },
  {
   "cell_type": "code",
   "execution_count": 22,
   "metadata": {},
   "outputs": [
    {
     "name": "stdout",
     "output_type": "stream",
     "text": [
      "[2 3]\n"
     ]
    }
   ],
   "source": [
    "import numpy as np\n",
    "a1=np.array([1,2,3,4])\n",
    "a2=np.array([5,6,3,8,2])\n",
    "a=np.intersect1d(a1,a2)\n",
    "print(a)"
   ]
  },
  {
   "cell_type": "markdown",
   "metadata": {},
   "source": [
    "# 13 Sort a List of Strings by Length"
   ]
  },
  {
   "cell_type": "code",
   "execution_count": 45,
   "metadata": {},
   "outputs": [
    {
     "name": "stdout",
     "output_type": "stream",
     "text": [
      "['Mohit', 'Ramesh', 'Dheeraj', 'B Sunil', 'Dheeraj Chandan']\n"
     ]
    }
   ],
   "source": [
    "s1 = [\"Dheeraj\", \"Dheeraj Chandan\", \"Ramesh\", \"B Sunil\", \"Mohit\"]\n",
    "s2=sorted(s1,key=len)\n",
    "print(s2)"
   ]
  },
  {
   "cell_type": "markdown",
   "metadata": {},
   "source": [
    "# 14 Find the First Non-Repeated Character"
   ]
  },
  {
   "cell_type": "code",
   "execution_count": 46,
   "metadata": {},
   "outputs": [
    {
     "name": "stdout",
     "output_type": "stream",
     "text": [
      "r\n",
      "a\n",
      "j\n"
     ]
    }
   ],
   "source": [
    "s=\"DhhheerajD\"\n",
    "d=dict()\n",
    "for i in s:\n",
    "    if s.count(i)==1:\n",
    "        print(i)"
   ]
  },
  {
   "cell_type": "code",
   "execution_count": 49,
   "metadata": {},
   "outputs": [
    {
     "name": "stdout",
     "output_type": "stream",
     "text": [
      "r\n",
      "a\n",
      "j\n"
     ]
    }
   ],
   "source": [
    "s=\"DhhheerajD\"\n",
    "d=dict()\n",
    "for i in s:\n",
    "    d.update({i:s.count(i)})\n",
    "\n",
    "for i,j in d.items():\n",
    "    if j==1:\n",
    "        print(i)"
   ]
  },
  {
   "cell_type": "markdown",
   "metadata": {},
   "source": [
    "# 15 Find the Anagram of a String"
   ]
  },
  {
   "cell_type": "code",
   "execution_count": 47,
   "metadata": {},
   "outputs": [
    {
     "name": "stdout",
     "output_type": "stream",
     "text": [
      "silent and listen are Anagrams.\n"
     ]
    }
   ],
   "source": [
    "from collections import Counter\n",
    "s1 = \"silent\"\n",
    "s2 = \"listen\"\n",
    "if Counter(s1)==Counter(s2):\n",
    "    print(f\"{s1} and {s2} are Anagrams.\")\n",
    "else:\n",
    "    print(f\"{s1} and {s2} are not Anagrams.\")"
   ]
  },
  {
   "cell_type": "code",
   "execution_count": 53,
   "metadata": {},
   "outputs": [
    {
     "name": "stdout",
     "output_type": "stream",
     "text": [
      "Yes\n"
     ]
    }
   ],
   "source": [
    "s1 = \"silent\"\n",
    "s2 = \"listen\"\n",
    "\n",
    "d1={}\n",
    "d2={}\n",
    "for i in s1:\n",
    "    d1[i]=d1.get(i,0)+1\n",
    "for i in s2:\n",
    "    d2[i]=d2.get(i,0)+1\n",
    "\n",
    "if d1==d2:\n",
    "    print(\"Yes\")\n",
    "else:\n",
    "    print(\"No\")"
   ]
  },
  {
   "cell_type": "markdown",
   "metadata": {},
   "source": [
    "# 16 Remove Duplicates from a List"
   ]
  },
  {
   "cell_type": "code",
   "execution_count": 48,
   "metadata": {},
   "outputs": [
    {
     "name": "stdout",
     "output_type": "stream",
     "text": [
      "[1, 2, 3, 4, 5, 6, 7, 3, 4, 5]\n",
      "[1, 2, 6, 7, 3, 4, 5]\n"
     ]
    }
   ],
   "source": [
    "l1=[1,2,3,4,5,6,7,3,4,5]\n",
    "print(l1)\n",
    "for i in l1:\n",
    "    if l1.count(i)>1:\n",
    "        l1.remove(i)\n",
    "print(l1)"
   ]
  },
  {
   "cell_type": "code",
   "execution_count": 52,
   "metadata": {},
   "outputs": [
    {
     "name": "stdout",
     "output_type": "stream",
     "text": [
      "[1, 2, 3, 4, 5, 6, 7, 3, 4, 5]\n",
      "[1, 2, 3, 4, 5, 6, 7]\n"
     ]
    }
   ],
   "source": [
    "l1=[1,2,3,4,5,6,7,3,4,5]\n",
    "print(l1)\n",
    "l2=list(dict.fromkeys(l1))\n",
    "print(l2)"
   ]
  },
  {
   "cell_type": "markdown",
   "metadata": {},
   "source": [
    "# 18. OOPs"
   ]
  },
  {
   "cell_type": "code",
   "execution_count": null,
   "metadata": {},
   "outputs": [
    {
     "name": "stdout",
     "output_type": "stream",
     "text": [
      "30\n"
     ]
    }
   ],
   "source": [
    "# Abstraction \n",
    "class A:\n",
    "    def __init__(self,a,b):\n",
    "        self.a=a\n",
    "        self.b=b\n",
    "    def sumnum(self):\n",
    "        print(self.a+self.b)\n",
    "a=A(10,20)\n",
    "a.sumnum()\n",
    " \n",
    "\n",
    "\n"
   ]
  },
  {
   "cell_type": "code",
   "execution_count": 62,
   "metadata": {},
   "outputs": [
    {
     "name": "stdout",
     "output_type": "stream",
     "text": [
      "6\n"
     ]
    }
   ],
   "source": [
    "# Encapsulation\n",
    "class A:\n",
    "    def sumnum(self,*args):\n",
    "        print(sum(args))\n",
    "a=A()\n",
    "a.sumnum(1,2,3)"
   ]
  },
  {
   "cell_type": "code",
   "execution_count": 56,
   "metadata": {},
   "outputs": [
    {
     "name": "stdout",
     "output_type": "stream",
     "text": [
      "Meoww !!\n",
      "Bhowww !!\n"
     ]
    }
   ],
   "source": [
    "# Inheritance \n",
    "class Animal:\n",
    "    def __init__(self):\n",
    "        pass\n",
    "    def sound(self):\n",
    "        print(\"Animal Sound\")\n",
    "\n",
    "class Dog(Animal):\n",
    "    def __init__(self):\n",
    "        super().__init__()\n",
    "    def sound(self):\n",
    "        print(\"Bhowww !!\")\n",
    "class Cat(Animal):\n",
    "    def __init__(self):\n",
    "        super().__init__()\n",
    "    def sound(self):\n",
    "        print(\"Meoww !!\")\n",
    "\n",
    "c=Cat()\n",
    "c.sound()\n",
    "d=Dog()\n",
    "d.sound()"
   ]
  },
  {
   "cell_type": "code",
   "execution_count": null,
   "metadata": {},
   "outputs": [],
   "source": [
    "# Polymorphism\n",
    "class Operation:\n",
    "    def __init__(self):\n",
    "        pass\n",
    "    def math(*args):\n",
    "        print(sum(args))\n",
    "O=Operation()\n",
    "O.math(1,2,2)\n",
    "O.math(3,4,5)"
   ]
  },
  {
   "cell_type": "markdown",
   "metadata": {},
   "source": [
    "# 19. Generators"
   ]
  },
  {
   "cell_type": "code",
   "execution_count": 69,
   "metadata": {},
   "outputs": [
    {
     "name": "stdout",
     "output_type": "stream",
     "text": [
      "0\n",
      "1\n",
      "2\n",
      "3\n",
      "4\n"
     ]
    }
   ],
   "source": [
    "def f(n):\n",
    "    for i in range(n):\n",
    "        yield i\n",
    "res=f(5)\n",
    "for i in res:\n",
    "    print(i)"
   ]
  },
  {
   "cell_type": "markdown",
   "metadata": {},
   "source": [
    "# 20. Decoators"
   ]
  },
  {
   "cell_type": "code",
   "execution_count": 78,
   "metadata": {},
   "outputs": [
    {
     "name": "stdout",
     "output_type": "stream",
     "text": [
      "HIs\n",
      "Hello\n"
     ]
    }
   ],
   "source": [
    "def f(s):\n",
    "    print(\"HIs\")\n",
    "    def wrap():\n",
    "        return s()\n",
    "    return wrap\n",
    "\n",
    "@f\n",
    "def s():\n",
    "    print(\"Hello\")\n",
    "s()\n"
   ]
  },
  {
   "cell_type": "markdown",
   "metadata": {},
   "source": [
    "# 21. Sort"
   ]
  },
  {
   "cell_type": "code",
   "execution_count": 88,
   "metadata": {},
   "outputs": [
    {
     "name": "stdout",
     "output_type": "stream",
     "text": [
      "[5, 8, 2, 6, 7]\n",
      "[2, 5, 6, 7, 8]\n"
     ]
    }
   ],
   "source": [
    "l=[5,8,2,6,7]\n",
    "print(l)\n",
    "\n",
    "for i in range(len(l)):\n",
    "    for j in range(len(l)-i-1):\n",
    "        if l[j]>l[j+1]:\n",
    "            l[j],l[j+1]=l[j+1],l[j]\n",
    "print(l)"
   ]
  },
  {
   "cell_type": "markdown",
   "metadata": {},
   "source": [
    "# 22. Search"
   ]
  },
  {
   "cell_type": "code",
   "execution_count": 101,
   "metadata": {},
   "outputs": [
    {
     "name": "stdout",
     "output_type": "stream",
     "text": [
      "Target found\n"
     ]
    }
   ],
   "source": [
    "l=[5,8,2,6,7]\n",
    "l.sort()\n",
    "\n",
    "target=6\n",
    "lb=0\n",
    "ub=len(l)-1\n",
    "index_pos=-1\n",
    "\n",
    "while(lb<=ub):\n",
    "    mid=(ub+lb)//2\n",
    "    if target==l[mid]:\n",
    "        index_pos=mid\n",
    "        break\n",
    "    elif target<l[mid]:\n",
    "        ub=mid-1\n",
    "    elif target>l[mid]:\n",
    "        lb=mid+1\n",
    "    else:\n",
    "        pass\n",
    "if index_pos==-1:\n",
    "    print(\"Target not found\")\n",
    "else:\n",
    "    print(\"Target found\")"
   ]
  },
  {
   "cell_type": "markdown",
   "metadata": {},
   "source": [
    "### **Python Interview Coding Questions (1-3+ Years Experience)**  \n",
    "\n",
    "#### **Beginner-Level Questions**  \n",
    "1. Reverse a string without using built-in functions.  \n",
    "2. Check if a number is prime.  \n",
    "3. Find the factorial of a number using recursion.  \n",
    "4. Generate the first N Fibonacci numbers.  \n",
    "\n",
    "#### **Intermediate-Level Questions**  \n",
    "5. Find the missing number in an array.  \n",
    "6. Remove duplicates from a list.  \n",
    "7. Check if two strings are anagrams.  \n",
    "8. Find the first non-repeating character in a string.  \n",
    "9. Find the second largest number in a list.  \n",
    "10. Sort a list without using the sort function.  \n",
    "\n",
    "#### **Advanced-Level Questions**  \n",
    "11. Find the longest substring without repeating characters.  \n",
    "12. Find the intersection of two lists.  \n",
    "13. Find the majority element in a list.  \n",
    "14. Check if a string is a palindrome.  \n",
    "15. Merge two sorted lists.  \n",
    "16. Find the first repeating element in a list.  \n",
    "\n",
    "#### **Bonus (Data Structures & Algorithms)**  \n",
    "17. Implement a stack using a list.  \n",
    "18. Implement a queue using two stacks.  \n",
    "19. Find the Kth largest element in an array.  \n",
    "20. Find the lowest common ancestor in a binary tree.  \n",
    "\n",
    "Would you like questions on specific topics like **OOP, SQL, or Data Structures**? 😊"
   ]
  },
  {
   "cell_type": "markdown",
   "metadata": {},
   "source": []
  }
 ],
 "metadata": {
  "kernelspec": {
   "display_name": "base",
   "language": "python",
   "name": "python3"
  },
  "language_info": {
   "codemirror_mode": {
    "name": "ipython",
    "version": 3
   },
   "file_extension": ".py",
   "mimetype": "text/x-python",
   "name": "python",
   "nbconvert_exporter": "python",
   "pygments_lexer": "ipython3",
   "version": "3.11.4"
  }
 },
 "nbformat": 4,
 "nbformat_minor": 2
}
