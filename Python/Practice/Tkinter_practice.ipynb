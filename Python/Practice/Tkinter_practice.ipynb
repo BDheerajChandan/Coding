{
 "cells": [
  {
   "cell_type": "code",
   "execution_count": null,
   "metadata": {},
   "outputs": [],
   "source": [
    "\"\"\"\n",
    "Tk()\n",
    "mainloop()\n",
    "Ttk()\n",
    "\n",
    "Label , Button , Entry() , CheckButton() , RadioButton() , Listbox()\n",
    "Scrollbar() , Menu() , Combobx() , Scale() , TopLevel() , Message() , \n",
    "MenuButton() , Progressbar() , SpinBox() , Text() , Canvas() , PannedWindow()\n",
    "\n",
    "pack()\n",
    "grid()\n",
    "place()\n",
    "def f(event):pass\n",
    "bind()\n",
    "\"\"\""
   ]
  },
  {
   "cell_type": "code",
   "execution_count": null,
   "metadata": {},
   "outputs": [],
   "source": []
  },
  {
   "cell_type": "code",
   "execution_count": 47,
   "metadata": {},
   "outputs": [],
   "source": [
    "# Label\n",
    "import tkinter as t\n",
    "m=t.Tk(screenName=None,baseName=None,className=\"Window 1\",useTk=1)\n",
    "m.geometry(\"300x200\")\n",
    "m.title(\"Code 1\")\n",
    "\n",
    "\n",
    "w=t.Label(m,text=\"Label 1 :\")\n",
    "w.grid(row=0,column=1)\n",
    "w.pack()\n",
    "\n",
    "m.mainloop()"
   ]
  },
  {
   "cell_type": "code",
   "execution_count": null,
   "metadata": {},
   "outputs": [],
   "source": [
    "# Button\n",
    "import tkinter as t\n",
    "m=t.Tk(screenName=None,baseName=None,className=\"Window 1\")\n",
    "m.geometry(\"300x200\")\n",
    "m.title(\"Code 1\")\n",
    "\n",
    "w=t.Button(m,text=\"Button 1\")\n",
    "w.grid(row=0,column=1)\n",
    "w.pack()\n",
    "\n",
    "m.mainloop()"
   ]
  },
  {
   "cell_type": "code",
   "execution_count": 49,
   "metadata": {},
   "outputs": [],
   "source": [
    "# Entry()\n",
    "import tkinter as t\n",
    "m=t.Tk(screenName=None,baseName=None,className=\"Window 1\",useTk=1)\n",
    "m.geometry(\"300x200\")\n",
    "m.title(\"Code 1\")\n",
    "\n",
    "n1=t.IntVar(value=0)\n",
    "w1=t.Entry(m,textvariable=n1)\n",
    "w1.grid(row=0,column=2)\n",
    "\n",
    "s1=t.StringVar(value=\".\")\n",
    "w2=t.Entry(m,textvariable=s1)\n",
    "w2.grid(row=1,column=2)\n",
    "#w.pack()\n",
    "\n",
    "m.mainloop()"
   ]
  },
  {
   "cell_type": "code",
   "execution_count": 50,
   "metadata": {},
   "outputs": [],
   "source": [
    "# CheckButton() \n",
    "import tkinter as t\n",
    "m=t.Tk(screenName=None,baseName=None,className=\"Window 1\",useTk=1)\n",
    "m.geometry(\"300x200\")\n",
    "m.title(\"Code 1\")\n",
    "\n",
    "w=t.Checkbutton(m,text=\"Checkbutton_1\")\n",
    "w.pack()\n",
    "w=t.Checkbutton(m,text=\"Checkbutton_2\")\n",
    "w.pack()\n",
    "\n",
    "m.mainloop()"
   ]
  },
  {
   "cell_type": "code",
   "execution_count": null,
   "metadata": {},
   "outputs": [],
   "source": [
    "import tkinter as t\n",
    "m=t.Tk(screenName=None,baseName=None,className=\"Window 1\",useTk=1)\n",
    "m.geometry(\"300x200\")\n",
    "m.title(\"Code 1\")\n",
    "\n",
    "w1=t.Checkbutton(m,text=\"Checkbutton_1\",variable=None)\n",
    "w1.grid(row=0,column=0)\n",
    "#w1.pack()\n",
    "w2=t.Checkbutton(m,text=\"Checkbutton_2\",variable=None)\n",
    "w2.grid(row=0,column=1)\n",
    "#w2.pack()\n",
    "\n",
    "m.mainloop()"
   ]
  },
  {
   "cell_type": "code",
   "execution_count": 65,
   "metadata": {},
   "outputs": [],
   "source": [
    "# RadioButton()\n",
    "import tkinter as t\n",
    "m=t.Tk(screenName=None,baseName=None,className=\"Window 1\",useTk=1)\n",
    "m.geometry(\"300x200\")\n",
    "m.title(\"Code 1\")\n",
    "\n",
    "n=t.IntVar(value=0)\n",
    "w=t.Radiobutton(m,text=\"Radiobutton 1\",variable=n,value=0)\n",
    "w.pack()\n",
    "w=t.Radiobutton(m,text=\"Radiobutton 2\",variable=n,value=2)\n",
    "w.pack()\n",
    "\n",
    "m.mainloop()"
   ]
  },
  {
   "cell_type": "code",
   "execution_count": 68,
   "metadata": {},
   "outputs": [],
   "source": [
    "# Listbox()\n",
    "import tkinter as t\n",
    "m=t.Tk(screenName=None,baseName=None,className=\"Window 1\",useTk=1)\n",
    "m.geometry(\"300x200\")\n",
    "m.title(\"Code 1\")\n",
    "\n",
    "w=t.Listbox()\n",
    "w.insert(1,\"Dheeraj\")\n",
    "w.insert(2,\"Chandan\")\n",
    "w.pack()\n",
    "\n",
    "m.mainloop()"
   ]
  },
  {
   "cell_type": "code",
   "execution_count": 6,
   "metadata": {},
   "outputs": [],
   "source": [
    "# scrollbar\n",
    "import tkinter as t\n",
    "m=t.Tk()\n",
    "m.geometry(\"300x200\")\n",
    "m.title(\"Code 1\")\n",
    "\n",
    "w=t.Scrollbar(m)\n",
    "w.pack(fill=t.BOTH,side=t.RIGHT)\n",
    "l=t.Listbox(m,yscrollcommand=w.set)\n",
    "for i in range(100):\n",
    "    l.insert(t.END,i+1)\n",
    "l.pack(fill=t.BOTH,side=t.RIGHT)\n",
    "w.config()\n",
    "\n",
    "m.mainloop()"
   ]
  },
  {
   "cell_type": "code",
   "execution_count": 10,
   "metadata": {},
   "outputs": [],
   "source": [
    "# Menu\n",
    "import tkinter as t\n",
    "m=t.Tk()\n",
    "m.geometry(\"300x200\")\n",
    "m.title(\"Code 1\")\n",
    "\n",
    "w=t.Menu(m)\n",
    "m.config(menu=w)\n",
    "\n",
    "fm1=t.Menu(m)\n",
    "w.add_cascade(label=\"Menu\",menu=fm1)\n",
    "fm1.add_command(label=\"New\")\n",
    "fm1.add_command(label=\"Open\")\n",
    "fm1.add_separator()\n",
    "fm1.add_command(label=\"Exit\",command=m.quit)\n",
    "\n",
    "fm2=t.Menu(m)\n",
    "w.add_cascade(label=\"Help\",command=fm2)\n",
    "fm2.add_command(label=\"Help\")\n",
    "\n",
    "m.mainloop()"
   ]
  },
  {
   "cell_type": "code",
   "execution_count": 19,
   "metadata": {},
   "outputs": [],
   "source": [
    "# Combobx()\n",
    "import tkinter as t\n",
    "from tkinter import ttk\n",
    "m=t.Tk()\n",
    "m.geometry()\n",
    "m.title()\n",
    "\n",
    "w=ttk.Combobox(values=[i for i in str(\"Dheeraj\")])\n",
    "w.pack()\n",
    "w.set(\"Option 1\")\n",
    "\n",
    "m.mainloop()"
   ]
  },
  {
   "cell_type": "code",
   "execution_count": 24,
   "metadata": {},
   "outputs": [],
   "source": [
    " # Scale() \n",
    "import tkinter as t\n",
    "m=t.Tk()\n",
    "m.geometry()\n",
    "m.title()\n",
    "\n",
    "w1=t.Scale(m,from_=0,to=100,orient=\"horizontal\")\n",
    "#w1.grid(row=0,column=0)\n",
    "w1.pack()\n",
    "w2=t.Scale(m,from_=0,to=100,orient=\"vertical\")\n",
    "#w2.grid(row=0,column=1)\n",
    "w2.pack()\n",
    "\n",
    "w1.set(25)\n",
    "w2.set(50)\n",
    "\n",
    "m.mainloop()"
   ]
  },
  {
   "cell_type": "code",
   "execution_count": 32,
   "metadata": {},
   "outputs": [],
   "source": [
    "# TopLevel() \n",
    "import tkinter as t\n",
    "m=t.Tk(screenName=None,baseName=None,className=\"Window 1\",useTk=1)\n",
    "m.geometry(\"300x200\")\n",
    "m.title(\"Code 1\")\n",
    "\n",
    "w1=t.Toplevel(m)\n",
    "w1.title(\"code 1.1\")\n",
    "w2=t.Toplevel(m)\n",
    "w2.title(\"code 1.2\")\n",
    "\n",
    "m.mainloop()"
   ]
  },
  {
   "cell_type": "code",
   "execution_count": 54,
   "metadata": {},
   "outputs": [],
   "source": [
    "# Message()\n",
    "import tkinter as t\n",
    "m=t.Tk(screenName=None,baseName=None,className=\"Window 1\",useTk=1)\n",
    "m.geometry(\"300x200\")\n",
    "m.title(\"Code 1\")\n",
    "\n",
    "w=t.Message(m,text=\"Hi I am Dheeraj\\nFrom Srikakulam.\",width=100,borderwidth=1,relief=\"solid\")\n",
    "w.pack()\n",
    "\n",
    "m.mainloop()"
   ]
  },
  {
   "cell_type": "code",
   "execution_count": null,
   "metadata": {},
   "outputs": [],
   "source": [
    "# MenuButton() "
   ]
  },
  {
   "cell_type": "code",
   "execution_count": null,
   "metadata": {},
   "outputs": [],
   "source": [
    "# Progressbar()\n"
   ]
  },
  {
   "cell_type": "code",
   "execution_count": null,
   "metadata": {},
   "outputs": [],
   "source": [
    "# SpinBox()"
   ]
  },
  {
   "cell_type": "code",
   "execution_count": 10,
   "metadata": {},
   "outputs": [],
   "source": [
    "# Text()\n",
    "import tkinter as t\n",
    "m=t.Tk(screenName=None,baseName=None,className=\"Window 1\",useTk=1)\n",
    "m.geometry(\"300x200\")\n",
    "m.title(\"Code 1\")\n",
    "\n",
    "w=t.Text(m,height=10,width=10)\n",
    "w.pack()\n",
    "w.insert(t.END,\"Hi I am Dheeraj\\nChandan from Srikakulam\")\n",
    "w.pack()\n",
    "\n",
    "m.mainloop()"
   ]
  },
  {
   "cell_type": "code",
   "execution_count": null,
   "metadata": {},
   "outputs": [],
   "source": [
    "# Canvas()"
   ]
  },
  {
   "cell_type": "code",
   "execution_count": null,
   "metadata": {},
   "outputs": [],
   "source": [
    "# PannedWindow()"
   ]
  },
  {
   "cell_type": "code",
   "execution_count": null,
   "metadata": {},
   "outputs": [],
   "source": []
  },
  {
   "cell_type": "code",
   "execution_count": null,
   "metadata": {},
   "outputs": [],
   "source": []
  },
  {
   "cell_type": "code",
   "execution_count": null,
   "metadata": {},
   "outputs": [],
   "source": []
  },
  {
   "cell_type": "code",
   "execution_count": 4,
   "metadata": {},
   "outputs": [
    {
     "name": "stdout",
     "output_type": "stream",
     "text": [
      "10\n",
      "100\n",
      "False\n",
      "[]\n"
     ]
    }
   ],
   "source": [
    "class C:\n",
    "    def __init__(self, a, b):\n",
    "        self.a = a\n",
    "        self.b = 0\n",
    "        self.c = []\n",
    "        \n",
    "    def f1(self):\n",
    "        self.a = 10\n",
    "        print(self.a)\n",
    "    \n",
    "    def f2(self, new_b):\n",
    "        self.b = new_b\n",
    "        print(self.b)\n",
    "    def f3(self):\n",
    "        c=[2,3,4]\n",
    "        print(self.b==c)\n",
    "        print(self.c)\n",
    "obj = C(5, 3) \n",
    "obj.f1()      #     10\n",
    "obj.f2(100)   #     100\n",
    "obj.f3()\n"
   ]
  },
  {
   "cell_type": "code",
   "execution_count": null,
   "metadata": {},
   "outputs": [],
   "source": []
  }
 ],
 "metadata": {
  "kernelspec": {
   "display_name": "base",
   "language": "python",
   "name": "python3"
  },
  "language_info": {
   "codemirror_mode": {
    "name": "ipython",
    "version": 3
   },
   "file_extension": ".py",
   "mimetype": "text/x-python",
   "name": "python",
   "nbconvert_exporter": "python",
   "pygments_lexer": "ipython3",
   "version": "3.11.4"
  }
 },
 "nbformat": 4,
 "nbformat_minor": 2
}
