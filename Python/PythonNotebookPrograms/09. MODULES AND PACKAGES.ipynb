{
 "cells": [
  {
   "cell_type": "code",
   "execution_count": 1,
   "metadata": {},
   "outputs": [
    {
     "data": {
      "text/plain": [
       "1"
      ]
     },
     "execution_count": 1,
     "metadata": {},
     "output_type": "execute_result"
    }
   ],
   "source": [
    "1 #                PIP INSTALL AND PYPI\n",
    "\n",
    "\n",
    "# 'pip install' is a command line is to install packages\n",
    "\n",
    "# The  Python Package Index(PyPI) is a repository of software for the \n",
    "#  Python programming languagePyPI helps us to find and install software developed \n",
    "#  and shared by python community.\n",
    "\n",
    "# PyPI is a repository for open source third party Python packages.\n",
    "\n",
    "# We can use pip install at the command line to install these packages\n",
    "\n",
    "# By installing python from python.org or through the anaconda distribution \n",
    "# you also installed pip\n",
    "\n",
    "# pip is the simple way to download packages at your command liine \n",
    "# directly from the PyPi repository\n",
    "\n",
    "# We can work on external packages by installing after downloading:\n",
    "#           i.   Windows user: command Prompt\n",
    "#           ii.  MacOS/Linux User: Terminal\n",
    "\n",
    "# To open command terminal do follwing steps\n",
    "#       Step 1:\n",
    "#          Open anaconda navigator\n",
    "#      step 2:\n",
    "#          After opening click on new\n",
    "#      step 3:\n",
    "#          click on *terminal*\n",
    "#      step 4:\n",
    "#          Write the statements/code.\n",
    "\n",
    "        \n",
    "# CODE/STATEMENT:\n",
    "#       pip install requests\n",
    "#       pip install colorama\n",
    "#       python\n",
    "#       from colorama import init\n",
    "#       init()\n",
    "#       from colorama import Fore\n",
    "#       print(Fore.RED+\"HI I AM DHEERAJ\")\n",
    "#       print(Fore.BLUE+\"HI I AM DHEERAJ\")\n",
    "#       print(Fore.GREEN+\"HI I AM DHEERAJ\")\n",
    "#       print(Fore.YELLOW+\"HI I AM DHEERAJ\")\n",
    "#       print(Fore.BLACK+\"HI I AM DHEERAJ\")\n",
    "#       print(Fore.WHITE+\"HI I AM DHEERAJ\")\n",
    "\n",
    "# use quit() to end python command session\n",
    "\n",
    "# Google search \"python package for excel\" the click on pythonexcel.org \n",
    "# then click on documentation where you will find different packages\n",
    "\n",
    "# open the terminal in anaconda navigator\n",
    "# Then write,    pip install openpyxl\n",
    "#                python\n",
    "#                import openpyxl"
   ]
  },
  {
   "cell_type": "code",
   "execution_count": null,
   "metadata": {},
   "outputs": [],
   "source": []
  },
  {
   "cell_type": "code",
   "execution_count": null,
   "metadata": {},
   "outputs": [],
   "source": []
  },
  {
   "cell_type": "code",
   "execution_count": 2,
   "metadata": {},
   "outputs": [
    {
     "data": {
      "text/plain": [
       "2"
      ]
     },
     "execution_count": 2,
     "metadata": {},
     "output_type": "execute_result"
    }
   ],
   "source": [
    "2 #                MODULES AND PACKAGES\n",
    "\n",
    "\n",
    "\n",
    "\n",
    "\n",
    "# Here we are going to learn about \" How to create own modules and packages \"\n",
    "# Modules are just .py scripts that ypu call in another .py script.\n",
    "# Using .pyscript in another .pyscript ,this act is known as \" modules \"\n",
    "# packages are the collection of modules.\n",
    "\n",
    "# In sublime text editor\n",
    "\n",
    "\n",
    "#USING TWO DIFFERENT FILE\n",
    "\n",
    "#    STEP1:   Open sublime text editor and create 2 new files.\n",
    "#    STEP2:   Save 2 files with .py script    (say MP91.py and MP92.py)\n",
    "#    STEP3:   code in MP91.py,\n",
    "#                               def a():\n",
    "#                                  print(\" HI \")\n",
    "#    STEP4:   code in MP92.py,\n",
    "#                               from MP91 import a\n",
    "#                                  a()               # HI\n",
    "#    STEP5:   commands in anaconda terminal,\n",
    "#                               location>> python MP92.py then press enter to get output.\n",
    "\n",
    "#USING SINGLE FILE\n",
    "\n",
    "#    STEP1:   Open sublime text editor and create a new file.\n",
    "#    STEP2:   Save this file with .py script    (say MP93.py)\n",
    "#    STEP3:   code in MP93.py,\n",
    "#                               def a():\n",
    "#                                  print(\" HI \")\n",
    "#                               a()               # HI\n",
    "#    STEP5:   commands in anaconda terminal,\n",
    "#                               location>> python MP93.py then press enter to get output.\n",
    "\n",
    "\n",
    "\n",
    "\n",
    "# Calling modules together to form a package.\n",
    "\n",
    "# STEP 1: Create a folder file and other file inside this file (say: pack and subpack respectively) on desktop\n",
    "# STEP 2: Open sublime text editor and create and save a two new files '__init__.py' in both file(i.e pack and subpack)\n",
    "# STEP 3: Again create two new files in sublime text editor named 'p.py' and 'sp.py' and save within \n",
    "#         folder file and sub file respectively\n",
    "# STEP 5: Write the code in p.py,\n",
    "#                                 def a():\n",
    "#                                    print(\"pack\")\n",
    "# STEP 6: Write the code in sp.py,\n",
    "#                                 def b():\n",
    "#                                    print(\"sub pack\")\n",
    "# STEP 7: Create a file in sublime text editor and save outside both folder files ,file and sub file\n",
    "#         i.e. 'pack' and 'subpack' named 'psp.py'\n",
    "# STEP 8: Write the code in psp.py,\n",
    "#                                 from pack import p\n",
    "#                                 from pack.subpack import sp\n",
    "#                                 p.a()                              # pack\n",
    "#                                 sp.b()                             # sub pack\n",
    "                                       "
   ]
  },
  {
   "cell_type": "code",
   "execution_count": null,
   "metadata": {},
   "outputs": [],
   "source": []
  },
  {
   "cell_type": "code",
   "execution_count": null,
   "metadata": {},
   "outputs": [],
   "source": []
  },
  {
   "cell_type": "code",
   "execution_count": 1,
   "metadata": {},
   "outputs": [
    {
     "data": {
      "text/plain": [
       "True"
      ]
     },
     "execution_count": 1,
     "metadata": {},
     "output_type": "execute_result"
    }
   ],
   "source": [
    "3 #  __name__   and   '__main__'\n",
    "\n",
    "# Module functions is being used as import when you are importing from a module.\n",
    "__name__=='__main__'  # buitin variable name get assigined a string , \n",
    "                      # this statement is being run directly (assigened + check: rrelation)"
   ]
  },
  {
   "cell_type": "code",
   "execution_count": 2,
   "metadata": {},
   "outputs": [
    {
     "data": {
      "text/plain": [
       "'\\nInside the program we are using import keyword which imports python file in other file then while running the \\nsecond file first file will be imported and running the third file first and second file will be imported.\\n'"
      ]
     },
     "execution_count": 2,
     "metadata": {},
     "output_type": "execute_result"
    }
   ],
   "source": [
    "\n",
    "'EXPLANATION AND STEPS:'\n",
    "# STEP 1: Create python file named one.py , two.py , three.py on desktop.\n",
    "# STEP 2: Write a code in one.py\n",
    "    # one.py\n",
    "'''\n",
    "        def a():\n",
    "        print(\"a() in one.py\")\n",
    "        print(\"top level in one.py\")\n",
    "        if __name__=='_main_':\n",
    "            print(\"one.py is being run directly\")\n",
    "        else:\n",
    "            print(\"one.py has been imported\")\n",
    "'''    \n",
    "    \n",
    "# STEP 3: Write a code in two.py\n",
    "    #two.py\n",
    "'''\n",
    "        import one\n",
    "        def b():\n",
    "            print(\"b() in two.py\")\n",
    "    print(\"top level is two.py\")\n",
    "    one.a()\n",
    "    if __name__=='__main__':\n",
    "        print(\"two.py is being run directly\")\n",
    "    else:\n",
    "        print(\"two.py has been imported\")\n",
    "'''    \n",
    "    \n",
    "# STEP 4: Write a code in three.py\n",
    "    #three.py\n",
    "'''\n",
    "            import two\n",
    "            print(\"top level is three.py\")\n",
    "            two.b()\n",
    "            if __name__=='__main__':\n",
    "                print(\"three.py is being run directly\")\n",
    "            else:\n",
    "                print(\"three has been imported\")'''    \n",
    "    \n",
    "# STEP 5: open terminal in anaconda\n",
    "'''       In terminal write the command lines:\n",
    "                ls \n",
    "                python one.py\n",
    "                python two.py\n",
    "                python three.py\n",
    "'''\n",
    "'''\n",
    "Inside the program we are using import keyword which imports python file in other file then while running the \n",
    "second file first file will be imported and running the third file first and second file will be imported.\n",
    "'''"
   ]
  },
  {
   "cell_type": "code",
   "execution_count": 29,
   "metadata": {},
   "outputs": [
    {
     "data": {
      "text/plain": [
       "'       In terminal write the command lines:\\n                ls \\n                python one.py\\n                python two.py\\n                python three.py\\n'"
      ]
     },
     "execution_count": 29,
     "metadata": {},
     "output_type": "execute_result"
    }
   ],
   "source": [
    "'''\n",
    "def a():\n",
    "print(\"a() in one.py\")\n",
    "print(\"top level in one.py\")\n",
    "if __name__=='_main_':\n",
    "    print(\"one.py is being run directly\")\n",
    "else:\n",
    "    print(\"one.py has been imported\")    \n",
    "    \n",
    "# STEP 3: Write a code in two.py\n",
    "    #two.py\n",
    "import one\n",
    "def b():\n",
    "    print(\"b() in one.py\")\n",
    "print(\"top level is two.py\")\n",
    "one.a()\n",
    "if __name__=='__main__':\n",
    "    print(\"two.py is being run directly\")\n",
    "else:\n",
    "    print(\"two.py has been imported\")\n",
    "'''    \n",
    "    \n",
    "# STEP 4: Write a code in three.py\n",
    "    #three.py\n",
    "'''\n",
    "import two\n",
    "print(\"top level is three.py\")\n",
    "    two.b()\n",
    "if __name__=='__main__':\n",
    "    print(\"three.py is being run directly\")\n",
    "else:\n",
    "    print(\"three has been imported\")    \n",
    "    \n",
    "'''\n",
    "\n",
    "# STEP 5: open terminal in anaconda\n",
    "'''       In terminal write the command lines:\n",
    "                ls \n",
    "                python one.py\n",
    "                python two.py\n",
    "                python three.py\n",
    "'''"
   ]
  },
  {
   "cell_type": "code",
   "execution_count": 28,
   "metadata": {},
   "outputs": [
    {
     "name": "stdout",
     "output_type": "stream",
     "text": [
      "top level in one.py\n",
      "one.py has been imported\n",
      "top level is two.py\n",
      "two.py is being run directly\n",
      "top level is three.py\n",
      "three.py is being run directly\n"
     ]
    }
   ],
   "source": [
    "def a():\n",
    "    print(\"a() in one.py\")\n",
    "print(\"top level in one.py\")\n",
    "if __name__=='_main_':\n",
    "    print(\"one.py is being run directly\")\n",
    "else:\n",
    "    print(\"one.py has been imported\")\n",
    "\n",
    "#import a\n",
    "def b():\n",
    "    print(\"b() in one.py\")\n",
    "print(\"top level is two.py\")\n",
    "#one.a()\n",
    "if __name__=='__main__':\n",
    "    print(\"two.py is being run directly\")\n",
    "else:\n",
    "    print(\"two.py has been imported\") \n",
    "\n",
    "#import two\n",
    "print(\"top level is three.py\")\n",
    "#two.b()\n",
    "if __name__=='__main__':\n",
    "    print(\"three.py is being run directly\")\n",
    "else:\n",
    "    print(\"three has been imported\")   "
   ]
  },
  {
   "cell_type": "code",
   "execution_count": null,
   "metadata": {},
   "outputs": [],
   "source": []
  }
 ],
 "metadata": {
  "kernelspec": {
   "display_name": "Python 3",
   "language": "python",
   "name": "python3"
  },
  "language_info": {
   "codemirror_mode": {
    "name": "ipython",
    "version": 3
   },
   "file_extension": ".py",
   "mimetype": "text/x-python",
   "name": "python",
   "nbconvert_exporter": "python",
   "pygments_lexer": "ipython3",
   "version": "3.7.6"
  }
 },
 "nbformat": 4,
 "nbformat_minor": 4
}
