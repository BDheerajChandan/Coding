{
 "cells": [
  {
   "cell_type": "markdown",
   "metadata": {},
   "source": [
    "# 1. Read file names from a folder"
   ]
  },
  {
   "cell_type": "code",
   "execution_count": 21,
   "metadata": {},
   "outputs": [
    {
     "name": "stdout",
     "output_type": "stream",
     "text": [
      "Index(['Wavelength', 'Processed'], dtype='object')\n",
      "Index(['Wavelength', 'Processed'], dtype='object')\n",
      "Index(['Wavelength', 'Processed'], dtype='object')\n",
      "Index(['Wavelength', 'Processed'], dtype='object')\n",
      "Index(['Wavelength', 'Processed'], dtype='object')\n",
      "Index(['Wavelength', 'Processed'], dtype='object')\n",
      "Index(['Wavelength', 'Processed'], dtype='object')\n",
      "Index(['Wavelength', 'Processed'], dtype='object')\n",
      "Index(['Wavelength', 'Processed'], dtype='object')\n",
      "Index(['Wavelength', 'Processed'], dtype='object')\n",
      "Index(['Wavelength', 'Processed'], dtype='object')\n",
      "Index(['Wavelength', 'Processed'], dtype='object')\n",
      "Index(['Wavelength', 'Processed'], dtype='object')\n",
      "Index(['Wavelength', 'Processed'], dtype='object')\n",
      "Index(['Wavelength', 'Processed'], dtype='object')\n",
      "Index(['Wavelength', 'Processed'], dtype='object')\n",
      "Index(['Wavelength', 'Processed'], dtype='object')\n",
      "Index(['Wavelength', 'Processed'], dtype='object')\n"
     ]
    }
   ],
   "source": [
    "import pandas as pd\n",
    "import os\n",
    "folder_path=\"C:\\\\Users\\\\KIIT\\\\Downloads\\\\2023-12-15 (1)\\\\2023-12-15\"\n",
    "files = os.listdir(folder_path)\n",
    "for i in files:\n",
    "    #print(i)\n",
    "    data=pd.read_csv(folder_path+\"\\\\\"+i)\n",
    "    print(data.columns[1:3])\n",
    "    \n",
    "    "
   ]
  },
  {
   "cell_type": "markdown",
   "metadata": {},
   "source": [
    "# 2. ExcelData to SQL"
   ]
  },
  {
   "cell_type": "code",
   "execution_count": null,
   "metadata": {},
   "outputs": [],
   "source": []
  }
 ],
 "metadata": {
  "kernelspec": {
   "display_name": "base",
   "language": "python",
   "name": "python3"
  },
  "language_info": {
   "codemirror_mode": {
    "name": "ipython",
    "version": 3
   },
   "file_extension": ".py",
   "mimetype": "text/x-python",
   "name": "python",
   "nbconvert_exporter": "python",
   "pygments_lexer": "ipython3",
   "version": "3.11.4"
  }
 },
 "nbformat": 4,
 "nbformat_minor": 2
}
