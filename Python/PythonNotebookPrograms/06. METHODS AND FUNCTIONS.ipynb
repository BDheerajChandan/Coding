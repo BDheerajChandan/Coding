{
 "cells": [
  {
   "cell_type": "code",
   "execution_count": 1,
   "metadata": {},
   "outputs": [
    {
     "name": "stdout",
     "output_type": "stream",
     "text": [
      "[1, 2, 3, 4, 5]\n",
      "[1, 2, 3, 4]\n",
      "[1, 2, 3]\n",
      "[1, 2]\n",
      "[1]\n",
      "[]\n"
     ]
    }
   ],
   "source": [
    "a=[1,2,3,4,5]\n",
    "print(a)\n",
    "s=len(a)\n",
    "for i in range(s):\n",
    "    a.pop()\n",
    "    print(a)\n",
    "    "
   ]
  },
  {
   "cell_type": "code",
   "execution_count": 2,
   "metadata": {},
   "outputs": [
    {
     "name": "stdout",
     "output_type": "stream",
     "text": [
      "[0]\n",
      "[0, 1]\n",
      "[0, 1, 2]\n",
      "[0, 1, 2, 3]\n",
      "[0, 1, 2, 3, 4]\n"
     ]
    }
   ],
   "source": [
    "a=[]\n",
    "s=int(input(\"ENTER THE RANGE\\n\"))\n",
    "for i in range(s):\n",
    "    a.append(i)\n",
    "    print(a)"
   ]
  },
  {
   "cell_type": "code",
   "execution_count": 3,
   "metadata": {},
   "outputs": [
    {
     "name": "stdout",
     "output_type": "stream",
     "text": [
      "[0]\n",
      "[0, 1]\n",
      "[0, 1, 2]\n",
      "[0, 1, 2, 3]\n",
      "[0, 1, 2, 3, 4]\n",
      "[0, 1, 2, 3]\n",
      "[0, 1, 2]\n",
      "[0, 1]\n",
      "[0]\n"
     ]
    }
   ],
   "source": [
    "a=[]\n",
    "s=int(input(\"ENTER THE RANGE\\n\"))\n",
    "for i in range(s):\n",
    "    a.append(i)\n",
    "    b=a\n",
    "    print(b)\n",
    "n=len(b)\n",
    "for j in range(1,n):\n",
    "    b.pop()\n",
    "    print(b)"
   ]
  },
  {
   "cell_type": "code",
   "execution_count": 4,
   "metadata": {},
   "outputs": [
    {
     "name": "stdout",
     "output_type": "stream",
     "text": [
      "['*']\n",
      "['*', '*']\n",
      "['*', '*', '*']\n",
      "['*', '*', '*', '*']\n",
      "['*', '*', '*', '*', '*']\n",
      "['*', '*', '*', '*']\n",
      "['*', '*', '*']\n",
      "['*', '*']\n",
      "['*']\n"
     ]
    }
   ],
   "source": [
    "a=[]\n",
    "s=int(input(\"ENTER THE RANGE\\n\"))\n",
    "for i in range(s):\n",
    "    a.append(\"*\")\n",
    "    b=a\n",
    "    print(b)\n",
    "n=len(b)\n",
    "for j in range(1,n):\n",
    "    b.pop()\n",
    "    print(b)"
   ]
  },
  {
   "cell_type": "code",
   "execution_count": 5,
   "metadata": {},
   "outputs": [
    {
     "name": "stdout",
     "output_type": "stream",
     "text": [
      "ORIGINAL ARRAY:  [2, 5, 8, 3, 5, 7, 1, 0]\n",
      "\n",
      "ASCENDING ORDER:  [0, 1, 2, 3, 5, 5, 7, 8]\n",
      "DESCENDING ORDER:  [8, 7, 5, 5, 3, 2, 1, 0]\n"
     ]
    }
   ],
   "source": [
    "a=[2,5,8,3,5,7,1,0]\n",
    "b=a\n",
    "print(\"ORIGINAL ARRAY: \",b)\n",
    "a.sort()\n",
    "print(\"\\nASCENDING ORDER: \",a)\n",
    "a.reverse()\n",
    "print(\"DESCENDING ORDER: \",a)"
   ]
  },
  {
   "cell_type": "markdown",
   "metadata": {},
   "source": [
    "a=[]\n",
    "s=int(input(\"ENTER THE RANGE\\n\"))\n",
    "print(\"\\nENTERING THE ELEMENTS:\")\n",
    "for i in range(s):\n",
    "    n=int(input())\n",
    "    a.append(n)\n",
    "print(\"ORIGINAL ARRAY: \",a)\n",
    "a.sort()\n",
    "print(\"\\nASCENDING ORDER: \",a)\n",
    "a.reverse()\n",
    "print(\"DESCENDING ORDER: \",a)"
   ]
  },
  {
   "cell_type": "markdown",
   "metadata": {},
   "source": []
  },
  {
   "cell_type": "code",
   "execution_count": 6,
   "metadata": {},
   "outputs": [
    {
     "data": {
      "text/plain": [
       "[5, 1, 2, 3, 4, 5]"
      ]
     },
     "execution_count": 6,
     "metadata": {},
     "output_type": "execute_result"
    }
   ],
   "source": [
    "a=[1,2,3,4,5]\n",
    "a.insert(0,5)\n",
    "a"
   ]
  },
  {
   "cell_type": "code",
   "execution_count": 7,
   "metadata": {},
   "outputs": [
    {
     "name": "stdout",
     "output_type": "stream",
     "text": [
      "[5, 1, 1, 1, 1, 1]\n",
      "[5, 5, 1, 1, 1, 1]\n",
      "[5, 5, 5, 1, 1, 1]\n",
      "[5, 5, 5, 5, 1, 1]\n",
      "[5, 5, 5, 5, 5, 1]\n",
      "[5, 5, 5, 5, 5, 5]\n"
     ]
    }
   ],
   "source": [
    "a=[1,1,1,1,1]\n",
    "for i in range(len(a)+1):\n",
    "    a.insert(i,5)\n",
    "    print(a)\n",
    "    a.pop()"
   ]
  },
  {
   "cell_type": "code",
   "execution_count": 8,
   "metadata": {},
   "outputs": [],
   "source": [
    "def a():\n",
    "    print(\"DHEERAJ\")"
   ]
  },
  {
   "cell_type": "code",
   "execution_count": 9,
   "metadata": {},
   "outputs": [
    {
     "name": "stdout",
     "output_type": "stream",
     "text": [
      "DHEERAJ\n"
     ]
    }
   ],
   "source": [
    "a()"
   ]
  },
  {
   "cell_type": "code",
   "execution_count": 10,
   "metadata": {},
   "outputs": [
    {
     "name": "stdout",
     "output_type": "stream",
     "text": [
      "DHEERAJ\n"
     ]
    },
    {
     "data": {
      "text/plain": [
       "NoneType"
      ]
     },
     "execution_count": 10,
     "metadata": {},
     "output_type": "execute_result"
    }
   ],
   "source": [
    "type(a())"
   ]
  },
  {
   "cell_type": "code",
   "execution_count": 11,
   "metadata": {},
   "outputs": [],
   "source": [
    "#palindrome\n",
    "def palindrome():\n",
    "    for i in range(50):\n",
    "        n=i\n",
    "        s=0\n",
    "        t=n\n",
    "        d=0\n",
    "        while(n!=0):\n",
    "            d=n%10\n",
    "            s=(s*10)+d\n",
    "            n=n//10\n",
    "        if(s==t):\n",
    "            print(\"PALINDROME :\",t)\n",
    "        else:\n",
    "            print(\"NOT A PALINDROME :\",t)"
   ]
  },
  {
   "cell_type": "code",
   "execution_count": 12,
   "metadata": {},
   "outputs": [
    {
     "name": "stdout",
     "output_type": "stream",
     "text": [
      "PALINDROME : 0\n",
      "PALINDROME : 1\n",
      "PALINDROME : 2\n",
      "PALINDROME : 3\n",
      "PALINDROME : 4\n",
      "PALINDROME : 5\n",
      "PALINDROME : 6\n",
      "PALINDROME : 7\n",
      "PALINDROME : 8\n",
      "PALINDROME : 9\n",
      "NOT A PALINDROME : 10\n",
      "PALINDROME : 11\n",
      "NOT A PALINDROME : 12\n",
      "NOT A PALINDROME : 13\n",
      "NOT A PALINDROME : 14\n",
      "NOT A PALINDROME : 15\n",
      "NOT A PALINDROME : 16\n",
      "NOT A PALINDROME : 17\n",
      "NOT A PALINDROME : 18\n",
      "NOT A PALINDROME : 19\n",
      "NOT A PALINDROME : 20\n",
      "NOT A PALINDROME : 21\n",
      "PALINDROME : 22\n",
      "NOT A PALINDROME : 23\n",
      "NOT A PALINDROME : 24\n",
      "NOT A PALINDROME : 25\n",
      "NOT A PALINDROME : 26\n",
      "NOT A PALINDROME : 27\n",
      "NOT A PALINDROME : 28\n",
      "NOT A PALINDROME : 29\n",
      "NOT A PALINDROME : 30\n",
      "NOT A PALINDROME : 31\n",
      "NOT A PALINDROME : 32\n",
      "PALINDROME : 33\n",
      "NOT A PALINDROME : 34\n",
      "NOT A PALINDROME : 35\n",
      "NOT A PALINDROME : 36\n",
      "NOT A PALINDROME : 37\n",
      "NOT A PALINDROME : 38\n",
      "NOT A PALINDROME : 39\n",
      "NOT A PALINDROME : 40\n",
      "NOT A PALINDROME : 41\n",
      "NOT A PALINDROME : 42\n",
      "NOT A PALINDROME : 43\n",
      "PALINDROME : 44\n",
      "NOT A PALINDROME : 45\n",
      "NOT A PALINDROME : 46\n",
      "NOT A PALINDROME : 47\n",
      "NOT A PALINDROME : 48\n",
      "NOT A PALINDROME : 49\n"
     ]
    }
   ],
   "source": [
    "palindrome()"
   ]
  },
  {
   "cell_type": "code",
   "execution_count": 13,
   "metadata": {},
   "outputs": [],
   "source": [
    "#palindrome\n",
    "def palindrome():\n",
    "    n=int(input())\n",
    "    s=0\n",
    "    t=n\n",
    "    d=0\n",
    "    while(n!=0):\n",
    "        d=n%10\n",
    "        s=(s*10)+d\n",
    "        n=n//10\n",
    "    if(s==t):\n",
    "        print(\"PALINDROME :\",t)\n",
    "    else:\n",
    "        print(\"NOT A PALINDROME :\",t)"
   ]
  },
  {
   "cell_type": "code",
   "execution_count": 14,
   "metadata": {},
   "outputs": [
    {
     "data": {
      "text/plain": [
       "<function __main__.palindrome()>"
      ]
     },
     "execution_count": 14,
     "metadata": {},
     "output_type": "execute_result"
    }
   ],
   "source": [
    "palindrome"
   ]
  },
  {
   "cell_type": "code",
   "execution_count": 16,
   "metadata": {},
   "outputs": [
    {
     "name": "stdout",
     "output_type": "stream",
     "text": [
      "PALINDROME : 121\n"
     ]
    }
   ],
   "source": [
    "palindrome()"
   ]
  },
  {
   "cell_type": "code",
   "execution_count": 17,
   "metadata": {},
   "outputs": [],
   "source": [
    "def b():\n",
    "    # HI IM DHEERAJ\n",
    "    print(\"HELLO\")"
   ]
  },
  {
   "cell_type": "code",
   "execution_count": 18,
   "metadata": {},
   "outputs": [
    {
     "name": "stdout",
     "output_type": "stream",
     "text": [
      "HELLO\n"
     ]
    }
   ],
   "source": [
    "b()"
   ]
  },
  {
   "cell_type": "code",
   "execution_count": 19,
   "metadata": {},
   "outputs": [
    {
     "name": "stdout",
     "output_type": "stream",
     "text": [
      "Help on function b in module __main__:\n",
      "\n",
      "b()\n",
      "\n"
     ]
    }
   ],
   "source": [
    "help(b)"
   ]
  },
  {
   "cell_type": "code",
   "execution_count": 20,
   "metadata": {},
   "outputs": [
    {
     "name": "stdout",
     "output_type": "stream",
     "text": [
      "HELLO\n",
      "Help on NoneType object:\n",
      "\n",
      "class NoneType(object)\n",
      " |  Methods defined here:\n",
      " |  \n",
      " |  __bool__(self, /)\n",
      " |      True if self else False\n",
      " |  \n",
      " |  __repr__(self, /)\n",
      " |      Return repr(self).\n",
      " |  \n",
      " |  ----------------------------------------------------------------------\n",
      " |  Static methods defined here:\n",
      " |  \n",
      " |  __new__(*args, **kwargs) from builtins.type\n",
      " |      Create and return a new object.  See help(type) for accurate signature.\n",
      "\n"
     ]
    }
   ],
   "source": [
    "help(b())"
   ]
  },
  {
   "cell_type": "code",
   "execution_count": 21,
   "metadata": {},
   "outputs": [],
   "source": [
    "def b():\n",
    "    '''HI IM DHEERAJ'''\n",
    "    print(\"HELLO\")"
   ]
  },
  {
   "cell_type": "code",
   "execution_count": 22,
   "metadata": {},
   "outputs": [
    {
     "name": "stdout",
     "output_type": "stream",
     "text": [
      "Help on function b in module __main__:\n",
      "\n",
      "b()\n",
      "    HI IM DHEERAJ\n",
      "\n"
     ]
    }
   ],
   "source": [
    "help(b)"
   ]
  },
  {
   "cell_type": "code",
   "execution_count": 23,
   "metadata": {},
   "outputs": [
    {
     "name": "stdout",
     "output_type": "stream",
     "text": [
      "HELLO\n",
      "Help on NoneType object:\n",
      "\n",
      "class NoneType(object)\n",
      " |  Methods defined here:\n",
      " |  \n",
      " |  __bool__(self, /)\n",
      " |      True if self else False\n",
      " |  \n",
      " |  __repr__(self, /)\n",
      " |      Return repr(self).\n",
      " |  \n",
      " |  ----------------------------------------------------------------------\n",
      " |  Static methods defined here:\n",
      " |  \n",
      " |  __new__(*args, **kwargs) from builtins.type\n",
      " |      Create and return a new object.  See help(type) for accurate signature.\n",
      "\n"
     ]
    }
   ],
   "source": [
    "help(b())"
   ]
  },
  {
   "cell_type": "code",
   "execution_count": 24,
   "metadata": {},
   "outputs": [
    {
     "name": "stdout",
     "output_type": "stream",
     "text": [
      "HI hello\n"
     ]
    }
   ],
   "source": [
    "def c(strr):\n",
    "    s=\"HI \"+strr\n",
    "    print(s)\n",
    "c(\"hello\")"
   ]
  },
  {
   "cell_type": "code",
   "execution_count": 25,
   "metadata": {},
   "outputs": [
    {
     "data": {
      "text/plain": [
       "int"
      ]
     },
     "execution_count": 25,
     "metadata": {},
     "output_type": "execute_result"
    }
   ],
   "source": [
    "type(s)"
   ]
  },
  {
   "cell_type": "code",
   "execution_count": 26,
   "metadata": {},
   "outputs": [],
   "source": [
    "def d():\n",
    "    s=\"DHEERAJ\"\n",
    "    print(s)\n",
    "    print(type(s))"
   ]
  },
  {
   "cell_type": "code",
   "execution_count": 27,
   "metadata": {},
   "outputs": [
    {
     "name": "stdout",
     "output_type": "stream",
     "text": [
      "DHEERAJ\n",
      "<class 'str'>\n"
     ]
    }
   ],
   "source": [
    "d()"
   ]
  },
  {
   "cell_type": "code",
   "execution_count": 28,
   "metadata": {},
   "outputs": [
    {
     "data": {
      "text/plain": [
       "int"
      ]
     },
     "execution_count": 28,
     "metadata": {},
     "output_type": "execute_result"
    }
   ],
   "source": [
    "type(s)"
   ]
  },
  {
   "cell_type": "code",
   "execution_count": 29,
   "metadata": {},
   "outputs": [
    {
     "name": "stdout",
     "output_type": "stream",
     "text": [
      "hi dheeraj\n",
      "<class 'str'>\n"
     ]
    }
   ],
   "source": [
    "def a(s):\n",
    "    strr=s+\" dheeraj\"    \n",
    "    print(strr)\n",
    "    print(type(strr))\n",
    "a(\"hi\")"
   ]
  },
  {
   "cell_type": "code",
   "execution_count": 30,
   "metadata": {},
   "outputs": [
    {
     "name": "stdout",
     "output_type": "stream",
     "text": [
      "ARMSTRONG NUMBER : 153\n",
      "<class 'function'>\n",
      "ARMSTRONG NUMBER : 153\n",
      "<class 'NoneType'>\n"
     ]
    }
   ],
   "source": [
    "'''ARMSTRONG NUMBER'''\n",
    "def arms(n):\n",
    "    d=0\n",
    "    t=n\n",
    "    s=0\n",
    "    while(n!=0):\n",
    "        d=n%10\n",
    "        s=s+(d*d*d)\n",
    "        n=n//10\n",
    "    if(s==t):\n",
    "        print(\"ARMSTRONG NUMBER :\",t)\n",
    "    else:\n",
    "        print(\"NOT A ARMSTRONG NUMBER :\",t)\n",
    "arms(153)\n",
    "print(type(arms))\n",
    "print(type(arms(n=153)))"
   ]
  },
  {
   "cell_type": "code",
   "execution_count": 31,
   "metadata": {},
   "outputs": [
    {
     "data": {
      "text/plain": [
       "int"
      ]
     },
     "execution_count": 31,
     "metadata": {},
     "output_type": "execute_result"
    }
   ],
   "source": [
    "type(1)"
   ]
  },
  {
   "cell_type": "code",
   "execution_count": 32,
   "metadata": {},
   "outputs": [
    {
     "data": {
      "text/plain": [
       "[1, 2, 3, 4, 5]"
      ]
     },
     "execution_count": 32,
     "metadata": {},
     "output_type": "execute_result"
    }
   ],
   "source": [
    "a=[1,2,3,4]\n",
    "a.insert(4,5)\n",
    "a"
   ]
  },
  {
   "cell_type": "code",
   "execution_count": 33,
   "metadata": {},
   "outputs": [
    {
     "data": {
      "text/plain": [
       "[0, 1, 2, 3, 4, 5, 6, 7, 8, 9]"
      ]
     },
     "execution_count": 33,
     "metadata": {},
     "output_type": "execute_result"
    }
   ],
   "source": [
    "a=[1,2,3,4,5]\n",
    "b=[6,7,8,9,0]\n",
    "for i in b:\n",
    "    a.insert(i,i)\n",
    "a"
   ]
  },
  {
   "cell_type": "code",
   "execution_count": 34,
   "metadata": {},
   "outputs": [
    {
     "name": "stdout",
     "output_type": "stream",
     "text": [
      "INPUT  [1, 2, 3, 4, 5]\n",
      "INPUT  [6, 7, 8, 9, 0]\n",
      "OUTPUT  [6, 1, 7, 2, 8, 3, 9, 4, 0, 5]\n"
     ]
    }
   ],
   "source": [
    "a=[1,2,3,4,5]\n",
    "b=[6,7,8,9,0]\n",
    "c=0\n",
    "print(\"INPUT \",a)\n",
    "for i in range(10):\n",
    "    if(i%2==0):\n",
    "        n=b[c]\n",
    "        a.insert(i,n)\n",
    "        c=c+1\n",
    "print(\"INPUT \",b)\n",
    "print(\"OUTPUT \",a)"
   ]
  },
  {
   "cell_type": "code",
   "execution_count": 35,
   "metadata": {},
   "outputs": [
    {
     "name": "stdout",
     "output_type": "stream",
     "text": [
      "INPUT  [6, 7, 8, 9, 0]\n",
      "INPUT  [1, 2, 3, 4, 5]\n",
      "OUTPUT  [1, 6, 2, 7, 3, 8, 4, 9, 5, 0]\n"
     ]
    }
   ],
   "source": [
    "a=[1,2,3,4,5]\n",
    "b=[6,7,8,9,0]\n",
    "c=0\n",
    "print(\"INPUT \",b)\n",
    "for i in range(10):\n",
    "    if(i%2==0):\n",
    "        n=a[c]\n",
    "        b.insert(i,n)\n",
    "        c=c+1\n",
    "print(\"INPUT \",a)\n",
    "print(\"OUTPUT \",b)"
   ]
  },
  {
   "cell_type": "code",
   "execution_count": 36,
   "metadata": {},
   "outputs": [],
   "source": [
    "def a():\n",
    "    result=2+3\n",
    "    print(result)"
   ]
  },
  {
   "cell_type": "code",
   "execution_count": 37,
   "metadata": {},
   "outputs": [
    {
     "name": "stdout",
     "output_type": "stream",
     "text": [
      "5\n"
     ]
    }
   ],
   "source": [
    "a()"
   ]
  },
  {
   "cell_type": "code",
   "execution_count": 38,
   "metadata": {},
   "outputs": [
    {
     "data": {
      "text/plain": [
       "8"
      ]
     },
     "execution_count": 38,
     "metadata": {},
     "output_type": "execute_result"
    }
   ],
   "source": [
    "def sum(a,b):\n",
    "    s=a+b\n",
    "    return s;\n",
    "m=int(input())\n",
    "n=int(input())\n",
    "sum(m,n)"
   ]
  },
  {
   "cell_type": "markdown",
   "metadata": {},
   "source": [
    "5##### "
   ]
  },
  {
   "cell_type": "markdown",
   "metadata": {},
   "source": [
    "#### "
   ]
  },
  {
   "cell_type": "code",
   "execution_count": null,
   "metadata": {},
   "outputs": [],
   "source": [
    "\n",
    "    "
   ]
  },
  {
   "cell_type": "code",
   "execution_count": 40,
   "metadata": {},
   "outputs": [],
   "source": [
    "def s(n1,n2):\n",
    "    result=n1+n2\n",
    "    return result"
   ]
  },
  {
   "cell_type": "code",
   "execution_count": 41,
   "metadata": {},
   "outputs": [
    {
     "data": {
      "text/plain": [
       "5"
      ]
     },
     "execution_count": 41,
     "metadata": {},
     "output_type": "execute_result"
    }
   ],
   "source": [
    "a=int(input())\n",
    "b=int(input())\n",
    "s(a,b)"
   ]
  },
  {
   "cell_type": "code",
   "execution_count": 42,
   "metadata": {},
   "outputs": [
    {
     "data": {
      "text/plain": [
       "7"
      ]
     },
     "execution_count": 42,
     "metadata": {},
     "output_type": "execute_result"
    }
   ],
   "source": [
    "def n(a,b):\n",
    "    return a+b\n",
    "n1=int(input())\n",
    "n2=int(input())\n",
    "result=n(n1,n2)\n",
    "result"
   ]
  },
  {
   "cell_type": "code",
   "execution_count": 43,
   "metadata": {},
   "outputs": [
    {
     "name": "stdout",
     "output_type": "stream",
     "text": [
      "PALINDROME\n"
     ]
    }
   ],
   "source": [
    "n=int(input())\n",
    "s=0\n",
    "d=0\n",
    "t=n\n",
    "while(n!=0):\n",
    "    d=n%10\n",
    "    s=(s*10)+d\n",
    "    n=n//10\n",
    "if(s==t):\n",
    "    print(\"PALINDROME\")\n",
    "else:\n",
    "    print(\"NOT A PALINDROME\")"
   ]
  },
  {
   "cell_type": "code",
   "execution_count": 44,
   "metadata": {},
   "outputs": [],
   "source": [
    "#Pig Latin\n",
    "def main(str):\n",
    "    c=str[0]\n",
    "    for ch in str:\n",
    "        if ch in \"aeiou\":\n",
    "            s=str+\"ay\"\n",
    "        else:\n",
    "            s=str[1:]+c+\"ay\"\n",
    "    return s"
   ]
  },
  {
   "cell_type": "code",
   "execution_count": 45,
   "metadata": {},
   "outputs": [
    {
     "data": {
      "text/plain": [
       "'ordway'"
      ]
     },
     "execution_count": 45,
     "metadata": {},
     "output_type": "execute_result"
    }
   ],
   "source": [
    "main(\"word\")"
   ]
  },
  {
   "cell_type": "code",
   "execution_count": 46,
   "metadata": {},
   "outputs": [
    {
     "data": {
      "text/plain": [
       "'appleay'"
      ]
     },
     "execution_count": 46,
     "metadata": {},
     "output_type": "execute_result"
    }
   ],
   "source": [
    "main(\"apple\")"
   ]
  },
  {
   "cell_type": "code",
   "execution_count": 47,
   "metadata": {},
   "outputs": [
    {
     "data": {
      "text/plain": [
       "'hi ho'"
      ]
     },
     "execution_count": 47,
     "metadata": {},
     "output_type": "execute_result"
    }
   ],
   "source": [
    "'''hi ho'''''\n"
   ]
  },
  {
   "cell_type": "code",
   "execution_count": 48,
   "metadata": {},
   "outputs": [
    {
     "name": "stdout",
     "output_type": "stream",
     "text": [
      "printing the name: \n"
     ]
    }
   ],
   "source": [
    "def a():\n",
    "    '''\n",
    "    HI\n",
    "    IM\n",
    "    DHEERAJ \n",
    "    CHANDAN\n",
    "    '''\n",
    "print(\"printing the name: \")"
   ]
  },
  {
   "cell_type": "code",
   "execution_count": 49,
   "metadata": {},
   "outputs": [],
   "source": [
    "def a():\n",
    "    '''\n",
    "    HI\n",
    "    IM\n",
    "    DHEERAJ \n",
    "    CHANDAN\n",
    "    '''\n",
    "    print(\"printing the name: \")"
   ]
  },
  {
   "cell_type": "code",
   "execution_count": 50,
   "metadata": {},
   "outputs": [
    {
     "name": "stdout",
     "output_type": "stream",
     "text": [
      "printing the name: \n"
     ]
    }
   ],
   "source": [
    "a()"
   ]
  },
  {
   "cell_type": "code",
   "execution_count": 51,
   "metadata": {},
   "outputs": [
    {
     "name": "stdout",
     "output_type": "stream",
     "text": [
      "Help on function a in module __main__:\n",
      "\n",
      "a()\n",
      "    HI\n",
      "    IM\n",
      "    DHEERAJ \n",
      "    CHANDAN\n",
      "\n"
     ]
    }
   ],
   "source": [
    "help(a)"
   ]
  },
  {
   "cell_type": "code",
   "execution_count": 52,
   "metadata": {},
   "outputs": [],
   "source": [
    "def name(s):\n",
    "    print(\"Dheeraj\"+s)"
   ]
  },
  {
   "cell_type": "code",
   "execution_count": 53,
   "metadata": {},
   "outputs": [
    {
     "name": "stdout",
     "output_type": "stream",
     "text": [
      "Dheeraj Chandan\n"
     ]
    }
   ],
   "source": [
    "name(' Chandan')"
   ]
  },
  {
   "cell_type": "code",
   "execution_count": 54,
   "metadata": {},
   "outputs": [
    {
     "name": "stdout",
     "output_type": "stream",
     "text": [
      "dheeraj is a new name.\n"
     ]
    }
   ],
   "source": [
    "def name(s):\n",
    "    print(f'{s} is a new name.')\n",
    "t=input('Enter the name: ')\n",
    "name(t)"
   ]
  },
  {
   "cell_type": "code",
   "execution_count": 55,
   "metadata": {},
   "outputs": [
    {
     "name": "stdout",
     "output_type": "stream",
     "text": [
      "121 is a Palindrome\n"
     ]
    }
   ],
   "source": [
    "def a(n):\n",
    "    s=0\n",
    "    d=0\n",
    "    t=n\n",
    "    while(n!=0):\n",
    "        d=n%10\n",
    "        s=d+(s*10)\n",
    "        n=n//10\n",
    "    if s==t:\n",
    "        print(f'{t} is a Palindrome')\n",
    "    else:\n",
    "        print(f'{t} is a Not palindrome')\n",
    "num=int(input('Enter the number: '))\n",
    "a(num)"
   ]
  },
  {
   "cell_type": "code",
   "execution_count": 56,
   "metadata": {},
   "outputs": [
    {
     "name": "stdout",
     "output_type": "stream",
     "text": [
      "Dheerajchandan\n"
     ]
    }
   ],
   "source": [
    "def a():\n",
    "    s=input('Enter the name:')\n",
    "    name=\"Dheeraj\"+s\n",
    "    print(name)   \n",
    "a()"
   ]
  },
  {
   "cell_type": "code",
   "execution_count": 57,
   "metadata": {},
   "outputs": [
    {
     "name": "stdout",
     "output_type": "stream",
     "text": [
      "4 is a number\n"
     ]
    }
   ],
   "source": [
    "def a(num):\n",
    "    print(f'{num} is a number')\n",
    "t=input('Enter a number')\n",
    "a(t)"
   ]
  },
  {
   "cell_type": "code",
   "execution_count": 58,
   "metadata": {},
   "outputs": [
    {
     "name": "stdout",
     "output_type": "stream",
     "text": [
      "Hello\n"
     ]
    }
   ],
   "source": [
    "def a():\n",
    "    print('Hello')\n",
    "a()"
   ]
  },
  {
   "cell_type": "code",
   "execution_count": 59,
   "metadata": {},
   "outputs": [
    {
     "name": "stdout",
     "output_type": "stream",
     "text": [
      "Hello Dheeraj\n"
     ]
    }
   ],
   "source": [
    "def a(name):\n",
    "    print('Hello '+name)\n",
    "a('Dheeraj')"
   ]
  },
  {
   "cell_type": "code",
   "execution_count": 60,
   "metadata": {},
   "outputs": [
    {
     "name": "stdout",
     "output_type": "stream",
     "text": [
      "Dheeraj Hi!!\n"
     ]
    }
   ],
   "source": [
    "def a(n):\n",
    "    print(f'{n} Hi!!')\n",
    "a('Dheeraj')"
   ]
  },
  {
   "cell_type": "code",
   "execution_count": 61,
   "metadata": {},
   "outputs": [
    {
     "name": "stdout",
     "output_type": "stream",
     "text": [
      "Entered number is 6\n"
     ]
    }
   ],
   "source": [
    "def a(n):\n",
    "    print(f'Entered number is {t}')\n",
    "t=int(input('Enter the number: '))\n",
    "a(t)"
   ]
  },
  {
   "cell_type": "code",
   "execution_count": 62,
   "metadata": {},
   "outputs": [
    {
     "name": "stdout",
     "output_type": "stream",
     "text": [
      "Dheeraj Hello!!\n"
     ]
    }
   ],
   "source": [
    "def a(t='Dheeraj'):\n",
    "    print(t+' Hello!!')\n",
    "a()"
   ]
  },
  {
   "cell_type": "code",
   "execution_count": 63,
   "metadata": {},
   "outputs": [
    {
     "name": "stdout",
     "output_type": "stream",
     "text": [
      "hi Dheeraj\n"
     ]
    }
   ],
   "source": [
    "def a(n):\n",
    "    print(\"hi \"+n)\n",
    "b=a('Dheeraj')"
   ]
  },
  {
   "cell_type": "code",
   "execution_count": 40,
   "metadata": {},
   "outputs": [],
   "source": [
    "b"
   ]
  },
  {
   "cell_type": "code",
   "execution_count": 41,
   "metadata": {},
   "outputs": [
    {
     "data": {
      "text/plain": [
       "NoneType"
      ]
     },
     "execution_count": 41,
     "metadata": {},
     "output_type": "execute_result"
    }
   ],
   "source": [
    "type(b)"
   ]
  },
  {
   "cell_type": "code",
   "execution_count": 44,
   "metadata": {},
   "outputs": [
    {
     "data": {
      "text/plain": [
       "'hi Dheeraj'"
      ]
     },
     "execution_count": 44,
     "metadata": {},
     "output_type": "execute_result"
    }
   ],
   "source": [
    "def a(n):\n",
    "    return \"hi \"+n\n",
    "a('Dheeraj')"
   ]
  },
  {
   "cell_type": "code",
   "execution_count": 43,
   "metadata": {},
   "outputs": [
    {
     "name": "stdout",
     "output_type": "stream",
     "text": [
      "hi Dheeraj\n"
     ]
    }
   ],
   "source": [
    "def a(n):\n",
    "    print(\"hi \"+n)\n",
    "a('Dheeraj')"
   ]
  },
  {
   "cell_type": "code",
   "execution_count": 64,
   "metadata": {},
   "outputs": [],
   "source": [
    "def a(n):\n",
    "    return \"hi \"+n\n",
    "b=a('Dheeraj')"
   ]
  },
  {
   "cell_type": "code",
   "execution_count": 65,
   "metadata": {},
   "outputs": [
    {
     "data": {
      "text/plain": [
       "'hi Dheeraj'"
      ]
     },
     "execution_count": 65,
     "metadata": {},
     "output_type": "execute_result"
    }
   ],
   "source": [
    "b"
   ]
  },
  {
   "cell_type": "code",
   "execution_count": 47,
   "metadata": {},
   "outputs": [
    {
     "data": {
      "text/plain": [
       "str"
      ]
     },
     "execution_count": 47,
     "metadata": {},
     "output_type": "execute_result"
    }
   ],
   "source": [
    "type(b)"
   ]
  },
  {
   "cell_type": "code",
   "execution_count": 49,
   "metadata": {},
   "outputs": [
    {
     "name": "stdout",
     "output_type": "stream",
     "text": [
      "hi Dheeraj\n"
     ]
    }
   ],
   "source": [
    "def a(n):\n",
    "    print(\"hi \"+n)\n",
    "b=a('Dheeraj')"
   ]
  },
  {
   "cell_type": "code",
   "execution_count": 51,
   "metadata": {},
   "outputs": [],
   "source": [
    "b"
   ]
  },
  {
   "cell_type": "code",
   "execution_count": 52,
   "metadata": {},
   "outputs": [
    {
     "data": {
      "text/plain": [
       "NoneType"
      ]
     },
     "execution_count": 52,
     "metadata": {},
     "output_type": "execute_result"
    }
   ],
   "source": [
    "type(b)"
   ]
  },
  {
   "cell_type": "code",
   "execution_count": 55,
   "metadata": {},
   "outputs": [
    {
     "data": {
      "text/plain": [
       "30"
      ]
     },
     "execution_count": 55,
     "metadata": {},
     "output_type": "execute_result"
    }
   ],
   "source": [
    "def s(a,b):\n",
    "    t=a+b\n",
    "    return t\n",
    "n=s(10,20)\n",
    "n"
   ]
  },
  {
   "cell_type": "code",
   "execution_count": 56,
   "metadata": {},
   "outputs": [
    {
     "data": {
      "text/plain": [
       "30"
      ]
     },
     "execution_count": 56,
     "metadata": {},
     "output_type": "execute_result"
    }
   ],
   "source": [
    "def s(a,b):\n",
    "    t=a+b\n",
    "    return t\n",
    "s(10,20)\n"
   ]
  },
  {
   "cell_type": "code",
   "execution_count": 57,
   "metadata": {},
   "outputs": [
    {
     "data": {
      "text/plain": [
       "int"
      ]
     },
     "execution_count": 57,
     "metadata": {},
     "output_type": "execute_result"
    }
   ],
   "source": [
    "type(t)"
   ]
  },
  {
   "cell_type": "code",
   "execution_count": 58,
   "metadata": {},
   "outputs": [
    {
     "data": {
      "text/plain": [
       "True"
      ]
     },
     "execution_count": 58,
     "metadata": {},
     "output_type": "execute_result"
    }
   ],
   "source": [
    "#Check whether 'dog' word present in a string\n",
    "def a(s):\n",
    "    if 'dog' in s:\n",
    "        return True\n",
    "    else:\n",
    "        return False\n",
    "a('dog is pet animal')"
   ]
  },
  {
   "cell_type": "code",
   "execution_count": 59,
   "metadata": {},
   "outputs": [
    {
     "data": {
      "text/plain": [
       "False"
      ]
     },
     "execution_count": 59,
     "metadata": {},
     "output_type": "execute_result"
    }
   ],
   "source": [
    "def a(s):\n",
    "    if 'dog' in s:\n",
    "        return True\n",
    "    else:\n",
    "        return False\n",
    "a('cat is pet animal')"
   ]
  },
  {
   "cell_type": "code",
   "execution_count": 60,
   "metadata": {},
   "outputs": [
    {
     "data": {
      "text/plain": [
       "True"
      ]
     },
     "execution_count": 60,
     "metadata": {},
     "output_type": "execute_result"
    }
   ],
   "source": [
    "def a(s):\n",
    "    if 'do' in s:\n",
    "        return True\n",
    "    else:\n",
    "        return False\n",
    "a('dog is pet animal')"
   ]
  },
  {
   "cell_type": "code",
   "execution_count": 63,
   "metadata": {},
   "outputs": [
    {
     "data": {
      "text/plain": [
       "True"
      ]
     },
     "execution_count": 63,
     "metadata": {},
     "output_type": "execute_result"
    }
   ],
   "source": [
    "#lower()\n",
    "#upper()\n",
    "def a(s):\n",
    "    if 'DOG' in s.upper():\n",
    "        return True\n",
    "    else:\n",
    "        return False\n",
    "a('dog is a pet animal')    "
   ]
  },
  {
   "cell_type": "code",
   "execution_count": 64,
   "metadata": {},
   "outputs": [
    {
     "data": {
      "text/plain": [
       "True"
      ]
     },
     "execution_count": 64,
     "metadata": {},
     "output_type": "execute_result"
    }
   ],
   "source": [
    "def a(s):\n",
    "    if 'who' in s.lower():\n",
    "        return True\n",
    "    else:\n",
    "        return False\n",
    "a('WHO declared covid')    "
   ]
  },
  {
   "cell_type": "code",
   "execution_count": 4,
   "metadata": {},
   "outputs": [
    {
     "data": {
      "text/plain": [
       "'heerajDay'"
      ]
     },
     "execution_count": 4,
     "metadata": {},
     "output_type": "execute_result"
    }
   ],
   "source": [
    "#PIG_LATIN\n",
    "def a(s):\n",
    "    ch1=s[0]\n",
    "    if ch1 in 'aeiou':\n",
    "        s=s+'ay'\n",
    "    else:\n",
    "        s=s[1:]+ch1+'ay'\n",
    "    return s\n",
    "a('Dheeraj')"
   ]
  },
  {
   "cell_type": "code",
   "execution_count": 5,
   "metadata": {},
   "outputs": [
    {
     "data": {
      "text/plain": [
       "'appleay'"
      ]
     },
     "execution_count": 5,
     "metadata": {},
     "output_type": "execute_result"
    }
   ],
   "source": [
    "a('apple')"
   ]
  },
  {
   "cell_type": "code",
   "execution_count": 6,
   "metadata": {},
   "outputs": [
    {
     "data": {
      "text/plain": [
       "'ordway'"
      ]
     },
     "execution_count": 6,
     "metadata": {},
     "output_type": "execute_result"
    }
   ],
   "source": [
    "a('word')"
   ]
  },
  {
   "cell_type": "code",
   "execution_count": 12,
   "metadata": {},
   "outputs": [
    {
     "name": "stdout",
     "output_type": "stream",
     "text": [
      "B.DHRJ CHNDN\n"
     ]
    }
   ],
   "source": [
    "def a():\n",
    "    s=0\n",
    "    ch=''\n",
    "    for i in 'B.DHEERAJ CHANDAN':\n",
    "        if not i in 'aeiou'.upper():\n",
    "           ch=ch+i\n",
    "    print(ch)\n",
    "a()"
   ]
  },
  {
   "cell_type": "code",
   "execution_count": 13,
   "metadata": {
    "scrolled": true
   },
   "outputs": [
    {
     "name": "stdout",
     "output_type": "stream",
     "text": [
      "EEAAA\n"
     ]
    }
   ],
   "source": [
    "def a():\n",
    "    s=0\n",
    "    ch=''\n",
    "    for i in 'B.DHEERAJ CHANDAN':\n",
    "        if i in 'aeiou'.upper():\n",
    "           ch=ch+i\n",
    "    print(ch)\n",
    "a()"
   ]
  },
  {
   "cell_type": "code",
   "execution_count": 16,
   "metadata": {},
   "outputs": [
    {
     "data": {
      "text/plain": [
       "5.0"
      ]
     },
     "execution_count": 16,
     "metadata": {},
     "output_type": "execute_result"
    }
   ],
   "source": [
    "def f(a,b):\n",
    "    return sum((a,b))*0.05\n",
    "f(40,60)"
   ]
  },
  {
   "cell_type": "code",
   "execution_count": 17,
   "metadata": {},
   "outputs": [
    {
     "data": {
      "text/plain": [
       "5.0"
      ]
     },
     "execution_count": 17,
     "metadata": {},
     "output_type": "execute_result"
    }
   ],
   "source": [
    "def f(*args):\n",
    "    return sum(args)*0.05\n",
    "f(40,60)"
   ]
  },
  {
   "cell_type": "code",
   "execution_count": 18,
   "metadata": {},
   "outputs": [
    {
     "data": {
      "text/plain": [
       "10.0"
      ]
     },
     "execution_count": 18,
     "metadata": {},
     "output_type": "execute_result"
    }
   ],
   "source": [
    "f(40,60,100)"
   ]
  },
  {
   "cell_type": "code",
   "execution_count": 19,
   "metadata": {},
   "outputs": [
    {
     "data": {
      "text/plain": [
       "15.0"
      ]
     },
     "execution_count": 19,
     "metadata": {},
     "output_type": "execute_result"
    }
   ],
   "source": [
    "f(40,60,100,100)"
   ]
  },
  {
   "cell_type": "code",
   "execution_count": 20,
   "metadata": {},
   "outputs": [
    {
     "data": {
      "text/plain": [
       "25.0"
      ]
     },
     "execution_count": 20,
     "metadata": {},
     "output_type": "execute_result"
    }
   ],
   "source": [
    "f(40,60,100,100,150,50)"
   ]
  },
  {
   "cell_type": "code",
   "execution_count": 22,
   "metadata": {},
   "outputs": [
    {
     "data": {
      "text/plain": [
       "22.5"
      ]
     },
     "execution_count": 22,
     "metadata": {},
     "output_type": "execute_result"
    }
   ],
   "source": [
    "f(40,60,100,100,100,50)"
   ]
  },
  {
   "cell_type": "code",
   "execution_count": 24,
   "metadata": {},
   "outputs": [
    {
     "name": "stdout",
     "output_type": "stream",
     "text": [
      "{'a': 1, 'b': 2, 'c': 3}\n"
     ]
    }
   ],
   "source": [
    "def f(**a):\n",
    "    print(a)\n",
    "f(a=1,b=2,c=3)"
   ]
  },
  {
   "cell_type": "code",
   "execution_count": 1,
   "metadata": {},
   "outputs": [
    {
     "data": {
      "text/plain": [
       "3"
      ]
     },
     "execution_count": 1,
     "metadata": {},
     "output_type": "execute_result"
    }
   ],
   "source": [
    "max(2,3)"
   ]
  },
  {
   "cell_type": "code",
   "execution_count": 3,
   "metadata": {},
   "outputs": [
    {
     "data": {
      "text/plain": [
       "10"
      ]
     },
     "execution_count": 3,
     "metadata": {},
     "output_type": "execute_result"
    }
   ],
   "source": [
    "a=[1,2,3,4]\n",
    "sum(a)"
   ]
  },
  {
   "cell_type": "code",
   "execution_count": 66,
   "metadata": {},
   "outputs": [
    {
     "data": {
      "text/plain": [
       "6"
      ]
     },
     "execution_count": 66,
     "metadata": {},
     "output_type": "execute_result"
    }
   ],
   "source": [
    "sum(2,4)"
   ]
  },
  {
   "cell_type": "code",
   "execution_count": 26,
   "metadata": {},
   "outputs": [
    {
     "data": {
      "text/plain": [
       "'d'"
      ]
     },
     "execution_count": 26,
     "metadata": {},
     "output_type": "execute_result"
    }
   ],
   "source": [
    "def square(mystring=['dheeraj','Chandan','balivada']):\n",
    "        \n",
    "        for ch in mystring[0]:\n",
    "            return ch\n",
    "square()"
   ]
  },
  {
   "cell_type": "code",
   "execution_count": 17,
   "metadata": {},
   "outputs": [
    {
     "name": "stdout",
     "output_type": "stream",
     "text": [
      "['d', 'h', 'e', 'e', 'r', 'a', 'j']\n",
      "['C', 'h', 'a', 'n', 'd', 'a', 'n']\n",
      "['b', 'a', 'l', 'i', 'v', 'a', 'd', 'a']\n"
     ]
    }
   ],
   "source": [
    "square()"
   ]
  },
  {
   "cell_type": "code",
   "execution_count": 1,
   "metadata": {},
   "outputs": [
    {
     "name": "stdout",
     "output_type": "stream",
     "text": [
      "a\n",
      "b\n",
      "c\n"
     ]
    }
   ],
   "source": [
    "a=['a','b','c']\n",
    "for ch in a:\n",
    "    print(ch)"
   ]
  },
  {
   "cell_type": "code",
   "execution_count": 3,
   "metadata": {},
   "outputs": [
    {
     "data": {
      "text/plain": [
       "'a'"
      ]
     },
     "execution_count": 3,
     "metadata": {},
     "output_type": "execute_result"
    }
   ],
   "source": [
    "def n():\n",
    "    a=['a','b','c']\n",
    "    for ch in a:\n",
    "        return ch\n",
    "n()"
   ]
  },
  {
   "cell_type": "code",
   "execution_count": 14,
   "metadata": {},
   "outputs": [
    {
     "name": "stdout",
     "output_type": "stream",
     "text": [
      "1\n",
      "8\n",
      "27\n",
      "64\n",
      "125\n"
     ]
    }
   ],
   "source": [
    "def n(a):\n",
    "    return a*a*a\n",
    "b=[1,2,3,4,5]\n",
    "for i in map(n,b):\n",
    "    print(i)"
   ]
  },
  {
   "cell_type": "code",
   "execution_count": 68,
   "metadata": {},
   "outputs": [
    {
     "name": "stdout",
     "output_type": "stream",
     "text": [
      "D\n",
      "EVEN\n"
     ]
    }
   ],
   "source": [
    "def s(ch):\n",
    "    if len(ch)%2==0:\n",
    "        return 'EVEN'\n",
    "    else:\n",
    "        return ch[0]\n",
    "b=['DHEERAJ','DHEERU']\n",
    "for item in map(s,b):\n",
    "    print(item)"
   ]
  },
  {
   "cell_type": "code",
   "execution_count": 6,
   "metadata": {},
   "outputs": [
    {
     "data": {
      "text/plain": [
       "<map at 0x28b412b70c8>"
      ]
     },
     "execution_count": 6,
     "metadata": {},
     "output_type": "execute_result"
    }
   ],
   "source": [
    "def a(num):\n",
    "    return num*2\n",
    "n=[1,2,3,4,5]\n",
    "b=map(a,n)\n",
    "b"
   ]
  },
  {
   "cell_type": "code",
   "execution_count": 4,
   "metadata": {},
   "outputs": [
    {
     "data": {
      "text/plain": [
       "[2, 4, 6, 8, 10]"
      ]
     },
     "execution_count": 4,
     "metadata": {},
     "output_type": "execute_result"
    }
   ],
   "source": [
    "list(b)"
   ]
  },
  {
   "cell_type": "code",
   "execution_count": 7,
   "metadata": {},
   "outputs": [
    {
     "name": "stdout",
     "output_type": "stream",
     "text": [
      "2\n",
      "4\n",
      "6\n",
      "8\n",
      "10\n"
     ]
    }
   ],
   "source": [
    "for number in map(a,n):\n",
    "    print(number)"
   ]
  },
  {
   "cell_type": "code",
   "execution_count": 8,
   "metadata": {},
   "outputs": [
    {
     "data": {
      "text/plain": [
       "['EVEN', 'D', 'EVEN']"
      ]
     },
     "execution_count": 8,
     "metadata": {},
     "output_type": "execute_result"
    }
   ],
   "source": [
    "def a(name):\n",
    "    if len(name)%2==0:\n",
    "        return 'EVEN'\n",
    "    else:\n",
    "        return name[0]\n",
    "n=['B.','DHEERAJ','CHANDANN']\n",
    "list(map(a,n))"
   ]
  },
  {
   "cell_type": "code",
   "execution_count": null,
   "metadata": {},
   "outputs": [],
   "source": []
  },
  {
   "cell_type": "code",
   "execution_count": 9,
   "metadata": {},
   "outputs": [
    {
     "data": {
      "text/plain": [
       "[2, 4, 6]"
      ]
     },
     "execution_count": 9,
     "metadata": {},
     "output_type": "execute_result"
    }
   ],
   "source": [
    "def a(n):\n",
    "    if n%2==0:\n",
    "        return n\n",
    "num=[1,2,3,4,5,6]\n",
    "list(filter(a,num))"
   ]
  },
  {
   "cell_type": "code",
   "execution_count": 10,
   "metadata": {},
   "outputs": [
    {
     "data": {
      "text/plain": [
       "[None, 2, None, 4, None, 6]"
      ]
     },
     "execution_count": 10,
     "metadata": {},
     "output_type": "execute_result"
    }
   ],
   "source": [
    "def a(n):\n",
    "    if n%2==0:\n",
    "        return n\n",
    "num=[1,2,3,4,5,6]\n",
    "list(map(a,num))"
   ]
  },
  {
   "cell_type": "code",
   "execution_count": 11,
   "metadata": {},
   "outputs": [
    {
     "data": {
      "text/plain": [
       "[1, 2, 3, 4, 5, 6]"
      ]
     },
     "execution_count": 11,
     "metadata": {},
     "output_type": "execute_result"
    }
   ],
   "source": [
    "def a(n):\n",
    "    if n%2==0:\n",
    "        return n\n",
    "    else:\n",
    "        return 'ODD'\n",
    "num=[1,2,3,4,5,6]\n",
    "list(filter(a,num))"
   ]
  },
  {
   "cell_type": "code",
   "execution_count": 12,
   "metadata": {},
   "outputs": [
    {
     "data": {
      "text/plain": [
       "['ODD', 2, 'ODD', 4, 'ODD', 6]"
      ]
     },
     "execution_count": 12,
     "metadata": {},
     "output_type": "execute_result"
    }
   ],
   "source": [
    "def a(n):\n",
    "    if n%2==0:\n",
    "        return n\n",
    "    else:\n",
    "        return 'ODD'\n",
    "num=[1,2,3,4,5,6]\n",
    "list(map(a,num))"
   ]
  },
  {
   "cell_type": "code",
   "execution_count": null,
   "metadata": {},
   "outputs": [],
   "source": []
  },
  {
   "cell_type": "code",
   "execution_count": null,
   "metadata": {},
   "outputs": [],
   "source": []
  },
  {
   "cell_type": "code",
   "execution_count": null,
   "metadata": {},
   "outputs": [],
   "source": []
  },
  {
   "cell_type": "code",
   "execution_count": null,
   "metadata": {},
   "outputs": [],
   "source": []
  },
  {
   "cell_type": "code",
   "execution_count": null,
   "metadata": {},
   "outputs": [],
   "source": []
  },
  {
   "cell_type": "code",
   "execution_count": 14,
   "metadata": {},
   "outputs": [
    {
     "name": "stdout",
     "output_type": "stream",
     "text": [
      "2\n",
      "4\n",
      "6\n"
     ]
    }
   ],
   "source": [
    "def a(n):\n",
    "    if n%2==0:\n",
    "        return n\n",
    "num=[1,2,3,4,5,6]\n",
    "for item in filter(a,num):\n",
    "    print(item)"
   ]
  },
  {
   "cell_type": "code",
   "execution_count": 16,
   "metadata": {},
   "outputs": [
    {
     "name": "stdout",
     "output_type": "stream",
     "text": [
      "None\n",
      "2\n",
      "None\n",
      "4\n",
      "None\n",
      "6\n"
     ]
    }
   ],
   "source": [
    "def a(n):\n",
    "    if n%2==0:\n",
    "        return n\n",
    "num=[1,2,3,4,5,6]\n",
    "for item in list(map(a,num)):\n",
    "    print(item)"
   ]
  },
  {
   "cell_type": "code",
   "execution_count": null,
   "metadata": {},
   "outputs": [],
   "source": []
  },
  {
   "cell_type": "code",
   "execution_count": 1,
   "metadata": {},
   "outputs": [],
   "source": [
    "#lambda"
   ]
  },
  {
   "cell_type": "code",
   "execution_count": 14,
   "metadata": {},
   "outputs": [
    {
     "data": {
      "text/plain": [
       "[False, True, False, True, False]"
      ]
     },
     "execution_count": 14,
     "metadata": {},
     "output_type": "execute_result"
    }
   ],
   "source": [
    "nums=[1,2,3,4,5]\n",
    "list(map(lambda n:n%2==0,nums))"
   ]
  },
  {
   "cell_type": "code",
   "execution_count": 9,
   "metadata": {},
   "outputs": [
    {
     "data": {
      "text/plain": [
       "[False, True, False, True, False, True, False, True, False, True]"
      ]
     },
     "execution_count": 9,
     "metadata": {},
     "output_type": "execute_result"
    }
   ],
   "source": [
    "nums=[1,2,3,4,5,6,7,8,9,0]\n",
    "list(map(lambda n:n%2==0,nums))"
   ]
  },
  {
   "cell_type": "code",
   "execution_count": 28,
   "metadata": {},
   "outputs": [],
   "source": [
    "sq=lambda a:a*2"
   ]
  },
  {
   "cell_type": "code",
   "execution_count": 29,
   "metadata": {},
   "outputs": [
    {
     "data": {
      "text/plain": [
       "10"
      ]
     },
     "execution_count": 29,
     "metadata": {},
     "output_type": "execute_result"
    }
   ],
   "source": [
    "sq(5)"
   ]
  },
  {
   "cell_type": "code",
   "execution_count": 16,
   "metadata": {},
   "outputs": [
    {
     "name": "stdout",
     "output_type": "stream",
     "text": [
      "2\n",
      "4\n",
      "6\n",
      "8\n",
      "10\n"
     ]
    }
   ],
   "source": [
    "sq=lambda a:a*2\n",
    "for item in nums:\n",
    "    print(sq(item))"
   ]
  },
  {
   "cell_type": "code",
   "execution_count": 17,
   "metadata": {},
   "outputs": [
    {
     "data": {
      "text/plain": [
       "[2, 4, 6, 8, 10, 12]"
      ]
     },
     "execution_count": 17,
     "metadata": {},
     "output_type": "execute_result"
    }
   ],
   "source": [
    "num=[1,2,3,4,5,6]\n",
    "list(map(lambda n:n*2,num))"
   ]
  },
  {
   "cell_type": "code",
   "execution_count": 18,
   "metadata": {},
   "outputs": [
    {
     "data": {
      "text/plain": [
       "8"
      ]
     },
     "execution_count": 18,
     "metadata": {},
     "output_type": "execute_result"
    }
   ],
   "source": [
    "a=lambda n:n*2\n",
    "a(4)"
   ]
  },
  {
   "cell_type": "code",
   "execution_count": 19,
   "metadata": {},
   "outputs": [
    {
     "data": {
      "text/plain": [
       "16"
      ]
     },
     "execution_count": 19,
     "metadata": {},
     "output_type": "execute_result"
    }
   ],
   "source": [
    "num=lambda n:n**2\n",
    "num(4)"
   ]
  },
  {
   "cell_type": "code",
   "execution_count": 20,
   "metadata": {},
   "outputs": [
    {
     "data": {
      "text/plain": [
       "['D', 'C', 'R']"
      ]
     },
     "execution_count": 20,
     "metadata": {},
     "output_type": "execute_result"
    }
   ],
   "source": [
    "a=['Dheeraj','Chandan','Ramesh']\n",
    "list(map(lambda n:n[0],a))"
   ]
  },
  {
   "cell_type": "code",
   "execution_count": 21,
   "metadata": {},
   "outputs": [
    {
     "data": {
      "text/plain": [
       "[False, True, False, True, False, True]"
      ]
     },
     "execution_count": 21,
     "metadata": {},
     "output_type": "execute_result"
    }
   ],
   "source": [
    "a=[1,2,3,4,5,6]\n",
    "list(map(lambda n:n%2==0,a))"
   ]
  },
  {
   "cell_type": "code",
   "execution_count": 22,
   "metadata": {},
   "outputs": [
    {
     "data": {
      "text/plain": [
       "[2, 4, 6]"
      ]
     },
     "execution_count": 22,
     "metadata": {},
     "output_type": "execute_result"
    }
   ],
   "source": [
    "a=[1,2,3,4,5,6]\n",
    "list(filter(lambda n:n%2==0,a))"
   ]
  },
  {
   "cell_type": "code",
   "execution_count": 23,
   "metadata": {},
   "outputs": [
    {
     "data": {
      "text/plain": [
       "4"
      ]
     },
     "execution_count": 23,
     "metadata": {},
     "output_type": "execute_result"
    }
   ],
   "source": [
    "n=lambda a:a**2\n",
    "n(2)"
   ]
  },
  {
   "cell_type": "code",
   "execution_count": 24,
   "metadata": {},
   "outputs": [
    {
     "data": {
      "text/plain": [
       "5"
      ]
     },
     "execution_count": 24,
     "metadata": {},
     "output_type": "execute_result"
    }
   ],
   "source": [
    "n=lambda a:a+2\n",
    "n(3)"
   ]
  },
  {
   "cell_type": "code",
   "execution_count": 25,
   "metadata": {},
   "outputs": [
    {
     "data": {
      "text/plain": [
       "[2, 4, 6, 8, 10]"
      ]
     },
     "execution_count": 25,
     "metadata": {},
     "output_type": "execute_result"
    }
   ],
   "source": [
    "a=[1,2,3,4,5]\n",
    "list(map(lambda n:n*2,a))"
   ]
  },
  {
   "cell_type": "code",
   "execution_count": 26,
   "metadata": {},
   "outputs": [
    {
     "data": {
      "text/plain": [
       "[3, 4, 5, 6, 7]"
      ]
     },
     "execution_count": 26,
     "metadata": {},
     "output_type": "execute_result"
    }
   ],
   "source": [
    "a=[1,2,3,4,5]\n",
    "list(map(lambda n:n+2,a))"
   ]
  },
  {
   "cell_type": "code",
   "execution_count": 27,
   "metadata": {},
   "outputs": [
    {
     "data": {
      "text/plain": [
       "[1, 2, 3, 4, 5]"
      ]
     },
     "execution_count": 27,
     "metadata": {},
     "output_type": "execute_result"
    }
   ],
   "source": [
    "a=[1,2,3,4,5]\n",
    "list(filter(lambda n:n+2,a))"
   ]
  },
  {
   "cell_type": "code",
   "execution_count": 28,
   "metadata": {},
   "outputs": [
    {
     "data": {
      "text/plain": [
       "[1, 2, 3, 4, 5]"
      ]
     },
     "execution_count": 28,
     "metadata": {},
     "output_type": "execute_result"
    }
   ],
   "source": [
    "a=[1,2,3,4,5]\n",
    "list(filter(lambda n:n*2,a))"
   ]
  },
  {
   "cell_type": "code",
   "execution_count": 29,
   "metadata": {},
   "outputs": [
    {
     "name": "stdout",
     "output_type": "stream",
     "text": [
      "3\n",
      "4\n",
      "5\n",
      "6\n",
      "7\n"
     ]
    }
   ],
   "source": [
    "a=[1,2,3,4,5]\n",
    "n=lambda n:n+2\n",
    "for item in a:\n",
    "    b=n(item)\n",
    "    print(b)"
   ]
  },
  {
   "cell_type": "code",
   "execution_count": 11,
   "metadata": {},
   "outputs": [
    {
     "name": "stdout",
     "output_type": "stream",
     "text": [
      "2\n",
      "4\n",
      "6\n",
      "8\n",
      "10\n"
     ]
    }
   ],
   "source": [
    "a=[1,2,3,4,5]\n",
    "n=lambda n:n*2\n",
    "for item in a:\n",
    "    b=n(item)\n",
    "    print(b)"
   ]
  },
  {
   "cell_type": "code",
   "execution_count": 12,
   "metadata": {},
   "outputs": [
    {
     "data": {
      "text/plain": [
       "[False, True, False, True, False, True, False, True, False, True]"
      ]
     },
     "execution_count": 12,
     "metadata": {},
     "output_type": "execute_result"
    }
   ],
   "source": [
    "nums=[1,2,3,4,5,6,7,8,9,0]\n",
    "list(map(lambda n:n%2==0,nums))"
   ]
  },
  {
   "cell_type": "code",
   "execution_count": 13,
   "metadata": {},
   "outputs": [
    {
     "data": {
      "text/plain": [
       "[2, 4, 6, 8, 0]"
      ]
     },
     "execution_count": 13,
     "metadata": {},
     "output_type": "execute_result"
    }
   ],
   "source": [
    "nums=[1,2,3,4,5,6,7,8,9,0]\n",
    "list(filter(lambda n:n%2==0,nums))"
   ]
  },
  {
   "cell_type": "code",
   "execution_count": 1,
   "metadata": {},
   "outputs": [],
   "source": [
    "#NESTED STATEMENTS AND SCOPE"
   ]
  },
  {
   "cell_type": "code",
   "execution_count": 2,
   "metadata": {},
   "outputs": [
    {
     "data": {
      "text/plain": [
       "10"
      ]
     },
     "execution_count": 2,
     "metadata": {},
     "output_type": "execute_result"
    }
   ],
   "source": [
    "x=10\n",
    "def a():\n",
    "    x=50\n",
    "    return x\n",
    "x"
   ]
  },
  {
   "cell_type": "code",
   "execution_count": 3,
   "metadata": {},
   "outputs": [
    {
     "name": "stdout",
     "output_type": "stream",
     "text": [
      "10\n"
     ]
    }
   ],
   "source": [
    "print(x)"
   ]
  },
  {
   "cell_type": "code",
   "execution_count": 4,
   "metadata": {},
   "outputs": [
    {
     "name": "stdout",
     "output_type": "stream",
     "text": [
      "50\n"
     ]
    }
   ],
   "source": [
    "print(a())"
   ]
  },
  {
   "cell_type": "code",
   "execution_count": 21,
   "metadata": {},
   "outputs": [
    {
     "name": "stdout",
     "output_type": "stream",
     "text": [
      "[1, 2, 3, 4, 5]\n",
      "[1, 2, 3, 4, 5, 1, 2, 3, 4, 5]\n"
     ]
    }
   ],
   "source": [
    "x=[1,2,3,4,5]\n",
    "def a():\n",
    "    x=[1,2,3,4,5]\n",
    "    return x*2\n",
    "print(x)\n",
    "print(a())"
   ]
  },
  {
   "cell_type": "code",
   "execution_count": 22,
   "metadata": {},
   "outputs": [
    {
     "name": "stdout",
     "output_type": "stream",
     "text": [
      "[1, 2, 3, 4, 5]\n",
      "\n",
      "[1, 2, 3, 4, 5]\n",
      "[2, 4, 6, 8, 10]\n"
     ]
    }
   ],
   "source": [
    "x=[1,2,3,4,5]\n",
    "def a():\n",
    "    x=[1,2,3,4,5]\n",
    "    c=list(map(lambda a:a*2,x))\n",
    "    return '\\n{}\\n{}'.format(x,c)\n",
    "print(x)\n",
    "print(a())"
   ]
  },
  {
   "cell_type": "code",
   "execution_count": 24,
   "metadata": {},
   "outputs": [
    {
     "name": "stdout",
     "output_type": "stream",
     "text": [
      "[1, 2, 3, 4, 5]\n",
      "[2, 4, 6, 8, 10]\n"
     ]
    }
   ],
   "source": [
    "x=[1,2,3,4,5]\n",
    "def a():\n",
    "    x=[1,2,3,4,5]\n",
    "    c=list(map(lambda n:n*2,x))\n",
    "    return c\n",
    "print(x)\n",
    "print(a())"
   ]
  },
  {
   "cell_type": "code",
   "execution_count": 20,
   "metadata": {},
   "outputs": [
    {
     "name": "stdout",
     "output_type": "stream",
     "text": [
      "[1, 2, 3, 4, 5]\n",
      "<class 'list'>\n",
      "10\n",
      "<class 'int'>\n"
     ]
    }
   ],
   "source": [
    "x=[1,2,3,4,5]\n",
    "def a():\n",
    "    x=10\n",
    "    return x\n",
    "print(x)\n",
    "print(type(x))\n",
    "print(a())\n",
    "print(type(a()))"
   ]
  },
  {
   "cell_type": "code",
   "execution_count": 25,
   "metadata": {},
   "outputs": [
    {
     "data": {
      "text/plain": [
       "list"
      ]
     },
     "execution_count": 25,
     "metadata": {},
     "output_type": "execute_result"
    }
   ],
   "source": [
    "x=[1,2,3,4,5]\n",
    "def a():\n",
    "    x=10\n",
    "    return x\n",
    "type(x)\n"
   ]
  },
  {
   "cell_type": "code",
   "execution_count": 26,
   "metadata": {},
   "outputs": [
    {
     "data": {
      "text/plain": [
       "int"
      ]
     },
     "execution_count": 26,
     "metadata": {},
     "output_type": "execute_result"
    }
   ],
   "source": [
    "x=[1,2,3,4,5]\n",
    "def a():\n",
    "    x=10\n",
    "    return x\n",
    "type(a())"
   ]
  },
  {
   "cell_type": "code",
   "execution_count": 1,
   "metadata": {},
   "outputs": [
    {
     "name": "stdout",
     "output_type": "stream",
     "text": [
      "50\n"
     ]
    }
   ],
   "source": [
    "x=10\n",
    "def a():\n",
    "    x=50\n",
    "    def b():\n",
    "        print(x)\n",
    "    b()\n",
    "a()"
   ]
  },
  {
   "cell_type": "code",
   "execution_count": 2,
   "metadata": {},
   "outputs": [
    {
     "name": "stdout",
     "output_type": "stream",
     "text": [
      "10\n"
     ]
    }
   ],
   "source": [
    "x=10\n",
    "def a(n):\n",
    "    print(x)\n",
    "    def b():\n",
    "        return n\n",
    "    b()\n",
    "a(x)"
   ]
  },
  {
   "cell_type": "code",
   "execution_count": 3,
   "metadata": {},
   "outputs": [
    {
     "data": {
      "text/plain": [
       "6"
      ]
     },
     "execution_count": 3,
     "metadata": {},
     "output_type": "execute_result"
    }
   ],
   "source": [
    "a=lambda n:n*2     # n is local variable\n",
    "a(3)"
   ]
  },
  {
   "cell_type": "code",
   "execution_count": 5,
   "metadata": {},
   "outputs": [
    {
     "name": "stdout",
     "output_type": "stream",
     "text": [
      "Name is Dheeraj\n"
     ]
    }
   ],
   "source": [
    "name='This is a global variable'\n",
    "def a():\n",
    "    name='Dheeraj'\n",
    "    def b():\n",
    "        print('Name is '+name)\n",
    "    b()\n",
    "a()"
   ]
  },
  {
   "cell_type": "code",
   "execution_count": 7,
   "metadata": {},
   "outputs": [
    {
     "name": "stdout",
     "output_type": "stream",
     "text": [
      "Name is Balivada\n"
     ]
    }
   ],
   "source": [
    "# G-Global\n",
    "name='Dheeraj'\n",
    "def a():\n",
    "    # E-Enclosing\n",
    "    name='Chandan'\n",
    "    def b():\n",
    "        # L-Local\n",
    "        name='Balivada'\n",
    "        print('Name is '+name)\n",
    "    b()\n",
    "a()"
   ]
  },
  {
   "cell_type": "code",
   "execution_count": 8,
   "metadata": {},
   "outputs": [
    {
     "name": "stdout",
     "output_type": "stream",
     "text": [
      "Name is Chandan\n"
     ]
    }
   ],
   "source": [
    "# G-Global\n",
    "name='Dheeraj'\n",
    "def a():\n",
    "    # E-Enclosing\n",
    "    name='Chandan'\n",
    "    def b():\n",
    "        # L-Local\n",
    "        # name='Balivada'\n",
    "        print('Name is '+name)\n",
    "    b()\n",
    "a()"
   ]
  },
  {
   "cell_type": "code",
   "execution_count": 11,
   "metadata": {},
   "outputs": [
    {
     "name": "stdout",
     "output_type": "stream",
     "text": [
      "Name is Dheeraj\n"
     ]
    }
   ],
   "source": [
    "# G-Global\n",
    "name='Dheeraj'\n",
    "def a():\n",
    "    # E-Enclosing\n",
    "    # name='Chandan'\n",
    "    def b():\n",
    "        # L-Local\n",
    "        # name='Balivada'\n",
    "        print('Name is '+name)\n",
    "    b()\n",
    "a()"
   ]
  },
  {
   "cell_type": "code",
   "execution_count": 12,
   "metadata": {},
   "outputs": [
    {
     "name": "stdout",
     "output_type": "stream",
     "text": [
      "Name is Balivada\n"
     ]
    }
   ],
   "source": [
    "# G-Global\n",
    "# name='Dheeraj'\n",
    "def a():\n",
    "    # E-Enclosing\n",
    "    name='Chandan'\n",
    "    def b():\n",
    "        # L-Local\n",
    "        name='Balivada'\n",
    "        print('Name is '+name)\n",
    "    b()\n",
    "a()"
   ]
  },
  {
   "cell_type": "code",
   "execution_count": 13,
   "metadata": {},
   "outputs": [
    {
     "name": "stdout",
     "output_type": "stream",
     "text": [
      "Name is Chandan\n"
     ]
    }
   ],
   "source": [
    "# G-Global\n",
    "# name='Dheeraj'\n",
    "def a():\n",
    "    # E-Enclosing\n",
    "    name='Chandan'\n",
    "    def b():\n",
    "        # L-Local\n",
    "        # name='Balivada'\n",
    "        print('Name is '+name)\n",
    "    b()\n",
    "a()"
   ]
  },
  {
   "cell_type": "code",
   "execution_count": 14,
   "metadata": {},
   "outputs": [
    {
     "name": "stdout",
     "output_type": "stream",
     "text": [
      "10\n",
      "20\n",
      "10\n"
     ]
    }
   ],
   "source": [
    "x=10       # Global\n",
    "def a(x):\n",
    "    print(x) # executing global value\n",
    "    x=20     # Local reassignment\n",
    "    print(x) # executing local value\n",
    "a(x)\n",
    "print(x)      #executing global value"
   ]
  },
  {
   "cell_type": "code",
   "execution_count": 15,
   "metadata": {},
   "outputs": [
    {
     "name": "stdout",
     "output_type": "stream",
     "text": [
      "10\n",
      "20\n",
      "HI DHEERAJ\n"
     ]
    }
   ],
   "source": [
    "x=10       # Global\n",
    "def a():\n",
    "    global x # Value of x contionusly effects/changes if reassining to x\n",
    "    print(x) # executing global value\n",
    "    x=20     # Local reassignment\n",
    "    print(x)\n",
    "    x='HI DHEERAJ'# executing local value\n",
    "a()\n",
    "print(x)      #executing changed global value"
   ]
  },
  {
   "cell_type": "code",
   "execution_count": 16,
   "metadata": {},
   "outputs": [
    {
     "name": "stdout",
     "output_type": "stream",
     "text": [
      "10\n",
      "20\n",
      "HI DHEERAJ\n",
      "10\n"
     ]
    }
   ],
   "source": [
    "x=10       # Global\n",
    "def a(x):\n",
    "    print(x) # executing global value\n",
    "    x=20     # Local reassignment\n",
    "    print(x)\n",
    "    x='HI DHEERAJ'# executing local value\n",
    "    print(x)\n",
    "a(x)\n",
    "print(x)      #executing global value"
   ]
  },
  {
   "cell_type": "code",
   "execution_count": 46,
   "metadata": {},
   "outputs": [
    {
     "name": "stdout",
     "output_type": "stream",
     "text": [
      "10\n",
      "20\n",
      "HI DHEERAJ\n",
      "10\n"
     ]
    },
    {
     "data": {
      "text/plain": [
       "'HI DHEERAJ'"
      ]
     },
     "execution_count": 46,
     "metadata": {},
     "output_type": "execute_result"
    }
   ],
   "source": [
    "x=10       # Global\n",
    "def a(x):\n",
    "    print(x) # executing global value\n",
    "    x=20     # Local reassignment\n",
    "    print(x)\n",
    "    x='HI DHEERAJ'# executing local value\n",
    "    print(x)\n",
    "    return x\n",
    "b=a(x)\n",
    "print(x)      #executing global value\n",
    "b             # Returning the value of last assigned value of x"
   ]
  },
  {
   "cell_type": "code",
   "execution_count": null,
   "metadata": {},
   "outputs": [],
   "source": []
  }
 ],
 "metadata": {
  "kernelspec": {
   "display_name": "Python 3",
   "language": "python",
   "name": "python3"
  },
  "language_info": {
   "codemirror_mode": {
    "name": "ipython",
    "version": 3
   },
   "file_extension": ".py",
   "mimetype": "text/x-python",
   "name": "python",
   "nbconvert_exporter": "python",
   "pygments_lexer": "ipython3",
   "version": "3.11.4"
  }
 },
 "nbformat": 4,
 "nbformat_minor": 4
}
