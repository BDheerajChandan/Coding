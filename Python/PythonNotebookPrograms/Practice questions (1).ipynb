{
 "cells": [
  {
   "cell_type": "markdown",
   "id": "39c9974b",
   "metadata": {},
   "source": [
    " Q.1> Replace the elements in tuple:\n",
    " \n",
    " tuple = (['a', 1, True], 2, 'Science', -5)\n",
    "\n",
    "a. Replace '2' with '3'\n",
    "\n",
    "b. Replace 'True' in first element with 'False'"
   ]
  },
  {
   "cell_type": "markdown",
   "id": "c56ef0ca",
   "metadata": {},
   "source": [
    "Q.2>  Write the program to perform following manipulations:\n",
    "\n",
    "a. Add '7' to the given set\n",
    "\n",
    "b. Remove '3' from a given set\n",
    "\n",
    "c. Clear the set"
   ]
  },
  {
   "cell_type": "markdown",
   "id": "4183a503",
   "metadata": {},
   "source": [
    "Q.3> Create two sets of words from the given sentences and perform the following operations:\n",
    "\n",
    "a. Find the count of unique words in each of the sentence\n",
    "\n",
    "b. Find the common words in both the sentences\n",
    "\n",
    "c. Find the unique words in both the sentences\n",
    "\n",
    "Use the sentences given below:\n",
    "\n",
    "s1 = 'We shall analyse the data using python'\n",
    "\n",
    "s2 = 'Python for data science'"
   ]
  },
  {
   "cell_type": "markdown",
   "id": "0a2823d1",
   "metadata": {},
   "source": [
    "Q.4> Write a program to perform following set operations:\n",
    "\n",
    "a. Union\n",
    "\n",
    "b. Intersection\n",
    "\n",
    "c. Set of all the elements of set A that are not in set B\n",
    "\n",
    "d. Set of all the elements of set B that are not in set A\n",
    "\n",
    "e. Symmetric difference\n"
   ]
  },
  {
   "cell_type": "markdown",
   "id": "b3663829",
   "metadata": {},
   "source": [
    "Q.5> Provide solution for the following:\n",
    "\n",
    "a. Write a program to create a dictionary using given keys and values\n",
    "\n",
    "Use the keys and values to create a dictionary\n",
    "\n",
    "key = ['Weight','BMI','Age','Profession']\n",
    "\n",
    "value = [67, 25, 27, 'CA']\n",
    "b.Use the dictionary created before and Write a code to add a key ('Height':154)\n",
    "\n",
    "to the dictionary\n",
    "\n",
    "c.Write a program to retrieve the keys/values of dictionary\n",
    "\n",
    "d.Write a program to get the value for 'Age' from the dictionary"
   ]
  },
  {
   "cell_type": "markdown",
   "id": "ddbee059",
   "metadata": {},
   "source": [
    "Q.6> Define the python function to swap first and last value of the given list"
   ]
  },
  {
   "cell_type": "markdown",
   "id": "66accc37",
   "metadata": {},
   "source": [
    "Q.7> Define the python function to calculate the factorial of the number"
   ]
  },
  {
   "cell_type": "markdown",
   "id": "18b13eb4",
   "metadata": {},
   "source": [
    "Q.8>  Write the python program to get the unique values from the given list"
   ]
  },
  {
   "cell_type": "markdown",
   "id": "d9256c21",
   "metadata": {},
   "source": [
    "Q.9 > Determine the maximum of a given list using reduce function"
   ]
  },
  {
   "cell_type": "markdown",
   "id": "625bebb1",
   "metadata": {},
   "source": [
    "Q.10: Write a Python program to create a simple calculator that can perform addition, subtraction, multiplication, and division. Your program should take two numbers and an operator (+, -, *, /) as input from the user and then perform the corresponding operation.\n",
    "\n",
    "Your program should handle the following cases:\n",
    "\n",
    "If the user inputs an invalid operator, it should display an error message.\n",
    "\n",
    "If the user tries to divide by zero, it should display a message indicating that division by zero is not allowed."
   ]
  },
  {
   "cell_type": "markdown",
   "id": "5b4dc37b",
   "metadata": {},
   "source": [
    "Q.11>\n",
    "Write a Python program to create a username and password. Your program should enforce the following rules for creating a username and password:\n",
    "\n",
    "Username Rules:\n",
    "\n",
    "Should contain only alphanumeric characters (letters A-Z, numbers 0-9), hyphens (-), and underscores (_).\n",
    "\n",
    "Should be between 5 and 20 characters long.\n",
    "\n",
    "Must start with a letter.\n",
    "\n",
    "Password Rules:\n",
    "\n",
    "Should contain at least one uppercase letter, one lowercase letter, and one digit.\n",
    "\n",
    "Should be at least 8 characters long.\n",
    "\n",
    "Cannot contain spaces.\n",
    "\n",
    "Your program should prompt the user to enter a username and password until they satisfy all the rules.\n",
    "\n",
    "For example:\n",
    "\n",
    "Welcome to the username and password creation program.\n",
    "\n",
    "Enter a username: My_User123\n",
    "\n",
    "Enter a password: SecretPass123\n",
    "\n",
    "Username and password created successfully!\n",
    "\n",
    "Do you want to create another username and password? (yes/no): yes\n",
    "\n",
    "Enter a username: too_short\n",
    "\n",
    "Enter a password: Weak1\n",
    "\n",
    "Error: Username should be between 5 and 20 characters long and must start with a letter.\n",
    "\n",
    "Enter a username: GoodUsername\n",
    "\n",
    "Enter a password: NoNumber\n",
    "\n",
    "Error: Password should contain at least one uppercase letter, one lowercase letter, and one digit.\n",
    "\n",
    "Enter a username: Valid_User\n",
    "\n",
    "Enter a password: StrongPassword\n",
    "\n",
    "Error: Password should contain at least one uppercase letter, one lowercase letter, and one digit.\n",
    "\n",
    "Enter a username: Valid_User\n",
    "\n",
    "Enter a password: StrongPass123\n",
    "\n",
    "Username and password created successfully!\n",
    "\n"
   ]
  },
  {
   "cell_type": "code",
   "execution_count": null,
   "id": "743eab4e",
   "metadata": {
    "collapsed": true
   },
   "outputs": [],
   "source": []
  }
 ],
 "metadata": {
  "kernelspec": {
   "display_name": "Python 3 (ipykernel)",
   "language": "python",
   "name": "python3"
  },
  "language_info": {
   "codemirror_mode": {
    "name": "ipython",
    "version": 3
   },
   "file_extension": ".py",
   "mimetype": "text/x-python",
   "name": "python",
   "nbconvert_exporter": "python",
   "pygments_lexer": "ipython3",
   "version": "3.10.9"
  }
 },
 "nbformat": 4,
 "nbformat_minor": 5
}
