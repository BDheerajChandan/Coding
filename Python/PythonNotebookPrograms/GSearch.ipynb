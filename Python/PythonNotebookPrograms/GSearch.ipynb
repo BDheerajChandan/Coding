{
 "cells": [
  {
   "cell_type": "code",
   "execution_count": null,
   "metadata": {},
   "outputs": [],
   "source": [
    "query=input(\"Please enter your query : \")"
   ]
  },
  {
   "cell_type": "code",
   "execution_count": null,
   "metadata": {},
   "outputs": [],
   "source": [
    "# Get google links related to search\n",
    "\n",
    "from googlesearch import search\n",
    "def GSearch():\n",
    "    #query=input(\"Please enter your query : \")\n",
    "    URLs=\"\"\n",
    "    c=0\n",
    "    for url in search(query):\n",
    "        URLs=URLs+url+\"\\n\"\n",
    "        if(c==10):\n",
    "            break\n",
    "        c=c+1\n",
    "    return (URLs)\n",
    "print(type(GSearch()))\n",
    "print(GSearch())"
   ]
  }
 ],
 "metadata": {
  "kernelspec": {
   "display_name": "base",
   "language": "python",
   "name": "python3"
  },
  "language_info": {
   "codemirror_mode": {
    "name": "ipython",
    "version": 3
   },
   "file_extension": ".py",
   "mimetype": "text/x-python",
   "name": "python",
   "nbconvert_exporter": "python",
   "pygments_lexer": "ipython3",
   "version": "3.11.4"
  }
 },
 "nbformat": 4,
 "nbformat_minor": 2
}
