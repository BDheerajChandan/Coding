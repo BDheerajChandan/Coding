{
 "cells": [
  {
   "cell_type": "code",
   "execution_count": 1,
   "metadata": {},
   "outputs": [],
   "source": [
    "mylist=[1,2,3,4,5]\n",
    "myset=set()\n"
   ]
  },
  {
   "cell_type": "code",
   "execution_count": 2,
   "metadata": {},
   "outputs": [
    {
     "data": {
      "text/plain": [
       "list"
      ]
     },
     "execution_count": 2,
     "metadata": {},
     "output_type": "execute_result"
    }
   ],
   "source": [
    "type(mylist)"
   ]
  },
  {
   "cell_type": "code",
   "execution_count": 3,
   "metadata": {},
   "outputs": [
    {
     "data": {
      "text/plain": [
       "set"
      ]
     },
     "execution_count": 3,
     "metadata": {},
     "output_type": "execute_result"
    }
   ],
   "source": [
    "type(myset)"
   ]
  },
  {
   "cell_type": "code",
   "execution_count": 40,
   "metadata": {},
   "outputs": [],
   "source": [
    "myset.add(3)"
   ]
  },
  {
   "cell_type": "code",
   "execution_count": 41,
   "metadata": {},
   "outputs": [
    {
     "data": {
      "text/plain": [
       "{3}"
      ]
     },
     "execution_count": 41,
     "metadata": {},
     "output_type": "execute_result"
    }
   ],
   "source": [
    "myset"
   ]
  },
  {
   "cell_type": "code",
   "execution_count": 42,
   "metadata": {},
   "outputs": [
    {
     "data": {
      "text/plain": [
       "[1, 2, 3, 4, 5]"
      ]
     },
     "execution_count": 42,
     "metadata": {},
     "output_type": "execute_result"
    }
   ],
   "source": [
    "mylist"
   ]
  },
  {
   "cell_type": "code",
   "execution_count": 43,
   "metadata": {},
   "outputs": [
    {
     "data": {
      "text/plain": [
       "{3, 4}"
      ]
     },
     "execution_count": 43,
     "metadata": {},
     "output_type": "execute_result"
    }
   ],
   "source": [
    "myset.add(4)\n",
    "myset\n"
   ]
  },
  {
   "cell_type": "code",
   "execution_count": 44,
   "metadata": {},
   "outputs": [
    {
     "data": {
      "text/plain": [
       "{4}"
      ]
     },
     "execution_count": 44,
     "metadata": {},
     "output_type": "execute_result"
    }
   ],
   "source": [
    "myset.remove(3)\n",
    "myset"
   ]
  },
  {
   "cell_type": "code",
   "execution_count": 45,
   "metadata": {},
   "outputs": [
    {
     "data": {
      "text/plain": [
       "set()"
      ]
     },
     "execution_count": 45,
     "metadata": {},
     "output_type": "execute_result"
    }
   ],
   "source": [
    "myset.remove(4)\n",
    "myset"
   ]
  },
  {
   "cell_type": "code",
   "execution_count": 25,
   "metadata": {},
   "outputs": [],
   "source": [
    "# class keyword"
   ]
  },
  {
   "cell_type": "code",
   "execution_count": 28,
   "metadata": {},
   "outputs": [
    {
     "data": {
      "text/plain": [
       "__main__.Sample"
      ]
     },
     "execution_count": 28,
     "metadata": {},
     "output_type": "execute_result"
    }
   ],
   "source": [
    "class Sample():\n",
    "    pass            # class created\n",
    "my_sample=Sample()  # no attributes\n",
    "type(my_sample)     "
   ]
  },
  {
   "cell_type": "code",
   "execution_count": 1,
   "metadata": {},
   "outputs": [
    {
     "data": {
      "text/plain": [
       "__main__.Sample"
      ]
     },
     "execution_count": 1,
     "metadata": {},
     "output_type": "execute_result"
    }
   ],
   "source": [
    "class Sample():\n",
    "    # Attributes\n",
    "    # We take in argument\n",
    "    # Assign it using self.attribute_name\n",
    "    def __init__(self,name):\n",
    "        self.name=name\n",
    "a=Sample(name='Dheeraj')\n",
    "type(a)"
   ]
  },
  {
   "cell_type": "code",
   "execution_count": 2,
   "metadata": {},
   "outputs": [
    {
     "data": {
      "text/plain": [
       "'Dheeraj'"
      ]
     },
     "execution_count": 2,
     "metadata": {},
     "output_type": "execute_result"
    }
   ],
   "source": [
    "a.name"
   ]
  },
  {
   "cell_type": "code",
   "execution_count": 3,
   "metadata": {},
   "outputs": [
    {
     "data": {
      "text/plain": [
       "<__main__.Sample at 0x281439decc8>"
      ]
     },
     "execution_count": 3,
     "metadata": {},
     "output_type": "execute_result"
    }
   ],
   "source": [
    "a"
   ]
  },
  {
   "cell_type": "code",
   "execution_count": 4,
   "metadata": {},
   "outputs": [
    {
     "data": {
      "text/plain": [
       "__main__.Sample"
      ]
     },
     "execution_count": 4,
     "metadata": {},
     "output_type": "execute_result"
    }
   ],
   "source": [
    "class Sample():\n",
    "    def __init__(self,name,roll,section):\n",
    "        self.name=name\n",
    "        self.roll=roll\n",
    "        self.section=section\n",
    "a=Sample(name='Dheeraj',roll=21,section=4.0)\n",
    "type(a)"
   ]
  },
  {
   "cell_type": "code",
   "execution_count": 5,
   "metadata": {},
   "outputs": [
    {
     "data": {
      "text/plain": [
       "'Dheeraj'"
      ]
     },
     "execution_count": 5,
     "metadata": {},
     "output_type": "execute_result"
    }
   ],
   "source": [
    "a.name"
   ]
  },
  {
   "cell_type": "code",
   "execution_count": 6,
   "metadata": {},
   "outputs": [
    {
     "data": {
      "text/plain": [
       "21"
      ]
     },
     "execution_count": 6,
     "metadata": {},
     "output_type": "execute_result"
    }
   ],
   "source": [
    "a.roll"
   ]
  },
  {
   "cell_type": "code",
   "execution_count": 7,
   "metadata": {},
   "outputs": [
    {
     "data": {
      "text/plain": [
       "4.0"
      ]
     },
     "execution_count": 7,
     "metadata": {},
     "output_type": "execute_result"
    }
   ],
   "source": [
    "a.section"
   ]
  },
  {
   "cell_type": "code",
   "execution_count": 58,
   "metadata": {},
   "outputs": [
    {
     "data": {
      "text/plain": [
       "str"
      ]
     },
     "execution_count": 58,
     "metadata": {},
     "output_type": "execute_result"
    }
   ],
   "source": [
    "type(a.name)"
   ]
  },
  {
   "cell_type": "code",
   "execution_count": 59,
   "metadata": {},
   "outputs": [
    {
     "data": {
      "text/plain": [
       "int"
      ]
     },
     "execution_count": 59,
     "metadata": {},
     "output_type": "execute_result"
    }
   ],
   "source": [
    "type(a.roll)\n"
   ]
  },
  {
   "cell_type": "code",
   "execution_count": 60,
   "metadata": {},
   "outputs": [
    {
     "data": {
      "text/plain": [
       "float"
      ]
     },
     "execution_count": 60,
     "metadata": {},
     "output_type": "execute_result"
    }
   ],
   "source": [
    "type(a.section)"
   ]
  },
  {
   "cell_type": "code",
   "execution_count": 8,
   "metadata": {},
   "outputs": [],
   "source": [
    "# OOP 2- (Class Objects Attributes And Methods)"
   ]
  },
  {
   "cell_type": "code",
   "execution_count": 12,
   "metadata": {},
   "outputs": [
    {
     "data": {
      "text/plain": [
       "'EEE'"
      ]
     },
     "execution_count": 12,
     "metadata": {},
     "output_type": "execute_result"
    }
   ],
   "source": [
    "class Sample():\n",
    "    # Class Object Atrributes\n",
    "    # Same for any instance of a class\n",
    "    branch='EEE'\n",
    "    def __init__(self,name,roll,section):\n",
    "        self.name=name\n",
    "        self.roll=roll\n",
    "        self.section=section\n",
    "a=Sample(name='Dheeraj',roll=21,section=4.0)\n",
    "a.branch"
   ]
  },
  {
   "cell_type": "code",
   "execution_count": 1,
   "metadata": {},
   "outputs": [],
   "source": [
    "class Sample():\n",
    "    # Class Object Atrributes\n",
    "    # Same for any instance of a class\n",
    "    branch='EEE'\n",
    "    def __init__(self,name,roll,section):\n",
    "        self.name=name\n",
    "        self.roll=roll\n",
    "        self.section=section\n",
    "    def test():\n",
    "        print('Student')"
   ]
  },
  {
   "cell_type": "code",
   "execution_count": 2,
   "metadata": {},
   "outputs": [
    {
     "name": "stdout",
     "output_type": "stream",
     "text": [
      "EEE\n",
      "21\n",
      "4.0\n",
      "Student\n",
      "None\n"
     ]
    }
   ],
   "source": [
    "a=Sample(name='Dheeraj',roll=21,section=4.0)\n",
    "print(a.branch)\n",
    "print(a.roll)\n",
    "print(a.section)\n",
    "print(Sample.test())"
   ]
  },
  {
   "cell_type": "code",
   "execution_count": 3,
   "metadata": {},
   "outputs": [
    {
     "name": "stdout",
     "output_type": "stream",
     "text": [
      "<class '__main__.Sample'>\n",
      "EEE\n",
      "Dheeraj\n",
      "21\n",
      "4.0\n",
      "Student\n"
     ]
    }
   ],
   "source": [
    "class Sample():\n",
    "    # Class Object Atrributes\n",
    "    # Same for any instance of a class\n",
    "    branch='EEE'\n",
    "    def __init__(self,name,roll,section):\n",
    "        self.name=name\n",
    "        self.roll=roll\n",
    "        self.section=section\n",
    "    def test(self):\n",
    "        print('Student')\n",
    "a=Sample(name='Dheeraj',roll=21,section=4.0)\n",
    "print(type(a))\n",
    "print(a.branch)\n",
    "print(a.name)\n",
    "print(a.roll)\n",
    "print(a.section)\n",
    "a.test()"
   ]
  },
  {
   "cell_type": "code",
   "execution_count": 4,
   "metadata": {},
   "outputs": [
    {
     "name": "stdout",
     "output_type": "stream",
     "text": [
      "<class '__main__.Sample'>\n",
      "EEE\n",
      "Dheeraj\n",
      "21\n",
      "4.0\n",
      "Student\n"
     ]
    }
   ],
   "source": [
    "class Sample():\n",
    "    # Class Object Atrributes\n",
    "    # Same for any instance of a class\n",
    "    branch='EEE'\n",
    "    def __init__(self,name,roll,section):\n",
    "        self.name=name\n",
    "        self.roll=roll\n",
    "        self.section=section\n",
    "    def test(self):\n",
    "        print('Student')\n",
    "a=Sample('Dheeraj',21,4.0)\n",
    "print(type(a))\n",
    "print(a.branch)\n",
    "print(a.name)\n",
    "print(a.roll)\n",
    "print(a.section)\n",
    "a.test()"
   ]
  },
  {
   "cell_type": "code",
   "execution_count": 5,
   "metadata": {},
   "outputs": [
    {
     "name": "stdout",
     "output_type": "stream",
     "text": [
      "<class '__main__.Sample'>\n",
      "EEE\n",
      "Dheeraj\n",
      "21\n",
      "4.0\n",
      "Student name is Dheeraj\n"
     ]
    }
   ],
   "source": [
    "class Sample():\n",
    "    # Class Object Atrributes\n",
    "    # Same for any instance of a class\n",
    "    branch='EEE'\n",
    "    def __init__(self,name,roll,section):\n",
    "        self.name=name\n",
    "        self.roll=roll\n",
    "        self.section=section\n",
    "    def test(self):\n",
    "        print('Student name is {}'.format(self.name))\n",
    "a=Sample('Dheeraj',21,4.0)\n",
    "print(type(a))\n",
    "print(a.branch)\n",
    "print(a.name)\n",
    "print(a.roll)\n",
    "print(a.section)\n",
    "a.test()"
   ]
  },
  {
   "cell_type": "code",
   "execution_count": 8,
   "metadata": {},
   "outputs": [
    {
     "name": "stdout",
     "output_type": "stream",
     "text": [
      "<class '__main__.Sample'>\n",
      "EEE\n",
      "Dheeraj\n",
      "21\n",
      "4.0\n",
      "Student name is Dheeraj .His roll 21 and section 4.0\n"
     ]
    }
   ],
   "source": [
    "class Sample():\n",
    "    # Class Object Atrributes\n",
    "    # Same for any instance of a class\n",
    "    branch='EEE'\n",
    "    def __init__(self,name,roll,section):\n",
    "        self.name=name\n",
    "        self.roll=roll\n",
    "        self.section=section\n",
    "    def test(self):\n",
    "        print('Student name is {} .His roll {} and section {}'.format(self.name,self.roll,self.section))\n",
    "a=Sample('Dheeraj',21,4.0)\n",
    "print(type(a))\n",
    "print(a.branch)\n",
    "print(a.name)\n",
    "print(a.roll)\n",
    "print(a.section)\n",
    "a.test()"
   ]
  },
  {
   "cell_type": "code",
   "execution_count": 9,
   "metadata": {},
   "outputs": [
    {
     "name": "stdout",
     "output_type": "stream",
     "text": [
      "1\n",
      "3.14\n",
      "6.28\n"
     ]
    }
   ],
   "source": [
    "class Circle():\n",
    "     # Class Object Atrributes\n",
    "    pi=3.14\n",
    "    def __init__(self,radius=1): # If we assign here then we can reassign all time if we want\n",
    "        self.radius=radius\n",
    "    def circumf(self):\n",
    "        return 2*self.pi*self.radius\n",
    "my_cicle=Circle()\n",
    "print(my_cicle.radius)\n",
    "print(my_cicle.pi)\n",
    "print(my_cicle.circumf())"
   ]
  },
  {
   "cell_type": "code",
   "execution_count": 1,
   "metadata": {},
   "outputs": [
    {
     "name": "stdout",
     "output_type": "stream",
     "text": [
      "30\n",
      "3.14\n",
      "188.4\n"
     ]
    }
   ],
   "source": [
    "class Circle():\n",
    "     # Class Object Atrributes\n",
    "    pi=3.14\n",
    "    def __init__(self,radius=1): # If we assign here then we can reassign all time if we want\n",
    "        self.radius=radius\n",
    "    def circumf(self):\n",
    "        return 2*self.pi*self.radius\n",
    "my_cicle=Circle(30)             # Here we can give valuues for radius\n",
    "print(my_cicle.radius)\n",
    "print(my_cicle.pi)\n",
    "print(my_cicle.circumf())"
   ]
  },
  {
   "cell_type": "code",
   "execution_count": 2,
   "metadata": {},
   "outputs": [
    {
     "name": "stdout",
     "output_type": "stream",
     "text": [
      "30\n",
      "3.14\n",
      "188.4\n",
      "2826.0\n"
     ]
    }
   ],
   "source": [
    "class Circle():\n",
    "     # Class Object Atrributes\n",
    "    pi=3.14\n",
    "    def __init__(self,radius=1): # If we assign here then we can reassign all time if we want\n",
    "        self.radius=radius\n",
    "        self.area=radius**2*self.pi\n",
    "    def circumf(self):\n",
    "        return 2*self.pi*self.radius\n",
    "my_cicle=Circle(30)             # Here we can give valuues for radius\n",
    "print(my_cicle.radius)\n",
    "print(my_cicle.pi)\n",
    "print(my_cicle.circumf())\n",
    "print(my_cicle.area)"
   ]
  },
  {
   "cell_type": "code",
   "execution_count": 27,
   "metadata": {},
   "outputs": [
    {
     "name": "stdout",
     "output_type": "stream",
     "text": [
      "30\n",
      "3.14\n",
      "188.4\n",
      "2826.0\n"
     ]
    }
   ],
   "source": [
    "class Circle():\n",
    "     # Class Object Atrributes\n",
    "    pi=3.14\n",
    "    def __init__(self,radius=1): # If we assign here then we can reassign all time if we want\n",
    "        self.radius=radius\n",
    "    def circumf(self):\n",
    "        return 2*self.pi*self.radius # Here we can write Circle.pi as pi is class object attribute\n",
    "    def area(self):\n",
    "        return self.pi*self.radius**2   # Here we can write Circle.pi as pi is class object attribute\n",
    "my_cicle=Circle(30)             # Here we can give valuues for radius\n",
    "print(my_cicle.radius)\n",
    "print(my_cicle.pi)\n",
    "print(my_cicle.circumf())\n",
    "print(my_cicle.area())"
   ]
  },
  {
   "cell_type": "code",
   "execution_count": 4,
   "metadata": {},
   "outputs": [
    {
     "name": "stdout",
     "output_type": "stream",
     "text": [
      "30\n",
      "3.14\n",
      "188.4\n",
      "2826.0\n"
     ]
    }
   ],
   "source": [
    "class Circle():\n",
    "     # Class Object Atrributes\n",
    "    pi=3.14\n",
    "    def __init__(self,radius=1): # If we assign here then we can reassign all time if we want\n",
    "        self.radius=radius\n",
    "    def circumf(self):\n",
    "        return 2*Circle.pi*self.radius\n",
    "    def area(self):\n",
    "        return Circle.pi*self.radius**2\n",
    "my_cicle=Circle(30)             # Here we can give valuues for radius\n",
    "print(my_cicle.radius)\n",
    "print(my_cicle.pi)\n",
    "print(my_cicle.circumf())\n",
    "print(my_cicle.area())"
   ]
  },
  {
   "cell_type": "code",
   "execution_count": 1,
   "metadata": {},
   "outputs": [],
   "source": [
    "## OOP-3  (INHERITANCE AND POLYMORPHISM)"
   ]
  },
  {
   "cell_type": "code",
   "execution_count": 2,
   "metadata": {},
   "outputs": [
    {
     "name": "stdout",
     "output_type": "stream",
     "text": [
      "Dheeraj Chandan\n"
     ]
    }
   ],
   "source": [
    "class name():\n",
    "    def __init__(self):\n",
    "        print(\"Dheeraj Chandan\")\n",
    "my_name=name()\n"
   ]
  },
  {
   "cell_type": "code",
   "execution_count": 61,
   "metadata": {},
   "outputs": [
    {
     "name": "stdout",
     "output_type": "stream",
     "text": [
      "Dheeraj Chandan\n",
      "Section EEE-4 \n",
      "10\n"
     ]
    }
   ],
   "source": [
    "class name():\n",
    "    def __init__(self):\n",
    "        print(\"Dheeraj Chandan\")\n",
    "    def roll(self,roll):\n",
    "        print(roll)\n",
    "    def section(self):\n",
    "        print(\"Section EEE-4 \")\n",
    "my_name=name()\n",
    "my_name.section()\n",
    "my_name.roll(10)"
   ]
  },
  {
   "cell_type": "code",
   "execution_count": 31,
   "metadata": {},
   "outputs": [
    {
     "name": "stdout",
     "output_type": "stream",
     "text": [
      "Section EEE-4 \n"
     ]
    }
   ],
   "source": [
    "my_name.section()"
   ]
  },
  {
   "cell_type": "code",
   "execution_count": 32,
   "metadata": {},
   "outputs": [
    {
     "name": "stdout",
     "output_type": "stream",
     "text": [
      "10\n"
     ]
    }
   ],
   "source": [
    "my_name.roll(10)"
   ]
  },
  {
   "cell_type": "code",
   "execution_count": 62,
   "metadata": {},
   "outputs": [
    {
     "name": "stdout",
     "output_type": "stream",
     "text": [
      "Section EEE-4 \n",
      "10\n"
     ]
    }
   ],
   "source": [
    "class name():\n",
    "    def __init__(self,a=1):\n",
    "        self.a=a\n",
    "    def roll(self,roll):\n",
    "        return roll\n",
    "    def section(self):\n",
    "        return \"Section EEE-4 \"\n",
    "my_name=name()\n",
    "print(my_name.section())\n",
    "print(my_name.roll(10))"
   ]
  },
  {
   "cell_type": "code",
   "execution_count": 63,
   "metadata": {},
   "outputs": [
    {
     "name": "stdout",
     "output_type": "stream",
     "text": [
      "Marks\n",
      "10\n",
      "20\n",
      "30\n"
     ]
    }
   ],
   "source": [
    "class Sub():\n",
    "    def __init__(self):\n",
    "        print(\"Marks\")\n",
    "    def math(self,MM):\n",
    "        print(MM)        \n",
    "    def phy(self,PM):\n",
    "        print(PM)        \n",
    "    def che(self,CM):\n",
    "        print(CM)        \n",
    "SubM=Sub()\n",
    "SubM.math(10)\n",
    "SubM.phy(20)\n",
    "SubM.che(30)"
   ]
  },
  {
   "cell_type": "code",
   "execution_count": 65,
   "metadata": {},
   "outputs": [
    {
     "name": "stdout",
     "output_type": "stream",
     "text": [
      "10\n",
      "20\n",
      "30\n"
     ]
    }
   ],
   "source": [
    "class Sub():\n",
    "    def __init__(self):\n",
    "        self.SubM=SubM()\n",
    "    def math(self,MM):\n",
    "        return MM\n",
    "    def phy(self,PM):\n",
    "        return PM        \n",
    "    def che(self,CM):\n",
    "        return CM\n",
    "SubM.math(10)\n",
    "SubM.phy(20)\n",
    "SubM.che(30)"
   ]
  },
  {
   "cell_type": "code",
   "execution_count": 57,
   "metadata": {},
   "outputs": [
    {
     "name": "stdout",
     "output_type": "stream",
     "text": [
      "10\n",
      "20\n",
      "30\n"
     ]
    }
   ],
   "source": [
    "class Sub():\n",
    "    def __init__(self):\n",
    "        pass\n",
    "    def math(self,MM):\n",
    "        print(MM)        \n",
    "    def phy(self,PM):\n",
    "        print(PM)        \n",
    "    def che(self,CM):\n",
    "        print(CM)        \n",
    "SubM=Sub()\n",
    "SubM.math(10)\n",
    "SubM.phy(20)\n",
    "SubM.che(30)"
   ]
  },
  {
   "cell_type": "code",
   "execution_count": 58,
   "metadata": {},
   "outputs": [
    {
     "name": "stdout",
     "output_type": "stream",
     "text": [
      "10\n",
      "20\n",
      "30\n"
     ]
    }
   ],
   "source": [
    "class Sub():\n",
    "    def math(self,MM):\n",
    "        print(MM)        \n",
    "    def phy(self,PM):\n",
    "        print(PM)        \n",
    "    def che(self,CM):\n",
    "        print(CM)        \n",
    "SubM=Sub()\n",
    "SubM.math(10)\n",
    "SubM.phy(20)\n",
    "SubM.che(30)"
   ]
  },
  {
   "cell_type": "code",
   "execution_count": 69,
   "metadata": {},
   "outputs": [
    {
     "name": "stdout",
     "output_type": "stream",
     "text": [
      "HI\n"
     ]
    }
   ],
   "source": [
    "class a():\n",
    "    def __init__(self):\n",
    "        pass\n",
    "    def b(self):\n",
    "        print(\"HI\")\n",
    "x=a()\n",
    "x.b()"
   ]
  },
  {
   "cell_type": "code",
   "execution_count": 1,
   "metadata": {},
   "outputs": [
    {
     "name": "stdout",
     "output_type": "stream",
     "text": [
      "HI\n"
     ]
    }
   ],
   "source": [
    "class a():\n",
    "    def b(self):\n",
    "        print(\"HI\")\n",
    "x=a()\n",
    "x.b()"
   ]
  },
  {
   "cell_type": "code",
   "execution_count": 3,
   "metadata": {},
   "outputs": [
    {
     "name": "stdout",
     "output_type": "stream",
     "text": [
      "Animal created\n"
     ]
    }
   ],
   "source": [
    "## INNHERITANCE\n",
    "#In inheritance, the child class inherits the methods from the parent class. However, it is possible to modify a \n",
    "#               method in a child class that it has inherited from the parent class.\n",
    "\n",
    "class Animal():\n",
    "    def __init__(self):\n",
    "        print(\"Animal created\")\n",
    "    def who_am_i(self):\n",
    "        print(\"I am an animal\")\n",
    "    def eat(self):\n",
    "        print(\"I am eating\")\n",
    "myanimal=Animal()"
   ]
  },
  {
   "cell_type": "code",
   "execution_count": 4,
   "metadata": {},
   "outputs": [
    {
     "name": "stdout",
     "output_type": "stream",
     "text": [
      "I am an animal\n"
     ]
    }
   ],
   "source": [
    "myanimal.who_am_i()"
   ]
  },
  {
   "cell_type": "code",
   "execution_count": 5,
   "metadata": {},
   "outputs": [
    {
     "name": "stdout",
     "output_type": "stream",
     "text": [
      "I am eating\n"
     ]
    }
   ],
   "source": [
    "myanimal.eat()"
   ]
  },
  {
   "cell_type": "code",
   "execution_count": 7,
   "metadata": {},
   "outputs": [
    {
     "name": "stdout",
     "output_type": "stream",
     "text": [
      "Animal created\n",
      "Dog created\n"
     ]
    }
   ],
   "source": [
    "## If Dog class needs same methods of Animal class then\n",
    "class Dog(Animal):# base class Animal\n",
    "    def __init__(self):\n",
    "        Animal.__init__(self)\n",
    "        print(\"Dog created\")\n",
    "mydog=Dog()"
   ]
  },
  {
   "cell_type": "code",
   "execution_count": 8,
   "metadata": {},
   "outputs": [
    {
     "name": "stdout",
     "output_type": "stream",
     "text": [
      "I am eating\n"
     ]
    }
   ],
   "source": [
    "mydog.eat()"
   ]
  },
  {
   "cell_type": "code",
   "execution_count": 9,
   "metadata": {},
   "outputs": [
    {
     "name": "stdout",
     "output_type": "stream",
     "text": [
      "I am an animal\n"
     ]
    }
   ],
   "source": [
    "mydog.who_am_i()"
   ]
  },
  {
   "cell_type": "code",
   "execution_count": 10,
   "metadata": {},
   "outputs": [
    {
     "name": "stdout",
     "output_type": "stream",
     "text": [
      "Animal created\n",
      "Dog created\n"
     ]
    }
   ],
   "source": [
    "class Dog(Animal):# base class Animal\n",
    "    def __init__(self):\n",
    "        Animal.__init__(self)\n",
    "        print(\"Dog created\")\n",
    "    def who_am_i(self):\n",
    "        print(\"I am a dog\")\n",
    "mydog=Dog()"
   ]
  },
  {
   "cell_type": "code",
   "execution_count": 11,
   "metadata": {},
   "outputs": [
    {
     "name": "stdout",
     "output_type": "stream",
     "text": [
      "I am a dog\n"
     ]
    }
   ],
   "source": [
    "mydog.who_am_i()"
   ]
  },
  {
   "cell_type": "code",
   "execution_count": 12,
   "metadata": {},
   "outputs": [
    {
     "name": "stdout",
     "output_type": "stream",
     "text": [
      "I am eating\n"
     ]
    }
   ],
   "source": [
    "mydog.eat()"
   ]
  },
  {
   "cell_type": "code",
   "execution_count": 13,
   "metadata": {},
   "outputs": [
    {
     "name": "stdout",
     "output_type": "stream",
     "text": [
      "Animal created\n",
      "Dog created\n"
     ]
    }
   ],
   "source": [
    "class Dog(Animal):# base class Animal\n",
    "    def __init__(self):\n",
    "        Animal.__init__(self)\n",
    "        print(\"Dog created\")\n",
    "    def who_am_i(self):\n",
    "        print(\"I am a dog and eating\")\n",
    "    def bark(self):\n",
    "        print(\"Bhowwwh!!\")\n",
    "mydog=Dog()"
   ]
  },
  {
   "cell_type": "code",
   "execution_count": 14,
   "metadata": {},
   "outputs": [
    {
     "name": "stdout",
     "output_type": "stream",
     "text": [
      "I am eating\n"
     ]
    }
   ],
   "source": [
    "mydog.eat()"
   ]
  },
  {
   "cell_type": "code",
   "execution_count": 15,
   "metadata": {},
   "outputs": [
    {
     "name": "stdout",
     "output_type": "stream",
     "text": [
      "I am a dog and eating\n"
     ]
    }
   ],
   "source": [
    "mydog.who_am_i()"
   ]
  },
  {
   "cell_type": "code",
   "execution_count": 16,
   "metadata": {},
   "outputs": [
    {
     "name": "stdout",
     "output_type": "stream",
     "text": [
      "Bhowwwh!!\n"
     ]
    }
   ],
   "source": [
    "mydog.bark()"
   ]
  },
  {
   "cell_type": "code",
   "execution_count": 17,
   "metadata": {},
   "outputs": [],
   "source": [
    "## POLYMORPHISM\n",
    "#Polymorphism lets us define methods in the child class that have the same name as the methods in the parent class. \n",
    "\n",
    "# We can redefine certain methods and attributes specifically to fit the child class, which is known as Method Overriding. \n",
    "# Polymorphism allows us to access these overridden methods and attributes that have the same name as the parent class."
   ]
  },
  {
   "cell_type": "code",
   "execution_count": 18,
   "metadata": {},
   "outputs": [
    {
     "data": {
      "text/plain": [
       "'TOMMY speaks bhowww!!'"
      ]
     },
     "execution_count": 18,
     "metadata": {},
     "output_type": "execute_result"
    }
   ],
   "source": [
    "class Dog():\n",
    "    def __init__(self,name):\n",
    "        self.name=name\n",
    "    def speak(self):\n",
    "        return self.name+\" speaks bhowww!!\"\n",
    "a=Dog('TOMMY')\n",
    "a.speak()"
   ]
  },
  {
   "cell_type": "code",
   "execution_count": 19,
   "metadata": {},
   "outputs": [
    {
     "data": {
      "text/plain": [
       "'CATTY speaks MEEWU'"
      ]
     },
     "execution_count": 19,
     "metadata": {},
     "output_type": "execute_result"
    }
   ],
   "source": [
    "class Cat():\n",
    "    def __init__(self,name):\n",
    "        self.name=name\n",
    "    def speak(self):\n",
    "        return self.name+\" speaks MEEWU\"\n",
    "b=Cat('CATTY')\n",
    "b.speak()"
   ]
  },
  {
   "cell_type": "code",
   "execution_count": 20,
   "metadata": {},
   "outputs": [],
   "source": [
    "# Here Dog class and Cat class has same method having same name"
   ]
  },
  {
   "cell_type": "code",
   "execution_count": 21,
   "metadata": {},
   "outputs": [
    {
     "name": "stdout",
     "output_type": "stream",
     "text": [
      "<class '__main__.Dog'>\n",
      "TOMMY speaks bhowww!!\n",
      "<class 'str'>\n",
      "\n",
      "\n",
      "<class '__main__.Cat'>\n",
      "CATTY speaks MEEWU\n",
      "<class 'str'>\n",
      "\n",
      "\n"
     ]
    }
   ],
   "source": [
    "for pet in [a,b]:\n",
    "    print(type(pet))\n",
    "    print(pet.speak())\n",
    "    print(type(pet.speak()))\n",
    "    print(\"\\n\")"
   ]
  },
  {
   "cell_type": "code",
   "execution_count": 22,
   "metadata": {},
   "outputs": [
    {
     "name": "stdout",
     "output_type": "stream",
     "text": [
      "TOMMY speaks bhowww!!\n",
      "CATTY speaks MEEWU\n"
     ]
    }
   ],
   "source": [
    "def petspeak(pet):\n",
    "    print(pet.speak())\n",
    "petspeak(a)\n",
    "petspeak(b)"
   ]
  },
  {
   "cell_type": "code",
   "execution_count": 23,
   "metadata": {},
   "outputs": [
    {
     "name": "stdout",
     "output_type": "stream",
     "text": [
      "TOMMY speaks bhowww!!\n"
     ]
    }
   ],
   "source": [
    "petspeak(a)"
   ]
  },
  {
   "cell_type": "code",
   "execution_count": 24,
   "metadata": {},
   "outputs": [
    {
     "name": "stdout",
     "output_type": "stream",
     "text": [
      "CATTY speaks MEEWU\n"
     ]
    }
   ],
   "source": [
    "petspeak(b)"
   ]
  },
  {
   "cell_type": "code",
   "execution_count": 1,
   "metadata": {},
   "outputs": [],
   "source": [
    "# ABSTRACT CLASSES\n",
    "# An abstract class can be considered as a blueprint for other classes.\n",
    "# It allows you to create a set of methods that must be created within any child classes built from the abstract class.\n",
    "# A class which contains one or more abstract methods is called an abstract class."
   ]
  },
  {
   "cell_type": "code",
   "execution_count": 3,
   "metadata": {},
   "outputs": [],
   "source": [
    "class Animal():\n",
    "    def __init__(self,name):\n",
    "        self.name=name\n",
    "    def speak(self):\n",
    "        raise error(\"Subclass must implement the abstract method\")"
   ]
  },
  {
   "cell_type": "code",
   "execution_count": 4,
   "metadata": {},
   "outputs": [],
   "source": [
    "class Dog(Animal):\n",
    "    def speak(self):\n",
    "        return self.name+\" speaks bhowww!!\""
   ]
  },
  {
   "cell_type": "code",
   "execution_count": 5,
   "metadata": {},
   "outputs": [],
   "source": [
    "class Cat(Animal):\n",
    "    def speak(self):\n",
    "        return self.name+\" speaks meewu\""
   ]
  },
  {
   "cell_type": "code",
   "execution_count": 6,
   "metadata": {},
   "outputs": [],
   "source": [
    "a=Dog('Tommy')"
   ]
  },
  {
   "cell_type": "code",
   "execution_count": 7,
   "metadata": {},
   "outputs": [],
   "source": [
    "b=Cat('Catty')"
   ]
  },
  {
   "cell_type": "code",
   "execution_count": 8,
   "metadata": {},
   "outputs": [
    {
     "data": {
      "text/plain": [
       "'Tommy speaks bhowww!!'"
      ]
     },
     "execution_count": 8,
     "metadata": {},
     "output_type": "execute_result"
    }
   ],
   "source": [
    "a.speak()"
   ]
  },
  {
   "cell_type": "code",
   "execution_count": 9,
   "metadata": {},
   "outputs": [
    {
     "data": {
      "text/plain": [
       "'Catty speaks meewu'"
      ]
     },
     "execution_count": 9,
     "metadata": {},
     "output_type": "execute_result"
    }
   ],
   "source": [
    "b.speak()"
   ]
  },
  {
   "cell_type": "code",
   "execution_count": 10,
   "metadata": {},
   "outputs": [
    {
     "data": {
      "text/plain": [
       "'Tommy speaks bhowww!!'"
      ]
     },
     "execution_count": 10,
     "metadata": {},
     "output_type": "execute_result"
    }
   ],
   "source": [
    "class Dog(Animal):\n",
    "    def speak(self):\n",
    "        return self.name+\" speaks bhowww!!\"\n",
    "a=Dog('Tommy')\n",
    "a.speak()"
   ]
  },
  {
   "cell_type": "code",
   "execution_count": 11,
   "metadata": {},
   "outputs": [
    {
     "data": {
      "text/plain": [
       "'Catty speaks meewu!!'"
      ]
     },
     "execution_count": 11,
     "metadata": {},
     "output_type": "execute_result"
    }
   ],
   "source": [
    "class Cat(Animal):\n",
    "    def speak(self):\n",
    "        return self.name+\" speaks meewu!!\"\n",
    "b=Cat('Catty')\n",
    "b.speak()"
   ]
  },
  {
   "cell_type": "code",
   "execution_count": 1,
   "metadata": {},
   "outputs": [],
   "source": [
    "# OOP-4 (Special (magic dunder) methods)"
   ]
  },
  {
   "cell_type": "code",
   "execution_count": 3,
   "metadata": {},
   "outputs": [
    {
     "data": {
      "text/plain": [
       "5"
      ]
     },
     "execution_count": 3,
     "metadata": {},
     "output_type": "execute_result"
    }
   ],
   "source": [
    "mylist=[1,2,3,4,5]\n",
    "len(mylist)"
   ]
  },
  {
   "cell_type": "code",
   "execution_count": 4,
   "metadata": {},
   "outputs": [
    {
     "data": {
      "text/plain": [
       "<__main__.Sample at 0x213e50eea48>"
      ]
     },
     "execution_count": 4,
     "metadata": {},
     "output_type": "execute_result"
    }
   ],
   "source": [
    "class Sample():\n",
    "    pass\n",
    "mysample=Sample()\n",
    "mysample"
   ]
  },
  {
   "cell_type": "code",
   "execution_count": 8,
   "metadata": {},
   "outputs": [],
   "source": [
    "#      len(mysample) \n",
    "                        #TypeError:'Sample' has no len()"
   ]
  },
  {
   "cell_type": "code",
   "execution_count": 9,
   "metadata": {},
   "outputs": [
    {
     "name": "stdout",
     "output_type": "stream",
     "text": [
      "[1, 2, 3, 4, 5]\n"
     ]
    }
   ],
   "source": [
    "print(mylist)"
   ]
  },
  {
   "cell_type": "code",
   "execution_count": 12,
   "metadata": {},
   "outputs": [
    {
     "data": {
      "text/plain": [
       "<__main__.Book at 0x20d2ccc5f08>"
      ]
     },
     "execution_count": 12,
     "metadata": {},
     "output_type": "execute_result"
    }
   ],
   "source": [
    "class Book():\n",
    "    def __init__(self,title,author,pages):\n",
    "        self.title=title\n",
    "        self.author=author\n",
    "        self.pages=pages\n",
    "    def __str__(self):\n",
    "        return '{} by {},{} pages'.format(self.title,self.author,self.pages)\n",
    "    def __len__(self):\n",
    "        return self.pages\n",
    "b=Book('Python','Jose',1000)\n",
    "b"
   ]
  },
  {
   "cell_type": "code",
   "execution_count": 13,
   "metadata": {},
   "outputs": [
    {
     "name": "stdout",
     "output_type": "stream",
     "text": [
      "Python by Jose,1000 pages\n"
     ]
    }
   ],
   "source": [
    "print(b)"
   ]
  },
  {
   "cell_type": "code",
   "execution_count": 14,
   "metadata": {},
   "outputs": [
    {
     "data": {
      "text/plain": [
       "1000"
      ]
     },
     "execution_count": 14,
     "metadata": {},
     "output_type": "execute_result"
    }
   ],
   "source": [
    "b.pages"
   ]
  },
  {
   "cell_type": "code",
   "execution_count": 15,
   "metadata": {},
   "outputs": [
    {
     "data": {
      "text/plain": [
       "'Python'"
      ]
     },
     "execution_count": 15,
     "metadata": {},
     "output_type": "execute_result"
    }
   ],
   "source": [
    "b.title"
   ]
  },
  {
   "cell_type": "code",
   "execution_count": null,
   "metadata": {},
   "outputs": [],
   "source": []
  },
  {
   "cell_type": "code",
   "execution_count": 16,
   "metadata": {},
   "outputs": [
    {
     "data": {
      "text/plain": [
       "'Jose'"
      ]
     },
     "execution_count": 16,
     "metadata": {},
     "output_type": "execute_result"
    }
   ],
   "source": [
    "b.author"
   ]
  },
  {
   "cell_type": "code",
   "execution_count": 17,
   "metadata": {},
   "outputs": [
    {
     "data": {
      "text/plain": [
       "'Python by Jose,1000 pages'"
      ]
     },
     "execution_count": 17,
     "metadata": {},
     "output_type": "execute_result"
    }
   ],
   "source": [
    "str(b)"
   ]
  },
  {
   "cell_type": "code",
   "execution_count": 18,
   "metadata": {},
   "outputs": [
    {
     "data": {
      "text/plain": [
       "1000"
      ]
     },
     "execution_count": 18,
     "metadata": {},
     "output_type": "execute_result"
    }
   ],
   "source": [
    "len(b)"
   ]
  },
  {
   "cell_type": "code",
   "execution_count": 19,
   "metadata": {},
   "outputs": [],
   "source": [
    "# to delete the book del key word is used.\n",
    "   #del b\n",
    "   #b\n",
    "             #'b' is not defined"
   ]
  },
  {
   "cell_type": "code",
   "execution_count": 20,
   "metadata": {},
   "outputs": [
    {
     "name": "stdout",
     "output_type": "stream",
     "text": [
      "Python by Jose,1000 pages\n"
     ]
    }
   ],
   "source": [
    "class Book():\n",
    "    def __init__(self,title,author,pages):\n",
    "        self.title=title\n",
    "        self.author=author\n",
    "        self.pages=pages\n",
    "    def __str__(self):\n",
    "        return '{} by {},{} pages'.format(self.title,self.author,self.pages)\n",
    "    def __len__(self):\n",
    "        return self.pages\n",
    "    def __del__(self):\n",
    "        print(\"Book deleted\")\n",
    "b=Book('Python','Jose',1000)\n",
    "print(b)"
   ]
  },
  {
   "cell_type": "code",
   "execution_count": 21,
   "metadata": {},
   "outputs": [
    {
     "data": {
      "text/plain": [
       "'Python by Jose,1000 pages'"
      ]
     },
     "execution_count": 21,
     "metadata": {},
     "output_type": "execute_result"
    }
   ],
   "source": [
    "str(b)"
   ]
  },
  {
   "cell_type": "code",
   "execution_count": 22,
   "metadata": {},
   "outputs": [
    {
     "data": {
      "text/plain": [
       "1000"
      ]
     },
     "execution_count": 22,
     "metadata": {},
     "output_type": "execute_result"
    }
   ],
   "source": [
    "len(b)"
   ]
  },
  {
   "cell_type": "code",
   "execution_count": 23,
   "metadata": {},
   "outputs": [
    {
     "name": "stdout",
     "output_type": "stream",
     "text": [
      "Book deleted\n"
     ]
    }
   ],
   "source": [
    "del(b)"
   ]
  },
  {
   "cell_type": "code",
   "execution_count": 24,
   "metadata": {},
   "outputs": [],
   "source": [
    "# print(b)     \n",
    "                 #'b' is not defined"
   ]
  },
  {
   "cell_type": "code",
   "execution_count": 92,
   "metadata": {},
   "outputs": [],
   "source": [
    "# __str__(self) is a special method used to get called by builtin str() method to return a string representation of a type. \n",
    "# __len__(self) is a special method used to return the length of the object.len() used to \n",
    "#                                           sequences(string,tuple), and   collections(dict,set)\n",
    "# __del__(self) is a special method used to destruct the method and delete the method\n",
    "# __init__(self) is a special method used to get called by builtin int() method to convert atype to an int."
   ]
  },
  {
   "cell_type": "code",
   "execution_count": null,
   "metadata": {},
   "outputs": [],
   "source": []
  },
  {
   "cell_type": "code",
   "execution_count": null,
   "metadata": {},
   "outputs": [],
   "source": []
  },
  {
   "cell_type": "code",
   "execution_count": null,
   "metadata": {},
   "outputs": [],
   "source": []
  },
  {
   "cell_type": "code",
   "execution_count": null,
   "metadata": {},
   "outputs": [],
   "source": []
  },
  {
   "cell_type": "code",
   "execution_count": null,
   "metadata": {},
   "outputs": [],
   "source": []
  },
  {
   "cell_type": "code",
   "execution_count": null,
   "metadata": {},
   "outputs": [],
   "source": []
  },
  {
   "cell_type": "code",
   "execution_count": null,
   "metadata": {},
   "outputs": [],
   "source": []
  }
 ],
 "metadata": {
  "kernelspec": {
   "display_name": "Python 3",
   "language": "python",
   "name": "python3"
  },
  "language_info": {
   "codemirror_mode": {
    "name": "ipython",
    "version": 3
   },
   "file_extension": ".py",
   "mimetype": "text/x-python",
   "name": "python",
   "nbconvert_exporter": "python",
   "pygments_lexer": "ipython3",
   "version": "3.7.6"
  }
 },
 "nbformat": 4,
 "nbformat_minor": 4
}
