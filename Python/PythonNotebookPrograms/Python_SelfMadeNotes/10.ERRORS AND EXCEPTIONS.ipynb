{
 "cells": [
  {
   "cell_type": "code",
   "execution_count": 6,
   "metadata": {},
   "outputs": [],
   "source": [
    "# 1. ERRORS AND EXCEPTION HANDLING\n",
    "a=10\n",
    "b=20\n",
    "def add(c,d):\n",
    "    print(a+b)"
   ]
  },
  {
   "cell_type": "code",
   "execution_count": 7,
   "metadata": {},
   "outputs": [
    {
     "name": "stdout",
     "output_type": "stream",
     "text": [
      "30\n"
     ]
    }
   ],
   "source": [
    "add(a,b)"
   ]
  },
  {
   "cell_type": "code",
   "execution_count": 11,
   "metadata": {},
   "outputs": [
    {
     "name": "stdout",
     "output_type": "stream",
     "text": [
      "enter number10\n"
     ]
    }
   ],
   "source": [
    "a=10\n",
    "b=input(\"enter number\") \n",
    "def add(c,d):\n",
    "    print(c+d)\n",
    "#add(a,b)              # b is str format , output is error"
   ]
  },
  {
   "cell_type": "code",
   "execution_count": 1,
   "metadata": {},
   "outputs": [
    {
     "name": "stdout",
     "output_type": "stream",
     "text": [
      "30\n",
      "No error ina code\n"
     ]
    }
   ],
   "source": [
    "try:\n",
    "    a=10\n",
    "    b=20\n",
    "    c=a+b\n",
    "    print(c)\n",
    "except:\n",
    "    print(\"error in a code\")\n",
    "else:\n",
    "    print(\"No error ina code\")\n"
   ]
  },
  {
   "cell_type": "code",
   "execution_count": 2,
   "metadata": {},
   "outputs": [
    {
     "name": "stdout",
     "output_type": "stream",
     "text": [
      "error in a code\n"
     ]
    }
   ],
   "source": [
    "try:\n",
    "    a=10\n",
    "    b='20'\n",
    "    c=a+b\n",
    "    print(c)\n",
    "except:\n",
    "    print(\"error in a code\")\n",
    "else:\n",
    "    print(\"No error ina code\")\n"
   ]
  },
  {
   "cell_type": "code",
   "execution_count": 3,
   "metadata": {},
   "outputs": [
    {
     "data": {
      "text/plain": [
       "20"
      ]
     },
     "execution_count": 3,
     "metadata": {},
     "output_type": "execute_result"
    }
   ],
   "source": [
    "try:\n",
    "    a=10+10\n",
    "except:\n",
    "    print(\"Error in a code\")\n",
    "a"
   ]
  },
  {
   "cell_type": "code",
   "execution_count": 4,
   "metadata": {},
   "outputs": [
    {
     "name": "stdout",
     "output_type": "stream",
     "text": [
      "Error in a code\n"
     ]
    }
   ],
   "source": [
    "try:\n",
    "    a=10+'10'\n",
    "except:\n",
    "    print(\"Error in a code\")"
   ]
  },
  {
   "cell_type": "code",
   "execution_count": 5,
   "metadata": {},
   "outputs": [
    {
     "name": "stdout",
     "output_type": "stream",
     "text": [
      "Error in a code\n"
     ]
    }
   ],
   "source": [
    "try:\n",
    "    a=10+'10'\n",
    "except:\n",
    "    print(\"Error in a code\")\n",
    "else:\n",
    "    print(a)"
   ]
  },
  {
   "cell_type": "code",
   "execution_count": 6,
   "metadata": {},
   "outputs": [
    {
     "name": "stdout",
     "output_type": "stream",
     "text": [
      "20\n"
     ]
    }
   ],
   "source": [
    "try:\n",
    "    a=10+10\n",
    "except:\n",
    "    print(\"Error in a code\")\n",
    "else:\n",
    "    print(a)"
   ]
  },
  {
   "cell_type": "code",
   "execution_count": 7,
   "metadata": {},
   "outputs": [
    {
     "name": "stdout",
     "output_type": "stream",
     "text": [
      "Code running\n"
     ]
    }
   ],
   "source": [
    "try:\n",
    "    f=open('Writefile','w')\n",
    "    f.write(\"HI \")\n",
    "except Writefile:\n",
    "    print(\"Type error\")\n",
    "except:\n",
    "    print(\"Other exceptions\")\n",
    "finally:\n",
    "    print(\"Code running\")"
   ]
  },
  {
   "cell_type": "code",
   "execution_count": 12,
   "metadata": {},
   "outputs": [
    {
     "name": "stdout",
     "output_type": "stream",
     "text": [
      "Other exceptions\n",
      "Code running\n"
     ]
    }
   ],
   "source": [
    "try:\n",
    "    f=open('Writefile','e')\n",
    "    f.write(\"HI \")\n",
    "except TypeError:\n",
    "    print(\"Type error\")\n",
    "except:\n",
    "    print(\"Other exceptions\")\n",
    "finally:\n",
    "    print(\"Code running\")"
   ]
  },
  {
   "cell_type": "code",
   "execution_count": 13,
   "metadata": {},
   "outputs": [
    {
     "name": "stdout",
     "output_type": "stream",
     "text": [
      "Other exceptions\n",
      "Code running\n"
     ]
    }
   ],
   "source": [
    "try:\n",
    "    f=open('Writefile','e')\n",
    "    f.write(\"HI \")\n",
    "except:\n",
    "    print(\"Other exceptions\")\n",
    "finally:\n",
    "    print(\"Code running\")"
   ]
  },
  {
   "cell_type": "code",
   "execution_count": 14,
   "metadata": {},
   "outputs": [],
   "source": [
    "def ask_for_int():\n",
    "    try:\n",
    "        result=int(input(\"Ënter a number: \"))\n",
    "    except:\n",
    "        print(\"error occured\")\n",
    "    finally:\n",
    "        print(\"End of try/except/finally\")\n"
   ]
  },
  {
   "cell_type": "code",
   "execution_count": 15,
   "metadata": {},
   "outputs": [
    {
     "name": "stdout",
     "output_type": "stream",
     "text": [
      "Ënter a number: 10\n",
      "End of try/except/finally\n"
     ]
    }
   ],
   "source": [
    "ask_for_int()"
   ]
  },
  {
   "cell_type": "code",
   "execution_count": 16,
   "metadata": {},
   "outputs": [
    {
     "name": "stdout",
     "output_type": "stream",
     "text": [
      "Ënter a number: a\n",
      "error occured\n",
      "End of try/except/finally\n"
     ]
    }
   ],
   "source": [
    "ask_for_int()"
   ]
  },
  {
   "cell_type": "code",
   "execution_count": 17,
   "metadata": {},
   "outputs": [],
   "source": [
    "def ask_for_int():\n",
    "    while True:\n",
    "        try:\n",
    "            result=int(input(\"Ënter a number: \"))\n",
    "        except:\n",
    "            print(\"error occured\")\n",
    "            continue\n",
    "        else:\n",
    "            print(\"Thank you\")\n",
    "            break\n",
    "        finally:\n",
    "            print(\"End of try/except/finally\")\n"
   ]
  },
  {
   "cell_type": "code",
   "execution_count": 18,
   "metadata": {},
   "outputs": [
    {
     "name": "stdout",
     "output_type": "stream",
     "text": [
      "Ënter a number: 10\n",
      "Thank you\n",
      "End of try/except/finally\n"
     ]
    }
   ],
   "source": [
    "ask_for_int()   "
   ]
  },
  {
   "cell_type": "code",
   "execution_count": 7,
   "metadata": {},
   "outputs": [
    {
     "name": "stdout",
     "output_type": "stream",
     "text": [
      "Ënter a number: a\n",
      "error occured\n",
      "End of try/except/finally\n",
      "Ënter a number: b\n",
      "error occured\n",
      "End of try/except/finally\n",
      "Ënter a number: c\n",
      "error occured\n",
      "End of try/except/finally\n",
      "Ënter a number: z\n",
      "error occured\n",
      "End of try/except/finally\n",
      "Ënter a number: 10\n",
      "Thank you\n",
      "End of try/except/finally\n"
     ]
    }
   ],
   "source": [
    "ask_for_int()   "
   ]
  },
  {
   "cell_type": "code",
   "execution_count": 20,
   "metadata": {},
   "outputs": [
    {
     "name": "stdout",
     "output_type": "stream",
     "text": [
      "Code running\n"
     ]
    }
   ],
   "source": [
    "try:\n",
    "    f=open('Writefile','w')\n",
    "    f.write(\"HI \")\n",
    "except TypeError:\n",
    "    print(\"Type error\")\n",
    "except OSError:\n",
    "    print(\"Other exceptions\")\n",
    "finally:\n",
    "    print(\"Code running\")"
   ]
  },
  {
   "cell_type": "code",
   "execution_count": 1,
   "metadata": {},
   "outputs": [],
   "source": [
    "#' 2. PYLINT OVERVIEW '  UNIT TESTING PART-1\n",
    "\n",
    "# PYLINT (UNIT TESTING)\n",
    "# There are several testing tools:\n",
    "#            i.   pylint: A library that looks at your code \n",
    "#                 and reports back possible issues\n",
    "#           ii.   unittest: This is a buitin library which will\n",
    "#                 allow to test your own program and check you are \n",
    "#                 getting desired output\n",
    "# Python as a set of style convention rules known as \"PEP 8\".\n",
    "# For this we will be creating .py scripts in sublime text editor.\n",
    "# we can still use jupyter notebook for code using the %%writefile magic command.\n",
    "\n",
    "#STEPS AND EXECUTION :'\n",
    "# Open sublime text editor and save file with .py extension on desktop   (say : simple.py)\n",
    "# Write simple code :\n",
    "#        a=10\n",
    "#        b=20\n",
    "#        print(a)\n",
    "#        print(b)\n",
    "\n",
    "# or\n",
    "\n",
    "#        def myfunc():\n",
    "#           first=1\n",
    "#           second=2\n",
    "#           print(first)\n",
    "#           print(second)\n",
    "#        myfunc()\n",
    "\n",
    "\n",
    "# open terminal from jupyter notebook \n",
    "# Command in terminal :\n",
    "#        pip install pylint\n",
    "#        pylint simple.py\n",
    "#\n",
    "#  OUTPUT WILL SHOW:\n",
    "#         number of statements analysed \n",
    "#            statistics by type\n",
    "#            raw matrics\n",
    "#            Duplications\n",
    "#            messages by category\n",
    "#            messages\n",
    "#            Global evaluation : Your code has been rated at  ../10 ."
   ]
  },
  {
   "cell_type": "code",
   "execution_count": null,
   "metadata": {},
   "outputs": [],
   "source": [
    "#' 3. 5. RUNNING TESTS WITH THE UNITTEST LIBRARY '       UNIT TESTING PART-2\n",
    "\n",
    "# STEPS AND EXECUTION : '\n",
    "# STEP 1 :Open Sublime Text Editor and create two newe files and save it as u1.py and u2.py on Desktop.\n",
    "# STEP 2 : Write the code in u1.py \n",
    "'''\n",
    "def a(text):\n",
    "        return text.capitalize()\n",
    "'''    \n",
    "\n",
    "# STEP 3 : Write the code in u2.py \n",
    "'''\n",
    "    import unittest\n",
    "    import u1\n",
    "    class TestCap(unittest.TestCase):\n",
    "        def uscript1(self):\n",
    "            text='dheeraj'\n",
    "            res=u1.a(text)\n",
    "            self.assertEquals(res,'Dheeraj')\n",
    "        def uscript2(self):\n",
    "            text='chandan'\n",
    "            res=u1.a(text)\n",
    "            self.assertEquals(res,'Chandan')\n",
    "    if __name__=='__main__':\n",
    "        unittest.main()\n",
    "'''    \n",
    "\n",
    "# STEP 4 : Open the terminal from jupyter notebook \n",
    "# STEP 5 : Run command : u1.py\n",
    "# STEP 6 : Run command : u2.py\n",
    "\n"
   ]
  }
 ],
 "metadata": {
  "kernelspec": {
   "display_name": "Python 3",
   "language": "python",
   "name": "python3"
  },
  "language_info": {
   "codemirror_mode": {
    "name": "ipython",
    "version": 3
   },
   "file_extension": ".py",
   "mimetype": "text/x-python",
   "name": "python",
   "nbconvert_exporter": "python",
   "pygments_lexer": "ipython3",
   "version": "3.7.6"
  }
 },
 "nbformat": 4,
 "nbformat_minor": 4
}
