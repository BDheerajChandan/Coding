{
 "cells": [
  {
   "cell_type": "code",
   "execution_count": null,
   "metadata": {},
   "outputs": [],
   "source": [
    "if True:\n",
    "    print(\"B.DHEERAJ CHANDAN\")"
   ]
  },
  {
   "cell_type": "code",
   "execution_count": null,
   "metadata": {},
   "outputs": [],
   "source": [
    "if 1:\n",
    "    print(\"B.DHEERAJ CHANDAN\")"
   ]
  },
  {
   "cell_type": "code",
   "execution_count": null,
   "metadata": {},
   "outputs": [],
   "source": [
    "if 2==3:\n",
    "    print(\"TRUE\")\n",
    "else:\n",
    "    print(\"FALSE\")"
   ]
  },
  {
   "cell_type": "code",
   "execution_count": null,
   "metadata": {},
   "outputs": [],
   "source": [
    "str=\"dheeraj\"\n",
    "if str==\"dheeraj\":\n",
    "    print(\"TRUE\")\n",
    "else:\n",
    "    print(\"FALSE\")"
   ]
  },
  {
   "cell_type": "code",
   "execution_count": null,
   "metadata": {},
   "outputs": [],
   "source": [
    "str=\"dheeraj\"\n",
    "if str.upper()==\"DHEERAJ\":\n",
    "    print(\"TRUE\")\n",
    "else:\n",
    "    print(\"FALSE\")"
   ]
  },
  {
   "cell_type": "code",
   "execution_count": null,
   "metadata": {},
   "outputs": [],
   "source": [
    "N=123\n",
    "if N==\"123\":\n",
    "    "
   ]
  },
  {
   "cell_type": "code",
   "execution_count": null,
   "metadata": {},
   "outputs": [],
   "source": [
    "for n in range(11):\n",
    "    print(n)"
   ]
  },
  {
   "cell_type": "code",
   "execution_count": null,
   "metadata": {},
   "outputs": [],
   "source": [
    "str=\"DHEERAJ\"\n",
    "for CHR in str:\n",
    "    print(CHR)"
   ]
  },
  {
   "cell_type": "code",
   "execution_count": null,
   "metadata": {},
   "outputs": [],
   "source": [
    "str=\"DHEERAJ\"\n",
    "for CHR in str:\n",
    "    print(str)"
   ]
  },
  {
   "cell_type": "code",
   "execution_count": null,
   "metadata": {},
   "outputs": [],
   "source": [
    "for n in range(11):\n",
    "    if((n%2)==0):\n",
    "        print(n)"
   ]
  },
  {
   "cell_type": "code",
   "execution_count": null,
   "metadata": {},
   "outputs": [],
   "source": [
    "for n in range(11):\n",
    "    if((n%2)==1):\n",
    "        print(n)"
   ]
  },
  {
   "cell_type": "code",
   "execution_count": null,
   "metadata": {},
   "outputs": [],
   "source": [
    "for n in range(11):\n",
    "    if((n%2)==0):\n",
    "        print(\"EVEN NUMBER IS:\",n)\n",
    "    else:\n",
    "        print(\"ODD NUMBER IS:\",n)"
   ]
  },
  {
   "cell_type": "code",
   "execution_count": null,
   "metadata": {},
   "outputs": [],
   "source": [
    "for n in range(11):\n",
    "    if((n%2)==0):\n",
    "        print(f'EVEN NUMBER IS:{n}')\n",
    "    else:\n",
    "        print(f'ODD NUMBER IS:{n}')"
   ]
  },
  {
   "cell_type": "code",
   "execution_count": null,
   "metadata": {},
   "outputs": [],
   "source": [
    "for n in range(11):\n",
    "    if((n%2)==0):\n",
    "        print('EVEN NUMBER IS:{}'.format(n))\n",
    "    else:\n",
    "        print('ODD NUMBER IS:{}'.format(n))"
   ]
  },
  {
   "cell_type": "code",
   "execution_count": null,
   "metadata": {},
   "outputs": [],
   "source": [
    "#PRIME NUMBER\n",
    "c=0\n",
    "for n1 in range(100):\n",
    "    for n2 in range(n1):\n",
    "        n3=n1\n",
    "        n4=n2\n",
    "        n=n3%n4\n",
    "        if (n==0):\n",
    "            c=c+1\n",
    "        if(c==2):\n",
    "            print(\"PRIME NUMBERS\")\n",
    "        else:\n",
    "            print(\"NOT A PRIME NUMBERS\")"
   ]
  },
  {
   "cell_type": "code",
   "execution_count": null,
   "metadata": {},
   "outputs": [],
   "source": [
    "for n1 in range(100):\n",
    "    c=0\n",
    "    for n2 in range(100):\n",
    "        if(((n1+1)%(n2+1))==0):\n",
    "            c=c+1\n",
    "    if(c==2):\n",
    "        print(f'{n1+1} PRIME NUMBER')\n",
    "    else:\n",
    "        print(f'{n1+1} NOT A PRIME NUMBER')"
   ]
  },
  {
   "cell_type": "code",
   "execution_count": null,
   "metadata": {},
   "outputs": [],
   "source": [
    "num=int(input())\n",
    "c=0\n",
    "for n1 in range(num):\n",
    "    if((num%(n1+1))==0):\n",
    "        c=c+1\n",
    "if(c==2):\n",
    "    print(f'{n1+1} PRIME NUMBER')\n",
    "else:\n",
    "    print(f'{n1+1} NOT A PRIME NUMBER')"
   ]
  },
  {
   "cell_type": "code",
   "execution_count": null,
   "metadata": {},
   "outputs": [],
   "source": [
    "NUM=int(input())\n",
    "if(NUM==1):\n",
    "    print(\"ONE\")\n",
    "elif(NUM==2):\n",
    "    print(\"TWO\")\n",
    "elif(NUM==3):\n",
    "    print(\"THREE\")\n",
    "else:\n",
    "    print(\"ERRORS\")"
   ]
  },
  {
   "cell_type": "code",
   "execution_count": null,
   "metadata": {},
   "outputs": [],
   "source": [
    "c=[(1,2),(3,4),(5,6)]\n",
    "for (n,m) in c:\n",
    "    print(c)"
   ]
  },
  {
   "cell_type": "code",
   "execution_count": null,
   "metadata": {},
   "outputs": [],
   "source": [
    "c=[(1,2),(3,4),(5,6)]\n",
    "for (n,m) in c:\n",
    "    print(n)\n",
    "    print(m)"
   ]
  },
  {
   "cell_type": "code",
   "execution_count": null,
   "metadata": {},
   "outputs": [],
   "source": [
    "for n in range(10):\n",
    "    n=n*n\n",
    "    print(n)"
   ]
  },
  {
   "cell_type": "code",
   "execution_count": null,
   "metadata": {},
   "outputs": [],
   "source": [
    "print(\"0\"+\"\\n1\")\n",
    "a=0\n",
    "b=1\n",
    "sum=0\n",
    "for n in range(7):\n",
    "    sum=a+b\n",
    "    print(sum)\n",
    "    a=b\n",
    "    b=sum\n",
    "    "
   ]
  },
  {
   "cell_type": "code",
   "execution_count": null,
   "metadata": {},
   "outputs": [],
   "source": [
    "#PERFECT NUMBER\n",
    "sum=0\n",
    "n=int(input())\n",
    "for n1 in range(n):\n",
    "    if((n%(n1+1))==0):\n",
    "        sum=sum+(n1+1)\n",
    "if(sum==(2*n)):\n",
    "    print(\"PERFECT NUMBER\")\n",
    "else:\n",
    "    print(\"NOT A PERFECT NUMBER\")"
   ]
  },
  {
   "cell_type": "code",
   "execution_count": null,
   "metadata": {},
   "outputs": [],
   "source": [
    "#ARMSTRONG NUMBER\n",
    "n=int(input())\n",
    "c=0\n",
    "sum=0\n",
    "t=n\n",
    "while(n!=0):\n",
    "    c=n%10\n",
    "    sum=sum+(c*c*c)\n",
    "    print(sum)\n",
    "    n=n//10 # '/'is floating ; '//' is absolute number\n",
    "if(sum==t):\n",
    "    print(t,\" IS AN ARMSTRONG NUMBER\")\n",
    "else:\n",
    "    print(t,\" IS NOT AN ARMSTRONG NUMBER\")"
   ]
  },
  {
   "cell_type": "code",
   "execution_count": null,
   "metadata": {},
   "outputs": [],
   "source": [
    "#PALINDROME NUMBER\n",
    "n=int(input())\n",
    "c=0\n",
    "sum=0\n",
    "t=n\n",
    "while(n!=0):\n",
    "    c=n%10\n",
    "    sum=(sum*10)+c\n",
    "    print(sum)\n",
    "    n=n//10\n",
    "if(sum==t):\n",
    "    print(\"PALINDROME NUMBER \",t)\n",
    "else:\n",
    "    print(\"NOT A PALINDROME NUMBER \",t)"
   ]
  },
  {
   "cell_type": "code",
   "execution_count": null,
   "metadata": {},
   "outputs": [],
   "source": [
    "s='MANAM'\n",
    "c=0\n",
    "n=0\n",
    "S1=''\n",
    "S2=''\n",
    "for ch in s:\n",
    "    c=c+1\n",
    "for ch in s:\n",
    "    n=n+1\n",
    "    if(n<=(c/2)):\n",
    "        S1=ch+S1\n",
    "    else:\n",
    "        S2=ch+S2\n",
    "if(S1==S2):\n",
    "    print(\"PALINDROME STRING\")\n",
    "else:\n",
    "    print(\"NOT A PALINDROME STRING\")"
   ]
  },
  {
   "cell_type": "code",
   "execution_count": null,
   "metadata": {},
   "outputs": [],
   "source": [
    "n=10\n",
    "while(n!=0):\n",
    "    print(n)\n",
    "    n=n-1\n",
    "    "
   ]
  },
  {
   "cell_type": "code",
   "execution_count": null,
   "metadata": {},
   "outputs": [],
   "source": [
    "s='DHEERAJ'\n",
    "ch in s\n",
    "while(ch!=''):\n",
    "    print(ch)"
   ]
  },
  {
   "cell_type": "code",
   "execution_count": null,
   "metadata": {},
   "outputs": [],
   "source": [
    "n=0\n",
    "while(n!=10):\n",
    "    print(n)\n",
    "    n=n+1"
   ]
  },
  {
   "cell_type": "code",
   "execution_count": null,
   "metadata": {},
   "outputs": [],
   "source": [
    "a=[1,2,3,4,5,6,7,8,9,0]\n",
    "n=len(a)\n",
    "while(n>0):\n",
    "    print(a[n-1])\n",
    "    n=n-1"
   ]
  },
  {
   "cell_type": "code",
   "execution_count": null,
   "metadata": {},
   "outputs": [],
   "source": [
    "a=(1,2,3,4,5,6,7,8,9,0)\n",
    "n=len(a)\n",
    "while(n>0):\n",
    "    print(a[n-1])\n",
    "    n=n-1"
   ]
  },
  {
   "cell_type": "code",
   "execution_count": null,
   "metadata": {},
   "outputs": [],
   "source": [
    "#HCF\n",
    "a=6\n",
    "b=18\n",
    "if(a<b):\n",
    "    n=a\n",
    "else:\n",
    "    n=b\n",
    "for num in range(n):\n",
    "    if((a%(num+1))==0 and (b%(num+1))==0):\n",
    "        hcf=num+1\n",
    "        print(hcf)"
   ]
  },
  {
   "cell_type": "code",
   "execution_count": null,
   "metadata": {},
   "outputs": [],
   "source": [
    "a=(1,2,3,4,5,6,7,8,9,0)\n",
    "n=0\n",
    "while(n<len(a)):\n",
    "    print(a[n-1])\n",
    "    n=n+1"
   ]
  },
  {
   "cell_type": "code",
   "execution_count": null,
   "metadata": {},
   "outputs": [],
   "source": [
    "a=[1,2,3,4,5,6,7,8,9,0]\n",
    "n=0\n",
    "while(n<len(a)):\n",
    "    print(a[n-1])\n",
    "    n=n+1"
   ]
  },
  {
   "cell_type": "code",
   "execution_count": null,
   "metadata": {},
   "outputs": [],
   "source": [
    "num=1\n",
    "while(num<=10):\n",
    "    print(num)\n",
    "    num=num+1"
   ]
  },
  {
   "cell_type": "code",
   "execution_count": null,
   "metadata": {},
   "outputs": [],
   "source": [
    "num=10\n",
    "while(num>=1):\n",
    "    print(num)\n",
    "    num=num-1"
   ]
  },
  {
   "cell_type": "code",
   "execution_count": null,
   "metadata": {},
   "outputs": [],
   "source": [
    "num=1\n",
    "while(num<=10):\n",
    "    print(num)\n",
    "    num=num+2"
   ]
  },
  {
   "cell_type": "code",
   "execution_count": null,
   "metadata": {},
   "outputs": [],
   "source": [
    "num=1\n",
    "while(num<=10):\n",
    "    if(num%2==0):\n",
    "        print(\"EVEN: \",num)\n",
    "    else:\n",
    "        print(\"ODD: \",num)\n",
    "    num=num+1"
   ]
  },
  {
   "cell_type": "code",
   "execution_count": null,
   "metadata": {},
   "outputs": [],
   "source": [
    "#PRIME NUMBER\n",
    "for i in range(10):\n",
    "    c=0\n",
    "    for j in range((i+1)): \n",
    "        if((i+1)%(j+1)==0):\n",
    "            c=c+1\n",
    "    if(c==2):\n",
    "        print(\"prime number \",(i+1))\n",
    "    else:\n",
    "        print(\"not a prime number \",(i+1))"
   ]
  },
  {
   "cell_type": "code",
   "execution_count": null,
   "metadata": {},
   "outputs": [],
   "source": [
    "#PRIME NUMBER\n",
    "n=int(input())\n",
    "c=0\n",
    "for i in range(n):\n",
    "    if(n%(i+1)==0):\n",
    "        c=c+1\n",
    "if(c==2):\n",
    "    print(\"prime number \",(i+1))\n",
    "else:\n",
    "    print(\"not a prime number \",(i+1))"
   ]
  },
  {
   "cell_type": "code",
   "execution_count": null,
   "metadata": {},
   "outputs": [],
   "source": [
    "for i in range(1,7,2):\n",
    "    print(i)"
   ]
  },
  {
   "cell_type": "code",
   "execution_count": null,
   "metadata": {},
   "outputs": [],
   "source": [
    "count=0\n",
    "str=\"ABCDEFGHIJKLMNOPQRSTUVWXYZ\"\n",
    "for letter in str:\n",
    "    print(letter,\" : \",count)\n",
    "    count=count+1"
   ]
  },
  {
   "cell_type": "code",
   "execution_count": null,
   "metadata": {},
   "outputs": [],
   "source": [
    "str=\"ABCDEFGHIJKLMNOPQRSTUVWXYZ\"\n",
    "for item in enumerate(str):\n",
    "    print(item)"
   ]
  },
  {
   "cell_type": "code",
   "execution_count": null,
   "metadata": {},
   "outputs": [],
   "source": [
    "str=\"ABCDEFGHIJKLMNOPQRSTUVWXYZ\"\n",
    "for n,item in enumerate(str):\n",
    "    print(n,\":\",item)"
   ]
  },
  {
   "cell_type": "code",
   "execution_count": null,
   "metadata": {},
   "outputs": [],
   "source": [
    "str=\"ABCDEFGHIJKLMNOPQRSTUVWXYZ\"\n",
    "for n,item in enumerate(str):\n",
    "    print(item)\n",
    "    print(n,\"\\n\")"
   ]
  },
  {
   "cell_type": "code",
   "execution_count": null,
   "metadata": {},
   "outputs": [],
   "source": [
    "n=int(input(\"ENTER THE RANGE:\"))\n",
    "print(\"EVEN NUMBERS:\")\n",
    "for i in range(1,n):\n",
    "    if(i%2==0):\n",
    "        print(i)"
   ]
  },
  {
   "cell_type": "code",
   "execution_count": null,
   "metadata": {},
   "outputs": [],
   "source": [
    "str=\"This is a cat\"\n",
    "s=\" \"+str\n",
    "a=\"\"\n",
    "c=0\n",
    "for letter in s:\n",
    "    if(letter==' '):\n",
    "        ch=\"\"\n",
    "        ch=ch+s[c+1].upper()\n",
    "        a=a+ch+\".\"\n",
    "    c=c+1 \n",
    "print(\"INPUT: \",s)\n",
    "print(\"OUTPUT: \",a)"
   ]
  },
  {
   "cell_type": "code",
   "execution_count": null,
   "metadata": {},
   "outputs": [],
   "source": [
    "str=\"This is a cat\"\n",
    "s=\" \"+str\n",
    "c=0\n",
    "ch=\" \"\n",
    "for letter in s:\n",
    "    if(letter==' '):\n",
    "        ch=ch+s[c+1].upper()+\".\"\n",
    "    c=c+1 \n",
    "print(\"INPUT: \",s)\n",
    "print(\"OUTPUT: \",ch)"
   ]
  },
  {
   "cell_type": "code",
   "execution_count": null,
   "metadata": {},
   "outputs": [],
   "source": [
    "file1=[1,2,3,4,5]\n",
    "file2=['a','b','c','d','e']\n",
    "allfile=zip(file1,file2)\n",
    "print(allfile)"
   ]
  },
  {
   "cell_type": "code",
   "execution_count": null,
   "metadata": {},
   "outputs": [],
   "source": [
    "for item in zip(file1,file2):\n",
    "    print(item)"
   ]
  },
  {
   "cell_type": "code",
   "execution_count": null,
   "metadata": {},
   "outputs": [],
   "source": [
    "str=\"A,B,C,D,E,F,G,H,I,J,K,L,M,N,O,P,Q,R,S,T,U,V,W,X,Y,Z\"\n",
    "num=\"1,2,3,4,5,6,7,8,9,10,11,12,13,14,15,16,1,18,19,20,21,22,23,24,25,26\"\n",
    "c=0\n",
    "for i in str:\n",
    "    for item in zip(i,num[c]):\n",
    "        print(item)\n",
    "        c=c+1"
   ]
  },
  {
   "cell_type": "code",
   "execution_count": null,
   "metadata": {},
   "outputs": [],
   "source": [
    "list(range(1,10,3))"
   ]
  },
  {
   "cell_type": "code",
   "execution_count": null,
   "metadata": {},
   "outputs": [],
   "source": [
    "a1=[1,2,3,4,5]\n",
    "a2=[6,7,8,9,0]\n",
    "str=zip(a1,a2)\n",
    "print(str)"
   ]
  },
  {
   "cell_type": "code",
   "execution_count": null,
   "metadata": {},
   "outputs": [],
   "source": [
    "a1=[1,2,3,4,5]\n",
    "a2=[6,7,8,9,0]\n",
    "for item in zip(a1,a2):\n",
    "    print(item)"
   ]
  },
  {
   "cell_type": "code",
   "execution_count": null,
   "metadata": {},
   "outputs": [],
   "source": [
    "a1=[1,2,3,4,5]\n",
    "a2=[6,7,8,9,0]\n",
    "for item,a in zip(a1,a2):\n",
    "    print(item)"
   ]
  },
  {
   "cell_type": "code",
   "execution_count": null,
   "metadata": {},
   "outputs": [],
   "source": [
    "a1=[1,2,3,4,5]\n",
    "a2=[6,7,8,9,0]\n",
    "for item,a in zip(a1,a2):\n",
    "    print(a)"
   ]
  },
  {
   "cell_type": "code",
   "execution_count": null,
   "metadata": {},
   "outputs": [],
   "source": [
    "a1=[1,2,3,4,5]\n",
    "a2=[6,7,8,9,0]\n",
    "for a,b in enumerate(a2):\n",
    "    print(a,\":\",b)"
   ]
  },
  {
   "cell_type": "code",
   "execution_count": null,
   "metadata": {},
   "outputs": [],
   "source": [
    "a1=[1,2,3,4,5]\n",
    "a2=[6,7,8,9,0]\n",
    "for a,b in enumerate(a1):\n",
    "    print(a,\":\",b)"
   ]
  },
  {
   "cell_type": "code",
   "execution_count": null,
   "metadata": {},
   "outputs": [],
   "source": [
    "list(zip(a1,a2))"
   ]
  },
  {
   "cell_type": "code",
   "execution_count": null,
   "metadata": {},
   "outputs": [],
   "source": [
    "a1=[1,2,3,4,5]\n",
    "a2=[1,2,3,4,5,6,7,8,9,0]\n",
    "list(zip(a1,a2))"
   ]
  },
  {
   "cell_type": "code",
   "execution_count": null,
   "metadata": {},
   "outputs": [],
   "source": [
    "1 in [1,2,3,4,5]"
   ]
  },
  {
   "cell_type": "code",
   "execution_count": null,
   "metadata": {},
   "outputs": [],
   "source": [
    "1 in (1,2,3,4,5)"
   ]
  },
  {
   "cell_type": "code",
   "execution_count": null,
   "metadata": {},
   "outputs": [],
   "source": [
    "1 in {1,2,3,4,5}"
   ]
  },
  {
   "cell_type": "code",
   "execution_count": null,
   "metadata": {},
   "outputs": [],
   "source": [
    "1 in ['1','2','3']"
   ]
  },
  {
   "cell_type": "code",
   "execution_count": null,
   "metadata": {},
   "outputs": [],
   "source": [
    "'1' in ['1','2','3']"
   ]
  },
  {
   "cell_type": "code",
   "execution_count": null,
   "metadata": {},
   "outputs": [],
   "source": [
    "from random import shuffle\n",
    "a=[1,2,3,4,5,6,7,8,9,0]\n",
    "shuffle(a)\n",
    "print(a)"
   ]
  },
  {
   "cell_type": "code",
   "execution_count": null,
   "metadata": {},
   "outputs": [],
   "source": [
    "max(a)"
   ]
  },
  {
   "cell_type": "code",
   "execution_count": null,
   "metadata": {},
   "outputs": [],
   "source": [
    "min(a)"
   ]
  },
  {
   "cell_type": "code",
   "execution_count": null,
   "metadata": {},
   "outputs": [],
   "source": [
    "from random import randint\n",
    "a=[1,2,3,4,5,6,7,8,9,0]\n",
    "s=randint(0,100)\n",
    "print(s)"
   ]
  },
  {
   "cell_type": "code",
   "execution_count": null,
   "metadata": {},
   "outputs": [],
   "source": [
    "a=\"DHEERAJ\"\n",
    "s=[]\n",
    "for item in a:\n",
    "    s.append(item)\n",
    "print(s)"
   ]
  },
  {
   "cell_type": "code",
   "execution_count": null,
   "metadata": {},
   "outputs": [],
   "source": [
    "a=\"DHEERAJ\"\n",
    "s=[item for item in a]\n",
    "print(s)"
   ]
  },
  {
   "cell_type": "code",
   "execution_count": null,
   "metadata": {},
   "outputs": [],
   "source": [
    "a=[1,2,3,4,5]\n",
    "b=[6,7,8,9,0]\n",
    "s=[n for n in zip(a,b)]\n",
    "print(s)"
   ]
  },
  {
   "cell_type": "code",
   "execution_count": null,
   "metadata": {},
   "outputs": [],
   "source": [
    "s=[n if(n%2==0) else \"is odd\" for n in range(10)]\n",
    "print(s)"
   ]
  },
  {
   "cell_type": "code",
   "execution_count": null,
   "metadata": {},
   "outputs": [],
   "source": [
    "mylist=[]\n",
    "for i in range(1,2):\n",
    "    for j in range(1,2):\n",
    "        mylist.append(i*j)\n",
    "print(mylist,\"\\n\")"
   ]
  },
  {
   "cell_type": "code",
   "execution_count": null,
   "metadata": {},
   "outputs": [],
   "source": [
    "a=[1,2,3,4,5]\n",
    "s=len(a)\n",
    "s"
   ]
  },
  {
   "cell_type": "code",
   "execution_count": null,
   "metadata": {},
   "outputs": [],
   "source": [
    "a=(1,2,3,4,5)\n",
    "s=len(a)\n",
    "s"
   ]
  },
  {
   "cell_type": "code",
   "execution_count": null,
   "metadata": {},
   "outputs": [],
   "source": [
    "s=\"this is a cat\"\n",
    "s1=\" \"+s\n",
    "c=0\n",
    "ch1=\"\"\n",
    "ch2=\"\"\n",
    "s2=s.split()\n",
    "size=len(s2)\n",
    "n=0\n",
    "for letter in s1:  \n",
    "    if(letter==\" \" and n!=size-1):\n",
    "        ch1=ch1+s1[c+1].upper()+\".\"\n",
    "        n=n+1\n",
    "    else:\n",
    "        ch2=s2[size-1]\n",
    "    c=c+1\n",
    "ch=ch1+ch2.upper()\n",
    "print(\"\",ch)"
   ]
  },
  {
   "cell_type": "code",
   "execution_count": null,
   "metadata": {},
   "outputs": [],
   "source": [
    "s1=\"this is a cat\"\n",
    "s2=\" \"+s1\n",
    "c=0\n",
    "d=0\n",
    "n=0\n",
    "c1=\"\"\n",
    "for ch in s2:\n",
    "    if(ch==\" \"):\n",
    "        c=c+1\n",
    "for ch in s2:\n",
    "    if(ch==\" \" and d!=c-1):\n",
    "        c1=c1+s2[n+1].upper()+\".\"\n",
    "        d=d+1\n",
    "    if(d==c-1):\n",
    "        c1=c1+s2[n+1:].upper()\n",
    "        break\n",
    "    n=n+1\n",
    "    \n",
    "c1  "
   ]
  },
  {
   "cell_type": "code",
   "execution_count": null,
   "metadata": {},
   "outputs": [],
   "source": [
    "if 4:\n",
    "    print('true')\n",
    "else:\n",
    "    print('false')"
   ]
  },
  {
   "cell_type": "code",
   "execution_count": null,
   "metadata": {},
   "outputs": [],
   "source": [
    "loc=4\n",
    "if loc==1:\n",
    "    print('one')\n",
    "elif loc==2:\n",
    "    print('two')\n",
    "elif loc==3:\n",
    "    print('three')\n",
    "else:\n",
    "    print('no number')"
   ]
  },
  {
   "cell_type": "code",
   "execution_count": null,
   "metadata": {},
   "outputs": [],
   "source": [
    "item=[1,2,3]\n",
    "for a in item:\n",
    "    print('{} is a number'.format(a))"
   ]
  },
  {
   "cell_type": "code",
   "execution_count": null,
   "metadata": {},
   "outputs": [],
   "source": [
    "len(item)"
   ]
  },
  {
   "cell_type": "code",
   "execution_count": null,
   "metadata": {},
   "outputs": [],
   "source": [
    "tup=(1,2,3)\n",
    "for a in tup:\n",
    "    print(a)"
   ]
  },
  {
   "cell_type": "code",
   "execution_count": null,
   "metadata": {},
   "outputs": [],
   "source": [
    "len(tup)"
   ]
  },
  {
   "cell_type": "code",
   "execution_count": null,
   "metadata": {},
   "outputs": [],
   "source": [
    "a=[(1,2),(3,4),(4,5),(6,7)]\n",
    "for b in a:\n",
    "    print(b)"
   ]
  },
  {
   "cell_type": "code",
   "execution_count": null,
   "metadata": {},
   "outputs": [],
   "source": [
    "len(a)"
   ]
  },
  {
   "cell_type": "code",
   "execution_count": null,
   "metadata": {},
   "outputs": [],
   "source": [
    "a=[(1,2),(3,4),(4,5),(6,7)]\n",
    "for (m,n) in a:\n",
    "    print(m)\n",
    "    print(n)"
   ]
  },
  {
   "cell_type": "code",
   "execution_count": null,
   "metadata": {},
   "outputs": [],
   "source": [
    "a={'a':1,'b':2,'c':3}\n",
    "for item,val in a.items():\n",
    "   print(val)"
   ]
  },
  {
   "cell_type": "code",
   "execution_count": null,
   "metadata": {},
   "outputs": [],
   "source": [
    "x=0\n",
    "while x<5:\n",
    "    print(x)\n",
    "    x=x+1"
   ]
  },
  {
   "cell_type": "code",
   "execution_count": 3,
   "metadata": {},
   "outputs": [
    {
     "name": "stdout",
     "output_type": "stream",
     "text": [
      "1\n",
      "2\n",
      "3\n",
      "4\n",
      "THE END\n"
     ]
    }
   ],
   "source": [
    "x=1\n",
    "while x<5:\n",
    "    pass\n",
    "    print(x)\n",
    "    x=x+1\n",
    "    \n",
    "print(\"THE END\")"
   ]
  },
  {
   "cell_type": "code",
   "execution_count": 2,
   "metadata": {},
   "outputs": [
    {
     "name": "stdout",
     "output_type": "stream",
     "text": [
      "1\n",
      "2\n",
      "3\n",
      "4\n",
      "THE END\n"
     ]
    }
   ],
   "source": [
    "x=1\n",
    "while x<5:\n",
    "    print(x)\n",
    "    pass\n",
    "    x=x+1\n",
    "print(\"THE END\")"
   ]
  },
  {
   "cell_type": "code",
   "execution_count": 1,
   "metadata": {},
   "outputs": [
    {
     "name": "stdout",
     "output_type": "stream",
     "text": [
      "At index 0 charcter is D\n",
      "At index 1 charcter is H\n",
      "At index 2 charcter is E\n",
      "At index 3 charcter is E\n",
      "At index 4 charcter is R\n",
      "At index 5 charcter is A\n",
      "At index 6 charcter is J\n"
     ]
    }
   ],
   "source": [
    "i=0\n",
    "for c in 'DHEERAJ':\n",
    "    print('At index {} charcter is {}'.format(i,c))\n",
    "    i=i+1"
   ]
  },
  {
   "cell_type": "code",
   "execution_count": 2,
   "metadata": {},
   "outputs": [
    {
     "data": {
      "text/plain": [
       "range(1, 10)"
      ]
     },
     "execution_count": 2,
     "metadata": {},
     "output_type": "execute_result"
    }
   ],
   "source": [
    "range(1,10)"
   ]
  },
  {
   "cell_type": "code",
   "execution_count": 3,
   "metadata": {},
   "outputs": [
    {
     "data": {
      "text/plain": [
       "[1, 2, 3, 4, 5, 6, 7, 8, 9]"
      ]
     },
     "execution_count": 3,
     "metadata": {},
     "output_type": "execute_result"
    }
   ],
   "source": [
    "list(range(1,10))"
   ]
  },
  {
   "cell_type": "code",
   "execution_count": 4,
   "metadata": {},
   "outputs": [
    {
     "data": {
      "text/plain": [
       "(1, 2, 3, 4, 5, 6, 7, 8, 9)"
      ]
     },
     "execution_count": 4,
     "metadata": {},
     "output_type": "execute_result"
    }
   ],
   "source": [
    "tuple(range(1,10))"
   ]
  },
  {
   "cell_type": "code",
   "execution_count": 5,
   "metadata": {},
   "outputs": [
    {
     "data": {
      "text/plain": [
       "{1, 2, 3, 4, 5, 6, 7, 8, 9}"
      ]
     },
     "execution_count": 5,
     "metadata": {},
     "output_type": "execute_result"
    }
   ],
   "source": [
    "set(range(1,10))"
   ]
  },
  {
   "cell_type": "code",
   "execution_count": 11,
   "metadata": {},
   "outputs": [
    {
     "name": "stdout",
     "output_type": "stream",
     "text": [
      "a\n",
      "b\n",
      "c\n",
      "d\n",
      "e\n"
     ]
    }
   ],
   "source": [
    "word='abcde'\n",
    "for i,c in enumerate(word):\n",
    "    print(c)\n",
    "   "
   ]
  },
  {
   "cell_type": "code",
   "execution_count": 13,
   "metadata": {},
   "outputs": [
    {
     "name": "stdout",
     "output_type": "stream",
     "text": [
      "(1, 'a', 100)\n",
      "(2, 'b', 200)\n",
      "(3, 'c', 300)\n"
     ]
    }
   ],
   "source": [
    "a1=[1,2,3,4,5,6]\n",
    "a2=['a','b','c']\n",
    "a3=[100,200,300]\n",
    "for item in zip(a1,a2,a3):\n",
    "    print(item)"
   ]
  },
  {
   "cell_type": "code",
   "execution_count": 14,
   "metadata": {},
   "outputs": [
    {
     "data": {
      "text/plain": [
       "[(1, 'a', 100), (2, 'b', 200), (3, 'c', 300)]"
      ]
     },
     "execution_count": 14,
     "metadata": {},
     "output_type": "execute_result"
    }
   ],
   "source": [
    "list(zip(a1,a2,a3))"
   ]
  },
  {
   "cell_type": "code",
   "execution_count": 15,
   "metadata": {},
   "outputs": [
    {
     "data": {
      "text/plain": [
       "[(1, 'a'), (2, 'b'), (3, 'c')]"
      ]
     },
     "execution_count": 15,
     "metadata": {},
     "output_type": "execute_result"
    }
   ],
   "source": [
    "list(zip(a1,a2))"
   ]
  },
  {
   "cell_type": "code",
   "execution_count": 20,
   "metadata": {},
   "outputs": [
    {
     "name": "stdout",
     "output_type": "stream",
     "text": [
      "1\n",
      "2\n",
      "3\n"
     ]
    }
   ],
   "source": [
    "a1=[1,2,3,4,5,6]\n",
    "a2=['a','b','c']\n",
    "a3=[100,200,300]\n",
    "for a,b,c in zip(a1,a2,a3):\n",
    "    print(a)"
   ]
  },
  {
   "cell_type": "code",
   "execution_count": 21,
   "metadata": {},
   "outputs": [
    {
     "name": "stdout",
     "output_type": "stream",
     "text": [
      "3,c,300\n"
     ]
    }
   ],
   "source": [
    "print(f'{a},{b},{c}')"
   ]
  },
  {
   "cell_type": "code",
   "execution_count": 22,
   "metadata": {},
   "outputs": [
    {
     "data": {
      "text/plain": [
       "True"
      ]
     },
     "execution_count": 22,
     "metadata": {},
     "output_type": "execute_result"
    }
   ],
   "source": [
    "d={'a':100}\n",
    "100 in d.values()"
   ]
  },
  {
   "cell_type": "code",
   "execution_count": 24,
   "metadata": {},
   "outputs": [
    {
     "data": {
      "text/plain": [
       "True"
      ]
     },
     "execution_count": 24,
     "metadata": {},
     "output_type": "execute_result"
    }
   ],
   "source": [
    "'a' in d.keys()"
   ]
  },
  {
   "cell_type": "code",
   "execution_count": 1,
   "metadata": {},
   "outputs": [
    {
     "data": {
      "text/plain": [
       "['D', 'H', 'E', 'E', 'R', 'A', 'J']"
      ]
     },
     "execution_count": 1,
     "metadata": {},
     "output_type": "execute_result"
    }
   ],
   "source": [
    "a='DHEERAJ'\n",
    "b=[]\n",
    "for c in a:\n",
    "    b.append(c)\n",
    "b"
   ]
  },
  {
   "cell_type": "code",
   "execution_count": 3,
   "metadata": {},
   "outputs": [
    {
     "data": {
      "text/plain": [
       "['1', '2', '3', '4', '5']"
      ]
     },
     "execution_count": 3,
     "metadata": {},
     "output_type": "execute_result"
    }
   ],
   "source": [
    "a='12345'\n",
    "b=[]\n",
    "for c in a:\n",
    "    b.append(c)\n",
    "b"
   ]
  },
  {
   "cell_type": "code",
   "execution_count": 4,
   "metadata": {},
   "outputs": [
    {
     "data": {
      "text/plain": [
       "['a', 'b', 'c', 'd', 'e']"
      ]
     },
     "execution_count": 4,
     "metadata": {},
     "output_type": "execute_result"
    }
   ],
   "source": [
    "a='abcde'\n",
    "b=[c for c in a]\n",
    "b"
   ]
  },
  {
   "cell_type": "code",
   "execution_count": 5,
   "metadata": {},
   "outputs": [
    {
     "data": {
      "text/plain": [
       "['C', 'H', 'A', 'N', 'D', 'A', 'N']"
      ]
     },
     "execution_count": 5,
     "metadata": {},
     "output_type": "execute_result"
    }
   ],
   "source": [
    "b=[c for c in 'CHANDAN']\n",
    "b"
   ]
  },
  {
   "cell_type": "code",
   "execution_count": 6,
   "metadata": {},
   "outputs": [],
   "source": [
    "b=[num for num in range(10)]"
   ]
  },
  {
   "cell_type": "code",
   "execution_count": 7,
   "metadata": {},
   "outputs": [
    {
     "data": {
      "text/plain": [
       "[0, 1, 2, 3, 4, 5, 6, 7, 8, 9]"
      ]
     },
     "execution_count": 7,
     "metadata": {},
     "output_type": "execute_result"
    }
   ],
   "source": [
    "b"
   ]
  },
  {
   "cell_type": "code",
   "execution_count": 8,
   "metadata": {},
   "outputs": [
    {
     "data": {
      "text/plain": [
       "[1, 2, 3, 4, 5, 6, 7, 8, 9, 10, 11, 12, 13, 14]"
      ]
     },
     "execution_count": 8,
     "metadata": {},
     "output_type": "execute_result"
    }
   ],
   "source": [
    "b=[num for num in range(1,15)]\n",
    "b"
   ]
  },
  {
   "cell_type": "code",
   "execution_count": 9,
   "metadata": {},
   "outputs": [
    {
     "data": {
      "text/plain": [
       "[2, 4, 6, 8, 10, 12, 14, 16, 18]"
      ]
     },
     "execution_count": 9,
     "metadata": {},
     "output_type": "execute_result"
    }
   ],
   "source": [
    "b=[num*2 for num in range(1,10)]\n",
    "b"
   ]
  },
  {
   "cell_type": "code",
   "execution_count": 10,
   "metadata": {},
   "outputs": [
    {
     "data": {
      "text/plain": [
       "[1, 4, 9, 16, 25, 36, 49, 64, 81]"
      ]
     },
     "execution_count": 10,
     "metadata": {},
     "output_type": "execute_result"
    }
   ],
   "source": [
    "b=[num**2 for num in range(1,10)]\n",
    "b"
   ]
  },
  {
   "cell_type": "code",
   "execution_count": 11,
   "metadata": {},
   "outputs": [
    {
     "data": {
      "text/plain": [
       "[2, 4, 6, 8]"
      ]
     },
     "execution_count": 11,
     "metadata": {},
     "output_type": "execute_result"
    }
   ],
   "source": [
    "b=[num for num in range(1,10) if num%2==0]\n",
    "b"
   ]
  },
  {
   "cell_type": "code",
   "execution_count": 12,
   "metadata": {},
   "outputs": [
    {
     "data": {
      "text/plain": [
       "[1, 3, 5, 7, 9]"
      ]
     },
     "execution_count": 12,
     "metadata": {},
     "output_type": "execute_result"
    }
   ],
   "source": [
    "b=[num for num in range(1,10) if num%2==1]\n",
    "b"
   ]
  },
  {
   "cell_type": "code",
   "execution_count": 14,
   "metadata": {},
   "outputs": [
    {
     "data": {
      "text/plain": [
       "[32.0, 50.0, 68.0, 94.1]"
      ]
     },
     "execution_count": 14,
     "metadata": {},
     "output_type": "execute_result"
    }
   ],
   "source": [
    "#TEMPERATURE TO FAHRIENHEIT AND VICE VERSA\n",
    "#    FAHRIENHEIT  =  (TEMPERATURE*(9/5))+32\n",
    "t=[0,10,20,34.5]\n",
    "f=[((9/5)*temp)+32 for temp in t]\n",
    "f"
   ]
  },
  {
   "cell_type": "code",
   "execution_count": 16,
   "metadata": {},
   "outputs": [
    {
     "data": {
      "text/plain": [
       "[32.0, 50.0, 68.0, 94.1]"
      ]
     },
     "execution_count": 16,
     "metadata": {},
     "output_type": "execute_result"
    }
   ],
   "source": [
    "f=[]\n",
    "for temp in t:\n",
    "    f.append((temp*(9/5))+32)\n",
    "f"
   ]
  },
  {
   "cell_type": "code",
   "execution_count": 17,
   "metadata": {},
   "outputs": [
    {
     "data": {
      "text/plain": [
       "['even', 'odd', 'even', 'odd', 'even', 'odd', 'even', 'odd', 'even', 'odd']"
      ]
     },
     "execution_count": 17,
     "metadata": {},
     "output_type": "execute_result"
    }
   ],
   "source": [
    "a=['even' if x%2==0 else 'odd' for x in range(0,10)]\n",
    "a"
   ]
  },
  {
   "cell_type": "code",
   "execution_count": 19,
   "metadata": {},
   "outputs": [
    {
     "data": {
      "text/plain": [
       "['0:even',\n",
       " '1:odd',\n",
       " '2:even',\n",
       " '3:odd',\n",
       " '4:even',\n",
       " '5:odd',\n",
       " '6:even',\n",
       " '7:odd',\n",
       " '8:even',\n",
       " '9:odd']"
      ]
     },
     "execution_count": 19,
     "metadata": {},
     "output_type": "execute_result"
    }
   ],
   "source": [
    "a=[f'{x}:even' if x%2==0 else f'{x}:odd' for x in range(0,10)]\n",
    "a"
   ]
  },
  {
   "cell_type": "code",
   "execution_count": 20,
   "metadata": {},
   "outputs": [
    {
     "data": {
      "text/plain": [
       "['0:even', '1:odd', '2:even', '3:odd', '4:even']"
      ]
     },
     "execution_count": 20,
     "metadata": {},
     "output_type": "execute_result"
    }
   ],
   "source": [
    "a=[f'{x}:even' if x%2==0 else f'{x}:odd' for x in range(0,5)]\n",
    "a"
   ]
  },
  {
   "cell_type": "code",
   "execution_count": 21,
   "metadata": {},
   "outputs": [
    {
     "data": {
      "text/plain": [
       "[0, '1:odd', 2, '3:odd', 4, '5:odd', 6, '7:odd', 8, '9:odd']"
      ]
     },
     "execution_count": 21,
     "metadata": {},
     "output_type": "execute_result"
    }
   ],
   "source": [
    "a=[x if x%2==0 else f'{x}:odd' for x in range(0,10)]\n",
    "a"
   ]
  },
  {
   "cell_type": "code",
   "execution_count": 26,
   "metadata": {},
   "outputs": [
    {
     "data": {
      "text/plain": [
       "[1, 2, 3, 2, 4, 6, 3, 6, 9]"
      ]
     },
     "execution_count": 26,
     "metadata": {},
     "output_type": "execute_result"
    }
   ],
   "source": [
    "a=[]\n",
    "for x in range(1,4):\n",
    "    for y in range(1,4):\n",
    "        a.append(x*y)\n",
    "a"
   ]
  },
  {
   "cell_type": "code",
   "execution_count": 27,
   "metadata": {},
   "outputs": [
    {
     "data": {
      "text/plain": [
       "[1, 2, 3, 2, 4, 6, 3, 6, 9]"
      ]
     },
     "execution_count": 27,
     "metadata": {},
     "output_type": "execute_result"
    }
   ],
   "source": [
    "a=[x*y for x in [1,2,3] for y in [1,2,3]]\n",
    "a"
   ]
  },
  {
   "cell_type": "code",
   "execution_count": 28,
   "metadata": {},
   "outputs": [
    {
     "data": {
      "text/plain": [
       "[1, 2, 3, 2, 4, 6, 3, 6, 9]"
      ]
     },
     "execution_count": 28,
     "metadata": {},
     "output_type": "execute_result"
    }
   ],
   "source": [
    "a=[x*y for x in range(1,4) for y in range(1,4)]\n",
    "a"
   ]
  },
  {
   "cell_type": "code",
   "execution_count": null,
   "metadata": {},
   "outputs": [],
   "source": []
  }
 ],
 "metadata": {
  "kernelspec": {
   "display_name": "Python 3",
   "language": "python",
   "name": "python3"
  },
  "language_info": {
   "codemirror_mode": {
    "name": "ipython",
    "version": 3
   },
   "file_extension": ".py",
   "mimetype": "text/x-python",
   "name": "python",
   "nbconvert_exporter": "python",
   "pygments_lexer": "ipython3",
   "version": "3.7.6"
  }
 },
 "nbformat": 4,
 "nbformat_minor": 4
}
