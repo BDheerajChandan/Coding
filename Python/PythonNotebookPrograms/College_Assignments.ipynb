{
 "cells": [
  {
   "cell_type": "markdown",
   "metadata": {},
   "source": [
    "# Day 1"
   ]
  },
  {
   "cell_type": "code",
   "execution_count": 1,
   "metadata": {},
   "outputs": [
    {
     "name": "stdout",
     "output_type": "stream",
     "text": [
      "\n",
      "Hi Good Morning\n",
      "I am Dheeraj\n",
      "This is Python. \n",
      "\n"
     ]
    }
   ],
   "source": [
    "# 1. WAP to print 3 line message\n",
    "s=\"\"\"\n",
    "Hi Good Morning\n",
    "I am Dheeraj\n",
    "This is Python. \n",
    "\"\"\"\n",
    "print(s)"
   ]
  },
  {
   "cell_type": "code",
   "execution_count": 4,
   "metadata": {},
   "outputs": [
    {
     "name": "stdout",
     "output_type": "stream",
     "text": [
      "1 \t <class 'int'>\n",
      "2.6 \t <class 'float'>\n",
      "Dheeraj \t <class 'str'>\n",
      "{1, 2.6, 'Dheeraj'} \t <class 'set'>\n",
      "(1, 2.6, 'Dheeraj', {1, 2.6, 'Dheeraj'}) \t <class 'tuple'>\n",
      "1 \t <class 'str'>\n",
      "2.6 \t <class 'str'>\n",
      "1.0 \t <class 'float'>\n"
     ]
    }
   ],
   "source": [
    "# 2.  WAP to demonstrate datatypes and casting\n",
    "a=1\n",
    "b=2.6\n",
    "c=\"Dheeraj\"\n",
    "d=True\n",
    "e={a,b,c}\n",
    "f=(a,b,c,e)\n",
    "for i in f:\n",
    "    print(i,'\\t',type(i))\n",
    "print(f,'\\t',type(f))\n",
    "g=str(a)\n",
    "h=str(b)\n",
    "i=float(a)\n",
    "print(g,'\\t',type(g))\n",
    "print(h,'\\t',type(h))\n",
    "print(i,'\\t',type(i))"
   ]
  },
  {
   "cell_type": "code",
   "execution_count": 6,
   "metadata": {},
   "outputs": [
    {
     "name": "stdout",
     "output_type": "stream",
     "text": [
      "Name : Dheeraj\n",
      "Branch : DBDA\n",
      "Age :  24\n"
     ]
    }
   ],
   "source": [
    "# 3. WAP to take Name,Branch,Age from user input\n",
    "Name=input(\"Please enter the Name : \")\n",
    "branch=input(\"Please enter the Branch : \")\n",
    "age=int(input(\"Please enter the age : \"))\n",
    "print(\"Name : \"+Name)\n",
    "print(\"Branch : \"+branch)\n",
    "print(\"Age : \",age)"
   ]
  },
  {
   "cell_type": "code",
   "execution_count": 11,
   "metadata": {},
   "outputs": [
    {
     "name": "stdout",
     "output_type": "stream",
     "text": [
      "Finding largest of 3 number :3, 3, 3\n",
      "Using if and if-else -\t\n",
      "3  : is Greater\n",
      "\n",
      "Using elif and else -\t\n",
      "3  : is Greater\n"
     ]
    }
   ],
   "source": [
    "# 4. WAP to demonstrate conitional statements : if, if-else, elif ,else\n",
    "a=int(input(\"Please enter the 1st number : \"))\n",
    "b=int(input(\"Please enter the 1st number : \"))\n",
    "c=int(input(\"Please enter the 1st number : \"))\n",
    "print(\"Finding largest of 3 number :{0}, {1}, {2}\".format(a,b,c))\n",
    "print(\"Using if and if-else -\\t\")\n",
    "if(a>=b):\n",
    "    if(a>=c):\n",
    "        print(a,\" : is Greater\")\n",
    "    else:\n",
    "        print(c,\" : is Greater\")\n",
    "else:\n",
    "    if(b>=c):\n",
    "        print(b,\" : is Greater\")\n",
    "    else:\n",
    "        print(c,\" : is Greater\")\n",
    "print(\"\\nUsing elif and else -\\t\")\n",
    "if(a>=b and a>=c):\n",
    "    print(a,\" : is Greater\")\n",
    "elif(b>=a and b>=c):\n",
    "    print(b,\" : is Greater\")\n",
    "else:\n",
    "    print(c,\" : is Greater\")"
   ]
  },
  {
   "cell_type": "markdown",
   "metadata": {},
   "source": [
    "# Day-2"
   ]
  },
  {
   "cell_type": "code",
   "execution_count": 15,
   "metadata": {},
   "outputs": [
    {
     "name": "stdout",
     "output_type": "stream",
     "text": [
      "2\n",
      "5\n",
      "8\n",
      "11\n",
      "14\n",
      "17\n",
      "20\n",
      "23\n",
      "26\n",
      "29\n"
     ]
    }
   ],
   "source": [
    "# 1. WAP to print numbers from 2 to 30 with step size of 3\n",
    "for i in range(2,31,3):\n",
    "    print(i)"
   ]
  },
  {
   "cell_type": "code",
   "execution_count": 16,
   "metadata": {},
   "outputs": [
    {
     "name": "stdout",
     "output_type": "stream",
     "text": [
      "0  : Even\n",
      "2  : Even\n",
      "4  : Even\n",
      "6  : Even\n",
      "8  : Even\n"
     ]
    }
   ],
   "source": [
    "# 2. WAP to use pass keyword in for loop\n",
    "for i in range(0,10):\n",
    "    if i%2==0:\n",
    "        print(i,\" : Even\")\n",
    "    else:\n",
    "        pass"
   ]
  },
  {
   "cell_type": "code",
   "execution_count": 17,
   "metadata": {},
   "outputs": [
    {
     "name": "stdout",
     "output_type": "stream",
     "text": [
      "Text match found\n"
     ]
    }
   ],
   "source": [
    "# 3. WAP to use if in String\n",
    "s=\"Good Morning\"\n",
    "if \"Good\" in s:\n",
    "    print(\"Text match found\")\n",
    "else:\n",
    "    print(\"Text match not found\")"
   ]
  },
  {
   "cell_type": "code",
   "execution_count": 31,
   "metadata": {},
   "outputs": [
    {
     "name": "stdout",
     "output_type": "stream",
     "text": [
      "Before sorting :  dheeraj\n",
      "After sorting :  adeehjr\n"
     ]
    }
   ],
   "source": [
    "# 4. WAP to String in alphabatical order\n",
    "s=\"dheeraj\"\n",
    "l=[]\n",
    "for i in s.lower():\n",
    "    l.append(ord(i))\n",
    "print(\"Before sorting : \",s)\n",
    "for i in range(0,len(s)):\n",
    "    for j in range(i+1,len(s)):\n",
    "        if(l[i]>l[j]):\n",
    "            d=l[i]\n",
    "            l[i]=l[j]\n",
    "            l[j]=d\n",
    "s=\"\"\n",
    "for i in l:\n",
    "    s=s+chr(i)\n",
    "print(\"After sorting : \",s)"
   ]
  },
  {
   "cell_type": "code",
   "execution_count": null,
   "metadata": {},
   "outputs": [],
   "source": [
    "# 5. WAP to demonstrate String format\n",
    "s=\"{} is pet animal,\\n{} is reptile,\\n{} is wild animal.\"\n",
    "s=s.format(\"Cat\",\"Lizard\",\"Tiger\")\n",
    "print(s)"
   ]
  },
  {
   "cell_type": "code",
   "execution_count": 18,
   "metadata": {},
   "outputs": [
    {
     "name": "stdout",
     "output_type": "stream",
     "text": [
      "('Chair', 'Table', 'Bench')\n",
      "('Chair', 'Table', 'Bench', 'Fan')\n",
      "['Chair', 'Table', 'Bench', 'TableFan']\n",
      "('Chair', 'Table', 'Bench', 'TableFan')\n"
     ]
    }
   ],
   "source": [
    "# 6. WAP to Edit or update Tuple elements\n",
    "t1=(\"Chair\",\"Table\",\"Bench\")\n",
    "t2=(\"Fan\",)\n",
    "print(\"Tuple elements : \",t1)\n",
    "t1=t1+t2\n",
    "print(t1)\n",
    "l1=list(\"List elements : \",t1)\n",
    "l1[len(l1)-1]=\"TableFan\"\n",
    "print(\"Updated list elements : \",l1)\n",
    "t1=tuple(l1)\n",
    "print(\"Updated to list elements : \",t1)"
   ]
  }
 ],
 "metadata": {
  "kernelspec": {
   "display_name": "base",
   "language": "python",
   "name": "python3"
  },
  "language_info": {
   "codemirror_mode": {
    "name": "ipython",
    "version": 3
   },
   "file_extension": ".py",
   "mimetype": "text/x-python",
   "name": "python",
   "nbconvert_exporter": "python",
   "pygments_lexer": "ipython3",
   "version": "3.11.4"
  }
 },
 "nbformat": 4,
 "nbformat_minor": 2
}
