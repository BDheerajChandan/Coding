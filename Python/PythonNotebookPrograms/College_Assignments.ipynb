{
 "cells": [
  {
   "cell_type": "markdown",
   "metadata": {},
   "source": [
    "# Day 1"
   ]
  },
  {
   "cell_type": "code",
   "execution_count": 1,
   "metadata": {},
   "outputs": [
    {
     "name": "stdout",
     "output_type": "stream",
     "text": [
      "\n",
      "Hi Good Morning\n",
      "I am Dheeraj\n",
      "This is Python. \n",
      "\n"
     ]
    }
   ],
   "source": [
    "# 1. WAP to print 3 line message\n",
    "s=\"\"\"\n",
    "Hi Good Morning\n",
    "I am Dheeraj\n",
    "This is Python. \n",
    "\"\"\"\n",
    "print(s)"
   ]
  },
  {
   "cell_type": "code",
   "execution_count": 4,
   "metadata": {},
   "outputs": [
    {
     "name": "stdout",
     "output_type": "stream",
     "text": [
      "1 \t <class 'int'>\n",
      "2.6 \t <class 'float'>\n",
      "Dheeraj \t <class 'str'>\n",
      "{1, 2.6, 'Dheeraj'} \t <class 'set'>\n",
      "(1, 2.6, 'Dheeraj', {1, 2.6, 'Dheeraj'}) \t <class 'tuple'>\n",
      "1 \t <class 'str'>\n",
      "2.6 \t <class 'str'>\n",
      "1.0 \t <class 'float'>\n"
     ]
    }
   ],
   "source": [
    "# 2.  WAP to demonstrate datatypes and casting\n",
    "a=1\n",
    "b=2.6\n",
    "c=\"Dheeraj\"\n",
    "d=True\n",
    "e={a,b,c}\n",
    "f=(a,b,c,e)\n",
    "for i in f:\n",
    "    print(i,'\\t',type(i))\n",
    "print(f,'\\t',type(f))\n",
    "g=str(a)\n",
    "h=str(b)\n",
    "i=float(a)\n",
    "print(g,'\\t',type(g))\n",
    "print(h,'\\t',type(h))\n",
    "print(i,'\\t',type(i))"
   ]
  },
  {
   "cell_type": "code",
   "execution_count": 6,
   "metadata": {},
   "outputs": [
    {
     "name": "stdout",
     "output_type": "stream",
     "text": [
      "Name : Dheeraj\n",
      "Branch : DBDA\n",
      "Age :  24\n"
     ]
    }
   ],
   "source": [
    "# 3. WAP to take Name,Branch,Age from user input\n",
    "Name=input(\"Please enter the Name : \")\n",
    "branch=input(\"Please enter the Branch : \")\n",
    "age=int(input(\"Please enter the age : \"))\n",
    "print(\"Name : \"+Name)\n",
    "print(\"Branch : \"+branch)\n",
    "print(\"Age : \",age)"
   ]
  },
  {
   "cell_type": "code",
   "execution_count": 11,
   "metadata": {},
   "outputs": [
    {
     "name": "stdout",
     "output_type": "stream",
     "text": [
      "Finding largest of 3 number :3, 3, 3\n",
      "Using if and if-else -\t\n",
      "3  : is Greater\n",
      "\n",
      "Using elif and else -\t\n",
      "3  : is Greater\n"
     ]
    }
   ],
   "source": [
    "# 4. WAP to demonstrate conitional statements : if, if-else, elif ,else\n",
    "a=int(input(\"Please enter the 1st number : \"))\n",
    "b=int(input(\"Please enter the 1st number : \"))\n",
    "c=int(input(\"Please enter the 1st number : \"))\n",
    "print(\"Finding largest of 3 number :{0}, {1}, {2}\".format(a,b,c))\n",
    "print(\"Using if and if-else -\\t\")\n",
    "if(a>=b):\n",
    "    if(a>=c):\n",
    "        print(a,\" : is Greater\")\n",
    "    else:\n",
    "        print(c,\" : is Greater\")\n",
    "else:\n",
    "    if(b>=c):\n",
    "        print(b,\" : is Greater\")\n",
    "    else:\n",
    "        print(c,\" : is Greater\")\n",
    "print(\"\\nUsing elif and else -\\t\")\n",
    "if(a>=b and a>=c):\n",
    "    print(a,\" : is Greater\")\n",
    "elif(b>=a and b>=c):\n",
    "    print(b,\" : is Greater\")\n",
    "else:\n",
    "    print(c,\" : is Greater\")"
   ]
  },
  {
   "cell_type": "markdown",
   "metadata": {},
   "source": [
    "# Day-2"
   ]
  },
  {
   "cell_type": "code",
   "execution_count": 15,
   "metadata": {},
   "outputs": [
    {
     "name": "stdout",
     "output_type": "stream",
     "text": [
      "2\n",
      "5\n",
      "8\n",
      "11\n",
      "14\n",
      "17\n",
      "20\n",
      "23\n",
      "26\n",
      "29\n"
     ]
    }
   ],
   "source": [
    "# 1. WAP to print numbers from 2 to 30 with step size of 3\n",
    "for i in range(2,31,3):\n",
    "    print(i)"
   ]
  },
  {
   "cell_type": "code",
   "execution_count": 16,
   "metadata": {},
   "outputs": [
    {
     "name": "stdout",
     "output_type": "stream",
     "text": [
      "0  : Even\n",
      "2  : Even\n",
      "4  : Even\n",
      "6  : Even\n",
      "8  : Even\n"
     ]
    }
   ],
   "source": [
    "# 2. WAP to use pass keyword in for loop\n",
    "for i in range(0,10):\n",
    "    if i%2==0:\n",
    "        print(i,\" : Even\")\n",
    "    else:\n",
    "        pass"
   ]
  },
  {
   "cell_type": "code",
   "execution_count": 17,
   "metadata": {},
   "outputs": [
    {
     "name": "stdout",
     "output_type": "stream",
     "text": [
      "Text match found\n"
     ]
    }
   ],
   "source": [
    "# 3. WAP to use if in String\n",
    "s=\"Good Morning\"\n",
    "if \"Good\" in s:\n",
    "    print(\"Text match found\")\n",
    "else:\n",
    "    print(\"Text match not found\")"
   ]
  },
  {
   "cell_type": "code",
   "execution_count": 31,
   "metadata": {},
   "outputs": [
    {
     "name": "stdout",
     "output_type": "stream",
     "text": [
      "Before sorting :  dheeraj\n",
      "After sorting :  adeehjr\n"
     ]
    }
   ],
   "source": [
    "# 4. WAP to String in alphabatical order\n",
    "s=\"dheeraj\"\n",
    "l=[]\n",
    "for i in s.lower():\n",
    "    l.append(ord(i))\n",
    "print(\"Before sorting : \",s)\n",
    "for i in range(0,len(s)):\n",
    "    for j in range(i+1,len(s)):\n",
    "        if(l[i]>l[j]):\n",
    "            d=l[i]\n",
    "            l[i]=l[j]\n",
    "            l[j]=d\n",
    "s=\"\"\n",
    "for i in l:\n",
    "    s=s+chr(i)\n",
    "print(\"After sorting : \",s)"
   ]
  },
  {
   "cell_type": "code",
   "execution_count": null,
   "metadata": {},
   "outputs": [],
   "source": [
    "# 5. WAP to demonstrate String format\n",
    "s=\"{} is pet animal,\\n{} is reptile,\\n{} is wild animal.\"\n",
    "s=s.format(\"Cat\",\"Lizard\",\"Tiger\")\n",
    "print(s)"
   ]
  },
  {
   "cell_type": "code",
   "execution_count": 18,
   "metadata": {},
   "outputs": [
    {
     "name": "stdout",
     "output_type": "stream",
     "text": [
      "('Chair', 'Table', 'Bench')\n",
      "('Chair', 'Table', 'Bench', 'Fan')\n",
      "['Chair', 'Table', 'Bench', 'TableFan']\n",
      "('Chair', 'Table', 'Bench', 'TableFan')\n"
     ]
    }
   ],
   "source": [
    "# 6. WAP to Edit or update Tuple elements\n",
    "t1=(\"Chair\",\"Table\",\"Bench\")\n",
    "t2=(\"Fan\",)\n",
    "print(\"Tuple elements : \",t1)\n",
    "t1=t1+t2\n",
    "print(t1)\n",
    "l1=list(\"List elements : \",t1)\n",
    "l1[len(l1)-1]=\"TableFan\"\n",
    "print(\"Updated list elements : \",l1)\n",
    "t1=tuple(l1)\n",
    "print(\"Updated to list elements : \",t1)"
   ]
  },
  {
   "cell_type": "markdown",
   "metadata": {},
   "source": [
    "# Day-3"
   ]
  },
  {
   "cell_type": "code",
   "execution_count": 1,
   "metadata": {},
   "outputs": [
    {
     "name": "stdout",
     "output_type": "stream",
     "text": [
      "Factorial of 1 : 1! = 1\n",
      "Factorial of 2 : 2! = 2\n",
      "Factorial of 3 : 3! = 6\n",
      "Factorial of 4 : 4! = 24\n",
      "Factorial of 5 : 5! = 120\n",
      "Factorial of 6 : 6! = 720\n",
      "Factorial of 7 : 7! = 5040\n",
      "Factorial of 8 : 8! = 40320\n",
      "Factorial of 9 : 9! = 362880\n",
      "Factorial of 10 : 10! = 3628800\n"
     ]
    }
   ],
   "source": [
    "# 1. Using for loop, write and run a Python program for this algorithm. To print out n! (n factorial) from 0! to 10! :\n",
    "n=int(input(\"Please enter the range : \"))\n",
    "for i in range(1,n+1):\n",
    "    fact=1\n",
    "    for j in range(1,i+1):\n",
    "        fact=fact*j\n",
    "    print(\"Factorial of {} : {}! = {}\".format(j,j,fact))"
   ]
  },
  {
   "cell_type": "code",
   "execution_count": 2,
   "metadata": {},
   "outputs": [
    {
     "name": "stdout",
     "output_type": "stream",
     "text": [
      "\"\n",
      "Hi I am Dheeraj\n",
      "From Srikakulam\n",
      "Studying PG Diploma\n",
      "\n",
      "\"\n",
      "Hi I am Dheeraj\n",
      "From Srikakulam\n",
      "Studying PG Diploma\n",
      "\n"
     ]
    }
   ],
   "source": [
    "# 2. Write a program to display 3 line message\n",
    "s=\"\"\"\"\n",
    "Hi I am Dheeraj\n",
    "From Srikakulam\n",
    "Studying PG Diploma\n",
    "\"\"\"\n",
    "print(s)\n",
    "for i in s.split('\\n'):\n",
    "    print(i)"
   ]
  },
  {
   "cell_type": "code",
   "execution_count": 3,
   "metadata": {},
   "outputs": [
    {
     "name": "stdout",
     "output_type": "stream",
     "text": [
      "Entered Details :\n",
      "\n",
      "\tStudent number :  1\n",
      "\tStudent Name :  Dheeraj\n",
      "\tStudent Branch :  EEE\n",
      "\tStudent University :  KIIT\n"
     ]
    }
   ],
   "source": [
    "# 3. Write a program that take Student_Number, Name, Branch and University from user. Print the read details.\n",
    "Student_Number=int(input(\"Please enter Student number : \"))\n",
    "Name=input(\"Please enter the Name : \")\n",
    "Branch=input(\"Please enter the Branch : \")\n",
    "University=input(\"Please enter the University : \")\n",
    "print(\"Entered Details :\\n\")\n",
    "print(\"\\tStudent number : \",Student_Number)\n",
    "print(\"\\tStudent Name : \",Name)\n",
    "print(\"\\tStudent Branch : \",Branch)\n",
    "print(\"\\tStudent University : \",University)"
   ]
  },
  {
   "cell_type": "code",
   "execution_count": 4,
   "metadata": {},
   "outputs": [
    {
     "name": "stdout",
     "output_type": "stream",
     "text": [
      "Area of rectriangle :  30.0\n",
      "Area of Square :  81.0\n"
     ]
    }
   ],
   "source": [
    "\"\"\"\n",
    "### 4. Create a module consisting of 2 functions \n",
    "\"area_Rectangle\", \"area_Square\". Import the module and \n",
    "perform the following operations:\n",
    "1. Calculate the area of Square only by importing only one method.\n",
    "2. Calculate the area of Rectangle only by importing only one method.\n",
    "3. Calculate the area of Square and Rectangle by importing complete module.\n",
    "\"\"\"\n",
    "# In AreaSqRect.py\n",
    "def area_Rectangle():\n",
    "    l=float(input(\"Please enter the length : \"))\n",
    "    b=float(input(\"Please enter the bredth : \"))\n",
    "    area=l*b\n",
    "    return area\n",
    "def area_Square():\n",
    "    s=float(input(\"Please enter the length of square side : \"))\n",
    "    area=s*s\n",
    "    return area\n",
    "# In AreaSqRectMain.py\n",
    "#import AreaSqRect\n",
    "\"\"\"\n",
    "a1=AreaSqRect.area_Rectangle()\n",
    "print(\"Area of rectriangle : \",a1)\n",
    "a2=AreaSqRect.area_Square()3\n",
    "print(\"Area of Square : \",a2)\n",
    "\"\"\"\n",
    "def SqRectArea():\n",
    "    a1=area_Rectangle()\n",
    "    print(\"Area of rectriangle : \",a1)\n",
    "    a2=area_Square()\n",
    "    print(\"Area of Square : \",a2)\n",
    "SqRectArea()"
   ]
  },
  {
   "cell_type": "code",
   "execution_count": 5,
   "metadata": {},
   "outputs": [
    {
     "name": "stdout",
     "output_type": "stream",
     "text": [
      "Finding largest of 3 number :55, 33, 77\n",
      "Using if and elif -\t\n",
      "77  : is Greater\n"
     ]
    }
   ],
   "source": [
    "### 5. Python program to demonstrate if, elif and else by checking larges of three numbers\n",
    "a=int(input(\"Please enter the 1st number : \"))\n",
    "b=int(input(\"Please enter the 1st number : \"))\n",
    "c=int(input(\"Please enter the 1st number : \"))\n",
    "print(\"Finding largest of 3 number :{0}, {1}, {2}\".format(a,b,c))\n",
    "print(\"Using if and elif -\\t\")\n",
    "if(a>=b and a>=c):\n",
    "    print(a,\" : is Greater\")\n",
    "elif(b>=c and  b>=c):\n",
    "    print(b,\" : is Greater\")\n",
    "else:\n",
    "    print(c,\" : is Greater\")"
   ]
  },
  {
   "cell_type": "code",
   "execution_count": 13,
   "metadata": {},
   "outputs": [
    {
     "name": "stdout",
     "output_type": "stream",
     "text": [
      "6  : is a perfect number\n"
     ]
    }
   ],
   "source": [
    "# 6. Program to check whether a number is perfect or not\n",
    "n=int(input(\"Please enter the number : \"))\n",
    "s=0\n",
    "for i in range(1,n+1):\n",
    "    if(n%i==0):\n",
    "        s=s+i\n",
    "if(s==(n*2)):\n",
    "    print(n,\" : is a perfect number\")\n",
    "else:\n",
    "    print(n,\" : is not a perfect number\")"
   ]
  },
  {
   "cell_type": "code",
   "execution_count": 15,
   "metadata": {},
   "outputs": [
    {
     "name": "stdout",
     "output_type": "stream",
     "text": [
      "Before sorting :  dheeraj chandan\n",
      "After sorting :   aaacddeehhjnnr\n"
     ]
    }
   ],
   "source": [
    "# 7. Read a multiword string and print them in alphabetical order\n",
    "s1=\"Dheeraj Chandan\"\n",
    "print(\"Before sorting : \",s1.lower())\n",
    "s2=[i for i in s1.lower()]\n",
    "s2.sort()\n",
    "s1=[i for i in s2]\n",
    "s=\"\"\n",
    "for i in s1:\n",
    "    s=s+i\n",
    "print(\"After sorting : \",s)"
   ]
  },
  {
   "cell_type": "code",
   "execution_count": 16,
   "metadata": {},
   "outputs": [
    {
     "name": "stdout",
     "output_type": "stream",
     "text": [
      "Dictionary items :  {'i10': 'Blue', 'Kushaq': 'Red', 'i20': 'White'}\n",
      "Length of dictinary items :  3\n",
      "After removing \"i10\" car :  {'Kushaq': 'Red', 'i20': 'White'}\n",
      "After updating color of \"Kushaq\" :  {'Kushaq': 'Black', 'i20': 'White'}\n"
     ]
    }
   ],
   "source": [
    "\"\"\"\n",
    "### 8. Consider the following dictionary:\n",
    "{ \"i10\":\"Blue\", \"Kushaq\": \"Red\", \"i20\": White\"}\n",
    "1. How many cars are there in the dictionary\n",
    "2. Remove the car i10 from the dictionary\n",
    "3. Change the value of Kushaq to Black\n",
    "\"\"\"\n",
    "car={\"i10\":\"Blue\", \"Kushaq\": \"Red\", \"i20\": \"White\"}\n",
    "print(\"Dictionary items : \",car)\n",
    "print(\"Length of dictinary items : \",len(car))\n",
    "car.pop(\"i10\")\n",
    "print(\"After removing \\\"i10\\\" car : \",car)\n",
    "car[\"Kushaq\"]=\"Black\"\n",
    "print(\"After updating color of \\\"Kushaq\\\" : \",car)"
   ]
  },
  {
   "cell_type": "code",
   "execution_count": 17,
   "metadata": {},
   "outputs": [
    {
     "name": "stdout",
     "output_type": "stream",
     "text": [
      "(7, 6, 2, 5, 4, 1, 3)\n",
      "('Dheeraj', 'Ramesh', 'Chandan')\n",
      "(1, 2, 3, 4, 5, 6, 7)\n",
      "('Chandan', 'Dheeraj', 'Ramesh')\n"
     ]
    }
   ],
   "source": [
    "# 9. Write a program to sort elements of a tuple\n",
    "t1=(7,6,2,5,4,1,3)\n",
    "t2=(\"Dheeraj\",\"Ramesh\",\"Chandan\")\n",
    "print(t1)\n",
    "print(t2)\n",
    "l1=list(t1)\n",
    "l2=list(t2)\n",
    "l1.sort()\n",
    "l2.sort()\n",
    "t1=tuple(l1)\n",
    "t2=tuple(l2)\n",
    "print(t1)\n",
    "print(t2)"
   ]
  },
  {
   "cell_type": "code",
   "execution_count": 18,
   "metadata": {},
   "outputs": [
    {
     "data": {
      "text/plain": [
       "{'name': 'Dheeraj',\n",
       " 'address': 'BlrEc',\n",
       " 'number': '12345',\n",
       " 'locality': 'Urban',\n",
       " 'city': 'Blr'}"
      ]
     },
     "execution_count": 18,
     "metadata": {},
     "output_type": "execute_result"
    }
   ],
   "source": [
    "# 10. Implement contact book using dictionaries name, address, number, locality and city by taking input from user\n",
    "book=dict({})\n",
    "book.update({\"name\":input(\"Please enter the name : \")})\n",
    "book.update({\"address\":input(\"Please enter the address : \")})\n",
    "book.update({\"number\":input(\"Please enter the number : \")})\n",
    "book.update({\"locality\":input(\"Please enter the locality : \")})\n",
    "book.update({\"city\":input(\"Please enter the city : \")})\n",
    "book"
   ]
  },
  {
   "cell_type": "code",
   "execution_count": null,
   "metadata": {},
   "outputs": [],
   "source": [
    "\"\"\"\n",
    "###  11. Write a python program to create dictionary, list, tuple with the \n",
    "following details: [id, name, job role, joining date]\n",
    "Perform the following opeartions:\n",
    "1. Add 5 employee to each\n",
    "2. Check senior most employee\n",
    "3. Add new employee to the record\n",
    "4. Sort the employee by name\n",
    "5. Remove an employee from the record\n",
    "6. Use function that takes 3 parameter and display prefix, fname and\n",
    "lname of the employee\n",
    "7. Print the employee with salary above 80,000\n",
    "\"\"\""
   ]
  },
  {
   "cell_type": "code",
   "execution_count": 21,
   "metadata": {},
   "outputs": [
    {
     "name": "stdout",
     "output_type": "stream",
     "text": [
      "0\n",
      "1\n",
      "1\n",
      "2\n",
      "3\n",
      "5\n",
      "8\n",
      "13\n",
      "21\n",
      "34\n"
     ]
    }
   ],
   "source": [
    "# 12. Program to demonstrate fibonacci series using recursion\n",
    "def f1(n2):\n",
    "    if n2<=1:\n",
    "        return n2\n",
    "    else:\n",
    "        return f1(n2-1)+f1(n2-2)\n",
    "def f2(n1):\n",
    "    for i in range(n1):\n",
    "        print(f1(i))\n",
    "\n",
    "r=10\n",
    "f2(r)\n"
   ]
  },
  {
   "cell_type": "markdown",
   "metadata": {},
   "source": [
    "# Day 4"
   ]
  },
  {
   "cell_type": "code",
   "execution_count": 2,
   "metadata": {},
   "outputs": [
    {
     "name": "stdout",
     "output_type": "stream",
     "text": [
      "Number of wheels : 4\n",
      "Number of Airbag : 6\n",
      "Maximum Speed : 8.0\n"
     ]
    }
   ],
   "source": [
    "# 1. Create a vehicle class with attributes number of wheels, number of airbags, max speed etc. Create a constructor and method that displays vehicles' information\n",
    "class vehicle:\n",
    "    def __init__(self,NumOfWheels,NumOfAirbag,MaxSpeed):\n",
    "        self.NumOfWheels=NumOfWheels\n",
    "        self.NumOfAirbag=NumOfAirbag\n",
    "        self.MaxSpeed=MaxSpeed\n",
    "    def vehicleInfo(self):\n",
    "        print(\"Number of wheels : {}\".format(self.NumOfWheels))\n",
    "        print(\"Number of Airbag : {}\".format(self.NumOfAirbag))\n",
    "        print(\"Maximum Speed : {}\".format(self.MaxSpeed))\n",
    "n_wheel=int(input(\"Please enter the number of wheels : \"))\n",
    "n_Airbag=int(input(\"Please enter the number of Airbag : \"))\n",
    "Max_speed=float(input(\"Please enter the Maximum Speed (kmph) : \"))\n",
    "v=vehicle(n_wheel,n_Airbag,Max_speed)\n",
    "v.vehicleInfo()"
   ]
  },
  {
   "cell_type": "code",
   "execution_count": 3,
   "metadata": {},
   "outputs": [
    {
     "name": "stdout",
     "output_type": "stream",
     "text": [
      "Vehicle runs on Battery ? : False\n",
      "Number of Doors : 4\n",
      "Number of Seats : 6\n",
      "Maximum Speed (Kmph): 9.0\n"
     ]
    }
   ],
   "source": [
    "\"\"\" ## 2.  Create a child class Bus from Vehicle vlass that inherit all \n",
    "the of the variables and methods from vehicle class. The \n",
    "bus class has its own attributes: number of doors, fare per \n",
    "kilometer, number of seats along with inherited attributes.\n",
    "Write a method to calculate bus fare by accepting distance \n",
    "in kilometer as parameter.\"\"\"\n",
    "class Vehicle:\n",
    "    def __init__(self,BatteryVehicle):\n",
    "        self.BatteryVehicle=BatteryVehicle\n",
    "    def vehicleType(self):\n",
    "        return \"Vehicle runs on Battery ? : {}\".format(self.BatteryVehicle)\n",
    "class Bus(Vehicle):\n",
    "    def __init__(self,NumOfDoors,NumOfSeats,FareKMPH):\n",
    "        super().__init__(False)\n",
    "        self.NumOfDoors=NumOfDoors\n",
    "        self.FareKMPH=FareKMPH\n",
    "        self.NumOfSeats=NumOfSeats\n",
    "    def Vehicledisplay(self):\n",
    "        s=Vehicle.vehicleType(self)\n",
    "        print(s)\n",
    "        print(\"Number of Doors : {}\".format(self.NumOfDoors))\n",
    "        print(\"Number of Seats : {}\".format(self.NumOfSeats))\n",
    "        print(\"Maximum Speed (Kmph): {}\".format(self.FareKMPH))\n",
    "n_door=int(input(\"Please enter the number of doors : \"))\n",
    "n_seats=int(input(\"Please enter the number of seats : \"))\n",
    "MaxKmph_speed=float(input(\"Please enter the Maximum Speed (kmph) : \"))\n",
    "b=Bus(n_door,n_seats,MaxKmph_speed)\n",
    "b.Vehicledisplay()"
   ]
  },
  {
   "cell_type": "code",
   "execution_count": 1,
   "metadata": {},
   "outputs": [
    {
     "name": "stdout",
     "output_type": "stream",
     "text": [
      "Employee ID :  1\n",
      "Employee name :  Dheeraj\n",
      "Employee Phone :  12345\n"
     ]
    }
   ],
   "source": [
    "# 3. Create a class employee, create an object(any), create a method to perform tasks(any), Call the method\n",
    "class employee:\n",
    "    def __init__(self,eid,ename):\n",
    "        self.eid=eid\n",
    "        self.ename=ename\n",
    "    def eread(self):\n",
    "        self.eid=int(input(\"Please enter the employee id : \"))\n",
    "        self.ename=input(\"Please enter the employee name : \")\n",
    "    def edisp(self):\n",
    "        print(\"Employee ID : \",self.eid)\n",
    "        print(\"Employee name : \",self.ename)\n",
    "class emp(employee):\n",
    "    def __init__(self,phoneNum):\n",
    "        super().__init__(0,'')\n",
    "        self.phoneNum=phoneNum\n",
    "    def ePhread(self):\n",
    "        self.phoneNum=int(input(\"Please enter the employeed phone : \"))\n",
    "    def display(self):\n",
    "        self.eread()\n",
    "        self.ePhread()\n",
    "        self.edisp()\n",
    "        print(\"Employee Phone : \",self.phoneNum)\n",
    "e2=emp(0)\n",
    "e2.display()"
   ]
  },
  {
   "cell_type": "code",
   "execution_count": 2,
   "metadata": {},
   "outputs": [
    {
     "name": "stdout",
     "output_type": "stream",
     "text": [
      "Press 1 for rectriangle area \n",
      "Press 2 for square area \n",
      "Area of square : 25.0\n"
     ]
    }
   ],
   "source": [
    "# 4. Create class Area with method names: areaSq , areaRect and then new class AreaCalc to display calculated area it based on user choice\n",
    "class Area:\n",
    "    def __init__(self,l,b,s):\n",
    "        self.l=l\n",
    "        self.b=b\n",
    "        self.s=s\n",
    "    def areaRect(self):\n",
    "        self.l=float(input(\"Please enter the length : \"))\n",
    "        self.b=float(input(\"Please enter the bredth : \"))\n",
    "        area=self.l*self.b\n",
    "        return area\n",
    "    def areaSq(self):\n",
    "        self.s=float(input(\"Please enter the side : \"))\n",
    "        area=self.s*self.s\n",
    "        return area\n",
    "class AreaCalc(Area):\n",
    "    def __init__(self):\n",
    "        super().__init__(0,0,0)\n",
    "    def calc(self):\n",
    "        print(\"Press 1 for rectriangle area \")\n",
    "        print(\"Press 2 for square area \")\n",
    "        ch=int(input(\"Enter choice : \"))\n",
    "        if (ch==1):\n",
    "            ar=self.areaRect()\n",
    "            print(\"Area of rectriangle : \",end='')\n",
    "        elif (ch==2):\n",
    "            ar=self.areaSq()\n",
    "            print(\"Area of square : \",end='')\n",
    "        else:\n",
    "            pass\n",
    "        print(ar)\n",
    "a=AreaCalc()\n",
    "a.calc()"
   ]
  },
  {
   "cell_type": "code",
   "execution_count": null,
   "metadata": {},
   "outputs": [],
   "source": [
    "# 5. WAP to multiply till 'n' using recurssion"
   ]
  },
  {
   "cell_type": "code",
   "execution_count": null,
   "metadata": {},
   "outputs": [],
   "source": [
    "# 6. WAP to create 'course' class which takes 'marks' and 'courseName' and then create 5 different objects and then print it"
   ]
  },
  {
   "cell_type": "code",
   "execution_count": null,
   "metadata": {},
   "outputs": [],
   "source": [
    "# 7.WAP and execute in terminal"
   ]
  },
  {
   "cell_type": "code",
   "execution_count": null,
   "metadata": {},
   "outputs": [],
   "source": [
    "# 8. WAP to create 2 functions: AreaSq() and AreaRect() and exectue by creating a module"
   ]
  },
  {
   "cell_type": "code",
   "execution_count": null,
   "metadata": {},
   "outputs": [],
   "source": [
    "# 9. WAP to create 'school' parent class and 'student' child class. 'school':[SchoolName,Address,PhoneNum] . 'student':[sname,sroll,smarks]"
   ]
  },
  {
   "cell_type": "code",
   "execution_count": null,
   "metadata": {},
   "outputs": [],
   "source": [
    "# 10. Create class Area with method names: areaSq , areaRect and then new class AreaCalc to display calculated area it based on user choice\n",
    "class Area:\n",
    "    def __init__(self,l,b,s):\n",
    "        self.l=l\n",
    "        self.b=b\n",
    "        self.s=s\n",
    "    def areaRect(self):\n",
    "        self.l=float(input(\"Please enter the length : \"))\n",
    "        self.b=float(input(\"Please enter the bredth : \"))\n",
    "        area=self.l*self.b\n",
    "        return area\n",
    "    def areaSq(self):\n",
    "        self.s=float(input(\"Please enter the side : \"))\n",
    "        area=self.s*self.s\n",
    "        return area\n",
    "class AreaCalc(Area):\n",
    "    def __init__(self):\n",
    "        super().__init__(0,0,0)\n",
    "    def calc(self):\n",
    "        print(\"Press 1 for rectriangle area \")\n",
    "        print(\"Press 2 for square area \")\n",
    "        ch=int(input(\"Enter choice : \"))\n",
    "        if (ch==1):\n",
    "            ar=self.areaRect()\n",
    "            print(\"Area of rectriangle : \",end='')\n",
    "        elif (ch==2):\n",
    "            ar=self.areaSq()\n",
    "            print(\"Area of square : \",end='')\n",
    "        else:\n",
    "            pass\n",
    "        print(ar)\n",
    "a=AreaCalc()\n",
    "a.calc()"
   ]
  },
  {
   "cell_type": "markdown",
   "metadata": {},
   "source": [
    "# Day 5"
   ]
  },
  {
   "cell_type": "code",
   "execution_count": 6,
   "metadata": {},
   "outputs": [
    {
     "name": "stdout",
     "output_type": "stream",
     "text": [
      "('cdac',)\n",
      "('information_schema',)\n",
      "('mysql',)\n",
      "('performance_schema',)\n",
      "('sys',)\n"
     ]
    }
   ],
   "source": [
    "# 1. To show DataBases in Mysql server\n",
    "import mysql.connector as sqlCon\n",
    "con=sqlCon.connect(host='localhost', user = 'cdac',password='cdacacts',database='dbda')\n",
    "cus=con.cursor()\n",
    "cus.execute(\"show databases\")\n",
    "res=cus.fetchall()\n",
    "for i in res:\n",
    "    print(i)"
   ]
  },
  {
   "cell_type": "code",
   "execution_count": 7,
   "metadata": {},
   "outputs": [
    {
     "name": "stdout",
     "output_type": "stream",
     "text": [
      "('employee_1',)\n",
      "('employee_2',)\n",
      "('employee_3',)\n",
      "('view_1',)\n"
     ]
    }
   ],
   "source": [
    "# 2. To show DataBases in Mysql server\n",
    "import mysql.connector as sqlCon\n",
    "con=sqlCon.connect(host='localhost',user = 'cdac',password='cdacacts',database='dbda')\n",
    "cus=con.cursor()\n",
    "cus.execute(\"show tables\")\n",
    "res=cus.fetchall()\n",
    "for i in res:\n",
    "    print(i)"
   ]
  },
  {
   "cell_type": "code",
   "execution_count": 8,
   "metadata": {},
   "outputs": [
    {
     "name": "stdout",
     "output_type": "stream",
     "text": [
      "('Employeeid', 'int', 'YES', '', None, '')\n",
      "('Name', 'text', 'YES', '', None, '')\n",
      "('Gender', 'varchar(15)', 'YES', '', None, '')\n",
      "('Salary', 'float', 'YES', '', None, '')\n",
      "('Department', 'varchar(15)', 'YES', '', None, '')\n",
      "('Experience', 'int', 'YES', '', None, '')\n"
     ]
    }
   ],
   "source": [
    "# 3. WAP for checking the description of a table\n",
    "import mysql.connector as myCon\n",
    "con=myCon.connect(host='localhost',user = 'cdac',password='cdacacts',database='dbda')\n",
    "cus=con.cursor()\n",
    "q1='desc employee_1'\n",
    "cus.execute(q1)\n",
    "res=cus.fetchall()\n",
    "for i in res:\n",
    "    print(i)"
   ]
  },
  {
   "cell_type": "code",
   "execution_count": 9,
   "metadata": {},
   "outputs": [
    {
     "name": "stdout",
     "output_type": "stream",
     "text": [
      "(5, 'Priya Sharma', 'Female', 45000.0, 'IT', 6)\n",
      "(6, 'Rahul Patel', 'Male', 65000.0, 'Sales', 5)\n",
      "(7, 'Nisha Gupta', 'Female', 55000.0, 'Marketing', 4)\n",
      "(8, 'Vikram Singh', 'Male', 75000.0, 'Finance', 7)\n",
      "(9, 'Aarti Desai', 'Female', 50000.0, 'IT', 3)\n"
     ]
    }
   ],
   "source": [
    "# 4. WAP to fetch data from sql database (select)\n",
    "import mysql.connector as mc\n",
    "con=mc.connect(host = 'localhost', user = 'cdac',password='cdacacts',database='dbda')\n",
    "c=con.cursor()\n",
    "q=\"select * from employee_1\"\n",
    "c.execute(q)\n",
    "res=c.fetchall()\n",
    "for i in res:\n",
    "    print(i)"
   ]
  },
  {
   "cell_type": "code",
   "execution_count": 1,
   "metadata": {},
   "outputs": [
    {
     "name": "stdout",
     "output_type": "stream",
     "text": [
      "(7, 'Nisha Gupta', 'Female', 55000.0, 'Marketing', 4)\n"
     ]
    }
   ],
   "source": [
    "# 5. WAP for prepared statement for select\n",
    "import mysql.connector as sqlCon\n",
    "con=sqlCon.Connect(host='localhost',user = 'cdac',password='cdacacts',database='dbda')\n",
    "cus=con.cursor()\n",
    "q1=\"select * from employee_1 where Employeeid = %s \"\n",
    "n=int(input(\"Please enter the employee id number : \"))\n",
    "id=list([n])\n",
    "cus.execute(q1,id)\n",
    "res=cus.fetchall()\n",
    "for i in res:\n",
    "    print(i)"
   ]
  },
  {
   "cell_type": "code",
   "execution_count": 1,
   "metadata": {},
   "outputs": [
    {
     "name": "stdout",
     "output_type": "stream",
     "text": [
      "Insertion - Number of rows effected :  1\n",
      "(5, 'Priya Sharma', 'Female', 45000.0, 'IT', 6)\n",
      "(6, 'Rahul Patel', 'Male', 65000.0, 'Sales', 5)\n",
      "(7, 'Nisha Gupta', 'Female', 55000.0, 'Marketing', 4)\n",
      "(8, 'Vikram Singh', 'Male', 75000.0, 'Finance', 7)\n",
      "(9, 'Aarti Desai', 'Female', 50000.0, 'IT', 3)\n",
      "(10, 'Dheeraj', None, None, None, None)\n"
     ]
    }
   ],
   "source": [
    "# 6. WAP to insert new row in table\n",
    "import mysql.connector as sqlCon\n",
    "con=sqlCon.connect(host='localhost',user = 'cdac',password='cdacacts',database='dbda')\n",
    "cus=con.cursor()\n",
    "q1=\"insert into employee_1(Employeeid,Name) values(10,\\\"Dheeraj\\\")\"\n",
    "cus.execute(q1)\n",
    "con.commit()\n",
    "print(\"Insertion - Number of rows effected : \",cus.rowcount)\n",
    "cus.execute(\"select * from employee_1\")\n",
    "res=cus.fetchall()\n",
    "for i in res:\n",
    "    print(i)"
   ]
  },
  {
   "cell_type": "code",
   "execution_count": 2,
   "metadata": {},
   "outputs": [
    {
     "name": "stdout",
     "output_type": "stream",
     "text": [
      "Number of reows effeced :  1\n",
      "(5, 'Priya Sharma', 'Female', 45000.0, 'IT', 6)\n",
      "(6, 'Rahul Patel', 'Male', 65000.0, 'Sales', 5)\n",
      "(7, 'Nisha Gupta', 'Female', 55000.0, 'Marketing', 4)\n",
      "(8, 'Vikram Singh', 'Male', 75000.0, 'Finance', 7)\n",
      "(9, 'Aarti Desai', 'Female', 50000.0, 'IT', 3)\n",
      "(10, 'Dheeraj', None, None, None, None)\n",
      "(10, 'Dheeraj', None, None, None, None)\n"
     ]
    }
   ],
   "source": [
    "# 7. WAP to insert new row in table using prepared statement\n",
    "import mysql.connector as sqlCon\n",
    "con=sqlCon.connect(host='localhost',user = 'cdac',password='cdacacts',database='dbda')\n",
    "cus=con.cursor()\n",
    "q1=\"insert into employee_1(Employeeid,Name) values(%s,%s)\"\n",
    "eid=int(input(\"Please enter the employee ID : \"))\n",
    "ename=input(\"Please enter the employee name : \")\n",
    "id=[eid,ename]\n",
    "cus.execute(q1,id)\n",
    "print(\"Number of reows effeced : \",cus.rowcount)\n",
    "con.commit()\n",
    "cus.execute('select * from employee_1')\n",
    "res=cus.fetchall()\n",
    "for i in res:\n",
    "    print(i)"
   ]
  },
  {
   "cell_type": "code",
   "execution_count": 4,
   "metadata": {},
   "outputs": [
    {
     "name": "stdout",
     "output_type": "stream",
     "text": [
      "Insertion - Number of rows effected :  2\n",
      "(5, 'Priya Sharma', 'Female', 45000.0, 'IT', 6)\n",
      "(6, 'Rahul Patel', 'Male', 65000.0, 'Sales', 5)\n",
      "(7, 'Nisha Gupta', 'Female', 55000.0, 'Marketing', 4)\n",
      "(8, 'Vikram Singh', 'Male', 75000.0, 'Finance', 7)\n",
      "(9, 'Aarti Desai', 'Female', 50000.0, 'IT', 3)\n"
     ]
    }
   ],
   "source": [
    "# 8. WAP to delete new row in table\n",
    "import mysql.connector as sqlCon\n",
    "con=sqlCon.connect(host='localhost',user = 'cdac',password='cdacacts',database='dbda')\n",
    "cus=con.cursor()\n",
    "q1=\"delete from employee_1 where Employeeid=10\"\n",
    "cus.execute(q1)\n",
    "con.commit()\n",
    "print(\"Insertion - Number of rows effected : \",cus.rowcount)\n",
    "cus.execute(\"select * from employee_1\")\n",
    "res=cus.fetchall()\n",
    "for i in res:\n",
    "    print(i)"
   ]
  },
  {
   "cell_type": "code",
   "execution_count": 5,
   "metadata": {},
   "outputs": [
    {
     "name": "stdout",
     "output_type": "stream",
     "text": [
      "Number of rows effected :  0\n",
      "(5, 'Priya Sharma', 'Female', 45000.0, 'IT', 6)\n",
      "(6, 'Rahul Patel', 'Male', 65000.0, 'Sales', 5)\n",
      "(7, 'Nisha Gupta', 'Female', 55000.0, 'Marketing', 4)\n",
      "(8, 'Vikram Singh', 'Male', 75000.0, 'Finance', 7)\n",
      "(9, 'Aarti Desai', 'Female', 50000.0, 'IT', 3)\n"
     ]
    }
   ],
   "source": [
    "# 9. WAP to delete new row in table using prepared statement.\n",
    "import mysql.connector as sqlCon\n",
    "con=sqlCon.connect(host='localhost',user = 'cdac',password='cdacacts',database='dbda')\n",
    "cus=con.cursor()\n",
    "q1=\"delete from employee_1 where Employeeid=%s\"\n",
    "eid=input(\"Please enter the employee id : \")\n",
    "id=[eid,]\n",
    "cus.execute(q1,id)\n",
    "con.commit()\n",
    "print(\"Number of rows effected : \",cus.rowcount)\n",
    "\n",
    "cus.execute(\"select * from employee_1\")\n",
    "res=cus.fetchall()\n",
    "for i in res:\n",
    "    print(i)"
   ]
  },
  {
   "cell_type": "code",
   "execution_count": 6,
   "metadata": {},
   "outputs": [
    {
     "name": "stdout",
     "output_type": "stream",
     "text": [
      "Number of rows effected :  1\n",
      "(5, 'Priya Sharma', 'Female', 45000.0, 'IT', 6)\n",
      "(6, 'Rahul Patel', 'Male', 65000.0, 'Sales', 5)\n",
      "(7, 'Nisha Gupta', 'Female', 55000.0, 'Marketing', 4)\n",
      "(8, 'Vikram Singh', 'Male', 75000.0, 'Finance', 7)\n",
      "(9, 'Aarti Desai', 'Female', 51000.0, 'IT', 3)\n"
     ]
    }
   ],
   "source": [
    "# 10. WAP to update row in table using normal statement\n",
    "import mysql.connector as sqlCon\n",
    "con=sqlCon.connect(host='localhost',user = 'cdac',password='cdacacts',database='dbda')\n",
    "cus=con.cursor()\n",
    "q1=\"update employee_1 set Salary=Salary+1000 where Employeeid=9\"\n",
    "cus.execute(q1)\n",
    "print(\"Number of rows effected : \",cus.rowcount)\n",
    "con.commit()\n",
    "cus.execute(\"select * from employee_1\")\n",
    "res=cus.fetchall()\n",
    "for i in res:\n",
    "    print(i)"
   ]
  },
  {
   "cell_type": "code",
   "execution_count": 7,
   "metadata": {},
   "outputs": [
    {
     "name": "stdout",
     "output_type": "stream",
     "text": [
      "Number of rows affected :  1\n",
      "(5, 'Priya Sharma', 'Female', 45000.0, 'IT', 6)\n",
      "(6, 'Rahul Patel', 'Male', 65000.0, 'Sales', 5)\n",
      "(7, 'Nisha Gupta', 'Female', 55000.0, 'Marketing', 4)\n",
      "(8, 'Vikram Singh', 'Male', 75000.0, 'Finance', 7)\n",
      "(9, 'Aarti Desai', 'Female', 50000.0, 'IT', 3)\n"
     ]
    }
   ],
   "source": [
    "# 11. WAP to update row in table using prepared statement\n",
    "import mysql.connector as sqlCon\n",
    "con=sqlCon.connect(host='localhost',user = 'cdac',password='cdacacts',database='dbda')\n",
    "cus=con.cursor()\n",
    "q1=\"update employee_1 set Salary=Salary-1000 where Employeeid=%s\"\n",
    "eid=int(input(\"Please enter the employee id : \"))\n",
    "id=[eid]\n",
    "cus.execute(q1,id)\n",
    "print(\"Number of rows affected : \",cus.rowcount)\n",
    "con.commit()\n",
    "cus.execute(\"select * from employee_1\")\n",
    "res=cus.fetchall()\n",
    "for i in res:\n",
    "    print(i)"
   ]
  },
  {
   "cell_type": "markdown",
   "metadata": {},
   "source": [
    "# Day 6"
   ]
  },
  {
   "cell_type": "code",
   "execution_count": 5,
   "metadata": {},
   "outputs": [
    {
     "name": "stdout",
     "output_type": "stream",
     "text": [
      "   a   b   c\n",
      "0  1  10  11\n",
      "1  2  20  21\n",
      "2  3  30  31\n",
      "3  4  40  41\n",
      "4  5  50  51 \n",
      "\n",
      "   a   b   c   A    B   C\n",
      "0  1  10  11  11   50  11\n",
      "1  2  20  21  22   10  12\n",
      "2  3  30  31  33   20  13\n",
      "3  4  40  41  44  300  14\n",
      "4  5  50  51  55  202  15 \n",
      "\n",
      "   Unnamed: 0  a   b   c   A    B   C\n",
      "0           0  1  10  11  11   50  11\n",
      "1           1  2  20  21  22   10  12\n",
      "2           2  3  30  31  33   20  13\n",
      "3           3  4  40  41  44  300  14\n",
      "4           4  5  50  51  55  202  15\n"
     ]
    }
   ],
   "source": [
    "# 1. WAP to create to dataframes and combine both and write it to excel\n",
    "import pandas as pd\n",
    "#print(df)\n",
    "folderpath=\"C:\\\\Users\\\\KIIT\\\\Desktop\\\\Python\\\\Excels_Csv\"\n",
    "filename=\"\\\\ExcelExample.xlsx\"\n",
    "filepath=folderpath+filename\n",
    "data=pd.ExcelWriter(filepath)\n",
    "set1={'a':[1,2,3,4,5],'b':[10,20,30,40,50],'c':[11,21,31,41,51]}\n",
    "set2={'A':[11,22,33,44,55],'B':[50,10,20,300,202],'C':[11,12,13,14,15]}\n",
    "df=pd.DataFrame(set1)\n",
    "print(df,'\\n')\n",
    "for i in set2.items():\n",
    "    df[i[0]]=i[1]\n",
    "print(df,'\\n')\n",
    "#df=pd.DataFrame(set1)\n",
    "df.to_excel(filepath,sheet_name='Sheet1',startrow=0,startcol=0)\n",
    "#df=pd.DataFrame(set2)\n",
    "#df.to_excel(filepath,sheet_name='Sheet11',startrow=5,startcol=5)\n",
    "readData=pd.read_excel(filepath)\n",
    "print(readData)\n",
    "#readData.iloc[0:,0:]\n",
    "#print(readData.columns)\n",
    "#print(1) if 'Unnamed: 0' in readData.columns else print(0)\n",
    "#subdata=readData.iloc[2:,2:5]\n",
    "#subdata.to_excel(filepath,sheet_name='dataset2')"
   ]
  },
  {
   "cell_type": "code",
   "execution_count": null,
   "metadata": {},
   "outputs": [],
   "source": []
  }
 ],
 "metadata": {
  "kernelspec": {
   "display_name": "base",
   "language": "python",
   "name": "python3"
  },
  "language_info": {
   "codemirror_mode": {
    "name": "ipython",
    "version": 3
   },
   "file_extension": ".py",
   "mimetype": "text/x-python",
   "name": "python",
   "nbconvert_exporter": "python",
   "pygments_lexer": "ipython3",
   "version": "3.11.4"
  }
 },
 "nbformat": 4,
 "nbformat_minor": 2
}
