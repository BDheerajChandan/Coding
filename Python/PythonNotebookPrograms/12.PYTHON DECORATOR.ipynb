{
 "cells": [
  {
   "cell_type": "code",
   "execution_count": 1,
   "metadata": {},
   "outputs": [],
   "source": [
    "# PYTHON DECORATORS\n",
    "# Python Decorator is the advanced python topic which allows us to decorate functions in python\n",
    "# def simple_func():         # do simple task and it returns something\n",
    "\n",
    "# We have two options:\n",
    "#    i. Add extra code(Functionality) to your old function        (or)\n",
    "#    ii. Create a new function which contains the old code and add new code to that\n",
    "# If we want to remove the extra functionality we need to delete it manually or make sure to have old function thats why \n",
    "# decorators are used in this case.\n",
    "\n",
    "# Python has decorators that allows you to tack on extra funcionality to an already existing function.\n",
    "# Decorators use the '@' operator and are then placed on top of the original function.\n",
    "#           @some_decorator\n",
    "#           def simple_func():         # We can easily add on extra functionality with a decorator.\n"
   ]
  },
  {
   "cell_type": "code",
   "execution_count": 2,
   "metadata": {},
   "outputs": [
    {
     "data": {
      "text/plain": [
       "1"
      ]
     },
     "execution_count": 2,
     "metadata": {},
     "output_type": "execute_result"
    }
   ],
   "source": [
    "def func():\n",
    "    return 1\n",
    "func()"
   ]
  },
  {
   "cell_type": "code",
   "execution_count": 3,
   "metadata": {},
   "outputs": [
    {
     "data": {
      "text/plain": [
       "<function __main__.func()>"
      ]
     },
     "execution_count": 3,
     "metadata": {},
     "output_type": "execute_result"
    }
   ],
   "source": [
    "func"
   ]
  },
  {
   "cell_type": "code",
   "execution_count": 10,
   "metadata": {},
   "outputs": [
    {
     "data": {
      "text/plain": [
       "'hello'"
      ]
     },
     "execution_count": 10,
     "metadata": {},
     "output_type": "execute_result"
    }
   ],
   "source": [
    "def hello():\n",
    "    return \"hello\"\n",
    "hello()"
   ]
  },
  {
   "cell_type": "code",
   "execution_count": 11,
   "metadata": {},
   "outputs": [
    {
     "data": {
      "text/plain": [
       "<function __main__.hello()>"
      ]
     },
     "execution_count": 11,
     "metadata": {},
     "output_type": "execute_result"
    }
   ],
   "source": [
    "hello"
   ]
  },
  {
   "cell_type": "code",
   "execution_count": 12,
   "metadata": {},
   "outputs": [
    {
     "data": {
      "text/plain": [
       "'hello'"
      ]
     },
     "execution_count": 12,
     "metadata": {},
     "output_type": "execute_result"
    }
   ],
   "source": [
    "greet=hello\n",
    "greet()"
   ]
  },
  {
   "cell_type": "code",
   "execution_count": 13,
   "metadata": {},
   "outputs": [
    {
     "data": {
      "text/plain": [
       "'hello'"
      ]
     },
     "execution_count": 13,
     "metadata": {},
     "output_type": "execute_result"
    }
   ],
   "source": [
    "hello()"
   ]
  },
  {
   "cell_type": "code",
   "execution_count": 14,
   "metadata": {},
   "outputs": [],
   "source": [
    "del hello\n",
    "#hello()    -> it will show error"
   ]
  },
  {
   "cell_type": "code",
   "execution_count": 15,
   "metadata": {},
   "outputs": [
    {
     "data": {
      "text/plain": [
       "'hello'"
      ]
     },
     "execution_count": 15,
     "metadata": {},
     "output_type": "execute_result"
    }
   ],
   "source": [
    "greet()"
   ]
  },
  {
   "cell_type": "code",
   "execution_count": 16,
   "metadata": {},
   "outputs": [
    {
     "name": "stdout",
     "output_type": "stream",
     "text": [
      "The hello() functionhas been executed!\n"
     ]
    }
   ],
   "source": [
    "# lets create function inside another function.\n",
    "def hello(name='Jose'):\n",
    "    print(\"The hello() functionhas been executed!\")\n",
    "hello()"
   ]
  },
  {
   "cell_type": "code",
   "execution_count": 1,
   "metadata": {},
   "outputs": [
    {
     "name": "stdout",
     "output_type": "stream",
     "text": [
      "The hello() functionhas been executed!\n",
      "\t This is the greet() function inside hello()\n",
      "\t This is the welcome() function inside hello()\n",
      "This is the end of the function.\n"
     ]
    }
   ],
   "source": [
    "def hello(name='Jose'):\n",
    "    print(\"The hello() functionhas been executed!\")\n",
    "    def greet():\n",
    "        return'\\t This is the greet() function inside hello()'\n",
    "    def welcome():\n",
    "        return'\\t This is the welcome() function inside hello()'\n",
    "    print(greet())\n",
    "    print(welcome())\n",
    "    print(\"This is the end of the function.\")\n",
    "hello()"
   ]
  },
  {
   "cell_type": "code",
   "execution_count": 23,
   "metadata": {},
   "outputs": [],
   "source": [
    "# welcome() ->it will show an error because welcome function has been created inside hello() function."
   ]
  },
  {
   "cell_type": "code",
   "execution_count": 26,
   "metadata": {},
   "outputs": [
    {
     "name": "stdout",
     "output_type": "stream",
     "text": [
      "The hello() functionhas been executed!\n",
      "I am going to return a function.\n",
      "\t This is the greet() function inside hello()\n"
     ]
    },
    {
     "data": {
      "text/plain": [
       "'\\t This is the greet() function inside hello()'"
      ]
     },
     "execution_count": 26,
     "metadata": {},
     "output_type": "execute_result"
    }
   ],
   "source": [
    "def hello(name='Jose'):\n",
    "    print(\"The hello() functionhas been executed!\")\n",
    "    def greet():\n",
    "        return'\\t This is the greet() function inside hello()'\n",
    "    def welcome():\n",
    "        return'\\t This is the greet() function inside hello()'\n",
    "    #print(greet())\n",
    "    #print(welcome())\n",
    "    print(\"I am going to return a function.\")\n",
    "    if name=='Jose':\n",
    "        return greet\n",
    "    else:\n",
    "        return welcome\n",
    "my_new_func=hello('Jose')\n",
    "print(my_new_func())\n",
    "my_new_func()"
   ]
  },
  {
   "cell_type": "code",
   "execution_count": 29,
   "metadata": {},
   "outputs": [
    {
     "data": {
      "text/plain": [
       "<function __main__.cool.<locals>.super_cool()>"
      ]
     },
     "execution_count": 29,
     "metadata": {},
     "output_type": "execute_result"
    }
   ],
   "source": [
    "def cool():\n",
    "    def super_cool():\n",
    "        return 'I am very cool'\n",
    "    return super_cool\n",
    "some_func=cool()\n",
    "some_func"
   ]
  },
  {
   "cell_type": "code",
   "execution_count": 30,
   "metadata": {},
   "outputs": [
    {
     "data": {
      "text/plain": [
       "'I am very cool'"
      ]
     },
     "execution_count": 30,
     "metadata": {},
     "output_type": "execute_result"
    }
   ],
   "source": [
    "some_func()"
   ]
  },
  {
   "cell_type": "code",
   "execution_count": 31,
   "metadata": {},
   "outputs": [
    {
     "data": {
      "text/plain": [
       "<function __main__.hello()>"
      ]
     },
     "execution_count": 31,
     "metadata": {},
     "output_type": "execute_result"
    }
   ],
   "source": [
    "# Lets do passing an function as an argument.\n",
    "def hello():\n",
    "    return 'Hi Jose'\n",
    "def other(some_def_func):\n",
    "    print('Other code runs here!')\n",
    "    print(some_def_func())\n",
    "hello"
   ]
  },
  {
   "cell_type": "code",
   "execution_count": 32,
   "metadata": {},
   "outputs": [
    {
     "data": {
      "text/plain": [
       "'Hi Jose'"
      ]
     },
     "execution_count": 32,
     "metadata": {},
     "output_type": "execute_result"
    }
   ],
   "source": [
    "hello()"
   ]
  },
  {
   "cell_type": "code",
   "execution_count": 33,
   "metadata": {},
   "outputs": [
    {
     "name": "stdout",
     "output_type": "stream",
     "text": [
      "Other code runs here!\n",
      "Hi Jose\n"
     ]
    }
   ],
   "source": [
    "other(hello)"
   ]
  },
  {
   "cell_type": "code",
   "execution_count": 2,
   "metadata": {},
   "outputs": [],
   "source": [
    "# Return functions and function arguments : main tools to create decorators.\n",
    "#       we need tools for on\\off switch when we add more functioality to the decorator/\n",
    "\n",
    "def new_decorator(original_func):\n",
    "    def wrap_func():\n",
    "        print('Some extra code ,before the original function')\n",
    "        original_func()\n",
    "        print('Some extra code ,after the original function')\n",
    "    return wrap_func"
   ]
  },
  {
   "cell_type": "code",
   "execution_count": 3,
   "metadata": {},
   "outputs": [
    {
     "name": "stdout",
     "output_type": "stream",
     "text": [
      "I need to be decorated\n"
     ]
    }
   ],
   "source": [
    "def func_needs_decorators():\n",
    "    print(\"I need to be decorated\")\n",
    "func_needs_decorators()"
   ]
  },
  {
   "cell_type": "code",
   "execution_count": 4,
   "metadata": {},
   "outputs": [
    {
     "name": "stdout",
     "output_type": "stream",
     "text": [
      "Some extra code ,before the original function\n",
      "I need to be decorated\n",
      "Some extra code ,after the original function\n"
     ]
    }
   ],
   "source": [
    "decorated_func=new_decorator(func_needs_decorators)\n",
    "decorated_func()"
   ]
  },
  {
   "cell_type": "code",
   "execution_count": 5,
   "metadata": {},
   "outputs": [
    {
     "name": "stdout",
     "output_type": "stream",
     "text": [
      "Some extra code ,before the original function\n",
      "I need to be decorated\n",
      "Some extra code ,after the original function\n"
     ]
    }
   ],
   "source": [
    "@new_decorator  # it connects with original function\n",
    "def func_needs_decorators():\n",
    "    print(\"I need to be decorated\")\n",
    "func_needs_decorators()"
   ]
  },
  {
   "cell_type": "code",
   "execution_count": 7,
   "metadata": {},
   "outputs": [
    {
     "name": "stdout",
     "output_type": "stream",
     "text": [
      "I need to be decorated\n"
     ]
    }
   ],
   "source": [
    "#@new_decorator\n",
    "def func_needs_decorators():\n",
    "    print(\"I need to be decorated\")\n",
    "func_needs_decorators()"
   ]
  },
  {
   "cell_type": "code",
   "execution_count": null,
   "metadata": {},
   "outputs": [],
   "source": []
  }
 ],
 "metadata": {
  "kernelspec": {
   "display_name": "Python 3",
   "language": "python",
   "name": "python3"
  },
  "language_info": {
   "codemirror_mode": {
    "name": "ipython",
    "version": 3
   },
   "file_extension": ".py",
   "mimetype": "text/x-python",
   "name": "python",
   "nbconvert_exporter": "python",
   "pygments_lexer": "ipython3",
   "version": "3.7.6"
  }
 },
 "nbformat": 4,
 "nbformat_minor": 4
}
