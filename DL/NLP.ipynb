{
 "cells": [
  {
   "cell_type": "markdown",
   "id": "388d1588",
   "metadata": {},
   "source": [
    "# 1. Vectorizaton and Tokenization"
   ]
  },
  {
   "cell_type": "code",
   "execution_count": null,
   "id": "4bc3bfbb",
   "metadata": {},
   "outputs": [
    {
     "name": "stdout",
     "output_type": "stream",
     "text": [
      "Word Index: {'deep': 1, 'learning': 2, 'i': 3, 'love': 4, 'is': 5, 'amazing': 6}\n",
      "Tokenized & Vectorized: [[3, 4, 1, 2], [1, 2, 5, 6]]\n"
     ]
    }
   ],
   "source": [
    "from tensorflow.keras.preprocessing.text import Tokenizer\n",
    "\n",
    "# Sample text\n",
    "#texts = [\"I love deep learning\", \"Deep learning is amazing\"]\n",
    "texts = [\"I love deep learning\", \"Deep learning is amazing\"]\n",
    "\n",
    "# Create a tokenizer\n",
    "tokenizer = Tokenizer()\n",
    "\n",
    "# Fit the tokenizer on the text\n",
    "tokenizer.fit_on_texts(texts)\n",
    "\n",
    "# Show word index (each word gets a number)\n",
    "print(\"Word Index:\", tokenizer.word_index)\n",
    "\n",
    "# Convert text to sequences of numbers\n",
    "sequences = tokenizer.texts_to_sequences(texts)\n",
    "\n",
    "print(\"Tokenized & Vectorized:\", sequences)\n"
   ]
  },
  {
   "cell_type": "markdown",
   "id": "c86fd345",
   "metadata": {},
   "source": [
    "# 2. Sentiment analysis"
   ]
  },
  {
   "cell_type": "code",
   "execution_count": 25,
   "id": "269f1159",
   "metadata": {},
   "outputs": [
    {
     "name": "stdout",
     "output_type": "stream",
     "text": [
      "Sentiment score :  0.1 ; Positive sentiment :  I like action movies\n",
      "Sentiment score :  0.18 ; Positive sentiment :  I like action movies very much\n",
      "Sentiment score :  0.625 ; Positive sentiment :  I love this product, it's amazing!\n",
      "Sentiment score :  0.0 ; Neutral sentiment :   dont known why I feel uncomforatable\n",
      "Sentiment score :  0.0 ; Neutral sentiment :  I watched a movie last night when I was sleepy mood. \n",
      "Sentiment score :  -0.5 ; Negative sentiment :  I feel headache and getting angry soon. \n",
      "Sentiment score :  -0.4 ; Negative sentiment :  I feel irritating, leave me alone\n",
      "Sentiment score :  0.0 ; Neutral sentiment :  Leave me alone else I wil shout on you\n",
      "Sentiment score :  -0.3125 ; Negative sentiment :  Leave me alone else I wil shout on you due to angry.\n"
     ]
    }
   ],
   "source": [
    "from textblob import TextBlob\n",
    "\n",
    "# Sample text\n",
    "text = [\"I like action movies\",\n",
    "        \"I like action movies very much\",\n",
    "        \"I love this product, it's amazing!\",\n",
    "        \" dont known why I feel uncomforatable\",\n",
    "        \"I watched a movie last night when I was sleepy mood. \",\n",
    "        \"I feel headache and getting angry soon. \",\n",
    "        \"I feel irritating, leave me alone\",\n",
    "        \"Leave me alone else I wil shout on you\",\n",
    "        \"Leave me alone else I wil shout on you due to angry.\"]\n",
    "for i in text:\n",
    "    # Create a TextBlob object\n",
    "    blob = TextBlob(i)\n",
    "\n",
    "    # Get the sentiment polarity (ranges from -1 to 1)\n",
    "    sentiment = blob.sentiment.polarity\n",
    "    print(\"Sentiment score : \",sentiment,end=\"\")\n",
    "    # Output the sentiment\n",
    "    if sentiment > 0:\n",
    "        print(\" ; Positive sentiment : \",i)\n",
    "    elif sentiment < 0:\n",
    "        print(\" ; Negative sentiment : \",i)\n",
    "    else:\n",
    "        print(\" ; Neutral sentiment : \",i)\n"
   ]
  },
  {
   "cell_type": "code",
   "execution_count": null,
   "id": "6c658835",
   "metadata": {},
   "outputs": [
    {
     "ename": "ModuleNotFoundError",
     "evalue": "No module named 'pattern.en'",
     "output_type": "error",
     "traceback": [
      "\u001b[1;31m---------------------------------------------------------------------------\u001b[0m",
      "\u001b[1;31mModuleNotFoundError\u001b[0m                       Traceback (most recent call last)",
      "Cell \u001b[1;32mIn[1], line 1\u001b[0m\n\u001b[1;32m----> 1\u001b[0m \u001b[38;5;28;01mfrom\u001b[39;00m \u001b[38;5;21;01mpattern\u001b[39;00m\u001b[38;5;21;01m.\u001b[39;00m\u001b[38;5;21;01men\u001b[39;00m \u001b[38;5;28;01mimport\u001b[39;00m sentiment, lexicon\n\u001b[0;32m      3\u001b[0m \u001b[38;5;66;03m# See number of words in the lexicon\u001b[39;00m\n\u001b[0;32m      4\u001b[0m \u001b[38;5;28mprint\u001b[39m(\u001b[38;5;28mlen\u001b[39m(lexicon))  \u001b[38;5;66;03m# Output: ~2900 words\u001b[39;00m\n",
      "\u001b[1;31mModuleNotFoundError\u001b[0m: No module named 'pattern.en'"
     ]
    }
   ],
   "source": [
    "\"\"\"from pattern.en import sentiment, lexicon\n",
    "\n",
    "# See number of words in the lexicon\n",
    "print(len(lexicon))  # Output: ~2900 words\n",
    "\n",
    "# Print a few words and their polarity\n",
    "for word in list(lexicon.keys())[:10]:\n",
    "    print(word, sentiment(word))\n",
    "\"\"\""
   ]
  },
  {
   "cell_type": "markdown",
   "id": "80ea59d1",
   "metadata": {},
   "source": [
    "# 3. Text clasifiction"
   ]
  },
  {
   "cell_type": "code",
   "execution_count": null,
   "id": "f32e12aa",
   "metadata": {},
   "outputs": [],
   "source": [
    "\"\"\"\n",
    "After performing Sentiment Analysis, if you use the labeled data (like positive, negative, neutral) to train a \n",
    "machine learning model that can predict the sentiment of new, unseen text, you're performing: ✅ Text Classification.\n",
    "\"\"\""
   ]
  },
  {
   "cell_type": "code",
   "execution_count": 20,
   "id": "bc6759de",
   "metadata": {},
   "outputs": [
    {
     "name": "stdout",
     "output_type": "stream",
     "text": [
      "Sentiment score :  0.1 ; Positive sentiment :  I like action movies\n",
      "Sentiment score :  0.625 ; Positive sentiment :  I love this product, it's amazing!\n",
      "Sentiment score :  0.0 ; Neutral sentiment :  I watched a movie last night when I was sleepy mood. \n",
      "Sentiment score :  -0.5 ; Negative sentiment :  I feel headache and getting angry soon. \n",
      "Sentiment score :  0.0 ; Neutral sentiment :  Leave me alone else I wil shout on you\n",
      "Sentiment score :  -0.3125 ; Negative sentiment :  Leave me alone else I wil shout on you due to angry.\n"
     ]
    },
    {
     "data": {
      "text/plain": [
       "{'I like action movies': 'Positive sentiment',\n",
       " \"I love this product, it's amazing!\": 'Positive sentiment',\n",
       " 'I watched a movie last night when I was sleepy mood. ': 'Neutral sentiment',\n",
       " 'I feel headache and getting angry soon. ': 'Negative sentiment',\n",
       " 'Leave me alone else I wil shout on you': 'Neutral sentiment',\n",
       " 'Leave me alone else I wil shout on you due to angry.': 'Negative sentiment'}"
      ]
     },
     "execution_count": 20,
     "metadata": {},
     "output_type": "execute_result"
    }
   ],
   "source": [
    "from textblob import TextBlob\n",
    "\n",
    "# Sample text\n",
    "data=dict()\n",
    "text = [\"I like action movies\",\n",
    "        \"I love this product, it's amazing!\",\n",
    "        \"I watched a movie last night when I was sleepy mood. \",\n",
    "        \"I feel headache and getting angry soon. \",\n",
    "        \"Leave me alone else I wil shout on you\",\n",
    "        \"Leave me alone else I wil shout on you due to angry.\"]\n",
    "for i in text:\n",
    "    # Create a TextBlob object\n",
    "    blob = TextBlob(i)\n",
    "\n",
    "    # Get the sentiment polarity (ranges from -1 to 1)\n",
    "    sentiment = blob.sentiment.polarity\n",
    "    print(\"Sentiment score : \",sentiment,end=\"\")\n",
    "    # Output the sentiment\n",
    "    if sentiment > 0:\n",
    "        print(\" ; Positive sentiment : \",i)\n",
    "        data.update({i:\"Positive sentiment\"})\n",
    "    elif sentiment < 0:\n",
    "        print(\" ; Negative sentiment : \",i)\n",
    "        data.update({i:\"Negative sentiment\"})\n",
    "    else:\n",
    "        print(\" ; Neutral sentiment : \",i)\n",
    "        data.update({i:\"Neutral sentiment\"})\n",
    "data"
   ]
  },
  {
   "cell_type": "code",
   "execution_count": null,
   "id": "22a43589",
   "metadata": {},
   "outputs": [
    {
     "name": "stdout",
     "output_type": "stream",
     "text": [
      "It was amazing  :  Positive sentiment\n",
      "Terrible service  :  Negative sentiment\n"
     ]
    }
   ],
   "source": [
    "from sklearn.feature_extraction.text import CountVectorizer\n",
    "from sklearn.naive_bayes import MultinomialNB\n",
    "\n",
    "# Sample data\n",
    "\n",
    "texts = list(data.keys())       #[\"I love this! amazing\", \"I hate this!\", \"Best experience\", \"Worst experience\"]\n",
    "labels = list(data.values())    #[\"positive\", \"negative\", \"positive\", \"negative\"]\n",
    "\n",
    "# Convert text to numbers\n",
    "vectorizer = CountVectorizer()\n",
    "X = vectorizer.fit_transform(texts)\n",
    "\n",
    "# Train model\n",
    "model = MultinomialNB()\n",
    "model.fit(X, labels)\n",
    "\n",
    "# Predict\n",
    "test = [\"It was amazing\", \"Terrible service\"]\n",
    "X_test = vectorizer.transform(test)\n",
    "for i,j in zip(test,model.predict(X_test)):\n",
    "    print(i,\" : \",j)\n"
   ]
  },
  {
   "cell_type": "markdown",
   "id": "e3f28fbc",
   "metadata": {},
   "source": [
    "# 4. Machine Translation"
   ]
  },
  {
   "cell_type": "code",
   "execution_count": null,
   "id": "186635e5",
   "metadata": {},
   "outputs": [
    {
     "name": "stderr",
     "output_type": "stream",
     "text": [
      "Error while downloading from https://cdn-lfs.hf.co/Helsinki-NLP/opus-mt-en-hi/46ae1116913bce01c9d848a78f62da2bd986d728bced4dc1acd5fedf4338ac5e?response-content-disposition=inline%3B+filename*%3DUTF-8%27%27model.safetensors%3B+filename%3D%22model.safetensors%22%3B&Expires=1745250400&Policy=eyJTdGF0ZW1lbnQiOlt7IkNvbmRpdGlvbiI6eyJEYXRlTGVzc1RoYW4iOnsiQVdTOkVwb2NoVGltZSI6MTc0NTI1MDQwMH19LCJSZXNvdXJjZSI6Imh0dHBzOi8vY2RuLWxmcy5oZi5jby9IZWxzaW5raS1OTFAvb3B1cy1tdC1lbi1oaS80NmFlMTExNjkxM2JjZTAxYzlkODQ4YTc4ZjYyZGEyYmQ5ODZkNzI4YmNlZDRkYzFhY2Q1ZmVkZjQzMzhhYzVlP3Jlc3BvbnNlLWNvbnRlbnQtZGlzcG9zaXRpb249KiJ9XX0_&Signature=R9qKhvZ2-Xx%7E1F8qVm%7ErxLv%7E9e%7EMrP31nBbmNIMa7i6LbSgG4Tr7KXvpzPRY4cEQdBv5EdN7xZ45GOvZ4PXJstYJIAyZhSRUZWYdcNusfJf82xgok7GiRzuHDqoPAseOS0YAW8Xx8QVH2-4BMsPJD5sQtU1EM7NSvNeCqm%7EZm4c4dK0M1-9cWs2si3hJbiLuAP1Tr5TVT%7E5bT3koa7zy67ANsAhe-nnvdI-AEHM-n4mxisjjVuQxY5lENjGJXrb9FSN69suD0WmYZ4bycOYtANYC%7EQL6qAZO6bNV7bme7BeUO6-obsC60%7ELdhf-BBMws2E10M06cp2ARtG8KyNbB9Q__&Key-Pair-Id=K3RPWS32NSSJCE: HTTPSConnectionPool(host='cdn-lfs.hf.co', port=443): Read timed out.\n",
      "Trying to resume download...\n"
     ]
    },
    {
     "name": "stdout",
     "output_type": "stream",
     "text": [
      "क्या यू ठीक है?\n"
     ]
    }
   ],
   "source": [
    "from transformers import MarianMTModel, MarianTokenizer\n",
    "import warnings\n",
    "warnings.filterwarnings(\"ignore\")\n",
    "\n",
    "# English to Hindi model\n",
    "model_name = 'Helsinki-NLP/opus-mt-en-hi'\n",
    "tokenizer = MarianTokenizer.from_pretrained(model_name)\n",
    "model = MarianMTModel.from_pretrained(model_name)\n",
    "\n",
    "# Translate\n",
    "text = \"How are you? Are u fine ?\"\n",
    "tokens = tokenizer.prepare_seq2seq_batch([text], return_tensors=\"pt\")\n",
    "translation = model.generate(**tokens)\n",
    "translated_text = tokenizer.decode(translation[0], skip_special_tokens=True)\n",
    "\n",
    "print(translated_text)  # Output: आप कैसे हैं?\n"
   ]
  },
  {
   "cell_type": "markdown",
   "id": "197c94b4",
   "metadata": {},
   "source": [
    "# 6. Named Entity Recognition (NER)"
   ]
  },
  {
   "cell_type": "markdown",
   "id": "a4486efe",
   "metadata": {},
   "source": [
    "# 7. Text Summarization"
   ]
  },
  {
   "cell_type": "markdown",
   "id": "db1b09a4",
   "metadata": {},
   "source": [
    "# 8. Speech Recognition"
   ]
  },
  {
   "cell_type": "markdown",
   "id": "a115ce3c",
   "metadata": {},
   "source": [
    "# 9. Autocorrect and Spell Check"
   ]
  },
  {
   "cell_type": "markdown",
   "id": "dd1aa3d8",
   "metadata": {},
   "source": [
    "# 10. Information Retrieval (Search Engines)"
   ]
  },
  {
   "cell_type": "markdown",
   "id": "0e954a46",
   "metadata": {},
   "source": []
  }
 ],
 "metadata": {
  "kernelspec": {
   "display_name": "base",
   "language": "python",
   "name": "python3"
  },
  "language_info": {
   "codemirror_mode": {
    "name": "ipython",
    "version": 3
   },
   "file_extension": ".py",
   "mimetype": "text/x-python",
   "name": "python",
   "nbconvert_exporter": "python",
   "pygments_lexer": "ipython3",
   "version": "3.11.4"
  }
 },
 "nbformat": 4,
 "nbformat_minor": 5
}
